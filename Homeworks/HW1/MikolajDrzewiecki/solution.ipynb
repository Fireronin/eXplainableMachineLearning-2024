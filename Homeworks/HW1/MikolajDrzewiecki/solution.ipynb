{
 "cells": [
  {
   "cell_type": "markdown",
   "source": [
    "Results"
   ],
   "metadata": {
    "collapsed": false
   },
   "id": "16853b6b761f2c5f"
  },
  {
   "cell_type": "markdown",
   "source": [
    "All images were obtained by running appendix.ipynb notebook."
   ],
   "metadata": {
    "collapsed": false
   },
   "id": "2f2f2be4366692bb"
  },
  {
   "cell_type": "markdown",
   "source": [
    "![alt text](img/accuracy.png \"Accuracy\")\n",
    "![alt text](img/precision.png \"Precision\")\n",
    "![alt text](img/recall.png \"Recall\")"
   ],
   "metadata": {
    "collapsed": false
   },
   "id": "15b211898b8dfe99"
  },
  {
   "cell_type": "markdown",
   "source": [
    "Logistic Regression model turned out to behave similarly to Random Forest. Both approaches display almost the same precision, recall and accuracy with a slight favour of Random Forest, although the latter shows a tendency to overfit the data a little. Models struggled to avoid false positive classifications which is probably caused by huge over-representation (about 93%) of negative values in dataset. However, the amount of those false positive cases may not be as tremendous as it seems at the first glance; precision around 0.5-0.6 indicates that they represent approximately 6-7% of samples. On the other hand, over-representation mentioned above should cause low recall which corresponds to measured metric."
   ],
   "metadata": {
    "collapsed": false
   },
   "id": "6ce221055b10631a"
  },
  {
   "cell_type": "markdown",
   "source": [
    "As probably expected, TabPFNClassifier classifier turned out to be the best, even though having been trained on several times smaller dataset. Accuracy close to one beats my models, although it has very high recall and low precision in comparison to them. Seemingly, the classifier makes more mistakes in qualifying false positives, but it is tremendously better in avoiding false negatives."
   ],
   "metadata": {
    "collapsed": false
   },
   "id": "ca205555a718a07a"
  }
 ],
 "metadata": {
  "kernelspec": {
   "display_name": "Python 3",
   "language": "python",
   "name": "python3"
  },
  "language_info": {
   "codemirror_mode": {
    "name": "ipython",
    "version": 2
   },
   "file_extension": ".py",
   "mimetype": "text/x-python",
   "name": "python",
   "nbconvert_exporter": "python",
   "pygments_lexer": "ipython2",
   "version": "2.7.6"
  }
 },
 "nbformat": 4,
 "nbformat_minor": 5
}
