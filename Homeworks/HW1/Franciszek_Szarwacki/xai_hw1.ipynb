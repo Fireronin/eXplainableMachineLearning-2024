{
  "nbformat": 4,
  "nbformat_minor": 0,
  "metadata": {
    "colab": {
      "provenance": []
    },
    "kernelspec": {
      "name": "python3",
      "display_name": "Python 3"
    },
    "language_info": {
      "name": "python"
    }
  },
  "cells": [
    {
      "cell_type": "markdown",
      "source": [
        "# Report\n",
        "\n",
        "## Dataset\n",
        "The dataset used in this homework is **yeast_me2** from [imblearn](https://imbalanced-learn.org/stable/) package. There are 8 features and 1484 samples in it. The dataset is highly imbalanced, with ratio of classes 28.1:1. Due to this imbalance we perform experiments using oversampling method [SMOTE](https://imbalanced-learn.org/stable/references/generated/imblearn.over_sampling.SMOTE.html#imblearn.over_sampling.SMOTE) as well as without it and compare results.\n",
        "\n",
        "## Models\n",
        "We use the following models to perform prediction on the dataset:\n",
        "*   Logistic regression (from [sklearn](https://scikit-learn.org/stable/) package) - probably the simplest gradient method for classification,\n",
        "*   Random forest (as above) - another simple method,\n",
        "*   [XGBoost](https://xgboost.readthedocs.io/en/stable/python/python_api.html),\n",
        "*   [TabPFN](https://github.com/automl/TabPFN)\n",
        "\n",
        "## Metrics\n",
        "We use the following metrics in order to properly showcase performance in inbalanced dataset setup:\n",
        "*   accuracy,\n",
        "*   confusion matrix,\n",
        "*   F1 score,\n",
        "*   area under RoC curve\n",
        "*   recall,\n",
        "*   precision\n",
        "\n",
        "## Results\n",
        "\n",
        "|                                          |   Accuracy |   F1 score |   Area under RoC curve |   Recall |   Precision |\n",
        "|:-----------------------------------------|-----------:|-----------:|-----------------------:|---------:|------------:|\n",
        "| ('Logistic regression', 'without SMOTE') |   0.97551  |   0        |               0.5      | 0        |    0        |\n",
        "| ('Logistic regression', 'with SMOTE')    |   0.873469 |   0.225    |               0.813285 | 0.75     |    0.132353 |\n",
        "| ('Random forest', 'without SMOTE')       |   0.97551  |   0        |               0.5      | 0        |    0        |\n",
        "| ('Random forest', 'with SMOTE')          |   0.883673 |   0.25974  |               0.859135 | 0.833333 |    0.153846 |\n",
        "| ('XGBoost', 'without SMOTE')             |   0.973469 |   0.434783 |               0.702057 | 0.416667 |    0.454545 |\n",
        "| ('XGBoost', 'with SMOTE')                |   0.959184 |   0.375    |               0.735356 | 0.5      |    0.3      |\n",
        "| ('TabPFN', 'without SMOTE')              |   0.97551  |   0.333333 |               0.621862 | 0.25     |    0.5      |\n",
        "| ('TabPFN', 'with SMOTE')                 |   0.967347 |   0.428571 |               0.73954  | 0.5      |    0.375    |\n",
        "\n",
        "## Discussion\n",
        "\n"
      ],
      "metadata": {
        "id": "OMEyJIm8xIAH"
      }
    },
    {
      "cell_type": "markdown",
      "source": [
        "# Appendix"
      ],
      "metadata": {
        "id": "n5DB-L8YWrgn"
      }
    },
    {
      "cell_type": "markdown",
      "source": [
        "## Imports and data loading"
      ],
      "metadata": {
        "id": "bVb16BmgWoF1"
      }
    },
    {
      "cell_type": "code",
      "execution_count": 1,
      "metadata": {
        "id": "1bymS8Lt7a0A",
        "colab": {
          "base_uri": "https://localhost:8080/"
        },
        "outputId": "e0dc06ec-b189-45f0-9619-3f67bcd7839e"
      },
      "outputs": [
        {
          "output_type": "stream",
          "name": "stdout",
          "text": [
            "Requirement already satisfied: imbalanced-learn in /usr/local/lib/python3.10/dist-packages (0.10.1)\n",
            "Collecting imbalanced-learn\n",
            "  Downloading imbalanced_learn-0.11.0-py3-none-any.whl (235 kB)\n",
            "\u001b[2K     \u001b[90m━━━━━━━━━━━━━━━━━━━━━━━━━━━━━━━━━━━━━━━\u001b[0m \u001b[32m235.6/235.6 kB\u001b[0m \u001b[31m3.7 MB/s\u001b[0m eta \u001b[36m0:00:00\u001b[0m\n",
            "\u001b[?25hRequirement already satisfied: numpy>=1.17.3 in /usr/local/lib/python3.10/dist-packages (from imbalanced-learn) (1.23.5)\n",
            "Requirement already satisfied: scipy>=1.5.0 in /usr/local/lib/python3.10/dist-packages (from imbalanced-learn) (1.11.3)\n",
            "Requirement already satisfied: scikit-learn>=1.0.2 in /usr/local/lib/python3.10/dist-packages (from imbalanced-learn) (1.2.2)\n",
            "Requirement already satisfied: joblib>=1.1.1 in /usr/local/lib/python3.10/dist-packages (from imbalanced-learn) (1.3.2)\n",
            "Requirement already satisfied: threadpoolctl>=2.0.0 in /usr/local/lib/python3.10/dist-packages (from imbalanced-learn) (3.2.0)\n",
            "Installing collected packages: imbalanced-learn\n",
            "  Attempting uninstall: imbalanced-learn\n",
            "    Found existing installation: imbalanced-learn 0.10.1\n",
            "    Uninstalling imbalanced-learn-0.10.1:\n",
            "      Successfully uninstalled imbalanced-learn-0.10.1\n",
            "Successfully installed imbalanced-learn-0.11.0\n",
            "Collecting tabpfn\n",
            "  Downloading tabpfn-0.1.9-py3-none-any.whl (156 kB)\n",
            "\u001b[2K     \u001b[90m━━━━━━━━━━━━━━━━━━━━━━━━━━━━━━━━━━━━━━━\u001b[0m \u001b[32m156.6/156.6 kB\u001b[0m \u001b[31m3.4 MB/s\u001b[0m eta \u001b[36m0:00:00\u001b[0m\n",
            "\u001b[?25hRequirement already satisfied: numpy>=1.21.2 in /usr/local/lib/python3.10/dist-packages (from tabpfn) (1.23.5)\n",
            "Requirement already satisfied: pyyaml>=5.4.1 in /usr/local/lib/python3.10/dist-packages (from tabpfn) (6.0.1)\n",
            "Requirement already satisfied: requests>=2.23.0 in /usr/local/lib/python3.10/dist-packages (from tabpfn) (2.31.0)\n",
            "Requirement already satisfied: scikit-learn>=0.24.2 in /usr/local/lib/python3.10/dist-packages (from tabpfn) (1.2.2)\n",
            "Requirement already satisfied: torch>=1.9.0 in /usr/local/lib/python3.10/dist-packages (from tabpfn) (2.0.1+cu118)\n",
            "Requirement already satisfied: charset-normalizer<4,>=2 in /usr/local/lib/python3.10/dist-packages (from requests>=2.23.0->tabpfn) (3.3.0)\n",
            "Requirement already satisfied: idna<4,>=2.5 in /usr/local/lib/python3.10/dist-packages (from requests>=2.23.0->tabpfn) (3.4)\n",
            "Requirement already satisfied: urllib3<3,>=1.21.1 in /usr/local/lib/python3.10/dist-packages (from requests>=2.23.0->tabpfn) (2.0.6)\n",
            "Requirement already satisfied: certifi>=2017.4.17 in /usr/local/lib/python3.10/dist-packages (from requests>=2.23.0->tabpfn) (2023.7.22)\n",
            "Requirement already satisfied: scipy>=1.3.2 in /usr/local/lib/python3.10/dist-packages (from scikit-learn>=0.24.2->tabpfn) (1.11.3)\n",
            "Requirement already satisfied: joblib>=1.1.1 in /usr/local/lib/python3.10/dist-packages (from scikit-learn>=0.24.2->tabpfn) (1.3.2)\n",
            "Requirement already satisfied: threadpoolctl>=2.0.0 in /usr/local/lib/python3.10/dist-packages (from scikit-learn>=0.24.2->tabpfn) (3.2.0)\n",
            "Requirement already satisfied: filelock in /usr/local/lib/python3.10/dist-packages (from torch>=1.9.0->tabpfn) (3.12.4)\n",
            "Requirement already satisfied: typing-extensions in /usr/local/lib/python3.10/dist-packages (from torch>=1.9.0->tabpfn) (4.5.0)\n",
            "Requirement already satisfied: sympy in /usr/local/lib/python3.10/dist-packages (from torch>=1.9.0->tabpfn) (1.12)\n",
            "Requirement already satisfied: networkx in /usr/local/lib/python3.10/dist-packages (from torch>=1.9.0->tabpfn) (3.1)\n",
            "Requirement already satisfied: jinja2 in /usr/local/lib/python3.10/dist-packages (from torch>=1.9.0->tabpfn) (3.1.2)\n",
            "Requirement already satisfied: triton==2.0.0 in /usr/local/lib/python3.10/dist-packages (from torch>=1.9.0->tabpfn) (2.0.0)\n",
            "Requirement already satisfied: cmake in /usr/local/lib/python3.10/dist-packages (from triton==2.0.0->torch>=1.9.0->tabpfn) (3.27.6)\n",
            "Requirement already satisfied: lit in /usr/local/lib/python3.10/dist-packages (from triton==2.0.0->torch>=1.9.0->tabpfn) (17.0.2)\n",
            "Requirement already satisfied: MarkupSafe>=2.0 in /usr/local/lib/python3.10/dist-packages (from jinja2->torch>=1.9.0->tabpfn) (2.1.3)\n",
            "Requirement already satisfied: mpmath>=0.19 in /usr/local/lib/python3.10/dist-packages (from sympy->torch>=1.9.0->tabpfn) (1.3.0)\n",
            "Installing collected packages: tabpfn\n",
            "Successfully installed tabpfn-0.1.9\n",
            "Requirement already satisfied: xgboost in /usr/local/lib/python3.10/dist-packages (2.0.0)\n",
            "Requirement already satisfied: numpy in /usr/local/lib/python3.10/dist-packages (from xgboost) (1.23.5)\n",
            "Requirement already satisfied: scipy in /usr/local/lib/python3.10/dist-packages (from xgboost) (1.11.3)\n"
          ]
        }
      ],
      "source": [
        "!pip install -U imbalanced-learn\n",
        "!pip install tabpfn\n",
        "!pip install xgboost"
      ]
    },
    {
      "cell_type": "code",
      "source": [
        "from imblearn.datasets import fetch_datasets\n",
        "\n",
        "imblearn_datasets = fetch_datasets()"
      ],
      "metadata": {
        "id": "kyf-Hf_57k10"
      },
      "execution_count": 2,
      "outputs": []
    },
    {
      "cell_type": "code",
      "source": [
        "from collections import Counter\n",
        "\n",
        "yeast_me2 = imblearn_datasets['yeast_me2']\n",
        "print(\"dataset shape: \", yeast_me2.data.shape)\n",
        "smaller, bigger = list(sorted(Counter(yeast_me2.target).values()))\n",
        "print(f\"{bigger=}, {smaller=}, imbalance ratio={bigger/smaller:.2f}\")"
      ],
      "metadata": {
        "colab": {
          "base_uri": "https://localhost:8080/"
        },
        "id": "LAsbH9KX7-Hw",
        "outputId": "78d40e8a-ad29-4c80-c09f-69c8a49ad174"
      },
      "execution_count": 3,
      "outputs": [
        {
          "output_type": "stream",
          "name": "stdout",
          "text": [
            "dataset shape:  (1484, 8)\n",
            "bigger=1433, smaller=51, imbalance ratio=28.10\n"
          ]
        }
      ]
    },
    {
      "cell_type": "code",
      "source": [
        "from sklearn.model_selection import train_test_split\n",
        "from imblearn.over_sampling import SMOTE\n",
        "\n",
        "X, y = yeast_me2.data, yeast_me2.target\n",
        "y[y == -1] = 0\n",
        "\n",
        "X_train, X_test, y_train, y_test = train_test_split(X, y, test_size=0.33, random_state=42)\n",
        "\n",
        "X_resampled, y_resampled = SMOTE().fit_resample(X_train, y_train)"
      ],
      "metadata": {
        "id": "PA3Egaux_18b"
      },
      "execution_count": 4,
      "outputs": []
    },
    {
      "cell_type": "code",
      "source": [
        "from sklearn.metrics import accuracy_score, confusion_matrix, f1_score, roc_auc_score, recall_score, precision_score\n",
        "\n",
        "def evaluate_method(method_name, y_test, y_eval, verbose=False):\n",
        "    results = {\n",
        "        func.__name__: func(y_test, y_eval) for func in [\n",
        "            accuracy_score,\n",
        "            confusion_matrix,\n",
        "            f1_score,\n",
        "            roc_auc_score,\n",
        "            recall_score,\n",
        "            precision_score\n",
        "        ]\n",
        "    }\n",
        "\n",
        "    if verbose:\n",
        "        print(method_name, ' results:')\n",
        "        for func_name, score in results.items():\n",
        "            print(\"\\t\", func_name, \": \", score)\n",
        "\n",
        "    return results"
      ],
      "metadata": {
        "id": "Tl3xbp4uCpEg"
      },
      "execution_count": 5,
      "outputs": []
    },
    {
      "cell_type": "markdown",
      "source": [
        "## Logistic regression"
      ],
      "metadata": {
        "id": "9AyvrvKCAu_t"
      }
    },
    {
      "cell_type": "code",
      "source": [
        "from sklearn.linear_model import LogisticRegression\n",
        "\n",
        "# Without SMOTE.\n",
        "logistic_regression = LogisticRegression(random_state=42).fit(X_train, y_train)\n",
        "y_eval_logistic_regression = logistic_regression.predict(X_test)\n",
        "results_logistic_regression = evaluate_method('Logistic regression', y_test, y_eval_logistic_regression)\n",
        "\n",
        "# With SMOTE.\n",
        "logistic_regression_smote = LogisticRegression(random_state=42).fit(X_resampled, y_resampled)\n",
        "y_eval_logistic_regression_smote = logistic_regression_smote.predict(X_test)\n",
        "results_logistic_regression_smote = evaluate_method('Logistic regression with SMOTE', y_test, y_eval_logistic_regression_smote)"
      ],
      "metadata": {
        "colab": {
          "base_uri": "https://localhost:8080/"
        },
        "id": "7ijciIK6Ayfh",
        "outputId": "ba83b91c-1e98-4796-c965-ebedc5b7e8bf"
      },
      "execution_count": 6,
      "outputs": [
        {
          "output_type": "stream",
          "name": "stderr",
          "text": [
            "/usr/local/lib/python3.10/dist-packages/sklearn/metrics/_classification.py:1344: UndefinedMetricWarning: Precision is ill-defined and being set to 0.0 due to no predicted samples. Use `zero_division` parameter to control this behavior.\n",
            "  _warn_prf(average, modifier, msg_start, len(result))\n"
          ]
        }
      ]
    },
    {
      "cell_type": "markdown",
      "source": [
        "## Random forest"
      ],
      "metadata": {
        "id": "TEdvQsbiQ6Xc"
      }
    },
    {
      "cell_type": "code",
      "source": [
        "from sklearn.ensemble import RandomForestClassifier\n",
        "\n",
        "# Without SMOTE.\n",
        "random_forest = RandomForestClassifier(max_depth=4, random_state=42).fit(X_train, y_train)\n",
        "y_eval_random_forest = random_forest.predict(X_test)\n",
        "results_random_forest = evaluate_method('Random forest', y_test, y_eval_random_forest)\n",
        "\n",
        "# With SMOTE.\n",
        "random_forest_smote = RandomForestClassifier(max_depth=4, random_state=42).fit(X_resampled, y_resampled)\n",
        "y_eval_random_forest_smote = random_forest_smote.predict(X_test)\n",
        "results_random_forest_smote = evaluate_method('Random forest with SMOTE', y_test, y_eval_random_forest_smote)"
      ],
      "metadata": {
        "colab": {
          "base_uri": "https://localhost:8080/"
        },
        "id": "zF9pTKrPQ5kT",
        "outputId": "1815666f-28b9-4824-b38c-f20686bb135d"
      },
      "execution_count": 7,
      "outputs": [
        {
          "output_type": "stream",
          "name": "stderr",
          "text": [
            "/usr/local/lib/python3.10/dist-packages/sklearn/metrics/_classification.py:1344: UndefinedMetricWarning: Precision is ill-defined and being set to 0.0 due to no predicted samples. Use `zero_division` parameter to control this behavior.\n",
            "  _warn_prf(average, modifier, msg_start, len(result))\n"
          ]
        }
      ]
    },
    {
      "cell_type": "markdown",
      "source": [
        "## Gradient boosting"
      ],
      "metadata": {
        "id": "7_fsVw1YVvrN"
      }
    },
    {
      "cell_type": "code",
      "source": [
        "from xgboost import XGBClassifier\n",
        "\n",
        "# Without SMOTE.\n",
        "XGBoost_model = XGBClassifier().fit(X_train, y_train)\n",
        "y_eval_XGBoost = XGBoost_model.predict(X_test)\n",
        "results_XGBoost = evaluate_method('XGBoost', y_test, y_eval_XGBoost)\n",
        "\n",
        "# With SMOTE.\n",
        "XGBoost_model_smote = XGBClassifier().fit(X_resampled, y_resampled)\n",
        "y_eval_XGBoost_smote = XGBoost_model_smote.predict(X_test)\n",
        "results_XGBoost_smote = evaluate_method('XGBoost with SMOTE', y_test, y_eval_XGBoost_smote)"
      ],
      "metadata": {
        "id": "8mqaFdNzVx3J"
      },
      "execution_count": 8,
      "outputs": []
    },
    {
      "cell_type": "markdown",
      "source": [
        "## TabPFN"
      ],
      "metadata": {
        "id": "P9G1OzK7AqSa"
      }
    },
    {
      "cell_type": "code",
      "source": [
        "from tabpfn import TabPFNClassifier\n",
        "\n",
        "# Without SMOTE.\n",
        "tab_pfn = TabPFNClassifier(device='cpu', N_ensemble_configurations=8).fit(X_train, y_train)\n",
        "y_eval_tab_pfn = tab_pfn.predict(X_test)\n",
        "results_tab_pfn = evaluate_method('TabPFN', y_test, y_eval_tab_pfn)\n",
        "\n",
        "# With SMOTE\n",
        "tab_pfn_smote = TabPFNClassifier(device='cpu', N_ensemble_configurations=8).fit(X_resampled, y_resampled, overwrite_warning=True)\n",
        "y_eval_tab_pfn_smote = tab_pfn_smote.predict(X_test)\n",
        "results_tab_pfn_smote = evaluate_method('TabPFN with SMOTE', y_test, y_eval_tab_pfn_smote)"
      ],
      "metadata": {
        "colab": {
          "base_uri": "https://localhost:8080/"
        },
        "id": "Xxl9-MDn9gAW",
        "outputId": "0ce3ef03-bafd-4377-fc27-a3959853d3cb"
      },
      "execution_count": 9,
      "outputs": [
        {
          "output_type": "stream",
          "name": "stdout",
          "text": [
            "We have to download the TabPFN, as there is no checkpoint at  /usr/local/lib/python3.10/dist-packages/tabpfn/models_diff/prior_diff_real_checkpoint_n_0_epoch_100.cpkt\n",
            "It has about 100MB, so this might take a moment.\n",
            "Loading model that can be used for inference only\n",
            "Using a Transformer with 25.82 M parameters\n",
            "Loading model that can be used for inference only\n",
            "Using a Transformer with 25.82 M parameters\n"
          ]
        }
      ]
    },
    {
      "cell_type": "markdown",
      "source": [
        "## Comparison of results"
      ],
      "metadata": {
        "id": "uxnwLU2N6jqQ"
      }
    },
    {
      "cell_type": "code",
      "source": [
        "import pandas as pd\n",
        "\n",
        "pd.options.display.float_format = '{:,.2f}'.format\n",
        "\n",
        "results_dict = {\n",
        "    (\"Logistic regression\", \"without SMOTE\"): results_logistic_regression,\n",
        "    (\"Logistic regression\", \"with SMOTE\"): results_logistic_regression_smote,\n",
        "    (\"Random forest\", \"without SMOTE\"): results_random_forest,\n",
        "    (\"Random forest\", \"with SMOTE\"): results_random_forest_smote,\n",
        "    (\"XGBoost\", \"without SMOTE\"): results_XGBoost,\n",
        "    (\"XGBoost\", \"with SMOTE\"): results_XGBoost_smote,\n",
        "    (\"TabPFN\", \"without SMOTE\"): results_tab_pfn,\n",
        "    (\"TabPFN\", \"with SMOTE\"): results_tab_pfn_smote,\n",
        "}\n",
        "\n",
        "results = pd.DataFrame(results_dict).T.drop('confusion_matrix', axis=1).rename(columns={\n",
        "    'accuracy_score': 'Accuracy',\n",
        "    'f1_score': 'F1 score',\n",
        "    'roc_auc_score': 'Area under RoC curve',\n",
        "    'precision_score': 'Precision',\n",
        "    'recall_score': 'Recall'\n",
        "})\n",
        "\n",
        "display(results)"
      ],
      "metadata": {
        "colab": {
          "base_uri": "https://localhost:8080/",
          "height": 529
        },
        "id": "gAV-U3QC6i9I",
        "outputId": "eff1c258-5702-415a-f86c-32bfc88ddc5c"
      },
      "execution_count": 10,
      "outputs": [
        {
          "output_type": "stream",
          "name": "stderr",
          "text": [
            "/usr/local/lib/python3.10/dist-packages/ipykernel/ipkernel.py:283: DeprecationWarning: `should_run_async` will not call `transform_cell` automatically in the future. Please pass the result to `transformed_cell` argument and any exception that happen during thetransform in `preprocessing_exc_tuple` in IPython 7.17 and above.\n",
            "  and should_run_async(code)\n",
            "<frozen importlib._bootstrap>:914: ImportWarning: APICoreClientInfoImportHook.find_spec() not found; falling back to find_module()\n",
            "<frozen importlib._bootstrap>:914: ImportWarning: _PyDriveImportHook.find_spec() not found; falling back to find_module()\n",
            "<frozen importlib._bootstrap>:914: ImportWarning: _OpenCVImportHook.find_spec() not found; falling back to find_module()\n",
            "<frozen importlib._bootstrap>:914: ImportWarning: _BokehImportHook.find_spec() not found; falling back to find_module()\n",
            "<frozen importlib._bootstrap>:914: ImportWarning: _AltairImportHook.find_spec() not found; falling back to find_module()\n",
            "<frozen importlib._bootstrap>:914: ImportWarning: APICoreClientInfoImportHook.find_spec() not found; falling back to find_module()\n",
            "<frozen importlib._bootstrap>:914: ImportWarning: _PyDriveImportHook.find_spec() not found; falling back to find_module()\n",
            "<frozen importlib._bootstrap>:914: ImportWarning: _OpenCVImportHook.find_spec() not found; falling back to find_module()\n",
            "<frozen importlib._bootstrap>:914: ImportWarning: _BokehImportHook.find_spec() not found; falling back to find_module()\n",
            "<frozen importlib._bootstrap>:914: ImportWarning: _AltairImportHook.find_spec() not found; falling back to find_module()\n"
          ]
        },
        {
          "output_type": "display_data",
          "data": {
            "text/plain": [
              "                                  Accuracy F1 score Area under RoC curve  \\\n",
              "Logistic regression without SMOTE     0.98     0.00                 0.50   \n",
              "                    with SMOTE        0.87     0.23                 0.81   \n",
              "Random forest       without SMOTE     0.98     0.00                 0.50   \n",
              "                    with SMOTE        0.88     0.26                 0.86   \n",
              "XGBoost             without SMOTE     0.97     0.43                 0.70   \n",
              "                    with SMOTE        0.96     0.37                 0.74   \n",
              "TabPFN              without SMOTE     0.98     0.33                 0.62   \n",
              "                    with SMOTE        0.97     0.43                 0.74   \n",
              "\n",
              "                                  Recall Precision  \n",
              "Logistic regression without SMOTE   0.00      0.00  \n",
              "                    with SMOTE      0.75      0.13  \n",
              "Random forest       without SMOTE   0.00      0.00  \n",
              "                    with SMOTE      0.83      0.15  \n",
              "XGBoost             without SMOTE   0.42      0.45  \n",
              "                    with SMOTE      0.50      0.30  \n",
              "TabPFN              without SMOTE   0.25      0.50  \n",
              "                    with SMOTE      0.50      0.38  "
            ],
            "text/html": [
              "\n",
              "  <div id=\"df-bf1195b5-6fc4-4ef7-97e1-7456cfa26a69\" class=\"colab-df-container\">\n",
              "    <div>\n",
              "<style scoped>\n",
              "    .dataframe tbody tr th:only-of-type {\n",
              "        vertical-align: middle;\n",
              "    }\n",
              "\n",
              "    .dataframe tbody tr th {\n",
              "        vertical-align: top;\n",
              "    }\n",
              "\n",
              "    .dataframe thead th {\n",
              "        text-align: right;\n",
              "    }\n",
              "</style>\n",
              "<table border=\"1\" class=\"dataframe\">\n",
              "  <thead>\n",
              "    <tr style=\"text-align: right;\">\n",
              "      <th></th>\n",
              "      <th></th>\n",
              "      <th>Accuracy</th>\n",
              "      <th>F1 score</th>\n",
              "      <th>Area under RoC curve</th>\n",
              "      <th>Recall</th>\n",
              "      <th>Precision</th>\n",
              "    </tr>\n",
              "  </thead>\n",
              "  <tbody>\n",
              "    <tr>\n",
              "      <th rowspan=\"2\" valign=\"top\">Logistic regression</th>\n",
              "      <th>without SMOTE</th>\n",
              "      <td>0.98</td>\n",
              "      <td>0.00</td>\n",
              "      <td>0.50</td>\n",
              "      <td>0.00</td>\n",
              "      <td>0.00</td>\n",
              "    </tr>\n",
              "    <tr>\n",
              "      <th>with SMOTE</th>\n",
              "      <td>0.87</td>\n",
              "      <td>0.23</td>\n",
              "      <td>0.81</td>\n",
              "      <td>0.75</td>\n",
              "      <td>0.13</td>\n",
              "    </tr>\n",
              "    <tr>\n",
              "      <th rowspan=\"2\" valign=\"top\">Random forest</th>\n",
              "      <th>without SMOTE</th>\n",
              "      <td>0.98</td>\n",
              "      <td>0.00</td>\n",
              "      <td>0.50</td>\n",
              "      <td>0.00</td>\n",
              "      <td>0.00</td>\n",
              "    </tr>\n",
              "    <tr>\n",
              "      <th>with SMOTE</th>\n",
              "      <td>0.88</td>\n",
              "      <td>0.26</td>\n",
              "      <td>0.86</td>\n",
              "      <td>0.83</td>\n",
              "      <td>0.15</td>\n",
              "    </tr>\n",
              "    <tr>\n",
              "      <th rowspan=\"2\" valign=\"top\">XGBoost</th>\n",
              "      <th>without SMOTE</th>\n",
              "      <td>0.97</td>\n",
              "      <td>0.43</td>\n",
              "      <td>0.70</td>\n",
              "      <td>0.42</td>\n",
              "      <td>0.45</td>\n",
              "    </tr>\n",
              "    <tr>\n",
              "      <th>with SMOTE</th>\n",
              "      <td>0.96</td>\n",
              "      <td>0.37</td>\n",
              "      <td>0.74</td>\n",
              "      <td>0.50</td>\n",
              "      <td>0.30</td>\n",
              "    </tr>\n",
              "    <tr>\n",
              "      <th rowspan=\"2\" valign=\"top\">TabPFN</th>\n",
              "      <th>without SMOTE</th>\n",
              "      <td>0.98</td>\n",
              "      <td>0.33</td>\n",
              "      <td>0.62</td>\n",
              "      <td>0.25</td>\n",
              "      <td>0.50</td>\n",
              "    </tr>\n",
              "    <tr>\n",
              "      <th>with SMOTE</th>\n",
              "      <td>0.97</td>\n",
              "      <td>0.43</td>\n",
              "      <td>0.74</td>\n",
              "      <td>0.50</td>\n",
              "      <td>0.38</td>\n",
              "    </tr>\n",
              "  </tbody>\n",
              "</table>\n",
              "</div>\n",
              "    <div class=\"colab-df-buttons\">\n",
              "\n",
              "  <div class=\"colab-df-container\">\n",
              "    <button class=\"colab-df-convert\" onclick=\"convertToInteractive('df-bf1195b5-6fc4-4ef7-97e1-7456cfa26a69')\"\n",
              "            title=\"Convert this dataframe to an interactive table.\"\n",
              "            style=\"display:none;\">\n",
              "\n",
              "  <svg xmlns=\"http://www.w3.org/2000/svg\" height=\"24px\" viewBox=\"0 -960 960 960\">\n",
              "    <path d=\"M120-120v-720h720v720H120Zm60-500h600v-160H180v160Zm220 220h160v-160H400v160Zm0 220h160v-160H400v160ZM180-400h160v-160H180v160Zm440 0h160v-160H620v160ZM180-180h160v-160H180v160Zm440 0h160v-160H620v160Z\"/>\n",
              "  </svg>\n",
              "    </button>\n",
              "\n",
              "  <style>\n",
              "    .colab-df-container {\n",
              "      display:flex;\n",
              "      gap: 12px;\n",
              "    }\n",
              "\n",
              "    .colab-df-convert {\n",
              "      background-color: #E8F0FE;\n",
              "      border: none;\n",
              "      border-radius: 50%;\n",
              "      cursor: pointer;\n",
              "      display: none;\n",
              "      fill: #1967D2;\n",
              "      height: 32px;\n",
              "      padding: 0 0 0 0;\n",
              "      width: 32px;\n",
              "    }\n",
              "\n",
              "    .colab-df-convert:hover {\n",
              "      background-color: #E2EBFA;\n",
              "      box-shadow: 0px 1px 2px rgba(60, 64, 67, 0.3), 0px 1px 3px 1px rgba(60, 64, 67, 0.15);\n",
              "      fill: #174EA6;\n",
              "    }\n",
              "\n",
              "    .colab-df-buttons div {\n",
              "      margin-bottom: 4px;\n",
              "    }\n",
              "\n",
              "    [theme=dark] .colab-df-convert {\n",
              "      background-color: #3B4455;\n",
              "      fill: #D2E3FC;\n",
              "    }\n",
              "\n",
              "    [theme=dark] .colab-df-convert:hover {\n",
              "      background-color: #434B5C;\n",
              "      box-shadow: 0px 1px 3px 1px rgba(0, 0, 0, 0.15);\n",
              "      filter: drop-shadow(0px 1px 2px rgba(0, 0, 0, 0.3));\n",
              "      fill: #FFFFFF;\n",
              "    }\n",
              "  </style>\n",
              "\n",
              "    <script>\n",
              "      const buttonEl =\n",
              "        document.querySelector('#df-bf1195b5-6fc4-4ef7-97e1-7456cfa26a69 button.colab-df-convert');\n",
              "      buttonEl.style.display =\n",
              "        google.colab.kernel.accessAllowed ? 'block' : 'none';\n",
              "\n",
              "      async function convertToInteractive(key) {\n",
              "        const element = document.querySelector('#df-bf1195b5-6fc4-4ef7-97e1-7456cfa26a69');\n",
              "        const dataTable =\n",
              "          await google.colab.kernel.invokeFunction('convertToInteractive',\n",
              "                                                    [key], {});\n",
              "        if (!dataTable) return;\n",
              "\n",
              "        const docLinkHtml = 'Like what you see? Visit the ' +\n",
              "          '<a target=\"_blank\" href=https://colab.research.google.com/notebooks/data_table.ipynb>data table notebook</a>'\n",
              "          + ' to learn more about interactive tables.';\n",
              "        element.innerHTML = '';\n",
              "        dataTable['output_type'] = 'display_data';\n",
              "        await google.colab.output.renderOutput(dataTable, element);\n",
              "        const docLink = document.createElement('div');\n",
              "        docLink.innerHTML = docLinkHtml;\n",
              "        element.appendChild(docLink);\n",
              "      }\n",
              "    </script>\n",
              "  </div>\n",
              "\n",
              "\n",
              "<div id=\"df-fc35bb5b-7966-4175-a3dc-b2810f1fef48\">\n",
              "  <button class=\"colab-df-quickchart\" onclick=\"quickchart('df-fc35bb5b-7966-4175-a3dc-b2810f1fef48')\"\n",
              "            title=\"Suggest charts.\"\n",
              "            style=\"display:none;\">\n",
              "\n",
              "<svg xmlns=\"http://www.w3.org/2000/svg\" height=\"24px\"viewBox=\"0 0 24 24\"\n",
              "     width=\"24px\">\n",
              "    <g>\n",
              "        <path d=\"M19 3H5c-1.1 0-2 .9-2 2v14c0 1.1.9 2 2 2h14c1.1 0 2-.9 2-2V5c0-1.1-.9-2-2-2zM9 17H7v-7h2v7zm4 0h-2V7h2v10zm4 0h-2v-4h2v4z\"/>\n",
              "    </g>\n",
              "</svg>\n",
              "  </button>\n",
              "\n",
              "<style>\n",
              "  .colab-df-quickchart {\n",
              "      --bg-color: #E8F0FE;\n",
              "      --fill-color: #1967D2;\n",
              "      --hover-bg-color: #E2EBFA;\n",
              "      --hover-fill-color: #174EA6;\n",
              "      --disabled-fill-color: #AAA;\n",
              "      --disabled-bg-color: #DDD;\n",
              "  }\n",
              "\n",
              "  [theme=dark] .colab-df-quickchart {\n",
              "      --bg-color: #3B4455;\n",
              "      --fill-color: #D2E3FC;\n",
              "      --hover-bg-color: #434B5C;\n",
              "      --hover-fill-color: #FFFFFF;\n",
              "      --disabled-bg-color: #3B4455;\n",
              "      --disabled-fill-color: #666;\n",
              "  }\n",
              "\n",
              "  .colab-df-quickchart {\n",
              "    background-color: var(--bg-color);\n",
              "    border: none;\n",
              "    border-radius: 50%;\n",
              "    cursor: pointer;\n",
              "    display: none;\n",
              "    fill: var(--fill-color);\n",
              "    height: 32px;\n",
              "    padding: 0;\n",
              "    width: 32px;\n",
              "  }\n",
              "\n",
              "  .colab-df-quickchart:hover {\n",
              "    background-color: var(--hover-bg-color);\n",
              "    box-shadow: 0 1px 2px rgba(60, 64, 67, 0.3), 0 1px 3px 1px rgba(60, 64, 67, 0.15);\n",
              "    fill: var(--button-hover-fill-color);\n",
              "  }\n",
              "\n",
              "  .colab-df-quickchart-complete:disabled,\n",
              "  .colab-df-quickchart-complete:disabled:hover {\n",
              "    background-color: var(--disabled-bg-color);\n",
              "    fill: var(--disabled-fill-color);\n",
              "    box-shadow: none;\n",
              "  }\n",
              "\n",
              "  .colab-df-spinner {\n",
              "    border: 2px solid var(--fill-color);\n",
              "    border-color: transparent;\n",
              "    border-bottom-color: var(--fill-color);\n",
              "    animation:\n",
              "      spin 1s steps(1) infinite;\n",
              "  }\n",
              "\n",
              "  @keyframes spin {\n",
              "    0% {\n",
              "      border-color: transparent;\n",
              "      border-bottom-color: var(--fill-color);\n",
              "      border-left-color: var(--fill-color);\n",
              "    }\n",
              "    20% {\n",
              "      border-color: transparent;\n",
              "      border-left-color: var(--fill-color);\n",
              "      border-top-color: var(--fill-color);\n",
              "    }\n",
              "    30% {\n",
              "      border-color: transparent;\n",
              "      border-left-color: var(--fill-color);\n",
              "      border-top-color: var(--fill-color);\n",
              "      border-right-color: var(--fill-color);\n",
              "    }\n",
              "    40% {\n",
              "      border-color: transparent;\n",
              "      border-right-color: var(--fill-color);\n",
              "      border-top-color: var(--fill-color);\n",
              "    }\n",
              "    60% {\n",
              "      border-color: transparent;\n",
              "      border-right-color: var(--fill-color);\n",
              "    }\n",
              "    80% {\n",
              "      border-color: transparent;\n",
              "      border-right-color: var(--fill-color);\n",
              "      border-bottom-color: var(--fill-color);\n",
              "    }\n",
              "    90% {\n",
              "      border-color: transparent;\n",
              "      border-bottom-color: var(--fill-color);\n",
              "    }\n",
              "  }\n",
              "</style>\n",
              "\n",
              "  <script>\n",
              "    async function quickchart(key) {\n",
              "      const quickchartButtonEl =\n",
              "        document.querySelector('#' + key + ' button');\n",
              "      quickchartButtonEl.disabled = true;  // To prevent multiple clicks.\n",
              "      quickchartButtonEl.classList.add('colab-df-spinner');\n",
              "      try {\n",
              "        const charts = await google.colab.kernel.invokeFunction(\n",
              "            'suggestCharts', [key], {});\n",
              "      } catch (error) {\n",
              "        console.error('Error during call to suggestCharts:', error);\n",
              "      }\n",
              "      quickchartButtonEl.classList.remove('colab-df-spinner');\n",
              "      quickchartButtonEl.classList.add('colab-df-quickchart-complete');\n",
              "    }\n",
              "    (() => {\n",
              "      let quickchartButtonEl =\n",
              "        document.querySelector('#df-fc35bb5b-7966-4175-a3dc-b2810f1fef48 button');\n",
              "      quickchartButtonEl.style.display =\n",
              "        google.colab.kernel.accessAllowed ? 'block' : 'none';\n",
              "    })();\n",
              "  </script>\n",
              "</div>\n",
              "    </div>\n",
              "  </div>\n"
            ]
          },
          "metadata": {}
        }
      ]
    },
    {
      "cell_type": "code",
      "source": [
        "results.to_html()"
      ],
      "metadata": {
        "colab": {
          "base_uri": "https://localhost:8080/",
          "height": 177
        },
        "id": "Z_nxCH8lRE4_",
        "outputId": "fd384e13-b4f1-4ed5-9307-74ec6ca6c9cb"
      },
      "execution_count": 16,
      "outputs": [
        {
          "output_type": "stream",
          "name": "stderr",
          "text": [
            "/usr/local/lib/python3.10/dist-packages/ipykernel/ipkernel.py:283: DeprecationWarning: `should_run_async` will not call `transform_cell` automatically in the future. Please pass the result to `transformed_cell` argument and any exception that happen during thetransform in `preprocessing_exc_tuple` in IPython 7.17 and above.\n",
            "  and should_run_async(code)\n"
          ]
        },
        {
          "output_type": "execute_result",
          "data": {
            "text/plain": [
              "'<table border=\"1\" class=\"dataframe\">\\n  <thead>\\n    <tr style=\"text-align: right;\">\\n      <th></th>\\n      <th>Accuracy</th>\\n      <th>F1 score</th>\\n      <th>Area under RoC curve</th>\\n      <th>Recall</th>\\n      <th>Precision</th>\\n    </tr>\\n  </thead>\\n  <tbody>\\n    <tr>\\n      <th>Logistic regression without SMOTE</th>\\n      <td>0.98</td>\\n      <td>0.00</td>\\n      <td>0.50</td>\\n      <td>0.00</td>\\n      <td>0.00</td>\\n    </tr>\\n    <tr>\\n      <th>Logistic regression with SMOTE</th>\\n      <td>0.87</td>\\n      <td>0.23</td>\\n      <td>0.81</td>\\n      <td>0.75</td>\\n      <td>0.13</td>\\n    </tr>\\n    <tr>\\n      <th>Random forest without SMOTE</th>\\n      <td>0.98</td>\\n      <td>0.00</td>\\n      <td>0.50</td>\\n      <td>0.00</td>\\n      <td>0.00</td>\\n    </tr>\\n    <tr>\\n      <th>Random forest with SMOTE</th>\\n      <td>0.88</td>\\n      <td>0.26</td>\\n      <td>0.86</td>\\n      <td>0.83</td>\\n      <td>0.15</td>\\n    </tr>\\n    <tr>\\n      <th>XGBoost without SMOTE</th>\\n      <td>0.97</td>\\n      <td>0.43</td>\\n      <td>0.70</td>\\n      <td>0.42</td>\\n      <td>0.45</td>\\n    </tr>\\n    <tr>\\n      <th>XGBoost with SMOTE</th>\\n      <td>0.96</td>\\n      <td>0.37</td>\\n      <td>0.74</td>\\n      <td>0.50</td>\\n      <td>0.30</td>\\n    </tr>\\n    <tr>\\n      <th>TabPFN without SMOTE</th>\\n      <td>0.98</td>\\n      <td>0.33</td>\\n      <td>0.62</td>\\n      <td>0.25</td>\\n      <td>0.50</td>\\n    </tr>\\n    <tr>\\n      <th>TabPFN with SMOTE</th>\\n      <td>0.97</td>\\n      <td>0.43</td>\\n      <td>0.74</td>\\n      <td>0.50</td>\\n      <td>0.38</td>\\n    </tr>\\n  </tbody>\\n</table>'"
            ],
            "application/vnd.google.colaboratory.intrinsic+json": {
              "type": "string"
            }
          },
          "metadata": {},
          "execution_count": 16
        }
      ]
    },
    {
      "cell_type": "code",
      "source": [
        "\n",
        "from itertools import chain\n",
        "import matplotlib.pyplot as plt\n",
        "%matplotlib inline\n",
        "\n",
        "import seaborn as sns\n",
        "\n",
        "fig, axes = plt.subplots(4, 2, squeeze=True, figsize=(8, 20))\n",
        "\n",
        "for (method, results), ax in zip(results_dict.items(), chain(*axes)):\n",
        "    sns.heatmap(results['confusion_matrix'], ax=ax, annot=True, fmt=\".0f\", cbar=False, cmap=\"crest\",\n",
        "                square=True, xticklabels=['positive', 'negative'], yticklabels=['positive', 'negative'])\n",
        "    ax.set_title(' '.join(method))\n",
        "    ax.set(xlabel='Predicted', ylabel='Actual')\n",
        "\n",
        "fig.show()"
      ],
      "metadata": {
        "colab": {
          "base_uri": "https://localhost:8080/",
          "height": 1000
        },
        "id": "UCjO5ReWSb5U",
        "outputId": "c380d8d7-45de-4ebd-cb78-9b7ab5f40cda"
      },
      "execution_count": 45,
      "outputs": [
        {
          "output_type": "display_data",
          "data": {
            "text/plain": [
              "<Figure size 800x2000 with 8 Axes>"
            ],
            "image/png": "[encoded data removed]"
          },
          "metadata": {}
        }
      ]
    }
  ]
}