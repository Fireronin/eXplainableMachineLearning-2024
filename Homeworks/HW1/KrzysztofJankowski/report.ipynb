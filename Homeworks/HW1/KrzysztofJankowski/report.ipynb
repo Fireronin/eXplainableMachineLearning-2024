{
 "cells": [
  {
   "cell_type": "markdown",
   "source": [
    "# Report - HW 1 Krzysztof Jankowski"
   ],
   "metadata": {
    "collapsed": false
   },
   "id": "e5490ea2c60961f5"
  },
  {
   "cell_type": "markdown",
   "source": [
    "## 1. Introduction\n",
    "\n",
    "I decided to choose the 'pc1' dataset from OpenML which consists of data used for predicting software defects. The dataset consists of 21 features and 1109 samples. For each sample there is a true/false label associated with it indicating whether the software is defective or not. The dataset is imbalanced as can be seen on the histogram below."
   ],
   "metadata": {
    "collapsed": false
   },
   "id": "41eb51fd055dcaad"
  },
  {
   "cell_type": "markdown",
   "source": [
    "![alt text](imbalance_plot.png \"Histogram of classes.\")"
   ],
   "metadata": {
    "collapsed": false
   },
   "id": "269f58f62dc7e62e"
  },
  {
   "cell_type": "markdown",
   "source": [
    "There are 1032 instances with label false, and 77 with label true."
   ],
   "metadata": {
    "collapsed": false
   },
   "id": "12b0b45f3e0cb262"
  },
  {
   "cell_type": "markdown",
   "source": [
    "## 2. Data processing\n",
    "\n",
    "I split the data into train and test with test being 20% of all the data. As the data is highly imbalanced I created 2 variants of the split - one stratified and the other not stratified. In all models (except TabPFN which already normalizes data) I normalize data using StandardScaler. I also encode the labels using a LabelEncoder to have 0 and 1 labels. "
   ],
   "metadata": {
    "collapsed": false
   },
   "id": "7e8ceb4e408e3a42"
  },
  {
   "cell_type": "markdown",
   "source": [
    "## 3. Models\n",
    "\n",
    "I chose 4 models for classification: LogisticRegression, RandomForest, XGBoost and TabPFN. I used the default parameters for the models and report their performance below and later I performed a grid search over parameters to improve the models performance."
   ],
   "metadata": {
    "collapsed": false
   },
   "id": "c6f10ccbe51b573f"
  },
  {
   "cell_type": "markdown",
   "source": [
    "### 3.1. No stratification.\n",
    "\n",
    "| Model                               | Balanced Accuracy |\n",
    "|-------------------------------------|-------------------|\n",
    "| LogisticRegression                  | 0.548             |\n",
    "| LogisticRegression with grid search | 0.498             |\n",
    "| RandomForest                        | 0.548             |\n",
    "| RandomForest with grid search       | **0.612**         |\n",
    "| XGBoost                             | 0.598             |\n",
    "| XGBoost with grid search            | 0.593             |\n",
    "| TabPFN                              | 0.579             |"
   ],
   "metadata": {
    "collapsed": false
   },
   "id": "f0928a2066e8489f"
  },
  {
   "cell_type": "markdown",
   "source": [
    "### 3.1. With stratification.\n",
    "\n",
    "| Model                               | Balanced Accuracy |\n",
    "|-------------------------------------|-------------------|\n",
    "| LogisticRegression                  | 0.529             |\n",
    "| LogisticRegression with grid search | 0.562             |\n",
    "| RandomForest                        | 0.659             |\n",
    "| RandomForest with grid search       | 0.578             |\n",
    "| XGBoost                             | 0.724             |\n",
    "| XGBoost with grid search            | **0.786**         |\n",
    "| TabPFN                              | 0.600             |"
   ],
   "metadata": {
    "collapsed": false
   },
   "id": "b3ec9f10cc7c52d6"
  },
  {
   "cell_type": "markdown",
   "source": [
    "### 3.2. Optimized models hyperparameters.\n",
    "\n",
    "| Model              | Stratified | Hyperparameters                                     |\n",
    "|--------------------|------------|-----------------------------------------------------|\n",
    "| LogisticRegression | No         | {'C': 0.01, 'penalty': 'l2', 'solver': 'liblinear'} |\n",
    "| LogisticRegression | Yes        | {'C': 100, 'penalty': 'none', 'solver': 'lbfgs'}    |\n",
    "| RandomForest       | No         | {'max_depth': 10, 'n_estimators': 1}                |\n",
    "| RandomForest       | Yes        | {'max_depth': 10, 'n_estimators': 1}                |\n",
    "| XGBoost            | No         | {'alpha': 0, 'eta': 0.3, 'max_depth': 10}           |\n",
    "| XGBoost            | Yes        | {'alpha': 0, 'eta': 1, 'max_depth': 6}              |\n",
    "| TabPFN             | No         | {'N_ensemble_configurations': 2}                    |\n",
    "| TabPFN             | Yes        | {'N_ensemble_configurations': 2}                    |"
   ],
   "metadata": {
    "collapsed": false
   },
   "id": "442239f0dddf9320"
  },
  {
   "cell_type": "markdown",
   "source": [
    "## 4. Discussion\n",
    "\n",
    "Train/Test split with stratified option improves the classification by a lot. It is due to highly imbalanced dataset and therefore with stratification the task is easier and hence the boost in performance. I use the balanced accuracy score in order to account for the imbalance in the dataset. The best performing models are XGBoost and RandomForest. Also in some cases the grid searches did not improve the performance.\n",
    "\n",
    "TabPFN is performing decently but not that well as XGBoost or RandomForest. It might be due to the imbalance dataset or not sufficient number of samples. "
   ],
   "metadata": {
    "collapsed": false
   },
   "id": "84903126ff695bb1"
  },
  {
   "cell_type": "markdown",
   "source": [],
   "metadata": {
    "collapsed": false
   },
   "id": "9725c73978c3dbd7"
  }
 ],
 "metadata": {
  "kernelspec": {
   "display_name": "Python 3",
   "language": "python",
   "name": "python3"
  },
  "language_info": {
   "codemirror_mode": {
    "name": "ipython",
    "version": 2
   },
   "file_extension": ".py",
   "mimetype": "text/x-python",
   "name": "python",
   "nbconvert_exporter": "python",
   "pygments_lexer": "ipython2",
   "version": "2.7.6"
  }
 },
 "nbformat": 4,
 "nbformat_minor": 5
}
