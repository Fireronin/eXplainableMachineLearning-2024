{
 "cells": [
  {
   "cell_type": "code",
   "execution_count": null,
   "outputs": [],
   "source": [
    "from collections import Counter\n",
    "from tqdm import tqdm\n",
    "import pandas as pd\n",
    "import plotly.express as px\n",
    "\n",
    "from imblearn.datasets import fetch_datasets\n",
    "from sklearn.model_selection import train_test_split\n",
    "from sklearn.metrics import accuracy_score, precision_score, recall_score, f1_score\n",
    "\n",
    "from sklearn.linear_model import LogisticRegression\n",
    "from sklearn.ensemble import RandomForestClassifier\n",
    "from xgboost import XGBClassifier\n",
    "# from tabpfn import TabPFNClassifier\n"
   ],
   "metadata": {
    "collapsed": false
   },
   "id": "63f277c37e782345"
  },
  {
   "cell_type": "code",
   "execution_count": null,
   "id": "initial_id",
   "metadata": {
    "collapsed": true
   },
   "outputs": [],
   "source": [
    "datasets = fetch_datasets()\n",
    "datasets"
   ]
  },
  {
   "cell_type": "code",
   "execution_count": null,
   "outputs": [],
   "source": [
    "wine_quality = datasets[\"wine_quality\"]\n",
    "data, target = wine_quality[\"data\"], wine_quality[\"target\"]\n",
    "data, target"
   ],
   "metadata": {
    "collapsed": false
   },
   "id": "b0225fcf43c3f551"
  },
  {
   "cell_type": "code",
   "execution_count": null,
   "outputs": [],
   "source": [
    "target = (target == 1).astype(int)\n",
    "target"
   ],
   "metadata": {
    "collapsed": false
   },
   "id": "3801dbf5172ff0d7"
  },
  {
   "cell_type": "code",
   "execution_count": null,
   "outputs": [],
   "source": [
    "data.shape, target.shape"
   ],
   "metadata": {
    "collapsed": false
   },
   "id": "3a0a415c124bef6a"
  },
  {
   "cell_type": "code",
   "execution_count": null,
   "outputs": [],
   "source": [
    "Counter(target)"
   ],
   "metadata": {
    "collapsed": false
   },
   "id": "9b4525e7ecb81c12"
  },
  {
   "cell_type": "code",
   "execution_count": null,
   "outputs": [],
   "source": [
    "4715 / 183"
   ],
   "metadata": {
    "collapsed": false
   },
   "id": "eb2dc6fcf37369ed"
  },
  {
   "cell_type": "code",
   "execution_count": null,
   "outputs": [],
   "source": [
    "columns = [\n",
    "    \"fixed_acidity\",\n",
    "    \"volatile_acidity\",\n",
    "    \"citric_acid\",\n",
    "    \"residual_sugar\",\n",
    "    \"chlorides\",\n",
    "    \"free_sulfur_dioxide\",\n",
    "    \"total_sulfur_dioxide\",\n",
    "    \"density\",\n",
    "    \"pH\",\n",
    "    \"sulphates\",\n",
    "    \"alcohol\",\n",
    "]"
   ],
   "metadata": {
    "collapsed": false
   },
   "id": "afd22b9bc4de8262"
  },
  {
   "cell_type": "code",
   "execution_count": null,
   "outputs": [],
   "source": [
    "df = pd.DataFrame(data, columns=columns)\n",
    "df.head()"
   ],
   "metadata": {
    "collapsed": false
   },
   "id": "5dfd8e901cbf0415"
  },
  {
   "cell_type": "code",
   "execution_count": null,
   "outputs": [],
   "source": [
    "X_train, X_test, y_train, y_test = train_test_split(df, target, test_size=0.3, random_state=42, shuffle=True)\n",
    "X_train.shape, X_test.shape, y_train.shape, y_test.shape"
   ],
   "metadata": {
    "collapsed": false
   },
   "id": "c88695be95f891b7"
  },
  {
   "cell_type": "code",
   "execution_count": null,
   "outputs": [],
   "source": [
    "params = {\n",
    "    \"random_state\": 42,\n",
    "    \"n_jobs\": -1,\n",
    "}\n",
    "\n",
    "models = [\n",
    "    LogisticRegression(\n",
    "        max_iter=10_000,\n",
    "        **params\n",
    "    ),\n",
    "    RandomForestClassifier(\n",
    "        n_estimators=50,\n",
    "        **params\n",
    "    ),\n",
    "    XGBClassifier(\n",
    "        **params\n",
    "    ),\n",
    "    # TabPFNClassifier(),\n",
    "]\n",
    "\n",
    "model_names = [\n",
    "    \"LogisticRegression\",\n",
    "    \"RandomForestClassifier\",\n",
    "    \"XGBClassifier\",\n",
    "]"
   ],
   "metadata": {
    "collapsed": false
   },
   "id": "aa2275a896c72be5"
  },
  {
   "cell_type": "code",
   "execution_count": null,
   "outputs": [],
   "source": [
    "predictions = []\n",
    "\n",
    "for model in tqdm(models):\n",
    "    model.fit(X_train, y_train)\n",
    "    prediction = model.predict(X_test)\n",
    "    predictions.append(prediction)\n",
    "\n",
    "predictions"
   ],
   "metadata": {
    "collapsed": false
   },
   "id": "6830b28a15ada1ae"
  },
  {
   "cell_type": "code",
   "execution_count": null,
   "outputs": [],
   "source": [
    "metrics = [\n",
    "    accuracy_score,\n",
    "    precision_score,\n",
    "    recall_score,\n",
    "    f1_score,\n",
    "]"
   ],
   "metadata": {
    "collapsed": false
   },
   "id": "c2398a96dfa0d919"
  },
  {
   "cell_type": "code",
   "execution_count": null,
   "outputs": [],
   "source": [
    "summary = {}\n",
    "\n",
    "for prediction, model_name in zip(predictions, model_names):\n",
    "    print(model_name)\n",
    "    print(Counter(prediction))\n",
    "    model_summary = {}\n",
    "    for metric in metrics:\n",
    "        print(metric.__name__)\n",
    "        score = metric(y_test, prediction)\n",
    "        model_summary[metric.__name__] = score\n",
    "        print(score)\n",
    "    summary[f\"{model_name} {Counter(prediction)}\"] = model_summary\n",
    "    print()\n",
    "\n",
    "summary"
   ],
   "metadata": {
    "collapsed": false
   },
   "id": "88bece21d910ac6b"
  },
  {
   "cell_type": "code",
   "execution_count": null,
   "outputs": [],
   "source": [
    "df_summary = pd.DataFrame(summary).T\n",
    "df_summary"
   ],
   "metadata": {
    "collapsed": false
   },
   "id": "f874b6d1bdd5d2fa"
  },
  {
   "cell_type": "code",
   "execution_count": null,
   "outputs": [],
   "source": [
    "fig = px.bar(df_summary, barmode=\"group\", title=\"Comparison of metrics on wine_quality dataset\")\n",
    "fig.write_html(\"metrics.html\")\n",
    "fig.show()"
   ],
   "metadata": {
    "collapsed": false
   },
   "id": "a49a8ea9845889f4"
  },
  {
   "cell_type": "code",
   "execution_count": null,
   "outputs": [],
   "source": [],
   "metadata": {
    "collapsed": false
   },
   "id": "405ef8da137bebcb"
  }
 ],
 "metadata": {
  "kernelspec": {
   "display_name": "Python 3",
   "language": "python",
   "name": "python3"
  },
  "language_info": {
   "codemirror_mode": {
    "name": "ipython",
    "version": 2
   },
   "file_extension": ".py",
   "mimetype": "text/x-python",
   "name": "python",
   "nbconvert_exporter": "python",
   "pygments_lexer": "ipython2",
   "version": "2.7.6"
  }
 },
 "nbformat": 4,
 "nbformat_minor": 5
}
