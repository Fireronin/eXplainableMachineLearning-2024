{
 "cells": [
  {
   "attachments": {},
   "cell_type": "markdown",
   "id": "e5490ea2c60961f5",
   "metadata": {
    "collapsed": false
   },
   "source": [
    "# Report - HW 1 Szymon Sadkowski"
   ]
  },
  {
   "attachments": {},
   "cell_type": "markdown",
   "id": "41eb51fd055dcaad",
   "metadata": {
    "collapsed": false
   },
   "source": [
    "## 1. Introduction\n",
    "\n",
    "My dataset of choice is [kc1](https://www.openml.org/search?type=data&status=active&id=1067) from OpenML.  \n",
    "It's NASA created dataset containing computer software features including existence of defects.\n",
    "It has 22 features and 2109 data points. Models trained on this dataset try to predict if code of given features contain any errors (binary classification)."
   ]
  },
  {
   "attachments": {},
   "cell_type": "markdown",
   "id": "269f58f62dc7e62e",
   "metadata": {
    "collapsed": false
   },
   "source": [
    "![alt text](imbalance_plot.png \"Histogram of classes.\")"
   ]
  },
  {
   "attachments": {},
   "cell_type": "markdown",
   "id": "12b0b45f3e0cb262",
   "metadata": {
    "collapsed": false
   },
   "source": [
    "Target data is inbalanced as only 15% of software objects have some defects."
   ]
  },
  {
   "attachments": {},
   "cell_type": "markdown",
   "id": "7e8ceb4e408e3a42",
   "metadata": {
    "collapsed": false
   },
   "source": [
    "## 2. Data processing\n",
    "\n",
    "Data is split 80/20 (train / test). For all models except TabPFN standard scaling is applied. Models are trained and evaluated using stratified KFold (with kfold=5, n_repeats=3) and best performance from those test is reported when validating"
   ]
  },
  {
   "attachments": {},
   "cell_type": "markdown",
   "id": "c6f10ccbe51b573f",
   "metadata": {
    "collapsed": false
   },
   "source": [
    "## 3. Models\n",
    "\n",
    "There are 4 models evaluated with arbitrary hyperparameters selected. Metric of evaluation of `roc_auc` (Area under the ROC Curve)"
   ]
  },
  {
   "attachments": {},
   "cell_type": "markdown",
   "id": "f0928a2066e8489f",
   "metadata": {
    "collapsed": false
   },
   "source": [
    "\n",
    "| Model                               | Balanced Accuracy |\n",
    "|-------------------------------------|-------------------|\n",
    "| LogisticRegression                  | 0.802             |\n",
    "| RandomForest                        | 0.826             |\n",
    "| XGBoost                             | 0.788             |\n",
    "| TabPFN                              | **0.827**             |"
   ]
  },
  {
   "attachments": {},
   "cell_type": "markdown",
   "id": "84903126ff695bb1",
   "metadata": {
    "collapsed": false
   },
   "source": [
    "## 4. Discussion\n",
    "\n",
    "All models have similar performance but its interesting to see that `TabPFN` has the best performance"
   ]
  }
 ],
 "metadata": {
  "kernelspec": {
   "display_name": "Python 3",
   "language": "python",
   "name": "python3"
  },
  "language_info": {
   "codemirror_mode": {
    "name": "ipython",
    "version": 2
   },
   "file_extension": ".py",
   "mimetype": "text/x-python",
   "name": "python",
   "nbconvert_exporter": "python",
   "pygments_lexer": "ipython2",
   "version": "2.7.6"
  }
 },
 "nbformat": 4,
 "nbformat_minor": 5
}
