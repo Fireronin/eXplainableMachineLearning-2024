{
 "cells": [
  {
   "cell_type": "markdown",
   "id": "0bcb8929",
   "metadata": {},
   "source": [
    "<center><h2>Explainable Machine Learning 2023/2024Z</h2></center>\n",
    "<center><h3>Homework 2</h3></center>\n",
    "\n",
    "Mateusz Szymański"
   ]
  },
  {
   "cell_type": "markdown",
   "id": "24af562a",
   "metadata": {},
   "source": [
    "# Task 1\n",
    "\n",
    "We have two populations: <span style=\"color:blue\">Blue</span> (privileged) and <span style=\"color:red\">Red</span> (unprivileged), with the <span style=\"color:blue\">Blue</span> population being 9 times larger than the <span style=\"color:red\">Red</span> population.\n",
    "\n",
    "Individuals from both populations are requesting to attend XAI training to improve competency in this important area. Number of places is limited. The administrators of the training have decided to give priority to enrolling individuals who may need this training in the future, although unfortunately it is difficult to predict who will benefit.\n",
    "\n",
    "The decision rule adopted:\n",
    "\n",
    "* In the <span style=\"color:red\">Red</span> group, half of the people will find the skills useful in future and half will not. Administrators randomly allocate 50% of people to training.\n",
    "* in the <span style=\"color:blue\">Blue</span> group, 80% of people will find the training useful in future and 20% will not, although of course it is not known who will find it useful. The administrators have built a predictive model based on user behaviour in predicting for whom it will be useful and whom will not. The model has the following performance:\n",
    "\n",
    "| <span style=\"color:blue\">Blue</span> | Will use XAI | Will not use XAI | Total |\n",
    "|--------------------------------------|--------------|------------------|-------|\n",
    "| enrolled in a training | 60 | 5 | 65 |\n",
    "| not enrolled in a training | 20 | 15 | 35 |\n",
    "| total | 80 | 20 | 100 |\n",
    "\n",
    "**Task**: Calculate the Demographic parity, equal opportunity and predictive rate parity coefficients for this decision rule.\n",
    "\n",
    "**Starred task**: How can this decision rule be changed to improve its fairness?"
   ]
  },
  {
   "cell_type": "markdown",
   "id": "d3d70a69",
   "metadata": {},
   "source": [
    "## Solution\n",
    "\n",
    "### Demographic parity\n",
    "\n",
    "Let us remind that the *demographic parity* condition is defined as follows:\n",
    "\n",
    "Let $A$ be a protected attribute and $a$ and $b$ be two mutually exclusive groups of $A$. A predictor $\\hat{Y}$ satisfies the *demographic parity* condition if $\\hat{Y}\\perp A$, that is $\\hat{Y}$ is independent of $A$: \n",
    "\n",
    "$$P\\left(\\hat{Y}=1|A=a\\right)=P\\left(\\hat{Y}=1|A=b\\right)$$\n",
    "\n",
    "However, in concrete cases we cannot expect the equality here. We say that a predictor $\\hat{Y}$ satisfies the demographic parity condition if for empirical data:\n",
    "\n",
    "$$\\frac{4}{5} \\leq \\frac{P\\left(\\hat{Y}=1|A=a\\right)}{P\\left(\\hat{Y}=1|A=b\\right)} \\leq \\frac{5}{4}$$\n",
    "\n",
    "Let us remark that the notion of demographic parity ignores the target variable $Y$."
   ]
  },
  {
   "cell_type": "markdown",
   "id": "ae3fd565",
   "metadata": {},
   "source": [
    "In our case, $Y$ denotes the property of using XAI in the future while $\\hat{Y}$ denotes being chosen to an XAI course. Ideally, these two should coincide.\n",
    "\n",
    "Let ${\\color{blue}a}$ be the <span style=\"color:blue\">Blue</span> group while ${\\color{red}b}$ the <span style=\"color:red\">Red</span> one. We can now calculate the empirical value of $P\\left(\\hat{Y}=1|A={\\color{blue}a}\\right)$ as the ratio of the number of students enrolled in a training to all students. Based on the table, $65\\%$ of the students from the privileged group will be chosen for a training. That is, $P\\left(\\hat{Y}=1|A={\\color{blue}a}\\right)=\\tfrac{65}{100}$.\n",
    "\n",
    "Clearly, in the second group ${\\color{red}b}$, half of the students will be chosen for a training. Hence, the conditional probability $P\\left(\\hat{Y}=1|A={\\color{red}b}\\right)$ is $\\tfrac{1}{2}$.\n",
    "\n",
    "The ratio of these two values is equal to:\n",
    "\n",
    "$$\\frac{P\\left(\\hat{Y}=1|A=a\\right)}{P\\left(\\hat{Y}=1|A=b\\right)} = \\frac{\\tfrac{65}{100}}{\\tfrac{1}{2}} = \\frac{13}{10} > \\frac{5}{4}$$\n",
    "\n",
    "The predictory $\\hat{Y}$ **does not satisfy the demographic parity condition**."
   ]
  },
  {
   "cell_type": "markdown",
   "id": "f505ba95",
   "metadata": {},
   "source": [
    "### Equal opportunity\n",
    "\n",
    "The *equal opportunity* criterion demands the following equality:\n",
    "\n",
    "$$P\\left(\\hat{Y}=1|A=a,\\ Y=1\\right) = P\\left(\\hat{Y}=1|A=b,\\ Y=1\\right)$$\n",
    "\n",
    "This means that the rate of True Positive Rate ($\\textrm{TPR} = \\frac{\\textrm{TP}}{\\textrm{TP} + \\textrm{FN}}$) remains the same for both groups."
   ]
  },
  {
   "cell_type": "markdown",
   "id": "fdaffde0",
   "metadata": {},
   "source": [
    "For the ${\\color{blue}a}$ group, using the information from the table, we can expect $\\textrm{TPR}_{\\color{blue}a}$ to be:\n",
    "\n",
    "$$\\textrm{TPR}_{\\color{blue}a}=\\frac{\\tfrac{60}{100}}{\\tfrac{60}{100} + \\tfrac{20}{100}}=\\frac{3}{4}$$\n",
    "\n",
    "In the second group ${\\color{red}b}$, the allocation process is random. As we assume that the choice is random, we can expect that among half of the chosen students, half of them will find the course useful ($Y|(A={\\color{red}b}) \\perp \\hat{Y}|(A={\\color{red}b}))$). This gives us: $$\\textrm{TPR}_{\\color{red}b}=\\frac{\\tfrac{1}{4}}{\\tfrac{1}{4} + \\tfrac{1}{4}} = \\frac{1}{2}$$\n",
    "\n",
    "This equal opportunity condition is not satisfied, as the ratio of True Positive Rates exceeds the threshold:\n",
    "\n",
    "$$\\frac{\\textrm{TPR}_{\\color{blue}a}}{\\textrm{TPR}_{\\color{red}b}} = \\frac{\\tfrac{3}{4}}{\\tfrac{1}{2}} = \\frac{3}{2}>\\frac{5}{4}$$"
   ]
  },
  {
   "cell_type": "markdown",
   "id": "007bd84b",
   "metadata": {
    "ExecuteTime": {
     "end_time": "2023-10-19T11:24:48.950908Z",
     "start_time": "2023-10-19T11:24:48.928286Z"
    }
   },
   "source": [
    "### Predictive Rate Parity\n",
    "\n",
    "The *predictive rate parity* criterion is satisfied whenever the following equality holds:\n",
    "\n",
    "$$P\\left(Y=1|A=a,\\ \\hat{Y}=i\\right) = P\\left(Y=1|A=b,\\ \\hat{Y}=i\\right)$$\n",
    "\n",
    "for $i\\in\\{0,1\\}$. In other words, $Y\\perp A|\\hat{Y}$.\n",
    "\n",
    "The condition asks for equality of Positive/Negative Predictive Values ($\\textrm{PPV} = \\frac{\\textrm{TP}}{\\textrm{TP} + \\textrm{FP}}$, $\\textrm{NPV} = \\frac{\\textrm{TN}}{\\textrm{TN} + \\textrm{FN}}$) in subgroups."
   ]
  },
  {
   "cell_type": "markdown",
   "id": "b202c3eb",
   "metadata": {},
   "source": [
    "Let us calculate PPV and NPV for both groups:\n",
    "\n",
    "$$\\textrm{PPV}_{\\color{blue}a} = \\frac{\\tfrac{60}{100}}{\\tfrac{60}{100} + \\tfrac{5}{100}} = \\frac{12}{13}$$\n",
    "\n",
    "$$\\textrm{PPV}_{\\color{red}b} = \\frac{\\tfrac{1}{4}}{\\tfrac{1}{4} + \\tfrac{1}{4}} = \\frac{1}{2}$$\n",
    "\n",
    "Since:\n",
    "\n",
    "$$\\frac{\\textrm{PPV}_{\\color{blue}a}}{\\textrm{PPV}_{\\color{red}b}} = \\frac{\\tfrac{12}{13}}{\\tfrac{1}{2}} = \\frac{24}{13} > \\frac{5}{4}$$\n",
    "\n",
    "we can safely say that the decision process is not fair in that regard."
   ]
  },
  {
   "cell_type": "markdown",
   "id": "36ed8517",
   "metadata": {},
   "source": [
    "### Increasing fairness\n",
    "\n",
    "We assume that it is hard to:\n",
    "* predict preferences in the <span style=\"color:red\">Red</span> group\n",
    "* improve the decision model for the <span style=\"color:blue\">Blue</span> group\n",
    "\n",
    "The only thing that we can control effortlessly is the ratio of allocated students from the unprivileged group ${\\color{red}b}$. \n",
    "\n",
    "According to the current decision process and the group proportions, there is:\n",
    "\n",
    "$$\\frac{9}{10}\\cdot\\frac{65}{100} + \\frac{1}{10}\\cdot\\frac{1}{2} = \\frac{127}{200} = 63.5\\%$$\n",
    "\n",
    "vacant places per student.\n",
    "\n",
    "If we could increase the number of places (additional 3 places per 200 current vacant places) just to allocate the same fraction $65\\%$ of students in the unprivileged group, we could easily satisfy the demographic parity condition. As the process still remains random, the values TP, TN, FP, FN for the second group are the same, thus equal opportunity won't be still satisfied.\n",
    "\n",
    "If it is not possible to increase the number of free places, we need to slightly decrease the amount of enrolled students from the <span style=\"color:blue\">Blue</span> group."
   ]
  },
  {
   "cell_type": "markdown",
   "id": "05728071",
   "metadata": {},
   "source": [
    "### Extending the procedure\n",
    "\n",
    "Assume that we cannot change the decision model for the privileged group. However, in order to decrease the number of enrolled students, after the decision process, we can randomly move some students from the positive class to the second group. The updated table is now:\n",
    "\n",
    "| <span style=\"color:blue\">Blue</span> | Will use XAI | Will not use XAI | Total |\n",
    "|--------------------------------------|--------------|------------------|-------|\n",
    "| enrolled in a training | 60 - $\\tfrac{60}{65}x$ | 5 - $\\tfrac{5}{65}x$ | 65 - $x$ |\n",
    "| not enrolled in a training | 20 + $\\tfrac{60}{65}x$ | 15 + $\\tfrac{5}{65}x$| 35 + $x$ |\n",
    "| total | 80 | 20 | 100 |\n",
    "\n",
    "This, obviously, harms the <span style=\"color:blue\">Blue</span> group but we aim to show that the number of students $x$ is quite small.\n",
    "\n",
    "Now, we have to parameters to control:\n",
    "* the fraction $y$ of allocated students in the <span style=\"color:red\">Red</span> group\n",
    "* the number of students $x$ (per each group of 100 students) from the <span style=\"color:blue\">Blue</span> group\n",
    "\n",
    "We want to satisfy the demographic parity condition while maintain the total number of students enrolled to a training. Hence:\n",
    "\n",
    "$$\\frac{9}{10}\\cdot \\frac{65-x}{100}+\\frac{1}{10}\\cdot y = \\frac{127}{200}$$\n",
    "\n",
    "and\n",
    "\n",
    "$$\\frac{65-x}{100}=y$$\n",
    "\n",
    "The solution of the equation above is:\n",
    "\n",
    "$$\\begin{cases}x = \\frac{3}{2} \\\\ y = \\frac{127}{200}\\end{cases}$$\n",
    "\n",
    "Hence we lose only 3 students per each 200 students in the <span style=\"color:blue\">Blue</span> group. The updated table is now:\n",
    "\n",
    "| <span style=\"color:blue\">Blue</span> | Will use XAI | Will not use XAI | Total |\n",
    "|--------------------------------------|--------------|------------------|-------|\n",
    "| enrolled in a training | 0.586 | 0.488 | 0.635 |\n",
    "| not enrolled in a training | 0.214 | 0.151 | 0.365 |\n",
    "| total | 0.800 | 0.200 | 1.000 |"
   ]
  },
  {
   "cell_type": "markdown",
   "id": "f36d5506",
   "metadata": {},
   "source": [
    "The new TPR for ${\\color{blue}a}$ is:\n",
    "\n",
    "$$\\textrm{TPR}_{\\color{blue}a}=\\frac{\\tfrac{60}{100} - \\tfrac{60}{65}\\tfrac{3}{200}}{\\tfrac{80}{100}}=73.27\\%$$\n",
    "\n",
    "However the change is too small to improve the equal opportunity criterion.\n",
    "\n",
    "We assumed that there is no viable way of determining preferences of the <span style=\"color:red\">Red</span> group. This implies that, if we are forced to use a random assignment, we have no measures to change the TPR/FPR. This severely reduces a chance for increasing fairness in terms of other conditions."
   ]
  },
  {
   "cell_type": "markdown",
   "id": "76c72ebb",
   "metadata": {},
   "source": [
    "# Task 2\n",
    "\n",
    "We have chosen _Adult income dataset_ to investigate (`adults.csv`). The data contains an information whether the annual income is greater than 50 000 (probably USD) and several columns describing a person, including:\n",
    "* age\n",
    "* gender\n",
    "* race\n",
    "* marital status\n",
    "\n",
    "which may be considered as protected attributes. Our goal is to examine fairness measures for trained models.\n",
    "\n",
    "We are going to use several vanilla models for tabular data, used in the previous Homework:\n",
    "* logistic regression\n",
    "* random forest classifier\n",
    "\n",
    "We divide the data in the train-test ratio of 4:1.\n",
    "\n",
    "**Important note**: a package `dalex` could be used for calculating all necessary fairness measures. However, we are going to calculate them by hand."
   ]
  },
  {
   "cell_type": "markdown",
   "id": "86e9444f",
   "metadata": {
    "ExecuteTime": {
     "end_time": "2023-10-19T13:53:26.863895Z",
     "start_time": "2023-10-19T13:53:26.832614Z"
    }
   },
   "source": [
    "## Protected attribute distribution\n",
    "\n",
    "The `race` column have several values:\n",
    "* _White_\n",
    "* _Black_\n",
    "* _Asian-Pac-Islander_\n",
    "* _Amer-Indian-Eskimo_\n",
    "* _Other_\n",
    "\n",
    "The _White_ group is clearly a dominant one ($85.5\\%$). The second one, _Black_, takes $9.6\\%$ of all participants.\n",
    "\n",
    "<img src=\"data:image/png;base64,iVBORw0KGgoAAAANSUhEUgAAAqwAAAIvCAYAAACx5olGAAAAOXRFWHRTb2Z0d2FyZQBNYXRwbG90bGliIHZlcnNpb24zLjcuMSwgaHR0cHM6Ly9tYXRwbG90bGliLm9yZy/bCgiHAAAACXBIWXMAAA9hAAAPYQGoP6dpAAByzklEQVR4nO3dd3hT5d8G8PtkNEmb7r1bKJS9hwxlOcAFLpCXIYqoKCIKiFucqIji1p8iKKKIW0GGVECW7L1p6YDuvbPfP6rV2gJtafKcJPfnurikyUnOnVrauyfP+R7JZrPZQEREREQkUwrRAYiIiIiILoSFlYiIiIhkjYWViIiIiGSNhZWIiIiIZI2FlYiIiIhkjYWViIiIiGSNhZWIiIiIZI2FlYiIiIhkjYWViIiIiGSNhZWIiIiIZI2FlYiIiIhkjYWViIiIiGSNhZWIiIiIZI2FlYiIiIhkjYWViIiIiGSNhZWIiIiIZI2FlYiIiIhkjYWViIiIiGSNhZWIiIiIZI2FlYiIiIhkjYWViIiIiGSNhZWIiIiIZI2FlYiIiIhkjYWViIiIiGSNhZWIiIiIZI2FlYiIiIhkjYWViIiIiGSNhZWIiIiIZI2FlYiIiIhkjYWViIiIiGSNhZWIiIiIZI2FlYiIiIhkjYWViIiIiGSNhZWIiIiIZI2FlYiIiIhkjYWViIiIiGSNhZWIiIiIZI2FlYiIiIhkjYWViIiIiGSNhZWIiIiIZI2FlYiIiIhkjYWViIiIiGSNhZWIiIiIZI2FlYiIiIhkjYWViIiIiGSNhZWIiIiIZI2FlYiIiIhkjYWViIiIiGSNhZWIiIiIZI2FlYiIiIhkjYWViIiIiGSNhZWIiIiIZI2FlYiIiIhkjYWViIiIiGSNhZWIiIiIZI2FlYiIiIhkjYWViIiIiGSNhZWIiIiIZI2FlYiIiIhkjYWViIiIiGSNhZWIiIiIZI2FlYiIiIhkTSU6ABHRfxnNVpgsNX+MFissVhuUCgkqhQIqpQTVX39XKyVIkiQ6LhER2RkLKxG1KJPFipzSauSWGZBfZkBxlQmlVSaUnOdPebUZRov1XyXV1qT9KSRApVTAQ6mAXqOCj04Fb60a3tqa//po//nYz1ONYL0GoT5ahPpoEeytgVLBwktEJHeSzWZr2k8HInJr5QYzzuRVILWgAueKq5BZ+6ca2aXVKKo0wlm+qygkIFCvQZiPFqE+GoT4aBHuo0VskBfiA70QF+QJb61adEwiIrfHwkpE9ZgtVmQUVSElrxxn8iuQnFdR+/fcMoPoeA4VpPdAXKAX4oO8EBdU899WwV5oHayHWsnTAIiIHIGFlcjNVRktOJpViiOZJTh8rgSHz5XidG45jBar6Giy5qFSoE2IHh3CfdAhwqf2vzwiS0TU8lhYidxItcmCg2dLcPBsMY5kluLwuRKk5FfAYuW3gZYgSUCUvw4dwn3QOdIXPWL80TXaD14ani5ARHQpWFiJXFhJpQm70wqxM7UQu84U4vC5Uh45dTClQkJiqDd6xvqjV5w/+sQHINxXJzoWEZFTYWElciG5pdX480xNOd2VWogTOWVOcwKUO4ny16FPXAAuax2IQW2DEeqjFR2JiEjWWFiJnJjJYsXu1CJsOpmHjSdycTy7THQkaobEUG9c3iYIV7QNRp/4AGjVStGRiIhkhYWVyMlkFldh44magro9uQBlBrPoSNSCtGoF+sQH4oq/CmzbUG/RkYiIhGNhJXICh86WYPXhLPx2NAencstFxyEHig30xPCOYbimUxi6R/vxyl5E5JZYWIlkan9GMVYfysKvh7OQUVglOg7JQLivFld3CMXwTuHoEx/Aq3QRkdtgYSWSCZvNhr3pRfj1UDbWHM7GuWKWVDq/QC8PXNUhFCM6h2NgQhDLKxG5NBZWIsFS8srx7Z6z+HHfOWSWVIuOQ04oxFuDUd0jcUuPKCSGcc0rEbkeFlYiAcqqTfjlQBa+3ZOBvenFouOQC+kY4YNbekRhZLcIBOo1ouMQEbUIFlYiB7FabdiWXIBv9mRg7ZFsVJs4wJ/sR6WQMDgxGLf0iMKw9qHwUClERyIiajYWViI7yysz4Msd6VixO4PrUkmIIL0Gt/eOxrjLYniVLSJySiysRHayN70In21LxepD2bwcKsmCUiHhyvYhmNgvDgMSgkTHISJqNBZWohZkMFuw8kAWPtueioNnS0THITqv1sFemHBZLG7pGQVvrVp0HCKiC2JhJWoB2SXVWPpnKpbvzEBBhVF0HKJG8/RQ4taeUZhyeStEB3iKjkNE1CAWVqJLcCqnDB9uSsHPB87BZOE/JXJeSoWE6zqHY+rg1mgf7iM6DhFRHSysRM2wJ60IH2xMRtLxHPBfELmawYnBuG9Qa1zWKlB0FCIiACysRE2y7XQ+3vn9NLanFIiOQmR3PWL8cN+g1riqQygkiVfSIiJxWFiJGmHDiVy8+/tp7EkrEh2FyOESQ73x8FVtMLxTuOgoROSmWFiJLmDnmULMX3scu1JZVIk6R/pi5tVtMTgxRHQUInIzLKxEDTiaWYrX1h7HxhN5oqMQyU6fuADMuiYRfeIDREchIjfBwkr0L6n5FVjw20msPJjJk6mILuKKtsGYdXVbdInyEx2FiFwcCysRgJzSaixcfwrf7M6A2cp/EkRNMbxjGB6/th1iA71ERyEiF8XCSm6t2mTBR5tS8OGmZFSZLKLjEDktD5UCdw2Ix7ShCdBrVKLjEJGLYWElt7X6UBZe+vUYzhZViY5C5DKCvTWYfXUibu0ZBYWCo7CIqGWwsJLbOZFdhud+OYJtyZylSmQvnSJ98OwNHdE7jidmEdGlY2Elt1FSacKC305g2Y50WLhOlcghrusSjieubY9IP53oKETkxFhYyeXZbDZ8tTMD89ceR1GlSXQcIrfj6aHEQ8PaYPLAeKiUCtFxiMgJsbCSS0vOK8fj3x3CztRC0VGI3F67MG+8fHNn9IjxFx2FiJwMCyu5JJPFig83JuOdDadhNFtFxyGiv0gSMK5vDB4b0Z7TBIio0VhYyeXszyjGY98dxPHsMtFRiOg8wn21eGFkJ1zZIVR0FCJyAiys5DIqjWbMX3sCn21LBc+pInIO13UJx/M3dkSgXiM6ChHJGAsruYRtp/Mx+9uDOFfMmapEziZIr8ErN3fm0VYiOi8WVnJqBrMF89ecwKKtZ8CvZCLnNqZXNJ65oQO8uLaViP6DhZWc1onsMjy0fB/XqhK5kJgATywY3ZUXHCCiOlhYyenYbDYs2nIGr609wQkARC5IIQFTrmiFmVclwkPFua1ExMJKTiarpAqzvjmArad5WVUiV9cuzBsLb++GdmE+oqMQkWAsrOQ0fj2Uhce/P4SSKl6tishdaFQKzL2xI8b2iREdhYgEYmEl2TOarXj512NYsi1VdBQiEuTm7pF48aZO8PTgCVlE7oiFlWTtXHEVHli2F/szikVHISLBEkL0+GBcD7QJ9RYdhYgcjIWVZGvTyTzMWL4PRZVcAkBENXRqJV4c1Qm39IwSHYWIHIiFlWTHarVh4fqTeHfDaV6xiogaNKZXNJ4b2RFatVJ0FCJyABZWkpWCcgMeWr4fW07ni45CRDLXPtwH/5vQE9EBnqKjEJGdsbCSbBw+V4Ipn+9GVkm16ChE5CQCvTzw/rge6NsqUHQUIrIjFlaShTWHs/Dw1wdQZbKIjkJETkatlPD8yE4cfUXkwlhYSbh3kk7hjfUnwa9EIroUk/rH4enrO0CpkERHIaIWxsJKwlSbLJjz3UH8tD9TdBQichGXtwnCu2N7wNdTLToKEbUgFlYSIq/MgHuW7sa+9GLRUYjIxcQHeeGTO3qhdbBedBQiaiEsrORwRzJLMOWz3cjkyVVEZCc+WhU+ntiLJ2MRuQgWVnKorafzce/SPSg3mEVHISIXp1Ep8Nbt3TC8U7joKER0iVhYyWFWHszEI18fgNFiFR2FiNyEQgKeu7EjJvSLEx2FiC4BCys5xGfbUvHcL0d45SoiEuKBIa0x+5p2omMQUTOxsJLdLVh3Au/8flp0DCJyc7f1jMK8mztDpVSIjkJETcTCSnZjsdrw1I+H8NXODNFRiIgAAEMSg/H+uJ7QeShFRyGiJmBhJbuoNlnw0PJ9WHskR3QUIqI6esb6Y8mdveGt5axWImfBwkotrspowd2f78LW0wWioxARNahbtB8+u6sPfHUsrUTOgIWVWlSFwYw7l+zCzjOFoqMQEV1Qp0gffDG5L/w8PURHIaKLYGGlFlNWbcKkxbuwJ61IdBQiokZpF+aNZXf3RaBeIzoKEV0ACyu1iNJqEyYu2on9GcWioxARNUnbUD2W3X0Zgr1ZWonkioWVLllZtQkTWFaJyIm1CvbCV1MuQ6iPVnQUImoACytdEpZVInIVcYGeWHFvP4SwtBLJDqcnU7NVGs2Y+CnLKhG5htSCSoxftANFFUbRUYjoP1hYqVmMZivu+XwP9qUXi45CRNRiTuaU447FO1FuMIuOQkT/wsJKTWax2vDQ8n3YcjpfdBQiohZ38GwJJi/ZhWqTRXQUIvoLCys1ic1mw+PfH8Tqw9mioxAR2c2OM4WY+sUemCxW0VGICCys1EQvrTqGFbvPio5BRGR3G07kYcbX+2G18txkItFYWKnR3v39FD7ZckZ0DCIih1l1MAuPfX8QHKhDJBYLKzXK0j/T8Pq6k6JjEBE53IrdZ7GA3/+IhGJhpYtadyQbz/50WHQMIiJh3t1wGit2ZYiOQeS2WFjpgg6dLcFDy/eDS7iIyN098cMhbDnF6ShEIrCw0nlllVRh8me7UMXRLkREMFttmLpsD05kl4mOQuR2WFipQRUGM+5ashu5ZQbRUYiIZKOs2oy7luxCbmm16ChEboWFleqxWG2Y9uVeHMsqFR2FiEh2zhVXYfJnu1Fp5NWwiByFhZXqef6XI9hwIk90DCIi2Tp0rgTTv9rHGa1EDsLCSnUs2XoGn21PEx2DiEj21h/Lxatrj4uOQeQWWFip1rbkfLyw6pjoGERETuOjTSn4+UCm6BhELo+FlQDUTAR48Mt9sPDtLSKiJpnz7UEcySwRHYPIpbGwEoxmK6Z+sRcFFUbRUYiInE6VyYJ7Pt+DIn4PJbIbFlbC3F+OYH9GsegYRERO61xxFaYv50lYRPbCwurmvtmdgS93pIuOQUTk9DafyseC306IjkHkklhY3djhcyV46sfDomMQEbmM9zcmY92RbNExiFwOC6ubKq404r4v9sBgtoqOQkTkMmw2YNY3B3C2qFJ0FCKXwsLqpmq+oVaJjkFE5HJKq814aPl+Tl0hakEsrG7o8+2pWH8sV3QMIiKXtSetCAvXnxQdg8hlsLC6mZM5ZXiJFwcgIrK79zacxvbkAtExiFwCC6sbqTZZMP2rfVy3SkTkAFYb8PDX+zmflagFsLC6kXm/HsPx7DLRMYiI3EZ2aTVmf3tQdAwip8fC6iaSjuXgs+1pomMQEbmd9cdysGTrGdExiJwaC6sbyOVv+EREQr28+jhO5vAdLqLmYmF1A7O+PYhCrqEiIhLGaLZi9jcHOOqKqJlYWF3cil0Z+ONknugYRERu78DZEnz0R7LoGEROiYXVheWUVuPFVUdFxyAior8sXH8Kp7g0gKjJWFhd2JM/HEJptVl0DCIi+ovRbMWsbw9yaQBRE7Gwuqif9p/j1ayIiGToQEYx/vdHiugYRE6FhdUF5ZcbMPfnI6JjEBHReby5/iRO53JpAFFjsbC6oGd/OoKiSpPoGEREdB5GsxUzvzkIK5cGEDUKC6uLWXM4C6sOZYmOQUREF3Egoxhf7OAFXYgag4XVhVQYzJj7M6cCEBE5i9fXnkBemUF0DCLZY2F1IW8nnUJ2abXoGERE1Eil1WbM+/WY6BhEssfC6iJO55bhU16rmojI6Xy/7xx2pBSIjkEka25XWCVJwo8//nje+zdu3AhJklBcXOywTC3hmZ+OwGTh4n0iImf09E+HYbZYRccgki2nLawffvghvL29YTb/Mxi/vLwcarUagwcPrrPt3yU0Ofnil8Tr378/srKy4OvrCwBYsmQJ/Pz8WjJ6i1t5MBPbkvnbORGRszqZU853yYguwGkL65AhQ1BeXo7du3fX3rZ582aEhYVhx44dqK7+Zy3nhg0bEBMTg9atW1/0eT08PBAWFgZJkuySu6VVGs14aRXXPxERObu31p9CVkmV6BhEsuS0hTUxMRHh4eHYuHFj7W0bN27EyJEjER8fjz///LPO7UOGDKn9OD8/HzfddBM8PT3Rpk0b/Pzzz3W2/XtJwMaNG3HnnXeipKQEkiRBkiTMnTsXAGAwGDBr1ixERkbCy8sLffv2rZPFUd5OOo2sEp5oRUTk7CqMFry4kgcgiBritIUVqDnKumHDhtqPN2zYgMGDB2PQoEG1t1dVVWHHjh11Cutzzz2H0aNH4+DBg7j22msxbtw4FBYW1nv+/v37Y+HChfDx8UFWVhaysrIwa9YsAMC0adOwfft2LF++HAcPHsRtt92G4cOH49SpU3Z+1f9IySvHoi28vB8RkatYdSgLe9KKRMcgkh2nL6xbt26F2WxGWVkZ9u3bh0GDBuGKK66oPdq5fft2GAyGOoV10qRJGDt2LBISEvDyyy+jvLwcO3furPf8Hh4e8PX1hSRJCAsLQ1hYGPR6PdLT07F48WJ88803uPzyy9G6dWvMmjULAwcOxOLFix318vHK6uM80YqIyMW8zDFXRPWoRAe4FIMHD0ZFRQV27dqFoqIitG3bFsHBwRg0aBDuvPNOVFdXY+PGjWjVqhViYmJqH9elS5fav3t5ecHHxwe5ubmN3u+hQ4dgsVjQtm3bOrcbDAYEBgZe+gtrhN2phVh3NMch+yIiIsfZk1aENYezMLxTuOgoRLLh1IU1ISEBUVFR2LBhA4qKijBo0CAAQEREBKKjo7Ft2zZs2LABQ4cOrfM4tVpd52NJkmC1Nn6cSHl5OZRKJfbs2QOlUlnnPr1e38xX0zTzVh93yH6IiMjxXl1zAsPah0KtdOo3QolajNP/SxgyZAg2btyIjRs31hlndcUVV2D16tXYuXNnneUATeXh4QGLxVLntu7du8NisSA3NxcJCQl1/oSFhTV7X4219kg21zgREbmwM/kV+HJHuugYRLLhEoV1y5Yt2L9/f+0RVgAYNGgQPvroIxiNxksqrHFxcSgvL0dSUhLy8/NRWVmJtm3bYty4cZg4cSK+//57nDlzBjt37sS8efOwatWqlnhZ52Wx2vDaGh5dJSJydW8lnUJZtUl0DCJZcInCWlVVhYSEBISGhtbePmjQIJSVldWOv2qu/v3747777sOYMWMQHByM1157DQCwePFiTJw4ETNnzkRiYiJGjRqFXbt21Vkraw/Ld6UjOa/CrvsgIiLxCiuMeH/jxS94Q+QOJJvNxtPMnUSl0YxB8zcir8wgOgoRETmARqXAptlDEOarFR2FSCinP8LqThZtPsOySkTkRgxmKz7cxKOsRCysTqK02oRPtvA600RE7uarnenILeUVDcm9sbA6iSVbU1FSxcX3RETuxmC2ci0ruT0WVidQVm3CIh5dJSJyWzzKSu6OhdUJfLaNR1eJiNyZwWzFB1zLSm6MhVXmKo1mHl0lIiJ8uSMduWU8ykruiYVV5pb9mY6iSh5dJSJydwazFR9tShEdg0gIFlYZqzZZ8PFmfnMiIqIay3akIb+c4w3J/bCwytg3e84il3NXiYjoL9UmK5ZuTxMdg8jhWFhlymq1YRGPrhIR0X988Wcaqk0W0TGIHIqFVaaSjucitaBSdAwiIpKZggojfth3TnQMIodiYZWpTzkZgIiIzuPTLWdgs9lExyByGBZWGTqWVYrtKQWiYxARkUydyi3HxpN5omMQOQwLqwzx6CoREV3MJzzPgdwIC6vM5Jcb8NOBTNExiIhI5raeLsCxrFLRMYgcgoVVZr74Mw1Gs1V0DCIicgKfbOY7cuQeWFhlxGi24os/00XHICIiJ7HyYCZKeDVEcgMsrDKy+nAWr2BCRESNZjBb8d3es6JjENkdC6uMfL0rQ3QEIiJyMst38Z05cn0srDKRXlDJUVZERNRkJ3PKsSetUHQMIrtiYZWJr3engzOgiYioOb7ayXfoyLWxsMqAxWrDt3u4BomIiJpn1cEslFbz5CtyXSysMrDxRC5ySnmyFRERNU+VyYKf9p0THYPIblhYZWA5T7YiIqJL9CWXBZALY2EVLLesGhuO54qOQURETu5YVikOnS0RHYPILlhYBfth7zmYrTzbioiILt2P+7ksgFwTC6tgPx/IFB2BiIhcxC8HMmHhQRByQSysAqXkleNIZqnoGERE5CJyywzYlpwvOgZRi2NhFWjlwSzREYiIyMX8uI/v3JHrYWEV6BcuByAioha27kg2DGaL6BhELYqFVZAT2WU4lVsuOgYREbmYMoMZm07kiY5B1KJYWAXh0VUiIrIXLjkjV8PCKsjKgyysRERkH+uP5aDaxGUB5DpYWAU4dLYEqQWVomMQEZGLqjRasOUUpwWQ62BhFWDNEb5VQ0RE9rX+WI7oCEQthoVVgKRjvBQrERHZV9LxXNhsvIgAuQYWVgfLLK7C8ewy0TGIiMjF5ZUZcOBsiegYRC1CJTqAu/n9OI+uNsRmtaBky5coP7oR1ooiKPUB8Oo0DL79b4ckSQCA/FVvouJwUp3HaeN7IHT08+d93uIty1Cy9as6t6kCohA55cPajwuTPkbF4SRIai38Bt0BfcchtfdVHN+CisNJCLn12ZZ4mUREDrX+aA66RfuJjkF0yVhYHYyFtWGlO75D2f7VCLzuYXgExcCQdQoFq9+CQuMFn1431m6nje+JoGtn/PNAlfqiz60OikHomJf+uUHxzxsLlad3oOLYJoSMfgHmokwUrH4LuvgeUHr6wmqoQPEfnyP09hdb4iUSETnc+mM5mHVNougYRJeMhdWBqk0WXuP5PAznjkGX0BeerXsDAFS+oag89geMWSfrbCep1FDq/Zv25ArleR9jKsiANrozNOFtoAlvg8Kkj2EuyYHS0xdFGxbDu/u1UPmENOs1ERGJdjy7DGeLKhHl7yk6CtEl4RpWB9qWnI9qk1V0DFnSRLZHddoBmArPAQCMuSmoPnsU2lY962xXnX4IGe+Mw7mP70XB2vdgqSq96HObizJx9r2JOPfhZOT9Mh/m0n+OcnsEx8OYfRqW6nIYsk/DZjZA5R+B6rNHYMxJhnfPG1r2hRIRORhP9CVXINl4CqHDPPnDISzbkS46hizZbFYUb/ocpTu+q3nL3mqF3xUT4NtvdO02FUc3QVJrofILhbkoC8V/fA7JQ4uw8a9DUigbfN6q5N2wmqqhDoiEpbwQJVu/grm8ABF3vQeFpuaIQ/GWZag4shGSygN+l4+DrnVvZC2ZgcDrHobh3DGU7V0Jpc4HAddMg0dwrEM+H0RELeWKtsH4/K4+omMQXRIuCXCgjby283lVHtuMiqMbEXTDLKiDY2HMSUFR0sdQ6gOh7zwMAODVYVDt9h7BcVCHxCPzo7tRnX4IurhuDT6vrnWvfz4IiYcmIhFnP7gLFce3wLvr1QAAv4Hj4DdwXO1mxVu+hDauGySFEiXbv0bEXe+h6vROFKx6A+GT3mr5F09EZEe7zhTCZLFCreSbquS8+NXrIGfyK3CuuEp0DNkq2rgYvpfdCq8Og+ARHAd9p6Hw7j0SJX9+c97HqP3CoND5wFzc+AsxKLR6qAMiYS5u+NK4poIMVBzdAL/Lx6M6/RC0UZ2g9PSFZ7vLYcxJhtXAK5QRkXOpMlmwP6NYdAyiS8LC6iDbkwtER5A1m8kASHW/HCVJAdjOv+bXXJoPa1UZlF4Bjd6P1VgFc3FWg4+x2WwoWPse/IfeDYWHDrBZYbOa/3rgX/+9QB4iIrnadpo/g8i5sbA6yJ8p/GZxIbqEPijZ9jUqk3fBXJKDypPbULrrR3i27QegpmgWbfgUhnPHYS7JQVXqfuR9/wJU/uHQxfeofZ6c5U+gdM8vtR8X/b4I1emHYC7JQfXZY8j7/iVAUtRZXvC38gNrodT5wDOhL4C/TwQ7CMO54yjd9RPUgTFQaPV2/kwQEbU8TqghZ8c1rA6y4wwL64UEXHkvijd/gcJ178NaWQKlPgD6biPgN+D2mg0kBYy5Z1B+OAnW6goo9QHQxXeH3+XjIf1rFqupKBuaf00OMJflI/+X+bBUlUKp84UmqgPCJiyA0tO3zv4tFUUo2b4CYePn196miUiET5+bkPvtc1B4+iLouoft+0kgIrKTfRnFqDZZoFU3fIIqkdxxSoADpOSVY+iCTaJjEBGRG1t2d18MSAgSHYOoWbgkwAH+TCkUHYGIiNwclwWQM2NhdYDtXL9KRESCbePJv+TEWFgdYAcLKxERCXbobAmqTRbRMYiahYXVzs7kVyC3zCA6BhERuTmz1YbD50pExyBqFhZWOzvAYc1ERCQTvIAAOSsWVjs7cLZYdAQiIiIALKzkvFhY7ezgWb79QkRE8sDCSs6KhdWOLFYbjmSysBIRkTycLapCQTnPqyDnw8JqRydzylBt4rXniYhIPniUlZwRC6sdHeT6VSIikhmeDEzOiIXVjg5w/SoREcnMPhZWckIsrHbEI6xERCQ3RzNLRUcgajIWVjsxWaw4kV0mOgYREVEdBRVGnnhFToeF1U5S8ytgsthExyAiIqrnRA4PqJBzYWG1k1O55aIjEBERNehUDn9GkXNhYbWT0yysREQkUzzCSs6GhdVOeISViIjk6hQLKzkZFlY74TcDIiKSq5NcEkBOhoXVDixWG87kV4iOQURE1KCSKhNySqtFxyBqNBZWO8gorITBzEuyEhGRfJ3kO4HkRFhY7YDrV4mISO74TiA5ExZWO0jJY2ElIiJ5O1tUJToCUaOxsNpBRlGl6AhEREQXlFHIn1XkPFhY7SCjkL+1EhGRvPEIKzkTFlY74BFWIiKSu7P8WUVOhIW1hdlsNpzjb61ERCRzRZUmlBvMomMQNQoLawsrqDBypBURETkFHmUlZ8HC2sKyijmImYiInAPPuSBnwcLawjJL+I+fiIicA4+wkrNgYW1hWcUsrERE5BxySg2iIxA1CgtrC8sp4z9+IiJyDgXl/JlFzoGFtYUVlhtFRyAiImqUwgr+zCLnwMLawgor+Y+fiIicQz4LKzkJFtYWVsR//ERE5CQKK7gkgJxDswrr0KFDUVxcXO/20tJSDB069FIzOTUeYSUiImdRwGVs5CSaVVg3btwIo7H+F3l1dTU2b958yaGcGY+wEhGRs6g0WlBtsoiOQXRRqqZsfPDgwdq/Hz16FNnZ2bUfWywWrFmzBpGRkS2XzslYrTaUVJlExyAiImq0/HIDovw9RccguqAmFdZu3bpBkiRIktTgW/86nQ7vvPNOi4VzNiVVJlhtolMQERE1XmGFkYWVZK9JhfXMmTOw2Wxo1aoVdu7cieDg4Nr7PDw8EBISAqVS2eIhnQXXrxIRkbMpqzaLjkB0UU0qrLGxsQAAq9VqlzDOjssBiIjI2VQauYaV5K9JhfXfTp06hQ0bNiA3N7degX3mmWcuOZgzquY/eiIicjKVRh5hJflrVmH9+OOPMXXqVAQFBSEsLAySJNXeJ0mS+xZWMwsrERE5lyoebCEn0KzC+uKLL+Kll17CnDlzWjqPU6s2cakEERE5Fy4JIGfQrDmsRUVFuO2221o6i9Pjb6lERORsqjiHlZxAswrrbbfdhnXr1rV0FqfHJQFERORseLCFnEGzlgQkJCTg6aefxp9//onOnTtDrVbXuX/69OktEs7ZcEkAERE5Gy4JIGcg2Wy2Jo+6j4+PP/8TShJSUlIuKZSzem/Dacxfe0J0DCIiokYb2yca827uIjoG0QU16wjrmTNnWjqHSzBwHRARETkZo5mXaCT5a9YaVmqYwcIlAURE5Fya8UYrkcM16wjrXXfddcH7P/3002aFcXYSpItvRETk5sr2rkTJju9hqSiCR0g8Aq68F5qIxPNuX7rrJ5Tt/xWW0jwodD7wTBwA/0F3QFJ5AADKj2xA8abPYDNWwavzlQgYNqX2seaSHOR8/TTC71gIhcbT7q/NGVlZWMkJNKuwFhUV1fnYZDLh8OHDKC4uxtChQ1skmDOS2FeJiC6o4tgfKPz9EwRe/QA8IhJRtvsn5K54BhFTPoLSy6/+9kc3omjTEgRd+xA0ke1hKjyHgl8XAgAChk2BpbIEhWveQeC1M6DyC0Put89BG9sVngl9AAAF696H/6BJLKsXYGVfJSfQrML6ww8/1LvNarVi6tSpaN269SWHclYKFlYiu5nWOhUVKiU8DJ7wqdZAY1DDptTCovCAVeEBi6SGFSq+zyFzb3y1Cu373YRbrxkHALB27IG5z92AbqnbcdWVd9Tb/tutachu1RXTho3+65bO+CH3ONLSjmBGeAjS0vLwsU6Pp4feCgBYcrA3ok1FGBYegj171mKvpxemDB7loFfnnMJ18i3zS5YswYwZM1BcXCw6CgnWrMLaEIVCgUceeQSDBw/Go48+2lJP61QUPMRKZDdnyz3xWtVT2BXVEUkRQdhcmQW/cqC1wQ8xVZ6IrFAhsAzQVSqhrlZCYVDAZlbAovOBVecNi8YLFg9PWNSesCg1MCs1MEseMEMNs00Jk1UBk1mC2QyYjDaYDFZYeeipRZktJmRkHMPV7UZDeawMAKAEkBjaDWmH9kEZeXO9x7TyaIPdab8iY9MuxIW0Q35pJo7t34I+ba6E8lgZwgz+MFVXI3PzXgToQ5GefAT9Iq6EYX8mfv3pAzx0w4LafVHDfPX2L6wZGRl49tlnsWbNGuTn5yM8PByjRo3CM888g8DAQABAXFwcZsyYgRkzZtg9DzmfFiusAJCcnAyz2dyST+lUWFeJ7OfHnBBc3noqbkmZjwEArJICB6K6IinKE78Yc3G2MrveY7Q2FdqaAtHa4IuoKh3CypXwL7HCv9gATUE5pLxC2IpLzrtPq04Pq08ArHo/WL18YdP6wOLpA4tGD4uHFyxqHSwqDSxKLcyS+q/yq6opvxYFTCbAZLTCZLTCamH5La8ugdVmhbfOv87tPjp/5BRnNPiY3m2GoaK6BG/+9BBssMFqtWBghxtwTY+aI7SeGm9MGDIHn294FSazAX3aXoUO0b2xbON8DOo4CgWl2fhozdOwWM24ttdEdG81yO6vk+pKSUlBv3790LZtW3z11VeIj4/HkSNHMHv2bKxevRp//vknAgICHJrJZDLVmyFP8taswvrII4/U+dhmsyErKwurVq3CHXfUf0vHXUg8wkpkVzOTu6NHm1GIz/gRCpsV3TP2oXvGPswCcCKsA9aHxSPJUoJT5ekAgGrJjIMeOTjokQN4Awip/5y+Nj3aGAMQb/BGVKUWIX+VWn1RNTwKSqHMLYAtJ/2Ss9s0Oli9A2D19ofVyw9WTx9YdN6w/qv8mlW6mqO/ksdfBVgJs0UJk0WCyYyaAmywwOJGY4hOZu7H2n1fYszA6YgNaY/80kx8u+09rN6zFCN6TgAAdI0fiK7xA2sfcyrzAM4VnsFtAx7E3OUTceewJ+HjGYD5PzyAhPAu9Qqzu5PsPC/ogQcegIeHB9atWwedTgcAiImJQffu3dG6dWs8+eSTOHbsGNLS0vDwww/j4YcfBlB3esHatWsxY8YMZGRkYODAgVi8eDHCw8Nr7//kk0+wYMECnDlzBnFxcZg+fTruv/9+AEBqairi4+OxfPlyvP/++9ixYwc+/PBDTJo0yb4vnFpUswrrvn376nysUCgQHByMBQsWXHSCgCvjkgAi+7vxzM3YGXoauoLDdW5PzD6KxOyjeABAelA8kiLaYb1UhUOlZ2DD+QteiVSN3ZpM7NYA8Gl4myCrL9oaAxBn0COyQoOQcgX8SizwKqyCOr8EyC2Arbr6grklQxWUhnNQ5p9r4iuuz+ahhdXbHza9PyxefrB6+cCi9YFV61Wz9EHtCYtKB7NCA4uyZtmDyaaC2aaE2SLVFF8TYDRaYXHgFfr0Wl8oJAXKquqeuFtaVQQfXcNH2FbtWow+ba5C//bXAQAiA1vBYKrCV5vfxDU9xkHxn7Zlshjx9Za3cMeQx5BXeg5WqwVtIroCAEJ8o5Cacwyd4/rb4dU5L4XSfo21sLAQa9euxUsvvVRbVv8WFhaGcePG4euvv8apU6fQrVs33HPPPZgyZUqd7SorK/H6669j6dKlUCgUGD9+PGbNmoVly5YBAJYtW4ZnnnkG7777Lrp37459+/ZhypQp8PLyqnMQ7bHHHsOCBQvQvXt3aLVau71mso9mFdYNGza0dA6XwL5KZH9lZhXuqJiG5drHoKgubnCbmPwzuDP/DO4EkOsbjt+jOyNJbcPukmSYbU1ftpSvqEC+tgLbtAB8G94m0hKANkZ/xFbrEVHhgeAyCb4lJngWVkKVVwJbXkFNS2wBkrEayoIsoCDrktd1WVUesPn4w6r3h632yK8PrFo9zH+XX7UWFoUWZqUHzPCAGSqYrX8f+ZVgNtlgNFphNl64/KbmHINGrcOS3+fBZK7GlKufQ+e4/jh5bh+u6DiqwceUVhVjx6l12HT4B/jpgzG8xziolDXjrGCzYdfp9fhpxycwmKpwWeI10Kh16BDdG9HBbXE47U9UGEpQZayAzsMLFqsZVhvnZf+XUmm/H16nTp2CzWZD+/btG7y/ffv2KCoqgsVigVKphLe3N8LCwupsYzKZ8OGHH9ae1D1t2jQ8//zztfc/++yzWLBgAW6+uWYNdHx8PI4ePYqPPvqoTmGdMWNG7TbkfC7pe11eXh5OnKi5FGliYiKCg4NbJJSzUnJMAJFD7Cz2wdsxs/BQ9dOQLnD0FABCSrJwe0kWbgdQovPDprieSNKpsa00GdUWQ4tlOqcsxTldKaAD0MA7zpINiLcEI8Hgj5hqT4RXeCCoDPApNkJXUAFlfgls+QWAxbFXzFOYjUBhDpSFOZf8XDalqubIr3dAzVFfT1/YdD6waGuWPVRpUtEzrj22n655l06pzMaqPQthslTj2gHXwUurxvs/vQhfXRCu7z0Z+SVZKCjNgiRJuLHPZBhMVVi28XV4ewagc0w/VBrK8eWmBRg/+FEE+YTjvVWPQa3ywDO3fwYA2HjoB3iotNiXsgk+ugDkFKcjNuT8817dlVJl/2sIXcrFCTw9PetMIAoPD0dubi4AoKKiAsnJyZg8eXKdI7Nmsxm+vnV/u+zVq1ezM5B4zSqsFRUVePDBB/H555/Daq35bVWpVGLixIl455134Okp3xEZ9uTloRQdgchtLExvhf5t7kKfjEWNfoxvVTFuPJaEGwFUeXhia1xPrNd744/yVJSZyu0XFoBNAlJURUhRFQFeAALrb6OyKdHaHIzWRl/EVHkirFyNwFIbfIqN0BaWQ5lXBGtBESDTQe+SxQxlcR5QnNfg/dcBuE4ClgUF4aXcHHy8+gN00GrxSUgouv76OADAnJ4GrVqNIZUHsKCoCHE6Ha6OaoWVh79CXlUlPFQqaBUWvHT9KKSWHoReq8Ptl/eBCSp8uFZCjza9ERnpjT8OJkGr1WDK8KexbMNCmC0mjB7wIPy83PvASkPsWVgTEhIgSRKOHTuGm266qd79x44dg7+//wUPeP335ChJkmoLcHl5zb/bjz/+GH379q2znVJZ92eyl5dXs14DyUOzT7ratGkTfvnlFwwYMAAAsGXLFkyfPh0zZ87EBx980KIhnYWnpkWHLhDRRYw9PQS7Y4/DP3trkx+rM1biypObcSUAk0KNnXE9kOQXhN8rz6LAUHTRx9uDWbLihDofJ9T5NaU2qP42WpsGbUwBaGX0RXSlDmHlKgSUWuFd1LjJB3Iwzt8fL+Xm4M2ISFzp7V3nvs9iYmv+YrXgQEkRBmi1mC4ZMT0yAgDwfUkxXsnNRezaD+FnscBYVYayxdMRoVbD11SFsQWHEfvV3fglLRVLomMQfvJzTI0KhM3LFzbFMVjOZtVMfdD9ddKbhyfMHl6wqnWwqLQwSxqYFTXLHkw2Jcx/jTurWfdrg8lggautKlCq7VdYAwMDcdVVV+H999/Hww8/XGcda3Z2NpYtW4aJEydCkiR4eHjA0sR3GEJDQxEREYGUlBSMGzeupeOTjDSrYX333Xf49ttvMXjw4Nrbrr32Wuh0OowePdptC6uXBwsrkSNZbArckjsZ67xToSpr/slMaqsJA1J2YACAp/4al7U+KAJJxlycq7z0t8pbUrVkxiGPXBzyyAX0aNbkAym3ALbyCodnb6p8sxmByrrfVwOVKpRbrai2WuGrVGJeWDgez8pCtc2KG318MNBLj6eyszDOzx/nTCY8cO4szDYbHggKwjXlxWiJ98GsXj6wegfUrPn18oFF5/vXrF89LJq/TnhTaWFRamCRPGD616xfs/mviQ8ymvWr8rDvkoB3330X/fv3xzXXXIMXX3yxzliryMhIvPTSSwBq5rD+8ccfuP3226HRaBAU1MBvbA147rnnMH36dPj6+mL48OEwGAzYvXs3ioqK6k01IufVrIZVWVmJ0NDQereHhISgsrLykkM5Ky8NlwQQOVpKpRaP+czCfOUcSBbjJT/fv8dlzQZwPKwDksLisd5SjNPlDc8KlRtHTT6Qgyu9vescpd1VWYmTBgOeDAnF8JQUvB4RgSCVEmPS0tBL54lA1aUfWFBUlEJRUXrJzwMAVq1XzZpfb39YvGrW/P5Tfr1g/uvIr0Xx95Hff2b9mi0SjCbUnPRmaP6sX7Wd3x1s06YNdu/ejWeffRajR49GYWEhwsLCMGrUKDz77LO1M1iff/553HvvvWjdujUMBkOj173efffd8PT0xPz58zF79mx4eXmhc+fOvACBi5FszVgJPWzYMAQGBuLzzz+vHQ1RVVWFO+64A4WFhVi/fn2LB3UGu1ILcduH20XHIHJLb7Xeg5HnFth1H+lB8Vgf0Q5JUjUOlaZccFyWKwi3eKOtMQCx1XpEVnogqEyCb7EZXoWVUOWXwJab3+zJBx1OHMfbDSwJ+LcJ6WnooNXi8ZB/DpD8vSRgZ5u29bY3Wq24JS0Vr4ZHQAlg8tkMbEloAwAYnZaKqYGBGKI///6cnc1DC6tP4F8Xuqi52IVFq4dV+/esX8+aZQ9Kbe2yB7NNhS5XxaNV/3jR8YkuqFm/Vi1cuBDDhw9HVFQUunatmW934MABaDQarFu3rkUDOhMuCSAS56HknuiWcCNiz/5st33E5J/BXflncBdaZlyW3GUpy5ClK7vg5INYSxASjP6IrfZCRIUHAksB32ITdIUVUOYVX9Lkg246Hf74z9KF7RWV6KbVNbj9h4UFGOjlhQ5aLY5WV8P8r+MxJpsNrn6xMclYDWV+02f9BvV/GwALK8lbsxpW586dcerUKSxbtgzHjx8HAIwdOxbjxo2rNxjYnXBJAJFYN6bdih3Bp6AtPGb3fdUZl+Xpj02xPbBeq8b2spYdlyVnNglIVRUjVVUMeAJoYPb/vycfhBarYU2vhl+FDThxHGcDfHBC6QHv8gpEqFR4Iy8XuWYzXgmvOcFqjK8fviwqwuu5ubjZ1xc7KiuxpqwUH0RF1dvPaYMBq0tL8V1cTfFq5eEBhSThu+JiBKlUOGM0ojOHxTdIeYGj3NQ4gwcPRrdu3bBw4UIANetxZ8yYIftlCRfL+d/XJVKzCuu8efMQGhpa72oUn376KfLy8jBnzpwWCedsPHmElUioEpMKk6um4wvNHEiGlllj2Bi+lUV1xmVtieuJJAeNy5K7f08+KE8vR+pHqbX3vXa45heLwAH+uPqO7jiyqBJVedU4OaYPAkqtCC4y4IPQILx68DCWphUhTKXC82FhGOilr7MPm82GuTnZmBMSCk9FzQlEWoUCL4eF44WcbBhtNjwVEopQXju+QYr/fD7tYfv27Rg4cCCGDx+OVatW2X1/jbVkyRLMmDEDxcXFLfq8u3btcsgYrUmTJuGzzz6rd/s111yDNWvWXPLzf//99/XGionSrIb10Ucf4csvv6x3e8eOHXH77be7bWH11rKwEom2tcgX78XOwgM5z170ogL2oDNW4qqTm3EV/h6X1RNJfoFCx2XJhb69Hp2WdGrwvkPIBab6QAMfPIW9/9wxBFCiFXpZNWhrDoCp2gfbKrUILVfCv/SvyQf5ZVjm4w1bWd1fDgbr9RisT7DnS3IJSt/znJnXghYtWoQHH3wQixYtQmZmJiIiIuy+z3+z2WywWCxQtcBJd43hyAspDR8+HIsXL65zm0ajaZHn/vuEODlo1iyL7OxshIeH17s9ODgYWVlZlxzKWWnVSug5i5VIuNfTErAv5o6Lb2hnNeOy/sQze1fh9xOH8Lk5EBP9OiPSs/6UFbqwMoUBezyy8K3PCSwMO4DHE/bivh77MX7YcYwecw63TavG1Dk+ePPhOPxwf2fsmtQLqbf0QfGVPWHq2QFSbBQkHZcENETp38AC5RZUXl6Or7/+GlOnTsV1112HJUuW1N63ceNGSJKEtWvXonv37tDpdBg6dChyc3OxevVqtG/fHj4+Pvi///u/OlOIrFYr5s2bh/j4eOh0OnTt2hXffvttveddvXo1evbsCY1Ggy1btlw069y5c9GtWzcsXboUcXFx8PX1xe23346ysrLabSoqKjBx4kTo9XqEh4djwYL6J3vGxcXVeRv9jTfeQOfOneHl5YXo6Gjcf//9tRc9AGqO9Pr5+WHt2rVo37499Ho9hg8f3qhOpdFoEBYWVueP/1//T202G+bOnYuYmBhoNBpERERg+vTp532uTz75BH5+fkhKSgJQsyTg38sF4uLi8OKLL9a+/tjYWPz888/Iy8vDyJEjodfr0aVLF+zevbvO83733Xfo2LEjNBoN4uLiGvycXUyz2lV0dDS2bt2K+Pi6i7S3bt3q8N+a5CZI74Fyg+udfEHkbMacvgq7Yk7AL1sekztcYVyW3BUoKrFdW4ntWgC+AOofV0G4xd9ukw+cklpt9zWsK1asQLt27ZCYmIjx48djxowZePzxxyFJ/1zOfO7cuXj33Xfh6emJ0aNHY/To0dBoNPjyyy9RXl6Om266Ce+8807tO7jz5s3DF198gQ8//BBt2rTBH3/8gfHjxyM4OBiDBg2qfd7HHnsMr7/+Olq1alVb4i4mOTkZP/74I1auXImioiKMHj0ar7zySu282NmzZ2PTpk346aefEBISgieeeAJ79+5Ft27dzvucCoUCb7/9NuLj45GSkoL7778fjz76KN5///3abSorK/H6669j6dKlUCgUGD9+PGbNmoVly5Y15dNdx3fffYc333wTy5cvR8eOHZGdnY0DBw40uO1rr72G1157DevWrUOfPn3O+5xvvvkmXn75ZTz99NN48803MWHCBPTv3x933XUX5s+fjzlz5mDixIk4cuQIJEnCnj17MHr0aMydOxdjxozBtm3bcP/99yMwMBCTJk1q9GtpVmGdMmUKZsyYAZPJhKFDhwIAkpKS8Oijj2LmzJnNeUqXEaTXILXAfWfREsmFySrhtry7sUafCmW5/N75aZd9FO2yj+IBuN+4LJFETz6QG5Wfn933sWjRIowfPx5AzdvXJSUl2LRpU52LD7344ou1V86cPHkyHn/8cSQnJ6NVq1YAgFtvvRUbNmzAnDlzYDAY8PLLL2P9+vXo168fAKBVq1bYsmULPvroozqF9fnnn8dVV13VpLxWqxVLliyB919FfsKECUhKSsJLL72E8vJyLFq0CF988QWGDRsGAPjss88Q1cCJgP/W0FHK++67r05hNZlM+PDDD9G6dWsAwLRp0/D8889fNO/KlSuh19ddh/zEE0/giSeeQHp6OsLCwnDllVdCrVYjJiamwTI6Z84cLF26FJs2bULHjh0vuL9rr70W9957LwDgmWeewQcffIDevXvjtttuq32ufv36IScnB2FhYXjjjTcwbNgwPP300wCAtm3b4ujRo5g/f779C+vs2bNRUFCA+++/H0ZjzaBurVaLOXPm4PHHH2/OU7qMIH3LrBshokt3qkKHJ31mYZ7iMUhW+R41c7dxWXLWlMkHrYw+iKnyQliFGkGlNngXG6ErqIAyrwjWgkKg6WPOHU7ZyKtJNdeJEyewc+dO/PDDDwAAlUqFMWPGYNGiRXUKa5cuXWr/HhoaCk9Pz9qy+vdtO3fuBACcPn0alZWV9Yqo0WhE9+7d69zWq1ev2r//u9SNHz8eH374YYOZ4+LiassqAISHhyM3NxdAzdFXo9GIvn371t4fEBCAxMTEC34e1q9fj3nz5uH48eMoLS2F2WxGdXU1Kisr4enpCQDw9PSsLav/3e/mzZsxYsSI2vs++uij2kvRDhkypN4VRv9ee3rbbbdh4cKFaNWqFYYPH45rr70WN9xwQ521vAsWLEBFRQV2795d53N+Pv/9fwXUTI/67225ubkICwvDsWPHMHLkyDrPMWDAACxcuBAWiwVKZeMmLDWrsEqShFdffRVPP/00jh07Bp1OhzZt2rTYIl9nFuTtIToCEf3L8qxwXJ4wDdedfVN0lEbhuCz5+/fkA3gBaKDzaWweaGMOQqtqH0RX6RBWoUJAqQ3eRQZoC8og5RXBVlTs6Oj1qOx8Us2iRYtgNpvrLBe02WzQaDR49913a2/795nokiTVOzNdkiRYrVYAqF37uWrVKkRGRtbZ7r895N9n6u/fv7/27z4+5z/R7EL7bo7U1FRcf/31mDp1Kl566SUEBARgy5YtmDx5MoxGY21hbWi/f1/bqVevXnXy//tqo15eXkhIaPjkwujoaJw4cQLr16/Hb7/9hvvvvx/z58/Hpk2bavd3+eWXY9WqVVixYgUee+yxi76e//6/Ot9tl/I5a8glnSGk1+vRu3fvlsriEoL1XNRPJDcPnO6NLgnXIfqsfMbpNMa/x2VVenhha1wPrNd7YzPHZcmeQbLgsDoHh9U5wHmWiHpbvdDWHID4ah9ENTD5QMorqDf5oKWpggLt9txmsxmff/45FixYgKuvvrrOfaNGjcJXX32Fdu3aNfl5O3ToAI1Gg/T09Dpv/1/M+UpdU7Ru3RpqtRo7duxATEwMAKCoqAgnT548b5Y9e/bAarViwYIFUPw1dm3FihVN2q9Op2t2fp1OhxtuuAE33HADHnjgAbRr1w6HDh1Cjx49AAB9+vTBtGnTMHz4cKhUKsyaNatZ+zmf9u3bY+vWrXVu27p1K9q2bdvoo6vAJRZWqo9HWInkaVT6aGwLPA1N0QnRUZrF01hRb1zWer9AbJD5uKyC3wtQ+HshTPk1SzI0kRqEjAyBd5eGW1z1uWrkfp+LqtQqmApMCBsbhqBr6h7CLN5WjOxvs2GttsL/cn+Ej/3n7CpjnhGpr6ei9dzWUOrkfTGXvycf7PHIAs5zwC/Q6oO2xgDEGbwRValBcJkCfiUWeBVVwSO/FMjNh62qutkZVCH2m1jx90lLkydPhq+vb537brnlFixatAjz589v8vN6e3tj1qxZePjhh2G1WjFw4ECUlJRg69at8PHxwR132G9CiF6vx+TJkzF79mwEBgYiJCQETz75ZG0RbUhCQgJMJhPeeecd3HDDDdi6det5lyM0h8FgQHZ2dp3bVCoVgoKCsGTJElgsFvTt2xeenp744osvoNPpEBsbW2f7/v3749dff8WIESOgUqla9IIHM2fORO/evfHCCy9gzJgx2L59O959990663cbg4W1hXENK5E8FRjVmGJ4CJ9p5kAylF38ATL297isAQCelhTYH9UVSUGRSDLm4Fxljuh4daj91Qi7LQweoTW/zBdvKUb6W+lo/XxraCPrvyNlNVjhEewBn94+yP4qu9795jIzzi0+h6i7o6AOViPtzTR4tfeCT7eaxpe5NBOht4XKvqw2VtMmH3gholKD4DIJviVmeBZWQZ1fUlNq/zrf5L9UYfYrrIsWLcKVV15Zr6wCNYX1tddew8GDB5v13C+88AKCg4Mxb948pKSkwM/PDz169MATTzxxqbEvav78+SgvL8cNN9wAb29vzJw5EyUlJefdvmvXrnjjjTfw6quv4vHHH8cVV1yBefPmYeLEiS2SZ82aNfVGjSYmJuL48ePw8/PDK6+8gkceeQQWiwWdO3fGL7/8gsDA+kfWBw4ciFWrVuHaa6+FUqnEgw8+2CL5evTogRUrVuCZZ57BCy+8gPDwcDz//PNNOuEKACSbzQlWhTuRfelFuOn9baJjENF5PBZ7EvflzBUdw26Oh3fA+tB4JMl4XNaxB44hdHQoAgZdeP3kiZknEHh1YJ0jrJUplUhfmI52b9e8lZz+fjp0cToEXxuM4j+LUbKjBLEPxZ7vKd2SZANiLH5IMPkhtlKPiEo1gsok+BSbEHvHPQjpP1h0RKKL4hHWFhbl7yk6AhFdwCtpbdGv7QR0TV8qOopdtMs6inZZRzENQFpQKyRFJCJJqsKh0jPCx2XZrDaU7CyB1WCFZ0LzvldqQjWwGq2oSquCOlCNqjNV8L/cH5YKC3K/z0XcnLiWDe0CbBKQpipGmqq4ZpzXvw6ufZ0YghBRwYiagIW1hQV7a+DpoUSl0TVm9BG5oltPD8ee6JPwydkhOopdxean4K78lDrjstarrNhTmuLQcVnVGdVIeTEFVpMVCo0CMQ/GNLgcoDGUXkpETYnC2Y/Pwma0wa+/H7w7e+PsorMIGBYAU74J6W+lw2axIWRUCHx71387mv4RqY+8+EZEMsDCagfR/p44kePca+SIXJnJKuHW/Huw2isVygp5rfm0l/+Oy9oY2wNJOjW2l9p/XJZHuAdaP98a1iorSnaV4OwnZxH/WHyzS6tPTx/49PznLKWK4xUwnDUgYnwETs45iej7oqHyVSH5+WR4JXpB5cMfdQ3xVHnCV8NCT87h/Ke1UbNFB3BZAJHcnazQYa5mFmwK9yszvpVFGHksCW/vXYNN6Zl4Qx2Ha/07wVutv/iDm0GhUkATqoEuToew28Kgjdai4LeCFnluq8mKzM8zEXFHBIy5RtgsNni184ImXANNmAaVybzy4PlE6N37UurkXFhY7SCGhZXIKSzNjMS6iAdExxCqZlzWH3h176/YdPoUPpAicKt/ZwRqGnfd9WaxATZTy6ynzfs5D/rOeujidLBZbcC/ZpXbzHU/prrCvRoYOUAkUyysdhAToBMdgYga6d7TfZEZOVx0DFlQW00YmPInnt27Cr+fOITPLEGY6NcFkZ7NH32U/U02Kk5UwJhnRHVGdc3Hxyvg188PAHD2f2eR/c0/46us5poTqqrSqmCz2GAuMqMqrQqGnPrLFqrPVaNkZwlCb67JpwnXABJQuKkQZfvLYMgyQNeK34/PJ9aH0xTIebjfe2EOEBPII6xEzmRkxlhsDUyGR9Ep0VFkQ2Gzokf6XvRI34vZaP64LHOpGWf/dxbmEjMUOgW00VrEzYyDvlPN8gNjgRGQ/rV9kRnJzybXfpy/Jh/5a/LhmeiJVo//c51zm82GzCWZCBsbBoWm5tiLwkOByLsjkbU0CzaTDeETwqH2r3u5S/pHvG+86AhEjcY5rHZwOrcMV77xh+gYRNQEQwIK8al5DiRjhegosie3cVnUPEuGL0HP0J6iYxA1CgurHRjMFnR4Zi0sVn5qiZzJ0/HHMTnredExnEqubziSojsjSW3FnhLHjsuiS7N5zGb4af1ExyBqFBZWOxm6YCNS8nikhsjZrGyzCp0ylomO4ZQcPS6Lmi9AG4BNYzaJjkHUaFzDaiftwrxZWImc0C3JI7A76gS8c3eLjuJ0/h6XNRJApYcXtsb1xHq9HpvLU1FmKhcdj/6llW+ri29EJCOcEmAniaE+F9+IiGTHYFVgdOF9sHoGi47i1OqMy0o+7ZhxWdRorf1ai45A1CQsrHaSGOYtOgIRNdOxck88r53tlhcVsAe1xVhvXNYEv86XNC6LLg0nBJCzYWG1k3YsrERObUlmFH6PnCo6hsv5e1zWo/tWYc2RXVhRrce9vp2RoI8SHc2t8AgrORuedGUnNpsNHZ9di0qjRXQUIroEf7ZegrBz60THcAscl+U4v9/2O4K57IWcCAurHY18bysOZBSLjkFElyBEY8IW/+fgUZwiOopbyfGNwO/RnTguyw58Nb7YcvsW0TGImoRLAuyoXSiXBRA5u1yDGg+YH4FN7SU6ilsJLcnE2MPr8Mm+9diYXYQXtW0w2K89NEqN6GhOr0NAB9ERiJqMhdWO2oezsBK5gt/yA/BZ0COiY7itv8dlvbNvLf5Iz8QCdRyu9e8Eb7VedDSn1Cmok+gIRE3GwmpHXaP9REcgohYy90x7HIu+XXQMt+dprMDV/x6XpYjkuKwm6hjYUXSEelJTUyFJEvbv3y86inCSJOHHH3+0+34GDx6MGTNm2H0/LYWF1Y46RPjAQ8lPMZGruDnlOpQH9xAdg/6ithgxMHk7x2U1Uccg+xbW7du3Q6lU4rrrrmv0Y6Kjo5GVlYVOnex/9DcuLg6SJEGSJHh5eaFHjx745ptv7LpPR5VQV8Y2ZUcalRLtuCyAyGVUWZQYWzwVVs8g0VHoPzguq3GCdEEI8wqz6z4WLVqEBx98EH/88QcyMzMb9RilUomwsDCoVI6Zffz8888jKysL+/btQ+/evTFmzBhs27bNIft2FRaLBVar1WH7Y2G1s25cFkDkUg6VeeFlz9mwSUrRUegC2mcdxbT9q/DDoW1YWabCDO+O6OLTChIk0dGE6hLUxa7PX15ejq+//hpTp07FddddhyVLltTeV1RUhHHjxiE4OBg6nQ5t2rTB4sWLAdRfEmCxWDB58mTEx8dDp9MhMTERb731Vp19TZo0CaNGjcLrr7+O8PBwBAYG4oEHHoDJZLpoTm9vb4SFhaFt27Z47733oNPp8MsvvzRqvwDw6aefomPHjtBoNAgPD8e0adMa/TkyGo2YNm0awsPDodVqERsbi3nz5p13+zlz5qBt27bw9PREq1at8PTTT9d5jXPnzkW3bt2wdOlSxMXFwdfXF7fffjvKyspqt6moqMDEiROh1+sRHh6OBQsW1NuPwWDArFmzEBkZCS8vL/Tt2xcbN26svX/JkiXw8/PDzz//jA4dOkCj0SA9Pb3Rr/tS8TIudtYjxh+fb08THYOIWtAnZ6MxsM29GJzxvugo1Aix+SmYnJ+Cyfh7XFZnJKktbjkuq2tIV7s+/4oVK9CuXTskJiZi/PjxmDFjBh5//HFIkoSnn34aR48exerVqxEUFITTp0+jqqqqweexWq2IiorCN998g8DAQGzbtg333HMPwsPDMXr06NrtNmzYgPDwcGzYsAGnT5/GmDFj0K1bN0yZMqXRmVUqFdRqNYxGY6P2+8EHH+CRRx7BK6+8ghEjRqCkpARbt25t9P7efvtt/Pzzz1ixYgViYmKQkZGBjIyM827v7e2NJUuWICIiAocOHcKUKVPg7e2NRx99tHab5ORk/Pjjj1i5ciWKioowevRovPLKK3jppZcAALNnz8amTZvw008/ISQkBE888QT27t2Lbt261T7HtGnTcPToUSxfvhwRERH44YcfMHz4cBw6dAht2rQBAFRWVuLVV1/FJ598gsDAQISEhDT6dV8qFlY76xnLEwGIXNGdpwdgR/wJhGQmiY5CTRBakomxJZkYC6DE0x8bY3tgvVaF7WUpMFgMouPZXddg+xbWRYsWYfz48QCA4cOHo6SkBJs2bcLgwYORnp6O7t27o1evXgBq1pKej1qtxnPPPVf7cXx8PLZv344VK1bUKaz+/v549913oVQq0a5dO1x33XVISkpqdGE1Go1YsGABSkpKMHTo0Ebt98UXX8TMmTPx0EMP1W7Xu3fvRu0PANLT09GmTRsMHDgQkiQhNjb2gts/9dRTtX+Pi4vDrFmzsHz58jqF1Wq1YsmSJfD2rlmGOGHCBCQlJeGll15CeXk5Fi1ahC+++ALDhg0DAHz22WeIivpnuUx6ejoWL16M9PR0REREAABmzZqFNWvWYPHixXj55ZcBACaTCe+//z66drXv11FDuCTAzqIDPBHizbmBRK7GZpMwMnMCTLwmu9Nyt3FZKoXKrhMCTpw4gZ07d2Ls2LE1+1OpMGbMGCxatAgAMHXqVCxfvhzdunXDo48+etE1o++99x569uyJ4OBg6PV6/O9//6v3FnTHjh2hVP6zPCc8PBy5ubkAgJdffhl6vb72z78fO2fOHOj1enh6euLVV1/FK6+8UnuS2IX2m5ubi8zMzNri91/33XdfnX02ZNKkSdi/fz8SExMxffp0rFt34Svpff311xgwYADCwsKg1+vx1FNP1fs8xMXF1ZbV/34ekpOTYTQa0bdv39r7AwICkJiYWPvxoUOHYLFY0LZt2zr5N23ahOTk5NrtPDw80KWLfZeVnA+PsDpAjxh/rDmSLToGEbWwrGoPTPd+GO+rH4NkqhQdhy7B3+OyrgZgUnpgR1xPrPcNwIbKsyg0FImO1yLa+beDVqW12/MvWrQIZrO59ggdUHOZco1Gg3fffRcjRoxAWloafv31V/z2228YNmwYHnjgAbz++uv1nmv58uWYNWsWFixYgH79+sHb2xvz58/Hjh076mynVqvrfCxJUu2JQPfdd1+do7H/zjV79mxMmjQJer0eoaGhkCSpUfvV6XQX/Bw8//zzmDVr1gW36dGjB86cOYPVq1dj/fr1GD16NK688kp8++239bbdvn07xo0bh+eeew7XXHMNfH19sXz58nprUC/0eWiM8vJyKJVK7Nmzp84vAADqFG+dTlf7uXI0FlYH6BMfwMJK5KJW5wXhy1YzMC7zZdFRqIX8PS5rIIBnJAX2RXdDUmAEfjfm4Fxljuh4zdY7vPFvWzeV2WzG559/jgULFuDqq6+uc9+oUaPw1Vdf4b777kNwcDDuuOMO3HHHHbj88ssxe/bsBgvr1q1b0b9/f9x///21t/37SF9jBAQEICAgoMH7goKCkJCQ0OT9ent7Iy4uDklJSRgyZEi9x4eEhDRqXaePjw/GjBmDMWPG4NZbb8Xw4cNRWFhYL++2bdsQGxuLJ598sva2tLSmnRfTunVrqNVq7NixAzExMQBqToA7efIkBg0aBADo3r07LBYLcnNzcfnllzfp+R2FhdUBBiRwBA6RK3sypRN6tbkNiRn2neVIjqewWdEzfS96pu/FowCOhXfA+tB4/G4pxuny858oI0eXhV9mt+f++2SfyZMnw9fXt859t9xyCxYtWoTMzEz07NkTHTt2hMFgwMqVK9G+ffsGn69Nmzb4/PPPsXbtWsTHx2Pp0qXYtWsX4uPtuwSnMfudO3cu7rvvPoSEhGDEiBEoKyvD1q1b8eCDDzZqH2+88QbCw8PRvXt3KBQKfPPNNwgLC4Ofn1+DedLT07F8+XL07t0bq1atwg8//NCk16TX6zF58mTMnj279kSpJ598EgrFP6tC27Zti3HjxmHixIlYsGABunfvjry8PCQlJaFLly5NmqlrL1zD6gCJYd4I5jpWIpd2c8pIVAR3Ex2D7Kx91lE8uH8Vfji01anGZWmUGvQM7Wm351+0aBGuvPLKemUVqCmsu3fvhkqlwuOPP44uXbrgiiuugFKpxPLlyxt8vnvvvRc333wzxowZg759+6KgoKDOUU97acx+77jjDixcuBDvv/8+OnbsiOuvvx6nTp1q9D68vb3x2muvoVevXujduzdSU1Px66+/1imQf7vxxhvx8MMPY9q0aejWrRu2bduGp59+usmva/78+bj88stxww034Morr8TAgQPRs2fdr4fFixdj4sSJmDlzJhITEzFq1Cjs2rWr9qisaJLNZrOJDuEOHlq+Dz/tb9wAZSJyTt18yvG98nEoqgpERyEHqx2XpbJgT6n8xmX1DeuLT675RHQMombjEVYH4bIAIte3v1SP+fpZsEn81upuQksyMfbwWnyyfz02ZhfhBW0bDPbrAI1SHu+uXRZhv+UARI7AI6wOkllchf6v/C46BhE5wBdtNmFgxkeiY5AMVHp4YUt8T6z30mNz+RmUmyqE5Pjy2i/RObizkH0TtQQWVgca8vpGnMkX882KiBxHkmzYGf8JgjM3iI5CMiJqXJa3hze23L4FCh75JyfGr14HGpAQKDoCETmAzSZhVOZEmHwufAUbci9/j8uau3cVNpw4hCWWIEzw64JIz1C77rdPWB+WVXJ6/Ap2oIFcx0rkNs5Va/CwbSZsdhzUTs7r73FZj+5biTVHdmFFtR73+HZGgj66xfdlz3FWRI7CJQEOVFZtQs8X1sNoafzVJ4jIub3a6iDGZL4iOgY5kdTg1kgKb4skqQqHS8/Ahkv7Mf3LqF8Q5xvXMuGIBGFhdbAJi3Zg86l80TGIyIHWt/kOCRnfiY5BTijHNwJJ0Z3wu8rarHFZsT6xWHnTSjulI3IcLglwsKs7homOQEQONvLMKFQG8QxtarrQkkz83+F1zR6XNSS6/uVDiZwRj7A6WHZJNfq9kgR+1oncSy/fMqyQHoOi2jFnhpNra+y4rM+Gf4YeoT0cnI6o5bGwCnDju1tw8GyJ6BhE5GDTolMxM/8pSDauY6eWY1J64M+4nkj6z7isAG0ANozewAkB5BJYWAV4J+kUFvx2UnQMIhLgqzYb0C/jY9ExyEVZJQX2RXfH+sAw6EI7YfplT4iORNQiWFgFOJFdhmsW/iE6BhEJoJSs2Bn3PwRm8XsA2dn/rQDaXiM6BVGL4PsEAiSGeSMmwFN0DCISwGJT4KbsSTD7tPy8TaJaGl+gFU+4ItfBwirINR3te2UTIpKv9CotZkkzYWvkmd5ETdbuWkDlIToFUYthYRXkxq6RoiMQkUA/5oTgh7DpomPUU2awYcaaasQuLIPupVL0X1SBXecsF3yMwWzDk0k1j9G8WIq4hWX4dJ+x9v7fks1o+045fOaVYsIPVTBa/lmJVlJtQ9t3ypFWzBPRWlSHUaITELUoFlZBOkf5olWwl+gYRCTQI8ndcSZ6lOgYddz9SxV+SzFj6U06HJqqx9WtlbhyaQXOlZ6/UI7+tgpJZyxYdKMOJ6bp8dUtOiQG1vx4sdps+L/vq3BfLzW2T/bC7kwL/rfHVPvYx9ZX475easT68cdRi9H4Aq2Hik5B1KL4HUKgUd14lJXI3d145mZUBXYUHQMAUGWy4bujZrx2pQZXxKqQEKDA3MFaJAQo8MFuY4OPWXPajE2pZvw6zhNXtlIhzk+BftEqDIhRAQDyK23Ir7Th/t4e6BiixI1tVTiWV3PEdluGGbsyLXioL9+6blGJI7gcgFwOC6tAI7tFiI5ARIKVmVWYVPEgbBpf0VFgtgIWG6BVSXVu16kkbElveFnAzydM6BWhxGtbDYh8owxt3ynHrHXVqDLVvO0f7CkhXC9hXbIZlSYbNqdb0CVUCZPFhqmrqvHR9TooFVKDz03N1HGU6ARELY6FVaDYQC90j/ETHYOIBNtR7IO3fGfDBrHFzVsjoV+UEi/8YUBmmRUWqw1fHDRi+1kLssobnoCYUmTFlnQLDuda8cMYTywcrsG3R024/9dqAIAkSVhxmw4v/GFAx/fL0T1Mgbu6q/HKFiOGxKmgVQEDPq1A4rvleHdnw0dxqQm4HIBclEp0AHc3qlsk9qUXi45BRIItTG+FAW3uRO+MT4XmWHqTDnf9XIXIN8qhlIAe4QqM7aTGnqyGj7BabYAkActu1sFXKwFQ4o1rgFtXVOH9a7XQqSUMjFFh1xR97WNOFljw+UET9t3rhSsWV+Chvh4Y0UaFTu9X4IpYJbqEKh30al1Q1zGAitMnyPXwCKtg13cJh4pvhxERgNtPD0VR2AChGVoHKLBpkhfKH/dGxsN67Jyih8lqQyv/hn9chHsrEOkt/VVWa7QPUsAG4Ox5TtS6d2U1FlytgdUG7Mu24raOaoR4KTAoTolNqReeSEAX0fNO0QmI7IKFVbBAvQYD2wSJjkFEMmCxKXBL7mSYvcWfkOnlISHcW4GiKhvWnjZjZGLDb8gNiFYis8yGcuM/SwZOFlihkIAon/o/YhbtNSJAJ+HGRDUsf/VZk+Wf/1p48cXmi74MCO0gOgWRXbCwysBtPXnFGyKqkVKpxWPKWbApxZzlvfa0GWtOm3GmyIrfks0Y8lkF2gUpcWc3NQDg8fXVmPhDVe32/9dZjUBPCXf+VIWjeRb8kWbG7N8MuKubGjp13XePciuseHGzAe+M0AIA/HUS2gcpsPBPI7ZnmJF0xowB0Vyp1my9eHSVXBcLqwxc3TEUQXquOSKiGt9mh+LnsAeF7LvEYMMDv1ah3XvlmPhjFQbGKLF2vCfUyprymVVuQ3rJP2/16z0k/DbBE8XVNvT6XwXGfV+FG9qq8PZfpfTfHlpTjZn9NIjw/udHz5JROiw/YsL1X1Vhdn8Nekdy/Wqz6Px5sQByaZLNxvdf5ODVNcfxwcZk0TGISEY2JSxH7NmfRccgZ3DZA8Dwl0WnILIbHmGVif/rEwOJ514R0b/cmHYrqgPai45BzqDnJNEJiOyKhVUmogM8cXmbYNExiEhGSkwqTK6aDpvGR3QUkrPYgUBwW9EpiOyKhVVGxvWNER2BiGRma5Ev3vObJfyiAiRjPNmK3AALq4wMaxeCMJ/6JyoQkXt7PS0B+2LuEB2D5MgzCGh/o+gURHbHwiojKqUCo3tzxBUR1Tfm9FUoDusnOgbJTbf/A1RiRqARORILq8yM7RPNK18RUT0mq4Tb8u6GRR8uOgrJhsSTrchtsLDKTLivDtd14Q8kIqrvVIUOT6pnwaZQi45CctBqEBDYWnQKIodgYZWhKZe3Eh2BiGRqeVY4Vkc8IDoGyUFPnmxF7oOFVYY6Rfqif+tA0TGISKbuP90HGVHXiY5BIunDgHb8GiD3wcIqU1Ou4FFWIjq/UemjYfBPFB2DROn/IKDk0hByHyysMjUkMQRtQ/WiYxCRTBUY1ZhieAg2D36fcDtewUCvu0SnIHIoFlYZu5trWYnoAv4o9MPHAbNExyBH6/8g4OEpOgWRQ7GwytiobpEI8daIjkFEMvZyalsciJkgOgY5imcg0Ptu0SmIHI6FVcY8VArcOSBedAwikrlbTw9HaWhf0THIEfpNAzy8RKcgcjgWVpmb0C8W/p5cWE9E52eyShhdMAUWr1DRUciedAFAn3tEpyASgoVV5vQaFScGENFFHS/3xFzNLNgUKtFRyF763Q9oeJIduScWVidwR784BHrxWtFEdGFLMyOxjhcVcE1aP6DPvaJTEAnDwuoEvDQq3MOjrETUCPee7ovMyOGiY1BLu+x+QOsjOgWRMCysTmJivzgE6XmUlYgubmTGWBj924iOQS1F4wtcdp/oFERCsbA6CZ2HEvcNai06BhE5gTyjGvcaHoKNZ5O7hsvuA7S+olMQCcXC6kTGXxaLYM5lJaJG2FAYgE8DZ4qOQZdK4wNcNlV0CiLhWFidiFatxFQeZSWiRnrhTDscjh4nOgZdij73ADp/0SmIhGNhdTLjL4tFTAAvyUdEjXNL8giUhfQSHYOaw0MP9OPUByKAhdXpeKgUmDO8negYROQkDFYFRhfeB6tnsOgo1FT9HwQ8A0SnIJIFFlYndF2XcPSM5VtERNQ4x8o98bx2Ni8q4Ez8YoABM0SnIJINFlYn9dR17SFJolMQkbNYkhmF3yN58o7TuOZlQK0VnYJINlhYnVT3GH9c3yVCdAwiciKTT/VDduTVomPQxbQeCrS/QXQKIllhYXVij16TCA8V/xcSUeONOvt/MPrxynmypVADI14TnYJIdth2nFh0gCfuHBAnOgYROZFsgwceMD8Cm5oXFZCly+4DgniVMqL/YmF1cg8MSUCgFy/ZSkSN91t+AJYGPSw6Bv2XPgwYNEd0CiJZYmF1cj5aNeaM4JgrImqaZ850wLHo20XHoH+76nlA4y06BZEssbC6gNt6RnHMFRE12c0p16E8uIfoGAQAMf2ArmNEpyCSLRZWFyBJEl4c1QlKBedcEVHjVVmUGFs8FVbPINFR3Juk4IlWRBfBwuoi2of7YFL/ONExiMjJHCrzwsues2GTlKKjuK+edwLhXUSnIJI1FlYX8shVbRHuy0HTRNQ0n5yNxqaoe0XHcE+6AGDoU6JTEMkeC6sL8dKo8NyNHUXHICIndOfpAciNGCY6hvsZ9jTgGSA6BZHssbC6mKs7huHqDqGiYxCRk7HZJIzMnACTb7zoKO4jvCvQY5LoFEROgYXVBT0/shO8tSrRMYjIyWRVe2C69WHY1J6io7g+SQlc/yag4I9hosbgvxQXFOarxTPXdxAdg4ic0Oq8IHwZPEN0DNc38GEgsqfoFEROg4XVRd3WKxpXtg8RHYOInNCTKZ1wIvo20TFcV2hnYPBjolMQORUWVhf28k2d4eepFh2DiJzQzSkjURHcTXQM16P0AG76EFDyezNRU7CwurAQHy2nBhBRs1RYFBhXcj+sukDRUVzLoDlAWCfRKYicDgurixvZLRLDO4aJjkFETmh/qR7z9bNgk/ijokVE9qpZu0pETcbvQm7gpZs6IdDLQ3QMInJCH2TEYmvUFNExnJ9KV7MUQMErihE1BwurGwjUa/DiKL4FRUTNM+H0FciLGCI6hnO7+gUgqI3oFEROi4XVTYzoHI7RvaJExyAiJ2SzSRiVORFmnxjRUZxT2xFAHx6lJroULKxu5LkbO6FNiF50DCJyQueqNXgYM2FTaUVHcS76MGDke6JTEDk9FlY3ovNQ4r1xPaBV8387ETXdL7nBWBEyQ3QMJyIBN30AeHHSAtGlYnNxM21DvfHsDRx1RUTNMyelC05H3yI6hnPo9wDQeqjoFEQugYXVDY3tE4Pru4SLjkFETmrkmVGoDOosOoa8hXUBhj0rbPepqamQJAn79+9vseeUJAk//vhjiz0fUVOwsLqpeTd3Rmygp+gYROSEKsxKTCybBqvWX3QUefLwBm5ZBKjsN05w0qRJkCSp9k9gYCCGDx+OgwcP2m2fRCKxsLopb60a74ztDg8lvwSIqOl2l3jjDe/ZvKhAPRJw8/+A4LZ239Pw4cORlZWFrKwsJCUlQaVS4frrr7f7folE4HcaN9Ylyg9PXd9edAwiclLvZsThz6jJomPIy5AngXbXOmRXGo0GYWFhCAsLQ7du3fDYY48hIyMDeXl59ba1WCyYPHky4uPjodPpkJiYiLfeeqvedp9++ik6duwIjUaD8PBwTJs27bz7f/bZZxEeHs6juuQQKtEBSKyJ/eJw+FwJVuw+KzoKETmh8acHYWfcCQRm/SE6ingdbwIGzRay6/LycnzxxRdISEhAYGAgKioq6txvtVoRFRWFb775BoGBgdi2bRvuuecehIeHY/To0QCADz74AI888gheeeUVjBgxAiUlJdi6dWu9fdlsNkyfPh0rV67E5s2bkZCQ4JDXSO6NhZXwwqhOOJlTjv0ZxaKjEJGTsdgUuCl7En73OQNVaYboOOKEdQFGvu/QXa5cuRJ6fc1s7YqKCoSHh2PlypVQKOq/eapWq/Hcc8/VfhwfH4/t27djxYoVtYX1xRdfxMyZM/HQQw/Vbte7d+86z2M2mzF+/Hjs27cPW7ZsQWRkpD1eGlE9XBJA0KiU+GhCTwR7a0RHISInlF6lxSxpJmxKN/0e4hUM3P4l4OHYE1mHDBmC/fv3Y//+/di5cyeuueYajBgxAmlpaQ1u/95776Fnz54IDg6GXq/H//73P6SnpwMAcnNzkZmZiWHDhl1wnw8//DB27NiBP/74g2WVHIqFlQAAoT5afDi+B0/CIqJm+TEnBD+ETRcdw/EUamD0UsAv2uG79vLyQkJCAhISEtC7d2988sknqKiowMcff1xv2+XLl2PWrFmYPHky1q1bh/379+POO++E0WgEAOh0ukbt86qrrsK5c+ewdu3aFn0tRBfDdkK1esYG4LmRvKgAETXPI8ndcSZ6lOgYjnXtfCC2n+gUAGrmpCoUClRVVdW7b+vWrejfvz/uv/9+dO/eHQkJCUhOTq6939vbG3FxcUhKSrrgPm688UZ8+eWXuPvuu7F8+fIWfw1E58PCSnWM7ROD/+sbIzoGETmpG8/cjKpAN/nFt/fdQK87he3eYDAgOzsb2dnZOHbsGB588EGUl5fjhhtuqLdtmzZtsHv3bqxduxYnT57E008/jV27dtXZZu7cuViwYAHefvttnDp1Cnv37sU777xT77luuukmLF26FHfeeSe+/fZbu70+on/jSVdUz3M3dkRqfgW2JReIjkJETqbMrMKkigexXDMHkqFEdBz7ibscGP6q0Ahr1qxBeHjNVQu9vb3Rrl07fPPNNxg8eDBSU1PrbHvvvfdi3759GDNmDCRJwtixY3H//fdj9erVtdvccccdqK6uxptvvolZs2YhKCgIt956a4P7vvXWW2G1WjFhwgQoFArcfPPNdnudRAAg2Ww2m+gQJD+l1Sbc+sE2nMwpFx2FiJzQjJgUPJT7NCS44I8Yv1jgno2AZ4DoJERug0sCqEE+WjWW3NkHoT5uetYvEV2ShemtsDta3NvlduOhB8Z+xbJK5GAsrHReEX46fDqpN/Qarhwhoqa7/fRQFIUNEB2jBUnATR8CoW6yRpdIRlhY6YI6RvjivXE9oFJIoqMQkZOx2BS4JXcyzN4uMq/zmpeA9vVPaCIi+2NhpYsa1DYYL9/UWXQMInJCKZVaPKacBZvSQ3SUSzP4CaDfA6JTELktFlZqlNG9ozF9KK8XTURN9212KH4Jf1B0jObrPx0YPEd0CiK3xsJKjfbI1YkYfxlntBJR000/3RNpUTeKjtF0vSYDV78gOgWR22NhpSZ5YWQn3NzDRdajEZFD3Zh2K6oD2ouO0XhdbgeuWyA6BRGBhZWaSJIkzL+1K67tHCY6ChE5mRKTCpOrpsOm8REd5eLa3wCMeh+QeMIpkRywsFKTKRUS3rq9O4YkBouOQkROZmuRL97zmwUbZFwEE64CbvkUUChFJyGiv7CwUrOolQp8ML4n+rcOFB2FiJzM62kJ2Bdzh+gYDYsdCIxZCqicfKoBkYthYaVm06qV+OSOXugZ6y86ChE5mTGnr0JxWD/RMeqK7An833JArROdhIj+g4WVLomnhwqL7+yNLlG+oqMQkRMxWSXclnc3LPpw0VFqhHYCxn8HaLxFJyGiBrCw0iXz0arxxd19eaSViJrkVIUOT6pnwaZQiw0SmABM+BHQ8XsYkVyxsFKL8NGq8fldfXBZqwDRUYjIiSzPCsfqCIFXkPKLASb+BOh5EimRnEk2m80mOgS5jmqTBfcs3YM/TuaJjkJETmRzwjJEn13l2J0GtwcmfA/4RDh2v0TUZDzCSi1Kq1bi44k9cWX7UNFRiMiJjEofDYN/ouN2GNMPuGs1yyqRk2BhpRanUSnxwfgeuK6zTE6mICLZKzCqMcXwEGweevvvLPFaYMIPXLNK5ERYWMku1EoF3h7bHTd352Vciahx/ij0w8cBs+y7kx4TgTFfcHQVkZPhGlayK5vNhnmrj+N/f6SIjkJETuKntqvRNX1pyz/xFbOBoU+1/PMSkd2xsJJDLN56Bi+sPAorv9qI6CLUChv2RL8Nn5wdLfOEkgIY8RrQZ0rLPB8RORwLKznM6kNZmPH1fhjMVtFRiEjm2ukrsUrzJJQVOZf2REoNcPNHQMebWiYYEQnBNazkMCM6h+OLu/vCVyd4SDgRyd7xck/M1cyCTaFq/pNofIDx37KsErkAFlZyqN5xAfhuaj9E+vGEByK6sKWZkVgXcX/zHqwPBSatAuKvaNlQRCQElwSQELml1Zi0eBeOZpWKjkJEMret9eeIOLem8Q8IaFUztso/zm6ZiMixeISVhAjx0eLbqf1wTUdeYICILmxkxlgY/ds0buOI7sBd61hWiVwMCysJ4+mhwofje+LBoQmioxCRjOUZ1bjPOAM2D68Lb9h1LHDnGkAf7JhgROQwLKwklCRJmHl1It4Z2x06tVJ0HCKSqd8L/PFp4MyG71SoasZW3fQhoNY6NhgROQTXsJJsHMkswb1L9+BsUZXoKEQkUyvbrEKnjGX/3OAVDNz2GRA3QFwoIrI7FlaSlaIKIx74ci+2JReIjkJEMqRRWLE7aiG8c3cDkT2B0UsBX14CmsjVsbCS7FisNryy+hg+3nxGdBQikqH2+kr82H0PNNc8B6g0ouMQkQOwsJJs/XY0B7O+OYCSKpPoKEQkExqVAi+M7ITRvaNFRyEiB2JhJVk7V1yFB7/ci73pxaKjEJFgsYGeeH9cD3SM8BUdhYgcjIWVZM9ssWL+2hP43+YU8KuVyD0N7xiG127rAh8tL+1M5I5YWMlpbDiei0dW7EdRJZcIELkLTw8lnr2hA8b0jhEdhYgEYmElp5JVUoXpX+3DrtQi0VGIyM66Rvli4e3dER90kQsGEJHLY2Elp2Ox2vDhpmS8tf4UjBar6DhE1MIUEjB1cGs8fGVbqJS8vg0RsbCSEzuaWYpHVuzH8ewy0VGIqIVE+unwxuiu6NsqUHQUIpIRFlZyakazFQvXn8RHf6TAYuWXMpEzu7FrBF68qRNPrCKielhYySXsSSvCrG8O4Ex+hegoRNREId4aPD+yE4Z3ChMdhYhkioWVXEaV0YJXVh/D53+mcfwVkZMY3SsKT17XAb46HlUlovNjYSWX82dKAZ784RCS83i0lUiuogN0mHdTFwxsEyQ6ChE5ARZWcklGsxUfbkrGextOw2DmJAEiuVBIwB394zD7mkR4eqhExyEiJ8HCSi7tTH4FnvrxELaeLhAdhcjttQ3V45VbuqBHjL/oKETkZFhYyS38uO8cXlx1FPnlRtFRiNyOt0aFh65sg0n94zhXlYiahYWV3EZJpQmvrDmG5bsyeFIWkQNIEnBLjyjMGd4Owd4a0XGIyImxsJLbOXS2BC+sPIqdqYWioxC5rM6RvnhuZEe+/U9ELYKFldzW6kNZmLf6ONILK0VHIXIZ/p5qzL6mHW7vHQ2FQhIdh4hcBAsruTWD2YIlW1Px7u+nUWYwi45D5LQ8lAqMvywW04clwM/TQ3QcInIxLKxEAArKDXjjt5NYviuDl3glagKFBIzqFolHrm6LKH9P0XGIyEWxsBL9y8mcMry+9gTWHc0RHYVI9oa2C8GjwxPRLsxHdBQicnEsrEQNOHS2BG/8dgIbTuSJjkIkOz1i/PDYiPboEx8gOgoRuQkWVqIL2JtehDfWncSW0/mioxAJlxjqjUeubotrOoaJjkJEboaFlagRdqQUYMFvJ7HzDEdhkfvpEuWLB4Yk4OoOoZAknvlPRI7HwkrUBFtO5ePdDafwZwqLK7m+PnEBeGBoAga1DRYdhYjcHAsrUTMcPFuMjzalYM2RbE4VIJdzeZsgTBuSgL6tAkVHISICwMJKdEnSCirw8eYUfLvnLKpNVtFxiJpNqZBwVftQ3De4NbpF+4mOQ0RUBwsrUQsoKDfgs+1pWLo9FUWVJtFxiBrNR6vC7X1iMLFfLOeoEpFssbAStaAqowXf7zuLL/5Mx7GsUtFxiM4rIUSPSf3jcHOPSHh6qETHISK6IBZWIjvZk1aEZX+mYeWhLBjNXC5A4kkSMCQxBJP6x+HyNkE845+InAYLK5GdFVUY8c2eDCzbkY60gkrRccgNhfpocEuPKIzuFY24IC/RcYiImoyFlchBbDYbNp/Kx5c70vH78VwYLTzqSvbjoVRgWPsQjO4VjSvaBkOp4NFUInJeLKxEAhRVGPHzgUx8v/csDpwtER2HXEhiqDdu6xWFm3tEIcDLQ3QcIqIWwcJKJNipnDL8uP8cfj6QiYzCKtFxyAkFe2twXedw3NQ9El05koqIXBALK5GM7EkrxE/7M7H6cDbyygyi45CM+XmqMbxjGG7sGoHLWgVCwbf8iciFsbASyZDVasO+jCKsO5KDtUeykcqTtQhAoJcHru4YihGdwtG/dSBUSoXoSEREDsHCSuQETmSXYe2RbKw7mo3D5zjf1Z20DvbCkMQQDG0fgr7xgTx5iojcEgsrkZM5W1SJ347m4I+TedhxphCVRovoSNSCtGoF+rUKxJB2IRiSGILoAF59ioiIhZXIiRnNVuxNL8KWU/nYfDofh84Ww8p/0U4nPsgLl7cJwpB2IejXKhBatVJ0JCIiWWFhJXIhJZUmbEuuKa/bkwtwJr9CdCRqQJsQPfrEB6Bvq0D0jQ9AqI9WdCQiIlljYSVyYQXlBuxNL8aetCLsTS/CwbPFqDbxggWOpJCAtqHeuOyvctonPgCBeo3oWEREToWFlciNmCxWHM0sxd70IuxJK8LBsyXIKKoEvwu0DEmqeXu/c6Rv7Z9Okb7w0qhERyMicmosrERurtxgxonsUhzNKsPxrFIczy7DiewylBvMoqPJmodKgfhALySGeaNLVE0x7RjhA2+tWnQ0IiKXw8JKRPXYbDZkFFbhaFYpkvPKkVZQgdSCSqQXVCKnrNqtjsj66tRICNGjdbAXWgfr//q7HtEBnhwxRUTkICysRNQk1SYL0gsrkVZQibSCCqQVVCKzuAp55QbklhqQX26A2UlGFUgSEOilQaSfFuG+OoT7aRHpp0O4rw4RflpEB3giiOtNiYiEY2ElohZls9lQWGFEbpkBeWWG2v8WVxpRZjCjvNqMCoO59u/lhn8+NpqbfkKYh0oBjVIBjVoBjUoJjUoBnYcS/p4e8PNUw89TDX9PD/jqav7r76WGr84DwXoNQn010Kg4QoqISO5YWIlINmw2G0wWG8xWa81/LVbYANhsgA02wAZIklRTUv/6I0l8W56IyNWxsBIRERGRrClEByAiIiIiuhAWViIiIiKSNRZWIiIiIpI1FlYiIiIikjUWViIiIiKSNRZWIiIiIpI1FlYiIiIikjUWViIiIiKSNRZWIiIiIpI1FlYiIiIikjUWViIiIiKSNRZWIiIiIpI1FlYiIiIikjUWViIiIiKSNRZWIiIiIpI1FlYiIiIikjUWViIiIiKSNRZWIiIiIpI1FlYiIiIikjUWViIiIiKSNRZWIiIiIpI1FlYiIiIikjUWViIiIiKSNRZWIiIiIpI1FlYiIiIikjUWViIiIiKSNRZWIiIiIpI1FlYiIiIikjUWViIiIiKSNRZWIiIiIpI1FlYiIiIikjUWViIiIiKSNRZWIiIiIpI1FlYiIiIikjUWViIiIiKSNRZWIiIiIpI1FlYiIiIikjUWViIiIiKSNRZWIiIiIpI1FlYiIiIikjUWViIiIiKSNRZWIiIiIpI1FlYiIiIikjUWViIiIiKSNRZWIiIiIpI1FlYiIiIikjUWViIiIiKSNRZWIiIiIpI1FlYiIiIikjUWViIiIiKSNRZWIiIiIpI1FlYiIiIikjUWViIiIiKSNRZWIiIiIpI1FlYiIiIikjUWViIiIiKSNRZWIiIiIpI1FlYiIiIikjUWViIiIiKSNRZWIiIiIpI1FlYiIiIikjUWViIiIiKStf8Hzu4zFCOGVLAAAAAASUVORK5CYII=\"></img>"
   ]
  },
  {
   "cell_type": "markdown",
   "id": "a877d168",
   "metadata": {},
   "source": [
    "## Target variable distribution among different races\n",
    "\n",
    "Before we attempt to calculate the demographic parity condition, we need to check how the target variable behaves under different race groups.\n",
    "\n",
    "| race                 |   income |\n",
    "|:---------------------|---------:|\n",
    "| _Amer-Indian-Eskimo_ | 0.117021 |\n",
    "| _Asian-Pac-Islander_ | 0.269256 |\n",
    "| _Black_              | 0.120811 |\n",
    "| _Other_              | 0.123153 |\n",
    "| _White_              | 0.253987 |\n",
    "\n",
    "It is evident that the _White_ group is privileged in this context. Similarly, _Asian-Pac-Islander_ group has a even larger rate of people earning more than 50 000 USD annually. Hence, we don't expect any trained model to be satisfying demographic parity condition.\n",
    "\n",
    "It is still, however, in question, whether other conditions are going to be violated.\n",
    "\n",
    "## Multi-class measures\n",
    "\n",
    "The classic measure for demographic parity and other conditions is defined for two groups. We propose an extension for multi-class setting as follows. Let $(a_i)_{i\\in I}$ be mutually exclusive groups from a protected attribute $A$. Then a predictor $\\hat{Y}$ satisfies the demographic parity condition whenever\n",
    "\n",
    "$$P\\left(\\hat{Y}=1|A=a_i\\right) = P\\left(\\hat{Y}=1|A\\neq a_i\\right)$$\n",
    "\n",
    "for each $i\\in I$. Similarly we define other measures.\n",
    "\n",
    "## Score metric\n",
    "\n",
    "As the exact equality is almost never demanded, we propose a simple score metric for measuring ratio deviation:\n",
    "\n",
    "$$S(x,y) = |\\ln(x) - \\ln(y)|$$\n",
    "\n",
    "The smaller deviation from $1$ is, the better score is. The score is invariant to the transformation $x\\mapsto \\tfrac{1}{x}$. We set the threshold $\\tau=\\ln \\tfrac{5}{4}$ corresponding to the commonly accepted _four-fifths_ rule. For a multi-class comparison, we may employ a _not a single one discriminated group_ principle, which means the overall score is **the maximum value** of all scores. This focuses on the worst aspect of a predictor instead of allowing averaging the general score at the expense of the most unprivileged group(s)."
   ]
  },
  {
   "cell_type": "markdown",
   "id": "f5c686d4",
   "metadata": {},
   "source": [
    "## Logistic regression\n",
    "\n",
    "A simple logistic regression has been trained. It barely exceeds the constant model performance.\n",
    "\n",
    "| | accuracy | $F_1$ score |\n",
    "|-|-|-|\n",
    "| train | 79.68% | 38.16% |\n",
    "| test | 80.37% | 39.23% |"
   ]
  },
  {
   "cell_type": "markdown",
   "id": "6242ee46",
   "metadata": {},
   "source": [
    "### Demographic parity\n",
    "\n",
    "As it has been noticed, it is hard to expect any classifier to satisfy the demographic parity. We can observe than the most unprivileged group is _Black_.\n",
    "\n",
    "| race               |     value |   value_comp |    ratio |     score | threshold   |\n",
    "|:-------------------|----------:|-------------:|---------:|----------:|:------------|\n",
    "| _Black_              | 0.0529349 |    0.084952  | 0.62312 | 0.473023  | False       |\n",
    "| _Amer-Indian-Eskimo_ | 0.0659574 |    0.095745 | 0.68889 | 0.372675  | False       |\n",
    "| _Other_              | 0.0640394 |    0.086207 | 0.74286 | 0.297252  | False       |\n",
    "| _Asian-Pac-Islander_ | 0.0980908 |    0.081633 | 1.20161  | 0.183665  | True        |\n",
    "| _White_              | 0.0923327 |    0.088789 | 1.03991  | 0.039137  | True        |\n",
    "\n",
    "Here's a brief explanation of the table:\n",
    "* `value` describes the value of the considered measure ($P\\left(\\hat{Y}=1|A=a_i\\right)$ here) for a group\n",
    "* `value_comp` describes the value of considered measure for the complement of a group\n",
    "* `ratio` is the ratio of the two above\n",
    "* `score` is the calculated deviation score for a group\n",
    "* `threshold` tells whether the group satisfies four-fifths rule"
   ]
  },
  {
   "cell_type": "markdown",
   "id": "c9836bd7",
   "metadata": {},
   "source": [
    "### Equal opportunity\n",
    "\n",
    "The logistic regression model turned to be mostly satisfying this condition. Only one group is observed to have this condition violated, namely _Amer-Indian-Eskimo_. Besides the second-worst group in this regard, _Black_, the last three groups have very good score.\n",
    "\n",
    "| race               |    value |   value_comp |    ratio |     score | threshold   |\n",
    "|:-------------------|---------:|-------------:|---------:|----------:|:------------|\n",
    "| _Amer-Indian-Eskimo_ | 0.516129 |     0.755556 | 0.68311 | 0.381097  | False       |\n",
    "| _Black_              | 0.600806 |     0.721106 | 0.83317 | 0.182513  | True        |\n",
    "| _Asian-Pac-Islander_ | 0.697987 |     0.741935 | 0.94077 | 0.061062 | True        |\n",
    "| _Other_              | 0.615385 |     0.628571 | 0.97902 | 0.021202 | True        |\n",
    "| _White_              | 0.721992 |     0.710356 | 1.01638 | 0.016247 | True        |\n",
    "\n",
    "The overall score $0.38$ still exceeds the allowed threshold."
   ]
  },
  {
   "cell_type": "markdown",
   "id": "34cb674c",
   "metadata": {},
   "source": [
    "### Predictive Rate Parity\n",
    "\n",
    "The model violates equality of positive predictive value, as it has been shown in the table below:\n",
    "\n",
    "| race               |    value |   value_comp |    ratio |    score | threshold   |\n",
    "|:-------------------|---------:|-------------:|---------:|---------:|:------------|\n",
    "| _Amer-Indian-Eskimo_ | 0.277778 |     0.120879 | 2.29798  | 0.832030 | False       |\n",
    "| _Black_              | 0.191860 |     0.121577 | 1.57810  | 0.456219 | False       |\n",
    "| _Other_              | 0.227273 |     0.173333 | 1.31119  | 0.270934 | False       |\n",
    "| _Asian-Pac-Islander_ | 0.128571 |     0.107383 | 1.19732  | 0.180087 | True        |\n",
    "| _White_              | 0.120517 |     0.126621 | 0.95180  | 0.049407 | True        |\n",
    "\n",
    "What's interesting, negative predictive value is satisfied.\n",
    "\n",
    "| race               |    value |   value_comp |    ratio |       score | threshold   |\n",
    "|:-------------------|---------:|-------------:|---------:|------------:|:------------|\n",
    "| _Asian-Pac-Islander_ | 0.959459 |     0.972438 | 0.98665 | 0.0134358   | True        |\n",
    "| _Other_              | 0.97191  |     0.959627 | 1.01280  | 0.0127183   | True        |\n",
    "| _Black_              | 0.975965 |     0.969132 | 1.00705  | 0.0070256   | True        |\n",
    "| _Amer-Indian-Eskimo_ | 0.963855 |     0.969101 | 0.99458 | 0.0054277   | True        |\n",
    "| _White_              | 0.965591 |     0.966141 | 0.99943 | 0.0005693   | True        |\n"
   ]
  },
  {
   "cell_type": "markdown",
   "id": "38dcb2ec",
   "metadata": {},
   "source": [
    "Here's the summary (the higher metric, the worse model is):\n",
    "\n",
    "<img src=\"data:image/png;base64,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\"></img>"
   ]
  },
  {
   "cell_type": "markdown",
   "id": "6a0d2d2e",
   "metadata": {},
   "source": [
    "### Conclusion\n",
    "\n",
    "The logistic regression, regardless of the questionable accuracy, is hardly considered a fair model. However, it almost satisfies the equal opportunity condition."
   ]
  },
  {
   "cell_type": "markdown",
   "id": "1a13288d",
   "metadata": {},
   "source": [
    "## Random Forest Classifier\n",
    "\n",
    "The random forest outperformed the logistic regression model. The following table shows performance metrics for this model:\n",
    "\n",
    "| | accuracy | $F_1$ score |\n",
    "|-|-|-|\n",
    "| train | 99.98% | 86.04% |\n",
    "| test | 99.97% | 68.35% |"
   ]
  },
  {
   "cell_type": "markdown",
   "id": "0f3e0eba",
   "metadata": {},
   "source": [
    "### Demographic parity\n",
    "\n",
    "It is no surprise that `RandomForestClassifier` fails at this criterion.\n",
    "\n",
    "| race               |    value |   value_comp |    ratio |     score | threshold   |\n",
    "|:-------------------|---------:|-------------:|---------:|----------:|:------------|\n",
    "| _Amer-Indian-Eskimo_ | 0.114894 |     0.242553 | 0.47368 | 0.747214  | False       |\n",
    "| _Black_              | 0.117182 |     0.228815 | 0.51213 | 0.669183  | False       |\n",
    "| _Other_              | 0.118227 |     0.209360 | 0.56471 | 0.571450  | False       |\n",
    "| _Asian-Pac-Islander_ | 0.267281 |     0.236340 | 1.13092  | 0.123031  | True        |\n",
    "| _White_              | 0.248072 |     0.234352 | 1.05855  | 0.056897  | True        |\n",
    "\n",
    "Although race classes are have feature importance of $2.5\\%$ in total, the predictor is even more discriminating that the previous model. However, as it can be seen, the `value` columns resembles the actual means from the empirical distribution and this condition is hard to satisfy without compromising the model accuracy."
   ]
  },
  {
   "cell_type": "markdown",
   "id": "55b7832b",
   "metadata": {},
   "source": [
    "### Equal opportunity\n",
    "\n",
    "The model is very fair considering the equal opportunity criterion.\n",
    "\n",
    "| race               |    value |   value_comp |    ratio |      score | threshold   |\n",
    "|:-------------------|---------:|-------------:|---------:|-----------:|:------------|\n",
    "| _Other_              | 0.979167 |     0.917647 | 1.06704  | 0.06488900 | True        |\n",
    "| _Amer-Indian-Eskimo_ | 0.962963 |     0.947368 | 1.01646  | 0.01632690 | True        |\n",
    "| _Asian-Pac-Islander_ | 0.953202 |     0.944290 | 1.00944  | 0.00939381 | True        |\n",
    "| _Black_              | 0.947177 |     0.945896 | 1.00135  | 0.00135353 | True        |\n",
    "| _White_              | 0.951834 |     0.953101 | 0.99867  | 0.00133031 | True        |\n",
    "\n",
    "\n",
    "There is no discriminated group, which is a fairly good result."
   ]
  },
  {
   "cell_type": "markdown",
   "id": "a848abde",
   "metadata": {},
   "source": [
    "### Predictive Rate Parity\n",
    "\n",
    "This condition is not fulfilled. The _Other_ group is a witness of that:\n",
    "\n",
    "| race               |    value |   value_comp |    ratio |     score | threshold   |\n",
    "|:-------------------|---------:|-------------:|---------:|----------:|:------------|\n",
    "| Other_              | 0.250000 |     0.538462 | 0.464286 | 0.767255  | False       |\n",
    "| Amer-Indian-Eskimo_ | 0.400000 |     0.500000 | 0.800000 | 0.223144  | True        |\n",
    "| Black_              | 0.386667 |     0.436090 | 0.886667 | 0.120286  | True        |\n",
    "| Asian-Pac-Islander_ | 0.463415 |     0.512821 | 0.903659 | 0.101304  | True        |\n",
    "| White_              | 0.400803 |     0.391304 | 1.024270 | 0.023985  | True        |\n",
    "\n",
    "As previously, NPV is preserved:\n",
    "\n",
    "| race               |    value |   value_comp |    ratio |       score | threshold   |\n",
    "|:-------------------|---------:|-------------:|---------:|------------:|:------------|\n",
    "| _Other_              | 0.997191 |     0.978261 | 1.01935  | 0.0191660   | True        |\n",
    "| _Amer-Indian-Eskimo_ | 0.995181 |     0.983146 | 1.01224  | 0.0121666   | True        |\n",
    "| _Black_              | 0.992959 |     0.983871 | 1.00924  | 0.0091951  | True        |\n",
    "| _White_              | 0.983983 |     0.985530 | 0.99843  | 0.0015703  | True        |\n",
    "| _Asian-Pac-Islander_ | 0.982883 |     0.982773 | 1.00011  | 0.0001113  | True        |\n",
    "\n"
   ]
  },
  {
   "cell_type": "markdown",
   "id": "cf4d6b6e",
   "metadata": {},
   "source": [
    "Here's the summary:\n",
    "\n",
    "<img src=\"data:image/png;base64,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\"></img>"
   ]
  },
  {
   "cell_type": "markdown",
   "id": "682434be",
   "metadata": {},
   "source": [
    "### Conclusion\n",
    "\n",
    "The model turned out to be fair considering equal opportunities. As previously, the random forest model is not fair in the remaining aspects."
   ]
  },
  {
   "cell_type": "markdown",
   "id": "96d0e7b5",
   "metadata": {},
   "source": [
    "### Improving fairness\n",
    "\n",
    "As we discussed, there is no viable way of improving demographic parity without compromising the accuracy. As the equal opportunities are realized (or almost realized), the question is: _can we improve the predictive rate parity?_\n",
    "\n",
    "In order to do that, we followed the following steps:\n",
    "* We created an artificial training set containing equal number race representants with the same proportion of positive/negative classes\n",
    "* We changed the threshold of a model to balance between PPV and NPV\n",
    "* We removed columns corresponding to one-hot-encoding of a race (although it is not expected to help much)\n",
    "\n",
    "We couldn't satisfy four-fifths rule but we got close to that. This severely degraded the performance\n",
    "\n",
    "| | accuracy | $F_1$ score |\n",
    "|-|-|-|\n",
    "| train | 48.22% | 16.05% |\n",
    "| test | 53.25% | 28.32% |"
   ]
  },
  {
   "cell_type": "markdown",
   "id": "bdb8c14b",
   "metadata": {},
   "source": [
    "### Demographic parity\n",
    "\n",
    "Demographic parity has been _almost_ achieved. _Amer-Indian-Eskimo_ slightly violates the four-fifths rule.\n",
    "\n",
    "| race               |    value |   value_comp |    ratio |      score | threshold   |\n",
    "|:-------------------|---------:|-------------:|---------:|-----------:|:------------|\n",
    "| _Amer-Indian-Eskimo_ | 0.568085 |     0.425532 | 1.33500  | 0.288931   | False       |\n",
    "| _Asian-Pac-Islander_ | 0.516787 |     0.416063 | 1.24209  | 0.216794   | True        |\n",
    "| _Black_              | 0.344077 |     0.419851 | 0.81952  | 0.199034   | True        |\n",
    "| _Other_              | 0.502463 |     0.460591 | 1.09091  | 0.087011   | True        |\n",
    "| _White_              | 0.424142 |     0.421316 | 1.00671  | 0.006684  | True        |"
   ]
  },
  {
   "cell_type": "markdown",
   "id": "eec1f5f3",
   "metadata": {},
   "source": [
    "### Equal opportunity\n",
    "\n",
    "The model doesn't give equal opportunities as it is shown in the following table. The deviations are quite high.\n",
    "\n",
    "| race               |    value |   value_comp |    ratio |     score | threshold   |\n",
    "|:-------------------|---------:|-------------:|---------:|----------:|:------------|\n",
    "| _Black_              | 0.111658 |     0.212920 | 0.52441  | 0.645478  | False       |\n",
    "| _Amer-Indian-Eskimo_ | 0.120521 |     0.215768 | 0.55857  | 0.582377  | False       |\n",
    "| _Other_              | 0.112069 |     0.169725 | 0.66030  | 0.415064  | False       |\n",
    "| _Asian-Pac-Islander_ | 0.234066 |     0.200269 | 1.16876  | 0.155942  | True        |\n",
    "| _White_              | 0.227230 |     0.216784 | 1.04818  | 0.047058  | True        |\n",
    "\n",
    "This is a hint showing that increasing one fairness measure is negatively correlated with other fairness measures."
   ]
  },
  {
   "cell_type": "markdown",
   "id": "da999b79",
   "metadata": {},
   "source": [
    "### Predictive Rate Parity\n",
    "\n",
    "Finally, let us show PPV and NPV for the last model\n",
    "\n",
    "| race               |    value |   value_comp |    ratio |     score | threshold   |\n",
    "|:-------------------|---------:|-------------:|---------:|----------:|:------------|\n",
    "| _Amer-Indian-Eskimo_ | 0.910853 |     0.697248 | 1.30635  | 0.267240  | False       |\n",
    "| _Other_              | 0.866667 |     0.753695 | 1.14989  | 0.139667  | True        |\n",
    "| _Black_              | 0.795814 |     0.701932 | 1.13375  | 0.125530 | True        |\n",
    "| _Asian-Pac-Islander_ | 0.728155 |     0.689751 | 1.05568  | 0.054184 | True        |\n",
    "| _White_              | 0.678202 |     0.691886 | 0.98022  | 0.019975 | True        |\n",
    "\n",
    "| race               |    value |   value_comp |    ratio |      score | threshold   |\n",
    "|:-------------------|---------:|-------------:|---------:|-----------:|:------------|\n",
    "| _Amer-Indian-Eskimo_ | 0.433735 |     0.573034 | 0.75691 | 0.278511   | False       |\n",
    "| _Asian-Pac-Islander_ | 0.459459 |     0.571059 | 0.80457 | 0.217443   | True        |\n",
    "| _Black_              | 0.658412 |     0.575640 | 1.14379 | 0.134349   | True        |\n",
    "| _Other_              | 0.488764 |     0.524845 | 0.93126 | 0.071223   | True        |\n",
    "| _White_              | 0.565977 |     0.570712 | 0.99170 | 0.008333   | True        |"
   ]
  },
  {
   "cell_type": "markdown",
   "id": "db010ca1",
   "metadata": {},
   "source": [
    "<img src=\"data:image/png;base64,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\"></img>"
   ]
  },
  {
   "cell_type": "markdown",
   "id": "27eaf088",
   "metadata": {},
   "source": [
    "## Conclusions\n",
    "\n",
    "We were able to improve significantly Predictive Rate Parity and the demographic parity at the same time, however at the expense of accuracy and equal opportunity condition.\n",
    "\n",
    "In general, improving fairness conditions reduces the performance metrics, especially when the unwanted bias is already in the data. Lowering accuracy of a biased model is a side-effect of other phenomena which is minimizing unwanted biases.\n",
    "\n",
    "As satisfying all fairness criteria is almost never possible for concrete cases, this manifests in the results as a negative correlation between these. We leave that statement without exact computations of correlations as we find it rather evident from the examples above."
   ]
  },
  {
   "cell_type": "markdown",
   "id": "86d013c6",
   "metadata": {},
   "source": [
    "# Appendix "
   ]
  },
  {
   "cell_type": "markdown",
   "id": "8f365ecc",
   "metadata": {},
   "source": [
    "## Packages import"
   ]
  },
  {
   "cell_type": "code",
   "execution_count": 1,
   "id": "66b227c0",
   "metadata": {
    "ExecuteTime": {
     "end_time": "2023-10-20T09:09:21.049940Z",
     "start_time": "2023-10-20T09:09:11.472606Z"
    }
   },
   "outputs": [],
   "source": [
    "from typing import Callable\n",
    "\n",
    "import dalex as dx\n",
    "import numpy as np\n",
    "import pandas as pd\n",
    "\n",
    "import matplotlib.pyplot as plt\n",
    "\n",
    "from sklearn.ensemble import RandomForestClassifier\n",
    "from sklearn.linear_model import LogisticRegression\n",
    "from sklearn.metrics import accuracy_score, f1_score\n",
    "from sklearn.metrics import confusion_matrix, classification_report\n",
    "from sklearn.model_selection import train_test_split\n",
    "\n",
    "from xgboost import XGBClassifier\n",
    "from tabpfn import TabPFNClassifier"
   ]
  },
  {
   "cell_type": "code",
   "execution_count": 2,
   "id": "054aaebb",
   "metadata": {
    "ExecuteTime": {
     "end_time": "2023-10-20T09:09:21.078779Z",
     "start_time": "2023-10-20T09:09:21.051874Z"
    }
   },
   "outputs": [],
   "source": [
    "RANDOM_STATE = 42\n",
    "TEST_SIZE = 0.2"
   ]
  },
  {
   "cell_type": "markdown",
   "id": "ff79b073",
   "metadata": {},
   "source": [
    "## Auxiliary functions"
   ]
  },
  {
   "cell_type": "code",
   "execution_count": 3,
   "id": "3b4580cc",
   "metadata": {
    "ExecuteTime": {
     "end_time": "2023-10-20T09:09:21.178147Z",
     "start_time": "2023-10-20T09:09:21.083514Z"
    }
   },
   "outputs": [],
   "source": [
    "def get_train_test_metric(model, metric, X_train, X_test, y_train, y_test):\n",
    "    accuracy_train = metric(model.predict(X_train), y_train)\n",
    "    accuracy_test  = metric(model.predict(X_test),  y_test)\n",
    "    return accuracy_train, accuracy_test\n",
    "\n",
    "\n",
    "def get_train_test_accuracy(model, X_train, X_test, y_train, y_test):\n",
    "    return get_train_test_metric(model, accuracy_score, X_train, X_test, y_train, y_test)\n",
    "\n",
    "\n",
    "def get_train_test_f1_score(model, X_train, X_test, y_train, y_test):\n",
    "    return get_train_test_metric(model, f1_score, X_train, X_test, y_train, y_test)"
   ]
  },
  {
   "cell_type": "code",
   "execution_count": 4,
   "id": "1eb7bee1",
   "metadata": {
    "ExecuteTime": {
     "end_time": "2023-10-20T09:09:21.226120Z",
     "start_time": "2023-10-20T09:09:21.179999Z"
    }
   },
   "outputs": [],
   "source": [
    "def print_results(train_accuracy, test_accuracy, train_f1_score, test_f1_score):\n",
    "    print('''Train accuracy: {:.2f}%\n",
    "Test accuracy:  {:.2f}%\n",
    "\n",
    "Train F1 score: {:.2f}%\n",
    "Test F1 score:  {:.2f}%\n",
    "'''.format(\n",
    "        100 * train_accuracy, 100 * test_accuracy,\n",
    "        100 * train_f1_score, 100 * test_f1_score\n",
    "    ))"
   ]
  },
  {
   "cell_type": "markdown",
   "id": "37f3ff14",
   "metadata": {},
   "source": [
    "## Data analysis"
   ]
  },
  {
   "cell_type": "code",
   "execution_count": 5,
   "id": "899841c7",
   "metadata": {
    "ExecuteTime": {
     "end_time": "2023-10-20T09:09:21.395036Z",
     "start_time": "2023-10-20T09:09:21.227392Z"
    }
   },
   "outputs": [
    {
     "data": {
      "text/html": [
       "<div>\n",
       "<style scoped>\n",
       "    .dataframe tbody tr th:only-of-type {\n",
       "        vertical-align: middle;\n",
       "    }\n",
       "\n",
       "    .dataframe tbody tr th {\n",
       "        vertical-align: top;\n",
       "    }\n",
       "\n",
       "    .dataframe thead th {\n",
       "        text-align: right;\n",
       "    }\n",
       "</style>\n",
       "<table border=\"1\" class=\"dataframe\">\n",
       "  <thead>\n",
       "    <tr style=\"text-align: right;\">\n",
       "      <th></th>\n",
       "      <th>age</th>\n",
       "      <th>workclass</th>\n",
       "      <th>fnlwgt</th>\n",
       "      <th>education</th>\n",
       "      <th>educational-num</th>\n",
       "      <th>marital-status</th>\n",
       "      <th>occupation</th>\n",
       "      <th>relationship</th>\n",
       "      <th>race</th>\n",
       "      <th>gender</th>\n",
       "      <th>capital-gain</th>\n",
       "      <th>capital-loss</th>\n",
       "      <th>hours-per-week</th>\n",
       "      <th>native-country</th>\n",
       "      <th>income</th>\n",
       "    </tr>\n",
       "  </thead>\n",
       "  <tbody>\n",
       "    <tr>\n",
       "      <th>0</th>\n",
       "      <td>25</td>\n",
       "      <td>Private</td>\n",
       "      <td>226802</td>\n",
       "      <td>11th</td>\n",
       "      <td>7</td>\n",
       "      <td>Never-married</td>\n",
       "      <td>Machine-op-inspct</td>\n",
       "      <td>Own-child</td>\n",
       "      <td>Black</td>\n",
       "      <td>Male</td>\n",
       "      <td>0</td>\n",
       "      <td>0</td>\n",
       "      <td>40</td>\n",
       "      <td>United-States</td>\n",
       "      <td>0</td>\n",
       "    </tr>\n",
       "    <tr>\n",
       "      <th>1</th>\n",
       "      <td>38</td>\n",
       "      <td>Private</td>\n",
       "      <td>89814</td>\n",
       "      <td>HS-grad</td>\n",
       "      <td>9</td>\n",
       "      <td>Married-civ-spouse</td>\n",
       "      <td>Farming-fishing</td>\n",
       "      <td>Husband</td>\n",
       "      <td>White</td>\n",
       "      <td>Male</td>\n",
       "      <td>0</td>\n",
       "      <td>0</td>\n",
       "      <td>50</td>\n",
       "      <td>United-States</td>\n",
       "      <td>0</td>\n",
       "    </tr>\n",
       "    <tr>\n",
       "      <th>2</th>\n",
       "      <td>28</td>\n",
       "      <td>Local-gov</td>\n",
       "      <td>336951</td>\n",
       "      <td>Assoc-acdm</td>\n",
       "      <td>12</td>\n",
       "      <td>Married-civ-spouse</td>\n",
       "      <td>Protective-serv</td>\n",
       "      <td>Husband</td>\n",
       "      <td>White</td>\n",
       "      <td>Male</td>\n",
       "      <td>0</td>\n",
       "      <td>0</td>\n",
       "      <td>40</td>\n",
       "      <td>United-States</td>\n",
       "      <td>1</td>\n",
       "    </tr>\n",
       "    <tr>\n",
       "      <th>3</th>\n",
       "      <td>44</td>\n",
       "      <td>Private</td>\n",
       "      <td>160323</td>\n",
       "      <td>Some-college</td>\n",
       "      <td>10</td>\n",
       "      <td>Married-civ-spouse</td>\n",
       "      <td>Machine-op-inspct</td>\n",
       "      <td>Husband</td>\n",
       "      <td>Black</td>\n",
       "      <td>Male</td>\n",
       "      <td>7688</td>\n",
       "      <td>0</td>\n",
       "      <td>40</td>\n",
       "      <td>United-States</td>\n",
       "      <td>1</td>\n",
       "    </tr>\n",
       "    <tr>\n",
       "      <th>4</th>\n",
       "      <td>18</td>\n",
       "      <td>?</td>\n",
       "      <td>103497</td>\n",
       "      <td>Some-college</td>\n",
       "      <td>10</td>\n",
       "      <td>Never-married</td>\n",
       "      <td>?</td>\n",
       "      <td>Own-child</td>\n",
       "      <td>White</td>\n",
       "      <td>Female</td>\n",
       "      <td>0</td>\n",
       "      <td>0</td>\n",
       "      <td>30</td>\n",
       "      <td>United-States</td>\n",
       "      <td>0</td>\n",
       "    </tr>\n",
       "  </tbody>\n",
       "</table>\n",
       "</div>"
      ],
      "text/plain": [
       "   age  workclass  fnlwgt     education  educational-num      marital-status   \n",
       "0   25    Private  226802          11th                7       Never-married  \\\n",
       "1   38    Private   89814       HS-grad                9  Married-civ-spouse   \n",
       "2   28  Local-gov  336951    Assoc-acdm               12  Married-civ-spouse   \n",
       "3   44    Private  160323  Some-college               10  Married-civ-spouse   \n",
       "4   18          ?  103497  Some-college               10       Never-married   \n",
       "\n",
       "          occupation relationship   race  gender  capital-gain  capital-loss   \n",
       "0  Machine-op-inspct    Own-child  Black    Male             0             0  \\\n",
       "1    Farming-fishing      Husband  White    Male             0             0   \n",
       "2    Protective-serv      Husband  White    Male             0             0   \n",
       "3  Machine-op-inspct      Husband  Black    Male          7688             0   \n",
       "4                  ?    Own-child  White  Female             0             0   \n",
       "\n",
       "   hours-per-week native-country  income  \n",
       "0              40  United-States       0  \n",
       "1              50  United-States       0  \n",
       "2              40  United-States       1  \n",
       "3              40  United-States       1  \n",
       "4              30  United-States       0  "
      ]
     },
     "execution_count": 5,
     "metadata": {},
     "output_type": "execute_result"
    }
   ],
   "source": [
    "df = pd.read_csv('adult.csv')\n",
    "df['income'] = df['income'].map({'<=50K': 0, '>50K': 1}).astype('int8')\n",
    "df.head(5)"
   ]
  },
  {
   "cell_type": "code",
   "execution_count": 6,
   "id": "5a3bc465",
   "metadata": {
    "ExecuteTime": {
     "end_time": "2023-10-20T09:09:21.455667Z",
     "start_time": "2023-10-20T09:09:21.396419Z"
    }
   },
   "outputs": [
    {
     "data": {
      "text/plain": [
       "['White', 'Black', 'Asian-Pac-Islander', 'Amer-Indian-Eskimo', 'Other']"
      ]
     },
     "metadata": {},
     "output_type": "display_data"
    }
   ],
   "source": [
    "races = list(dict(sorted(df['race'].value_counts().items(), key=lambda x: x[1], reverse=True)))\n",
    "display(races)"
   ]
  },
  {
   "cell_type": "code",
   "execution_count": 7,
   "id": "6e16eae9",
   "metadata": {
    "ExecuteTime": {
     "end_time": "2023-10-20T09:09:21.790761Z",
     "start_time": "2023-10-20T09:09:21.456744Z"
    }
   },
   "outputs": [
    {
     "data": {
      "image/png": "[encoded data removed]",
      "text/plain": [
       "<Figure size 700x700 with 1 Axes>"
      ]
     },
     "metadata": {},
     "output_type": "display_data"
    }
   ],
   "source": [
    "plt.figure\n",
    "df['race'].value_counts().plot.pie(figsize=(7, 7), autopct='%1.1f%%')\n",
    "plt.show()"
   ]
  },
  {
   "cell_type": "code",
   "execution_count": 8,
   "id": "93f9882d",
   "metadata": {
    "ExecuteTime": {
     "end_time": "2023-10-20T09:09:21.837708Z",
     "start_time": "2023-10-20T09:09:21.792164Z"
    }
   },
   "outputs": [
    {
     "data": {
      "text/html": [
       "<div>\n",
       "<style scoped>\n",
       "    .dataframe tbody tr th:only-of-type {\n",
       "        vertical-align: middle;\n",
       "    }\n",
       "\n",
       "    .dataframe tbody tr th {\n",
       "        vertical-align: top;\n",
       "    }\n",
       "\n",
       "    .dataframe thead th {\n",
       "        text-align: right;\n",
       "    }\n",
       "</style>\n",
       "<table border=\"1\" class=\"dataframe\">\n",
       "  <thead>\n",
       "    <tr style=\"text-align: right;\">\n",
       "      <th></th>\n",
       "      <th>income</th>\n",
       "    </tr>\n",
       "    <tr>\n",
       "      <th>race</th>\n",
       "      <th></th>\n",
       "    </tr>\n",
       "  </thead>\n",
       "  <tbody>\n",
       "    <tr>\n",
       "      <th>Amer-Indian-Eskimo</th>\n",
       "      <td>0.117021</td>\n",
       "    </tr>\n",
       "    <tr>\n",
       "      <th>Asian-Pac-Islander</th>\n",
       "      <td>0.269256</td>\n",
       "    </tr>\n",
       "    <tr>\n",
       "      <th>Black</th>\n",
       "      <td>0.120811</td>\n",
       "    </tr>\n",
       "    <tr>\n",
       "      <th>Other</th>\n",
       "      <td>0.123153</td>\n",
       "    </tr>\n",
       "    <tr>\n",
       "      <th>White</th>\n",
       "      <td>0.253987</td>\n",
       "    </tr>\n",
       "  </tbody>\n",
       "</table>\n",
       "</div>"
      ],
      "text/plain": [
       "                      income\n",
       "race                        \n",
       "Amer-Indian-Eskimo  0.117021\n",
       "Asian-Pac-Islander  0.269256\n",
       "Black               0.120811\n",
       "Other               0.123153\n",
       "White               0.253987"
      ]
     },
     "execution_count": 8,
     "metadata": {},
     "output_type": "execute_result"
    }
   ],
   "source": [
    "df[['race', 'income']].groupby('race').mean()"
   ]
  },
  {
   "cell_type": "markdown",
   "id": "109de594",
   "metadata": {},
   "source": [
    "## Model training"
   ]
  },
  {
   "cell_type": "code",
   "execution_count": 9,
   "id": "4b66a523",
   "metadata": {
    "ExecuteTime": {
     "end_time": "2023-10-20T09:09:22.004630Z",
     "start_time": "2023-10-20T09:09:21.840316Z"
    }
   },
   "outputs": [
    {
     "data": {
      "text/plain": [
       "0.23928176569346055"
      ]
     },
     "execution_count": 9,
     "metadata": {},
     "output_type": "execute_result"
    }
   ],
   "source": [
    "X = pd.get_dummies(df.iloc[:, :-1]).to_numpy()\n",
    "y = df['income'].to_numpy()\n",
    "y.mean()"
   ]
  },
  {
   "cell_type": "code",
   "execution_count": 10,
   "id": "804a1ebc",
   "metadata": {
    "ExecuteTime": {
     "end_time": "2023-10-20T09:09:22.103738Z",
     "start_time": "2023-10-20T09:09:22.005751Z"
    }
   },
   "outputs": [],
   "source": [
    "X_train, X_test, y_train, y_test = train_test_split(\n",
    "    X, y, test_size=TEST_SIZE, random_state=RANDOM_STATE\n",
    ")"
   ]
  },
  {
   "cell_type": "code",
   "execution_count": 11,
   "id": "dd1eff55",
   "metadata": {
    "ExecuteTime": {
     "end_time": "2023-10-20T09:09:22.168186Z",
     "start_time": "2023-10-20T09:09:22.104815Z"
    }
   },
   "outputs": [],
   "source": [
    "# group by race\n",
    "\n",
    "indices = {}\n",
    "df_groups = df.groupby('race')\n",
    "for race in races:\n",
    "    indices[race] = df_groups.get_group(race).index"
   ]
  },
  {
   "cell_type": "code",
   "execution_count": 12,
   "id": "6593ee4e",
   "metadata": {
    "ExecuteTime": {
     "end_time": "2023-10-20T09:09:22.240157Z",
     "start_time": "2023-10-20T09:09:22.169353Z"
    }
   },
   "outputs": [],
   "source": [
    "def get_group_data(race, X=X, y=y, indices=indices):\n",
    "    X_test_group = X[indices[race]]\n",
    "    y_test_group = y[indices[race]]\n",
    "    X_test_comp_group = X[~indices[race]]\n",
    "    y_test_comp_group = y[~indices[race]]\n",
    "    return X_test_group, X_test_comp_group, y_test_group, y_test_comp_group"
   ]
  },
  {
   "cell_type": "code",
   "execution_count": 13,
   "id": "555b027d",
   "metadata": {
    "ExecuteTime": {
     "end_time": "2023-10-20T09:09:22.298641Z",
     "start_time": "2023-10-20T09:09:22.241101Z"
    }
   },
   "outputs": [],
   "source": [
    "def get_results(model, X_train, X_test, y_train, y_test):\n",
    "    train_accuracy, test_accuracy = get_train_test_accuracy(\n",
    "        model, X_train, X_test, y_train, y_test\n",
    "    )\n",
    "\n",
    "    train_f1_score, test_f1_score = get_train_test_f1_score(\n",
    "        model, X_train, X_test, y_train, y_test\n",
    "    )\n",
    "    \n",
    "    return (\n",
    "        train_accuracy, test_accuracy,\n",
    "        train_f1_score, test_f1_score\n",
    "    )"
   ]
  },
  {
   "cell_type": "code",
   "execution_count": 14,
   "id": "996a844f",
   "metadata": {
    "ExecuteTime": {
     "end_time": "2023-10-20T09:09:23.942905Z",
     "start_time": "2023-10-20T09:09:22.299674Z"
    }
   },
   "outputs": [
    {
     "name": "stdout",
     "output_type": "stream",
     "text": [
      "Train accuracy: 79.68%\n",
      "Test accuracy:  80.37%\n",
      "\n",
      "Train F1 score: 38.16%\n",
      "Test F1 score:  39.23%\n",
      "\n"
     ]
    }
   ],
   "source": [
    "logistic_regression = LogisticRegression(random_state=RANDOM_STATE)\n",
    "logistic_regression.fit(X_train, y_train)\n",
    "\n",
    "(\n",
    "    logistic_regression_train_accuracy, logistic_regression_test_accuracy,\n",
    "    logistic_regression_train_f1_score, logistic_regression_test_f1_score\n",
    ") = get_results(logistic_regression, X_train, X_test, y_train, y_test)\n",
    "\n",
    "\n",
    "print_results(\n",
    "    logistic_regression_train_accuracy, logistic_regression_test_accuracy,\n",
    "    logistic_regression_train_f1_score, logistic_regression_test_f1_score\n",
    ")"
   ]
  },
  {
   "cell_type": "code",
   "execution_count": 15,
   "id": "5afc5ee1",
   "metadata": {
    "ExecuteTime": {
     "end_time": "2023-10-20T09:09:30.121356Z",
     "start_time": "2023-10-20T09:09:23.944459Z"
    }
   },
   "outputs": [
    {
     "name": "stdout",
     "output_type": "stream",
     "text": [
      "Train accuracy: 99.98%\n",
      "Test accuracy:  86.04%\n",
      "\n",
      "Train F1 score: 99.97%\n",
      "Test F1 score:  68.35%\n",
      "\n"
     ]
    }
   ],
   "source": [
    "random_forest = RandomForestClassifier(random_state=RANDOM_STATE)\n",
    "random_forest.fit(X_train, y_train)\n",
    "\n",
    "(\n",
    "    random_forest_train_accuracy, random_forest_test_accuracy,\n",
    "    random_forest_train_f1_score, random_forest_test_f1_score\n",
    ") = get_results(random_forest, X_train, X_test, y_train, y_test)\n",
    "\n",
    "\n",
    "print_results(\n",
    "    random_forest_train_accuracy, random_forest_test_accuracy,\n",
    "    random_forest_train_f1_score, random_forest_test_f1_score\n",
    ")"
   ]
  },
  {
   "cell_type": "markdown",
   "id": "d4270294",
   "metadata": {},
   "source": [
    "## Scores and metrics"
   ]
  },
  {
   "cell_type": "code",
   "execution_count": 16,
   "id": "2500bc8a",
   "metadata": {
    "ExecuteTime": {
     "end_time": "2023-10-20T09:09:30.250331Z",
     "start_time": "2023-10-20T09:09:30.122722Z"
    }
   },
   "outputs": [],
   "source": [
    "# TN = CM[0][0]\n",
    "# FN = CM[1][0]\n",
    "# TP = CM[1][1]\n",
    "# FP = CM[0][1]\n",
    "\n",
    "def TPR(matrix):\n",
    "    TP = matrix[1][1]\n",
    "    FN = matrix[1][0]\n",
    "    return TP / (TP + FN)\n",
    "\n",
    "def TNR(matrix):\n",
    "    TN = matrix[0][0]\n",
    "    FP = matrix[0][1]\n",
    "    return TN / (TN + FP)\n",
    "\n",
    "def PPV(matrix):\n",
    "    TP = matrix[1][0]\n",
    "    FP = matrix[0][1]\n",
    "    return TP / (TP + FP)\n",
    "\n",
    "def NPV(matrix):\n",
    "    TN = matrix[0][0]\n",
    "    FN = matrix[1][0]\n",
    "    return TN / (TN + FN)"
   ]
  },
  {
   "cell_type": "code",
   "execution_count": 17,
   "id": "5f7859b8",
   "metadata": {
    "ExecuteTime": {
     "end_time": "2023-10-20T09:09:30.296225Z",
     "start_time": "2023-10-20T09:09:30.253844Z"
    }
   },
   "outputs": [],
   "source": [
    "THRESHOLD = np.log(5 / 4)\n",
    "\n",
    "\n",
    "def score(x, y):\n",
    "    return np.abs(np.log(x / y))"
   ]
  },
  {
   "cell_type": "code",
   "execution_count": 18,
   "id": "c8d1ce42",
   "metadata": {
    "ExecuteTime": {
     "end_time": "2023-10-20T09:09:30.456577Z",
     "start_time": "2023-10-20T09:09:30.297213Z"
    }
   },
   "outputs": [],
   "source": [
    "def demographic_parity(model, indices=indices):\n",
    "    rows = []\n",
    "    for race in races:\n",
    "        X_test_group, X_test_comp_group, y_test_group, y_test_comp_group = get_group_data(race, indices=indices)\n",
    "        y_test_pred = model.predict(X_test_group)\n",
    "        y_test_comp_pred = model.predict(X_test_comp_group)\n",
    "        \n",
    "        value = y_test_pred.mean()\n",
    "        value_comp = y_test_comp_pred.mean()\n",
    "        value_score = score(value, value_comp)\n",
    "        rows.append((race, value, value_comp, value / value_comp, value_score, value_score < THRESHOLD))\n",
    "        \n",
    "    return pd.DataFrame(rows, columns=[\n",
    "        'race', 'value', 'value_comp', 'ratio', 'score', 'threshold'\n",
    "    ]).set_index('race').sort_values('score', ascending=False)"
   ]
  },
  {
   "cell_type": "code",
   "execution_count": 19,
   "id": "f191ea91",
   "metadata": {
    "ExecuteTime": {
     "end_time": "2023-10-20T09:09:30.647511Z",
     "start_time": "2023-10-20T09:09:30.457493Z"
    }
   },
   "outputs": [],
   "source": [
    "def calculate_score(model, metric: Callable, indices=indices) -> pd.DataFrame:\n",
    "    rows = []\n",
    "    for race in races:\n",
    "        X_test_group, X_test_comp_group, y_test_group, y_test_comp_group = get_group_data(race, indices=indices)\n",
    "\n",
    "        y_test_pred = model.predict(X_test_group)\n",
    "        y_test_comp_pred = model.predict(X_test_comp_group)\n",
    "\n",
    "        matrix = confusion_matrix(y_test_pred, y_test_group)\n",
    "        matrix_comp = confusion_matrix(y_test_comp_pred, y_test_comp_group)\n",
    "\n",
    "        value = metric(matrix)\n",
    "        value_comp = metric(matrix_comp)\n",
    "        value_score = score(value, value_comp)\n",
    "        rows.append((race, value, value_comp, value / value_comp, value_score, value_score < THRESHOLD))\n",
    "        \n",
    "    return pd.DataFrame(rows, columns=[\n",
    "        'race', 'value', 'value_comp', 'ratio', 'score', 'threshold'\n",
    "    ]).set_index('race').sort_values('score', ascending=False)"
   ]
  },
  {
   "cell_type": "code",
   "execution_count": 20,
   "id": "eae22678",
   "metadata": {
    "ExecuteTime": {
     "end_time": "2023-10-20T09:09:30.766060Z",
     "start_time": "2023-10-20T09:09:30.649218Z"
    }
   },
   "outputs": [],
   "source": [
    "def get_overall_scores(model, indices=indices) -> pd.DataFrame:\n",
    "    dp = demographic_parity(model, indices=indices)['score'].max()\n",
    "    tpr = calculate_score(model, TPR, indices=indices)['score'].max()\n",
    "    parity = max(\n",
    "        calculate_score(model, PPV, indices=indices)['score'].max(),\n",
    "        calculate_score(model, NPV, indices=indices)['score'].max()\n",
    "    )\n",
    "\n",
    "    return pd.DataFrame([[dp, tpr, parity]], columns=[\n",
    "        'demographic_parity', 'equal_opportunity', 'predictive_parity_rate'\n",
    "    ])"
   ]
  },
  {
   "cell_type": "code",
   "execution_count": 21,
   "id": "d651ff27",
   "metadata": {
    "ExecuteTime": {
     "end_time": "2023-10-20T09:09:30.861208Z",
     "start_time": "2023-10-20T09:09:30.767176Z"
    }
   },
   "outputs": [],
   "source": [
    "def draw_scores(scores, label: str):\n",
    "    keys = list(scores.T.index)\n",
    "    values = list(scores.T[0])\n",
    "    plt.figure(figsize=(6, 4))\n",
    "    plt.barh(keys[::-1], values[::-1], label=label)\n",
    "    plt.xlim([0, 1])\n",
    "    plt.legend()\n",
    "    plt.show()"
   ]
  },
  {
   "cell_type": "code",
   "execution_count": 22,
   "id": "346dcb4d",
   "metadata": {
    "ExecuteTime": {
     "end_time": "2023-10-20T09:09:36.452449Z",
     "start_time": "2023-10-20T09:09:30.862279Z"
    }
   },
   "outputs": [
    {
     "data": {
      "text/html": [
       "<div>\n",
       "<style scoped>\n",
       "    .dataframe tbody tr th:only-of-type {\n",
       "        vertical-align: middle;\n",
       "    }\n",
       "\n",
       "    .dataframe tbody tr th {\n",
       "        vertical-align: top;\n",
       "    }\n",
       "\n",
       "    .dataframe thead th {\n",
       "        text-align: right;\n",
       "    }\n",
       "</style>\n",
       "<table border=\"1\" class=\"dataframe\">\n",
       "  <thead>\n",
       "    <tr style=\"text-align: right;\">\n",
       "      <th></th>\n",
       "      <th>value</th>\n",
       "      <th>value_comp</th>\n",
       "      <th>ratio</th>\n",
       "      <th>score</th>\n",
       "      <th>threshold</th>\n",
       "    </tr>\n",
       "    <tr>\n",
       "      <th>race</th>\n",
       "      <th></th>\n",
       "      <th></th>\n",
       "      <th></th>\n",
       "      <th></th>\n",
       "      <th></th>\n",
       "    </tr>\n",
       "  </thead>\n",
       "  <tbody>\n",
       "    <tr>\n",
       "      <th>Black</th>\n",
       "      <td>0.052935</td>\n",
       "      <td>0.084952</td>\n",
       "      <td>0.623116</td>\n",
       "      <td>0.473023</td>\n",
       "      <td>False</td>\n",
       "    </tr>\n",
       "    <tr>\n",
       "      <th>Amer-Indian-Eskimo</th>\n",
       "      <td>0.065957</td>\n",
       "      <td>0.095745</td>\n",
       "      <td>0.688889</td>\n",
       "      <td>0.372675</td>\n",
       "      <td>False</td>\n",
       "    </tr>\n",
       "    <tr>\n",
       "      <th>Other</th>\n",
       "      <td>0.064039</td>\n",
       "      <td>0.086207</td>\n",
       "      <td>0.742857</td>\n",
       "      <td>0.297252</td>\n",
       "      <td>False</td>\n",
       "    </tr>\n",
       "    <tr>\n",
       "      <th>Asian-Pac-Islander</th>\n",
       "      <td>0.098091</td>\n",
       "      <td>0.081633</td>\n",
       "      <td>1.201613</td>\n",
       "      <td>0.183665</td>\n",
       "      <td>True</td>\n",
       "    </tr>\n",
       "    <tr>\n",
       "      <th>White</th>\n",
       "      <td>0.092333</td>\n",
       "      <td>0.088789</td>\n",
       "      <td>1.039914</td>\n",
       "      <td>0.039138</td>\n",
       "      <td>True</td>\n",
       "    </tr>\n",
       "  </tbody>\n",
       "</table>\n",
       "</div>"
      ],
      "text/plain": [
       "                       value  value_comp     ratio     score  threshold\n",
       "race                                                                   \n",
       "Black               0.052935    0.084952  0.623116  0.473023      False\n",
       "Amer-Indian-Eskimo  0.065957    0.095745  0.688889  0.372675      False\n",
       "Other               0.064039    0.086207  0.742857  0.297252      False\n",
       "Asian-Pac-Islander  0.098091    0.081633  1.201613  0.183665       True\n",
       "White               0.092333    0.088789  1.039914  0.039138       True"
      ]
     },
     "metadata": {},
     "output_type": "display_data"
    },
    {
     "data": {
      "text/html": [
       "<div>\n",
       "<style scoped>\n",
       "    .dataframe tbody tr th:only-of-type {\n",
       "        vertical-align: middle;\n",
       "    }\n",
       "\n",
       "    .dataframe tbody tr th {\n",
       "        vertical-align: top;\n",
       "    }\n",
       "\n",
       "    .dataframe thead th {\n",
       "        text-align: right;\n",
       "    }\n",
       "</style>\n",
       "<table border=\"1\" class=\"dataframe\">\n",
       "  <thead>\n",
       "    <tr style=\"text-align: right;\">\n",
       "      <th></th>\n",
       "      <th>value</th>\n",
       "      <th>value_comp</th>\n",
       "      <th>ratio</th>\n",
       "      <th>score</th>\n",
       "      <th>threshold</th>\n",
       "    </tr>\n",
       "    <tr>\n",
       "      <th>race</th>\n",
       "      <th></th>\n",
       "      <th></th>\n",
       "      <th></th>\n",
       "      <th></th>\n",
       "      <th></th>\n",
       "    </tr>\n",
       "  </thead>\n",
       "  <tbody>\n",
       "    <tr>\n",
       "      <th>Amer-Indian-Eskimo</th>\n",
       "      <td>0.516129</td>\n",
       "      <td>0.755556</td>\n",
       "      <td>0.683112</td>\n",
       "      <td>0.381097</td>\n",
       "      <td>False</td>\n",
       "    </tr>\n",
       "    <tr>\n",
       "      <th>Black</th>\n",
       "      <td>0.600806</td>\n",
       "      <td>0.721106</td>\n",
       "      <td>0.833174</td>\n",
       "      <td>0.182513</td>\n",
       "      <td>True</td>\n",
       "    </tr>\n",
       "    <tr>\n",
       "      <th>Asian-Pac-Islander</th>\n",
       "      <td>0.697987</td>\n",
       "      <td>0.741935</td>\n",
       "      <td>0.940765</td>\n",
       "      <td>0.061062</td>\n",
       "      <td>True</td>\n",
       "    </tr>\n",
       "    <tr>\n",
       "      <th>Other</th>\n",
       "      <td>0.615385</td>\n",
       "      <td>0.628571</td>\n",
       "      <td>0.979021</td>\n",
       "      <td>0.021202</td>\n",
       "      <td>True</td>\n",
       "    </tr>\n",
       "    <tr>\n",
       "      <th>White</th>\n",
       "      <td>0.721992</td>\n",
       "      <td>0.710356</td>\n",
       "      <td>1.016380</td>\n",
       "      <td>0.016247</td>\n",
       "      <td>True</td>\n",
       "    </tr>\n",
       "  </tbody>\n",
       "</table>\n",
       "</div>"
      ],
      "text/plain": [
       "                       value  value_comp     ratio     score  threshold\n",
       "race                                                                   \n",
       "Amer-Indian-Eskimo  0.516129    0.755556  0.683112  0.381097      False\n",
       "Black               0.600806    0.721106  0.833174  0.182513       True\n",
       "Asian-Pac-Islander  0.697987    0.741935  0.940765  0.061062       True\n",
       "Other               0.615385    0.628571  0.979021  0.021202       True\n",
       "White               0.721992    0.710356  1.016380  0.016247       True"
      ]
     },
     "metadata": {},
     "output_type": "display_data"
    },
    {
     "data": {
      "text/html": [
       "<div>\n",
       "<style scoped>\n",
       "    .dataframe tbody tr th:only-of-type {\n",
       "        vertical-align: middle;\n",
       "    }\n",
       "\n",
       "    .dataframe tbody tr th {\n",
       "        vertical-align: top;\n",
       "    }\n",
       "\n",
       "    .dataframe thead th {\n",
       "        text-align: right;\n",
       "    }\n",
       "</style>\n",
       "<table border=\"1\" class=\"dataframe\">\n",
       "  <thead>\n",
       "    <tr style=\"text-align: right;\">\n",
       "      <th></th>\n",
       "      <th>value</th>\n",
       "      <th>value_comp</th>\n",
       "      <th>ratio</th>\n",
       "      <th>score</th>\n",
       "      <th>threshold</th>\n",
       "    </tr>\n",
       "    <tr>\n",
       "      <th>race</th>\n",
       "      <th></th>\n",
       "      <th></th>\n",
       "      <th></th>\n",
       "      <th></th>\n",
       "      <th></th>\n",
       "    </tr>\n",
       "  </thead>\n",
       "  <tbody>\n",
       "    <tr>\n",
       "      <th>Amer-Indian-Eskimo</th>\n",
       "      <td>0.277778</td>\n",
       "      <td>0.120879</td>\n",
       "      <td>2.297980</td>\n",
       "      <td>0.832030</td>\n",
       "      <td>False</td>\n",
       "    </tr>\n",
       "    <tr>\n",
       "      <th>Black</th>\n",
       "      <td>0.191860</td>\n",
       "      <td>0.121577</td>\n",
       "      <td>1.578096</td>\n",
       "      <td>0.456219</td>\n",
       "      <td>False</td>\n",
       "    </tr>\n",
       "    <tr>\n",
       "      <th>Other</th>\n",
       "      <td>0.227273</td>\n",
       "      <td>0.173333</td>\n",
       "      <td>1.311189</td>\n",
       "      <td>0.270934</td>\n",
       "      <td>False</td>\n",
       "    </tr>\n",
       "    <tr>\n",
       "      <th>Asian-Pac-Islander</th>\n",
       "      <td>0.128571</td>\n",
       "      <td>0.107383</td>\n",
       "      <td>1.197321</td>\n",
       "      <td>0.180087</td>\n",
       "      <td>True</td>\n",
       "    </tr>\n",
       "    <tr>\n",
       "      <th>White</th>\n",
       "      <td>0.120517</td>\n",
       "      <td>0.126621</td>\n",
       "      <td>0.951794</td>\n",
       "      <td>0.049407</td>\n",
       "      <td>True</td>\n",
       "    </tr>\n",
       "  </tbody>\n",
       "</table>\n",
       "</div>"
      ],
      "text/plain": [
       "                       value  value_comp     ratio     score  threshold\n",
       "race                                                                   \n",
       "Amer-Indian-Eskimo  0.277778    0.120879  2.297980  0.832030      False\n",
       "Black               0.191860    0.121577  1.578096  0.456219      False\n",
       "Other               0.227273    0.173333  1.311189  0.270934      False\n",
       "Asian-Pac-Islander  0.128571    0.107383  1.197321  0.180087       True\n",
       "White               0.120517    0.126621  0.951794  0.049407       True"
      ]
     },
     "metadata": {},
     "output_type": "display_data"
    },
    {
     "data": {
      "text/html": [
       "<div>\n",
       "<style scoped>\n",
       "    .dataframe tbody tr th:only-of-type {\n",
       "        vertical-align: middle;\n",
       "    }\n",
       "\n",
       "    .dataframe tbody tr th {\n",
       "        vertical-align: top;\n",
       "    }\n",
       "\n",
       "    .dataframe thead th {\n",
       "        text-align: right;\n",
       "    }\n",
       "</style>\n",
       "<table border=\"1\" class=\"dataframe\">\n",
       "  <thead>\n",
       "    <tr style=\"text-align: right;\">\n",
       "      <th></th>\n",
       "      <th>value</th>\n",
       "      <th>value_comp</th>\n",
       "      <th>ratio</th>\n",
       "      <th>score</th>\n",
       "      <th>threshold</th>\n",
       "    </tr>\n",
       "    <tr>\n",
       "      <th>race</th>\n",
       "      <th></th>\n",
       "      <th></th>\n",
       "      <th></th>\n",
       "      <th></th>\n",
       "      <th></th>\n",
       "    </tr>\n",
       "  </thead>\n",
       "  <tbody>\n",
       "    <tr>\n",
       "      <th>Asian-Pac-Islander</th>\n",
       "      <td>0.959459</td>\n",
       "      <td>0.972438</td>\n",
       "      <td>0.986654</td>\n",
       "      <td>0.013436</td>\n",
       "      <td>True</td>\n",
       "    </tr>\n",
       "    <tr>\n",
       "      <th>Other</th>\n",
       "      <td>0.971910</td>\n",
       "      <td>0.959627</td>\n",
       "      <td>1.012800</td>\n",
       "      <td>0.012718</td>\n",
       "      <td>True</td>\n",
       "    </tr>\n",
       "    <tr>\n",
       "      <th>Black</th>\n",
       "      <td>0.975965</td>\n",
       "      <td>0.969132</td>\n",
       "      <td>1.007050</td>\n",
       "      <td>0.007026</td>\n",
       "      <td>True</td>\n",
       "    </tr>\n",
       "    <tr>\n",
       "      <th>Amer-Indian-Eskimo</th>\n",
       "      <td>0.963855</td>\n",
       "      <td>0.969101</td>\n",
       "      <td>0.994587</td>\n",
       "      <td>0.005428</td>\n",
       "      <td>True</td>\n",
       "    </tr>\n",
       "    <tr>\n",
       "      <th>White</th>\n",
       "      <td>0.965591</td>\n",
       "      <td>0.966141</td>\n",
       "      <td>0.999431</td>\n",
       "      <td>0.000569</td>\n",
       "      <td>True</td>\n",
       "    </tr>\n",
       "  </tbody>\n",
       "</table>\n",
       "</div>"
      ],
      "text/plain": [
       "                       value  value_comp     ratio     score  threshold\n",
       "race                                                                   \n",
       "Asian-Pac-Islander  0.959459    0.972438  0.986654  0.013436       True\n",
       "Other               0.971910    0.959627  1.012800  0.012718       True\n",
       "Black               0.975965    0.969132  1.007050  0.007026       True\n",
       "Amer-Indian-Eskimo  0.963855    0.969101  0.994587  0.005428       True\n",
       "White               0.965591    0.966141  0.999431  0.000569       True"
      ]
     },
     "metadata": {},
     "output_type": "display_data"
    },
    {
     "data": {
      "text/html": [
       "<div>\n",
       "<style scoped>\n",
       "    .dataframe tbody tr th:only-of-type {\n",
       "        vertical-align: middle;\n",
       "    }\n",
       "\n",
       "    .dataframe tbody tr th {\n",
       "        vertical-align: top;\n",
       "    }\n",
       "\n",
       "    .dataframe thead th {\n",
       "        text-align: right;\n",
       "    }\n",
       "</style>\n",
       "<table border=\"1\" class=\"dataframe\">\n",
       "  <thead>\n",
       "    <tr style=\"text-align: right;\">\n",
       "      <th></th>\n",
       "      <th>demographic_parity</th>\n",
       "      <th>equal_opportunity</th>\n",
       "      <th>predictive_parity_rate</th>\n",
       "    </tr>\n",
       "  </thead>\n",
       "  <tbody>\n",
       "    <tr>\n",
       "      <th>0</th>\n",
       "      <td>0.473023</td>\n",
       "      <td>0.381097</td>\n",
       "      <td>0.83203</td>\n",
       "    </tr>\n",
       "  </tbody>\n",
       "</table>\n",
       "</div>"
      ],
      "text/plain": [
       "   demographic_parity  equal_opportunity  predictive_parity_rate\n",
       "0            0.473023           0.381097                 0.83203"
      ]
     },
     "metadata": {},
     "output_type": "display_data"
    }
   ],
   "source": [
    "display(demographic_parity(logistic_regression))\n",
    "display(calculate_score(logistic_regression, TPR))\n",
    "display(calculate_score(logistic_regression, PPV))\n",
    "display(calculate_score(logistic_regression, NPV))\n",
    "\n",
    "logistic_regression_scores = get_overall_scores(logistic_regression)\n",
    "display(logistic_regression_scores)"
   ]
  },
  {
   "cell_type": "code",
   "execution_count": 23,
   "id": "2e36c560",
   "metadata": {
    "ExecuteTime": {
     "end_time": "2023-10-20T09:09:36.808629Z",
     "start_time": "2023-10-20T09:09:36.454271Z"
    }
   },
   "outputs": [
    {
     "data": {
      "image/png": "[encoded data removed]",
      "text/plain": [
       "<Figure size 600x400 with 1 Axes>"
      ]
     },
     "metadata": {},
     "output_type": "display_data"
    }
   ],
   "source": [
    "draw_scores(logistic_regression_scores, 'LogisticRegression')"
   ]
  },
  {
   "cell_type": "code",
   "execution_count": 24,
   "id": "d9a9cc5c",
   "metadata": {
    "ExecuteTime": {
     "end_time": "2023-10-20T09:09:52.418333Z",
     "start_time": "2023-10-20T09:09:36.809979Z"
    }
   },
   "outputs": [
    {
     "data": {
      "text/html": [
       "<div>\n",
       "<style scoped>\n",
       "    .dataframe tbody tr th:only-of-type {\n",
       "        vertical-align: middle;\n",
       "    }\n",
       "\n",
       "    .dataframe tbody tr th {\n",
       "        vertical-align: top;\n",
       "    }\n",
       "\n",
       "    .dataframe thead th {\n",
       "        text-align: right;\n",
       "    }\n",
       "</style>\n",
       "<table border=\"1\" class=\"dataframe\">\n",
       "  <thead>\n",
       "    <tr style=\"text-align: right;\">\n",
       "      <th></th>\n",
       "      <th>value</th>\n",
       "      <th>value_comp</th>\n",
       "      <th>ratio</th>\n",
       "      <th>score</th>\n",
       "      <th>threshold</th>\n",
       "    </tr>\n",
       "    <tr>\n",
       "      <th>race</th>\n",
       "      <th></th>\n",
       "      <th></th>\n",
       "      <th></th>\n",
       "      <th></th>\n",
       "      <th></th>\n",
       "    </tr>\n",
       "  </thead>\n",
       "  <tbody>\n",
       "    <tr>\n",
       "      <th>Amer-Indian-Eskimo</th>\n",
       "      <td>0.114894</td>\n",
       "      <td>0.242553</td>\n",
       "      <td>0.473684</td>\n",
       "      <td>0.747214</td>\n",
       "      <td>False</td>\n",
       "    </tr>\n",
       "    <tr>\n",
       "      <th>Black</th>\n",
       "      <td>0.117182</td>\n",
       "      <td>0.228815</td>\n",
       "      <td>0.512127</td>\n",
       "      <td>0.669183</td>\n",
       "      <td>False</td>\n",
       "    </tr>\n",
       "    <tr>\n",
       "      <th>Other</th>\n",
       "      <td>0.118227</td>\n",
       "      <td>0.209360</td>\n",
       "      <td>0.564706</td>\n",
       "      <td>0.571450</td>\n",
       "      <td>False</td>\n",
       "    </tr>\n",
       "    <tr>\n",
       "      <th>Asian-Pac-Islander</th>\n",
       "      <td>0.267281</td>\n",
       "      <td>0.236340</td>\n",
       "      <td>1.130919</td>\n",
       "      <td>0.123031</td>\n",
       "      <td>True</td>\n",
       "    </tr>\n",
       "    <tr>\n",
       "      <th>White</th>\n",
       "      <td>0.248072</td>\n",
       "      <td>0.234352</td>\n",
       "      <td>1.058547</td>\n",
       "      <td>0.056897</td>\n",
       "      <td>True</td>\n",
       "    </tr>\n",
       "  </tbody>\n",
       "</table>\n",
       "</div>"
      ],
      "text/plain": [
       "                       value  value_comp     ratio     score  threshold\n",
       "race                                                                   \n",
       "Amer-Indian-Eskimo  0.114894    0.242553  0.473684  0.747214      False\n",
       "Black               0.117182    0.228815  0.512127  0.669183      False\n",
       "Other               0.118227    0.209360  0.564706  0.571450      False\n",
       "Asian-Pac-Islander  0.267281    0.236340  1.130919  0.123031       True\n",
       "White               0.248072    0.234352  1.058547  0.056897       True"
      ]
     },
     "metadata": {},
     "output_type": "display_data"
    },
    {
     "data": {
      "text/html": [
       "<div>\n",
       "<style scoped>\n",
       "    .dataframe tbody tr th:only-of-type {\n",
       "        vertical-align: middle;\n",
       "    }\n",
       "\n",
       "    .dataframe tbody tr th {\n",
       "        vertical-align: top;\n",
       "    }\n",
       "\n",
       "    .dataframe thead th {\n",
       "        text-align: right;\n",
       "    }\n",
       "</style>\n",
       "<table border=\"1\" class=\"dataframe\">\n",
       "  <thead>\n",
       "    <tr style=\"text-align: right;\">\n",
       "      <th></th>\n",
       "      <th>value</th>\n",
       "      <th>value_comp</th>\n",
       "      <th>ratio</th>\n",
       "      <th>score</th>\n",
       "      <th>threshold</th>\n",
       "    </tr>\n",
       "    <tr>\n",
       "      <th>race</th>\n",
       "      <th></th>\n",
       "      <th></th>\n",
       "      <th></th>\n",
       "      <th></th>\n",
       "      <th></th>\n",
       "    </tr>\n",
       "  </thead>\n",
       "  <tbody>\n",
       "    <tr>\n",
       "      <th>Other</th>\n",
       "      <td>0.979167</td>\n",
       "      <td>0.917647</td>\n",
       "      <td>1.067041</td>\n",
       "      <td>0.064889</td>\n",
       "      <td>True</td>\n",
       "    </tr>\n",
       "    <tr>\n",
       "      <th>Amer-Indian-Eskimo</th>\n",
       "      <td>0.962963</td>\n",
       "      <td>0.947368</td>\n",
       "      <td>1.016461</td>\n",
       "      <td>0.016327</td>\n",
       "      <td>True</td>\n",
       "    </tr>\n",
       "    <tr>\n",
       "      <th>Asian-Pac-Islander</th>\n",
       "      <td>0.953202</td>\n",
       "      <td>0.944290</td>\n",
       "      <td>1.009438</td>\n",
       "      <td>0.009394</td>\n",
       "      <td>True</td>\n",
       "    </tr>\n",
       "    <tr>\n",
       "      <th>Black</th>\n",
       "      <td>0.947177</td>\n",
       "      <td>0.945896</td>\n",
       "      <td>1.001354</td>\n",
       "      <td>0.001354</td>\n",
       "      <td>True</td>\n",
       "    </tr>\n",
       "    <tr>\n",
       "      <th>White</th>\n",
       "      <td>0.951834</td>\n",
       "      <td>0.953101</td>\n",
       "      <td>0.998671</td>\n",
       "      <td>0.001330</td>\n",
       "      <td>True</td>\n",
       "    </tr>\n",
       "  </tbody>\n",
       "</table>\n",
       "</div>"
      ],
      "text/plain": [
       "                       value  value_comp     ratio     score  threshold\n",
       "race                                                                   \n",
       "Other               0.979167    0.917647  1.067041  0.064889       True\n",
       "Amer-Indian-Eskimo  0.962963    0.947368  1.016461  0.016327       True\n",
       "Asian-Pac-Islander  0.953202    0.944290  1.009438  0.009394       True\n",
       "Black               0.947177    0.945896  1.001354  0.001354       True\n",
       "White               0.951834    0.953101  0.998671  0.001330       True"
      ]
     },
     "metadata": {},
     "output_type": "display_data"
    },
    {
     "data": {
      "text/html": [
       "<div>\n",
       "<style scoped>\n",
       "    .dataframe tbody tr th:only-of-type {\n",
       "        vertical-align: middle;\n",
       "    }\n",
       "\n",
       "    .dataframe tbody tr th {\n",
       "        vertical-align: top;\n",
       "    }\n",
       "\n",
       "    .dataframe thead th {\n",
       "        text-align: right;\n",
       "    }\n",
       "</style>\n",
       "<table border=\"1\" class=\"dataframe\">\n",
       "  <thead>\n",
       "    <tr style=\"text-align: right;\">\n",
       "      <th></th>\n",
       "      <th>value</th>\n",
       "      <th>value_comp</th>\n",
       "      <th>ratio</th>\n",
       "      <th>score</th>\n",
       "      <th>threshold</th>\n",
       "    </tr>\n",
       "    <tr>\n",
       "      <th>race</th>\n",
       "      <th></th>\n",
       "      <th></th>\n",
       "      <th></th>\n",
       "      <th></th>\n",
       "      <th></th>\n",
       "    </tr>\n",
       "  </thead>\n",
       "  <tbody>\n",
       "    <tr>\n",
       "      <th>Other</th>\n",
       "      <td>0.250000</td>\n",
       "      <td>0.538462</td>\n",
       "      <td>0.464286</td>\n",
       "      <td>0.767255</td>\n",
       "      <td>False</td>\n",
       "    </tr>\n",
       "    <tr>\n",
       "      <th>Amer-Indian-Eskimo</th>\n",
       "      <td>0.400000</td>\n",
       "      <td>0.500000</td>\n",
       "      <td>0.800000</td>\n",
       "      <td>0.223144</td>\n",
       "      <td>True</td>\n",
       "    </tr>\n",
       "    <tr>\n",
       "      <th>Black</th>\n",
       "      <td>0.386667</td>\n",
       "      <td>0.436090</td>\n",
       "      <td>0.886667</td>\n",
       "      <td>0.120286</td>\n",
       "      <td>True</td>\n",
       "    </tr>\n",
       "    <tr>\n",
       "      <th>Asian-Pac-Islander</th>\n",
       "      <td>0.463415</td>\n",
       "      <td>0.512821</td>\n",
       "      <td>0.903659</td>\n",
       "      <td>0.101304</td>\n",
       "      <td>True</td>\n",
       "    </tr>\n",
       "    <tr>\n",
       "      <th>White</th>\n",
       "      <td>0.400803</td>\n",
       "      <td>0.391304</td>\n",
       "      <td>1.024275</td>\n",
       "      <td>0.023985</td>\n",
       "      <td>True</td>\n",
       "    </tr>\n",
       "  </tbody>\n",
       "</table>\n",
       "</div>"
      ],
      "text/plain": [
       "                       value  value_comp     ratio     score  threshold\n",
       "race                                                                   \n",
       "Other               0.250000    0.538462  0.464286  0.767255      False\n",
       "Amer-Indian-Eskimo  0.400000    0.500000  0.800000  0.223144       True\n",
       "Black               0.386667    0.436090  0.886667  0.120286       True\n",
       "Asian-Pac-Islander  0.463415    0.512821  0.903659  0.101304       True\n",
       "White               0.400803    0.391304  1.024275  0.023985       True"
      ]
     },
     "metadata": {},
     "output_type": "display_data"
    },
    {
     "data": {
      "text/html": [
       "<div>\n",
       "<style scoped>\n",
       "    .dataframe tbody tr th:only-of-type {\n",
       "        vertical-align: middle;\n",
       "    }\n",
       "\n",
       "    .dataframe tbody tr th {\n",
       "        vertical-align: top;\n",
       "    }\n",
       "\n",
       "    .dataframe thead th {\n",
       "        text-align: right;\n",
       "    }\n",
       "</style>\n",
       "<table border=\"1\" class=\"dataframe\">\n",
       "  <thead>\n",
       "    <tr style=\"text-align: right;\">\n",
       "      <th></th>\n",
       "      <th>value</th>\n",
       "      <th>value_comp</th>\n",
       "      <th>ratio</th>\n",
       "      <th>score</th>\n",
       "      <th>threshold</th>\n",
       "    </tr>\n",
       "    <tr>\n",
       "      <th>race</th>\n",
       "      <th></th>\n",
       "      <th></th>\n",
       "      <th></th>\n",
       "      <th></th>\n",
       "      <th></th>\n",
       "    </tr>\n",
       "  </thead>\n",
       "  <tbody>\n",
       "    <tr>\n",
       "      <th>Other</th>\n",
       "      <td>0.997191</td>\n",
       "      <td>0.978261</td>\n",
       "      <td>1.019351</td>\n",
       "      <td>0.019166</td>\n",
       "      <td>True</td>\n",
       "    </tr>\n",
       "    <tr>\n",
       "      <th>Amer-Indian-Eskimo</th>\n",
       "      <td>0.995181</td>\n",
       "      <td>0.983146</td>\n",
       "      <td>1.012241</td>\n",
       "      <td>0.012167</td>\n",
       "      <td>True</td>\n",
       "    </tr>\n",
       "    <tr>\n",
       "      <th>Black</th>\n",
       "      <td>0.992959</td>\n",
       "      <td>0.983871</td>\n",
       "      <td>1.009237</td>\n",
       "      <td>0.009195</td>\n",
       "      <td>True</td>\n",
       "    </tr>\n",
       "    <tr>\n",
       "      <th>White</th>\n",
       "      <td>0.983983</td>\n",
       "      <td>0.985530</td>\n",
       "      <td>0.998431</td>\n",
       "      <td>0.001570</td>\n",
       "      <td>True</td>\n",
       "    </tr>\n",
       "    <tr>\n",
       "      <th>Asian-Pac-Islander</th>\n",
       "      <td>0.982883</td>\n",
       "      <td>0.982773</td>\n",
       "      <td>1.000111</td>\n",
       "      <td>0.000111</td>\n",
       "      <td>True</td>\n",
       "    </tr>\n",
       "  </tbody>\n",
       "</table>\n",
       "</div>"
      ],
      "text/plain": [
       "                       value  value_comp     ratio     score  threshold\n",
       "race                                                                   \n",
       "Other               0.997191    0.978261  1.019351  0.019166       True\n",
       "Amer-Indian-Eskimo  0.995181    0.983146  1.012241  0.012167       True\n",
       "Black               0.992959    0.983871  1.009237  0.009195       True\n",
       "White               0.983983    0.985530  0.998431  0.001570       True\n",
       "Asian-Pac-Islander  0.982883    0.982773  1.000111  0.000111       True"
      ]
     },
     "metadata": {},
     "output_type": "display_data"
    },
    {
     "data": {
      "text/html": [
       "<div>\n",
       "<style scoped>\n",
       "    .dataframe tbody tr th:only-of-type {\n",
       "        vertical-align: middle;\n",
       "    }\n",
       "\n",
       "    .dataframe tbody tr th {\n",
       "        vertical-align: top;\n",
       "    }\n",
       "\n",
       "    .dataframe thead th {\n",
       "        text-align: right;\n",
       "    }\n",
       "</style>\n",
       "<table border=\"1\" class=\"dataframe\">\n",
       "  <thead>\n",
       "    <tr style=\"text-align: right;\">\n",
       "      <th></th>\n",
       "      <th>demographic_parity</th>\n",
       "      <th>equal_opportunity</th>\n",
       "      <th>predictive_parity_rate</th>\n",
       "    </tr>\n",
       "  </thead>\n",
       "  <tbody>\n",
       "    <tr>\n",
       "      <th>0</th>\n",
       "      <td>0.747214</td>\n",
       "      <td>0.064889</td>\n",
       "      <td>0.767255</td>\n",
       "    </tr>\n",
       "  </tbody>\n",
       "</table>\n",
       "</div>"
      ],
      "text/plain": [
       "   demographic_parity  equal_opportunity  predictive_parity_rate\n",
       "0            0.747214           0.064889                0.767255"
      ]
     },
     "metadata": {},
     "output_type": "display_data"
    }
   ],
   "source": [
    "display(demographic_parity(random_forest))\n",
    "display(calculate_score(random_forest, TPR))\n",
    "display(calculate_score(random_forest, PPV))\n",
    "display(calculate_score(random_forest, NPV))\n",
    "\n",
    "random_forest_scores = get_overall_scores(random_forest)\n",
    "display(random_forest_scores)"
   ]
  },
  {
   "cell_type": "code",
   "execution_count": 25,
   "id": "2aae96e6",
   "metadata": {
    "ExecuteTime": {
     "end_time": "2023-10-20T09:09:52.722557Z",
     "start_time": "2023-10-20T09:09:52.419593Z"
    }
   },
   "outputs": [
    {
     "data": {
      "image/png": "[encoded data removed]",
      "text/plain": [
       "<Figure size 600x400 with 1 Axes>"
      ]
     },
     "metadata": {},
     "output_type": "display_data"
    }
   ],
   "source": [
    "draw_scores(random_forest_scores, 'RandomForestClassifier')"
   ]
  },
  {
   "cell_type": "code",
   "execution_count": 26,
   "id": "bb6b177a",
   "metadata": {
    "ExecuteTime": {
     "end_time": "2023-10-20T09:09:52.779828Z",
     "start_time": "2023-10-20T09:09:52.724273Z"
    }
   },
   "outputs": [
    {
     "data": {
      "text/plain": [
       "0.025178542653890704"
      ]
     },
     "execution_count": 26,
     "metadata": {},
     "output_type": "execute_result"
    }
   ],
   "source": [
    "# race importance\n",
    "random_forest.feature_importances_[60:65].sum()"
   ]
  },
  {
   "cell_type": "markdown",
   "id": "d9c2303d",
   "metadata": {},
   "source": [
    "## Augmenting the `LogisticRegression` model"
   ]
  },
  {
   "cell_type": "code",
   "execution_count": 27,
   "id": "46165215",
   "metadata": {
    "ExecuteTime": {
     "end_time": "2023-10-20T09:09:52.988568Z",
     "start_time": "2023-10-20T09:09:52.783111Z"
    }
   },
   "outputs": [],
   "source": [
    "PROPORTION = 0.11\n",
    "\n",
    "minimal_group = min(len(df_groups.get_group(race)) for race in races) // 2\n",
    "np.random.seed(RANDOM_STATE)\n",
    "\n",
    "weighted_indices = {}\n",
    "for race in races:\n",
    "    df_race = df_groups.get_group(race)\n",
    "    df_race_pos = df_race[df_race['income'] == 1]\n",
    "    df_race_neg = df_race[df_race['income'] == 0]\n",
    "    positive = list(np.random.choice(df_race_pos.index, int(minimal_group * PROPORTION)))\n",
    "    negative = list(np.random.choice(df_race_neg.index, int(minimal_group * (1 - PROPORTION))))\n",
    "    weighted_indices[race] = positive + negative"
   ]
  },
  {
   "cell_type": "code",
   "execution_count": 28,
   "id": "1fb8c404",
   "metadata": {
    "ExecuteTime": {
     "end_time": "2023-10-20T09:09:53.016495Z",
     "start_time": "2023-10-20T09:09:52.989749Z"
    }
   },
   "outputs": [],
   "source": [
    "all_indices = sum(weighted_indices.values(), [])"
   ]
  },
  {
   "cell_type": "code",
   "execution_count": 29,
   "id": "737e66d5",
   "metadata": {
    "ExecuteTime": {
     "end_time": "2023-10-20T09:09:53.459205Z",
     "start_time": "2023-10-20T09:09:53.017715Z"
    }
   },
   "outputs": [
    {
     "name": "stdout",
     "output_type": "stream",
     "text": [
      "Train accuracy: 48.22%\n",
      "Test accuracy:  53.25%\n",
      "\n",
      "Train F1 score: 16.05%\n",
      "Test F1 score:  28.32%\n",
      "\n"
     ]
    }
   ],
   "source": [
    "aug_logistic_regression = LogisticRegression(random_state=RANDOM_STATE)\n",
    "\n",
    "def predict_with_threshold(X, threshold=0.900):\n",
    "    return (aug_logistic_regression.predict_proba(X)[:, 0] < threshold).astype(int)\n",
    "\n",
    "X_prime = X[all_indices]\n",
    "X_prime[60:65] = 0  # hide information about races\n",
    "y_prime = y[all_indices]\n",
    "\n",
    "aug_logistic_regression.predict = predict_with_threshold\n",
    "aug_logistic_regression.fit(X_prime, y_prime)\n",
    "\n",
    "(\n",
    "    aug_logistic_regression_train_accuracy, aug_logistic_regression_test_accuracy,\n",
    "    aug_logistic_regression_train_f1_score, aug_logistic_regression_test_f1_score\n",
    ") = get_results(aug_logistic_regression, X_prime, X_test, y_prime, y_test)\n",
    "\n",
    "\n",
    "print_results(\n",
    "    aug_logistic_regression_train_accuracy, aug_logistic_regression_test_accuracy,\n",
    "    aug_logistic_regression_train_f1_score, aug_logistic_regression_test_f1_score\n",
    ")"
   ]
  },
  {
   "cell_type": "code",
   "execution_count": 30,
   "id": "83d4bde0",
   "metadata": {
    "ExecuteTime": {
     "end_time": "2023-10-20T09:09:58.823297Z",
     "start_time": "2023-10-20T09:09:53.461170Z"
    }
   },
   "outputs": [
    {
     "data": {
      "text/html": [
       "<div>\n",
       "<style scoped>\n",
       "    .dataframe tbody tr th:only-of-type {\n",
       "        vertical-align: middle;\n",
       "    }\n",
       "\n",
       "    .dataframe tbody tr th {\n",
       "        vertical-align: top;\n",
       "    }\n",
       "\n",
       "    .dataframe thead th {\n",
       "        text-align: right;\n",
       "    }\n",
       "</style>\n",
       "<table border=\"1\" class=\"dataframe\">\n",
       "  <thead>\n",
       "    <tr style=\"text-align: right;\">\n",
       "      <th></th>\n",
       "      <th>value</th>\n",
       "      <th>value_comp</th>\n",
       "      <th>ratio</th>\n",
       "      <th>score</th>\n",
       "      <th>threshold</th>\n",
       "    </tr>\n",
       "    <tr>\n",
       "      <th>race</th>\n",
       "      <th></th>\n",
       "      <th></th>\n",
       "      <th></th>\n",
       "      <th></th>\n",
       "      <th></th>\n",
       "    </tr>\n",
       "  </thead>\n",
       "  <tbody>\n",
       "    <tr>\n",
       "      <th>Amer-Indian-Eskimo</th>\n",
       "      <td>0.568085</td>\n",
       "      <td>0.425532</td>\n",
       "      <td>1.335000</td>\n",
       "      <td>0.288931</td>\n",
       "      <td>False</td>\n",
       "    </tr>\n",
       "    <tr>\n",
       "      <th>Asian-Pac-Islander</th>\n",
       "      <td>0.516787</td>\n",
       "      <td>0.416063</td>\n",
       "      <td>1.242089</td>\n",
       "      <td>0.216794</td>\n",
       "      <td>True</td>\n",
       "    </tr>\n",
       "    <tr>\n",
       "      <th>Black</th>\n",
       "      <td>0.344077</td>\n",
       "      <td>0.419851</td>\n",
       "      <td>0.819522</td>\n",
       "      <td>0.199034</td>\n",
       "      <td>True</td>\n",
       "    </tr>\n",
       "    <tr>\n",
       "      <th>Other</th>\n",
       "      <td>0.502463</td>\n",
       "      <td>0.460591</td>\n",
       "      <td>1.090909</td>\n",
       "      <td>0.087011</td>\n",
       "      <td>True</td>\n",
       "    </tr>\n",
       "    <tr>\n",
       "      <th>White</th>\n",
       "      <td>0.424142</td>\n",
       "      <td>0.421316</td>\n",
       "      <td>1.006706</td>\n",
       "      <td>0.006684</td>\n",
       "      <td>True</td>\n",
       "    </tr>\n",
       "  </tbody>\n",
       "</table>\n",
       "</div>"
      ],
      "text/plain": [
       "                       value  value_comp     ratio     score  threshold\n",
       "race                                                                   \n",
       "Amer-Indian-Eskimo  0.568085    0.425532  1.335000  0.288931      False\n",
       "Asian-Pac-Islander  0.516787    0.416063  1.242089  0.216794       True\n",
       "Black               0.344077    0.419851  0.819522  0.199034       True\n",
       "Other               0.502463    0.460591  1.090909  0.087011       True\n",
       "White               0.424142    0.421316  1.006706  0.006684       True"
      ]
     },
     "metadata": {},
     "output_type": "display_data"
    },
    {
     "data": {
      "text/html": [
       "<div>\n",
       "<style scoped>\n",
       "    .dataframe tbody tr th:only-of-type {\n",
       "        vertical-align: middle;\n",
       "    }\n",
       "\n",
       "    .dataframe tbody tr th {\n",
       "        vertical-align: top;\n",
       "    }\n",
       "\n",
       "    .dataframe thead th {\n",
       "        text-align: right;\n",
       "    }\n",
       "</style>\n",
       "<table border=\"1\" class=\"dataframe\">\n",
       "  <thead>\n",
       "    <tr style=\"text-align: right;\">\n",
       "      <th></th>\n",
       "      <th>value</th>\n",
       "      <th>value_comp</th>\n",
       "      <th>ratio</th>\n",
       "      <th>score</th>\n",
       "      <th>threshold</th>\n",
       "    </tr>\n",
       "    <tr>\n",
       "      <th>race</th>\n",
       "      <th></th>\n",
       "      <th></th>\n",
       "      <th></th>\n",
       "      <th></th>\n",
       "      <th></th>\n",
       "    </tr>\n",
       "  </thead>\n",
       "  <tbody>\n",
       "    <tr>\n",
       "      <th>Amer-Indian-Eskimo</th>\n",
       "      <td>0.119850</td>\n",
       "      <td>0.240000</td>\n",
       "      <td>0.499376</td>\n",
       "      <td>0.694396</td>\n",
       "      <td>False</td>\n",
       "    </tr>\n",
       "    <tr>\n",
       "      <th>Black</th>\n",
       "      <td>0.127171</td>\n",
       "      <td>0.224199</td>\n",
       "      <td>0.567224</td>\n",
       "      <td>0.567001</td>\n",
       "      <td>False</td>\n",
       "    </tr>\n",
       "    <tr>\n",
       "      <th>Other</th>\n",
       "      <td>0.107843</td>\n",
       "      <td>0.181818</td>\n",
       "      <td>0.593137</td>\n",
       "      <td>0.522329</td>\n",
       "      <td>False</td>\n",
       "    </tr>\n",
       "    <tr>\n",
       "      <th>Asian-Pac-Islander</th>\n",
       "      <td>0.235669</td>\n",
       "      <td>0.212025</td>\n",
       "      <td>1.111513</td>\n",
       "      <td>0.105722</td>\n",
       "      <td>True</td>\n",
       "    </tr>\n",
       "    <tr>\n",
       "      <th>White</th>\n",
       "      <td>0.236606</td>\n",
       "      <td>0.226087</td>\n",
       "      <td>1.046526</td>\n",
       "      <td>0.045476</td>\n",
       "      <td>True</td>\n",
       "    </tr>\n",
       "  </tbody>\n",
       "</table>\n",
       "</div>"
      ],
      "text/plain": [
       "                       value  value_comp     ratio     score  threshold\n",
       "race                                                                   \n",
       "Amer-Indian-Eskimo  0.119850    0.240000  0.499376  0.694396      False\n",
       "Black               0.127171    0.224199  0.567224  0.567001      False\n",
       "Other               0.107843    0.181818  0.593137  0.522329      False\n",
       "Asian-Pac-Islander  0.235669    0.212025  1.111513  0.105722       True\n",
       "White               0.236606    0.226087  1.046526  0.045476       True"
      ]
     },
     "metadata": {},
     "output_type": "display_data"
    },
    {
     "data": {
      "text/html": [
       "<div>\n",
       "<style scoped>\n",
       "    .dataframe tbody tr th:only-of-type {\n",
       "        vertical-align: middle;\n",
       "    }\n",
       "\n",
       "    .dataframe tbody tr th {\n",
       "        vertical-align: top;\n",
       "    }\n",
       "\n",
       "    .dataframe thead th {\n",
       "        text-align: right;\n",
       "    }\n",
       "</style>\n",
       "<table border=\"1\" class=\"dataframe\">\n",
       "  <thead>\n",
       "    <tr style=\"text-align: right;\">\n",
       "      <th></th>\n",
       "      <th>value</th>\n",
       "      <th>value_comp</th>\n",
       "      <th>ratio</th>\n",
       "      <th>score</th>\n",
       "      <th>threshold</th>\n",
       "    </tr>\n",
       "    <tr>\n",
       "      <th>race</th>\n",
       "      <th></th>\n",
       "      <th></th>\n",
       "      <th></th>\n",
       "      <th></th>\n",
       "      <th></th>\n",
       "    </tr>\n",
       "  </thead>\n",
       "  <tbody>\n",
       "    <tr>\n",
       "      <th>Amer-Indian-Eskimo</th>\n",
       "      <td>0.910853</td>\n",
       "      <td>0.697248</td>\n",
       "      <td>1.306355</td>\n",
       "      <td>0.267240</td>\n",
       "      <td>False</td>\n",
       "    </tr>\n",
       "    <tr>\n",
       "      <th>Other</th>\n",
       "      <td>0.866667</td>\n",
       "      <td>0.753695</td>\n",
       "      <td>1.149891</td>\n",
       "      <td>0.139667</td>\n",
       "      <td>True</td>\n",
       "    </tr>\n",
       "    <tr>\n",
       "      <th>Black</th>\n",
       "      <td>0.795814</td>\n",
       "      <td>0.701932</td>\n",
       "      <td>1.133749</td>\n",
       "      <td>0.125530</td>\n",
       "      <td>True</td>\n",
       "    </tr>\n",
       "    <tr>\n",
       "      <th>Asian-Pac-Islander</th>\n",
       "      <td>0.728155</td>\n",
       "      <td>0.689751</td>\n",
       "      <td>1.055679</td>\n",
       "      <td>0.054184</td>\n",
       "      <td>True</td>\n",
       "    </tr>\n",
       "    <tr>\n",
       "      <th>White</th>\n",
       "      <td>0.678202</td>\n",
       "      <td>0.691886</td>\n",
       "      <td>0.980223</td>\n",
       "      <td>0.019975</td>\n",
       "      <td>True</td>\n",
       "    </tr>\n",
       "  </tbody>\n",
       "</table>\n",
       "</div>"
      ],
      "text/plain": [
       "                       value  value_comp     ratio     score  threshold\n",
       "race                                                                   \n",
       "Amer-Indian-Eskimo  0.910853    0.697248  1.306355  0.267240      False\n",
       "Other               0.866667    0.753695  1.149891  0.139667       True\n",
       "Black               0.795814    0.701932  1.133749  0.125530       True\n",
       "Asian-Pac-Islander  0.728155    0.689751  1.055679  0.054184       True\n",
       "White               0.678202    0.691886  0.980223  0.019975       True"
      ]
     },
     "metadata": {},
     "output_type": "display_data"
    },
    {
     "data": {
      "text/html": [
       "<div>\n",
       "<style scoped>\n",
       "    .dataframe tbody tr th:only-of-type {\n",
       "        vertical-align: middle;\n",
       "    }\n",
       "\n",
       "    .dataframe tbody tr th {\n",
       "        vertical-align: top;\n",
       "    }\n",
       "\n",
       "    .dataframe thead th {\n",
       "        text-align: right;\n",
       "    }\n",
       "</style>\n",
       "<table border=\"1\" class=\"dataframe\">\n",
       "  <thead>\n",
       "    <tr style=\"text-align: right;\">\n",
       "      <th></th>\n",
       "      <th>value</th>\n",
       "      <th>value_comp</th>\n",
       "      <th>ratio</th>\n",
       "      <th>score</th>\n",
       "      <th>threshold</th>\n",
       "    </tr>\n",
       "    <tr>\n",
       "      <th>race</th>\n",
       "      <th></th>\n",
       "      <th></th>\n",
       "      <th></th>\n",
       "      <th></th>\n",
       "      <th></th>\n",
       "    </tr>\n",
       "  </thead>\n",
       "  <tbody>\n",
       "    <tr>\n",
       "      <th>Amer-Indian-Eskimo</th>\n",
       "      <td>0.433735</td>\n",
       "      <td>0.573034</td>\n",
       "      <td>0.756910</td>\n",
       "      <td>0.278511</td>\n",
       "      <td>False</td>\n",
       "    </tr>\n",
       "    <tr>\n",
       "      <th>Asian-Pac-Islander</th>\n",
       "      <td>0.459459</td>\n",
       "      <td>0.571059</td>\n",
       "      <td>0.804574</td>\n",
       "      <td>0.217443</td>\n",
       "      <td>True</td>\n",
       "    </tr>\n",
       "    <tr>\n",
       "      <th>Black</th>\n",
       "      <td>0.658412</td>\n",
       "      <td>0.575640</td>\n",
       "      <td>1.143792</td>\n",
       "      <td>0.134349</td>\n",
       "      <td>True</td>\n",
       "    </tr>\n",
       "    <tr>\n",
       "      <th>Other</th>\n",
       "      <td>0.488764</td>\n",
       "      <td>0.524845</td>\n",
       "      <td>0.931255</td>\n",
       "      <td>0.071223</td>\n",
       "      <td>True</td>\n",
       "    </tr>\n",
       "    <tr>\n",
       "      <th>White</th>\n",
       "      <td>0.565977</td>\n",
       "      <td>0.570712</td>\n",
       "      <td>0.991702</td>\n",
       "      <td>0.008333</td>\n",
       "      <td>True</td>\n",
       "    </tr>\n",
       "  </tbody>\n",
       "</table>\n",
       "</div>"
      ],
      "text/plain": [
       "                       value  value_comp     ratio     score  threshold\n",
       "race                                                                   \n",
       "Amer-Indian-Eskimo  0.433735    0.573034  0.756910  0.278511      False\n",
       "Asian-Pac-Islander  0.459459    0.571059  0.804574  0.217443       True\n",
       "Black               0.658412    0.575640  1.143792  0.134349       True\n",
       "Other               0.488764    0.524845  0.931255  0.071223       True\n",
       "White               0.565977    0.570712  0.991702  0.008333       True"
      ]
     },
     "metadata": {},
     "output_type": "display_data"
    },
    {
     "data": {
      "text/html": [
       "<div>\n",
       "<style scoped>\n",
       "    .dataframe tbody tr th:only-of-type {\n",
       "        vertical-align: middle;\n",
       "    }\n",
       "\n",
       "    .dataframe tbody tr th {\n",
       "        vertical-align: top;\n",
       "    }\n",
       "\n",
       "    .dataframe thead th {\n",
       "        text-align: right;\n",
       "    }\n",
       "</style>\n",
       "<table border=\"1\" class=\"dataframe\">\n",
       "  <thead>\n",
       "    <tr style=\"text-align: right;\">\n",
       "      <th></th>\n",
       "      <th>demographic_parity</th>\n",
       "      <th>equal_opportunity</th>\n",
       "      <th>predictive_parity_rate</th>\n",
       "    </tr>\n",
       "  </thead>\n",
       "  <tbody>\n",
       "    <tr>\n",
       "      <th>0</th>\n",
       "      <td>0.288931</td>\n",
       "      <td>0.694396</td>\n",
       "      <td>0.278511</td>\n",
       "    </tr>\n",
       "  </tbody>\n",
       "</table>\n",
       "</div>"
      ],
      "text/plain": [
       "   demographic_parity  equal_opportunity  predictive_parity_rate\n",
       "0            0.288931           0.694396                0.278511"
      ]
     },
     "metadata": {},
     "output_type": "display_data"
    }
   ],
   "source": [
    "display(demographic_parity(aug_logistic_regression))\n",
    "display(calculate_score(aug_logistic_regression, TPR))\n",
    "display(calculate_score(aug_logistic_regression, PPV))\n",
    "display(calculate_score(aug_logistic_regression, NPV))\n",
    "\n",
    "aug_logistic_regression_scores = get_overall_scores(aug_logistic_regression)\n",
    "display(aug_logistic_regression_scores)"
   ]
  },
  {
   "cell_type": "code",
   "execution_count": 31,
   "id": "fb096fca",
   "metadata": {
    "ExecuteTime": {
     "end_time": "2023-10-20T09:09:59.189481Z",
     "start_time": "2023-10-20T09:09:58.825004Z"
    }
   },
   "outputs": [
    {
     "data": {
      "image/png": "[encoded data removed]",
      "text/plain": [
       "<Figure size 600x400 with 1 Axes>"
      ]
     },
     "metadata": {},
     "output_type": "display_data"
    }
   ],
   "source": [
    "draw_scores(aug_logistic_regression_scores, 'AugmentedLinearRegression')"
   ]
  },
  {
   "cell_type": "code",
   "execution_count": null,
   "id": "55acadfe",
   "metadata": {},
   "outputs": [],
   "source": []
  }
 ],
 "metadata": {
  "hide_input": false,
  "kernelspec": {
   "display_name": "Python 3 (ipyflow)",
   "language": "python",
   "name": "ipyflow"
  },
  "language_info": {
   "codemirror_mode": {
    "name": "ipython",
    "version": 3
   },
   "file_extension": ".py",
   "mimetype": "text/x-python",
   "name": "python",
   "nbconvert_exporter": "python",
   "pygments_lexer": "ipython3",
   "version": "3.11.3"
  }
 },
 "nbformat": 4,
 "nbformat_minor": 5
}
