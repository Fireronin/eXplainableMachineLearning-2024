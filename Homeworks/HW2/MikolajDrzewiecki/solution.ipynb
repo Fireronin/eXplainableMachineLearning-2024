{
 "cells": [
  {
   "cell_type": "markdown",
   "source": [
    "# 1. Task 1"
   ],
   "metadata": {
    "collapsed": false
   },
   "id": "282232a267e1c516"
  },
  {
   "cell_type": "markdown",
   "source": [
    "### 1.1. Overview\n",
    "\n",
    "Model performance results for Blue group: "
   ],
   "metadata": {
    "collapsed": false
   },
   "id": "e4d797bef3f27a02"
  },
  {
   "cell_type": "code",
   "execution_count": 1118,
   "outputs": [
    {
     "data": {
      "text/plain": "array([['Blue', 'Will use XAI', 'Will not use XAI', 'Total'],\n       ['Enrolled in training', '60', '5', '65'],\n       ['not enrolled in training', '20', '15', '35'],\n       ['Total', '80', '20', '100']], dtype='<U24')"
     },
     "execution_count": 1118,
     "metadata": {},
     "output_type": "execute_result"
    }
   ],
   "source": [
    "task1_display_results(task1_blue_results, \"Blue\")"
   ],
   "metadata": {
    "collapsed": false,
    "ExecuteTime": {
     "end_time": "2023-10-20T01:43:57.037209746Z",
     "start_time": "2023-10-20T01:43:56.891384244Z"
    }
   },
   "id": "897ae635b73c7b8e"
  },
  {
   "cell_type": "markdown",
   "source": [
    "We have a rule stating when to enroll somebody from the red population, instead of an example of an actual assignment. We can easily proof that this information can be presented in the table of probabilities below.\n",
    "\n",
    "(one note: blue population is 9 times larger, although 100 doesn't divide by 9, hence I supposed it was meant to be 10 times larger):"
   ],
   "metadata": {
    "collapsed": false
   },
   "id": "ce74df4dbd6c1668"
  },
  {
   "cell_type": "code",
   "execution_count": 1119,
   "outputs": [
    {
     "data": {
      "text/plain": "array([['Red', 'Will use XAI', 'Will not use XAI', 'Total'],\n       ['Enrolled in training', '0.25', '0.25', '0.5'],\n       ['not enrolled in training', '0.25', '0.25', '0.5'],\n       ['Total', '0.5', '0.5', '1.0']], dtype='<U32')"
     },
     "execution_count": 1119,
     "metadata": {},
     "output_type": "execute_result"
    }
   ],
   "source": [
    "task1_display_results(task1_red_results, \"Red\")"
   ],
   "metadata": {
    "collapsed": false,
    "ExecuteTime": {
     "end_time": "2023-10-20T01:43:57.056142165Z",
     "start_time": "2023-10-20T01:43:56.899803671Z"
    }
   },
   "id": "140059b51ff8f47d"
  },
  {
   "cell_type": "markdown",
   "source": [
    "### 1.2. Calculate demographic parity\n",
    "\n",
    "If model is meant to pass demographic parity check, results must satisfy the formula $$P(Enrolled=1\\;|\\;Group=blue)\\;=\\;P(Enrolled=1\\;|\\;Group=red)$$\n",
    "In practice (legally - \"four-fifth rule\") it suffices, if $$0.8 \\leq \\frac{P(Enrolled=1\\;|\\;Group=blue)}{P(Enrolled=1\\;|\\;Group=red)} \\leq 1.25$$\n",
    "For blue and red groups those probabilities are:"
   ],
   "metadata": {
    "collapsed": false
   },
   "id": "77741904f0751ba4"
  },
  {
   "cell_type": "markdown",
   "source": [],
   "metadata": {
    "collapsed": false
   },
   "id": "5783d5cb60d51ae4"
  },
  {
   "cell_type": "code",
   "execution_count": 1120,
   "outputs": [
    {
     "name": "stdout",
     "output_type": "stream",
     "text": [
      "Demographic parity:\n",
      "\tblue: 0.35\n",
      "\tred: 0.5\n",
      "\tratio: 0.7\n"
     ]
    }
   ],
   "source": [
    "show_demographic_parity(\"blue\", \"red\")"
   ],
   "metadata": {
    "collapsed": false,
    "ExecuteTime": {
     "end_time": "2023-10-20T01:43:57.068098220Z",
     "start_time": "2023-10-20T01:43:56.904331970Z"
    }
   },
   "id": "90e2d4eae114b13"
  },
  {
   "cell_type": "markdown",
   "source": [
    "### 1.3 Calculate equal opportunity\n",
    "\n",
    "If model is meant to pass demographic parity check, results must satisfy the formula $$P(Enrolled=1\\;|\\;Group=blue\\;\\land\\;WouldUse=1)\\;=\\;P(Enrolled=1\\;|\\;Group=red\\;\\land\\;WouldUse=1)$$\n",
    "Again, we would want to check appropriately expressed \"four-fifth rule\". For blue and red groups those probabilities are:"
   ],
   "metadata": {
    "collapsed": false
   },
   "id": "627f5bce45e692d9"
  },
  {
   "cell_type": "code",
   "execution_count": 1121,
   "outputs": [
    {
     "name": "stdout",
     "output_type": "stream",
     "text": [
      "Equal opportunity:\n",
      "\tblue: 0.75\n",
      "\tred: 0.5\n",
      "\tratio: 1.5\n"
     ]
    }
   ],
   "source": [
    "show_equal_opportunity(\"blue\", \"red\")"
   ],
   "metadata": {
    "collapsed": false,
    "ExecuteTime": {
     "end_time": "2023-10-20T01:43:57.163382307Z",
     "start_time": "2023-10-20T01:43:56.908848684Z"
    }
   },
   "id": "ff6775ca185be530"
  },
  {
   "cell_type": "markdown",
   "source": [
    "### 1.4 Calculate predictive rate parity\n",
    "If model is meant to pass predictive rate parity check, results must satisfy formulas for equal positive/negative predictive value: $$P(WouldUse=1\\;|\\;Group=blue\\;\\land\\;Enrolled=1)\\;=\\;P(WouldUse=1\\;|\\;Group=red\\;\\land\\;Enrolled=1)$$ $$P(WouldUse=1\\;|\\;Group=blue\\;\\land\\;Enrolled=0)\\;=\\;P(WouldUse=1\\;|\\;Group=red\\;\\land\\;Enrolled=0)$$\n",
    "Again, we would want to check appropriately expressed \"four-fifth rule\". For blue and red groups probabilities for positive/negative predictive value are:"
   ],
   "metadata": {
    "collapsed": false
   },
   "id": "4c4ad903fa38833b"
  },
  {
   "cell_type": "code",
   "execution_count": 1122,
   "outputs": [
    {
     "name": "stdout",
     "output_type": "stream",
     "text": [
      "Positive Predictive Parity:\n",
      "\tblue: 0.92\n",
      "\tred: 0.5\n",
      "\tratio: 1.84\n",
      "Negative Predictive Parity:\n",
      "\tblue: 0.43\n",
      "\tred: 0.5\n",
      "\tratio: 0.86\n"
     ]
    }
   ],
   "source": [
    "show_predictive_rate_parity(\"blue\", \"red\")"
   ],
   "metadata": {
    "collapsed": false,
    "ExecuteTime": {
     "end_time": "2023-10-20T01:43:57.165326414Z",
     "start_time": "2023-10-20T01:43:56.919877553Z"
    }
   },
   "id": "2f595ba5d630f75"
  },
  {
   "cell_type": "markdown",
   "source": [
    "### 1.5 Summary\n",
    "As we can see, ratios were always beyond acceptable range, so proposed fairness metrics proved this model to be unfair. We could try to improve that by choosing more accurate rule to enroll people from red population to decrease amount of false-positives and false-negatives."
   ],
   "metadata": {
    "collapsed": false
   },
   "id": "cca4366c05b8d655"
  },
  {
   "cell_type": "markdown",
   "source": [
    "# 2. Task 2"
   ],
   "metadata": {
    "collapsed": false
   },
   "id": "a65b39017e0767dd"
  },
  {
   "cell_type": "markdown",
   "source": [
    "### 2.1 Overview \n",
    "I have decided to choose liner regression models and the adult_income dataset. Two models will be trained with different hyperparamenters on dissimilarly prepared data using train/test split. One of them will be then enhanced by weighting training data and compared to the rest in terms of fairness and performance."
   ],
   "metadata": {
    "collapsed": false
   },
   "id": "cc6c7d9650bac265"
  },
  {
   "cell_type": "markdown",
   "source": [
    "### 2.1 Train a model for the selected dataset.\n",
    "First of all, we load the data:"
   ],
   "metadata": {
    "collapsed": false
   },
   "id": "970109c2a093eb68"
  },
  {
   "cell_type": "code",
   "execution_count": 1123,
   "outputs": [
    {
     "data": {
      "text/plain": "   age  workclass  fnlwgt     education  educational-num      marital-status  \\\n0   25    Private  226802          11th                7       Never-married   \n1   38    Private   89814       HS-grad                9  Married-civ-spouse   \n2   28  Local-gov  336951    Assoc-acdm               12  Married-civ-spouse   \n3   44    Private  160323  Some-college               10  Married-civ-spouse   \n4   18          ?  103497  Some-college               10       Never-married   \n\n          occupation relationship   race  gender  capital-gain  capital-loss  \\\n0  Machine-op-inspct    Own-child  Black    Male             0             0   \n1    Farming-fishing      Husband  White    Male             0             0   \n2    Protective-serv      Husband  White    Male             0             0   \n3  Machine-op-inspct      Husband  Black    Male          7688             0   \n4                  ?    Own-child  White  Female             0             0   \n\n   hours-per-week native-country income  \n0              40  United-States  <=50K  \n1              50  United-States  <=50K  \n2              40  United-States   >50K  \n3              40  United-States   >50K  \n4              30  United-States  <=50K  ",
      "text/html": "<div>\n<style scoped>\n    .dataframe tbody tr th:only-of-type {\n        vertical-align: middle;\n    }\n\n    .dataframe tbody tr th {\n        vertical-align: top;\n    }\n\n    .dataframe thead th {\n        text-align: right;\n    }\n</style>\n<table border=\"1\" class=\"dataframe\">\n  <thead>\n    <tr style=\"text-align: right;\">\n      <th></th>\n      <th>age</th>\n      <th>workclass</th>\n      <th>fnlwgt</th>\n      <th>education</th>\n      <th>educational-num</th>\n      <th>marital-status</th>\n      <th>occupation</th>\n      <th>relationship</th>\n      <th>race</th>\n      <th>gender</th>\n      <th>capital-gain</th>\n      <th>capital-loss</th>\n      <th>hours-per-week</th>\n      <th>native-country</th>\n      <th>income</th>\n    </tr>\n  </thead>\n  <tbody>\n    <tr>\n      <th>0</th>\n      <td>25</td>\n      <td>Private</td>\n      <td>226802</td>\n      <td>11th</td>\n      <td>7</td>\n      <td>Never-married</td>\n      <td>Machine-op-inspct</td>\n      <td>Own-child</td>\n      <td>Black</td>\n      <td>Male</td>\n      <td>0</td>\n      <td>0</td>\n      <td>40</td>\n      <td>United-States</td>\n      <td>&lt;=50K</td>\n    </tr>\n    <tr>\n      <th>1</th>\n      <td>38</td>\n      <td>Private</td>\n      <td>89814</td>\n      <td>HS-grad</td>\n      <td>9</td>\n      <td>Married-civ-spouse</td>\n      <td>Farming-fishing</td>\n      <td>Husband</td>\n      <td>White</td>\n      <td>Male</td>\n      <td>0</td>\n      <td>0</td>\n      <td>50</td>\n      <td>United-States</td>\n      <td>&lt;=50K</td>\n    </tr>\n    <tr>\n      <th>2</th>\n      <td>28</td>\n      <td>Local-gov</td>\n      <td>336951</td>\n      <td>Assoc-acdm</td>\n      <td>12</td>\n      <td>Married-civ-spouse</td>\n      <td>Protective-serv</td>\n      <td>Husband</td>\n      <td>White</td>\n      <td>Male</td>\n      <td>0</td>\n      <td>0</td>\n      <td>40</td>\n      <td>United-States</td>\n      <td>&gt;50K</td>\n    </tr>\n    <tr>\n      <th>3</th>\n      <td>44</td>\n      <td>Private</td>\n      <td>160323</td>\n      <td>Some-college</td>\n      <td>10</td>\n      <td>Married-civ-spouse</td>\n      <td>Machine-op-inspct</td>\n      <td>Husband</td>\n      <td>Black</td>\n      <td>Male</td>\n      <td>7688</td>\n      <td>0</td>\n      <td>40</td>\n      <td>United-States</td>\n      <td>&gt;50K</td>\n    </tr>\n    <tr>\n      <th>4</th>\n      <td>18</td>\n      <td>?</td>\n      <td>103497</td>\n      <td>Some-college</td>\n      <td>10</td>\n      <td>Never-married</td>\n      <td>?</td>\n      <td>Own-child</td>\n      <td>White</td>\n      <td>Female</td>\n      <td>0</td>\n      <td>0</td>\n      <td>30</td>\n      <td>United-States</td>\n      <td>&lt;=50K</td>\n    </tr>\n  </tbody>\n</table>\n</div>"
     },
     "execution_count": 1123,
     "metadata": {},
     "output_type": "execute_result"
    }
   ],
   "source": [
    "df.head()"
   ],
   "metadata": {
    "collapsed": false,
    "ExecuteTime": {
     "end_time": "2023-10-20T01:43:57.190003721Z",
     "start_time": "2023-10-20T01:43:56.930199496Z"
    }
   },
   "id": "358f65bfd2e26130"
  },
  {
   "cell_type": "markdown",
   "source": [
    "We may notice that provided non-numeric values need to be transformed into (optionally standardised) numerical form (this also applies to undefined values marked here as '?'). We can do this in many ways, in particular, for the first model we are going to assign an ordering number for each distinct value (including '?') in every column. Regarding the second one, we will do the same, but also with additional step of standardisation.\n",
    "\n",
    "Let's check the number of distinct values in each column:"
   ],
   "metadata": {
    "collapsed": false
   },
   "id": "e5c23963c1c68d66"
  },
  {
   "cell_type": "code",
   "execution_count": 1124,
   "outputs": [
    {
     "data": {
      "text/plain": "age                   74\nworkclass              9\nfnlwgt             28523\neducation             16\neducational-num       16\nmarital-status         7\noccupation            15\nrelationship           6\nrace                   5\ngender                 2\ncapital-gain         123\ncapital-loss          99\nhours-per-week        96\nnative-country        42\nincome                 2\ndtype: int64"
     },
     "execution_count": 1124,
     "metadata": {},
     "output_type": "execute_result"
    }
   ],
   "source": [
    "check_unique_input_values()"
   ],
   "metadata": {
    "collapsed": false,
    "ExecuteTime": {
     "end_time": "2023-10-20T01:43:57.211507138Z",
     "start_time": "2023-10-20T01:43:56.937126679Z"
    }
   },
   "id": "90ed3453a6dd55b5"
  },
  {
   "cell_type": "markdown",
   "source": [
    "During data preparation we encounter on 'income' column. Those values seem to be cumbersome in terms of transformations, but it turns out, this column contains only the information whether the income is greater or lesser than fixed 50K. Those can be replaced by binary values - which are going to be guessed by models.\n",
    "\n",
    "We transform the data as described above and standardise them (for the second model only). A little glimpse on the result:"
   ],
   "metadata": {
    "collapsed": false
   },
   "id": "15a5797d2a75b96c"
  },
  {
   "cell_type": "code",
   "execution_count": 1125,
   "outputs": [
    {
     "data": {
      "text/plain": "   workclass  education  marital-status  occupation  relationship  race  \\\n0        4.0        1.0             4.0         7.0           3.0   2.0   \n1        4.0       11.0             2.0         5.0           0.0   4.0   \n2        2.0        7.0             2.0        11.0           0.0   4.0   \n3        4.0       15.0             2.0         7.0           0.0   2.0   \n4        0.0       15.0             4.0         0.0           3.0   4.0   \n\n   gender  native-country   age    fnlwgt  educational-num  capital-gain  \\\n0     1.0            39.0  25.0  226802.0              7.0           0.0   \n1     1.0            39.0  38.0   89814.0              9.0           0.0   \n2     1.0            39.0  28.0  336951.0             12.0           0.0   \n3     1.0            39.0  44.0  160323.0             10.0        7688.0   \n4     0.0            39.0  18.0  103497.0             10.0           0.0   \n\n   capital-loss  hours-per-week  \n0           0.0            40.0  \n1           0.0            50.0  \n2           0.0            40.0  \n3           0.0            40.0  \n4           0.0            30.0  ",
      "text/html": "<div>\n<style scoped>\n    .dataframe tbody tr th:only-of-type {\n        vertical-align: middle;\n    }\n\n    .dataframe tbody tr th {\n        vertical-align: top;\n    }\n\n    .dataframe thead th {\n        text-align: right;\n    }\n</style>\n<table border=\"1\" class=\"dataframe\">\n  <thead>\n    <tr style=\"text-align: right;\">\n      <th></th>\n      <th>workclass</th>\n      <th>education</th>\n      <th>marital-status</th>\n      <th>occupation</th>\n      <th>relationship</th>\n      <th>race</th>\n      <th>gender</th>\n      <th>native-country</th>\n      <th>age</th>\n      <th>fnlwgt</th>\n      <th>educational-num</th>\n      <th>capital-gain</th>\n      <th>capital-loss</th>\n      <th>hours-per-week</th>\n    </tr>\n  </thead>\n  <tbody>\n    <tr>\n      <th>0</th>\n      <td>4.0</td>\n      <td>1.0</td>\n      <td>4.0</td>\n      <td>7.0</td>\n      <td>3.0</td>\n      <td>2.0</td>\n      <td>1.0</td>\n      <td>39.0</td>\n      <td>25.0</td>\n      <td>226802.0</td>\n      <td>7.0</td>\n      <td>0.0</td>\n      <td>0.0</td>\n      <td>40.0</td>\n    </tr>\n    <tr>\n      <th>1</th>\n      <td>4.0</td>\n      <td>11.0</td>\n      <td>2.0</td>\n      <td>5.0</td>\n      <td>0.0</td>\n      <td>4.0</td>\n      <td>1.0</td>\n      <td>39.0</td>\n      <td>38.0</td>\n      <td>89814.0</td>\n      <td>9.0</td>\n      <td>0.0</td>\n      <td>0.0</td>\n      <td>50.0</td>\n    </tr>\n    <tr>\n      <th>2</th>\n      <td>2.0</td>\n      <td>7.0</td>\n      <td>2.0</td>\n      <td>11.0</td>\n      <td>0.0</td>\n      <td>4.0</td>\n      <td>1.0</td>\n      <td>39.0</td>\n      <td>28.0</td>\n      <td>336951.0</td>\n      <td>12.0</td>\n      <td>0.0</td>\n      <td>0.0</td>\n      <td>40.0</td>\n    </tr>\n    <tr>\n      <th>3</th>\n      <td>4.0</td>\n      <td>15.0</td>\n      <td>2.0</td>\n      <td>7.0</td>\n      <td>0.0</td>\n      <td>2.0</td>\n      <td>1.0</td>\n      <td>39.0</td>\n      <td>44.0</td>\n      <td>160323.0</td>\n      <td>10.0</td>\n      <td>7688.0</td>\n      <td>0.0</td>\n      <td>40.0</td>\n    </tr>\n    <tr>\n      <th>4</th>\n      <td>0.0</td>\n      <td>15.0</td>\n      <td>4.0</td>\n      <td>0.0</td>\n      <td>3.0</td>\n      <td>4.0</td>\n      <td>0.0</td>\n      <td>39.0</td>\n      <td>18.0</td>\n      <td>103497.0</td>\n      <td>10.0</td>\n      <td>0.0</td>\n      <td>0.0</td>\n      <td>30.0</td>\n    </tr>\n  </tbody>\n</table>\n</div>"
     },
     "execution_count": 1125,
     "metadata": {},
     "output_type": "execute_result"
    }
   ],
   "source": [
    "X1.head()"
   ],
   "metadata": {
    "collapsed": false,
    "ExecuteTime": {
     "end_time": "2023-10-20T01:43:57.223860376Z",
     "start_time": "2023-10-20T01:43:56.963098644Z"
    }
   },
   "id": "9edd5232aa41a77d"
  },
  {
   "cell_type": "code",
   "execution_count": 1126,
   "outputs": [
    {
     "data": {
      "text/plain": "   workclass  education  marital-status  occupation  relationship      race  \\\n0   0.088484  -2.397350        0.916138    0.099824      0.971649 -1.971746   \n1   0.088484   0.183660       -0.410397   -0.372938     -0.900852  0.392384   \n2  -1.277432  -0.848744       -0.410397    1.045346     -0.900852  0.392384   \n3   0.088484   1.216063       -0.410397    0.099824     -0.900852 -1.971746   \n4  -2.643348   1.216063        0.916138   -1.554840      0.971649  0.392384   \n\n    gender  native-country       age    fnlwgt  educational-num  capital-gain  \\\n0  0.70422        0.289462 -0.995129  0.351675        -1.197259     -0.144804   \n1  0.70422        0.289462 -0.046942 -0.945524        -0.419335     -0.144804   \n2  0.70422        0.289462 -0.776316  1.394723         0.747550     -0.144804   \n3  0.70422        0.289462  0.390683 -0.277844        -0.030373      0.886874   \n4 -1.42001        0.289462 -1.505691 -0.815954        -0.030373     -0.144804   \n\n   capital-loss  hours-per-week  \n0     -0.217127       -0.034087  \n1     -0.217127        0.772930  \n2     -0.217127       -0.034087  \n3     -0.217127       -0.034087  \n4     -0.217127       -0.841104  ",
      "text/html": "<div>\n<style scoped>\n    .dataframe tbody tr th:only-of-type {\n        vertical-align: middle;\n    }\n\n    .dataframe tbody tr th {\n        vertical-align: top;\n    }\n\n    .dataframe thead th {\n        text-align: right;\n    }\n</style>\n<table border=\"1\" class=\"dataframe\">\n  <thead>\n    <tr style=\"text-align: right;\">\n      <th></th>\n      <th>workclass</th>\n      <th>education</th>\n      <th>marital-status</th>\n      <th>occupation</th>\n      <th>relationship</th>\n      <th>race</th>\n      <th>gender</th>\n      <th>native-country</th>\n      <th>age</th>\n      <th>fnlwgt</th>\n      <th>educational-num</th>\n      <th>capital-gain</th>\n      <th>capital-loss</th>\n      <th>hours-per-week</th>\n    </tr>\n  </thead>\n  <tbody>\n    <tr>\n      <th>0</th>\n      <td>0.088484</td>\n      <td>-2.397350</td>\n      <td>0.916138</td>\n      <td>0.099824</td>\n      <td>0.971649</td>\n      <td>-1.971746</td>\n      <td>0.70422</td>\n      <td>0.289462</td>\n      <td>-0.995129</td>\n      <td>0.351675</td>\n      <td>-1.197259</td>\n      <td>-0.144804</td>\n      <td>-0.217127</td>\n      <td>-0.034087</td>\n    </tr>\n    <tr>\n      <th>1</th>\n      <td>0.088484</td>\n      <td>0.183660</td>\n      <td>-0.410397</td>\n      <td>-0.372938</td>\n      <td>-0.900852</td>\n      <td>0.392384</td>\n      <td>0.70422</td>\n      <td>0.289462</td>\n      <td>-0.046942</td>\n      <td>-0.945524</td>\n      <td>-0.419335</td>\n      <td>-0.144804</td>\n      <td>-0.217127</td>\n      <td>0.772930</td>\n    </tr>\n    <tr>\n      <th>2</th>\n      <td>-1.277432</td>\n      <td>-0.848744</td>\n      <td>-0.410397</td>\n      <td>1.045346</td>\n      <td>-0.900852</td>\n      <td>0.392384</td>\n      <td>0.70422</td>\n      <td>0.289462</td>\n      <td>-0.776316</td>\n      <td>1.394723</td>\n      <td>0.747550</td>\n      <td>-0.144804</td>\n      <td>-0.217127</td>\n      <td>-0.034087</td>\n    </tr>\n    <tr>\n      <th>3</th>\n      <td>0.088484</td>\n      <td>1.216063</td>\n      <td>-0.410397</td>\n      <td>0.099824</td>\n      <td>-0.900852</td>\n      <td>-1.971746</td>\n      <td>0.70422</td>\n      <td>0.289462</td>\n      <td>0.390683</td>\n      <td>-0.277844</td>\n      <td>-0.030373</td>\n      <td>0.886874</td>\n      <td>-0.217127</td>\n      <td>-0.034087</td>\n    </tr>\n    <tr>\n      <th>4</th>\n      <td>-2.643348</td>\n      <td>1.216063</td>\n      <td>0.916138</td>\n      <td>-1.554840</td>\n      <td>0.971649</td>\n      <td>0.392384</td>\n      <td>-1.42001</td>\n      <td>0.289462</td>\n      <td>-1.505691</td>\n      <td>-0.815954</td>\n      <td>-0.030373</td>\n      <td>-0.144804</td>\n      <td>-0.217127</td>\n      <td>-0.841104</td>\n    </tr>\n  </tbody>\n</table>\n</div>"
     },
     "execution_count": 1126,
     "metadata": {},
     "output_type": "execute_result"
    }
   ],
   "source": [
    "X2.head()"
   ],
   "metadata": {
    "collapsed": false,
    "ExecuteTime": {
     "end_time": "2023-10-20T01:43:57.226101149Z",
     "start_time": "2023-10-20T01:43:56.971953481Z"
    }
   },
   "id": "3db285c33a7714f9"
  },
  {
   "cell_type": "markdown",
   "source": [
    "At the very end of preparations, we divide our prepared data onto train and test sets (train/test split technique) and then we train two linear regression models."
   ],
   "metadata": {
    "collapsed": false
   },
   "id": "f5469fcbdf8e2ca8"
  },
  {
   "cell_type": "markdown",
   "source": [
    "### 2.2. and 2.3. For the selected protected attribute (age, gender, race) calculate the following fairness coefficients: Statistical parity, Equal opportunity, Predictive parity.\n",
    "\n",
    "First, we compute classification matrices (consisting of TP, TN, FN, FP) for each value of protected attribute (I chose gender). It will allow us to compute fairness metrics as in the task 1"
   ],
   "metadata": {
    "collapsed": false
   },
   "id": "36d509f122d27b4a"
  },
  {
   "cell_type": "code",
   "execution_count": 1127,
   "outputs": [],
   "source": [
    "cm1 = calculate_classification_matrix(X1_test, y1_test, model1_pred, \"gender\")\n",
    "cm2 = calculate_classification_matrix(X2_test, y2_test, model2_pred, \"gender\")"
   ],
   "metadata": {
    "collapsed": false,
    "ExecuteTime": {
     "end_time": "2023-10-20T01:43:57.237154558Z",
     "start_time": "2023-10-20T01:43:56.984882953Z"
    }
   },
   "id": "742a80252058654"
  },
  {
   "cell_type": "markdown",
   "source": [
    "##### 2.2.1 Statistical Parity (Demographic Parity):"
   ],
   "metadata": {
    "collapsed": false
   },
   "id": "dc45d787bbdbd2bf"
  },
  {
   "cell_type": "code",
   "execution_count": 1128,
   "outputs": [
    {
     "name": "stdout",
     "output_type": "stream",
     "text": [
      "Demographic parity:\n",
      "\tModel 1 - Male: 0.1\n",
      "\tModel 1 - Female: 0.21\n",
      "\tratio: 0.48\n"
     ]
    }
   ],
   "source": [
    "show_demographic_parity(\"Model 1 - Male\", \"Model 1 - Female\", cm1[0], cm1[1])"
   ],
   "metadata": {
    "collapsed": false,
    "ExecuteTime": {
     "end_time": "2023-10-20T01:43:57.237412002Z",
     "start_time": "2023-10-20T01:43:56.999082550Z"
    }
   },
   "id": "7fbb93c61fb7daf"
  },
  {
   "cell_type": "code",
   "execution_count": 1129,
   "outputs": [
    {
     "name": "stdout",
     "output_type": "stream",
     "text": [
      "Demographic parity:\n",
      "\tModel 2 - Male: 0.21\n",
      "\tModel 2 - Female: 0.1\n",
      "\tratio: 2.1\n"
     ]
    }
   ],
   "source": [
    "show_demographic_parity(\"Model 2 - Male\", \"Model 2 - Female\", cm2[0], cm2[1])"
   ],
   "metadata": {
    "collapsed": false,
    "ExecuteTime": {
     "end_time": "2023-10-20T01:43:57.247243174Z",
     "start_time": "2023-10-20T01:43:56.999242124Z"
    }
   },
   "id": "25d1e58843848b74"
  },
  {
   "cell_type": "markdown",
   "source": [
    "##### 2.2.2 Equal Opportunity:"
   ],
   "metadata": {
    "collapsed": false
   },
   "id": "156dc1a07976771d"
  },
  {
   "cell_type": "code",
   "execution_count": 1130,
   "outputs": [
    {
     "name": "stdout",
     "output_type": "stream",
     "text": [
      "Equal opportunity:\n",
      "\tModel 1 - Male: 0.67\n",
      "\tModel 1 - Female: 0.73\n",
      "\tratio: 0.92\n"
     ]
    }
   ],
   "source": [
    "show_equal_opportunity(\"Model 1 - Male\", \"Model 1 - Female\", cm1[0], cm1[1])"
   ],
   "metadata": {
    "collapsed": false,
    "ExecuteTime": {
     "end_time": "2023-10-20T01:43:57.247603372Z",
     "start_time": "2023-10-20T01:43:57.006395263Z"
    }
   },
   "id": "14332ff91d556408"
  },
  {
   "cell_type": "code",
   "execution_count": 1131,
   "outputs": [
    {
     "name": "stdout",
     "output_type": "stream",
     "text": [
      "Equal opportunity:\n",
      "\tModel 2 - Male: 0.71\n",
      "\tModel 2 - Female: 0.66\n",
      "\tratio: 1.08\n"
     ]
    }
   ],
   "source": [
    "show_equal_opportunity(\"Model 2 - Male\", \"Model 2 - Female\", cm2[0], cm2[1])"
   ],
   "metadata": {
    "collapsed": false,
    "ExecuteTime": {
     "end_time": "2023-10-20T01:43:57.255338680Z",
     "start_time": "2023-10-20T01:43:57.006629782Z"
    }
   },
   "id": "dc19082b5b0475b7"
  },
  {
   "cell_type": "markdown",
   "source": [
    "##### 2.2.3 Predictive Rate Parity"
   ],
   "metadata": {
    "collapsed": false
   },
   "id": "dfc57134c1c1baea"
  },
  {
   "cell_type": "code",
   "execution_count": 1132,
   "outputs": [
    {
     "name": "stdout",
     "output_type": "stream",
     "text": [
      "Positive Predictive Parity:\n",
      "\tModel 1 - Male: 0.02\n",
      "\tModel 1 - Female: 0.18\n",
      "\tratio: 0.11\n",
      "Negative Predictive Parity:\n",
      "\tModel 1 - Male: 0.89\n",
      "\tModel 1 - Female: 0.74\n",
      "\tratio: 1.2\n"
     ]
    }
   ],
   "source": [
    "show_predictive_rate_parity(\"Model 1 - Male\", \"Model 1 - Female\", cm1[0], cm1[1])"
   ],
   "metadata": {
    "collapsed": false,
    "ExecuteTime": {
     "end_time": "2023-10-20T01:43:57.255488660Z",
     "start_time": "2023-10-20T01:43:57.052070988Z"
    }
   },
   "id": "d6f50f0f6cb70703"
  },
  {
   "cell_type": "code",
   "execution_count": 1133,
   "outputs": [
    {
     "name": "stdout",
     "output_type": "stream",
     "text": [
      "Positive Predictive Parity:\n",
      "\tModel 2 - Male: 0.19\n",
      "\tModel 2 - Female: 0.03\n",
      "\tratio: 6.33\n",
      "Negative Predictive Parity:\n",
      "\tModel 2 - Male: 0.71\n",
      "\tModel 2 - Female: 0.88\n",
      "\tratio: 0.81\n"
     ]
    }
   ],
   "source": [
    "show_predictive_rate_parity(\"Model 2 - Male\", \"Model 2 - Female\", cm2[0], cm2[1])"
   ],
   "metadata": {
    "collapsed": false,
    "ExecuteTime": {
     "end_time": "2023-10-20T01:43:57.255556134Z",
     "start_time": "2023-10-20T01:43:57.052234972Z"
    }
   },
   "id": "56e02858207c2b4c"
  },
  {
   "cell_type": "markdown",
   "source": [
    "It turns out that our basic models are not fair at all regarding gender attribute. Only equal opportunity ratio suffices within acceptable range, but the rest of metrics show lack of fairness."
   ],
   "metadata": {
    "collapsed": false
   },
   "id": "3e6f379729343d8"
  },
  {
   "cell_type": "markdown",
   "source": [
    "### 2.4. Apply the selected bias mitigation technique on the first model. Check how Statistical parity, Equal opportunity, Predictive parity coefficients behave after this correction.\n",
    "\n",
    "I enhanced my second model by training it on weighted samples in the training dataset. This technique may have splendid effects on unbalanced data (like ours)."
   ],
   "metadata": {
    "collapsed": false
   },
   "id": "395d9a5ddef85bd0"
  },
  {
   "cell_type": "code",
   "execution_count": 1134,
   "outputs": [
    {
     "name": "stdout",
     "output_type": "stream",
     "text": [
      "Demographic parity:\n",
      "\tModel 3 - Male: 0.28\n",
      "\tModel 3 - Female: 0.14\n",
      "\tratio: 2.0\n"
     ]
    }
   ],
   "source": [
    "show_demographic_parity(\"Model 3 - Male\", \"Model 3 - Female\", cm3[0], cm3[1])"
   ],
   "metadata": {
    "collapsed": false,
    "ExecuteTime": {
     "end_time": "2023-10-20T01:43:57.255616880Z",
     "start_time": "2023-10-20T01:43:57.052355553Z"
    }
   },
   "id": "b364d41478c9770"
  },
  {
   "cell_type": "code",
   "execution_count": 1135,
   "outputs": [
    {
     "name": "stdout",
     "output_type": "stream",
     "text": [
      "Equal opportunity:\n",
      "\tModel 3 - Male: 0.52\n",
      "\tModel 3 - Female: 0.39\n",
      "\tratio: 1.33\n"
     ]
    }
   ],
   "source": [
    "show_equal_opportunity(\"Model 3 - Male\", \"Model 3 - Female\", cm3[0], cm3[1])"
   ],
   "metadata": {
    "collapsed": false,
    "ExecuteTime": {
     "end_time": "2023-10-20T01:43:57.255677497Z",
     "start_time": "2023-10-20T01:43:57.052472722Z"
    }
   },
   "id": "e9f05b56c303994d"
  },
  {
   "cell_type": "code",
   "execution_count": 1136,
   "outputs": [
    {
     "name": "stdout",
     "output_type": "stream",
     "text": [
      "Positive Predictive Parity:\n",
      "\tModel 3 - Male: 0.34\n",
      "\tModel 3 - Female: 0.06\n",
      "\tratio: 5.67\n",
      "Negative Predictive Parity:\n",
      "\tModel 3 - Male: 0.19\n",
      "\tModel 3 - Female: 0.44\n",
      "\tratio: 0.43\n"
     ]
    }
   ],
   "source": [
    "show_predictive_rate_parity(\"Model 3 - Male\", \"Model 3 - Female\", cm3[0], cm3[1])"
   ],
   "metadata": {
    "collapsed": false,
    "ExecuteTime": {
     "end_time": "2023-10-20T01:43:57.255749120Z",
     "start_time": "2023-10-20T01:43:57.052631744Z"
    }
   },
   "id": "478007c2850d8108"
  },
  {
   "cell_type": "markdown",
   "source": [
    "### 2.5. Compare performance\n",
    "Finally, we compare performance of those models:"
   ],
   "metadata": {
    "collapsed": false
   },
   "id": "9f2a30f38cfaf4fb"
  },
  {
   "cell_type": "code",
   "execution_count": 1137,
   "outputs": [
    {
     "name": "stdout",
     "output_type": "stream",
     "text": [
      "Model 1:\n",
      "\taccuracy= 0.8285767464946023\n",
      "\trecall = 0.43582958454617626\n",
      "\tprecision = 0.7230026338893767\n"
     ]
    }
   ],
   "source": [
    "display_results(model1_pred, y1_test, \"Model 1\")"
   ],
   "metadata": {
    "collapsed": false,
    "ExecuteTime": {
     "end_time": "2023-10-20T01:43:57.258304394Z",
     "start_time": "2023-10-20T01:43:57.052767786Z"
    }
   },
   "id": "e3290915316ab7bd"
  },
  {
   "cell_type": "code",
   "execution_count": 1138,
   "outputs": [
    {
     "name": "stdout",
     "output_type": "stream",
     "text": [
      "Model 2:\n",
      "\taccuracy= 0.8280804069983869\n",
      "\trecall = 0.45250066155067475\n",
      "\tprecision = 0.7089552238805971\n"
     ]
    }
   ],
   "source": [
    "display_results(model2_pred, y2_test, \"Model 2\")"
   ],
   "metadata": {
    "collapsed": false,
    "ExecuteTime": {
     "end_time": "2023-10-20T01:43:57.258487603Z",
     "start_time": "2023-10-20T01:43:57.100025956Z"
    }
   },
   "id": "cd6fc7fb14431776"
  },
  {
   "cell_type": "code",
   "execution_count": 1139,
   "outputs": [
    {
     "name": "stdout",
     "output_type": "stream",
     "text": [
      "Model 3:\n",
      "\taccuracy= 0.7685196674525375\n",
      "\trecall = 0.7607832759989415\n",
      "\tprecision = 0.5042090494563312\n"
     ]
    }
   ],
   "source": [
    "display_results(model3_pred, y3_test, \"Model 3\")"
   ],
   "metadata": {
    "collapsed": false,
    "ExecuteTime": {
     "end_time": "2023-10-20T01:43:57.258572441Z",
     "start_time": "2023-10-20T01:43:57.100162521Z"
    }
   },
   "id": "f03185fe77b93829"
  },
  {
   "cell_type": "markdown",
   "source": [
    "# Appendix"
   ],
   "metadata": {
    "collapsed": false
   },
   "id": "b98d70a1b70ab567"
  },
  {
   "cell_type": "markdown",
   "source": [
    "### 0. Necessary libraries"
   ],
   "metadata": {
    "collapsed": false
   },
   "id": "ae6122057080d4a4"
  },
  {
   "cell_type": "code",
   "execution_count": 1140,
   "outputs": [],
   "source": [
    "import numpy as np\n",
    "import pandas as pd\n",
    "from matplotlib import pyplot as plt\n",
    "from IPython.display import display, Math\n",
    "from math import ceil\n",
    "from sklearn.model_selection import train_test_split\n",
    "from sklearn.preprocessing import OrdinalEncoder\n",
    "from sklearn.preprocessing import StandardScaler\n",
    "from sklearn.linear_model import LogisticRegression\n",
    "from sklearn.metrics import accuracy_score, recall_score, precision_score"
   ],
   "metadata": {
    "collapsed": false,
    "ExecuteTime": {
     "end_time": "2023-10-20T01:43:57.258605196Z",
     "start_time": "2023-10-20T01:43:57.100250272Z"
    }
   },
   "id": "de60577c243a771e"
  },
  {
   "cell_type": "markdown",
   "source": [
    "### 1. Code for task 1"
   ],
   "metadata": {
    "collapsed": false
   },
   "id": "c247780f533f90f2"
  },
  {
   "cell_type": "code",
   "execution_count": 1141,
   "outputs": [],
   "source": [
    "task1_blue_results = np.array([\n",
    "    [60, 5],  \n",
    "    [20, 15]\n",
    "], dtype=int)\n",
    "task1_red_results = np.array([\n",
    "    [0.25, 0.25],\n",
    "    [0.25, 0.25]\n",
    "], dtype=float)\n",
    "\n",
    "def task1_display_results(data: np.ndarray, group: str):\n",
    "    return np.array([\n",
    "        [group, \"Will use XAI\", \"Will not use XAI\", \"Total\"],\n",
    "        [\"Enrolled in training\", data[0,0], data[0,1], np.sum(data, axis=1)[0]],\n",
    "        [\"not enrolled in training\", data[1,0], data[1,1], np.sum(data, axis=1)[1]],\n",
    "        [\"Total\", np.sum(data, axis=0)[0], np.sum(data, axis=0)[1], np.sum(data)]\n",
    "    ])\n",
    "\n",
    "def _calculate_true_positive_rate(data: np.ndarray) -> float:\n",
    "    return round(data[0,0] / np.sum(data, axis=0)[0], 2) # TPR=TP/(TP+FN)\n",
    "\n",
    "def _calculate_demographic_parity(data: np.ndarray) -> float:\n",
    "     return round(np.sum(data, axis=1)[1] / np.sum(data), 2) # P=TP+FP\n",
    "\n",
    "def _calculate_positive_predictive_parity(data: np.ndarray) -> float:\n",
    "    return round(data[0,0] / np.sum(data, axis=1)[0], 2) # PPV=TP/(TP+FP)\n",
    "    \n",
    "def _calculate_negative_predictive_parity(data: np.ndarray) -> float:\n",
    "    return round(data[1,1] / np.sum(data, axis=1)[1], 2) # NPV=TN/(TN+FN)\n",
    "    \n",
    "def show_demographic_parity(first_group_name, second_group_name, data1=task1_blue_results, data2=task1_red_results):\n",
    "    print(\"Demographic parity:\")\n",
    "    print(f\"\\t{first_group_name}: {_calculate_demographic_parity(data1)}\")\n",
    "    print(f\"\\t{second_group_name}: {_calculate_demographic_parity(data2)}\")\n",
    "    print(f\"\\tratio: {round(_calculate_demographic_parity(data1) / _calculate_demographic_parity(data2), 2)}\")\n",
    "    \n",
    "def show_equal_opportunity(first_group_name, second_group_name, data1=task1_blue_results, data2=task1_red_results):\n",
    "    print(\"Equal opportunity:\")\n",
    "    print(f\"\\t{first_group_name}: {_calculate_true_positive_rate(data1)}\")\n",
    "    print(f\"\\t{second_group_name}: {_calculate_true_positive_rate(data2)}\")\n",
    "    print(f\"\\tratio: {round(_calculate_true_positive_rate(data1) / _calculate_true_positive_rate(data2), 2)}\")\n",
    "    \n",
    "def show_predictive_rate_parity(first_group_name, second_group_name, data1=task1_blue_results, data2=task1_red_results):    \n",
    "    print(\"Positive Predictive Parity:\")\n",
    "    print(f\"\\t{first_group_name}: {_calculate_positive_predictive_parity(data1)}\")\n",
    "    print(f\"\\t{second_group_name}: {_calculate_positive_predictive_parity(data2)}\")\n",
    "    print(f\"\\tratio: {round(_calculate_positive_predictive_parity(data1) / _calculate_positive_predictive_parity(data2), 2)}\")\n",
    "    print(\"Negative Predictive Parity:\")\n",
    "    print(f\"\\t{first_group_name}: {_calculate_negative_predictive_parity(data1)}\")\n",
    "    print(f\"\\t{second_group_name}: {_calculate_negative_predictive_parity(data2)}\")\n",
    "    print(f\"\\tratio: {round(_calculate_negative_predictive_parity(data1) / _calculate_negative_predictive_parity(data2), 2)}\")\n",
    "    "
   ],
   "metadata": {
    "collapsed": false,
    "ExecuteTime": {
     "end_time": "2023-10-20T01:43:57.258633503Z",
     "start_time": "2023-10-20T01:43:57.100352332Z"
    }
   },
   "id": "f863428672f3b016"
  },
  {
   "cell_type": "markdown",
   "source": [
    "### 2. Code for task 2"
   ],
   "metadata": {
    "collapsed": false
   },
   "id": "920ff3dd0a40e161"
  },
  {
   "cell_type": "markdown",
   "source": [
    "### 2.1. Data preparation + basic models training"
   ],
   "metadata": {
    "collapsed": false
   },
   "id": "4093ec30397b9f2b"
  },
  {
   "cell_type": "code",
   "execution_count": 1142,
   "outputs": [],
   "source": [
    "def check_unique_input_values():\n",
    "    return df.nunique(axis=0)\n",
    "\n",
    "def transform_data_into_numerical_values(data):\n",
    "    encoder = OrdinalEncoder()\n",
    "    columns_to_fit = data[[\"workclass\", \"education\", \"marital-status\", \"occupation\", \"relationship\", \"race\", \"gender\", \"native-country\",\"income\"]]\n",
    "    numerical_columns = data[[\"age\", \"fnlwgt\", \"educational-num\", \"capital-gain\", \"capital-loss\", \"hours-per-week\"]]\n",
    "    transformed_data = encoder.fit_transform(columns_to_fit.to_numpy())\n",
    "    result_y = transformed_data[:, [-1]]\n",
    "    transformed_data = np.delete(transformed_data, -1, axis=1)\n",
    "    result_x = np.concatenate((transformed_data, numerical_columns), axis=1)\n",
    "    result_x_df = pd.DataFrame(result_x, columns = [\"workclass\", \"education\", \"marital-status\", \"occupation\", \"relationship\", \"race\", \"gender\", \"native-country\", \"age\", \"fnlwgt\", \"educational-num\", \"capital-gain\", \"capital-loss\", \"hours-per-week\"])\n",
    "    return result_x_df, np.ravel(result_y)\n",
    "\n",
    "\n",
    "def standardise_data(data):\n",
    "    scaler = StandardScaler()\n",
    "    result = scaler.fit_transform(data.to_numpy())\n",
    "    return pd.DataFrame(result, columns = [\"workclass\", \"education\", \"marital-status\", \"occupation\", \"relationship\", \"race\", \"gender\", \"native-country\", \"age\", \"fnlwgt\", \"educational-num\", \"capital-gain\", \"capital-loss\", \"hours-per-week\"])\n",
    "    \n",
    "df = pd.read_csv(\"data/adult.csv\")\n",
    "\n",
    "X1, y = transform_data_into_numerical_values(df)\n",
    "X2 = standardise_data(X1)\n",
    "\n",
    "X1_train, X1_test, y1_train, y1_test = train_test_split(X1, y, test_size=0.33, random_state=22)\n",
    "X2_train, X2_test, y2_train, y2_test = train_test_split(X2, y, test_size=0.33, random_state=22)\n",
    "\n",
    "model1 = LogisticRegression(max_iter=1000, random_state=22, penalty=\"l1\", solver=\"liblinear\")\n",
    "model2 = LogisticRegression(max_iter=10000, random_state=22, penalty=\"l2\")\n",
    "model1.fit(X1_train, y1_train)\n",
    "model2.fit(X2_train, y2_train)\n",
    "model1_pred = model1.predict(X1_test)\n",
    "model2_pred = model2.predict(X2_test)"
   ],
   "metadata": {
    "collapsed": false,
    "ExecuteTime": {
     "end_time": "2023-10-20T01:43:57.572876723Z",
     "start_time": "2023-10-20T01:43:57.100481302Z"
    }
   },
   "id": "bbb244ab436a21c2"
  },
  {
   "cell_type": "markdown",
   "source": [
    "### 2.2. Fairness evaluation for basic models\n",
    "\n",
    "Fairness metrics are calculated using functions defined above. Here we construct the classification_matrix"
   ],
   "metadata": {
    "collapsed": false
   },
   "id": "c285cf83152ba4f9"
  },
  {
   "cell_type": "code",
   "execution_count": 1143,
   "outputs": [],
   "source": [
    "def calculate_classification_matrix(X_test, y_test, y_pred, protected_attribute):\n",
    "    data = X_test.astype(int)\n",
    "    data[\"income\"] = y_test.astype(int)\n",
    "    data[\"prediction\"] = y_pred.astype(int)\n",
    "    attribute_values = data[protected_attribute].unique()\n",
    "    groups_result = [0 for _ in range(0, attribute_values.shape[0])]\n",
    "    for attribute_value in attribute_values:\n",
    "        group_data = data[data[protected_attribute].values == attribute_value]\n",
    "        P = group_data[group_data[\"prediction\"] == 1.]\n",
    "        N = group_data[group_data[\"prediction\"] == 0.]\n",
    "        groups_result[int(attribute_value)] = np.array([\n",
    "            [\n",
    "                P[P[\"income\"] == P[\"prediction\"]].shape[0], \n",
    "                N[N[\"income\"] == N[\"prediction\"]].shape[0]\n",
    "            ],[\n",
    "                P[P[\"income\"] != P[\"prediction\"]].shape[0],\n",
    "                N[N[\"income\"] != N[\"prediction\"]].shape[0]\n",
    "            ]\n",
    "        ])\n",
    "    return groups_result"
   ],
   "metadata": {
    "collapsed": false,
    "ExecuteTime": {
     "end_time": "2023-10-20T01:43:57.573010149Z",
     "start_time": "2023-10-20T01:43:57.366985692Z"
    }
   },
   "id": "38ba2addce28c4d4"
  },
  {
   "cell_type": "markdown",
   "source": [
    "### 2.4. Model witch weights"
   ],
   "metadata": {
    "collapsed": false
   },
   "id": "1acc94b990945791"
  },
  {
   "cell_type": "code",
   "execution_count": 1144,
   "outputs": [],
   "source": [
    "X3_train, X3_test, y3_train, y3_test = train_test_split(X2, y, test_size=0.33, random_state=22)\n",
    "model3 = LogisticRegression(max_iter=10000, class_weight=\"balanced\", random_state=22, penalty=\"l2\")\n",
    "model3.fit(X3_train, y3_train)\n",
    "model3_pred = model3.predict(X3_test)\n",
    "cm3 = calculate_classification_matrix(X3_test, y3_test, model3_pred, \"gender\")"
   ],
   "metadata": {
    "collapsed": false,
    "ExecuteTime": {
     "end_time": "2023-10-20T01:43:57.583484466Z",
     "start_time": "2023-10-20T01:43:57.370174669Z"
    }
   },
   "id": "84fd728115dfdcc3"
  },
  {
   "cell_type": "markdown",
   "source": [
    "### 2.5. Performance"
   ],
   "metadata": {
    "collapsed": false
   },
   "id": "9f752e5934e633bf"
  },
  {
   "cell_type": "code",
   "execution_count": 1145,
   "outputs": [],
   "source": [
    "def display_results(y_pred, y_test, name):\n",
    "    score = {\n",
    "        \"accuracy\": accuracy_score(y_test, y_pred),\n",
    "        \"recall\": recall_score(y_test, y_pred),\n",
    "        \"precision\": precision_score(y_test, y_pred)\n",
    "    }\n",
    "    print(f\"{name}:\\n\\taccuracy= {score['accuracy']}\\n\\trecall = {score['recall']}\\n\\tprecision = {score['precision']}\")"
   ],
   "metadata": {
    "collapsed": false,
    "ExecuteTime": {
     "end_time": "2023-10-20T01:43:57.598476623Z",
     "start_time": "2023-10-20T01:43:57.473575324Z"
    }
   },
   "id": "23ba4705dfb6fd08"
  },
  {
   "cell_type": "code",
   "execution_count": 1145,
   "outputs": [],
   "source": [],
   "metadata": {
    "collapsed": false,
    "ExecuteTime": {
     "end_time": "2023-10-20T01:43:57.598633676Z",
     "start_time": "2023-10-20T01:43:57.476868692Z"
    }
   },
   "id": "27437f1aa89a4b49"
  }
 ],
 "metadata": {
  "kernelspec": {
   "display_name": "Python 3",
   "language": "python",
   "name": "python3"
  },
  "language_info": {
   "codemirror_mode": {
    "name": "ipython",
    "version": 2
   },
   "file_extension": ".py",
   "mimetype": "text/x-python",
   "name": "python",
   "nbconvert_exporter": "python",
   "pygments_lexer": "ipython2",
   "version": "2.7.6"
  }
 },
 "nbformat": 4,
 "nbformat_minor": 5
}
