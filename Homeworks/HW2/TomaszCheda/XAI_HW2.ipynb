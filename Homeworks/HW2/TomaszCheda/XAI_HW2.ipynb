{
  "nbformat": 4,
  "nbformat_minor": 0,
  "metadata": {
    "colab": {
      "provenance": []
    },
    "kernelspec": {
      "name": "python3",
      "display_name": "Python 3"
    },
    "language_info": {
      "name": "python"
    }
  },
  "cells": [
    {
      "cell_type": "markdown",
      "source": [
        "# Task 1"
      ],
      "metadata": {
        "id": "jP_VNe-tpdq-"
      }
    },
    {
      "cell_type": "markdown",
      "source": [
        "## Data"
      ],
      "metadata": {
        "id": "50aU5oKNrj1D"
      }
    },
    {
      "cell_type": "markdown",
      "source": [
        "<!-- For ease of calculation and without loss of generality, let's set the Blue population at 900 and Red at 100 -->"
      ],
      "metadata": {
        "id": "cdtjYutxp4fM"
      }
    },
    {
      "cell_type": "markdown",
      "source": [
        "*Will (not) use XAI* correspond to the true class\n",
        "\n",
        "*(not) enrolled* corresponds to the predicted class"
      ],
      "metadata": {
        "id": "dW0fozSysPfs"
      }
    },
    {
      "cell_type": "markdown",
      "source": [
        "Blue is the privileged class\n",
        "\n",
        "The preferred $Y=1$ true class is \"Will use XAI\"\n",
        "\n",
        "The preferred $\\hat{Y}=1$ predicted class is \"enrolled\""
      ],
      "metadata": {
        "id": "_X5K71eSr5Qk"
      }
    },
    {
      "cell_type": "markdown",
      "source": [
        "<!-- | Blue  | Will use XAI  | Will not use XAI  | Total  |\n",
        "|---|---|---|---|\n",
        "|  Enrolled | 540 |45  | 585 |\n",
        "| Not enrolled  | 180 | 135 | 315 |\n",
        "|Total   | 720 | 180 | 900 | -->\n",
        "| Blue  | Will use XAI  | Will not use XAI  | Total  |\n",
        "|---|---|---|---|\n",
        "|  Enrolled | 60 |5  | 65 |\n",
        "| Not enrolled  | 20 | 15 | 35 |\n",
        "|Total   | 80 | 20 | 100 |"
      ],
      "metadata": {
        "id": "cqbVSRwSqpYE"
      }
    },
    {
      "cell_type": "markdown",
      "source": [
        "| Red  | Will use XAI  | Will not use XAI  | Total  |\n",
        "|---|---|---|---|\n",
        "|  Enrolled | 25 | 25 | 50 |\n",
        "| Not enrolled  | 25 | 25 | 50 |\n",
        "|Total   | 50 | 50 | 100 |"
      ],
      "metadata": {
        "id": "1QDwAnaeq52p"
      }
    },
    {
      "cell_type": "markdown",
      "source": [
        "## Demographic parity"
      ],
      "metadata": {
        "id": "s5iDRLttrdCj"
      }
    },
    {
      "cell_type": "markdown",
      "source": [
        "Definition:    $ P(\\hat{Y} = 1 | A = a) = P(\\hat{Y} = 1 | A = b) $\n",
        "\n",
        "Applied definition: $ P(\\hat{Y} = enrolled | A = red) = P(\\hat{Y} = enrolled | A = blue) $\n",
        "\n",
        "Interpretation: Demographic parity is satisfied if the probability of getting enrolled is equal in both groups."
      ],
      "metadata": {
        "id": "kDNQitdZs8X1"
      }
    },
    {
      "cell_type": "markdown",
      "source": [
        "$P(\\hat{Y}=enrolled |A=blue) = 65/100 = 0.65$"
      ],
      "metadata": {
        "id": "hF8gzROduFSR"
      }
    },
    {
      "cell_type": "markdown",
      "source": [
        "$ P(\\hat{Y}=enrolled|A=red) = 50/100 = 0.5 $"
      ],
      "metadata": {
        "id": "1I_BQFZ3umlu"
      }
    },
    {
      "cell_type": "markdown",
      "source": [
        "$ \\frac{P(\\hat{Y}=enrolled |A=blue)}{P(\\hat{Y}=enrolled|A=red)} = 0.65/0.5 = 1.3 > 1.25$"
      ],
      "metadata": {
        "id": "CsSVADaavPVN"
      }
    },
    {
      "cell_type": "markdown",
      "source": [
        "The predicted class is not independent from the protected attribute. Blue is privileged (more likely to get enrolled). The four-fifths rule is not satisfied."
      ],
      "metadata": {
        "id": "3tHhiVnvvjco"
      }
    },
    {
      "cell_type": "markdown",
      "source": [
        "## Equal opportunity"
      ],
      "metadata": {
        "id": "1xv8r_n2v4Ft"
      }
    },
    {
      "cell_type": "markdown",
      "source": [
        "Definition:   $P(\\hat{Y}=1|A=a,Y=1)=P(\\hat{Y}=1|A=b,Y=1)$\n",
        "\n",
        "Applied definition: $P(\\hat{Y}=enrolled|A=blue,Y=will\\_use)=P(\\hat{Y}=enrolled|A=red,Y=will\\_use)$\n",
        "\n",
        "Interpretation: Equal opportunity is satisfied if the probability of getting enrolled is equal in both groups for those who will use XAI"
      ],
      "metadata": {
        "id": "PoYypZokv7cx"
      }
    },
    {
      "cell_type": "markdown",
      "source": [
        "$P(\\hat{Y}=enrolled|A=blue,Y=will\\_use) = 60/80 = 0.75$\n",
        "\n",
        "$P(\\hat{Y}=enrolled|A=red,Y=will\\_use) = 25/50 = 0.5$\n",
        "\n",
        "$ \\frac{ P(\\hat{Y}=enrolled|A=blue,Y=will\\_use) }{P(\\hat{Y}=enrolled|A=red,Y=will\\_use)} = 0.75 / 0.5 = 1.5 > 1.25 $"
      ],
      "metadata": {
        "id": "GeKvtCaOxVvz"
      }
    },
    {
      "cell_type": "markdown",
      "source": [
        "The selection rates among positive true class are not equal between the groups. Blue is privileged, more likely to get enrolled if they would benefit. The four fifths rule is not satisfied."
      ],
      "metadata": {
        "id": "rIv0l_LxzVKh"
      }
    },
    {
      "cell_type": "markdown",
      "source": [
        "## Predicitive rate parity"
      ],
      "metadata": {
        "id": "RUgefhE9zkwM"
      }
    },
    {
      "cell_type": "markdown",
      "source": [
        "### Definition:\n",
        "\n",
        "$ P(Y=1|A=a,\\hat{Y}=1) = P(Y=1|A=b, \\hat{Y}=1)$\n",
        "$ P(Y=1|A=a,\\hat{Y}=0) = P(Y=1|A=b, \\hat{Y}=0)$\n",
        "\n",
        "\n",
        "### Applied definition:\n",
        "\n",
        "$ P(Y=will|A=blue,\\hat{Y}=enrolled) = P(Y=will|A=red, \\hat{Y}=enrolled)$\n",
        "$ P(Y=will|A=blue,\\hat{Y}=notenrolled) = P(Y=will|A=red, \\hat{Y}=notenrolled)$\n",
        "\n",
        "\n",
        "### Interpretation:\n",
        "\n",
        "Among the enrolled, probability of using training in the future is independent of group.\n",
        "\n",
        "Among the not enrolled, probability of needing the non-trained skills is independent of group."
      ],
      "metadata": {
        "id": "hmgj1t0Czoee"
      }
    },
    {
      "cell_type": "markdown",
      "source": [
        "$ P(Y=will|A=blue,\\hat{Y}=enrolled) = 60/65 \\approx 0.923 $\n",
        "\n",
        "$ P(Y=will|A=red, \\hat{Y}=enrolled) = 25 / 50  = 0.5 $\n",
        "\n",
        "$ P(Y=will|A=blue,\\hat{Y}=notenrolled) = 20 /35 \\approx 0.571 $\n",
        "\n",
        "$ P(Y=will|A=red,\\hat{Y}=notenrolled) = 25 / 50 = 0.5 $"
      ],
      "metadata": {
        "id": "y8MS5dxY1XSp"
      }
    },
    {
      "cell_type": "markdown",
      "source": [
        "The predictive rate parity is not maintained between the groups. Among those receiving the training, those in the blue group are more likely to use the skills. Among those not enrolled, those in the blue group are more likely to need the skills in the future.\n",
        "\n",
        "While the groups are not treated equally, it's hard to distinguish which group is truly privileged without knowing the benefit-to-cost ratio of the training."
      ],
      "metadata": {
        "id": "amPOYB8O3YzN"
      }
    },
    {
      "cell_type": "markdown",
      "source": [
        "# Task 2"
      ],
      "metadata": {
        "id": "ycIStS_L6HvO"
      }
    },
    {
      "cell_type": "markdown",
      "source": [
        "##1"
      ],
      "metadata": {
        "id": "4Jtow5MAcB7u"
      }
    },
    {
      "cell_type": "markdown",
      "source": [
        "I chose the adult income dataset."
      ],
      "metadata": {
        "id": "8DRhtlh-bsi8"
      }
    },
    {
      "cell_type": "markdown",
      "source": [
        "We are trying to predict whether an adult's annual income is <=50K USD or >50K USD based on 14 attributes from census data."
      ],
      "metadata": {
        "id": "gKkKhvlibxcs"
      }
    },
    {
      "cell_type": "markdown",
      "source": [
        "The feature \"fnlwgt\" is removed, as it is supposed to convey how representative a sample is for the overall US population. Our model is not capable of using that information.\n",
        "\n",
        "As there is a natural order on the *education* feature, already expressed in the educational-num feature, we also exclude that one.\n",
        "\n",
        "The native-country feature takes multiple values. To avoid overfitting, it is transformed into a binary feature indicating whether that country is the US.\n",
        "\n",
        "The capital gains and capital loss features are quite sparse, but as they directly translate to income I decided to include them.\n",
        "\n",
        "The other features seem reasonably promising.\n",
        "\n",
        "Those earning above 50K were assigned class 1 as potentially desirable, to keep consistent with the lecture."
      ],
      "metadata": {
        "id": "7-JrfAAqbz7g"
      }
    },
    {
      "cell_type": "markdown",
      "source": [
        "![image.png](data:image/png;base64,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)"
      ],
      "metadata": {
        "id": "WjstPbxCcUTo"
      }
    },
    {
      "cell_type": "markdown",
      "source": [
        "![image.png](data:image/png;base64,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)"
      ],
      "metadata": {
        "id": "BvD9Mo8bcAF9"
      }
    },
    {
      "cell_type": "markdown",
      "source": [
        "We can see multiple numerical features correlate with income, some correlate with each other. Interestingly, being a US native is surprisingly weakly correlated with other numerical features."
      ],
      "metadata": {
        "id": "jcrEHTBRcLkL"
      }
    },
    {
      "cell_type": "markdown",
      "source": [
        "Approx 24% of the samples belong to the positive class."
      ],
      "metadata": {
        "id": "8B3T8Vm8cjt0"
      }
    },
    {
      "cell_type": "markdown",
      "source": [
        "We end up with 12 explanatory variables - 5 numerical and 7 categorical - and 1 label."
      ],
      "metadata": {
        "id": "mvw97VmEcqOG"
      }
    },
    {
      "cell_type": "markdown",
      "source": [
        "The dataset is split train-test 90-10. The results are reported on the test set."
      ],
      "metadata": {
        "id": "CIXjT9ixczgU"
      }
    },
    {
      "cell_type": "markdown",
      "source": [
        "The categorical features are one-hot-encoded, while the numerical features pass through a standard scaler."
      ],
      "metadata": {
        "id": "bXGH-bA4cwLx"
      }
    },
    {
      "cell_type": "markdown",
      "source": [
        "I trained a LogisticRegression model with the default settings."
      ],
      "metadata": {
        "id": "yLI4C61qc8Pv"
      }
    },
    {
      "cell_type": "markdown",
      "source": [
        "\n",
        "|      Model             |   Recall   |  Precision  |     F1     |  Accuracy  |     AUC    |\n",
        "|------------------------|------------|------------|------------|------------|------------|\n",
        "| Logistic Regression    |  0.615385  |  0.725026  |  0.665721  |  0.855271  |  0.906715  |\n"
      ],
      "metadata": {
        "id": "tE555RpedO7x"
      }
    },
    {
      "cell_type": "markdown",
      "source": [
        "## 2"
      ],
      "metadata": {
        "id": "cbA-H7o4et9O"
      }
    },
    {
      "cell_type": "markdown",
      "source": [
        "I chose gender as my protected attribute, with Male as the privileged class. Please note this attribute is directly included in the training data I pass to the model, which is a somewhat questionable decision."
      ],
      "metadata": {
        "id": "4xYUnsgpddRc"
      }
    },
    {
      "cell_type": "markdown",
      "source": [
        "Fairness coefficients for the initial model:\n",
        "\n",
        "|non-privileged|     TPR    |     ACC    |     PPV    |     FPR    |     STP    |\n",
        "|---|------------|------------|------------|------------|------------|\n",
        "| Female  |  0.875598  |  1.149877  |  1.087866  |  0.169811  |  0.281369  |\n"
      ],
      "metadata": {
        "id": "e7Gk5WnwdsDN"
      }
    },
    {
      "cell_type": "markdown",
      "source": [
        "Statistical parity and false positive rate ratio violate the 80% rule."
      ],
      "metadata": {
        "id": "-l5dm-wGePOo"
      }
    },
    {
      "cell_type": "markdown",
      "source": [
        "## 3"
      ],
      "metadata": {
        "id": "D6OTr6zreqkv"
      }
    },
    {
      "cell_type": "markdown",
      "source": [
        "I trained a LogisticRegression, allowing the solver more iterations and reweighing the classes to be balanced.\n"
      ],
      "metadata": {
        "id": "jRtN5miXexHu"
      }
    },
    {
      "cell_type": "markdown",
      "source": [
        "|        |   Recall   |  Precision  |     F1     |  Accuracy  |     AUC    |\n",
        "|--------|------------|------------|------------|------------|------------|\n",
        "| Logistic Regression |  0.853147  |   0.56286  |   0.678249 |   0.81044  |   0.906672 |\n",
        "\n",
        "|   |     TPR    |     ACC    |     PPV    |     FPR    |     STP    |\n",
        "|---|------------|------------|------------|------------|------------|\n",
        "| Female  |  0.926999  |  1.233023  |  1.111712  |  0.198653  |  0.293362  |\n",
        "\n"
      ],
      "metadata": {
        "id": "tHcF6Uo0f_KA"
      }
    },
    {
      "cell_type": "markdown",
      "source": [
        "## 4"
      ],
      "metadata": {
        "id": "h5HEwnBtgdwr"
      }
    },
    {
      "cell_type": "markdown",
      "source": [
        "I decided to reweigh all samples, so that the positive samples with female gender carried weight equal to positive smaples with male gender. Symmetrically for negative."
      ],
      "metadata": {
        "id": "qQPFIqnWgiiF"
      }
    },
    {
      "cell_type": "markdown",
      "source": [
        "|       |   Recall   |  Precision  |     F1     |  Accuracy  |     AUC    |\n",
        "|-------|------------|------------|------------|------------|------------|\n",
        "| Logistic Regression  |  0.811189  |   0.560386 |   0.662857 |   0.806755 |   0.896711 |\n",
        "\n",
        "|   |     TPR    |     ACC    |     PPV    |     FPR    |     STP    |\n",
        "|---|------------|------------|------------|------------|------------|\n",
        "| Female  |  1.101377  |  1.115979  |  0.729412  |  0.579399  |  0.531017  |\n",
        "\n"
      ],
      "metadata": {
        "id": "7nMPbPrvgyjd"
      }
    },
    {
      "cell_type": "markdown",
      "source": [
        "## 5,6"
      ],
      "metadata": {
        "id": "XyhHGG8mhI1Q"
      }
    },
    {
      "cell_type": "markdown",
      "source": [
        "The rebalancing efforts did not noticeably affect the quality of the model as measured by F1 and AUC. For an estimation of the statistical significance of the differences, crossvalidation would be necessary.\n",
        "\n",
        "The bias mitigation by reweighing significantly improved statistical parity. This is expected, as with this reweighing the parity would be perfect for a naive classifier trained on just gender.\n",
        "\n",
        "Interstingly, by improving STP we also significantly improved FPR. Unfortunately PPV was pushed outside the 80% rule bounds. TPR and ACC remained within the bounds."
      ],
      "metadata": {
        "id": "KJkR95q5hLUj"
      }
    },
    {
      "cell_type": "markdown",
      "source": [
        "It seems like reweighing the samples to match probability of label classes among samples of given protected characteristic group is an improvement, although it is not sufficient to achieve an acceptably unbiased classifier."
      ],
      "metadata": {
        "id": "u1iDnZSviesT"
      }
    },
    {
      "cell_type": "markdown",
      "source": [
        "#Appendix"
      ],
      "metadata": {
        "id": "HHZGKqmp6iok"
      }
    },
    {
      "cell_type": "code",
      "source": [
        "# Data downloaded manually due to kaggle limitations"
      ],
      "metadata": {
        "id": "lRtqv8Uc6Gxj"
      },
      "execution_count": 1,
      "outputs": []
    },
    {
      "cell_type": "code",
      "source": [
        "!pip install dalex"
      ],
      "metadata": {
        "colab": {
          "base_uri": "https://localhost:8080/"
        },
        "id": "mfVg0HAtLU6y",
        "outputId": "6e14e86e-618f-46e9-fce0-3b1c747f1eea"
      },
      "execution_count": 2,
      "outputs": [
        {
          "output_type": "stream",
          "name": "stdout",
          "text": [
            "Requirement already satisfied: dalex in /usr/local/lib/python3.10/dist-packages (1.6.0)\n",
            "Requirement already satisfied: setuptools in /usr/local/lib/python3.10/dist-packages (from dalex) (67.7.2)\n",
            "Requirement already satisfied: pandas>=1.2.5 in /usr/local/lib/python3.10/dist-packages (from dalex) (1.5.3)\n",
            "Requirement already satisfied: numpy>=1.20.3 in /usr/local/lib/python3.10/dist-packages (from dalex) (1.23.5)\n",
            "Requirement already satisfied: scipy>=1.6.3 in /usr/local/lib/python3.10/dist-packages (from dalex) (1.11.3)\n",
            "Requirement already satisfied: plotly>=5.1.0 in /usr/local/lib/python3.10/dist-packages (from dalex) (5.15.0)\n",
            "Requirement already satisfied: tqdm>=4.61.2 in /usr/local/lib/python3.10/dist-packages (from dalex) (4.66.1)\n",
            "Requirement already satisfied: python-dateutil>=2.8.1 in /usr/local/lib/python3.10/dist-packages (from pandas>=1.2.5->dalex) (2.8.2)\n",
            "Requirement already satisfied: pytz>=2020.1 in /usr/local/lib/python3.10/dist-packages (from pandas>=1.2.5->dalex) (2023.3.post1)\n",
            "Requirement already satisfied: tenacity>=6.2.0 in /usr/local/lib/python3.10/dist-packages (from plotly>=5.1.0->dalex) (8.2.3)\n",
            "Requirement already satisfied: packaging in /usr/local/lib/python3.10/dist-packages (from plotly>=5.1.0->dalex) (23.2)\n",
            "Requirement already satisfied: six>=1.5 in /usr/local/lib/python3.10/dist-packages (from python-dateutil>=2.8.1->pandas>=1.2.5->dalex) (1.16.0)\n"
          ]
        }
      ]
    },
    {
      "cell_type": "code",
      "source": [
        "import pandas as pd\n",
        "df = pd.read_csv(\"adult.csv\")"
      ],
      "metadata": {
        "id": "XBlzwZIu67t4"
      },
      "execution_count": 3,
      "outputs": []
    },
    {
      "cell_type": "markdown",
      "source": [
        "We are trying to predict whether an adult's annual income is <=50K USD or >50K USD based on 14 attributes from census data."
      ],
      "metadata": {
        "id": "UZlIbCOJ76n3"
      }
    },
    {
      "cell_type": "code",
      "source": [
        "df"
      ],
      "metadata": {
        "colab": {
          "base_uri": "https://localhost:8080/",
          "height": 652
        },
        "id": "mlqyRRPl7vLZ",
        "outputId": "b19bb945-a2b8-4623-a8b9-a4efc34c15ea"
      },
      "execution_count": 4,
      "outputs": [
        {
          "output_type": "execute_result",
          "data": {
            "text/plain": [
              "       age     workclass  fnlwgt     education  educational-num  \\\n",
              "0       25       Private  226802          11th                7   \n",
              "1       38       Private   89814       HS-grad                9   \n",
              "2       28     Local-gov  336951    Assoc-acdm               12   \n",
              "3       44       Private  160323  Some-college               10   \n",
              "4       18             ?  103497  Some-college               10   \n",
              "...    ...           ...     ...           ...              ...   \n",
              "48837   27       Private  257302    Assoc-acdm               12   \n",
              "48838   40       Private  154374       HS-grad                9   \n",
              "48839   58       Private  151910       HS-grad                9   \n",
              "48840   22       Private  201490       HS-grad                9   \n",
              "48841   52  Self-emp-inc  287927       HS-grad                9   \n",
              "\n",
              "           marital-status         occupation relationship   race  gender  \\\n",
              "0           Never-married  Machine-op-inspct    Own-child  Black    Male   \n",
              "1      Married-civ-spouse    Farming-fishing      Husband  White    Male   \n",
              "2      Married-civ-spouse    Protective-serv      Husband  White    Male   \n",
              "3      Married-civ-spouse  Machine-op-inspct      Husband  Black    Male   \n",
              "4           Never-married                  ?    Own-child  White  Female   \n",
              "...                   ...                ...          ...    ...     ...   \n",
              "48837  Married-civ-spouse       Tech-support         Wife  White  Female   \n",
              "48838  Married-civ-spouse  Machine-op-inspct      Husband  White    Male   \n",
              "48839             Widowed       Adm-clerical    Unmarried  White  Female   \n",
              "48840       Never-married       Adm-clerical    Own-child  White    Male   \n",
              "48841  Married-civ-spouse    Exec-managerial         Wife  White  Female   \n",
              "\n",
              "       capital-gain  capital-loss  hours-per-week native-country income  \n",
              "0                 0             0              40  United-States  <=50K  \n",
              "1                 0             0              50  United-States  <=50K  \n",
              "2                 0             0              40  United-States   >50K  \n",
              "3              7688             0              40  United-States   >50K  \n",
              "4                 0             0              30  United-States  <=50K  \n",
              "...             ...           ...             ...            ...    ...  \n",
              "48837             0             0              38  United-States  <=50K  \n",
              "48838             0             0              40  United-States   >50K  \n",
              "48839             0             0              40  United-States  <=50K  \n",
              "48840             0             0              20  United-States  <=50K  \n",
              "48841         15024             0              40  United-States   >50K  \n",
              "\n",
              "[48842 rows x 15 columns]"
            ],
            "text/html": [
              "\n",
              "  <div id=\"df-d69ccd16-b99b-47ec-abdf-81538c21e01f\" class=\"colab-df-container\">\n",
              "    <div>\n",
              "<style scoped>\n",
              "    .dataframe tbody tr th:only-of-type {\n",
              "        vertical-align: middle;\n",
              "    }\n",
              "\n",
              "    .dataframe tbody tr th {\n",
              "        vertical-align: top;\n",
              "    }\n",
              "\n",
              "    .dataframe thead th {\n",
              "        text-align: right;\n",
              "    }\n",
              "</style>\n",
              "<table border=\"1\" class=\"dataframe\">\n",
              "  <thead>\n",
              "    <tr style=\"text-align: right;\">\n",
              "      <th></th>\n",
              "      <th>age</th>\n",
              "      <th>workclass</th>\n",
              "      <th>fnlwgt</th>\n",
              "      <th>education</th>\n",
              "      <th>educational-num</th>\n",
              "      <th>marital-status</th>\n",
              "      <th>occupation</th>\n",
              "      <th>relationship</th>\n",
              "      <th>race</th>\n",
              "      <th>gender</th>\n",
              "      <th>capital-gain</th>\n",
              "      <th>capital-loss</th>\n",
              "      <th>hours-per-week</th>\n",
              "      <th>native-country</th>\n",
              "      <th>income</th>\n",
              "    </tr>\n",
              "  </thead>\n",
              "  <tbody>\n",
              "    <tr>\n",
              "      <th>0</th>\n",
              "      <td>25</td>\n",
              "      <td>Private</td>\n",
              "      <td>226802</td>\n",
              "      <td>11th</td>\n",
              "      <td>7</td>\n",
              "      <td>Never-married</td>\n",
              "      <td>Machine-op-inspct</td>\n",
              "      <td>Own-child</td>\n",
              "      <td>Black</td>\n",
              "      <td>Male</td>\n",
              "      <td>0</td>\n",
              "      <td>0</td>\n",
              "      <td>40</td>\n",
              "      <td>United-States</td>\n",
              "      <td>&lt;=50K</td>\n",
              "    </tr>\n",
              "    <tr>\n",
              "      <th>1</th>\n",
              "      <td>38</td>\n",
              "      <td>Private</td>\n",
              "      <td>89814</td>\n",
              "      <td>HS-grad</td>\n",
              "      <td>9</td>\n",
              "      <td>Married-civ-spouse</td>\n",
              "      <td>Farming-fishing</td>\n",
              "      <td>Husband</td>\n",
              "      <td>White</td>\n",
              "      <td>Male</td>\n",
              "      <td>0</td>\n",
              "      <td>0</td>\n",
              "      <td>50</td>\n",
              "      <td>United-States</td>\n",
              "      <td>&lt;=50K</td>\n",
              "    </tr>\n",
              "    <tr>\n",
              "      <th>2</th>\n",
              "      <td>28</td>\n",
              "      <td>Local-gov</td>\n",
              "      <td>336951</td>\n",
              "      <td>Assoc-acdm</td>\n",
              "      <td>12</td>\n",
              "      <td>Married-civ-spouse</td>\n",
              "      <td>Protective-serv</td>\n",
              "      <td>Husband</td>\n",
              "      <td>White</td>\n",
              "      <td>Male</td>\n",
              "      <td>0</td>\n",
              "      <td>0</td>\n",
              "      <td>40</td>\n",
              "      <td>United-States</td>\n",
              "      <td>&gt;50K</td>\n",
              "    </tr>\n",
              "    <tr>\n",
              "      <th>3</th>\n",
              "      <td>44</td>\n",
              "      <td>Private</td>\n",
              "      <td>160323</td>\n",
              "      <td>Some-college</td>\n",
              "      <td>10</td>\n",
              "      <td>Married-civ-spouse</td>\n",
              "      <td>Machine-op-inspct</td>\n",
              "      <td>Husband</td>\n",
              "      <td>Black</td>\n",
              "      <td>Male</td>\n",
              "      <td>7688</td>\n",
              "      <td>0</td>\n",
              "      <td>40</td>\n",
              "      <td>United-States</td>\n",
              "      <td>&gt;50K</td>\n",
              "    </tr>\n",
              "    <tr>\n",
              "      <th>4</th>\n",
              "      <td>18</td>\n",
              "      <td>?</td>\n",
              "      <td>103497</td>\n",
              "      <td>Some-college</td>\n",
              "      <td>10</td>\n",
              "      <td>Never-married</td>\n",
              "      <td>?</td>\n",
              "      <td>Own-child</td>\n",
              "      <td>White</td>\n",
              "      <td>Female</td>\n",
              "      <td>0</td>\n",
              "      <td>0</td>\n",
              "      <td>30</td>\n",
              "      <td>United-States</td>\n",
              "      <td>&lt;=50K</td>\n",
              "    </tr>\n",
              "    <tr>\n",
              "      <th>...</th>\n",
              "      <td>...</td>\n",
              "      <td>...</td>\n",
              "      <td>...</td>\n",
              "      <td>...</td>\n",
              "      <td>...</td>\n",
              "      <td>...</td>\n",
              "      <td>...</td>\n",
              "      <td>...</td>\n",
              "      <td>...</td>\n",
              "      <td>...</td>\n",
              "      <td>...</td>\n",
              "      <td>...</td>\n",
              "      <td>...</td>\n",
              "      <td>...</td>\n",
              "      <td>...</td>\n",
              "    </tr>\n",
              "    <tr>\n",
              "      <th>48837</th>\n",
              "      <td>27</td>\n",
              "      <td>Private</td>\n",
              "      <td>257302</td>\n",
              "      <td>Assoc-acdm</td>\n",
              "      <td>12</td>\n",
              "      <td>Married-civ-spouse</td>\n",
              "      <td>Tech-support</td>\n",
              "      <td>Wife</td>\n",
              "      <td>White</td>\n",
              "      <td>Female</td>\n",
              "      <td>0</td>\n",
              "      <td>0</td>\n",
              "      <td>38</td>\n",
              "      <td>United-States</td>\n",
              "      <td>&lt;=50K</td>\n",
              "    </tr>\n",
              "    <tr>\n",
              "      <th>48838</th>\n",
              "      <td>40</td>\n",
              "      <td>Private</td>\n",
              "      <td>154374</td>\n",
              "      <td>HS-grad</td>\n",
              "      <td>9</td>\n",
              "      <td>Married-civ-spouse</td>\n",
              "      <td>Machine-op-inspct</td>\n",
              "      <td>Husband</td>\n",
              "      <td>White</td>\n",
              "      <td>Male</td>\n",
              "      <td>0</td>\n",
              "      <td>0</td>\n",
              "      <td>40</td>\n",
              "      <td>United-States</td>\n",
              "      <td>&gt;50K</td>\n",
              "    </tr>\n",
              "    <tr>\n",
              "      <th>48839</th>\n",
              "      <td>58</td>\n",
              "      <td>Private</td>\n",
              "      <td>151910</td>\n",
              "      <td>HS-grad</td>\n",
              "      <td>9</td>\n",
              "      <td>Widowed</td>\n",
              "      <td>Adm-clerical</td>\n",
              "      <td>Unmarried</td>\n",
              "      <td>White</td>\n",
              "      <td>Female</td>\n",
              "      <td>0</td>\n",
              "      <td>0</td>\n",
              "      <td>40</td>\n",
              "      <td>United-States</td>\n",
              "      <td>&lt;=50K</td>\n",
              "    </tr>\n",
              "    <tr>\n",
              "      <th>48840</th>\n",
              "      <td>22</td>\n",
              "      <td>Private</td>\n",
              "      <td>201490</td>\n",
              "      <td>HS-grad</td>\n",
              "      <td>9</td>\n",
              "      <td>Never-married</td>\n",
              "      <td>Adm-clerical</td>\n",
              "      <td>Own-child</td>\n",
              "      <td>White</td>\n",
              "      <td>Male</td>\n",
              "      <td>0</td>\n",
              "      <td>0</td>\n",
              "      <td>20</td>\n",
              "      <td>United-States</td>\n",
              "      <td>&lt;=50K</td>\n",
              "    </tr>\n",
              "    <tr>\n",
              "      <th>48841</th>\n",
              "      <td>52</td>\n",
              "      <td>Self-emp-inc</td>\n",
              "      <td>287927</td>\n",
              "      <td>HS-grad</td>\n",
              "      <td>9</td>\n",
              "      <td>Married-civ-spouse</td>\n",
              "      <td>Exec-managerial</td>\n",
              "      <td>Wife</td>\n",
              "      <td>White</td>\n",
              "      <td>Female</td>\n",
              "      <td>15024</td>\n",
              "      <td>0</td>\n",
              "      <td>40</td>\n",
              "      <td>United-States</td>\n",
              "      <td>&gt;50K</td>\n",
              "    </tr>\n",
              "  </tbody>\n",
              "</table>\n",
              "<p>48842 rows × 15 columns</p>\n",
              "</div>\n",
              "    <div class=\"colab-df-buttons\">\n",
              "\n",
              "  <div class=\"colab-df-container\">\n",
              "    <button class=\"colab-df-convert\" onclick=\"convertToInteractive('df-d69ccd16-b99b-47ec-abdf-81538c21e01f')\"\n",
              "            title=\"Convert this dataframe to an interactive table.\"\n",
              "            style=\"display:none;\">\n",
              "\n",
              "  <svg xmlns=\"http://www.w3.org/2000/svg\" height=\"24px\" viewBox=\"0 -960 960 960\">\n",
              "    <path d=\"M120-120v-720h720v720H120Zm60-500h600v-160H180v160Zm220 220h160v-160H400v160Zm0 220h160v-160H400v160ZM180-400h160v-160H180v160Zm440 0h160v-160H620v160ZM180-180h160v-160H180v160Zm440 0h160v-160H620v160Z\"/>\n",
              "  </svg>\n",
              "    </button>\n",
              "\n",
              "  <style>\n",
              "    .colab-df-container {\n",
              "      display:flex;\n",
              "      gap: 12px;\n",
              "    }\n",
              "\n",
              "    .colab-df-convert {\n",
              "      background-color: #E8F0FE;\n",
              "      border: none;\n",
              "      border-radius: 50%;\n",
              "      cursor: pointer;\n",
              "      display: none;\n",
              "      fill: #1967D2;\n",
              "      height: 32px;\n",
              "      padding: 0 0 0 0;\n",
              "      width: 32px;\n",
              "    }\n",
              "\n",
              "    .colab-df-convert:hover {\n",
              "      background-color: #E2EBFA;\n",
              "      box-shadow: 0px 1px 2px rgba(60, 64, 67, 0.3), 0px 1px 3px 1px rgba(60, 64, 67, 0.15);\n",
              "      fill: #174EA6;\n",
              "    }\n",
              "\n",
              "    .colab-df-buttons div {\n",
              "      margin-bottom: 4px;\n",
              "    }\n",
              "\n",
              "    [theme=dark] .colab-df-convert {\n",
              "      background-color: #3B4455;\n",
              "      fill: #D2E3FC;\n",
              "    }\n",
              "\n",
              "    [theme=dark] .colab-df-convert:hover {\n",
              "      background-color: #434B5C;\n",
              "      box-shadow: 0px 1px 3px 1px rgba(0, 0, 0, 0.15);\n",
              "      filter: drop-shadow(0px 1px 2px rgba(0, 0, 0, 0.3));\n",
              "      fill: #FFFFFF;\n",
              "    }\n",
              "  </style>\n",
              "\n",
              "    <script>\n",
              "      const buttonEl =\n",
              "        document.querySelector('#df-d69ccd16-b99b-47ec-abdf-81538c21e01f button.colab-df-convert');\n",
              "      buttonEl.style.display =\n",
              "        google.colab.kernel.accessAllowed ? 'block' : 'none';\n",
              "\n",
              "      async function convertToInteractive(key) {\n",
              "        const element = document.querySelector('#df-d69ccd16-b99b-47ec-abdf-81538c21e01f');\n",
              "        const dataTable =\n",
              "          await google.colab.kernel.invokeFunction('convertToInteractive',\n",
              "                                                    [key], {});\n",
              "        if (!dataTable) return;\n",
              "\n",
              "        const docLinkHtml = 'Like what you see? Visit the ' +\n",
              "          '<a target=\"_blank\" href=https://colab.research.google.com/notebooks/data_table.ipynb>data table notebook</a>'\n",
              "          + ' to learn more about interactive tables.';\n",
              "        element.innerHTML = '';\n",
              "        dataTable['output_type'] = 'display_data';\n",
              "        await google.colab.output.renderOutput(dataTable, element);\n",
              "        const docLink = document.createElement('div');\n",
              "        docLink.innerHTML = docLinkHtml;\n",
              "        element.appendChild(docLink);\n",
              "      }\n",
              "    </script>\n",
              "  </div>\n",
              "\n",
              "\n",
              "<div id=\"df-044f74c0-6cdc-425b-92b9-5400058f60ca\">\n",
              "  <button class=\"colab-df-quickchart\" onclick=\"quickchart('df-044f74c0-6cdc-425b-92b9-5400058f60ca')\"\n",
              "            title=\"Suggest charts.\"\n",
              "            style=\"display:none;\">\n",
              "\n",
              "<svg xmlns=\"http://www.w3.org/2000/svg\" height=\"24px\"viewBox=\"0 0 24 24\"\n",
              "     width=\"24px\">\n",
              "    <g>\n",
              "        <path d=\"M19 3H5c-1.1 0-2 .9-2 2v14c0 1.1.9 2 2 2h14c1.1 0 2-.9 2-2V5c0-1.1-.9-2-2-2zM9 17H7v-7h2v7zm4 0h-2V7h2v10zm4 0h-2v-4h2v4z\"/>\n",
              "    </g>\n",
              "</svg>\n",
              "  </button>\n",
              "\n",
              "<style>\n",
              "  .colab-df-quickchart {\n",
              "      --bg-color: #E8F0FE;\n",
              "      --fill-color: #1967D2;\n",
              "      --hover-bg-color: #E2EBFA;\n",
              "      --hover-fill-color: #174EA6;\n",
              "      --disabled-fill-color: #AAA;\n",
              "      --disabled-bg-color: #DDD;\n",
              "  }\n",
              "\n",
              "  [theme=dark] .colab-df-quickchart {\n",
              "      --bg-color: #3B4455;\n",
              "      --fill-color: #D2E3FC;\n",
              "      --hover-bg-color: #434B5C;\n",
              "      --hover-fill-color: #FFFFFF;\n",
              "      --disabled-bg-color: #3B4455;\n",
              "      --disabled-fill-color: #666;\n",
              "  }\n",
              "\n",
              "  .colab-df-quickchart {\n",
              "    background-color: var(--bg-color);\n",
              "    border: none;\n",
              "    border-radius: 50%;\n",
              "    cursor: pointer;\n",
              "    display: none;\n",
              "    fill: var(--fill-color);\n",
              "    height: 32px;\n",
              "    padding: 0;\n",
              "    width: 32px;\n",
              "  }\n",
              "\n",
              "  .colab-df-quickchart:hover {\n",
              "    background-color: var(--hover-bg-color);\n",
              "    box-shadow: 0 1px 2px rgba(60, 64, 67, 0.3), 0 1px 3px 1px rgba(60, 64, 67, 0.15);\n",
              "    fill: var(--button-hover-fill-color);\n",
              "  }\n",
              "\n",
              "  .colab-df-quickchart-complete:disabled,\n",
              "  .colab-df-quickchart-complete:disabled:hover {\n",
              "    background-color: var(--disabled-bg-color);\n",
              "    fill: var(--disabled-fill-color);\n",
              "    box-shadow: none;\n",
              "  }\n",
              "\n",
              "  .colab-df-spinner {\n",
              "    border: 2px solid var(--fill-color);\n",
              "    border-color: transparent;\n",
              "    border-bottom-color: var(--fill-color);\n",
              "    animation:\n",
              "      spin 1s steps(1) infinite;\n",
              "  }\n",
              "\n",
              "  @keyframes spin {\n",
              "    0% {\n",
              "      border-color: transparent;\n",
              "      border-bottom-color: var(--fill-color);\n",
              "      border-left-color: var(--fill-color);\n",
              "    }\n",
              "    20% {\n",
              "      border-color: transparent;\n",
              "      border-left-color: var(--fill-color);\n",
              "      border-top-color: var(--fill-color);\n",
              "    }\n",
              "    30% {\n",
              "      border-color: transparent;\n",
              "      border-left-color: var(--fill-color);\n",
              "      border-top-color: var(--fill-color);\n",
              "      border-right-color: var(--fill-color);\n",
              "    }\n",
              "    40% {\n",
              "      border-color: transparent;\n",
              "      border-right-color: var(--fill-color);\n",
              "      border-top-color: var(--fill-color);\n",
              "    }\n",
              "    60% {\n",
              "      border-color: transparent;\n",
              "      border-right-color: var(--fill-color);\n",
              "    }\n",
              "    80% {\n",
              "      border-color: transparent;\n",
              "      border-right-color: var(--fill-color);\n",
              "      border-bottom-color: var(--fill-color);\n",
              "    }\n",
              "    90% {\n",
              "      border-color: transparent;\n",
              "      border-bottom-color: var(--fill-color);\n",
              "    }\n",
              "  }\n",
              "</style>\n",
              "\n",
              "  <script>\n",
              "    async function quickchart(key) {\n",
              "      const quickchartButtonEl =\n",
              "        document.querySelector('#' + key + ' button');\n",
              "      quickchartButtonEl.disabled = true;  // To prevent multiple clicks.\n",
              "      quickchartButtonEl.classList.add('colab-df-spinner');\n",
              "      try {\n",
              "        const charts = await google.colab.kernel.invokeFunction(\n",
              "            'suggestCharts', [key], {});\n",
              "      } catch (error) {\n",
              "        console.error('Error during call to suggestCharts:', error);\n",
              "      }\n",
              "      quickchartButtonEl.classList.remove('colab-df-spinner');\n",
              "      quickchartButtonEl.classList.add('colab-df-quickchart-complete');\n",
              "    }\n",
              "    (() => {\n",
              "      let quickchartButtonEl =\n",
              "        document.querySelector('#df-044f74c0-6cdc-425b-92b9-5400058f60ca button');\n",
              "      quickchartButtonEl.style.display =\n",
              "        google.colab.kernel.accessAllowed ? 'block' : 'none';\n",
              "    })();\n",
              "  </script>\n",
              "</div>\n",
              "    </div>\n",
              "  </div>\n"
            ]
          },
          "metadata": {},
          "execution_count": 4
        }
      ]
    },
    {
      "cell_type": "code",
      "source": [
        "df.describe(include='all')"
      ],
      "metadata": {
        "colab": {
          "base_uri": "https://localhost:8080/",
          "height": 449
        },
        "id": "al_FiaLk-SE6",
        "outputId": "66d1d60e-870a-48e3-acd8-1ac0369e5b01"
      },
      "execution_count": 5,
      "outputs": [
        {
          "output_type": "execute_result",
          "data": {
            "text/plain": [
              "                 age workclass        fnlwgt education  educational-num  \\\n",
              "count   48842.000000     48842  4.884200e+04     48842     48842.000000   \n",
              "unique           NaN         9           NaN        16              NaN   \n",
              "top              NaN   Private           NaN   HS-grad              NaN   \n",
              "freq             NaN     33906           NaN     15784              NaN   \n",
              "mean       38.643585       NaN  1.896641e+05       NaN        10.078089   \n",
              "std        13.710510       NaN  1.056040e+05       NaN         2.570973   \n",
              "min        17.000000       NaN  1.228500e+04       NaN         1.000000   \n",
              "25%        28.000000       NaN  1.175505e+05       NaN         9.000000   \n",
              "50%        37.000000       NaN  1.781445e+05       NaN        10.000000   \n",
              "75%        48.000000       NaN  2.376420e+05       NaN        12.000000   \n",
              "max        90.000000       NaN  1.490400e+06       NaN        16.000000   \n",
              "\n",
              "            marital-status      occupation relationship   race gender  \\\n",
              "count                48842           48842        48842  48842  48842   \n",
              "unique                   7              15            6      5      2   \n",
              "top     Married-civ-spouse  Prof-specialty      Husband  White   Male   \n",
              "freq                 22379            6172        19716  41762  32650   \n",
              "mean                   NaN             NaN          NaN    NaN    NaN   \n",
              "std                    NaN             NaN          NaN    NaN    NaN   \n",
              "min                    NaN             NaN          NaN    NaN    NaN   \n",
              "25%                    NaN             NaN          NaN    NaN    NaN   \n",
              "50%                    NaN             NaN          NaN    NaN    NaN   \n",
              "75%                    NaN             NaN          NaN    NaN    NaN   \n",
              "max                    NaN             NaN          NaN    NaN    NaN   \n",
              "\n",
              "        capital-gain  capital-loss  hours-per-week native-country income  \n",
              "count   48842.000000  48842.000000    48842.000000          48842  48842  \n",
              "unique           NaN           NaN             NaN             42      2  \n",
              "top              NaN           NaN             NaN  United-States  <=50K  \n",
              "freq             NaN           NaN             NaN          43832  37155  \n",
              "mean     1079.067626     87.502314       40.422382            NaN    NaN  \n",
              "std      7452.019058    403.004552       12.391444            NaN    NaN  \n",
              "min         0.000000      0.000000        1.000000            NaN    NaN  \n",
              "25%         0.000000      0.000000       40.000000            NaN    NaN  \n",
              "50%         0.000000      0.000000       40.000000            NaN    NaN  \n",
              "75%         0.000000      0.000000       45.000000            NaN    NaN  \n",
              "max     99999.000000   4356.000000       99.000000            NaN    NaN  "
            ],
            "text/html": [
              "\n",
              "  <div id=\"df-b479a9fe-8947-4c22-82b0-44f3e0778fe1\" class=\"colab-df-container\">\n",
              "    <div>\n",
              "<style scoped>\n",
              "    .dataframe tbody tr th:only-of-type {\n",
              "        vertical-align: middle;\n",
              "    }\n",
              "\n",
              "    .dataframe tbody tr th {\n",
              "        vertical-align: top;\n",
              "    }\n",
              "\n",
              "    .dataframe thead th {\n",
              "        text-align: right;\n",
              "    }\n",
              "</style>\n",
              "<table border=\"1\" class=\"dataframe\">\n",
              "  <thead>\n",
              "    <tr style=\"text-align: right;\">\n",
              "      <th></th>\n",
              "      <th>age</th>\n",
              "      <th>workclass</th>\n",
              "      <th>fnlwgt</th>\n",
              "      <th>education</th>\n",
              "      <th>educational-num</th>\n",
              "      <th>marital-status</th>\n",
              "      <th>occupation</th>\n",
              "      <th>relationship</th>\n",
              "      <th>race</th>\n",
              "      <th>gender</th>\n",
              "      <th>capital-gain</th>\n",
              "      <th>capital-loss</th>\n",
              "      <th>hours-per-week</th>\n",
              "      <th>native-country</th>\n",
              "      <th>income</th>\n",
              "    </tr>\n",
              "  </thead>\n",
              "  <tbody>\n",
              "    <tr>\n",
              "      <th>count</th>\n",
              "      <td>48842.000000</td>\n",
              "      <td>48842</td>\n",
              "      <td>4.884200e+04</td>\n",
              "      <td>48842</td>\n",
              "      <td>48842.000000</td>\n",
              "      <td>48842</td>\n",
              "      <td>48842</td>\n",
              "      <td>48842</td>\n",
              "      <td>48842</td>\n",
              "      <td>48842</td>\n",
              "      <td>48842.000000</td>\n",
              "      <td>48842.000000</td>\n",
              "      <td>48842.000000</td>\n",
              "      <td>48842</td>\n",
              "      <td>48842</td>\n",
              "    </tr>\n",
              "    <tr>\n",
              "      <th>unique</th>\n",
              "      <td>NaN</td>\n",
              "      <td>9</td>\n",
              "      <td>NaN</td>\n",
              "      <td>16</td>\n",
              "      <td>NaN</td>\n",
              "      <td>7</td>\n",
              "      <td>15</td>\n",
              "      <td>6</td>\n",
              "      <td>5</td>\n",
              "      <td>2</td>\n",
              "      <td>NaN</td>\n",
              "      <td>NaN</td>\n",
              "      <td>NaN</td>\n",
              "      <td>42</td>\n",
              "      <td>2</td>\n",
              "    </tr>\n",
              "    <tr>\n",
              "      <th>top</th>\n",
              "      <td>NaN</td>\n",
              "      <td>Private</td>\n",
              "      <td>NaN</td>\n",
              "      <td>HS-grad</td>\n",
              "      <td>NaN</td>\n",
              "      <td>Married-civ-spouse</td>\n",
              "      <td>Prof-specialty</td>\n",
              "      <td>Husband</td>\n",
              "      <td>White</td>\n",
              "      <td>Male</td>\n",
              "      <td>NaN</td>\n",
              "      <td>NaN</td>\n",
              "      <td>NaN</td>\n",
              "      <td>United-States</td>\n",
              "      <td>&lt;=50K</td>\n",
              "    </tr>\n",
              "    <tr>\n",
              "      <th>freq</th>\n",
              "      <td>NaN</td>\n",
              "      <td>33906</td>\n",
              "      <td>NaN</td>\n",
              "      <td>15784</td>\n",
              "      <td>NaN</td>\n",
              "      <td>22379</td>\n",
              "      <td>6172</td>\n",
              "      <td>19716</td>\n",
              "      <td>41762</td>\n",
              "      <td>32650</td>\n",
              "      <td>NaN</td>\n",
              "      <td>NaN</td>\n",
              "      <td>NaN</td>\n",
              "      <td>43832</td>\n",
              "      <td>37155</td>\n",
              "    </tr>\n",
              "    <tr>\n",
              "      <th>mean</th>\n",
              "      <td>38.643585</td>\n",
              "      <td>NaN</td>\n",
              "      <td>1.896641e+05</td>\n",
              "      <td>NaN</td>\n",
              "      <td>10.078089</td>\n",
              "      <td>NaN</td>\n",
              "      <td>NaN</td>\n",
              "      <td>NaN</td>\n",
              "      <td>NaN</td>\n",
              "      <td>NaN</td>\n",
              "      <td>1079.067626</td>\n",
              "      <td>87.502314</td>\n",
              "      <td>40.422382</td>\n",
              "      <td>NaN</td>\n",
              "      <td>NaN</td>\n",
              "    </tr>\n",
              "    <tr>\n",
              "      <th>std</th>\n",
              "      <td>13.710510</td>\n",
              "      <td>NaN</td>\n",
              "      <td>1.056040e+05</td>\n",
              "      <td>NaN</td>\n",
              "      <td>2.570973</td>\n",
              "      <td>NaN</td>\n",
              "      <td>NaN</td>\n",
              "      <td>NaN</td>\n",
              "      <td>NaN</td>\n",
              "      <td>NaN</td>\n",
              "      <td>7452.019058</td>\n",
              "      <td>403.004552</td>\n",
              "      <td>12.391444</td>\n",
              "      <td>NaN</td>\n",
              "      <td>NaN</td>\n",
              "    </tr>\n",
              "    <tr>\n",
              "      <th>min</th>\n",
              "      <td>17.000000</td>\n",
              "      <td>NaN</td>\n",
              "      <td>1.228500e+04</td>\n",
              "      <td>NaN</td>\n",
              "      <td>1.000000</td>\n",
              "      <td>NaN</td>\n",
              "      <td>NaN</td>\n",
              "      <td>NaN</td>\n",
              "      <td>NaN</td>\n",
              "      <td>NaN</td>\n",
              "      <td>0.000000</td>\n",
              "      <td>0.000000</td>\n",
              "      <td>1.000000</td>\n",
              "      <td>NaN</td>\n",
              "      <td>NaN</td>\n",
              "    </tr>\n",
              "    <tr>\n",
              "      <th>25%</th>\n",
              "      <td>28.000000</td>\n",
              "      <td>NaN</td>\n",
              "      <td>1.175505e+05</td>\n",
              "      <td>NaN</td>\n",
              "      <td>9.000000</td>\n",
              "      <td>NaN</td>\n",
              "      <td>NaN</td>\n",
              "      <td>NaN</td>\n",
              "      <td>NaN</td>\n",
              "      <td>NaN</td>\n",
              "      <td>0.000000</td>\n",
              "      <td>0.000000</td>\n",
              "      <td>40.000000</td>\n",
              "      <td>NaN</td>\n",
              "      <td>NaN</td>\n",
              "    </tr>\n",
              "    <tr>\n",
              "      <th>50%</th>\n",
              "      <td>37.000000</td>\n",
              "      <td>NaN</td>\n",
              "      <td>1.781445e+05</td>\n",
              "      <td>NaN</td>\n",
              "      <td>10.000000</td>\n",
              "      <td>NaN</td>\n",
              "      <td>NaN</td>\n",
              "      <td>NaN</td>\n",
              "      <td>NaN</td>\n",
              "      <td>NaN</td>\n",
              "      <td>0.000000</td>\n",
              "      <td>0.000000</td>\n",
              "      <td>40.000000</td>\n",
              "      <td>NaN</td>\n",
              "      <td>NaN</td>\n",
              "    </tr>\n",
              "    <tr>\n",
              "      <th>75%</th>\n",
              "      <td>48.000000</td>\n",
              "      <td>NaN</td>\n",
              "      <td>2.376420e+05</td>\n",
              "      <td>NaN</td>\n",
              "      <td>12.000000</td>\n",
              "      <td>NaN</td>\n",
              "      <td>NaN</td>\n",
              "      <td>NaN</td>\n",
              "      <td>NaN</td>\n",
              "      <td>NaN</td>\n",
              "      <td>0.000000</td>\n",
              "      <td>0.000000</td>\n",
              "      <td>45.000000</td>\n",
              "      <td>NaN</td>\n",
              "      <td>NaN</td>\n",
              "    </tr>\n",
              "    <tr>\n",
              "      <th>max</th>\n",
              "      <td>90.000000</td>\n",
              "      <td>NaN</td>\n",
              "      <td>1.490400e+06</td>\n",
              "      <td>NaN</td>\n",
              "      <td>16.000000</td>\n",
              "      <td>NaN</td>\n",
              "      <td>NaN</td>\n",
              "      <td>NaN</td>\n",
              "      <td>NaN</td>\n",
              "      <td>NaN</td>\n",
              "      <td>99999.000000</td>\n",
              "      <td>4356.000000</td>\n",
              "      <td>99.000000</td>\n",
              "      <td>NaN</td>\n",
              "      <td>NaN</td>\n",
              "    </tr>\n",
              "  </tbody>\n",
              "</table>\n",
              "</div>\n",
              "    <div class=\"colab-df-buttons\">\n",
              "\n",
              "  <div class=\"colab-df-container\">\n",
              "    <button class=\"colab-df-convert\" onclick=\"convertToInteractive('df-b479a9fe-8947-4c22-82b0-44f3e0778fe1')\"\n",
              "            title=\"Convert this dataframe to an interactive table.\"\n",
              "            style=\"display:none;\">\n",
              "\n",
              "  <svg xmlns=\"http://www.w3.org/2000/svg\" height=\"24px\" viewBox=\"0 -960 960 960\">\n",
              "    <path d=\"M120-120v-720h720v720H120Zm60-500h600v-160H180v160Zm220 220h160v-160H400v160Zm0 220h160v-160H400v160ZM180-400h160v-160H180v160Zm440 0h160v-160H620v160ZM180-180h160v-160H180v160Zm440 0h160v-160H620v160Z\"/>\n",
              "  </svg>\n",
              "    </button>\n",
              "\n",
              "  <style>\n",
              "    .colab-df-container {\n",
              "      display:flex;\n",
              "      gap: 12px;\n",
              "    }\n",
              "\n",
              "    .colab-df-convert {\n",
              "      background-color: #E8F0FE;\n",
              "      border: none;\n",
              "      border-radius: 50%;\n",
              "      cursor: pointer;\n",
              "      display: none;\n",
              "      fill: #1967D2;\n",
              "      height: 32px;\n",
              "      padding: 0 0 0 0;\n",
              "      width: 32px;\n",
              "    }\n",
              "\n",
              "    .colab-df-convert:hover {\n",
              "      background-color: #E2EBFA;\n",
              "      box-shadow: 0px 1px 2px rgba(60, 64, 67, 0.3), 0px 1px 3px 1px rgba(60, 64, 67, 0.15);\n",
              "      fill: #174EA6;\n",
              "    }\n",
              "\n",
              "    .colab-df-buttons div {\n",
              "      margin-bottom: 4px;\n",
              "    }\n",
              "\n",
              "    [theme=dark] .colab-df-convert {\n",
              "      background-color: #3B4455;\n",
              "      fill: #D2E3FC;\n",
              "    }\n",
              "\n",
              "    [theme=dark] .colab-df-convert:hover {\n",
              "      background-color: #434B5C;\n",
              "      box-shadow: 0px 1px 3px 1px rgba(0, 0, 0, 0.15);\n",
              "      filter: drop-shadow(0px 1px 2px rgba(0, 0, 0, 0.3));\n",
              "      fill: #FFFFFF;\n",
              "    }\n",
              "  </style>\n",
              "\n",
              "    <script>\n",
              "      const buttonEl =\n",
              "        document.querySelector('#df-b479a9fe-8947-4c22-82b0-44f3e0778fe1 button.colab-df-convert');\n",
              "      buttonEl.style.display =\n",
              "        google.colab.kernel.accessAllowed ? 'block' : 'none';\n",
              "\n",
              "      async function convertToInteractive(key) {\n",
              "        const element = document.querySelector('#df-b479a9fe-8947-4c22-82b0-44f3e0778fe1');\n",
              "        const dataTable =\n",
              "          await google.colab.kernel.invokeFunction('convertToInteractive',\n",
              "                                                    [key], {});\n",
              "        if (!dataTable) return;\n",
              "\n",
              "        const docLinkHtml = 'Like what you see? Visit the ' +\n",
              "          '<a target=\"_blank\" href=https://colab.research.google.com/notebooks/data_table.ipynb>data table notebook</a>'\n",
              "          + ' to learn more about interactive tables.';\n",
              "        element.innerHTML = '';\n",
              "        dataTable['output_type'] = 'display_data';\n",
              "        await google.colab.output.renderOutput(dataTable, element);\n",
              "        const docLink = document.createElement('div');\n",
              "        docLink.innerHTML = docLinkHtml;\n",
              "        element.appendChild(docLink);\n",
              "      }\n",
              "    </script>\n",
              "  </div>\n",
              "\n",
              "\n",
              "<div id=\"df-20ebb531-8790-4d54-ae59-85568b02705e\">\n",
              "  <button class=\"colab-df-quickchart\" onclick=\"quickchart('df-20ebb531-8790-4d54-ae59-85568b02705e')\"\n",
              "            title=\"Suggest charts.\"\n",
              "            style=\"display:none;\">\n",
              "\n",
              "<svg xmlns=\"http://www.w3.org/2000/svg\" height=\"24px\"viewBox=\"0 0 24 24\"\n",
              "     width=\"24px\">\n",
              "    <g>\n",
              "        <path d=\"M19 3H5c-1.1 0-2 .9-2 2v14c0 1.1.9 2 2 2h14c1.1 0 2-.9 2-2V5c0-1.1-.9-2-2-2zM9 17H7v-7h2v7zm4 0h-2V7h2v10zm4 0h-2v-4h2v4z\"/>\n",
              "    </g>\n",
              "</svg>\n",
              "  </button>\n",
              "\n",
              "<style>\n",
              "  .colab-df-quickchart {\n",
              "      --bg-color: #E8F0FE;\n",
              "      --fill-color: #1967D2;\n",
              "      --hover-bg-color: #E2EBFA;\n",
              "      --hover-fill-color: #174EA6;\n",
              "      --disabled-fill-color: #AAA;\n",
              "      --disabled-bg-color: #DDD;\n",
              "  }\n",
              "\n",
              "  [theme=dark] .colab-df-quickchart {\n",
              "      --bg-color: #3B4455;\n",
              "      --fill-color: #D2E3FC;\n",
              "      --hover-bg-color: #434B5C;\n",
              "      --hover-fill-color: #FFFFFF;\n",
              "      --disabled-bg-color: #3B4455;\n",
              "      --disabled-fill-color: #666;\n",
              "  }\n",
              "\n",
              "  .colab-df-quickchart {\n",
              "    background-color: var(--bg-color);\n",
              "    border: none;\n",
              "    border-radius: 50%;\n",
              "    cursor: pointer;\n",
              "    display: none;\n",
              "    fill: var(--fill-color);\n",
              "    height: 32px;\n",
              "    padding: 0;\n",
              "    width: 32px;\n",
              "  }\n",
              "\n",
              "  .colab-df-quickchart:hover {\n",
              "    background-color: var(--hover-bg-color);\n",
              "    box-shadow: 0 1px 2px rgba(60, 64, 67, 0.3), 0 1px 3px 1px rgba(60, 64, 67, 0.15);\n",
              "    fill: var(--button-hover-fill-color);\n",
              "  }\n",
              "\n",
              "  .colab-df-quickchart-complete:disabled,\n",
              "  .colab-df-quickchart-complete:disabled:hover {\n",
              "    background-color: var(--disabled-bg-color);\n",
              "    fill: var(--disabled-fill-color);\n",
              "    box-shadow: none;\n",
              "  }\n",
              "\n",
              "  .colab-df-spinner {\n",
              "    border: 2px solid var(--fill-color);\n",
              "    border-color: transparent;\n",
              "    border-bottom-color: var(--fill-color);\n",
              "    animation:\n",
              "      spin 1s steps(1) infinite;\n",
              "  }\n",
              "\n",
              "  @keyframes spin {\n",
              "    0% {\n",
              "      border-color: transparent;\n",
              "      border-bottom-color: var(--fill-color);\n",
              "      border-left-color: var(--fill-color);\n",
              "    }\n",
              "    20% {\n",
              "      border-color: transparent;\n",
              "      border-left-color: var(--fill-color);\n",
              "      border-top-color: var(--fill-color);\n",
              "    }\n",
              "    30% {\n",
              "      border-color: transparent;\n",
              "      border-left-color: var(--fill-color);\n",
              "      border-top-color: var(--fill-color);\n",
              "      border-right-color: var(--fill-color);\n",
              "    }\n",
              "    40% {\n",
              "      border-color: transparent;\n",
              "      border-right-color: var(--fill-color);\n",
              "      border-top-color: var(--fill-color);\n",
              "    }\n",
              "    60% {\n",
              "      border-color: transparent;\n",
              "      border-right-color: var(--fill-color);\n",
              "    }\n",
              "    80% {\n",
              "      border-color: transparent;\n",
              "      border-right-color: var(--fill-color);\n",
              "      border-bottom-color: var(--fill-color);\n",
              "    }\n",
              "    90% {\n",
              "      border-color: transparent;\n",
              "      border-bottom-color: var(--fill-color);\n",
              "    }\n",
              "  }\n",
              "</style>\n",
              "\n",
              "  <script>\n",
              "    async function quickchart(key) {\n",
              "      const quickchartButtonEl =\n",
              "        document.querySelector('#' + key + ' button');\n",
              "      quickchartButtonEl.disabled = true;  // To prevent multiple clicks.\n",
              "      quickchartButtonEl.classList.add('colab-df-spinner');\n",
              "      try {\n",
              "        const charts = await google.colab.kernel.invokeFunction(\n",
              "            'suggestCharts', [key], {});\n",
              "      } catch (error) {\n",
              "        console.error('Error during call to suggestCharts:', error);\n",
              "      }\n",
              "      quickchartButtonEl.classList.remove('colab-df-spinner');\n",
              "      quickchartButtonEl.classList.add('colab-df-quickchart-complete');\n",
              "    }\n",
              "    (() => {\n",
              "      let quickchartButtonEl =\n",
              "        document.querySelector('#df-20ebb531-8790-4d54-ae59-85568b02705e button');\n",
              "      quickchartButtonEl.style.display =\n",
              "        google.colab.kernel.accessAllowed ? 'block' : 'none';\n",
              "    })();\n",
              "  </script>\n",
              "</div>\n",
              "    </div>\n",
              "  </div>\n"
            ]
          },
          "metadata": {},
          "execution_count": 5
        }
      ]
    },
    {
      "cell_type": "code",
      "source": [
        "df.info()"
      ],
      "metadata": {
        "colab": {
          "base_uri": "https://localhost:8080/"
        },
        "id": "2TDNOqi--U_R",
        "outputId": "15ccf705-e2c0-4eca-fca3-cad5d615b6aa"
      },
      "execution_count": 6,
      "outputs": [
        {
          "output_type": "stream",
          "name": "stdout",
          "text": [
            "<class 'pandas.core.frame.DataFrame'>\n",
            "RangeIndex: 48842 entries, 0 to 48841\n",
            "Data columns (total 15 columns):\n",
            " #   Column           Non-Null Count  Dtype \n",
            "---  ------           --------------  ----- \n",
            " 0   age              48842 non-null  int64 \n",
            " 1   workclass        48842 non-null  object\n",
            " 2   fnlwgt           48842 non-null  int64 \n",
            " 3   education        48842 non-null  object\n",
            " 4   educational-num  48842 non-null  int64 \n",
            " 5   marital-status   48842 non-null  object\n",
            " 6   occupation       48842 non-null  object\n",
            " 7   relationship     48842 non-null  object\n",
            " 8   race             48842 non-null  object\n",
            " 9   gender           48842 non-null  object\n",
            " 10  capital-gain     48842 non-null  int64 \n",
            " 11  capital-loss     48842 non-null  int64 \n",
            " 12  hours-per-week   48842 non-null  int64 \n",
            " 13  native-country   48842 non-null  object\n",
            " 14  income           48842 non-null  object\n",
            "dtypes: int64(6), object(9)\n",
            "memory usage: 5.6+ MB\n"
          ]
        }
      ]
    },
    {
      "cell_type": "code",
      "source": [
        "df['native-country'].value_counts()"
      ],
      "metadata": {
        "colab": {
          "base_uri": "https://localhost:8080/"
        },
        "id": "UVGc9BC8_KUq",
        "outputId": "557ba6cb-2989-4e98-f5f0-a706eff9cea3"
      },
      "execution_count": 7,
      "outputs": [
        {
          "output_type": "execute_result",
          "data": {
            "text/plain": [
              "United-States                 43832\n",
              "Mexico                          951\n",
              "?                               857\n",
              "Philippines                     295\n",
              "Germany                         206\n",
              "Puerto-Rico                     184\n",
              "Canada                          182\n",
              "El-Salvador                     155\n",
              "India                           151\n",
              "Cuba                            138\n",
              "England                         127\n",
              "China                           122\n",
              "South                           115\n",
              "Jamaica                         106\n",
              "Italy                           105\n",
              "Dominican-Republic              103\n",
              "Japan                            92\n",
              "Guatemala                        88\n",
              "Poland                           87\n",
              "Vietnam                          86\n",
              "Columbia                         85\n",
              "Haiti                            75\n",
              "Portugal                         67\n",
              "Taiwan                           65\n",
              "Iran                             59\n",
              "Greece                           49\n",
              "Nicaragua                        49\n",
              "Peru                             46\n",
              "Ecuador                          45\n",
              "France                           38\n",
              "Ireland                          37\n",
              "Hong                             30\n",
              "Thailand                         30\n",
              "Cambodia                         28\n",
              "Trinadad&Tobago                  27\n",
              "Laos                             23\n",
              "Yugoslavia                       23\n",
              "Outlying-US(Guam-USVI-etc)       23\n",
              "Scotland                         21\n",
              "Honduras                         20\n",
              "Hungary                          19\n",
              "Holand-Netherlands                1\n",
              "Name: native-country, dtype: int64"
            ]
          },
          "metadata": {},
          "execution_count": 7
        }
      ]
    },
    {
      "cell_type": "code",
      "source": [
        "df['occupation'].value_counts()"
      ],
      "metadata": {
        "colab": {
          "base_uri": "https://localhost:8080/"
        },
        "id": "pCczwpqqAcD6",
        "outputId": "c567a593-ade8-4560-8512-f8ab78eec13a"
      },
      "execution_count": 8,
      "outputs": [
        {
          "output_type": "execute_result",
          "data": {
            "text/plain": [
              "Prof-specialty       6172\n",
              "Craft-repair         6112\n",
              "Exec-managerial      6086\n",
              "Adm-clerical         5611\n",
              "Sales                5504\n",
              "Other-service        4923\n",
              "Machine-op-inspct    3022\n",
              "?                    2809\n",
              "Transport-moving     2355\n",
              "Handlers-cleaners    2072\n",
              "Farming-fishing      1490\n",
              "Tech-support         1446\n",
              "Protective-serv       983\n",
              "Priv-house-serv       242\n",
              "Armed-Forces           15\n",
              "Name: occupation, dtype: int64"
            ]
          },
          "metadata": {},
          "execution_count": 8
        }
      ]
    },
    {
      "cell_type": "code",
      "source": [
        "df['workclass'].value_counts()"
      ],
      "metadata": {
        "colab": {
          "base_uri": "https://localhost:8080/"
        },
        "id": "KOFC50ZFAgnP",
        "outputId": "0de70c7a-9c51-41d2-d888-bb61de2a5688"
      },
      "execution_count": 9,
      "outputs": [
        {
          "output_type": "execute_result",
          "data": {
            "text/plain": [
              "Private             33906\n",
              "Self-emp-not-inc     3862\n",
              "Local-gov            3136\n",
              "?                    2799\n",
              "State-gov            1981\n",
              "Self-emp-inc         1695\n",
              "Federal-gov          1432\n",
              "Without-pay            21\n",
              "Never-worked           10\n",
              "Name: workclass, dtype: int64"
            ]
          },
          "metadata": {},
          "execution_count": 9
        }
      ]
    },
    {
      "cell_type": "code",
      "source": [
        "df['marital-status'].value_counts()"
      ],
      "metadata": {
        "colab": {
          "base_uri": "https://localhost:8080/"
        },
        "id": "aWalv2BLAphj",
        "outputId": "590d6c6c-23f3-46da-a69a-f2456d1ebad9"
      },
      "execution_count": 10,
      "outputs": [
        {
          "output_type": "execute_result",
          "data": {
            "text/plain": [
              "Married-civ-spouse       22379\n",
              "Never-married            16117\n",
              "Divorced                  6633\n",
              "Separated                 1530\n",
              "Widowed                   1518\n",
              "Married-spouse-absent      628\n",
              "Married-AF-spouse           37\n",
              "Name: marital-status, dtype: int64"
            ]
          },
          "metadata": {},
          "execution_count": 10
        }
      ]
    },
    {
      "cell_type": "code",
      "source": [
        "df['relationship'].value_counts()"
      ],
      "metadata": {
        "colab": {
          "base_uri": "https://localhost:8080/"
        },
        "id": "G1nKP9TAAwsE",
        "outputId": "c259eed9-919a-4cc5-c73b-be173ab454e3"
      },
      "execution_count": 11,
      "outputs": [
        {
          "output_type": "execute_result",
          "data": {
            "text/plain": [
              "Husband           19716\n",
              "Not-in-family     12583\n",
              "Own-child          7581\n",
              "Unmarried          5125\n",
              "Wife               2331\n",
              "Other-relative     1506\n",
              "Name: relationship, dtype: int64"
            ]
          },
          "metadata": {},
          "execution_count": 11
        }
      ]
    },
    {
      "cell_type": "code",
      "source": [
        "df['capital-gain'].hist(bins=25)"
      ],
      "metadata": {
        "colab": {
          "base_uri": "https://localhost:8080/",
          "height": 447
        },
        "id": "J_p_w84UA_5O",
        "outputId": "309cffc6-2121-45c7-e88f-cb9fe448b850"
      },
      "execution_count": 12,
      "outputs": [
        {
          "output_type": "execute_result",
          "data": {
            "text/plain": [
              "<Axes: >"
            ]
          },
          "metadata": {},
          "execution_count": 12
        },
        {
          "output_type": "display_data",
          "data": {
            "text/plain": [
              "<Figure size 640x480 with 1 Axes>"
            ],
            "image/png": "[encoded data removed]"
          },
          "metadata": {}
        }
      ]
    },
    {
      "cell_type": "code",
      "source": [
        "df['capital-loss'].hist(bins=25)"
      ],
      "metadata": {
        "colab": {
          "base_uri": "https://localhost:8080/",
          "height": 447
        },
        "id": "xq5CEK1IBEv1",
        "outputId": "6e5cafbc-402e-4d97-80a1-f9f981af4f22"
      },
      "execution_count": 13,
      "outputs": [
        {
          "output_type": "execute_result",
          "data": {
            "text/plain": [
              "<Axes: >"
            ]
          },
          "metadata": {},
          "execution_count": 13
        },
        {
          "output_type": "display_data",
          "data": {
            "text/plain": [
              "<Figure size 640x480 with 1 Axes>"
            ],
            "image/png": "[encoded data removed]"
          },
          "metadata": {}
        }
      ]
    },
    {
      "cell_type": "markdown",
      "source": [
        "The feature \"fnlwgt\" is removed, as it is supposed to convey how representative a sample is for the overall US population. Our model is not capable of using that information.\n",
        "\n",
        "As there is a natural order on the *education* feature, already expressed in the educational-num feature, we also exclude that one.\n",
        "\n",
        "The native-country feature takes multiple values. To avoid overfitting, it is transformed into a binary feature indicating whether that country is the US.\n",
        "\n",
        "The capital gains and capital loss features are quite sparse, but as they directly translate to income I decided to include them.\n",
        "\n",
        "The other features seem reasonably promising.\n",
        "\n",
        "Those earning above 50K were assigned class 1 as potentially desirable, to keep consistent with the lecture."
      ],
      "metadata": {
        "id": "ZcDOiTaP9ube"
      }
    },
    {
      "cell_type": "code",
      "source": [
        "df['us-native'] = df['native-country']=='United-States'\n",
        "df = df.drop(columns=['fnlwgt', 'native-country', 'education'])"
      ],
      "metadata": {
        "id": "gRyKWiiz8fXM"
      },
      "execution_count": 14,
      "outputs": []
    },
    {
      "cell_type": "code",
      "source": [
        "df['income']=df['income'].map({'<=50K':False, '>50K':True})"
      ],
      "metadata": {
        "id": "D38_IwRbBvqk"
      },
      "execution_count": 15,
      "outputs": []
    },
    {
      "cell_type": "code",
      "source": [
        "import seaborn as sns\n",
        "import matplotlib.pyplot as plt\n",
        "\n",
        "sns.heatmap(df.corr(), annot=True)"
      ],
      "metadata": {
        "colab": {
          "base_uri": "https://localhost:8080/",
          "height": 611
        },
        "id": "bbMLxXS-AElX",
        "outputId": "d1fd451f-9ad1-4182-89bd-e1aef65ba2d6"
      },
      "execution_count": 16,
      "outputs": [
        {
          "output_type": "stream",
          "name": "stderr",
          "text": [
            "<ipython-input-16-2f8a7f120ec2>:4: FutureWarning: The default value of numeric_only in DataFrame.corr is deprecated. In a future version, it will default to False. Select only valid columns or specify the value of numeric_only to silence this warning.\n",
            "  sns.heatmap(df.corr(), annot=True)\n"
          ]
        },
        {
          "output_type": "execute_result",
          "data": {
            "text/plain": [
              "<Axes: >"
            ]
          },
          "metadata": {},
          "execution_count": 16
        },
        {
          "output_type": "display_data",
          "data": {
            "text/plain": [
              "<Figure size 640x480 with 2 Axes>"
            ],
            "image/png": "[encoded data removed]"
          },
          "metadata": {}
        }
      ]
    },
    {
      "cell_type": "markdown",
      "source": [
        "We can see multiple numerical features correlate with income, some correlate with each other. Interestingly, being a US native is surprisingly weakly correlated with other numerical features."
      ],
      "metadata": {
        "id": "foo_RYeACfto"
      }
    },
    {
      "cell_type": "code",
      "source": [
        "df.hist(figsize=(9,9))"
      ],
      "metadata": {
        "colab": {
          "base_uri": "https://localhost:8080/",
          "height": 880
        },
        "id": "hqKKMJb0C-eS",
        "outputId": "bcbb12f0-7535-41ab-828d-d3eaad440305"
      },
      "execution_count": 17,
      "outputs": [
        {
          "output_type": "execute_result",
          "data": {
            "text/plain": [
              "array([[<Axes: title={'center': 'age'}>,\n",
              "        <Axes: title={'center': 'educational-num'}>],\n",
              "       [<Axes: title={'center': 'capital-gain'}>,\n",
              "        <Axes: title={'center': 'capital-loss'}>],\n",
              "       [<Axes: title={'center': 'hours-per-week'}>, <Axes: >]],\n",
              "      dtype=object)"
            ]
          },
          "metadata": {},
          "execution_count": 17
        },
        {
          "output_type": "display_data",
          "data": {
            "text/plain": [
              "<Figure size 900x900 with 6 Axes>"
            ],
            "image/png": "[encoded data removed]"
          },
          "metadata": {}
        }
      ]
    },
    {
      "cell_type": "code",
      "source": [
        "df['income'].describe()"
      ],
      "metadata": {
        "colab": {
          "base_uri": "https://localhost:8080/"
        },
        "id": "UjZn6xJ8DBvK",
        "outputId": "f5812322-d409-47fa-bf94-6b1fc43668e4"
      },
      "execution_count": 18,
      "outputs": [
        {
          "output_type": "execute_result",
          "data": {
            "text/plain": [
              "count     48842\n",
              "unique        2\n",
              "top       False\n",
              "freq      37155\n",
              "Name: income, dtype: object"
            ]
          },
          "metadata": {},
          "execution_count": 18
        }
      ]
    },
    {
      "cell_type": "code",
      "source": [
        "37155/48842"
      ],
      "metadata": {
        "colab": {
          "base_uri": "https://localhost:8080/"
        },
        "id": "MX79MYiYF7Ai",
        "outputId": "0f1b5a0b-21ca-4df1-82e5-2a134db1a71c"
      },
      "execution_count": 19,
      "outputs": [
        {
          "output_type": "execute_result",
          "data": {
            "text/plain": [
              "0.7607182343065395"
            ]
          },
          "metadata": {},
          "execution_count": 19
        }
      ]
    },
    {
      "cell_type": "markdown",
      "source": [
        "Approx 24% of the samples belong to the positive class."
      ],
      "metadata": {
        "id": "km5aBB0HDTpn"
      }
    },
    {
      "cell_type": "code",
      "source": [
        "X = df.loc[:, df.columns!='income']\n",
        "y = df.loc[:, df.columns == 'income']"
      ],
      "metadata": {
        "id": "6LG4Q4_NDPc7"
      },
      "execution_count": 20,
      "outputs": []
    },
    {
      "cell_type": "code",
      "source": [
        "X"
      ],
      "metadata": {
        "colab": {
          "base_uri": "https://localhost:8080/",
          "height": 615
        },
        "id": "DwBmSMgBEMJQ",
        "outputId": "c14fd6c9-f649-4578-c99e-4defa9f3d94c"
      },
      "execution_count": 21,
      "outputs": [
        {
          "output_type": "execute_result",
          "data": {
            "text/plain": [
              "       age     workclass  educational-num      marital-status  \\\n",
              "0       25       Private                7       Never-married   \n",
              "1       38       Private                9  Married-civ-spouse   \n",
              "2       28     Local-gov               12  Married-civ-spouse   \n",
              "3       44       Private               10  Married-civ-spouse   \n",
              "4       18             ?               10       Never-married   \n",
              "...    ...           ...              ...                 ...   \n",
              "48837   27       Private               12  Married-civ-spouse   \n",
              "48838   40       Private                9  Married-civ-spouse   \n",
              "48839   58       Private                9             Widowed   \n",
              "48840   22       Private                9       Never-married   \n",
              "48841   52  Self-emp-inc                9  Married-civ-spouse   \n",
              "\n",
              "              occupation relationship   race  gender  capital-gain  \\\n",
              "0      Machine-op-inspct    Own-child  Black    Male             0   \n",
              "1        Farming-fishing      Husband  White    Male             0   \n",
              "2        Protective-serv      Husband  White    Male             0   \n",
              "3      Machine-op-inspct      Husband  Black    Male          7688   \n",
              "4                      ?    Own-child  White  Female             0   \n",
              "...                  ...          ...    ...     ...           ...   \n",
              "48837       Tech-support         Wife  White  Female             0   \n",
              "48838  Machine-op-inspct      Husband  White    Male             0   \n",
              "48839       Adm-clerical    Unmarried  White  Female             0   \n",
              "48840       Adm-clerical    Own-child  White    Male             0   \n",
              "48841    Exec-managerial         Wife  White  Female         15024   \n",
              "\n",
              "       capital-loss  hours-per-week  us-native  \n",
              "0                 0              40       True  \n",
              "1                 0              50       True  \n",
              "2                 0              40       True  \n",
              "3                 0              40       True  \n",
              "4                 0              30       True  \n",
              "...             ...             ...        ...  \n",
              "48837             0              38       True  \n",
              "48838             0              40       True  \n",
              "48839             0              40       True  \n",
              "48840             0              20       True  \n",
              "48841             0              40       True  \n",
              "\n",
              "[48842 rows x 12 columns]"
            ],
            "text/html": [
              "\n",
              "  <div id=\"df-cb6599f4-3885-4539-a368-96021b6a2567\" class=\"colab-df-container\">\n",
              "    <div>\n",
              "<style scoped>\n",
              "    .dataframe tbody tr th:only-of-type {\n",
              "        vertical-align: middle;\n",
              "    }\n",
              "\n",
              "    .dataframe tbody tr th {\n",
              "        vertical-align: top;\n",
              "    }\n",
              "\n",
              "    .dataframe thead th {\n",
              "        text-align: right;\n",
              "    }\n",
              "</style>\n",
              "<table border=\"1\" class=\"dataframe\">\n",
              "  <thead>\n",
              "    <tr style=\"text-align: right;\">\n",
              "      <th></th>\n",
              "      <th>age</th>\n",
              "      <th>workclass</th>\n",
              "      <th>educational-num</th>\n",
              "      <th>marital-status</th>\n",
              "      <th>occupation</th>\n",
              "      <th>relationship</th>\n",
              "      <th>race</th>\n",
              "      <th>gender</th>\n",
              "      <th>capital-gain</th>\n",
              "      <th>capital-loss</th>\n",
              "      <th>hours-per-week</th>\n",
              "      <th>us-native</th>\n",
              "    </tr>\n",
              "  </thead>\n",
              "  <tbody>\n",
              "    <tr>\n",
              "      <th>0</th>\n",
              "      <td>25</td>\n",
              "      <td>Private</td>\n",
              "      <td>7</td>\n",
              "      <td>Never-married</td>\n",
              "      <td>Machine-op-inspct</td>\n",
              "      <td>Own-child</td>\n",
              "      <td>Black</td>\n",
              "      <td>Male</td>\n",
              "      <td>0</td>\n",
              "      <td>0</td>\n",
              "      <td>40</td>\n",
              "      <td>True</td>\n",
              "    </tr>\n",
              "    <tr>\n",
              "      <th>1</th>\n",
              "      <td>38</td>\n",
              "      <td>Private</td>\n",
              "      <td>9</td>\n",
              "      <td>Married-civ-spouse</td>\n",
              "      <td>Farming-fishing</td>\n",
              "      <td>Husband</td>\n",
              "      <td>White</td>\n",
              "      <td>Male</td>\n",
              "      <td>0</td>\n",
              "      <td>0</td>\n",
              "      <td>50</td>\n",
              "      <td>True</td>\n",
              "    </tr>\n",
              "    <tr>\n",
              "      <th>2</th>\n",
              "      <td>28</td>\n",
              "      <td>Local-gov</td>\n",
              "      <td>12</td>\n",
              "      <td>Married-civ-spouse</td>\n",
              "      <td>Protective-serv</td>\n",
              "      <td>Husband</td>\n",
              "      <td>White</td>\n",
              "      <td>Male</td>\n",
              "      <td>0</td>\n",
              "      <td>0</td>\n",
              "      <td>40</td>\n",
              "      <td>True</td>\n",
              "    </tr>\n",
              "    <tr>\n",
              "      <th>3</th>\n",
              "      <td>44</td>\n",
              "      <td>Private</td>\n",
              "      <td>10</td>\n",
              "      <td>Married-civ-spouse</td>\n",
              "      <td>Machine-op-inspct</td>\n",
              "      <td>Husband</td>\n",
              "      <td>Black</td>\n",
              "      <td>Male</td>\n",
              "      <td>7688</td>\n",
              "      <td>0</td>\n",
              "      <td>40</td>\n",
              "      <td>True</td>\n",
              "    </tr>\n",
              "    <tr>\n",
              "      <th>4</th>\n",
              "      <td>18</td>\n",
              "      <td>?</td>\n",
              "      <td>10</td>\n",
              "      <td>Never-married</td>\n",
              "      <td>?</td>\n",
              "      <td>Own-child</td>\n",
              "      <td>White</td>\n",
              "      <td>Female</td>\n",
              "      <td>0</td>\n",
              "      <td>0</td>\n",
              "      <td>30</td>\n",
              "      <td>True</td>\n",
              "    </tr>\n",
              "    <tr>\n",
              "      <th>...</th>\n",
              "      <td>...</td>\n",
              "      <td>...</td>\n",
              "      <td>...</td>\n",
              "      <td>...</td>\n",
              "      <td>...</td>\n",
              "      <td>...</td>\n",
              "      <td>...</td>\n",
              "      <td>...</td>\n",
              "      <td>...</td>\n",
              "      <td>...</td>\n",
              "      <td>...</td>\n",
              "      <td>...</td>\n",
              "    </tr>\n",
              "    <tr>\n",
              "      <th>48837</th>\n",
              "      <td>27</td>\n",
              "      <td>Private</td>\n",
              "      <td>12</td>\n",
              "      <td>Married-civ-spouse</td>\n",
              "      <td>Tech-support</td>\n",
              "      <td>Wife</td>\n",
              "      <td>White</td>\n",
              "      <td>Female</td>\n",
              "      <td>0</td>\n",
              "      <td>0</td>\n",
              "      <td>38</td>\n",
              "      <td>True</td>\n",
              "    </tr>\n",
              "    <tr>\n",
              "      <th>48838</th>\n",
              "      <td>40</td>\n",
              "      <td>Private</td>\n",
              "      <td>9</td>\n",
              "      <td>Married-civ-spouse</td>\n",
              "      <td>Machine-op-inspct</td>\n",
              "      <td>Husband</td>\n",
              "      <td>White</td>\n",
              "      <td>Male</td>\n",
              "      <td>0</td>\n",
              "      <td>0</td>\n",
              "      <td>40</td>\n",
              "      <td>True</td>\n",
              "    </tr>\n",
              "    <tr>\n",
              "      <th>48839</th>\n",
              "      <td>58</td>\n",
              "      <td>Private</td>\n",
              "      <td>9</td>\n",
              "      <td>Widowed</td>\n",
              "      <td>Adm-clerical</td>\n",
              "      <td>Unmarried</td>\n",
              "      <td>White</td>\n",
              "      <td>Female</td>\n",
              "      <td>0</td>\n",
              "      <td>0</td>\n",
              "      <td>40</td>\n",
              "      <td>True</td>\n",
              "    </tr>\n",
              "    <tr>\n",
              "      <th>48840</th>\n",
              "      <td>22</td>\n",
              "      <td>Private</td>\n",
              "      <td>9</td>\n",
              "      <td>Never-married</td>\n",
              "      <td>Adm-clerical</td>\n",
              "      <td>Own-child</td>\n",
              "      <td>White</td>\n",
              "      <td>Male</td>\n",
              "      <td>0</td>\n",
              "      <td>0</td>\n",
              "      <td>20</td>\n",
              "      <td>True</td>\n",
              "    </tr>\n",
              "    <tr>\n",
              "      <th>48841</th>\n",
              "      <td>52</td>\n",
              "      <td>Self-emp-inc</td>\n",
              "      <td>9</td>\n",
              "      <td>Married-civ-spouse</td>\n",
              "      <td>Exec-managerial</td>\n",
              "      <td>Wife</td>\n",
              "      <td>White</td>\n",
              "      <td>Female</td>\n",
              "      <td>15024</td>\n",
              "      <td>0</td>\n",
              "      <td>40</td>\n",
              "      <td>True</td>\n",
              "    </tr>\n",
              "  </tbody>\n",
              "</table>\n",
              "<p>48842 rows × 12 columns</p>\n",
              "</div>\n",
              "    <div class=\"colab-df-buttons\">\n",
              "\n",
              "  <div class=\"colab-df-container\">\n",
              "    <button class=\"colab-df-convert\" onclick=\"convertToInteractive('df-cb6599f4-3885-4539-a368-96021b6a2567')\"\n",
              "            title=\"Convert this dataframe to an interactive table.\"\n",
              "            style=\"display:none;\">\n",
              "\n",
              "  <svg xmlns=\"http://www.w3.org/2000/svg\" height=\"24px\" viewBox=\"0 -960 960 960\">\n",
              "    <path d=\"M120-120v-720h720v720H120Zm60-500h600v-160H180v160Zm220 220h160v-160H400v160Zm0 220h160v-160H400v160ZM180-400h160v-160H180v160Zm440 0h160v-160H620v160ZM180-180h160v-160H180v160Zm440 0h160v-160H620v160Z\"/>\n",
              "  </svg>\n",
              "    </button>\n",
              "\n",
              "  <style>\n",
              "    .colab-df-container {\n",
              "      display:flex;\n",
              "      gap: 12px;\n",
              "    }\n",
              "\n",
              "    .colab-df-convert {\n",
              "      background-color: #E8F0FE;\n",
              "      border: none;\n",
              "      border-radius: 50%;\n",
              "      cursor: pointer;\n",
              "      display: none;\n",
              "      fill: #1967D2;\n",
              "      height: 32px;\n",
              "      padding: 0 0 0 0;\n",
              "      width: 32px;\n",
              "    }\n",
              "\n",
              "    .colab-df-convert:hover {\n",
              "      background-color: #E2EBFA;\n",
              "      box-shadow: 0px 1px 2px rgba(60, 64, 67, 0.3), 0px 1px 3px 1px rgba(60, 64, 67, 0.15);\n",
              "      fill: #174EA6;\n",
              "    }\n",
              "\n",
              "    .colab-df-buttons div {\n",
              "      margin-bottom: 4px;\n",
              "    }\n",
              "\n",
              "    [theme=dark] .colab-df-convert {\n",
              "      background-color: #3B4455;\n",
              "      fill: #D2E3FC;\n",
              "    }\n",
              "\n",
              "    [theme=dark] .colab-df-convert:hover {\n",
              "      background-color: #434B5C;\n",
              "      box-shadow: 0px 1px 3px 1px rgba(0, 0, 0, 0.15);\n",
              "      filter: drop-shadow(0px 1px 2px rgba(0, 0, 0, 0.3));\n",
              "      fill: #FFFFFF;\n",
              "    }\n",
              "  </style>\n",
              "\n",
              "    <script>\n",
              "      const buttonEl =\n",
              "        document.querySelector('#df-cb6599f4-3885-4539-a368-96021b6a2567 button.colab-df-convert');\n",
              "      buttonEl.style.display =\n",
              "        google.colab.kernel.accessAllowed ? 'block' : 'none';\n",
              "\n",
              "      async function convertToInteractive(key) {\n",
              "        const element = document.querySelector('#df-cb6599f4-3885-4539-a368-96021b6a2567');\n",
              "        const dataTable =\n",
              "          await google.colab.kernel.invokeFunction('convertToInteractive',\n",
              "                                                    [key], {});\n",
              "        if (!dataTable) return;\n",
              "\n",
              "        const docLinkHtml = 'Like what you see? Visit the ' +\n",
              "          '<a target=\"_blank\" href=https://colab.research.google.com/notebooks/data_table.ipynb>data table notebook</a>'\n",
              "          + ' to learn more about interactive tables.';\n",
              "        element.innerHTML = '';\n",
              "        dataTable['output_type'] = 'display_data';\n",
              "        await google.colab.output.renderOutput(dataTable, element);\n",
              "        const docLink = document.createElement('div');\n",
              "        docLink.innerHTML = docLinkHtml;\n",
              "        element.appendChild(docLink);\n",
              "      }\n",
              "    </script>\n",
              "  </div>\n",
              "\n",
              "\n",
              "<div id=\"df-a4eb76f0-dc8a-4c1d-9839-9bbea33c17aa\">\n",
              "  <button class=\"colab-df-quickchart\" onclick=\"quickchart('df-a4eb76f0-dc8a-4c1d-9839-9bbea33c17aa')\"\n",
              "            title=\"Suggest charts.\"\n",
              "            style=\"display:none;\">\n",
              "\n",
              "<svg xmlns=\"http://www.w3.org/2000/svg\" height=\"24px\"viewBox=\"0 0 24 24\"\n",
              "     width=\"24px\">\n",
              "    <g>\n",
              "        <path d=\"M19 3H5c-1.1 0-2 .9-2 2v14c0 1.1.9 2 2 2h14c1.1 0 2-.9 2-2V5c0-1.1-.9-2-2-2zM9 17H7v-7h2v7zm4 0h-2V7h2v10zm4 0h-2v-4h2v4z\"/>\n",
              "    </g>\n",
              "</svg>\n",
              "  </button>\n",
              "\n",
              "<style>\n",
              "  .colab-df-quickchart {\n",
              "      --bg-color: #E8F0FE;\n",
              "      --fill-color: #1967D2;\n",
              "      --hover-bg-color: #E2EBFA;\n",
              "      --hover-fill-color: #174EA6;\n",
              "      --disabled-fill-color: #AAA;\n",
              "      --disabled-bg-color: #DDD;\n",
              "  }\n",
              "\n",
              "  [theme=dark] .colab-df-quickchart {\n",
              "      --bg-color: #3B4455;\n",
              "      --fill-color: #D2E3FC;\n",
              "      --hover-bg-color: #434B5C;\n",
              "      --hover-fill-color: #FFFFFF;\n",
              "      --disabled-bg-color: #3B4455;\n",
              "      --disabled-fill-color: #666;\n",
              "  }\n",
              "\n",
              "  .colab-df-quickchart {\n",
              "    background-color: var(--bg-color);\n",
              "    border: none;\n",
              "    border-radius: 50%;\n",
              "    cursor: pointer;\n",
              "    display: none;\n",
              "    fill: var(--fill-color);\n",
              "    height: 32px;\n",
              "    padding: 0;\n",
              "    width: 32px;\n",
              "  }\n",
              "\n",
              "  .colab-df-quickchart:hover {\n",
              "    background-color: var(--hover-bg-color);\n",
              "    box-shadow: 0 1px 2px rgba(60, 64, 67, 0.3), 0 1px 3px 1px rgba(60, 64, 67, 0.15);\n",
              "    fill: var(--button-hover-fill-color);\n",
              "  }\n",
              "\n",
              "  .colab-df-quickchart-complete:disabled,\n",
              "  .colab-df-quickchart-complete:disabled:hover {\n",
              "    background-color: var(--disabled-bg-color);\n",
              "    fill: var(--disabled-fill-color);\n",
              "    box-shadow: none;\n",
              "  }\n",
              "\n",
              "  .colab-df-spinner {\n",
              "    border: 2px solid var(--fill-color);\n",
              "    border-color: transparent;\n",
              "    border-bottom-color: var(--fill-color);\n",
              "    animation:\n",
              "      spin 1s steps(1) infinite;\n",
              "  }\n",
              "\n",
              "  @keyframes spin {\n",
              "    0% {\n",
              "      border-color: transparent;\n",
              "      border-bottom-color: var(--fill-color);\n",
              "      border-left-color: var(--fill-color);\n",
              "    }\n",
              "    20% {\n",
              "      border-color: transparent;\n",
              "      border-left-color: var(--fill-color);\n",
              "      border-top-color: var(--fill-color);\n",
              "    }\n",
              "    30% {\n",
              "      border-color: transparent;\n",
              "      border-left-color: var(--fill-color);\n",
              "      border-top-color: var(--fill-color);\n",
              "      border-right-color: var(--fill-color);\n",
              "    }\n",
              "    40% {\n",
              "      border-color: transparent;\n",
              "      border-right-color: var(--fill-color);\n",
              "      border-top-color: var(--fill-color);\n",
              "    }\n",
              "    60% {\n",
              "      border-color: transparent;\n",
              "      border-right-color: var(--fill-color);\n",
              "    }\n",
              "    80% {\n",
              "      border-color: transparent;\n",
              "      border-right-color: var(--fill-color);\n",
              "      border-bottom-color: var(--fill-color);\n",
              "    }\n",
              "    90% {\n",
              "      border-color: transparent;\n",
              "      border-bottom-color: var(--fill-color);\n",
              "    }\n",
              "  }\n",
              "</style>\n",
              "\n",
              "  <script>\n",
              "    async function quickchart(key) {\n",
              "      const quickchartButtonEl =\n",
              "        document.querySelector('#' + key + ' button');\n",
              "      quickchartButtonEl.disabled = true;  // To prevent multiple clicks.\n",
              "      quickchartButtonEl.classList.add('colab-df-spinner');\n",
              "      try {\n",
              "        const charts = await google.colab.kernel.invokeFunction(\n",
              "            'suggestCharts', [key], {});\n",
              "      } catch (error) {\n",
              "        console.error('Error during call to suggestCharts:', error);\n",
              "      }\n",
              "      quickchartButtonEl.classList.remove('colab-df-spinner');\n",
              "      quickchartButtonEl.classList.add('colab-df-quickchart-complete');\n",
              "    }\n",
              "    (() => {\n",
              "      let quickchartButtonEl =\n",
              "        document.querySelector('#df-a4eb76f0-dc8a-4c1d-9839-9bbea33c17aa button');\n",
              "      quickchartButtonEl.style.display =\n",
              "        google.colab.kernel.accessAllowed ? 'block' : 'none';\n",
              "    })();\n",
              "  </script>\n",
              "</div>\n",
              "    </div>\n",
              "  </div>\n"
            ]
          },
          "metadata": {},
          "execution_count": 21
        }
      ]
    },
    {
      "cell_type": "code",
      "source": [
        "y"
      ],
      "metadata": {
        "colab": {
          "base_uri": "https://localhost:8080/",
          "height": 424
        },
        "id": "c9NfV34sEMne",
        "outputId": "a6c87244-2ed0-45fa-a964-ed1643a5e999"
      },
      "execution_count": 22,
      "outputs": [
        {
          "output_type": "execute_result",
          "data": {
            "text/plain": [
              "       income\n",
              "0       False\n",
              "1       False\n",
              "2        True\n",
              "3        True\n",
              "4       False\n",
              "...       ...\n",
              "48837   False\n",
              "48838    True\n",
              "48839   False\n",
              "48840   False\n",
              "48841    True\n",
              "\n",
              "[48842 rows x 1 columns]"
            ],
            "text/html": [
              "\n",
              "  <div id=\"df-2baf2080-c11e-407d-94d0-a40fa0a89324\" class=\"colab-df-container\">\n",
              "    <div>\n",
              "<style scoped>\n",
              "    .dataframe tbody tr th:only-of-type {\n",
              "        vertical-align: middle;\n",
              "    }\n",
              "\n",
              "    .dataframe tbody tr th {\n",
              "        vertical-align: top;\n",
              "    }\n",
              "\n",
              "    .dataframe thead th {\n",
              "        text-align: right;\n",
              "    }\n",
              "</style>\n",
              "<table border=\"1\" class=\"dataframe\">\n",
              "  <thead>\n",
              "    <tr style=\"text-align: right;\">\n",
              "      <th></th>\n",
              "      <th>income</th>\n",
              "    </tr>\n",
              "  </thead>\n",
              "  <tbody>\n",
              "    <tr>\n",
              "      <th>0</th>\n",
              "      <td>False</td>\n",
              "    </tr>\n",
              "    <tr>\n",
              "      <th>1</th>\n",
              "      <td>False</td>\n",
              "    </tr>\n",
              "    <tr>\n",
              "      <th>2</th>\n",
              "      <td>True</td>\n",
              "    </tr>\n",
              "    <tr>\n",
              "      <th>3</th>\n",
              "      <td>True</td>\n",
              "    </tr>\n",
              "    <tr>\n",
              "      <th>4</th>\n",
              "      <td>False</td>\n",
              "    </tr>\n",
              "    <tr>\n",
              "      <th>...</th>\n",
              "      <td>...</td>\n",
              "    </tr>\n",
              "    <tr>\n",
              "      <th>48837</th>\n",
              "      <td>False</td>\n",
              "    </tr>\n",
              "    <tr>\n",
              "      <th>48838</th>\n",
              "      <td>True</td>\n",
              "    </tr>\n",
              "    <tr>\n",
              "      <th>48839</th>\n",
              "      <td>False</td>\n",
              "    </tr>\n",
              "    <tr>\n",
              "      <th>48840</th>\n",
              "      <td>False</td>\n",
              "    </tr>\n",
              "    <tr>\n",
              "      <th>48841</th>\n",
              "      <td>True</td>\n",
              "    </tr>\n",
              "  </tbody>\n",
              "</table>\n",
              "<p>48842 rows × 1 columns</p>\n",
              "</div>\n",
              "    <div class=\"colab-df-buttons\">\n",
              "\n",
              "  <div class=\"colab-df-container\">\n",
              "    <button class=\"colab-df-convert\" onclick=\"convertToInteractive('df-2baf2080-c11e-407d-94d0-a40fa0a89324')\"\n",
              "            title=\"Convert this dataframe to an interactive table.\"\n",
              "            style=\"display:none;\">\n",
              "\n",
              "  <svg xmlns=\"http://www.w3.org/2000/svg\" height=\"24px\" viewBox=\"0 -960 960 960\">\n",
              "    <path d=\"M120-120v-720h720v720H120Zm60-500h600v-160H180v160Zm220 220h160v-160H400v160Zm0 220h160v-160H400v160ZM180-400h160v-160H180v160Zm440 0h160v-160H620v160ZM180-180h160v-160H180v160Zm440 0h160v-160H620v160Z\"/>\n",
              "  </svg>\n",
              "    </button>\n",
              "\n",
              "  <style>\n",
              "    .colab-df-container {\n",
              "      display:flex;\n",
              "      gap: 12px;\n",
              "    }\n",
              "\n",
              "    .colab-df-convert {\n",
              "      background-color: #E8F0FE;\n",
              "      border: none;\n",
              "      border-radius: 50%;\n",
              "      cursor: pointer;\n",
              "      display: none;\n",
              "      fill: #1967D2;\n",
              "      height: 32px;\n",
              "      padding: 0 0 0 0;\n",
              "      width: 32px;\n",
              "    }\n",
              "\n",
              "    .colab-df-convert:hover {\n",
              "      background-color: #E2EBFA;\n",
              "      box-shadow: 0px 1px 2px rgba(60, 64, 67, 0.3), 0px 1px 3px 1px rgba(60, 64, 67, 0.15);\n",
              "      fill: #174EA6;\n",
              "    }\n",
              "\n",
              "    .colab-df-buttons div {\n",
              "      margin-bottom: 4px;\n",
              "    }\n",
              "\n",
              "    [theme=dark] .colab-df-convert {\n",
              "      background-color: #3B4455;\n",
              "      fill: #D2E3FC;\n",
              "    }\n",
              "\n",
              "    [theme=dark] .colab-df-convert:hover {\n",
              "      background-color: #434B5C;\n",
              "      box-shadow: 0px 1px 3px 1px rgba(0, 0, 0, 0.15);\n",
              "      filter: drop-shadow(0px 1px 2px rgba(0, 0, 0, 0.3));\n",
              "      fill: #FFFFFF;\n",
              "    }\n",
              "  </style>\n",
              "\n",
              "    <script>\n",
              "      const buttonEl =\n",
              "        document.querySelector('#df-2baf2080-c11e-407d-94d0-a40fa0a89324 button.colab-df-convert');\n",
              "      buttonEl.style.display =\n",
              "        google.colab.kernel.accessAllowed ? 'block' : 'none';\n",
              "\n",
              "      async function convertToInteractive(key) {\n",
              "        const element = document.querySelector('#df-2baf2080-c11e-407d-94d0-a40fa0a89324');\n",
              "        const dataTable =\n",
              "          await google.colab.kernel.invokeFunction('convertToInteractive',\n",
              "                                                    [key], {});\n",
              "        if (!dataTable) return;\n",
              "\n",
              "        const docLinkHtml = 'Like what you see? Visit the ' +\n",
              "          '<a target=\"_blank\" href=https://colab.research.google.com/notebooks/data_table.ipynb>data table notebook</a>'\n",
              "          + ' to learn more about interactive tables.';\n",
              "        element.innerHTML = '';\n",
              "        dataTable['output_type'] = 'display_data';\n",
              "        await google.colab.output.renderOutput(dataTable, element);\n",
              "        const docLink = document.createElement('div');\n",
              "        docLink.innerHTML = docLinkHtml;\n",
              "        element.appendChild(docLink);\n",
              "      }\n",
              "    </script>\n",
              "  </div>\n",
              "\n",
              "\n",
              "<div id=\"df-c98757cb-6fef-44a5-b0b9-56a19bb53361\">\n",
              "  <button class=\"colab-df-quickchart\" onclick=\"quickchart('df-c98757cb-6fef-44a5-b0b9-56a19bb53361')\"\n",
              "            title=\"Suggest charts.\"\n",
              "            style=\"display:none;\">\n",
              "\n",
              "<svg xmlns=\"http://www.w3.org/2000/svg\" height=\"24px\"viewBox=\"0 0 24 24\"\n",
              "     width=\"24px\">\n",
              "    <g>\n",
              "        <path d=\"M19 3H5c-1.1 0-2 .9-2 2v14c0 1.1.9 2 2 2h14c1.1 0 2-.9 2-2V5c0-1.1-.9-2-2-2zM9 17H7v-7h2v7zm4 0h-2V7h2v10zm4 0h-2v-4h2v4z\"/>\n",
              "    </g>\n",
              "</svg>\n",
              "  </button>\n",
              "\n",
              "<style>\n",
              "  .colab-df-quickchart {\n",
              "      --bg-color: #E8F0FE;\n",
              "      --fill-color: #1967D2;\n",
              "      --hover-bg-color: #E2EBFA;\n",
              "      --hover-fill-color: #174EA6;\n",
              "      --disabled-fill-color: #AAA;\n",
              "      --disabled-bg-color: #DDD;\n",
              "  }\n",
              "\n",
              "  [theme=dark] .colab-df-quickchart {\n",
              "      --bg-color: #3B4455;\n",
              "      --fill-color: #D2E3FC;\n",
              "      --hover-bg-color: #434B5C;\n",
              "      --hover-fill-color: #FFFFFF;\n",
              "      --disabled-bg-color: #3B4455;\n",
              "      --disabled-fill-color: #666;\n",
              "  }\n",
              "\n",
              "  .colab-df-quickchart {\n",
              "    background-color: var(--bg-color);\n",
              "    border: none;\n",
              "    border-radius: 50%;\n",
              "    cursor: pointer;\n",
              "    display: none;\n",
              "    fill: var(--fill-color);\n",
              "    height: 32px;\n",
              "    padding: 0;\n",
              "    width: 32px;\n",
              "  }\n",
              "\n",
              "  .colab-df-quickchart:hover {\n",
              "    background-color: var(--hover-bg-color);\n",
              "    box-shadow: 0 1px 2px rgba(60, 64, 67, 0.3), 0 1px 3px 1px rgba(60, 64, 67, 0.15);\n",
              "    fill: var(--button-hover-fill-color);\n",
              "  }\n",
              "\n",
              "  .colab-df-quickchart-complete:disabled,\n",
              "  .colab-df-quickchart-complete:disabled:hover {\n",
              "    background-color: var(--disabled-bg-color);\n",
              "    fill: var(--disabled-fill-color);\n",
              "    box-shadow: none;\n",
              "  }\n",
              "\n",
              "  .colab-df-spinner {\n",
              "    border: 2px solid var(--fill-color);\n",
              "    border-color: transparent;\n",
              "    border-bottom-color: var(--fill-color);\n",
              "    animation:\n",
              "      spin 1s steps(1) infinite;\n",
              "  }\n",
              "\n",
              "  @keyframes spin {\n",
              "    0% {\n",
              "      border-color: transparent;\n",
              "      border-bottom-color: var(--fill-color);\n",
              "      border-left-color: var(--fill-color);\n",
              "    }\n",
              "    20% {\n",
              "      border-color: transparent;\n",
              "      border-left-color: var(--fill-color);\n",
              "      border-top-color: var(--fill-color);\n",
              "    }\n",
              "    30% {\n",
              "      border-color: transparent;\n",
              "      border-left-color: var(--fill-color);\n",
              "      border-top-color: var(--fill-color);\n",
              "      border-right-color: var(--fill-color);\n",
              "    }\n",
              "    40% {\n",
              "      border-color: transparent;\n",
              "      border-right-color: var(--fill-color);\n",
              "      border-top-color: var(--fill-color);\n",
              "    }\n",
              "    60% {\n",
              "      border-color: transparent;\n",
              "      border-right-color: var(--fill-color);\n",
              "    }\n",
              "    80% {\n",
              "      border-color: transparent;\n",
              "      border-right-color: var(--fill-color);\n",
              "      border-bottom-color: var(--fill-color);\n",
              "    }\n",
              "    90% {\n",
              "      border-color: transparent;\n",
              "      border-bottom-color: var(--fill-color);\n",
              "    }\n",
              "  }\n",
              "</style>\n",
              "\n",
              "  <script>\n",
              "    async function quickchart(key) {\n",
              "      const quickchartButtonEl =\n",
              "        document.querySelector('#' + key + ' button');\n",
              "      quickchartButtonEl.disabled = true;  // To prevent multiple clicks.\n",
              "      quickchartButtonEl.classList.add('colab-df-spinner');\n",
              "      try {\n",
              "        const charts = await google.colab.kernel.invokeFunction(\n",
              "            'suggestCharts', [key], {});\n",
              "      } catch (error) {\n",
              "        console.error('Error during call to suggestCharts:', error);\n",
              "      }\n",
              "      quickchartButtonEl.classList.remove('colab-df-spinner');\n",
              "      quickchartButtonEl.classList.add('colab-df-quickchart-complete');\n",
              "    }\n",
              "    (() => {\n",
              "      let quickchartButtonEl =\n",
              "        document.querySelector('#df-c98757cb-6fef-44a5-b0b9-56a19bb53361 button');\n",
              "      quickchartButtonEl.style.display =\n",
              "        google.colab.kernel.accessAllowed ? 'block' : 'none';\n",
              "    })();\n",
              "  </script>\n",
              "</div>\n",
              "    </div>\n",
              "  </div>\n"
            ]
          },
          "metadata": {},
          "execution_count": 22
        }
      ]
    },
    {
      "cell_type": "markdown",
      "source": [
        "We end up with 12 explanatory variables - 5 numerical and 7 categorical - and 1 label."
      ],
      "metadata": {
        "id": "BWkssdZGERRj"
      }
    },
    {
      "cell_type": "code",
      "source": [
        "from sklearn.model_selection import train_test_split\n",
        "RANDOM_STATE=1337\n",
        "X_train, X_test, y_train, y_test = train_test_split(X,  y, test_size=0.1, random_state=RANDOM_STATE)"
      ],
      "metadata": {
        "id": "bz6fJKEQEQix"
      },
      "execution_count": 23,
      "outputs": []
    },
    {
      "cell_type": "code",
      "source": [
        "X_train.dtypes"
      ],
      "metadata": {
        "colab": {
          "base_uri": "https://localhost:8080/"
        },
        "id": "ovG7NHkXEuPA",
        "outputId": "c402a3d2-8089-41c3-e22a-3a753314481a"
      },
      "execution_count": 24,
      "outputs": [
        {
          "output_type": "execute_result",
          "data": {
            "text/plain": [
              "age                 int64\n",
              "workclass          object\n",
              "educational-num     int64\n",
              "marital-status     object\n",
              "occupation         object\n",
              "relationship       object\n",
              "race               object\n",
              "gender             object\n",
              "capital-gain        int64\n",
              "capital-loss        int64\n",
              "hours-per-week      int64\n",
              "us-native            bool\n",
              "dtype: object"
            ]
          },
          "metadata": {},
          "execution_count": 24
        }
      ]
    },
    {
      "cell_type": "code",
      "source": [
        "y_train.dtypes"
      ],
      "metadata": {
        "colab": {
          "base_uri": "https://localhost:8080/"
        },
        "id": "H9JDaxvxE99O",
        "outputId": "36490b7e-cb48-49ee-f0fa-23d077c40e30"
      },
      "execution_count": 25,
      "outputs": [
        {
          "output_type": "execute_result",
          "data": {
            "text/plain": [
              "income    bool\n",
              "dtype: object"
            ]
          },
          "metadata": {},
          "execution_count": 25
        }
      ]
    },
    {
      "cell_type": "code",
      "source": [
        "df.dtypes"
      ],
      "metadata": {
        "colab": {
          "base_uri": "https://localhost:8080/"
        },
        "id": "G3eBB7tLFBrB",
        "outputId": "16118c5e-bd00-43d2-9459-e1ac28b28a06"
      },
      "execution_count": 26,
      "outputs": [
        {
          "output_type": "execute_result",
          "data": {
            "text/plain": [
              "age                 int64\n",
              "workclass          object\n",
              "educational-num     int64\n",
              "marital-status     object\n",
              "occupation         object\n",
              "relationship       object\n",
              "race               object\n",
              "gender             object\n",
              "capital-gain        int64\n",
              "capital-loss        int64\n",
              "hours-per-week      int64\n",
              "income               bool\n",
              "us-native            bool\n",
              "dtype: object"
            ]
          },
          "metadata": {},
          "execution_count": 26
        }
      ]
    },
    {
      "cell_type": "code",
      "source": [
        "numerical_columns = ['age', 'educational-num', 'capital-gain', 'capital-loss', 'hours-per-week']\n",
        "categorical_columns = ['workclass', 'marital-status', 'occupation', 'relationship', 'race', 'gender', 'us-native']"
      ],
      "metadata": {
        "id": "73D7VAOeHp6W"
      },
      "execution_count": 27,
      "outputs": []
    },
    {
      "cell_type": "code",
      "source": [
        "from sklearn.linear_model import LogisticRegression\n",
        "from sklearn.metrics import accuracy_score\n",
        "from sklearn.compose import ColumnTransformer\n",
        "from sklearn.pipeline import Pipeline\n",
        "from sklearn.preprocessing import StandardScaler, OneHotEncoder\n",
        "import numpy as np\n",
        "\n",
        "def get_logreg():\n",
        "\n",
        "  numeric_transformer = Pipeline(steps=[\n",
        "      ('scaler', StandardScaler())\n",
        "  ])\n",
        "\n",
        "  categorical_transformer = Pipeline(steps=[\n",
        "      ('onehot', OneHotEncoder())\n",
        "  ])\n",
        "\n",
        "  preprocessor = ColumnTransformer(\n",
        "      transformers=[\n",
        "          ('num', numeric_transformer, numerical_columns),\n",
        "          ('cat', categorical_transformer, categorical_columns)\n",
        "      ])\n",
        "\n",
        "  pipeline = Pipeline(steps=[\n",
        "      ('preprocessor', preprocessor),\n",
        "      ('model', LogisticRegression())\n",
        "  ])\n",
        "\n",
        "  return pipeline"
      ],
      "metadata": {
        "id": "3xzIrnYiFEwk"
      },
      "execution_count": 28,
      "outputs": []
    },
    {
      "cell_type": "code",
      "source": [
        "from sklearn.metrics import make_scorer, accuracy_score, precision_score, recall_score, f1_score, roc_auc_score\n",
        "\n",
        "def score_set(true, pred, prob):\n",
        "  accuracy = accuracy_score(true, pred)\n",
        "  precision = precision_score(true, pred)\n",
        "  recall = recall_score(true, pred)\n",
        "  f1 = f1_score(true, pred)\n",
        "  rocauc = roc_auc_score(true, prob)\n",
        "\n",
        "  print(\"Accuracy Score:\", accuracy)\n",
        "  print(\"Precision Score:\", precision)\n",
        "  print(\"Recall Score:\", recall)\n",
        "  print(\"F1 Score:\", f1)\n",
        "  print(\"AUC-ROC Score:\", rocauc)\n",
        "\n",
        "\n",
        "def score_single(model, xtrain, ytrain, xtest, ytest):\n",
        "  model.fit(xtrain, ytrain)\n",
        "\n",
        "  train_pred = model.predict(xtrain)\n",
        "  train_prob = model.predict_proba(xtrain)[:, 1]\n",
        "\n",
        "  test_pred = model.predict(xtest)\n",
        "  test_prob = model.predict_proba(xtest)[:, 1]\n",
        "\n",
        "  print(\"TRAIN:\")\n",
        "  score_set(ytrain, train_pred, train_prob)\n",
        "\n",
        "  print(\"TEST:\")\n",
        "  score_set(ytest, test_pred, test_prob)\n"
      ],
      "metadata": {
        "id": "PHbsTUbaGjtw"
      },
      "execution_count": 29,
      "outputs": []
    },
    {
      "cell_type": "code",
      "source": [
        "np.random.seed(RANDOM_STATE)\n",
        "res = score_single(get_logreg(), X_train, y_train, X_test, y_test)\n"
      ],
      "metadata": {
        "colab": {
          "base_uri": "https://localhost:8080/"
        },
        "id": "ZzCPsG4eIzFW",
        "outputId": "e535c76e-4e9d-410b-ede4-b177ba8f0e14"
      },
      "execution_count": 30,
      "outputs": [
        {
          "output_type": "stream",
          "name": "stderr",
          "text": [
            "/usr/local/lib/python3.10/dist-packages/sklearn/utils/validation.py:1143: DataConversionWarning: A column-vector y was passed when a 1d array was expected. Please change the shape of y to (n_samples, ), for example using ravel().\n",
            "  y = column_or_1d(y, warn=True)\n",
            "/usr/local/lib/python3.10/dist-packages/sklearn/linear_model/_logistic.py:458: ConvergenceWarning: lbfgs failed to converge (status=1):\n",
            "STOP: TOTAL NO. of ITERATIONS REACHED LIMIT.\n",
            "\n",
            "Increase the number of iterations (max_iter) or scale the data as shown in:\n",
            "    https://scikit-learn.org/stable/modules/preprocessing.html\n",
            "Please also refer to the documentation for alternative solver options:\n",
            "    https://scikit-learn.org/stable/modules/linear_model.html#logistic-regression\n",
            "  n_iter_i = _check_optimize_result(\n"
          ]
        },
        {
          "output_type": "stream",
          "name": "stdout",
          "text": [
            "TRAIN:\n",
            "Accuracy Score: 0.8516732261073322\n",
            "Precision Score: 0.7343040186371579\n",
            "Recall Score: 0.5979322773404154\n",
            "F1 Score: 0.6591384358009201\n",
            "AUC-ROC Score: 0.9067685093281694\n",
            "TEST:\n",
            "Accuracy Score: 0.8552712384851586\n",
            "Precision Score: 0.7250257466529351\n",
            "Recall Score: 0.6153846153846154\n",
            "F1 Score: 0.6657210401891253\n",
            "AUC-ROC Score: 0.9067153943356829\n"
          ]
        }
      ]
    },
    {
      "cell_type": "code",
      "source": [
        "import dalex as dx\n",
        "\n",
        "model = get_logreg()\n",
        "model.fit(X_train, y_train)\n",
        "explainer = dx.Explainer(model, X_test, y_test, label='Logistic Regression')\n",
        "explainer.model_performance()"
      ],
      "metadata": {
        "colab": {
          "base_uri": "https://localhost:8080/",
          "height": 552
        },
        "id": "ZYK4B3RRJMlN",
        "outputId": "479805e4-5606-45ee-ffa1-accf38516f0c"
      },
      "execution_count": 31,
      "outputs": [
        {
          "output_type": "stream",
          "name": "stderr",
          "text": [
            "/usr/local/lib/python3.10/dist-packages/sklearn/utils/validation.py:1143: DataConversionWarning: A column-vector y was passed when a 1d array was expected. Please change the shape of y to (n_samples, ), for example using ravel().\n",
            "  y = column_or_1d(y, warn=True)\n"
          ]
        },
        {
          "output_type": "stream",
          "name": "stdout",
          "text": [
            "Preparation of a new explainer is initiated\n",
            "\n",
            "  -> data              : 4885 rows 12 cols\n",
            "  -> target variable   : Parameter 'y' was a pandas.DataFrame. Converted to a numpy.ndarray.\n",
            "  -> target variable   : 4885 values\n",
            "  -> model_class       : sklearn.linear_model._logistic.LogisticRegression (default)\n",
            "  -> label             : Logistic Regression\n",
            "  -> predict function  : <function yhat_proba_default at 0x7e83ccd28790> will be used (default)\n",
            "  -> predict function  : Accepts only pandas.DataFrame, numpy.ndarray causes problems.\n",
            "  -> predicted values  : min = 0.000224, mean = 0.24, max = 1.0\n",
            "  -> model type        : classification will be used (default)\n",
            "  -> residual function : difference between y and yhat (default)\n",
            "  -> residuals         : min = -1.0, mean = -0.0057, max = 0.998\n",
            "  -> model_info        : package sklearn\n",
            "\n",
            "A new explainer has been created!\n"
          ]
        },
        {
          "output_type": "stream",
          "name": "stderr",
          "text": [
            "/usr/local/lib/python3.10/dist-packages/sklearn/linear_model/_logistic.py:458: ConvergenceWarning: lbfgs failed to converge (status=1):\n",
            "STOP: TOTAL NO. of ITERATIONS REACHED LIMIT.\n",
            "\n",
            "Increase the number of iterations (max_iter) or scale the data as shown in:\n",
            "    https://scikit-learn.org/stable/modules/preprocessing.html\n",
            "Please also refer to the documentation for alternative solver options:\n",
            "    https://scikit-learn.org/stable/modules/linear_model.html#logistic-regression\n",
            "  n_iter_i = _check_optimize_result(\n"
          ]
        },
        {
          "output_type": "execute_result",
          "data": {
            "text/plain": [
              "<dalex.model_explanations._model_performance.object.ModelPerformance at 0x7e8411768580>"
            ],
            "text/html": [
              "<div>\n",
              "<style scoped>\n",
              "    .dataframe tbody tr th:only-of-type {\n",
              "        vertical-align: middle;\n",
              "    }\n",
              "\n",
              "    .dataframe tbody tr th {\n",
              "        vertical-align: top;\n",
              "    }\n",
              "\n",
              "    .dataframe thead th {\n",
              "        text-align: right;\n",
              "    }\n",
              "</style>\n",
              "<table border=\"1\" class=\"dataframe\">\n",
              "  <thead>\n",
              "    <tr style=\"text-align: right;\">\n",
              "      <th></th>\n",
              "      <th>recall</th>\n",
              "      <th>precision</th>\n",
              "      <th>f1</th>\n",
              "      <th>accuracy</th>\n",
              "      <th>auc</th>\n",
              "    </tr>\n",
              "  </thead>\n",
              "  <tbody>\n",
              "    <tr>\n",
              "      <th>Logistic Regression</th>\n",
              "      <td>0.615385</td>\n",
              "      <td>0.725026</td>\n",
              "      <td>0.665721</td>\n",
              "      <td>0.855271</td>\n",
              "      <td>0.906715</td>\n",
              "    </tr>\n",
              "  </tbody>\n",
              "</table>\n",
              "</div>"
            ]
          },
          "metadata": {},
          "execution_count": 31
        }
      ]
    },
    {
      "cell_type": "markdown",
      "source": [
        "I chose protected attribute: gender."
      ],
      "metadata": {
        "id": "UGp3_ktTMn6E"
      }
    },
    {
      "cell_type": "code",
      "source": [
        "X_train['gender'].value_counts()"
      ],
      "metadata": {
        "colab": {
          "base_uri": "https://localhost:8080/"
        },
        "id": "mcsuZxbVLRca",
        "outputId": "46283ae9-7bdc-491c-fde1-8194c358773c"
      },
      "execution_count": 32,
      "outputs": [
        {
          "output_type": "execute_result",
          "data": {
            "text/plain": [
              "Male      29424\n",
              "Female    14533\n",
              "Name: gender, dtype: int64"
            ]
          },
          "metadata": {},
          "execution_count": 32
        }
      ]
    },
    {
      "cell_type": "code",
      "source": [
        "fobject = explainer.model_fairness(protected=X_test['gender'], privileged=\"Male\")"
      ],
      "metadata": {
        "id": "Z9dbQB0FM3Iv"
      },
      "execution_count": 33,
      "outputs": []
    },
    {
      "cell_type": "code",
      "source": [
        "fobject.fairness_check()"
      ],
      "metadata": {
        "colab": {
          "base_uri": "https://localhost:8080/"
        },
        "id": "8k5fE34NNbti",
        "outputId": "7659a62c-5418-4cbf-b523-e0e86f29e16c"
      },
      "execution_count": 34,
      "outputs": [
        {
          "output_type": "stream",
          "name": "stdout",
          "text": [
            "Bias detected in 2 metrics: FPR, STP\n",
            "\n",
            "Conclusion: your model is not fair because 2 or more criteria exceeded acceptable limits set by epsilon.\n",
            "\n",
            "Ratios of metrics, based on 'Male'. Parameter 'epsilon' was set to 0.8 and therefore metrics should be within (0.8, 1.25)\n",
            "             TPR       ACC       PPV       FPR       STP\n",
            "Female  0.875598  1.149877  1.087866  0.169811  0.281369\n"
          ]
        }
      ]
    },
    {
      "cell_type": "markdown",
      "source": [
        "Equal opportunity: TPR\n",
        "Statistical parity: STP\n",
        "Positive predictive parity: PPV"
      ],
      "metadata": {
        "id": "fC-7U447N_HR"
      }
    },
    {
      "cell_type": "code",
      "source": [
        "fobject.plot()"
      ],
      "metadata": {
        "colab": {
          "base_uri": "https://localhost:8080/",
          "height": 542
        },
        "id": "IBhzxVh7Nm9R",
        "outputId": "e470c69c-e6f7-45d5-c3d9-24d3e4ae496d"
      },
      "execution_count": 35,
      "outputs": [
        {
          "output_type": "display_data",
          "data": {
            "text/html": [
              "<html>\n",
              "<head><meta charset=\"utf-8\" /></head>\n",
              "<body>\n",
              "    <div>            <script src=\"https://cdnjs.cloudflare.com/ajax/libs/mathjax/2.7.5/MathJax.js?config=TeX-AMS-MML_SVG\"></script><script type=\"text/javascript\">if (window.MathJax && window.MathJax.Hub && window.MathJax.Hub.Config) {window.MathJax.Hub.Config({SVG: {font: \"STIX-Web\"}});}</script>                <script type=\"text/javascript\">window.PlotlyConfig = {MathJaxConfig: 'local'};</script>\n",
              "        <script charset=\"utf-8\" src=\"https://cdn.plot.ly/plotly-2.24.1.min.js\"></script>                <div id=\"513a32fb-8c1c-4cc7-979d-228d868425f2\" class=\"plotly-graph-div\" style=\"height:525px; width:100%;\"></div>            <script type=\"text/javascript\">                                    window.PLOTLYENV=window.PLOTLYENV || {};                                    if (document.getElementById(\"513a32fb-8c1c-4cc7-979d-228d868425f2\")) {                    Plotly.newPlot(                        \"513a32fb-8c1c-4cc7-979d-228d868425f2\",                        [{\"alignmentgroup\":\"True\",\"customdata\":[[\"Female\",0.876,\"Logistic Regression\"]],\"hovertemplate\":\"\\u003cb\\u003e%{customdata[2]}\\u003c\\u002fb\\u003e\\u003cbr\\u003eSubgroup: %{customdata[0]}\\u003cbr\\u003eScore: %{customdata[1]}\\u003cbr\\u003e\\u003cextra\\u003e\\u003c\\u002fextra\\u003e\",\"legendgroup\":\"Logistic Regression\",\"marker\":{\"color\":\"#46bac2\",\"pattern\":{\"shape\":\"\"}},\"name\":\"Logistic Regression\",\"offsetgroup\":\"Logistic Regression\",\"orientation\":\"h\",\"showlegend\":true,\"textposition\":\"auto\",\"x\":[-0.12440191387559807],\"xaxis\":\"x5\",\"y\":[0.5],\"yaxis\":\"y5\",\"type\":\"bar\"},{\"alignmentgroup\":\"True\",\"customdata\":[[\"Female\",1.088,\"Logistic Regression\"]],\"hovertemplate\":\"\\u003cb\\u003e%{customdata[2]}\\u003c\\u002fb\\u003e\\u003cbr\\u003eSubgroup: %{customdata[0]}\\u003cbr\\u003eScore: %{customdata[1]}\\u003cbr\\u003e\\u003cextra\\u003e\\u003c\\u002fextra\\u003e\",\"legendgroup\":\"Logistic Regression\",\"marker\":{\"color\":\"#46bac2\",\"pattern\":{\"shape\":\"\"}},\"name\":\"Logistic Regression\",\"offsetgroup\":\"Logistic Regression\",\"orientation\":\"h\",\"showlegend\":false,\"textposition\":\"auto\",\"x\":[0.08786610878661105],\"xaxis\":\"x4\",\"y\":[0.5],\"yaxis\":\"y4\",\"type\":\"bar\"},{\"alignmentgroup\":\"True\",\"customdata\":[[\"Female\",0.17,\"Logistic Regression\"]],\"hovertemplate\":\"\\u003cb\\u003e%{customdata[2]}\\u003c\\u002fb\\u003e\\u003cbr\\u003eSubgroup: %{customdata[0]}\\u003cbr\\u003eScore: %{customdata[1]}\\u003cbr\\u003e\\u003cextra\\u003e\\u003c\\u002fextra\\u003e\",\"legendgroup\":\"Logistic Regression\",\"marker\":{\"color\":\"#46bac2\",\"pattern\":{\"shape\":\"\"}},\"name\":\"Logistic Regression\",\"offsetgroup\":\"Logistic Regression\",\"orientation\":\"h\",\"showlegend\":false,\"textposition\":\"auto\",\"x\":[-0.8301886792452831],\"xaxis\":\"x3\",\"y\":[0.5],\"yaxis\":\"y3\",\"type\":\"bar\"},{\"alignmentgroup\":\"True\",\"customdata\":[[\"Female\",1.15,\"Logistic Regression\"]],\"hovertemplate\":\"\\u003cb\\u003e%{customdata[2]}\\u003c\\u002fb\\u003e\\u003cbr\\u003eSubgroup: %{customdata[0]}\\u003cbr\\u003eScore: %{customdata[1]}\\u003cbr\\u003e\\u003cextra\\u003e\\u003c\\u002fextra\\u003e\",\"legendgroup\":\"Logistic Regression\",\"marker\":{\"color\":\"#46bac2\",\"pattern\":{\"shape\":\"\"}},\"name\":\"Logistic Regression\",\"offsetgroup\":\"Logistic Regression\",\"orientation\":\"h\",\"showlegend\":false,\"textposition\":\"auto\",\"x\":[0.14987714987715006],\"xaxis\":\"x2\",\"y\":[0.5],\"yaxis\":\"y2\",\"type\":\"bar\"},{\"alignmentgroup\":\"True\",\"customdata\":[[\"Female\",0.281,\"Logistic Regression\"]],\"hovertemplate\":\"\\u003cb\\u003e%{customdata[2]}\\u003c\\u002fb\\u003e\\u003cbr\\u003eSubgroup: %{customdata[0]}\\u003cbr\\u003eScore: %{customdata[1]}\\u003cbr\\u003e\\u003cextra\\u003e\\u003c\\u002fextra\\u003e\",\"legendgroup\":\"Logistic Regression\",\"marker\":{\"color\":\"#46bac2\",\"pattern\":{\"shape\":\"\"}},\"name\":\"Logistic Regression\",\"offsetgroup\":\"Logistic Regression\",\"orientation\":\"h\",\"showlegend\":false,\"textposition\":\"auto\",\"x\":[-0.7186311787072244],\"xaxis\":\"x\",\"y\":[0.5],\"yaxis\":\"y\",\"type\":\"bar\"}],                        {\"template\":{\"data\":{\"barpolar\":[{\"marker\":{\"line\":{\"color\":\"white\",\"width\":0.5},\"pattern\":{\"fillmode\":\"overlay\",\"size\":10,\"solidity\":0.2}},\"type\":\"barpolar\"}],\"bar\":[{\"error_x\":{\"color\":\"#2a3f5f\"},\"error_y\":{\"color\":\"#2a3f5f\"},\"marker\":{\"line\":{\"color\":\"white\",\"width\":0.5},\"pattern\":{\"fillmode\":\"overlay\",\"size\":10,\"solidity\":0.2}},\"type\":\"bar\"}],\"carpet\":[{\"aaxis\":{\"endlinecolor\":\"#2a3f5f\",\"gridcolor\":\"#C8D4E3\",\"linecolor\":\"#C8D4E3\",\"minorgridcolor\":\"#C8D4E3\",\"startlinecolor\":\"#2a3f5f\"},\"baxis\":{\"endlinecolor\":\"#2a3f5f\",\"gridcolor\":\"#C8D4E3\",\"linecolor\":\"#C8D4E3\",\"minorgridcolor\":\"#C8D4E3\",\"startlinecolor\":\"#2a3f5f\"},\"type\":\"carpet\"}],\"choropleth\":[{\"colorbar\":{\"outlinewidth\":0,\"ticks\":\"\"},\"type\":\"choropleth\"}],\"contourcarpet\":[{\"colorbar\":{\"outlinewidth\":0,\"ticks\":\"\"},\"type\":\"contourcarpet\"}],\"contour\":[{\"colorbar\":{\"outlinewidth\":0,\"ticks\":\"\"},\"colorscale\":[[0.0,\"#0d0887\"],[0.1111111111111111,\"#46039f\"],[0.2222222222222222,\"#7201a8\"],[0.3333333333333333,\"#9c179e\"],[0.4444444444444444,\"#bd3786\"],[0.5555555555555556,\"#d8576b\"],[0.6666666666666666,\"#ed7953\"],[0.7777777777777778,\"#fb9f3a\"],[0.8888888888888888,\"#fdca26\"],[1.0,\"#f0f921\"]],\"type\":\"contour\"}],\"heatmapgl\":[{\"colorbar\":{\"outlinewidth\":0,\"ticks\":\"\"},\"colorscale\":[[0.0,\"#0d0887\"],[0.1111111111111111,\"#46039f\"],[0.2222222222222222,\"#7201a8\"],[0.3333333333333333,\"#9c179e\"],[0.4444444444444444,\"#bd3786\"],[0.5555555555555556,\"#d8576b\"],[0.6666666666666666,\"#ed7953\"],[0.7777777777777778,\"#fb9f3a\"],[0.8888888888888888,\"#fdca26\"],[1.0,\"#f0f921\"]],\"type\":\"heatmapgl\"}],\"heatmap\":[{\"colorbar\":{\"outlinewidth\":0,\"ticks\":\"\"},\"colorscale\":[[0.0,\"#0d0887\"],[0.1111111111111111,\"#46039f\"],[0.2222222222222222,\"#7201a8\"],[0.3333333333333333,\"#9c179e\"],[0.4444444444444444,\"#bd3786\"],[0.5555555555555556,\"#d8576b\"],[0.6666666666666666,\"#ed7953\"],[0.7777777777777778,\"#fb9f3a\"],[0.8888888888888888,\"#fdca26\"],[1.0,\"#f0f921\"]],\"type\":\"heatmap\"}],\"histogram2dcontour\":[{\"colorbar\":{\"outlinewidth\":0,\"ticks\":\"\"},\"colorscale\":[[0.0,\"#0d0887\"],[0.1111111111111111,\"#46039f\"],[0.2222222222222222,\"#7201a8\"],[0.3333333333333333,\"#9c179e\"],[0.4444444444444444,\"#bd3786\"],[0.5555555555555556,\"#d8576b\"],[0.6666666666666666,\"#ed7953\"],[0.7777777777777778,\"#fb9f3a\"],[0.8888888888888888,\"#fdca26\"],[1.0,\"#f0f921\"]],\"type\":\"histogram2dcontour\"}],\"histogram2d\":[{\"colorbar\":{\"outlinewidth\":0,\"ticks\":\"\"},\"colorscale\":[[0.0,\"#0d0887\"],[0.1111111111111111,\"#46039f\"],[0.2222222222222222,\"#7201a8\"],[0.3333333333333333,\"#9c179e\"],[0.4444444444444444,\"#bd3786\"],[0.5555555555555556,\"#d8576b\"],[0.6666666666666666,\"#ed7953\"],[0.7777777777777778,\"#fb9f3a\"],[0.8888888888888888,\"#fdca26\"],[1.0,\"#f0f921\"]],\"type\":\"histogram2d\"}],\"histogram\":[{\"marker\":{\"pattern\":{\"fillmode\":\"overlay\",\"size\":10,\"solidity\":0.2}},\"type\":\"histogram\"}],\"mesh3d\":[{\"colorbar\":{\"outlinewidth\":0,\"ticks\":\"\"},\"type\":\"mesh3d\"}],\"parcoords\":[{\"line\":{\"colorbar\":{\"outlinewidth\":0,\"ticks\":\"\"}},\"type\":\"parcoords\"}],\"pie\":[{\"automargin\":true,\"type\":\"pie\"}],\"scatter3d\":[{\"line\":{\"colorbar\":{\"outlinewidth\":0,\"ticks\":\"\"}},\"marker\":{\"colorbar\":{\"outlinewidth\":0,\"ticks\":\"\"}},\"type\":\"scatter3d\"}],\"scattercarpet\":[{\"marker\":{\"colorbar\":{\"outlinewidth\":0,\"ticks\":\"\"}},\"type\":\"scattercarpet\"}],\"scattergeo\":[{\"marker\":{\"colorbar\":{\"outlinewidth\":0,\"ticks\":\"\"}},\"type\":\"scattergeo\"}],\"scattergl\":[{\"marker\":{\"colorbar\":{\"outlinewidth\":0,\"ticks\":\"\"}},\"type\":\"scattergl\"}],\"scattermapbox\":[{\"marker\":{\"colorbar\":{\"outlinewidth\":0,\"ticks\":\"\"}},\"type\":\"scattermapbox\"}],\"scatterpolargl\":[{\"marker\":{\"colorbar\":{\"outlinewidth\":0,\"ticks\":\"\"}},\"type\":\"scatterpolargl\"}],\"scatterpolar\":[{\"marker\":{\"colorbar\":{\"outlinewidth\":0,\"ticks\":\"\"}},\"type\":\"scatterpolar\"}],\"scatter\":[{\"fillpattern\":{\"fillmode\":\"overlay\",\"size\":10,\"solidity\":0.2},\"type\":\"scatter\"}],\"scatterternary\":[{\"marker\":{\"colorbar\":{\"outlinewidth\":0,\"ticks\":\"\"}},\"type\":\"scatterternary\"}],\"surface\":[{\"colorbar\":{\"outlinewidth\":0,\"ticks\":\"\"},\"colorscale\":[[0.0,\"#0d0887\"],[0.1111111111111111,\"#46039f\"],[0.2222222222222222,\"#7201a8\"],[0.3333333333333333,\"#9c179e\"],[0.4444444444444444,\"#bd3786\"],[0.5555555555555556,\"#d8576b\"],[0.6666666666666666,\"#ed7953\"],[0.7777777777777778,\"#fb9f3a\"],[0.8888888888888888,\"#fdca26\"],[1.0,\"#f0f921\"]],\"type\":\"surface\"}],\"table\":[{\"cells\":{\"fill\":{\"color\":\"#EBF0F8\"},\"line\":{\"color\":\"white\"}},\"header\":{\"fill\":{\"color\":\"#C8D4E3\"},\"line\":{\"color\":\"white\"}},\"type\":\"table\"}]},\"layout\":{\"annotationdefaults\":{\"arrowcolor\":\"#2a3f5f\",\"arrowhead\":0,\"arrowwidth\":1},\"autotypenumbers\":\"strict\",\"coloraxis\":{\"colorbar\":{\"outlinewidth\":0,\"ticks\":\"\"}},\"colorscale\":{\"diverging\":[[0,\"#8e0152\"],[0.1,\"#c51b7d\"],[0.2,\"#de77ae\"],[0.3,\"#f1b6da\"],[0.4,\"#fde0ef\"],[0.5,\"#f7f7f7\"],[0.6,\"#e6f5d0\"],[0.7,\"#b8e186\"],[0.8,\"#7fbc41\"],[0.9,\"#4d9221\"],[1,\"#276419\"]],\"sequential\":[[0.0,\"#0d0887\"],[0.1111111111111111,\"#46039f\"],[0.2222222222222222,\"#7201a8\"],[0.3333333333333333,\"#9c179e\"],[0.4444444444444444,\"#bd3786\"],[0.5555555555555556,\"#d8576b\"],[0.6666666666666666,\"#ed7953\"],[0.7777777777777778,\"#fb9f3a\"],[0.8888888888888888,\"#fdca26\"],[1.0,\"#f0f921\"]],\"sequentialminus\":[[0.0,\"#0d0887\"],[0.1111111111111111,\"#46039f\"],[0.2222222222222222,\"#7201a8\"],[0.3333333333333333,\"#9c179e\"],[0.4444444444444444,\"#bd3786\"],[0.5555555555555556,\"#d8576b\"],[0.6666666666666666,\"#ed7953\"],[0.7777777777777778,\"#fb9f3a\"],[0.8888888888888888,\"#fdca26\"],[1.0,\"#f0f921\"]]},\"colorway\":[\"#636efa\",\"#EF553B\",\"#00cc96\",\"#ab63fa\",\"#FFA15A\",\"#19d3f3\",\"#FF6692\",\"#B6E880\",\"#FF97FF\",\"#FECB52\"],\"font\":{\"color\":\"#2a3f5f\"},\"geo\":{\"bgcolor\":\"white\",\"lakecolor\":\"white\",\"landcolor\":\"white\",\"showlakes\":true,\"showland\":true,\"subunitcolor\":\"#C8D4E3\"},\"hoverlabel\":{\"align\":\"left\"},\"hovermode\":\"closest\",\"mapbox\":{\"style\":\"light\"},\"paper_bgcolor\":\"white\",\"plot_bgcolor\":\"white\",\"polar\":{\"angularaxis\":{\"gridcolor\":\"#EBF0F8\",\"linecolor\":\"#EBF0F8\",\"ticks\":\"\"},\"bgcolor\":\"white\",\"radialaxis\":{\"gridcolor\":\"#EBF0F8\",\"linecolor\":\"#EBF0F8\",\"ticks\":\"\"}},\"scene\":{\"xaxis\":{\"backgroundcolor\":\"white\",\"gridcolor\":\"#DFE8F3\",\"gridwidth\":2,\"linecolor\":\"#EBF0F8\",\"showbackground\":true,\"ticks\":\"\",\"zerolinecolor\":\"#EBF0F8\"},\"yaxis\":{\"backgroundcolor\":\"white\",\"gridcolor\":\"#DFE8F3\",\"gridwidth\":2,\"linecolor\":\"#EBF0F8\",\"showbackground\":true,\"ticks\":\"\",\"zerolinecolor\":\"#EBF0F8\"},\"zaxis\":{\"backgroundcolor\":\"white\",\"gridcolor\":\"#DFE8F3\",\"gridwidth\":2,\"linecolor\":\"#EBF0F8\",\"showbackground\":true,\"ticks\":\"\",\"zerolinecolor\":\"#EBF0F8\"}},\"shapedefaults\":{\"line\":{\"color\":\"#2a3f5f\"}},\"ternary\":{\"aaxis\":{\"gridcolor\":\"#DFE8F3\",\"linecolor\":\"#A2B1C6\",\"ticks\":\"\"},\"baxis\":{\"gridcolor\":\"#DFE8F3\",\"linecolor\":\"#A2B1C6\",\"ticks\":\"\"},\"bgcolor\":\"white\",\"caxis\":{\"gridcolor\":\"#DFE8F3\",\"linecolor\":\"#A2B1C6\",\"ticks\":\"\"}},\"title\":{\"x\":0.05},\"xaxis\":{\"automargin\":true,\"gridcolor\":\"#EBF0F8\",\"linecolor\":\"#EBF0F8\",\"ticks\":\"\",\"title\":{\"standoff\":15},\"zerolinecolor\":\"#EBF0F8\",\"zerolinewidth\":2},\"yaxis\":{\"automargin\":true,\"gridcolor\":\"#EBF0F8\",\"linecolor\":\"#EBF0F8\",\"ticks\":\"\",\"title\":{\"standoff\":15},\"zerolinecolor\":\"#EBF0F8\",\"zerolinewidth\":2}}},\"xaxis\":{\"anchor\":\"y\",\"domain\":[0.0,1.0],\"title\":{\"text\":\"score\"},\"tickvals\":[-1.0,-0.8,-0.6,-0.4,-0.19999999999999996,0.0,0.19999999999999996,0.0],\"ticktext\":[0.0,0.2,0.4,0.6,0.8,1.0,1.2,1.0],\"range\":[-0.9132075471698115,0.3]},\"yaxis\":{\"anchor\":\"x\",\"domain\":[0.0,0.144],\"title\":{\"text\":\"\"},\"tickvals\":[0.5],\"ticktext\":[\"Female\"],\"range\":[0,1],\"showgrid\":false,\"zeroline\":false},\"xaxis2\":{\"anchor\":\"y2\",\"domain\":[0.0,1.0],\"matches\":\"x\",\"showticklabels\":false,\"tickvals\":[-1.0,-0.8,-0.6,-0.4,-0.19999999999999996,0.0,0.19999999999999996,0.0],\"ticktext\":[0.0,0.2,0.4,0.6,0.8,1.0,1.2,1.0],\"range\":[-0.9132075471698115,0.3]},\"yaxis2\":{\"anchor\":\"x2\",\"domain\":[0.214,0.358],\"matches\":\"y\",\"title\":{\"text\":\"\"},\"tickvals\":[0.5],\"ticktext\":[\"Female\"],\"range\":[0,1],\"showgrid\":false,\"zeroline\":false},\"xaxis3\":{\"anchor\":\"y3\",\"domain\":[0.0,1.0],\"matches\":\"x\",\"showticklabels\":false,\"tickvals\":[-1.0,-0.8,-0.6,-0.4,-0.19999999999999996,0.0,0.19999999999999996,0.0],\"ticktext\":[0.0,0.2,0.4,0.6,0.8,1.0,1.2,1.0],\"range\":[-0.9132075471698115,0.3]},\"yaxis3\":{\"anchor\":\"x3\",\"domain\":[0.428,0.572],\"matches\":\"y\",\"title\":{\"text\":\"subgroup\"},\"tickvals\":[0.5],\"ticktext\":[\"Female\"],\"range\":[0,1],\"showgrid\":false,\"zeroline\":false},\"xaxis4\":{\"anchor\":\"y4\",\"domain\":[0.0,1.0],\"matches\":\"x\",\"showticklabels\":false,\"tickvals\":[-1.0,-0.8,-0.6,-0.4,-0.19999999999999996,0.0,0.19999999999999996,0.0],\"ticktext\":[0.0,0.2,0.4,0.6,0.8,1.0,1.2,1.0],\"range\":[-0.9132075471698115,0.3]},\"yaxis4\":{\"anchor\":\"x4\",\"domain\":[0.6419999999999999,0.7859999999999999],\"matches\":\"y\",\"title\":{\"text\":\"\"},\"tickvals\":[0.5],\"ticktext\":[\"Female\"],\"range\":[0,1],\"showgrid\":false,\"zeroline\":false},\"xaxis5\":{\"anchor\":\"y5\",\"domain\":[0.0,1.0],\"matches\":\"x\",\"showticklabels\":false,\"tickvals\":[-1.0,-0.8,-0.6,-0.4,-0.19999999999999996,0.0,0.19999999999999996,0.0],\"ticktext\":[0.0,0.2,0.4,0.6,0.8,1.0,1.2,1.0],\"range\":[-0.9132075471698115,0.3]},\"yaxis5\":{\"anchor\":\"x5\",\"domain\":[0.856,1.0],\"matches\":\"y\",\"title\":{\"text\":\"\"},\"tickvals\":[0.5],\"ticktext\":[\"Female\"],\"range\":[0,1],\"showgrid\":false,\"zeroline\":false},\"annotations\":[{\"font\":{\"size\":15},\"showarrow\":false,\"text\":\"Statistical parity ratio   (TP + FP)\\u002f(TP + FP + TN + FN)\",\"x\":0.05,\"xanchor\":\"left\",\"xref\":\"paper\",\"y\":0.144,\"yanchor\":\"bottom\",\"yref\":\"paper\"},{\"font\":{\"size\":15},\"showarrow\":false,\"text\":\"Accuracy equality ratio    (TP + TN)\\u002f(TP + FP + TN + FN)\",\"x\":0.05,\"xanchor\":\"left\",\"xref\":\"paper\",\"y\":0.358,\"yanchor\":\"bottom\",\"yref\":\"paper\"},{\"font\":{\"size\":15},\"showarrow\":false,\"text\":\"Predictive equality ratio   FP\\u002f(FP + TN)\",\"x\":0.05,\"xanchor\":\"left\",\"xref\":\"paper\",\"y\":0.572,\"yanchor\":\"bottom\",\"yref\":\"paper\"},{\"font\":{\"size\":15},\"showarrow\":false,\"text\":\"Predictive parity ratio     TP\\u002f(TP + FP)\",\"x\":0.05,\"xanchor\":\"left\",\"xref\":\"paper\",\"y\":0.7859999999999999,\"yanchor\":\"bottom\",\"yref\":\"paper\"},{\"font\":{\"size\":15},\"showarrow\":false,\"text\":\"Equal opportunity ratio     TP\\u002f(TP + FN)\",\"x\":0.05,\"xanchor\":\"left\",\"xref\":\"paper\",\"y\":1.0,\"yanchor\":\"bottom\",\"yref\":\"paper\"}],\"legend\":{\"title\":{\"text\":\"label\"},\"tracegroupgap\":0},\"margin\":{\"t\":78,\"b\":71,\"r\":30},\"barmode\":\"group\",\"shapes\":[{\"fillcolor\":\"#f05a71\",\"layer\":\"below\",\"line\":{\"width\":0},\"opacity\":0.1,\"type\":\"rect\",\"x0\":0.25,\"x1\":0.3,\"xref\":\"x\",\"y0\":0,\"y1\":1,\"yref\":\"y\"},{\"fillcolor\":\"#f05a71\",\"layer\":\"below\",\"line\":{\"width\":0},\"opacity\":0.1,\"type\":\"rect\",\"x0\":-0.9132075471698115,\"x1\":-0.19999999999999996,\"xref\":\"x\",\"y0\":0,\"y1\":1,\"yref\":\"y\"},{\"fillcolor\":\"#c7f5bf\",\"layer\":\"below\",\"line\":{\"width\":0},\"opacity\":0.1,\"type\":\"rect\",\"x0\":-0.19999999999999996,\"x1\":0.25,\"xref\":\"x\",\"y0\":0,\"y1\":1,\"yref\":\"y\"},{\"line\":{\"color\":\"#371ea3\",\"width\":1.5},\"type\":\"line\",\"x0\":0,\"x1\":0,\"xref\":\"x\",\"y0\":0,\"y1\":1,\"yref\":\"y\"},{\"fillcolor\":\"#f05a71\",\"layer\":\"below\",\"line\":{\"width\":0},\"opacity\":0.1,\"type\":\"rect\",\"x0\":0.25,\"x1\":0.3,\"xref\":\"x\",\"y0\":0,\"y1\":1,\"yref\":\"y2\"},{\"fillcolor\":\"#f05a71\",\"layer\":\"below\",\"line\":{\"width\":0},\"opacity\":0.1,\"type\":\"rect\",\"x0\":-0.9132075471698115,\"x1\":-0.19999999999999996,\"xref\":\"x\",\"y0\":0,\"y1\":1,\"yref\":\"y2\"},{\"fillcolor\":\"#c7f5bf\",\"layer\":\"below\",\"line\":{\"width\":0},\"opacity\":0.1,\"type\":\"rect\",\"x0\":-0.19999999999999996,\"x1\":0.25,\"xref\":\"x\",\"y0\":0,\"y1\":1,\"yref\":\"y2\"},{\"line\":{\"color\":\"#371ea3\",\"width\":1.5},\"type\":\"line\",\"x0\":0,\"x1\":0,\"xref\":\"x\",\"y0\":0,\"y1\":1,\"yref\":\"y2\"},{\"fillcolor\":\"#f05a71\",\"layer\":\"below\",\"line\":{\"width\":0},\"opacity\":0.1,\"type\":\"rect\",\"x0\":0.25,\"x1\":0.3,\"xref\":\"x\",\"y0\":0,\"y1\":1,\"yref\":\"y3\"},{\"fillcolor\":\"#f05a71\",\"layer\":\"below\",\"line\":{\"width\":0},\"opacity\":0.1,\"type\":\"rect\",\"x0\":-0.9132075471698115,\"x1\":-0.19999999999999996,\"xref\":\"x\",\"y0\":0,\"y1\":1,\"yref\":\"y3\"},{\"fillcolor\":\"#c7f5bf\",\"layer\":\"below\",\"line\":{\"width\":0},\"opacity\":0.1,\"type\":\"rect\",\"x0\":-0.19999999999999996,\"x1\":0.25,\"xref\":\"x\",\"y0\":0,\"y1\":1,\"yref\":\"y3\"},{\"line\":{\"color\":\"#371ea3\",\"width\":1.5},\"type\":\"line\",\"x0\":0,\"x1\":0,\"xref\":\"x\",\"y0\":0,\"y1\":1,\"yref\":\"y3\"},{\"fillcolor\":\"#f05a71\",\"layer\":\"below\",\"line\":{\"width\":0},\"opacity\":0.1,\"type\":\"rect\",\"x0\":0.25,\"x1\":0.3,\"xref\":\"x\",\"y0\":0,\"y1\":1,\"yref\":\"y4\"},{\"fillcolor\":\"#f05a71\",\"layer\":\"below\",\"line\":{\"width\":0},\"opacity\":0.1,\"type\":\"rect\",\"x0\":-0.9132075471698115,\"x1\":-0.19999999999999996,\"xref\":\"x\",\"y0\":0,\"y1\":1,\"yref\":\"y4\"},{\"fillcolor\":\"#c7f5bf\",\"layer\":\"below\",\"line\":{\"width\":0},\"opacity\":0.1,\"type\":\"rect\",\"x0\":-0.19999999999999996,\"x1\":0.25,\"xref\":\"x\",\"y0\":0,\"y1\":1,\"yref\":\"y4\"},{\"line\":{\"color\":\"#371ea3\",\"width\":1.5},\"type\":\"line\",\"x0\":0,\"x1\":0,\"xref\":\"x\",\"y0\":0,\"y1\":1,\"yref\":\"y4\"},{\"fillcolor\":\"#f05a71\",\"layer\":\"below\",\"line\":{\"width\":0},\"opacity\":0.1,\"type\":\"rect\",\"x0\":0.25,\"x1\":0.3,\"y0\":0,\"y1\":1,\"yref\":\"y5\",\"xref\":\"x\"},{\"fillcolor\":\"#f05a71\",\"layer\":\"below\",\"line\":{\"width\":0},\"opacity\":0.1,\"type\":\"rect\",\"x0\":-0.9132075471698115,\"x1\":-0.19999999999999996,\"y0\":0,\"y1\":1,\"yref\":\"y5\",\"xref\":\"x\"},{\"fillcolor\":\"#c7f5bf\",\"layer\":\"below\",\"line\":{\"width\":0},\"opacity\":0.1,\"type\":\"rect\",\"x0\":-0.19999999999999996,\"x1\":0.25,\"y0\":0,\"y1\":1,\"yref\":\"y5\",\"xref\":\"x\"},{\"line\":{\"color\":\"#371ea3\",\"width\":1.5},\"type\":\"line\",\"x0\":0,\"x1\":0,\"xref\":\"x\",\"y0\":0,\"y1\":1,\"yref\":\"y5\"}],\"title\":{\"font\":{\"size\":25},\"text\":\"Fairness Check\",\"x\":0.5,\"y\":0.99},\"font\":{\"color\":\"#371ea3\"}},                        {\"displaylogo\": false, \"staticPlot\": false, \"toImageButtonOptions\": {\"height\": null, \"width\": null}, \"modeBarButtonsToRemove\": [\"sendDataToCloud\", \"lasso2d\", \"autoScale2d\", \"select2d\", \"zoom2d\", \"pan2d\", \"zoomIn2d\", \"zoomOut2d\", \"resetScale2d\", \"toggleSpikelines\", \"hoverCompareCartesian\", \"hoverClosestCartesian\"], \"responsive\": true}                    ).then(function(){\n",
              "                            \n",
              "var gd = document.getElementById('513a32fb-8c1c-4cc7-979d-228d868425f2');\n",
              "var x = new MutationObserver(function (mutations, observer) {{\n",
              "        var display = window.getComputedStyle(gd).display;\n",
              "        if (!display || display === 'none') {{\n",
              "            console.log([gd, 'removed!']);\n",
              "            Plotly.purge(gd);\n",
              "            observer.disconnect();\n",
              "        }}\n",
              "}});\n",
              "\n",
              "// Listen for the removal of the full notebook cells\n",
              "var notebookContainer = gd.closest('#notebook-container');\n",
              "if (notebookContainer) {{\n",
              "    x.observe(notebookContainer, {childList: true});\n",
              "}}\n",
              "\n",
              "// Listen for the clearing of the current output cell\n",
              "var outputEl = gd.closest('.output');\n",
              "if (outputEl) {{\n",
              "    x.observe(outputEl, {childList: true});\n",
              "}}\n",
              "\n",
              "                        })                };                            </script>        </div>\n",
              "</body>\n",
              "</html>"
            ]
          },
          "metadata": {}
        }
      ]
    },
    {
      "cell_type": "markdown",
      "source": [
        "## Second model (balanced class weight, more iterations)"
      ],
      "metadata": {
        "id": "Dh6NYXaYRi8E"
      }
    },
    {
      "cell_type": "code",
      "source": [
        "def get_lr2():\n",
        "\n",
        "  numeric_transformer = Pipeline(steps=[\n",
        "      ('scaler', StandardScaler())\n",
        "  ])\n",
        "\n",
        "  categorical_transformer = Pipeline(steps=[\n",
        "      ('onehot', OneHotEncoder())\n",
        "  ])\n",
        "\n",
        "  preprocessor = ColumnTransformer(\n",
        "      transformers=[\n",
        "          ('num', numeric_transformer, numerical_columns),\n",
        "          ('cat', categorical_transformer, categorical_columns)\n",
        "      ])\n",
        "\n",
        "  pipeline = Pipeline(steps=[\n",
        "      ('preprocessor', preprocessor),\n",
        "      ('model', LogisticRegression(class_weight='balanced', max_iter=1000))\n",
        "  ])\n",
        "\n",
        "  return pipeline"
      ],
      "metadata": {
        "id": "FwqYF_tvOPev"
      },
      "execution_count": 36,
      "outputs": []
    },
    {
      "cell_type": "code",
      "source": [
        "model = get_lr2()\n",
        "model.fit(X_train, y_train)\n",
        "explainer = dx.Explainer(model, X_test, y_test, label='Logistic Regression')\n",
        "explainer.model_performance()\n",
        "fobject = explainer.model_fairness(protected=X_test['gender'], privileged=\"Male\")\n",
        "fobject.fairness_check()"
      ],
      "metadata": {
        "colab": {
          "base_uri": "https://localhost:8080/"
        },
        "id": "n9Gl3Z4jRVh2",
        "outputId": "5a24d8bc-41b5-404d-8597-29ef391eff84"
      },
      "execution_count": 37,
      "outputs": [
        {
          "output_type": "stream",
          "name": "stderr",
          "text": [
            "/usr/local/lib/python3.10/dist-packages/sklearn/utils/validation.py:1143: DataConversionWarning:\n",
            "\n",
            "A column-vector y was passed when a 1d array was expected. Please change the shape of y to (n_samples, ), for example using ravel().\n",
            "\n"
          ]
        },
        {
          "output_type": "stream",
          "name": "stdout",
          "text": [
            "Preparation of a new explainer is initiated\n",
            "\n",
            "  -> data              : 4885 rows 12 cols\n",
            "  -> target variable   : Parameter 'y' was a pandas.DataFrame. Converted to a numpy.ndarray.\n",
            "  -> target variable   : 4885 values\n",
            "  -> model_class       : sklearn.linear_model._logistic.LogisticRegression (default)\n",
            "  -> label             : Logistic Regression\n",
            "  -> predict function  : <function yhat_proba_default at 0x7e83ccd28790> will be used (default)\n",
            "  -> predict function  : Accepts only pandas.DataFrame, numpy.ndarray causes problems.\n",
            "  -> predicted values  : min = 0.000591, mean = 0.366, max = 1.0\n",
            "  -> model type        : classification will be used (default)\n",
            "  -> residual function : difference between y and yhat (default)\n",
            "  -> residuals         : min = -1.0, mean = -0.131, max = 0.994\n",
            "  -> model_info        : package sklearn\n",
            "\n",
            "A new explainer has been created!\n",
            "Bias detected in 2 metrics: FPR, STP\n",
            "\n",
            "Conclusion: your model is not fair because 2 or more criteria exceeded acceptable limits set by epsilon.\n",
            "\n",
            "Ratios of metrics, based on 'Male'. Parameter 'epsilon' was set to 0.8 and therefore metrics should be within (0.8, 1.25)\n",
            "             TPR       ACC       PPV       FPR       STP\n",
            "Female  0.926999  1.233023  1.111712  0.198653  0.293362\n"
          ]
        }
      ]
    },
    {
      "cell_type": "code",
      "source": [
        "explainer.model_performance()"
      ],
      "metadata": {
        "colab": {
          "base_uri": "https://localhost:8080/",
          "height": 81
        },
        "id": "iMsgmQkybf38",
        "outputId": "ac128ce1-33e8-4589-edfb-a8397f311859"
      },
      "execution_count": 38,
      "outputs": [
        {
          "output_type": "execute_result",
          "data": {
            "text/plain": [
              "<dalex.model_explanations._model_performance.object.ModelPerformance at 0x7e83c8992200>"
            ],
            "text/html": [
              "<div>\n",
              "<style scoped>\n",
              "    .dataframe tbody tr th:only-of-type {\n",
              "        vertical-align: middle;\n",
              "    }\n",
              "\n",
              "    .dataframe tbody tr th {\n",
              "        vertical-align: top;\n",
              "    }\n",
              "\n",
              "    .dataframe thead th {\n",
              "        text-align: right;\n",
              "    }\n",
              "</style>\n",
              "<table border=\"1\" class=\"dataframe\">\n",
              "  <thead>\n",
              "    <tr style=\"text-align: right;\">\n",
              "      <th></th>\n",
              "      <th>recall</th>\n",
              "      <th>precision</th>\n",
              "      <th>f1</th>\n",
              "      <th>accuracy</th>\n",
              "      <th>auc</th>\n",
              "    </tr>\n",
              "  </thead>\n",
              "  <tbody>\n",
              "    <tr>\n",
              "      <th>Logistic Regression</th>\n",
              "      <td>0.853147</td>\n",
              "      <td>0.56286</td>\n",
              "      <td>0.678249</td>\n",
              "      <td>0.81044</td>\n",
              "      <td>0.906672</td>\n",
              "    </tr>\n",
              "  </tbody>\n",
              "</table>\n",
              "</div>"
            ]
          },
          "metadata": {},
          "execution_count": 38
        }
      ]
    },
    {
      "cell_type": "code",
      "source": [
        "fobject.plot()"
      ],
      "metadata": {
        "colab": {
          "base_uri": "https://localhost:8080/",
          "height": 542
        },
        "id": "9VWsUc4ISve4",
        "outputId": "91557ab4-619e-4f4b-bf60-18480d3920ab"
      },
      "execution_count": 39,
      "outputs": [
        {
          "output_type": "display_data",
          "data": {
            "text/html": [
              "<html>\n",
              "<head><meta charset=\"utf-8\" /></head>\n",
              "<body>\n",
              "    <div>            <script src=\"https://cdnjs.cloudflare.com/ajax/libs/mathjax/2.7.5/MathJax.js?config=TeX-AMS-MML_SVG\"></script><script type=\"text/javascript\">if (window.MathJax && window.MathJax.Hub && window.MathJax.Hub.Config) {window.MathJax.Hub.Config({SVG: {font: \"STIX-Web\"}});}</script>                <script type=\"text/javascript\">window.PlotlyConfig = {MathJaxConfig: 'local'};</script>\n",
              "        <script charset=\"utf-8\" src=\"https://cdn.plot.ly/plotly-2.24.1.min.js\"></script>                <div id=\"6f19e225-06a6-402a-b56e-ade0d16d5de9\" class=\"plotly-graph-div\" style=\"height:525px; width:100%;\"></div>            <script type=\"text/javascript\">                                    window.PLOTLYENV=window.PLOTLYENV || {};                                    if (document.getElementById(\"6f19e225-06a6-402a-b56e-ade0d16d5de9\")) {                    Plotly.newPlot(                        \"6f19e225-06a6-402a-b56e-ade0d16d5de9\",                        [{\"alignmentgroup\":\"True\",\"customdata\":[[\"Female\",0.927,\"Logistic Regression\"]],\"hovertemplate\":\"\\u003cb\\u003e%{customdata[2]}\\u003c\\u002fb\\u003e\\u003cbr\\u003eSubgroup: %{customdata[0]}\\u003cbr\\u003eScore: %{customdata[1]}\\u003cbr\\u003e\\u003cextra\\u003e\\u003c\\u002fextra\\u003e\",\"legendgroup\":\"Logistic Regression\",\"marker\":{\"color\":\"#46bac2\",\"pattern\":{\"shape\":\"\"}},\"name\":\"Logistic Regression\",\"offsetgroup\":\"Logistic Regression\",\"orientation\":\"h\",\"showlegend\":true,\"textposition\":\"auto\",\"x\":[-0.07300115874855151],\"xaxis\":\"x5\",\"y\":[0.5],\"yaxis\":\"y5\",\"type\":\"bar\"},{\"alignmentgroup\":\"True\",\"customdata\":[[\"Female\",1.112,\"Logistic Regression\"]],\"hovertemplate\":\"\\u003cb\\u003e%{customdata[2]}\\u003c\\u002fb\\u003e\\u003cbr\\u003eSubgroup: %{customdata[0]}\\u003cbr\\u003eScore: %{customdata[1]}\\u003cbr\\u003e\\u003cextra\\u003e\\u003c\\u002fextra\\u003e\",\"legendgroup\":\"Logistic Regression\",\"marker\":{\"color\":\"#46bac2\",\"pattern\":{\"shape\":\"\"}},\"name\":\"Logistic Regression\",\"offsetgroup\":\"Logistic Regression\",\"orientation\":\"h\",\"showlegend\":false,\"textposition\":\"auto\",\"x\":[0.11171171171171168],\"xaxis\":\"x4\",\"y\":[0.5],\"yaxis\":\"y4\",\"type\":\"bar\"},{\"alignmentgroup\":\"True\",\"customdata\":[[\"Female\",0.199,\"Logistic Regression\"]],\"hovertemplate\":\"\\u003cb\\u003e%{customdata[2]}\\u003c\\u002fb\\u003e\\u003cbr\\u003eSubgroup: %{customdata[0]}\\u003cbr\\u003eScore: %{customdata[1]}\\u003cbr\\u003e\\u003cextra\\u003e\\u003c\\u002fextra\\u003e\",\"legendgroup\":\"Logistic Regression\",\"marker\":{\"color\":\"#46bac2\",\"pattern\":{\"shape\":\"\"}},\"name\":\"Logistic Regression\",\"offsetgroup\":\"Logistic Regression\",\"orientation\":\"h\",\"showlegend\":false,\"textposition\":\"auto\",\"x\":[-0.8013468013468014],\"xaxis\":\"x3\",\"y\":[0.5],\"yaxis\":\"y3\",\"type\":\"bar\"},{\"alignmentgroup\":\"True\",\"customdata\":[[\"Female\",1.233,\"Logistic Regression\"]],\"hovertemplate\":\"\\u003cb\\u003e%{customdata[2]}\\u003c\\u002fb\\u003e\\u003cbr\\u003eSubgroup: %{customdata[0]}\\u003cbr\\u003eScore: %{customdata[1]}\\u003cbr\\u003e\\u003cextra\\u003e\\u003c\\u002fextra\\u003e\",\"legendgroup\":\"Logistic Regression\",\"marker\":{\"color\":\"#46bac2\",\"pattern\":{\"shape\":\"\"}},\"name\":\"Logistic Regression\",\"offsetgroup\":\"Logistic Regression\",\"orientation\":\"h\",\"showlegend\":false,\"textposition\":\"auto\",\"x\":[0.23302263648468724],\"xaxis\":\"x2\",\"y\":[0.5],\"yaxis\":\"y2\",\"type\":\"bar\"},{\"alignmentgroup\":\"True\",\"customdata\":[[\"Female\",0.293,\"Logistic Regression\"]],\"hovertemplate\":\"\\u003cb\\u003e%{customdata[2]}\\u003c\\u002fb\\u003e\\u003cbr\\u003eSubgroup: %{customdata[0]}\\u003cbr\\u003eScore: %{customdata[1]}\\u003cbr\\u003e\\u003cextra\\u003e\\u003c\\u002fextra\\u003e\",\"legendgroup\":\"Logistic Regression\",\"marker\":{\"color\":\"#46bac2\",\"pattern\":{\"shape\":\"\"}},\"name\":\"Logistic Regression\",\"offsetgroup\":\"Logistic Regression\",\"orientation\":\"h\",\"showlegend\":false,\"textposition\":\"auto\",\"x\":[-0.7066381156316917],\"xaxis\":\"x\",\"y\":[0.5],\"yaxis\":\"y\",\"type\":\"bar\"}],                        {\"template\":{\"data\":{\"barpolar\":[{\"marker\":{\"line\":{\"color\":\"white\",\"width\":0.5},\"pattern\":{\"fillmode\":\"overlay\",\"size\":10,\"solidity\":0.2}},\"type\":\"barpolar\"}],\"bar\":[{\"error_x\":{\"color\":\"#2a3f5f\"},\"error_y\":{\"color\":\"#2a3f5f\"},\"marker\":{\"line\":{\"color\":\"white\",\"width\":0.5},\"pattern\":{\"fillmode\":\"overlay\",\"size\":10,\"solidity\":0.2}},\"type\":\"bar\"}],\"carpet\":[{\"aaxis\":{\"endlinecolor\":\"#2a3f5f\",\"gridcolor\":\"#C8D4E3\",\"linecolor\":\"#C8D4E3\",\"minorgridcolor\":\"#C8D4E3\",\"startlinecolor\":\"#2a3f5f\"},\"baxis\":{\"endlinecolor\":\"#2a3f5f\",\"gridcolor\":\"#C8D4E3\",\"linecolor\":\"#C8D4E3\",\"minorgridcolor\":\"#C8D4E3\",\"startlinecolor\":\"#2a3f5f\"},\"type\":\"carpet\"}],\"choropleth\":[{\"colorbar\":{\"outlinewidth\":0,\"ticks\":\"\"},\"type\":\"choropleth\"}],\"contourcarpet\":[{\"colorbar\":{\"outlinewidth\":0,\"ticks\":\"\"},\"type\":\"contourcarpet\"}],\"contour\":[{\"colorbar\":{\"outlinewidth\":0,\"ticks\":\"\"},\"colorscale\":[[0.0,\"#0d0887\"],[0.1111111111111111,\"#46039f\"],[0.2222222222222222,\"#7201a8\"],[0.3333333333333333,\"#9c179e\"],[0.4444444444444444,\"#bd3786\"],[0.5555555555555556,\"#d8576b\"],[0.6666666666666666,\"#ed7953\"],[0.7777777777777778,\"#fb9f3a\"],[0.8888888888888888,\"#fdca26\"],[1.0,\"#f0f921\"]],\"type\":\"contour\"}],\"heatmapgl\":[{\"colorbar\":{\"outlinewidth\":0,\"ticks\":\"\"},\"colorscale\":[[0.0,\"#0d0887\"],[0.1111111111111111,\"#46039f\"],[0.2222222222222222,\"#7201a8\"],[0.3333333333333333,\"#9c179e\"],[0.4444444444444444,\"#bd3786\"],[0.5555555555555556,\"#d8576b\"],[0.6666666666666666,\"#ed7953\"],[0.7777777777777778,\"#fb9f3a\"],[0.8888888888888888,\"#fdca26\"],[1.0,\"#f0f921\"]],\"type\":\"heatmapgl\"}],\"heatmap\":[{\"colorbar\":{\"outlinewidth\":0,\"ticks\":\"\"},\"colorscale\":[[0.0,\"#0d0887\"],[0.1111111111111111,\"#46039f\"],[0.2222222222222222,\"#7201a8\"],[0.3333333333333333,\"#9c179e\"],[0.4444444444444444,\"#bd3786\"],[0.5555555555555556,\"#d8576b\"],[0.6666666666666666,\"#ed7953\"],[0.7777777777777778,\"#fb9f3a\"],[0.8888888888888888,\"#fdca26\"],[1.0,\"#f0f921\"]],\"type\":\"heatmap\"}],\"histogram2dcontour\":[{\"colorbar\":{\"outlinewidth\":0,\"ticks\":\"\"},\"colorscale\":[[0.0,\"#0d0887\"],[0.1111111111111111,\"#46039f\"],[0.2222222222222222,\"#7201a8\"],[0.3333333333333333,\"#9c179e\"],[0.4444444444444444,\"#bd3786\"],[0.5555555555555556,\"#d8576b\"],[0.6666666666666666,\"#ed7953\"],[0.7777777777777778,\"#fb9f3a\"],[0.8888888888888888,\"#fdca26\"],[1.0,\"#f0f921\"]],\"type\":\"histogram2dcontour\"}],\"histogram2d\":[{\"colorbar\":{\"outlinewidth\":0,\"ticks\":\"\"},\"colorscale\":[[0.0,\"#0d0887\"],[0.1111111111111111,\"#46039f\"],[0.2222222222222222,\"#7201a8\"],[0.3333333333333333,\"#9c179e\"],[0.4444444444444444,\"#bd3786\"],[0.5555555555555556,\"#d8576b\"],[0.6666666666666666,\"#ed7953\"],[0.7777777777777778,\"#fb9f3a\"],[0.8888888888888888,\"#fdca26\"],[1.0,\"#f0f921\"]],\"type\":\"histogram2d\"}],\"histogram\":[{\"marker\":{\"pattern\":{\"fillmode\":\"overlay\",\"size\":10,\"solidity\":0.2}},\"type\":\"histogram\"}],\"mesh3d\":[{\"colorbar\":{\"outlinewidth\":0,\"ticks\":\"\"},\"type\":\"mesh3d\"}],\"parcoords\":[{\"line\":{\"colorbar\":{\"outlinewidth\":0,\"ticks\":\"\"}},\"type\":\"parcoords\"}],\"pie\":[{\"automargin\":true,\"type\":\"pie\"}],\"scatter3d\":[{\"line\":{\"colorbar\":{\"outlinewidth\":0,\"ticks\":\"\"}},\"marker\":{\"colorbar\":{\"outlinewidth\":0,\"ticks\":\"\"}},\"type\":\"scatter3d\"}],\"scattercarpet\":[{\"marker\":{\"colorbar\":{\"outlinewidth\":0,\"ticks\":\"\"}},\"type\":\"scattercarpet\"}],\"scattergeo\":[{\"marker\":{\"colorbar\":{\"outlinewidth\":0,\"ticks\":\"\"}},\"type\":\"scattergeo\"}],\"scattergl\":[{\"marker\":{\"colorbar\":{\"outlinewidth\":0,\"ticks\":\"\"}},\"type\":\"scattergl\"}],\"scattermapbox\":[{\"marker\":{\"colorbar\":{\"outlinewidth\":0,\"ticks\":\"\"}},\"type\":\"scattermapbox\"}],\"scatterpolargl\":[{\"marker\":{\"colorbar\":{\"outlinewidth\":0,\"ticks\":\"\"}},\"type\":\"scatterpolargl\"}],\"scatterpolar\":[{\"marker\":{\"colorbar\":{\"outlinewidth\":0,\"ticks\":\"\"}},\"type\":\"scatterpolar\"}],\"scatter\":[{\"fillpattern\":{\"fillmode\":\"overlay\",\"size\":10,\"solidity\":0.2},\"type\":\"scatter\"}],\"scatterternary\":[{\"marker\":{\"colorbar\":{\"outlinewidth\":0,\"ticks\":\"\"}},\"type\":\"scatterternary\"}],\"surface\":[{\"colorbar\":{\"outlinewidth\":0,\"ticks\":\"\"},\"colorscale\":[[0.0,\"#0d0887\"],[0.1111111111111111,\"#46039f\"],[0.2222222222222222,\"#7201a8\"],[0.3333333333333333,\"#9c179e\"],[0.4444444444444444,\"#bd3786\"],[0.5555555555555556,\"#d8576b\"],[0.6666666666666666,\"#ed7953\"],[0.7777777777777778,\"#fb9f3a\"],[0.8888888888888888,\"#fdca26\"],[1.0,\"#f0f921\"]],\"type\":\"surface\"}],\"table\":[{\"cells\":{\"fill\":{\"color\":\"#EBF0F8\"},\"line\":{\"color\":\"white\"}},\"header\":{\"fill\":{\"color\":\"#C8D4E3\"},\"line\":{\"color\":\"white\"}},\"type\":\"table\"}]},\"layout\":{\"annotationdefaults\":{\"arrowcolor\":\"#2a3f5f\",\"arrowhead\":0,\"arrowwidth\":1},\"autotypenumbers\":\"strict\",\"coloraxis\":{\"colorbar\":{\"outlinewidth\":0,\"ticks\":\"\"}},\"colorscale\":{\"diverging\":[[0,\"#8e0152\"],[0.1,\"#c51b7d\"],[0.2,\"#de77ae\"],[0.3,\"#f1b6da\"],[0.4,\"#fde0ef\"],[0.5,\"#f7f7f7\"],[0.6,\"#e6f5d0\"],[0.7,\"#b8e186\"],[0.8,\"#7fbc41\"],[0.9,\"#4d9221\"],[1,\"#276419\"]],\"sequential\":[[0.0,\"#0d0887\"],[0.1111111111111111,\"#46039f\"],[0.2222222222222222,\"#7201a8\"],[0.3333333333333333,\"#9c179e\"],[0.4444444444444444,\"#bd3786\"],[0.5555555555555556,\"#d8576b\"],[0.6666666666666666,\"#ed7953\"],[0.7777777777777778,\"#fb9f3a\"],[0.8888888888888888,\"#fdca26\"],[1.0,\"#f0f921\"]],\"sequentialminus\":[[0.0,\"#0d0887\"],[0.1111111111111111,\"#46039f\"],[0.2222222222222222,\"#7201a8\"],[0.3333333333333333,\"#9c179e\"],[0.4444444444444444,\"#bd3786\"],[0.5555555555555556,\"#d8576b\"],[0.6666666666666666,\"#ed7953\"],[0.7777777777777778,\"#fb9f3a\"],[0.8888888888888888,\"#fdca26\"],[1.0,\"#f0f921\"]]},\"colorway\":[\"#636efa\",\"#EF553B\",\"#00cc96\",\"#ab63fa\",\"#FFA15A\",\"#19d3f3\",\"#FF6692\",\"#B6E880\",\"#FF97FF\",\"#FECB52\"],\"font\":{\"color\":\"#2a3f5f\"},\"geo\":{\"bgcolor\":\"white\",\"lakecolor\":\"white\",\"landcolor\":\"white\",\"showlakes\":true,\"showland\":true,\"subunitcolor\":\"#C8D4E3\"},\"hoverlabel\":{\"align\":\"left\"},\"hovermode\":\"closest\",\"mapbox\":{\"style\":\"light\"},\"paper_bgcolor\":\"white\",\"plot_bgcolor\":\"white\",\"polar\":{\"angularaxis\":{\"gridcolor\":\"#EBF0F8\",\"linecolor\":\"#EBF0F8\",\"ticks\":\"\"},\"bgcolor\":\"white\",\"radialaxis\":{\"gridcolor\":\"#EBF0F8\",\"linecolor\":\"#EBF0F8\",\"ticks\":\"\"}},\"scene\":{\"xaxis\":{\"backgroundcolor\":\"white\",\"gridcolor\":\"#DFE8F3\",\"gridwidth\":2,\"linecolor\":\"#EBF0F8\",\"showbackground\":true,\"ticks\":\"\",\"zerolinecolor\":\"#EBF0F8\"},\"yaxis\":{\"backgroundcolor\":\"white\",\"gridcolor\":\"#DFE8F3\",\"gridwidth\":2,\"linecolor\":\"#EBF0F8\",\"showbackground\":true,\"ticks\":\"\",\"zerolinecolor\":\"#EBF0F8\"},\"zaxis\":{\"backgroundcolor\":\"white\",\"gridcolor\":\"#DFE8F3\",\"gridwidth\":2,\"linecolor\":\"#EBF0F8\",\"showbackground\":true,\"ticks\":\"\",\"zerolinecolor\":\"#EBF0F8\"}},\"shapedefaults\":{\"line\":{\"color\":\"#2a3f5f\"}},\"ternary\":{\"aaxis\":{\"gridcolor\":\"#DFE8F3\",\"linecolor\":\"#A2B1C6\",\"ticks\":\"\"},\"baxis\":{\"gridcolor\":\"#DFE8F3\",\"linecolor\":\"#A2B1C6\",\"ticks\":\"\"},\"bgcolor\":\"white\",\"caxis\":{\"gridcolor\":\"#DFE8F3\",\"linecolor\":\"#A2B1C6\",\"ticks\":\"\"}},\"title\":{\"x\":0.05},\"xaxis\":{\"automargin\":true,\"gridcolor\":\"#EBF0F8\",\"linecolor\":\"#EBF0F8\",\"ticks\":\"\",\"title\":{\"standoff\":15},\"zerolinecolor\":\"#EBF0F8\",\"zerolinewidth\":2},\"yaxis\":{\"automargin\":true,\"gridcolor\":\"#EBF0F8\",\"linecolor\":\"#EBF0F8\",\"ticks\":\"\",\"title\":{\"standoff\":15},\"zerolinecolor\":\"#EBF0F8\",\"zerolinewidth\":2}}},\"xaxis\":{\"anchor\":\"y\",\"domain\":[0.0,1.0],\"title\":{\"text\":\"score\"},\"tickvals\":[-1.0,-0.8,-0.6,-0.4,-0.19999999999999996,0.0,0.19999999999999996,0.0],\"ticktext\":[0.0,0.2,0.4,0.6,0.8,1.0,1.2,1.0],\"range\":[-0.8814814814814815,0.3]},\"yaxis\":{\"anchor\":\"x\",\"domain\":[0.0,0.144],\"title\":{\"text\":\"\"},\"tickvals\":[0.5],\"ticktext\":[\"Female\"],\"range\":[0,1],\"showgrid\":false,\"zeroline\":false},\"xaxis2\":{\"anchor\":\"y2\",\"domain\":[0.0,1.0],\"matches\":\"x\",\"showticklabels\":false,\"tickvals\":[-1.0,-0.8,-0.6,-0.4,-0.19999999999999996,0.0,0.19999999999999996,0.0],\"ticktext\":[0.0,0.2,0.4,0.6,0.8,1.0,1.2,1.0],\"range\":[-0.8814814814814815,0.3]},\"yaxis2\":{\"anchor\":\"x2\",\"domain\":[0.214,0.358],\"matches\":\"y\",\"title\":{\"text\":\"\"},\"tickvals\":[0.5],\"ticktext\":[\"Female\"],\"range\":[0,1],\"showgrid\":false,\"zeroline\":false},\"xaxis3\":{\"anchor\":\"y3\",\"domain\":[0.0,1.0],\"matches\":\"x\",\"showticklabels\":false,\"tickvals\":[-1.0,-0.8,-0.6,-0.4,-0.19999999999999996,0.0,0.19999999999999996,0.0],\"ticktext\":[0.0,0.2,0.4,0.6,0.8,1.0,1.2,1.0],\"range\":[-0.8814814814814815,0.3]},\"yaxis3\":{\"anchor\":\"x3\",\"domain\":[0.428,0.572],\"matches\":\"y\",\"title\":{\"text\":\"subgroup\"},\"tickvals\":[0.5],\"ticktext\":[\"Female\"],\"range\":[0,1],\"showgrid\":false,\"zeroline\":false},\"xaxis4\":{\"anchor\":\"y4\",\"domain\":[0.0,1.0],\"matches\":\"x\",\"showticklabels\":false,\"tickvals\":[-1.0,-0.8,-0.6,-0.4,-0.19999999999999996,0.0,0.19999999999999996,0.0],\"ticktext\":[0.0,0.2,0.4,0.6,0.8,1.0,1.2,1.0],\"range\":[-0.8814814814814815,0.3]},\"yaxis4\":{\"anchor\":\"x4\",\"domain\":[0.6419999999999999,0.7859999999999999],\"matches\":\"y\",\"title\":{\"text\":\"\"},\"tickvals\":[0.5],\"ticktext\":[\"Female\"],\"range\":[0,1],\"showgrid\":false,\"zeroline\":false},\"xaxis5\":{\"anchor\":\"y5\",\"domain\":[0.0,1.0],\"matches\":\"x\",\"showticklabels\":false,\"tickvals\":[-1.0,-0.8,-0.6,-0.4,-0.19999999999999996,0.0,0.19999999999999996,0.0],\"ticktext\":[0.0,0.2,0.4,0.6,0.8,1.0,1.2,1.0],\"range\":[-0.8814814814814815,0.3]},\"yaxis5\":{\"anchor\":\"x5\",\"domain\":[0.856,1.0],\"matches\":\"y\",\"title\":{\"text\":\"\"},\"tickvals\":[0.5],\"ticktext\":[\"Female\"],\"range\":[0,1],\"showgrid\":false,\"zeroline\":false},\"annotations\":[{\"font\":{\"size\":15},\"showarrow\":false,\"text\":\"Statistical parity ratio   (TP + FP)\\u002f(TP + FP + TN + FN)\",\"x\":0.05,\"xanchor\":\"left\",\"xref\":\"paper\",\"y\":0.144,\"yanchor\":\"bottom\",\"yref\":\"paper\"},{\"font\":{\"size\":15},\"showarrow\":false,\"text\":\"Accuracy equality ratio    (TP + TN)\\u002f(TP + FP + TN + FN)\",\"x\":0.05,\"xanchor\":\"left\",\"xref\":\"paper\",\"y\":0.358,\"yanchor\":\"bottom\",\"yref\":\"paper\"},{\"font\":{\"size\":15},\"showarrow\":false,\"text\":\"Predictive equality ratio   FP\\u002f(FP + TN)\",\"x\":0.05,\"xanchor\":\"left\",\"xref\":\"paper\",\"y\":0.572,\"yanchor\":\"bottom\",\"yref\":\"paper\"},{\"font\":{\"size\":15},\"showarrow\":false,\"text\":\"Predictive parity ratio     TP\\u002f(TP + FP)\",\"x\":0.05,\"xanchor\":\"left\",\"xref\":\"paper\",\"y\":0.7859999999999999,\"yanchor\":\"bottom\",\"yref\":\"paper\"},{\"font\":{\"size\":15},\"showarrow\":false,\"text\":\"Equal opportunity ratio     TP\\u002f(TP + FN)\",\"x\":0.05,\"xanchor\":\"left\",\"xref\":\"paper\",\"y\":1.0,\"yanchor\":\"bottom\",\"yref\":\"paper\"}],\"legend\":{\"title\":{\"text\":\"label\"},\"tracegroupgap\":0},\"margin\":{\"t\":78,\"b\":71,\"r\":30},\"barmode\":\"group\",\"shapes\":[{\"fillcolor\":\"#f05a71\",\"layer\":\"below\",\"line\":{\"width\":0},\"opacity\":0.1,\"type\":\"rect\",\"x0\":0.25,\"x1\":0.3,\"xref\":\"x\",\"y0\":0,\"y1\":1,\"yref\":\"y\"},{\"fillcolor\":\"#f05a71\",\"layer\":\"below\",\"line\":{\"width\":0},\"opacity\":0.1,\"type\":\"rect\",\"x0\":-0.8814814814814815,\"x1\":-0.19999999999999996,\"xref\":\"x\",\"y0\":0,\"y1\":1,\"yref\":\"y\"},{\"fillcolor\":\"#c7f5bf\",\"layer\":\"below\",\"line\":{\"width\":0},\"opacity\":0.1,\"type\":\"rect\",\"x0\":-0.19999999999999996,\"x1\":0.25,\"xref\":\"x\",\"y0\":0,\"y1\":1,\"yref\":\"y\"},{\"line\":{\"color\":\"#371ea3\",\"width\":1.5},\"type\":\"line\",\"x0\":0,\"x1\":0,\"xref\":\"x\",\"y0\":0,\"y1\":1,\"yref\":\"y\"},{\"fillcolor\":\"#f05a71\",\"layer\":\"below\",\"line\":{\"width\":0},\"opacity\":0.1,\"type\":\"rect\",\"x0\":0.25,\"x1\":0.3,\"xref\":\"x\",\"y0\":0,\"y1\":1,\"yref\":\"y2\"},{\"fillcolor\":\"#f05a71\",\"layer\":\"below\",\"line\":{\"width\":0},\"opacity\":0.1,\"type\":\"rect\",\"x0\":-0.8814814814814815,\"x1\":-0.19999999999999996,\"xref\":\"x\",\"y0\":0,\"y1\":1,\"yref\":\"y2\"},{\"fillcolor\":\"#c7f5bf\",\"layer\":\"below\",\"line\":{\"width\":0},\"opacity\":0.1,\"type\":\"rect\",\"x0\":-0.19999999999999996,\"x1\":0.25,\"xref\":\"x\",\"y0\":0,\"y1\":1,\"yref\":\"y2\"},{\"line\":{\"color\":\"#371ea3\",\"width\":1.5},\"type\":\"line\",\"x0\":0,\"x1\":0,\"xref\":\"x\",\"y0\":0,\"y1\":1,\"yref\":\"y2\"},{\"fillcolor\":\"#f05a71\",\"layer\":\"below\",\"line\":{\"width\":0},\"opacity\":0.1,\"type\":\"rect\",\"x0\":0.25,\"x1\":0.3,\"xref\":\"x\",\"y0\":0,\"y1\":1,\"yref\":\"y3\"},{\"fillcolor\":\"#f05a71\",\"layer\":\"below\",\"line\":{\"width\":0},\"opacity\":0.1,\"type\":\"rect\",\"x0\":-0.8814814814814815,\"x1\":-0.19999999999999996,\"xref\":\"x\",\"y0\":0,\"y1\":1,\"yref\":\"y3\"},{\"fillcolor\":\"#c7f5bf\",\"layer\":\"below\",\"line\":{\"width\":0},\"opacity\":0.1,\"type\":\"rect\",\"x0\":-0.19999999999999996,\"x1\":0.25,\"xref\":\"x\",\"y0\":0,\"y1\":1,\"yref\":\"y3\"},{\"line\":{\"color\":\"#371ea3\",\"width\":1.5},\"type\":\"line\",\"x0\":0,\"x1\":0,\"xref\":\"x\",\"y0\":0,\"y1\":1,\"yref\":\"y3\"},{\"fillcolor\":\"#f05a71\",\"layer\":\"below\",\"line\":{\"width\":0},\"opacity\":0.1,\"type\":\"rect\",\"x0\":0.25,\"x1\":0.3,\"xref\":\"x\",\"y0\":0,\"y1\":1,\"yref\":\"y4\"},{\"fillcolor\":\"#f05a71\",\"layer\":\"below\",\"line\":{\"width\":0},\"opacity\":0.1,\"type\":\"rect\",\"x0\":-0.8814814814814815,\"x1\":-0.19999999999999996,\"xref\":\"x\",\"y0\":0,\"y1\":1,\"yref\":\"y4\"},{\"fillcolor\":\"#c7f5bf\",\"layer\":\"below\",\"line\":{\"width\":0},\"opacity\":0.1,\"type\":\"rect\",\"x0\":-0.19999999999999996,\"x1\":0.25,\"xref\":\"x\",\"y0\":0,\"y1\":1,\"yref\":\"y4\"},{\"line\":{\"color\":\"#371ea3\",\"width\":1.5},\"type\":\"line\",\"x0\":0,\"x1\":0,\"xref\":\"x\",\"y0\":0,\"y1\":1,\"yref\":\"y4\"},{\"fillcolor\":\"#f05a71\",\"layer\":\"below\",\"line\":{\"width\":0},\"opacity\":0.1,\"type\":\"rect\",\"x0\":0.25,\"x1\":0.3,\"y0\":0,\"y1\":1,\"yref\":\"y5\",\"xref\":\"x\"},{\"fillcolor\":\"#f05a71\",\"layer\":\"below\",\"line\":{\"width\":0},\"opacity\":0.1,\"type\":\"rect\",\"x0\":-0.8814814814814815,\"x1\":-0.19999999999999996,\"y0\":0,\"y1\":1,\"yref\":\"y5\",\"xref\":\"x\"},{\"fillcolor\":\"#c7f5bf\",\"layer\":\"below\",\"line\":{\"width\":0},\"opacity\":0.1,\"type\":\"rect\",\"x0\":-0.19999999999999996,\"x1\":0.25,\"y0\":0,\"y1\":1,\"yref\":\"y5\",\"xref\":\"x\"},{\"line\":{\"color\":\"#371ea3\",\"width\":1.5},\"type\":\"line\",\"x0\":0,\"x1\":0,\"xref\":\"x\",\"y0\":0,\"y1\":1,\"yref\":\"y5\"}],\"title\":{\"font\":{\"size\":25},\"text\":\"Fairness Check\",\"x\":0.5,\"y\":0.99},\"font\":{\"color\":\"#371ea3\"}},                        {\"displaylogo\": false, \"staticPlot\": false, \"toImageButtonOptions\": {\"height\": null, \"width\": null}, \"modeBarButtonsToRemove\": [\"sendDataToCloud\", \"lasso2d\", \"autoScale2d\", \"select2d\", \"zoom2d\", \"pan2d\", \"zoomIn2d\", \"zoomOut2d\", \"resetScale2d\", \"toggleSpikelines\", \"hoverCompareCartesian\", \"hoverClosestCartesian\"], \"responsive\": true}                    ).then(function(){\n",
              "                            \n",
              "var gd = document.getElementById('6f19e225-06a6-402a-b56e-ade0d16d5de9');\n",
              "var x = new MutationObserver(function (mutations, observer) {{\n",
              "        var display = window.getComputedStyle(gd).display;\n",
              "        if (!display || display === 'none') {{\n",
              "            console.log([gd, 'removed!']);\n",
              "            Plotly.purge(gd);\n",
              "            observer.disconnect();\n",
              "        }}\n",
              "}});\n",
              "\n",
              "// Listen for the removal of the full notebook cells\n",
              "var notebookContainer = gd.closest('#notebook-container');\n",
              "if (notebookContainer) {{\n",
              "    x.observe(notebookContainer, {childList: true});\n",
              "}}\n",
              "\n",
              "// Listen for the clearing of the current output cell\n",
              "var outputEl = gd.closest('.output');\n",
              "if (outputEl) {{\n",
              "    x.observe(outputEl, {childList: true});\n",
              "}}\n",
              "\n",
              "                        })                };                            </script>        </div>\n",
              "</body>\n",
              "</html>"
            ]
          },
          "metadata": {}
        }
      ]
    },
    {
      "cell_type": "markdown",
      "source": [
        "## Third model (weighing to match class freqs in gender groups)"
      ],
      "metadata": {
        "id": "AvuAlhGpSWWC"
      }
    },
    {
      "cell_type": "code",
      "source": [
        "x_male = X_train['gender']=='Male'"
      ],
      "metadata": {
        "id": "ngeOR__vRhsv"
      },
      "execution_count": 40,
      "outputs": []
    },
    {
      "cell_type": "code",
      "source": [
        "male_y_train = y_train[x_male]"
      ],
      "metadata": {
        "id": "5U1ZOi6ZS8jT"
      },
      "execution_count": 41,
      "outputs": []
    },
    {
      "cell_type": "code",
      "source": [
        "total = len(y_train)\n",
        "male_pos = male_y_train.sum()\n",
        "male_neg = len(male_y_train)-male_pos"
      ],
      "metadata": {
        "id": "zuv3IEgzTJUh"
      },
      "execution_count": 42,
      "outputs": []
    },
    {
      "cell_type": "code",
      "source": [
        "female_y_train = y_train[~ x_male]\n",
        "female_pos = female_y_train.sum()\n",
        "female_neg = len(female_y_train) - female_pos"
      ],
      "metadata": {
        "id": "HWZxnh05TOqq"
      },
      "execution_count": 43,
      "outputs": []
    },
    {
      "cell_type": "code",
      "source": [
        "weights = np.ones_like(x_male, dtype='float')"
      ],
      "metadata": {
        "id": "2VyW0Yq1TyUo"
      },
      "execution_count": 44,
      "outputs": []
    },
    {
      "cell_type": "code",
      "source": [
        "is_positive = y_train.income == True"
      ],
      "metadata": {
        "id": "dGyLcmqOXG46"
      },
      "execution_count": 45,
      "outputs": []
    },
    {
      "cell_type": "code",
      "source": [
        "is_pos_fem = ~x_male & is_positive"
      ],
      "metadata": {
        "id": "7922e-HYXeN9"
      },
      "execution_count": 46,
      "outputs": []
    },
    {
      "cell_type": "code",
      "source": [
        "weights[x_male & is_positive]=total/male_pos\n",
        "weights[x_male & ~is_positive]=total/male_neg\n",
        "weights[~x_male & is_positive]=total/female_pos\n",
        "weights[~x_male & ~is_positive]=total/female_neg"
      ],
      "metadata": {
        "id": "GxHwX7XdT2iq"
      },
      "execution_count": 47,
      "outputs": []
    },
    {
      "cell_type": "code",
      "source": [
        "sum(weights[x_male & is_positive])"
      ],
      "metadata": {
        "colab": {
          "base_uri": "https://localhost:8080/"
        },
        "id": "z70n-hPIahGX",
        "outputId": "2d7e072c-856b-458a-e5b8-ad33af5f41eb"
      },
      "execution_count": 48,
      "outputs": [
        {
          "output_type": "execute_result",
          "data": {
            "text/plain": [
              "43957.000000003274"
            ]
          },
          "metadata": {},
          "execution_count": 48
        }
      ]
    },
    {
      "cell_type": "code",
      "source": [
        "sum(weights[~x_male & is_positive])"
      ],
      "metadata": {
        "colab": {
          "base_uri": "https://localhost:8080/"
        },
        "id": "7yGXhh8xanUM",
        "outputId": "ca4ed2d8-0c9b-4555-e894-fd38aaa7160a"
      },
      "execution_count": 49,
      "outputs": [
        {
          "output_type": "execute_result",
          "data": {
            "text/plain": [
              "43957.000000001455"
            ]
          },
          "metadata": {},
          "execution_count": 49
        }
      ]
    },
    {
      "cell_type": "code",
      "source": [
        "weights"
      ],
      "metadata": {
        "colab": {
          "base_uri": "https://localhost:8080/"
        },
        "id": "v__Ixj8PVJUY",
        "outputId": "3e12a987-8685-4eb4-f142-91e094960666"
      },
      "execution_count": 50,
      "outputs": [
        {
          "output_type": "execute_result",
          "data": {
            "text/plain": [
              "array([2.14686203, 4.91194547, 2.14686203, ..., 2.14686203, 3.39724863,\n",
              "       2.14686203])"
            ]
          },
          "metadata": {},
          "execution_count": 50
        }
      ]
    },
    {
      "cell_type": "code",
      "source": [
        "model = get_logreg()\n",
        "model.fit(X_train, y_train, **{\"model__sample_weight\":weights})\n",
        "explainer = dx.Explainer(model, X_test, y_test, label='Logistic Regression')\n",
        "print(explainer.model_performance())\n",
        "fobject = explainer.model_fairness(protected=X_test['gender'], privileged=\"Male\")\n",
        "fobject.fairness_check()"
      ],
      "metadata": {
        "colab": {
          "base_uri": "https://localhost:8080/"
        },
        "id": "3xnzx4zMT7DX",
        "outputId": "bac1ca84-75e2-4ade-835c-b0e996daad42"
      },
      "execution_count": 51,
      "outputs": [
        {
          "output_type": "stream",
          "name": "stderr",
          "text": [
            "/usr/local/lib/python3.10/dist-packages/sklearn/utils/validation.py:1143: DataConversionWarning:\n",
            "\n",
            "A column-vector y was passed when a 1d array was expected. Please change the shape of y to (n_samples, ), for example using ravel().\n",
            "\n"
          ]
        },
        {
          "output_type": "stream",
          "name": "stdout",
          "text": [
            "Preparation of a new explainer is initiated\n",
            "\n",
            "  -> data              : 4885 rows 12 cols\n",
            "  -> target variable   : Parameter 'y' was a pandas.DataFrame. Converted to a numpy.ndarray.\n",
            "  -> target variable   : 4885 values\n",
            "  -> model_class       : sklearn.linear_model._logistic.LogisticRegression (default)\n",
            "  -> label             : Logistic Regression\n",
            "  -> predict function  : <function yhat_proba_default at 0x7e83ccd28790> will be used (default)\n",
            "  -> predict function  : Accepts only pandas.DataFrame, numpy.ndarray causes problems.\n",
            "  -> predicted values  : min = 0.000569, mean = 0.364, max = 1.0\n",
            "  -> model type        : classification will be used (default)\n",
            "  -> residual function : difference between y and yhat (default)\n",
            "  -> residuals         : min = -1.0, mean = -0.13, max = 0.997\n",
            "  -> model_info        : package sklearn\n",
            "\n",
            "A new explainer has been created!\n",
            "<dalex.model_explanations._model_performance.object.ModelPerformance object at 0x7e83c87da110>\n",
            "Bias detected in 3 metrics: PPV, FPR, STP\n",
            "\n",
            "Conclusion: your model is not fair because 2 or more criteria exceeded acceptable limits set by epsilon.\n",
            "\n",
            "Ratios of metrics, based on 'Male'. Parameter 'epsilon' was set to 0.8 and therefore metrics should be within (0.8, 1.25)\n",
            "             TPR       ACC       PPV       FPR       STP\n",
            "Female  1.101377  1.115979  0.729412  0.579399  0.531017\n"
          ]
        },
        {
          "output_type": "stream",
          "name": "stderr",
          "text": [
            "/usr/local/lib/python3.10/dist-packages/sklearn/linear_model/_logistic.py:458: ConvergenceWarning:\n",
            "\n",
            "lbfgs failed to converge (status=1):\n",
            "STOP: TOTAL NO. of ITERATIONS REACHED LIMIT.\n",
            "\n",
            "Increase the number of iterations (max_iter) or scale the data as shown in:\n",
            "    https://scikit-learn.org/stable/modules/preprocessing.html\n",
            "Please also refer to the documentation for alternative solver options:\n",
            "    https://scikit-learn.org/stable/modules/linear_model.html#logistic-regression\n",
            "\n"
          ]
        }
      ]
    },
    {
      "cell_type": "code",
      "source": [
        "explainer.model_performance()"
      ],
      "metadata": {
        "colab": {
          "base_uri": "https://localhost:8080/",
          "height": 81
        },
        "id": "iLifehzFUsD3",
        "outputId": "656e451b-467a-4a13-a589-28dd39fc2a5f"
      },
      "execution_count": 52,
      "outputs": [
        {
          "output_type": "execute_result",
          "data": {
            "text/plain": [
              "<dalex.model_explanations._model_performance.object.ModelPerformance at 0x7e83c87dbee0>"
            ],
            "text/html": [
              "<div>\n",
              "<style scoped>\n",
              "    .dataframe tbody tr th:only-of-type {\n",
              "        vertical-align: middle;\n",
              "    }\n",
              "\n",
              "    .dataframe tbody tr th {\n",
              "        vertical-align: top;\n",
              "    }\n",
              "\n",
              "    .dataframe thead th {\n",
              "        text-align: right;\n",
              "    }\n",
              "</style>\n",
              "<table border=\"1\" class=\"dataframe\">\n",
              "  <thead>\n",
              "    <tr style=\"text-align: right;\">\n",
              "      <th></th>\n",
              "      <th>recall</th>\n",
              "      <th>precision</th>\n",
              "      <th>f1</th>\n",
              "      <th>accuracy</th>\n",
              "      <th>auc</th>\n",
              "    </tr>\n",
              "  </thead>\n",
              "  <tbody>\n",
              "    <tr>\n",
              "      <th>Logistic Regression</th>\n",
              "      <td>0.811189</td>\n",
              "      <td>0.560386</td>\n",
              "      <td>0.662857</td>\n",
              "      <td>0.806755</td>\n",
              "      <td>0.896711</td>\n",
              "    </tr>\n",
              "  </tbody>\n",
              "</table>\n",
              "</div>"
            ]
          },
          "metadata": {},
          "execution_count": 52
        }
      ]
    },
    {
      "cell_type": "code",
      "source": [
        "fobject.plot()"
      ],
      "metadata": {
        "colab": {
          "base_uri": "https://localhost:8080/",
          "height": 542
        },
        "id": "lgLDUmnabj28",
        "outputId": "ead5298e-d8ba-408f-f25d-02bc49b47de3"
      },
      "execution_count": 53,
      "outputs": [
        {
          "output_type": "display_data",
          "data": {
            "text/html": [
              "<html>\n",
              "<head><meta charset=\"utf-8\" /></head>\n",
              "<body>\n",
              "    <div>            <script src=\"https://cdnjs.cloudflare.com/ajax/libs/mathjax/2.7.5/MathJax.js?config=TeX-AMS-MML_SVG\"></script><script type=\"text/javascript\">if (window.MathJax && window.MathJax.Hub && window.MathJax.Hub.Config) {window.MathJax.Hub.Config({SVG: {font: \"STIX-Web\"}});}</script>                <script type=\"text/javascript\">window.PlotlyConfig = {MathJaxConfig: 'local'};</script>\n",
              "        <script charset=\"utf-8\" src=\"https://cdn.plot.ly/plotly-2.24.1.min.js\"></script>                <div id=\"941af003-bded-4a68-89ab-29b16b90804b\" class=\"plotly-graph-div\" style=\"height:525px; width:100%;\"></div>            <script type=\"text/javascript\">                                    window.PLOTLYENV=window.PLOTLYENV || {};                                    if (document.getElementById(\"941af003-bded-4a68-89ab-29b16b90804b\")) {                    Plotly.newPlot(                        \"941af003-bded-4a68-89ab-29b16b90804b\",                        [{\"alignmentgroup\":\"True\",\"customdata\":[[\"Female\",1.101,\"Logistic Regression\"]],\"hovertemplate\":\"\\u003cb\\u003e%{customdata[2]}\\u003c\\u002fb\\u003e\\u003cbr\\u003eSubgroup: %{customdata[0]}\\u003cbr\\u003eScore: %{customdata[1]}\\u003cbr\\u003e\\u003cextra\\u003e\\u003c\\u002fextra\\u003e\",\"legendgroup\":\"Logistic Regression\",\"marker\":{\"color\":\"#46bac2\",\"pattern\":{\"shape\":\"\"}},\"name\":\"Logistic Regression\",\"offsetgroup\":\"Logistic Regression\",\"orientation\":\"h\",\"showlegend\":true,\"textposition\":\"auto\",\"x\":[0.10137672090112626],\"xaxis\":\"x5\",\"y\":[0.5],\"yaxis\":\"y5\",\"type\":\"bar\"},{\"alignmentgroup\":\"True\",\"customdata\":[[\"Female\",0.729,\"Logistic Regression\"]],\"hovertemplate\":\"\\u003cb\\u003e%{customdata[2]}\\u003c\\u002fb\\u003e\\u003cbr\\u003eSubgroup: %{customdata[0]}\\u003cbr\\u003eScore: %{customdata[1]}\\u003cbr\\u003e\\u003cextra\\u003e\\u003c\\u002fextra\\u003e\",\"legendgroup\":\"Logistic Regression\",\"marker\":{\"color\":\"#46bac2\",\"pattern\":{\"shape\":\"\"}},\"name\":\"Logistic Regression\",\"offsetgroup\":\"Logistic Regression\",\"orientation\":\"h\",\"showlegend\":false,\"textposition\":\"auto\",\"x\":[-0.2705882352941176],\"xaxis\":\"x4\",\"y\":[0.5],\"yaxis\":\"y4\",\"type\":\"bar\"},{\"alignmentgroup\":\"True\",\"customdata\":[[\"Female\",0.579,\"Logistic Regression\"]],\"hovertemplate\":\"\\u003cb\\u003e%{customdata[2]}\\u003c\\u002fb\\u003e\\u003cbr\\u003eSubgroup: %{customdata[0]}\\u003cbr\\u003eScore: %{customdata[1]}\\u003cbr\\u003e\\u003cextra\\u003e\\u003c\\u002fextra\\u003e\",\"legendgroup\":\"Logistic Regression\",\"marker\":{\"color\":\"#46bac2\",\"pattern\":{\"shape\":\"\"}},\"name\":\"Logistic Regression\",\"offsetgroup\":\"Logistic Regression\",\"orientation\":\"h\",\"showlegend\":false,\"textposition\":\"auto\",\"x\":[-0.42060085836909866],\"xaxis\":\"x3\",\"y\":[0.5],\"yaxis\":\"y3\",\"type\":\"bar\"},{\"alignmentgroup\":\"True\",\"customdata\":[[\"Female\",1.116,\"Logistic Regression\"]],\"hovertemplate\":\"\\u003cb\\u003e%{customdata[2]}\\u003c\\u002fb\\u003e\\u003cbr\\u003eSubgroup: %{customdata[0]}\\u003cbr\\u003eScore: %{customdata[1]}\\u003cbr\\u003e\\u003cextra\\u003e\\u003c\\u002fextra\\u003e\",\"legendgroup\":\"Logistic Regression\",\"marker\":{\"color\":\"#46bac2\",\"pattern\":{\"shape\":\"\"}},\"name\":\"Logistic Regression\",\"offsetgroup\":\"Logistic Regression\",\"orientation\":\"h\",\"showlegend\":false,\"textposition\":\"auto\",\"x\":[0.115979381443299],\"xaxis\":\"x2\",\"y\":[0.5],\"yaxis\":\"y2\",\"type\":\"bar\"},{\"alignmentgroup\":\"True\",\"customdata\":[[\"Female\",0.531,\"Logistic Regression\"]],\"hovertemplate\":\"\\u003cb\\u003e%{customdata[2]}\\u003c\\u002fb\\u003e\\u003cbr\\u003eSubgroup: %{customdata[0]}\\u003cbr\\u003eScore: %{customdata[1]}\\u003cbr\\u003e\\u003cextra\\u003e\\u003c\\u002fextra\\u003e\",\"legendgroup\":\"Logistic Regression\",\"marker\":{\"color\":\"#46bac2\",\"pattern\":{\"shape\":\"\"}},\"name\":\"Logistic Regression\",\"offsetgroup\":\"Logistic Regression\",\"orientation\":\"h\",\"showlegend\":false,\"textposition\":\"auto\",\"x\":[-0.46898263027295295],\"xaxis\":\"x\",\"y\":[0.5],\"yaxis\":\"y\",\"type\":\"bar\"}],                        {\"template\":{\"data\":{\"barpolar\":[{\"marker\":{\"line\":{\"color\":\"white\",\"width\":0.5},\"pattern\":{\"fillmode\":\"overlay\",\"size\":10,\"solidity\":0.2}},\"type\":\"barpolar\"}],\"bar\":[{\"error_x\":{\"color\":\"#2a3f5f\"},\"error_y\":{\"color\":\"#2a3f5f\"},\"marker\":{\"line\":{\"color\":\"white\",\"width\":0.5},\"pattern\":{\"fillmode\":\"overlay\",\"size\":10,\"solidity\":0.2}},\"type\":\"bar\"}],\"carpet\":[{\"aaxis\":{\"endlinecolor\":\"#2a3f5f\",\"gridcolor\":\"#C8D4E3\",\"linecolor\":\"#C8D4E3\",\"minorgridcolor\":\"#C8D4E3\",\"startlinecolor\":\"#2a3f5f\"},\"baxis\":{\"endlinecolor\":\"#2a3f5f\",\"gridcolor\":\"#C8D4E3\",\"linecolor\":\"#C8D4E3\",\"minorgridcolor\":\"#C8D4E3\",\"startlinecolor\":\"#2a3f5f\"},\"type\":\"carpet\"}],\"choropleth\":[{\"colorbar\":{\"outlinewidth\":0,\"ticks\":\"\"},\"type\":\"choropleth\"}],\"contourcarpet\":[{\"colorbar\":{\"outlinewidth\":0,\"ticks\":\"\"},\"type\":\"contourcarpet\"}],\"contour\":[{\"colorbar\":{\"outlinewidth\":0,\"ticks\":\"\"},\"colorscale\":[[0.0,\"#0d0887\"],[0.1111111111111111,\"#46039f\"],[0.2222222222222222,\"#7201a8\"],[0.3333333333333333,\"#9c179e\"],[0.4444444444444444,\"#bd3786\"],[0.5555555555555556,\"#d8576b\"],[0.6666666666666666,\"#ed7953\"],[0.7777777777777778,\"#fb9f3a\"],[0.8888888888888888,\"#fdca26\"],[1.0,\"#f0f921\"]],\"type\":\"contour\"}],\"heatmapgl\":[{\"colorbar\":{\"outlinewidth\":0,\"ticks\":\"\"},\"colorscale\":[[0.0,\"#0d0887\"],[0.1111111111111111,\"#46039f\"],[0.2222222222222222,\"#7201a8\"],[0.3333333333333333,\"#9c179e\"],[0.4444444444444444,\"#bd3786\"],[0.5555555555555556,\"#d8576b\"],[0.6666666666666666,\"#ed7953\"],[0.7777777777777778,\"#fb9f3a\"],[0.8888888888888888,\"#fdca26\"],[1.0,\"#f0f921\"]],\"type\":\"heatmapgl\"}],\"heatmap\":[{\"colorbar\":{\"outlinewidth\":0,\"ticks\":\"\"},\"colorscale\":[[0.0,\"#0d0887\"],[0.1111111111111111,\"#46039f\"],[0.2222222222222222,\"#7201a8\"],[0.3333333333333333,\"#9c179e\"],[0.4444444444444444,\"#bd3786\"],[0.5555555555555556,\"#d8576b\"],[0.6666666666666666,\"#ed7953\"],[0.7777777777777778,\"#fb9f3a\"],[0.8888888888888888,\"#fdca26\"],[1.0,\"#f0f921\"]],\"type\":\"heatmap\"}],\"histogram2dcontour\":[{\"colorbar\":{\"outlinewidth\":0,\"ticks\":\"\"},\"colorscale\":[[0.0,\"#0d0887\"],[0.1111111111111111,\"#46039f\"],[0.2222222222222222,\"#7201a8\"],[0.3333333333333333,\"#9c179e\"],[0.4444444444444444,\"#bd3786\"],[0.5555555555555556,\"#d8576b\"],[0.6666666666666666,\"#ed7953\"],[0.7777777777777778,\"#fb9f3a\"],[0.8888888888888888,\"#fdca26\"],[1.0,\"#f0f921\"]],\"type\":\"histogram2dcontour\"}],\"histogram2d\":[{\"colorbar\":{\"outlinewidth\":0,\"ticks\":\"\"},\"colorscale\":[[0.0,\"#0d0887\"],[0.1111111111111111,\"#46039f\"],[0.2222222222222222,\"#7201a8\"],[0.3333333333333333,\"#9c179e\"],[0.4444444444444444,\"#bd3786\"],[0.5555555555555556,\"#d8576b\"],[0.6666666666666666,\"#ed7953\"],[0.7777777777777778,\"#fb9f3a\"],[0.8888888888888888,\"#fdca26\"],[1.0,\"#f0f921\"]],\"type\":\"histogram2d\"}],\"histogram\":[{\"marker\":{\"pattern\":{\"fillmode\":\"overlay\",\"size\":10,\"solidity\":0.2}},\"type\":\"histogram\"}],\"mesh3d\":[{\"colorbar\":{\"outlinewidth\":0,\"ticks\":\"\"},\"type\":\"mesh3d\"}],\"parcoords\":[{\"line\":{\"colorbar\":{\"outlinewidth\":0,\"ticks\":\"\"}},\"type\":\"parcoords\"}],\"pie\":[{\"automargin\":true,\"type\":\"pie\"}],\"scatter3d\":[{\"line\":{\"colorbar\":{\"outlinewidth\":0,\"ticks\":\"\"}},\"marker\":{\"colorbar\":{\"outlinewidth\":0,\"ticks\":\"\"}},\"type\":\"scatter3d\"}],\"scattercarpet\":[{\"marker\":{\"colorbar\":{\"outlinewidth\":0,\"ticks\":\"\"}},\"type\":\"scattercarpet\"}],\"scattergeo\":[{\"marker\":{\"colorbar\":{\"outlinewidth\":0,\"ticks\":\"\"}},\"type\":\"scattergeo\"}],\"scattergl\":[{\"marker\":{\"colorbar\":{\"outlinewidth\":0,\"ticks\":\"\"}},\"type\":\"scattergl\"}],\"scattermapbox\":[{\"marker\":{\"colorbar\":{\"outlinewidth\":0,\"ticks\":\"\"}},\"type\":\"scattermapbox\"}],\"scatterpolargl\":[{\"marker\":{\"colorbar\":{\"outlinewidth\":0,\"ticks\":\"\"}},\"type\":\"scatterpolargl\"}],\"scatterpolar\":[{\"marker\":{\"colorbar\":{\"outlinewidth\":0,\"ticks\":\"\"}},\"type\":\"scatterpolar\"}],\"scatter\":[{\"fillpattern\":{\"fillmode\":\"overlay\",\"size\":10,\"solidity\":0.2},\"type\":\"scatter\"}],\"scatterternary\":[{\"marker\":{\"colorbar\":{\"outlinewidth\":0,\"ticks\":\"\"}},\"type\":\"scatterternary\"}],\"surface\":[{\"colorbar\":{\"outlinewidth\":0,\"ticks\":\"\"},\"colorscale\":[[0.0,\"#0d0887\"],[0.1111111111111111,\"#46039f\"],[0.2222222222222222,\"#7201a8\"],[0.3333333333333333,\"#9c179e\"],[0.4444444444444444,\"#bd3786\"],[0.5555555555555556,\"#d8576b\"],[0.6666666666666666,\"#ed7953\"],[0.7777777777777778,\"#fb9f3a\"],[0.8888888888888888,\"#fdca26\"],[1.0,\"#f0f921\"]],\"type\":\"surface\"}],\"table\":[{\"cells\":{\"fill\":{\"color\":\"#EBF0F8\"},\"line\":{\"color\":\"white\"}},\"header\":{\"fill\":{\"color\":\"#C8D4E3\"},\"line\":{\"color\":\"white\"}},\"type\":\"table\"}]},\"layout\":{\"annotationdefaults\":{\"arrowcolor\":\"#2a3f5f\",\"arrowhead\":0,\"arrowwidth\":1},\"autotypenumbers\":\"strict\",\"coloraxis\":{\"colorbar\":{\"outlinewidth\":0,\"ticks\":\"\"}},\"colorscale\":{\"diverging\":[[0,\"#8e0152\"],[0.1,\"#c51b7d\"],[0.2,\"#de77ae\"],[0.3,\"#f1b6da\"],[0.4,\"#fde0ef\"],[0.5,\"#f7f7f7\"],[0.6,\"#e6f5d0\"],[0.7,\"#b8e186\"],[0.8,\"#7fbc41\"],[0.9,\"#4d9221\"],[1,\"#276419\"]],\"sequential\":[[0.0,\"#0d0887\"],[0.1111111111111111,\"#46039f\"],[0.2222222222222222,\"#7201a8\"],[0.3333333333333333,\"#9c179e\"],[0.4444444444444444,\"#bd3786\"],[0.5555555555555556,\"#d8576b\"],[0.6666666666666666,\"#ed7953\"],[0.7777777777777778,\"#fb9f3a\"],[0.8888888888888888,\"#fdca26\"],[1.0,\"#f0f921\"]],\"sequentialminus\":[[0.0,\"#0d0887\"],[0.1111111111111111,\"#46039f\"],[0.2222222222222222,\"#7201a8\"],[0.3333333333333333,\"#9c179e\"],[0.4444444444444444,\"#bd3786\"],[0.5555555555555556,\"#d8576b\"],[0.6666666666666666,\"#ed7953\"],[0.7777777777777778,\"#fb9f3a\"],[0.8888888888888888,\"#fdca26\"],[1.0,\"#f0f921\"]]},\"colorway\":[\"#636efa\",\"#EF553B\",\"#00cc96\",\"#ab63fa\",\"#FFA15A\",\"#19d3f3\",\"#FF6692\",\"#B6E880\",\"#FF97FF\",\"#FECB52\"],\"font\":{\"color\":\"#2a3f5f\"},\"geo\":{\"bgcolor\":\"white\",\"lakecolor\":\"white\",\"landcolor\":\"white\",\"showlakes\":true,\"showland\":true,\"subunitcolor\":\"#C8D4E3\"},\"hoverlabel\":{\"align\":\"left\"},\"hovermode\":\"closest\",\"mapbox\":{\"style\":\"light\"},\"paper_bgcolor\":\"white\",\"plot_bgcolor\":\"white\",\"polar\":{\"angularaxis\":{\"gridcolor\":\"#EBF0F8\",\"linecolor\":\"#EBF0F8\",\"ticks\":\"\"},\"bgcolor\":\"white\",\"radialaxis\":{\"gridcolor\":\"#EBF0F8\",\"linecolor\":\"#EBF0F8\",\"ticks\":\"\"}},\"scene\":{\"xaxis\":{\"backgroundcolor\":\"white\",\"gridcolor\":\"#DFE8F3\",\"gridwidth\":2,\"linecolor\":\"#EBF0F8\",\"showbackground\":true,\"ticks\":\"\",\"zerolinecolor\":\"#EBF0F8\"},\"yaxis\":{\"backgroundcolor\":\"white\",\"gridcolor\":\"#DFE8F3\",\"gridwidth\":2,\"linecolor\":\"#EBF0F8\",\"showbackground\":true,\"ticks\":\"\",\"zerolinecolor\":\"#EBF0F8\"},\"zaxis\":{\"backgroundcolor\":\"white\",\"gridcolor\":\"#DFE8F3\",\"gridwidth\":2,\"linecolor\":\"#EBF0F8\",\"showbackground\":true,\"ticks\":\"\",\"zerolinecolor\":\"#EBF0F8\"}},\"shapedefaults\":{\"line\":{\"color\":\"#2a3f5f\"}},\"ternary\":{\"aaxis\":{\"gridcolor\":\"#DFE8F3\",\"linecolor\":\"#A2B1C6\",\"ticks\":\"\"},\"baxis\":{\"gridcolor\":\"#DFE8F3\",\"linecolor\":\"#A2B1C6\",\"ticks\":\"\"},\"bgcolor\":\"white\",\"caxis\":{\"gridcolor\":\"#DFE8F3\",\"linecolor\":\"#A2B1C6\",\"ticks\":\"\"}},\"title\":{\"x\":0.05},\"xaxis\":{\"automargin\":true,\"gridcolor\":\"#EBF0F8\",\"linecolor\":\"#EBF0F8\",\"ticks\":\"\",\"title\":{\"standoff\":15},\"zerolinecolor\":\"#EBF0F8\",\"zerolinewidth\":2},\"yaxis\":{\"automargin\":true,\"gridcolor\":\"#EBF0F8\",\"linecolor\":\"#EBF0F8\",\"ticks\":\"\",\"title\":{\"standoff\":15},\"zerolinecolor\":\"#EBF0F8\",\"zerolinewidth\":2}}},\"xaxis\":{\"anchor\":\"y\",\"domain\":[0.0,1.0],\"title\":{\"text\":\"score\"},\"tickvals\":[-0.6,-0.5,-0.4,-0.30000000000000004,-0.19999999999999996,-0.09999999999999998,0.0,0.10000000000000009,0.19999999999999996,0.0],\"ticktext\":[0.4,0.5,0.6,0.7,0.8,0.9,1.0,1.1,1.2,1.0],\"range\":[-0.5158808933002483,0.3]},\"yaxis\":{\"anchor\":\"x\",\"domain\":[0.0,0.144],\"title\":{\"text\":\"\"},\"tickvals\":[0.5],\"ticktext\":[\"Female\"],\"range\":[0,1],\"showgrid\":false,\"zeroline\":false},\"xaxis2\":{\"anchor\":\"y2\",\"domain\":[0.0,1.0],\"matches\":\"x\",\"showticklabels\":false,\"tickvals\":[-0.6,-0.5,-0.4,-0.30000000000000004,-0.19999999999999996,-0.09999999999999998,0.0,0.10000000000000009,0.19999999999999996,0.0],\"ticktext\":[0.4,0.5,0.6,0.7,0.8,0.9,1.0,1.1,1.2,1.0],\"range\":[-0.5158808933002483,0.3]},\"yaxis2\":{\"anchor\":\"x2\",\"domain\":[0.214,0.358],\"matches\":\"y\",\"title\":{\"text\":\"\"},\"tickvals\":[0.5],\"ticktext\":[\"Female\"],\"range\":[0,1],\"showgrid\":false,\"zeroline\":false},\"xaxis3\":{\"anchor\":\"y3\",\"domain\":[0.0,1.0],\"matches\":\"x\",\"showticklabels\":false,\"tickvals\":[-0.6,-0.5,-0.4,-0.30000000000000004,-0.19999999999999996,-0.09999999999999998,0.0,0.10000000000000009,0.19999999999999996,0.0],\"ticktext\":[0.4,0.5,0.6,0.7,0.8,0.9,1.0,1.1,1.2,1.0],\"range\":[-0.5158808933002483,0.3]},\"yaxis3\":{\"anchor\":\"x3\",\"domain\":[0.428,0.572],\"matches\":\"y\",\"title\":{\"text\":\"subgroup\"},\"tickvals\":[0.5],\"ticktext\":[\"Female\"],\"range\":[0,1],\"showgrid\":false,\"zeroline\":false},\"xaxis4\":{\"anchor\":\"y4\",\"domain\":[0.0,1.0],\"matches\":\"x\",\"showticklabels\":false,\"tickvals\":[-0.6,-0.5,-0.4,-0.30000000000000004,-0.19999999999999996,-0.09999999999999998,0.0,0.10000000000000009,0.19999999999999996,0.0],\"ticktext\":[0.4,0.5,0.6,0.7,0.8,0.9,1.0,1.1,1.2,1.0],\"range\":[-0.5158808933002483,0.3]},\"yaxis4\":{\"anchor\":\"x4\",\"domain\":[0.6419999999999999,0.7859999999999999],\"matches\":\"y\",\"title\":{\"text\":\"\"},\"tickvals\":[0.5],\"ticktext\":[\"Female\"],\"range\":[0,1],\"showgrid\":false,\"zeroline\":false},\"xaxis5\":{\"anchor\":\"y5\",\"domain\":[0.0,1.0],\"matches\":\"x\",\"showticklabels\":false,\"tickvals\":[-0.6,-0.5,-0.4,-0.30000000000000004,-0.19999999999999996,-0.09999999999999998,0.0,0.10000000000000009,0.19999999999999996,0.0],\"ticktext\":[0.4,0.5,0.6,0.7,0.8,0.9,1.0,1.1,1.2,1.0],\"range\":[-0.5158808933002483,0.3]},\"yaxis5\":{\"anchor\":\"x5\",\"domain\":[0.856,1.0],\"matches\":\"y\",\"title\":{\"text\":\"\"},\"tickvals\":[0.5],\"ticktext\":[\"Female\"],\"range\":[0,1],\"showgrid\":false,\"zeroline\":false},\"annotations\":[{\"font\":{\"size\":15},\"showarrow\":false,\"text\":\"Statistical parity ratio   (TP + FP)\\u002f(TP + FP + TN + FN)\",\"x\":0.05,\"xanchor\":\"left\",\"xref\":\"paper\",\"y\":0.144,\"yanchor\":\"bottom\",\"yref\":\"paper\"},{\"font\":{\"size\":15},\"showarrow\":false,\"text\":\"Accuracy equality ratio    (TP + TN)\\u002f(TP + FP + TN + FN)\",\"x\":0.05,\"xanchor\":\"left\",\"xref\":\"paper\",\"y\":0.358,\"yanchor\":\"bottom\",\"yref\":\"paper\"},{\"font\":{\"size\":15},\"showarrow\":false,\"text\":\"Predictive equality ratio   FP\\u002f(FP + TN)\",\"x\":0.05,\"xanchor\":\"left\",\"xref\":\"paper\",\"y\":0.572,\"yanchor\":\"bottom\",\"yref\":\"paper\"},{\"font\":{\"size\":15},\"showarrow\":false,\"text\":\"Predictive parity ratio     TP\\u002f(TP + FP)\",\"x\":0.05,\"xanchor\":\"left\",\"xref\":\"paper\",\"y\":0.7859999999999999,\"yanchor\":\"bottom\",\"yref\":\"paper\"},{\"font\":{\"size\":15},\"showarrow\":false,\"text\":\"Equal opportunity ratio     TP\\u002f(TP + FN)\",\"x\":0.05,\"xanchor\":\"left\",\"xref\":\"paper\",\"y\":1.0,\"yanchor\":\"bottom\",\"yref\":\"paper\"}],\"legend\":{\"title\":{\"text\":\"label\"},\"tracegroupgap\":0},\"margin\":{\"t\":78,\"b\":71,\"r\":30},\"barmode\":\"group\",\"shapes\":[{\"fillcolor\":\"#f05a71\",\"layer\":\"below\",\"line\":{\"width\":0},\"opacity\":0.1,\"type\":\"rect\",\"x0\":0.25,\"x1\":0.3,\"xref\":\"x\",\"y0\":0,\"y1\":1,\"yref\":\"y\"},{\"fillcolor\":\"#f05a71\",\"layer\":\"below\",\"line\":{\"width\":0},\"opacity\":0.1,\"type\":\"rect\",\"x0\":-0.5158808933002483,\"x1\":-0.19999999999999996,\"xref\":\"x\",\"y0\":0,\"y1\":1,\"yref\":\"y\"},{\"fillcolor\":\"#c7f5bf\",\"layer\":\"below\",\"line\":{\"width\":0},\"opacity\":0.1,\"type\":\"rect\",\"x0\":-0.19999999999999996,\"x1\":0.25,\"xref\":\"x\",\"y0\":0,\"y1\":1,\"yref\":\"y\"},{\"line\":{\"color\":\"#371ea3\",\"width\":1.5},\"type\":\"line\",\"x0\":0,\"x1\":0,\"xref\":\"x\",\"y0\":0,\"y1\":1,\"yref\":\"y\"},{\"fillcolor\":\"#f05a71\",\"layer\":\"below\",\"line\":{\"width\":0},\"opacity\":0.1,\"type\":\"rect\",\"x0\":0.25,\"x1\":0.3,\"xref\":\"x\",\"y0\":0,\"y1\":1,\"yref\":\"y2\"},{\"fillcolor\":\"#f05a71\",\"layer\":\"below\",\"line\":{\"width\":0},\"opacity\":0.1,\"type\":\"rect\",\"x0\":-0.5158808933002483,\"x1\":-0.19999999999999996,\"xref\":\"x\",\"y0\":0,\"y1\":1,\"yref\":\"y2\"},{\"fillcolor\":\"#c7f5bf\",\"layer\":\"below\",\"line\":{\"width\":0},\"opacity\":0.1,\"type\":\"rect\",\"x0\":-0.19999999999999996,\"x1\":0.25,\"xref\":\"x\",\"y0\":0,\"y1\":1,\"yref\":\"y2\"},{\"line\":{\"color\":\"#371ea3\",\"width\":1.5},\"type\":\"line\",\"x0\":0,\"x1\":0,\"xref\":\"x\",\"y0\":0,\"y1\":1,\"yref\":\"y2\"},{\"fillcolor\":\"#f05a71\",\"layer\":\"below\",\"line\":{\"width\":0},\"opacity\":0.1,\"type\":\"rect\",\"x0\":0.25,\"x1\":0.3,\"xref\":\"x\",\"y0\":0,\"y1\":1,\"yref\":\"y3\"},{\"fillcolor\":\"#f05a71\",\"layer\":\"below\",\"line\":{\"width\":0},\"opacity\":0.1,\"type\":\"rect\",\"x0\":-0.5158808933002483,\"x1\":-0.19999999999999996,\"xref\":\"x\",\"y0\":0,\"y1\":1,\"yref\":\"y3\"},{\"fillcolor\":\"#c7f5bf\",\"layer\":\"below\",\"line\":{\"width\":0},\"opacity\":0.1,\"type\":\"rect\",\"x0\":-0.19999999999999996,\"x1\":0.25,\"xref\":\"x\",\"y0\":0,\"y1\":1,\"yref\":\"y3\"},{\"line\":{\"color\":\"#371ea3\",\"width\":1.5},\"type\":\"line\",\"x0\":0,\"x1\":0,\"xref\":\"x\",\"y0\":0,\"y1\":1,\"yref\":\"y3\"},{\"fillcolor\":\"#f05a71\",\"layer\":\"below\",\"line\":{\"width\":0},\"opacity\":0.1,\"type\":\"rect\",\"x0\":0.25,\"x1\":0.3,\"xref\":\"x\",\"y0\":0,\"y1\":1,\"yref\":\"y4\"},{\"fillcolor\":\"#f05a71\",\"layer\":\"below\",\"line\":{\"width\":0},\"opacity\":0.1,\"type\":\"rect\",\"x0\":-0.5158808933002483,\"x1\":-0.19999999999999996,\"xref\":\"x\",\"y0\":0,\"y1\":1,\"yref\":\"y4\"},{\"fillcolor\":\"#c7f5bf\",\"layer\":\"below\",\"line\":{\"width\":0},\"opacity\":0.1,\"type\":\"rect\",\"x0\":-0.19999999999999996,\"x1\":0.25,\"xref\":\"x\",\"y0\":0,\"y1\":1,\"yref\":\"y4\"},{\"line\":{\"color\":\"#371ea3\",\"width\":1.5},\"type\":\"line\",\"x0\":0,\"x1\":0,\"xref\":\"x\",\"y0\":0,\"y1\":1,\"yref\":\"y4\"},{\"fillcolor\":\"#f05a71\",\"layer\":\"below\",\"line\":{\"width\":0},\"opacity\":0.1,\"type\":\"rect\",\"x0\":0.25,\"x1\":0.3,\"y0\":0,\"y1\":1,\"yref\":\"y5\",\"xref\":\"x\"},{\"fillcolor\":\"#f05a71\",\"layer\":\"below\",\"line\":{\"width\":0},\"opacity\":0.1,\"type\":\"rect\",\"x0\":-0.5158808933002483,\"x1\":-0.19999999999999996,\"y0\":0,\"y1\":1,\"yref\":\"y5\",\"xref\":\"x\"},{\"fillcolor\":\"#c7f5bf\",\"layer\":\"below\",\"line\":{\"width\":0},\"opacity\":0.1,\"type\":\"rect\",\"x0\":-0.19999999999999996,\"x1\":0.25,\"y0\":0,\"y1\":1,\"yref\":\"y5\",\"xref\":\"x\"},{\"line\":{\"color\":\"#371ea3\",\"width\":1.5},\"type\":\"line\",\"x0\":0,\"x1\":0,\"xref\":\"x\",\"y0\":0,\"y1\":1,\"yref\":\"y5\"}],\"title\":{\"font\":{\"size\":25},\"text\":\"Fairness Check\",\"x\":0.5,\"y\":0.99},\"font\":{\"color\":\"#371ea3\"}},                        {\"displaylogo\": false, \"staticPlot\": false, \"toImageButtonOptions\": {\"height\": null, \"width\": null}, \"modeBarButtonsToRemove\": [\"sendDataToCloud\", \"lasso2d\", \"autoScale2d\", \"select2d\", \"zoom2d\", \"pan2d\", \"zoomIn2d\", \"zoomOut2d\", \"resetScale2d\", \"toggleSpikelines\", \"hoverCompareCartesian\", \"hoverClosestCartesian\"], \"responsive\": true}                    ).then(function(){\n",
              "                            \n",
              "var gd = document.getElementById('941af003-bded-4a68-89ab-29b16b90804b');\n",
              "var x = new MutationObserver(function (mutations, observer) {{\n",
              "        var display = window.getComputedStyle(gd).display;\n",
              "        if (!display || display === 'none') {{\n",
              "            console.log([gd, 'removed!']);\n",
              "            Plotly.purge(gd);\n",
              "            observer.disconnect();\n",
              "        }}\n",
              "}});\n",
              "\n",
              "// Listen for the removal of the full notebook cells\n",
              "var notebookContainer = gd.closest('#notebook-container');\n",
              "if (notebookContainer) {{\n",
              "    x.observe(notebookContainer, {childList: true});\n",
              "}}\n",
              "\n",
              "// Listen for the clearing of the current output cell\n",
              "var outputEl = gd.closest('.output');\n",
              "if (outputEl) {{\n",
              "    x.observe(outputEl, {childList: true});\n",
              "}}\n",
              "\n",
              "                        })                };                            </script>        </div>\n",
              "</body>\n",
              "</html>"
            ]
          },
          "metadata": {}
        }
      ]
    },
    {
      "cell_type": "code",
      "source": [],
      "metadata": {
        "id": "LEeCgaiTblOR"
      },
      "execution_count": 53,
      "outputs": []
    }
  ]
}