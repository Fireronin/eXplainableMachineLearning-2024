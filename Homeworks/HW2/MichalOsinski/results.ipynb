{
 "cells": [
  {
   "cell_type": "markdown",
   "id": "4e81d407-72e5-4e07-97e6-6b50d58df226",
   "metadata": {},
   "source": [
    "# Task 1\n",
    "\n",
    "## Demographic parity\n",
    "\n",
    "Red: $ P(\\hat{Y}=1|A=r) = 0.5 $\\\n",
    "Blue: $ P(\\hat{Y}=1|A=b) = \\frac{65}{100} = 0.65 $\n",
    "\n",
    "$ \\frac{P(\\hat{Y}=1|A=r)}{P(\\hat{Y}=1|A=b)} = \\frac{0.5}{0.65} = \\frac{10}{13} \\approx 0.77 \\leq 0.8 $\\\n",
    "We can see that four-fifth rule is not upheld here"
   ]
  },
  {
   "cell_type": "markdown",
   "id": "108a4c20-066a-47b1-9a06-e89de4671556",
   "metadata": {},
   "source": [
    "## Equal opportunity\n",
    "\n",
    "Red: $ P(\\hat{Y}=1|A=r, Y=1) = \\frac{0.25}{0.5} = 0.5 $\\\n",
    "Blue: $ P(\\hat{Y}=1|A=b, Y=1) = \\frac{60}{80} = 0.75 $\n",
    "\n",
    "$ \\frac{P(\\hat{Y}=1|A=r, Y=1)}{P(\\hat{Y}=1|A=b, Y=1)} = \\frac{0.5}{0.75} = \\frac{2}{3} \\approx 0.67 $"
   ]
  },
  {
   "cell_type": "markdown",
   "id": "715edfff-af00-4faf-ae98-32aef740bbaa",
   "metadata": {},
   "source": [
    "## Predictive rate parity\n",
    "\n",
    "### Positive\n",
    "\n",
    "Red: $ P(Y=1|A=r, \\hat{Y}=1) = \\frac{0.25}{0.5} = 0.5 $\\\n",
    "Blue: $ P(Y=1|A=b, \\hat{Y}=1) = \\frac{60}{65} = \\frac{12}{13} $\n",
    "\n",
    "$ \\frac{P(Y=1|A=r, \\hat{Y}=1)}{P(Y=1|A=b, \\hat{Y}=1)} = \\frac{0.5}{\\frac{12}{13}} = \\frac{13}{24} \\approx 0.54 $\n",
    "\n",
    "### Negative\n",
    "\n",
    "Red: $ P(Y=1|A=r, \\hat{Y}=0) = \\frac{0.25}{0.5} = 0.5 $\\\n",
    "Blue: $ P(Y=1|A=b, \\hat{Y}=0) = \\frac{15}{20} = \\frac{3}{4} = 0.75 $\n",
    "\n",
    "$ \\frac{P(Y=1|A=r, \\hat{Y}=0)}{P(Y=1|A=b, \\hat{Y}=0)} = \\frac{0.5}{0.75} = \\frac{2}{3} \\approx 0.67 $"
   ]
  },
  {
   "cell_type": "markdown",
   "id": "4a3be63d-5c3b-4876-979c-dbdde71b3dc7",
   "metadata": {},
   "source": [
    "# Task 2\n",
    "\n",
    "## Results\n",
    "\n",
    "![a](a.png)\n",
    "![b](b.png)\n",
    "![c](c.png)"
   ]
  },
  {
   "cell_type": "markdown",
   "id": "1eeda36e-8347-40ec-93fe-4a09d9fc6ece",
   "metadata": {},
   "source": [
    "## Coments\n",
    "\n",
    "2. All models show tendency for FP for younger people.\n",
    "3. Gradient boosting and random forest show fairly similar performance.\n",
    "4. Mitigation method didn't really improve the model. One interesting thing is that predictive equality changed discriminated group.\n",
    "5. Given similar performance of the three models it is difficult to find any corelation."
   ]
  },
  {
   "cell_type": "code",
   "execution_count": null,
   "id": "c6663dc0-5cbc-4fdb-ad0a-efbeb1c61301",
   "metadata": {},
   "outputs": [],
   "source": []
  }
 ],
 "metadata": {
  "kernelspec": {
   "display_name": "Python 3 (ipykernel)",
   "language": "python",
   "name": "python3"
  },
  "language_info": {
   "codemirror_mode": {
    "name": "ipython",
    "version": 3
   },
   "file_extension": ".py",
   "mimetype": "text/x-python",
   "name": "python",
   "nbconvert_exporter": "python",
   "pygments_lexer": "ipython3",
   "version": "3.12.0"
  }
 },
 "nbformat": 4,
 "nbformat_minor": 5
}
