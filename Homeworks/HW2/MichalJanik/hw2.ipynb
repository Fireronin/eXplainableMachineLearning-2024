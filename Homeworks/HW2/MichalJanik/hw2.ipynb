{
 "cells": [
  {
   "cell_type": "markdown",
   "metadata": {
    "collapsed": true,
    "jupyter": {
     "outputs_hidden": true
    },
    "pycharm": {
     "name": "#%% md\n"
    }
   },
   "source": [
    "## Task 1\n",
    "\n",
    "We have two populations Blue (privileged) and Red (unprivileged), with the Blue population being 9 times larger than the Red population.\n",
    "\n",
    "The decision rule adopted:\n",
    "1. In the Red group, half of the people will find the skills useful in future and half will not. Administrators randomly allocate 50% of people to training.\n",
    "2. in the Blue group, 80% of people will find the training useful in future and 20% will not, although of course it is not known who will find it useful. The administrators have built a predictive model based on user behaviour in predicting for whom it will be useful and whom will not. The model has the following performance:\n",
    "\n",
    "| Blue                     \t| Will use XAI \t| Will not use XAI \t| Total \t|\n",
    "|---------------------------|---------------|-------------------|-----------|\n",
    "| Enrolled in training     \t| 60           \t| 5               \t| 65    \t|\n",
    "| not enrolled in training \t| 20            | 15               \t| 35    \t|\n",
    "| Total                    \t| 80           \t| 20               \t| 100   \t|\n",
    "\n",
    "\n",
    "#### Demographic parity coefficient\n",
    "$\\frac{ P(\\hat{Y} = 1 | C=r) } { P(\\hat{Y} = 1 | C=b) } = \\frac {\\frac12} {\\frac{65}{100}} \\approx 0.769$\n",
    "\n",
    "#### Equal opportunity coefficient\n",
    "$\\frac{P(\\hat{Y} = 1 | C=r, Y=1)}{P(\\hat{Y} = 1 | C=b, Y=1)} = \\frac{\\frac12}{ \\frac{60}{80} } \\approx 0.667$\n",
    "\n",
    "#### Predictive rate parity coefficients\n",
    "a) Positive predictive parity rate:\n",
    "\n",
    "$\\frac{P(Y = 1 | C=r, \\hat{Y}=1)} {P(Y = 1 | C=b, \\hat{Y}=1)} = \\frac{\\frac12}{\\frac{60}{65}} \\approx 0.542 $\n",
    "\n",
    "b) Negative predictive parity rate:\n",
    "$\\frac{P(Y = 1 | C=r, \\hat{Y}=0)} {P(Y = 1 | C=b, \\hat{Y}=0)} = \\frac{\\frac12}{\\frac{20}{35}} \\approx 0.875 $\n",
    "\n",
    "\n",
    "### (*) How can this decision rule be changed to improve its fairness?\n",
    "We can use one predictive model on two groups, considering data imbalance, i.e. using over/under sampling\n",
    "\n",
    "Alternatively, we can change the #1 decision rule, so that x% of people in the red group would get training (instead of the 50%).\n",
    "Then, we would have following statistics:\n",
    "\n",
    "#### Demographic parity coefficient\n",
    "$\\frac{ P'(\\hat{Y} = 1 | C=r) } { P(\\hat{Y} = 1 | C=b) } = \\frac {x} {\\frac{65}{100}}$\n",
    "\n",
    "#### Equal opportunity coefficient\n",
    "$\\frac{P'(\\hat{Y} = 1 | C=r, Y=1)}{P(\\hat{Y} = 1 | C=b, Y=1)} = \\frac{x}{ \\frac{60}{80} }$\n",
    "\n",
    "Predictive rate parity coefficients won't change.\n",
    "\n",
    "We can choose the value for x to make the demographic parity coefficient/equal opportunity coefficient equal to 1, choosing\n",
    "x=65% for the former case and x=75% for the latter.\n",
    "\n",
    "Another option is to change the sensitivity of the model used for #2 decision rule (by changing threshold), so that its\n",
    "demographic parity/equal opportunity/predictive rate parity coefficients is closer to 50%."
   ]
  },
  {
   "cell_type": "markdown",
   "metadata": {
    "collapsed": false,
    "jupyter": {
     "outputs_hidden": false
    },
    "pycharm": {
     "name": "#%% md\n"
    }
   },
   "source": [
    "# Task 2\n",
    "\n",
    "In this task, our goal is to train models on the [Give Me Some Credit dataset](https://www.kaggle.com/datasets/brycecf/give-me-some-credit-dataset)\n",
    "and analyze their fairness.\n",
    "\n",
    "The protected variable in which we are interested in is age - or more precisely, a binary flag - whether someone is 'young' (under 35) or not.\n",
    "Our concern is that young people might be discriminated and predicted to have a finanacial distress because of the age bias."
   ]
  },
  {
   "attachments": {},
   "cell_type": "markdown",
   "metadata": {
    "collapsed": false,
    "jupyter": {
     "outputs_hidden": false
    },
    "pycharm": {
     "name": "#%%\n"
    }
   },
   "source": [
    "## Part 1 & 2 - Train a model and calculate its fairness coefficients:"
   ]
  },
  {
   "cell_type": "markdown",
   "metadata": {},
   "source": [
    "In this part we train an **XGBoost** model with default hyperparameters (except max_depth=7).\n",
    "Model evaluation:\n",
    "| Metric     | XGBClassifier |\n",
    "|------------|---------------|\n",
    "| recall     | 0.188385      |\n",
    "| precision  | 0.52988       |\n",
    "| f1         | 0.277952      |\n",
    "| accuracy   | 0.931056      |\n",
    "| auc        | 0.839314      |\n",
    "\n",
    "\n",
    "We then calculate its fairness coefficients:\n",
    "| Coefficient             | Value |\n",
    "|--------------------|-------|\n",
    "| Statistical parity | 2.143 |\n",
    "| Equal opportunity  | 1.081 |\n",
    "| Predictive parity  | 0.876 |\n",
    "\n",
    "We can see that our model is biased with regard to the statistical parity and predictive equality ratio.\n",
    "\n",
    "![](images/2.png)"
   ]
  },
  {
   "cell_type": "markdown",
   "metadata": {},
   "source": [
    "## Part 3 - Model with different hyperparameters"
   ]
  },
  {
   "cell_type": "markdown",
   "metadata": {},
   "source": [
    "In this part we train a different model - also an XGBoost model, but now we constraint it even further - we set max_depth=2. In this way, we expect that the model will be forced to use very direct relationships of variables and will not base its predictions on the age variable.\n",
    "\n",
    "| Metric     | XGBClassifier with max_depth=2 |\n",
    "|------------|-------------------------------|\n",
    "| recall     | 0.18508                        |\n",
    "| precision  | 0.598473                       |\n",
    "| f1         | 0.282726                       |\n",
    "| accuracy   | 0.93385                        |\n",
    "| auc        | 0.853459                       |\n",
    "\n",
    "\n",
    "We then calculate its fairness coefficients:\n",
    "| Coefficient             |Value |\n",
    "|--------------------|-------|\n",
    "| Statistical parity | 2.105 |\n",
    "| Equal opportunity  | 1.066 |\n",
    "| Predictive parity  | 0.842 |\n",
    "\n",
    "\n",
    "\n",
    "We can see that the second model is also biased with regard to the statistical parity and predictive equality ratio, but the coefficients generally are closer to 1 (with the exception of predictive parity ratio) when comparing with the first model. Our prediction that a model with a smaller maximum tree depth would be less biased proved true (at least to some degree).\n",
    "\n",
    "![](images/3.png)"
   ]
  },
  {
   "cell_type": "markdown",
   "metadata": {},
   "source": [
    "## Part 4 - Bias mitigation techniques"
   ]
  },
  {
   "cell_type": "markdown",
   "metadata": {},
   "source": [
    "In this part we apply different bias mitigation techniques:\n",
    "1. we exclude the `age` variable from the training data,\n",
    "2. we combine the previous method with the use of reweighting\n",
    "\n",
    "We observe that in this case, these bias mitigation techniques helped to make the model more fair: simply excluding the `age` variable made all fairness coefficients closer to 1, and additionaly applying reweighting further improved most of the coefficients.\n",
    "However, the bias is still there, as the statistical parity ratio for the 2nd method is as big as 1.619.\n",
    "\n",
    "The results are shown here:\n",
    "\n",
    "![](images/4.png)"
   ]
  },
  {
   "cell_type": "markdown",
   "metadata": {},
   "source": [
    "## Part 5 - Model performence vs fairness"
   ]
  },
  {
   "cell_type": "markdown",
   "metadata": {},
   "source": [
    "In this part we compare the quality of the models with their fairness coefficients.\n",
    "\n",
    "| Metric                                    | XGBClassifier | XGBClassifier with max_depth=2 | XGBClassifier without the protected attribute | XGBClassifier with Reweight mitigation |\n",
    "|-------------------------------------------|---------------|-------------------------------|----------------------------------------------|---------------------------------------|\n",
    "| recall                                    | 0.1884        | 0.1851                        | 0.1884                                       | 0.1728                                |\n",
    "| precision                                 | 0.5299        | 0.5985                        | 0.5377                                       | 0.5244                                |\n",
    "| f1                                        | 0.2780        | 0.2827                        | 0.2790                                       | 0.2599                                |\n",
    "| accuracy                                  | 0.9311        | 0.9339                        | 0.9314                                       | 0.9307                                |\n",
    "| auc                                       | 0.8393        | 0.8535                        | 0.8350                                       | 0.8336                                |\n",
    "\n",
    "Interestingly, we can see that decreasing max_depth actually improved the model quality and decreased the bias at the same time.\n",
    "\n",
    "In the similar way, dropping the `age` variable has also slightly improved the model precision (without changing recall) and increased the model fairness.\n",
    "\n",
    "Model using reweightning was the most fair model, and it is also the worst one when it comes to the performance, as its recall and predcision slightly decreased."
   ]
  },
  {
   "cell_type": "markdown",
   "metadata": {
    "collapsed": false,
    "jupyter": {
     "outputs_hidden": false
    },
    "pycharm": {
     "name": "#%%\n"
    }
   },
   "source": [
    "## Appendix"
   ]
  },
  {
   "cell_type": "code",
   "execution_count": 198,
   "metadata": {},
   "outputs": [],
   "source": [
    "from matplotlib import pyplot as plt\n",
    "import pandas as pd\n",
    "import xgboost\n",
    "import sklearn\n",
    "from sklearn.linear_model import LogisticRegression\n",
    "import dalex as dx\n",
    "import seaborn as sns\n",
    "\n",
    "from dalex.fairness import resample, reweight, roc_pivot\n",
    "from copy import copy\n",
    "\n",
    "from sklearn.model_selection import train_test_split"
   ]
  },
  {
   "cell_type": "code",
   "execution_count": 39,
   "metadata": {},
   "outputs": [
    {
     "data": {
      "text/html": [
       "<div>\n",
       "<style scoped>\n",
       "    .dataframe tbody tr th:only-of-type {\n",
       "        vertical-align: middle;\n",
       "    }\n",
       "\n",
       "    .dataframe tbody tr th {\n",
       "        vertical-align: top;\n",
       "    }\n",
       "\n",
       "    .dataframe thead th {\n",
       "        text-align: right;\n",
       "    }\n",
       "</style>\n",
       "<table border=\"1\" class=\"dataframe\">\n",
       "  <thead>\n",
       "    <tr style=\"text-align: right;\">\n",
       "      <th></th>\n",
       "      <th>SeriousDlqin2yrs</th>\n",
       "      <th>RevolvingUtilizationOfUnsecuredLines</th>\n",
       "      <th>age</th>\n",
       "      <th>NumberOfTime30-59DaysPastDueNotWorse</th>\n",
       "      <th>DebtRatio</th>\n",
       "      <th>MonthlyIncome</th>\n",
       "      <th>NumberOfOpenCreditLinesAndLoans</th>\n",
       "      <th>NumberOfTimes90DaysLate</th>\n",
       "      <th>NumberRealEstateLoansOrLines</th>\n",
       "      <th>NumberOfTime60-89DaysPastDueNotWorse</th>\n",
       "      <th>NumberOfDependents</th>\n",
       "    </tr>\n",
       "  </thead>\n",
       "  <tbody>\n",
       "    <tr>\n",
       "      <th>1</th>\n",
       "      <td>1</td>\n",
       "      <td>0.766127</td>\n",
       "      <td>45</td>\n",
       "      <td>2</td>\n",
       "      <td>0.802982</td>\n",
       "      <td>9120.0</td>\n",
       "      <td>13</td>\n",
       "      <td>0</td>\n",
       "      <td>6</td>\n",
       "      <td>0</td>\n",
       "      <td>2.0</td>\n",
       "    </tr>\n",
       "    <tr>\n",
       "      <th>2</th>\n",
       "      <td>0</td>\n",
       "      <td>0.957151</td>\n",
       "      <td>40</td>\n",
       "      <td>0</td>\n",
       "      <td>0.121876</td>\n",
       "      <td>2600.0</td>\n",
       "      <td>4</td>\n",
       "      <td>0</td>\n",
       "      <td>0</td>\n",
       "      <td>0</td>\n",
       "      <td>1.0</td>\n",
       "    </tr>\n",
       "    <tr>\n",
       "      <th>3</th>\n",
       "      <td>0</td>\n",
       "      <td>0.658180</td>\n",
       "      <td>38</td>\n",
       "      <td>1</td>\n",
       "      <td>0.085113</td>\n",
       "      <td>3042.0</td>\n",
       "      <td>2</td>\n",
       "      <td>1</td>\n",
       "      <td>0</td>\n",
       "      <td>0</td>\n",
       "      <td>0.0</td>\n",
       "    </tr>\n",
       "    <tr>\n",
       "      <th>4</th>\n",
       "      <td>0</td>\n",
       "      <td>0.233810</td>\n",
       "      <td>30</td>\n",
       "      <td>0</td>\n",
       "      <td>0.036050</td>\n",
       "      <td>3300.0</td>\n",
       "      <td>5</td>\n",
       "      <td>0</td>\n",
       "      <td>0</td>\n",
       "      <td>0</td>\n",
       "      <td>0.0</td>\n",
       "    </tr>\n",
       "    <tr>\n",
       "      <th>5</th>\n",
       "      <td>0</td>\n",
       "      <td>0.907239</td>\n",
       "      <td>49</td>\n",
       "      <td>1</td>\n",
       "      <td>0.024926</td>\n",
       "      <td>63588.0</td>\n",
       "      <td>7</td>\n",
       "      <td>0</td>\n",
       "      <td>1</td>\n",
       "      <td>0</td>\n",
       "      <td>0.0</td>\n",
       "    </tr>\n",
       "  </tbody>\n",
       "</table>\n",
       "</div>"
      ],
      "text/plain": [
       "   SeriousDlqin2yrs  RevolvingUtilizationOfUnsecuredLines  age  \\\n",
       "1                 1                              0.766127   45   \n",
       "2                 0                              0.957151   40   \n",
       "3                 0                              0.658180   38   \n",
       "4                 0                              0.233810   30   \n",
       "5                 0                              0.907239   49   \n",
       "\n",
       "   NumberOfTime30-59DaysPastDueNotWorse  DebtRatio  MonthlyIncome  \\\n",
       "1                                     2   0.802982         9120.0   \n",
       "2                                     0   0.121876         2600.0   \n",
       "3                                     1   0.085113         3042.0   \n",
       "4                                     0   0.036050         3300.0   \n",
       "5                                     1   0.024926        63588.0   \n",
       "\n",
       "   NumberOfOpenCreditLinesAndLoans  NumberOfTimes90DaysLate  \\\n",
       "1                               13                        0   \n",
       "2                                4                        0   \n",
       "3                                2                        1   \n",
       "4                                5                        0   \n",
       "5                                7                        0   \n",
       "\n",
       "   NumberRealEstateLoansOrLines  NumberOfTime60-89DaysPastDueNotWorse  \\\n",
       "1                             6                                     0   \n",
       "2                             0                                     0   \n",
       "3                             0                                     0   \n",
       "4                             0                                     0   \n",
       "5                             1                                     0   \n",
       "\n",
       "   NumberOfDependents  \n",
       "1                 2.0  \n",
       "2                 1.0  \n",
       "3                 0.0  \n",
       "4                 0.0  \n",
       "5                 0.0  "
      ]
     },
     "execution_count": 39,
     "metadata": {},
     "output_type": "execute_result"
    }
   ],
   "source": [
    "target_col  = 'SeriousDlqin2yrs'\n",
    "\n",
    "df = pd.read_csv('cs-training.csv', index_col=0)\n",
    "df = df.dropna()\n",
    "df.head()"
   ]
  },
  {
   "cell_type": "code",
   "execution_count": 340,
   "metadata": {},
   "outputs": [
    {
     "data": {
      "text/html": [
       "<div>\n",
       "<style scoped>\n",
       "    .dataframe tbody tr th:only-of-type {\n",
       "        vertical-align: middle;\n",
       "    }\n",
       "\n",
       "    .dataframe tbody tr th {\n",
       "        vertical-align: top;\n",
       "    }\n",
       "\n",
       "    .dataframe thead th {\n",
       "        text-align: right;\n",
       "    }\n",
       "</style>\n",
       "<table border=\"1\" class=\"dataframe\">\n",
       "  <thead>\n",
       "    <tr style=\"text-align: right;\">\n",
       "      <th></th>\n",
       "      <th>SeriousDlqin2yrs</th>\n",
       "      <th>RevolvingUtilizationOfUnsecuredLines</th>\n",
       "      <th>age</th>\n",
       "      <th>NumberOfTime30-59DaysPastDueNotWorse</th>\n",
       "      <th>DebtRatio</th>\n",
       "      <th>MonthlyIncome</th>\n",
       "      <th>NumberOfOpenCreditLinesAndLoans</th>\n",
       "      <th>NumberOfTimes90DaysLate</th>\n",
       "      <th>NumberRealEstateLoansOrLines</th>\n",
       "      <th>NumberOfTime60-89DaysPastDueNotWorse</th>\n",
       "      <th>NumberOfDependents</th>\n",
       "    </tr>\n",
       "  </thead>\n",
       "  <tbody>\n",
       "    <tr>\n",
       "      <th>count</th>\n",
       "      <td>120269.000000</td>\n",
       "      <td>120269.000000</td>\n",
       "      <td>120269.000000</td>\n",
       "      <td>120269.000000</td>\n",
       "      <td>120269.000000</td>\n",
       "      <td>1.202690e+05</td>\n",
       "      <td>120269.000000</td>\n",
       "      <td>120269.000000</td>\n",
       "      <td>120269.000000</td>\n",
       "      <td>120269.000000</td>\n",
       "      <td>120269.000000</td>\n",
       "    </tr>\n",
       "    <tr>\n",
       "      <th>mean</th>\n",
       "      <td>0.069486</td>\n",
       "      <td>5.899873</td>\n",
       "      <td>51.289792</td>\n",
       "      <td>0.381769</td>\n",
       "      <td>26.598777</td>\n",
       "      <td>6.670221e+03</td>\n",
       "      <td>8.758475</td>\n",
       "      <td>0.211925</td>\n",
       "      <td>1.054519</td>\n",
       "      <td>0.187829</td>\n",
       "      <td>0.851832</td>\n",
       "    </tr>\n",
       "    <tr>\n",
       "      <th>std</th>\n",
       "      <td>0.254280</td>\n",
       "      <td>257.040685</td>\n",
       "      <td>14.426684</td>\n",
       "      <td>3.499234</td>\n",
       "      <td>424.446457</td>\n",
       "      <td>1.438467e+04</td>\n",
       "      <td>5.172835</td>\n",
       "      <td>3.465276</td>\n",
       "      <td>1.149273</td>\n",
       "      <td>3.447901</td>\n",
       "      <td>1.148391</td>\n",
       "    </tr>\n",
       "    <tr>\n",
       "      <th>min</th>\n",
       "      <td>0.000000</td>\n",
       "      <td>0.000000</td>\n",
       "      <td>0.000000</td>\n",
       "      <td>0.000000</td>\n",
       "      <td>0.000000</td>\n",
       "      <td>0.000000e+00</td>\n",
       "      <td>0.000000</td>\n",
       "      <td>0.000000</td>\n",
       "      <td>0.000000</td>\n",
       "      <td>0.000000</td>\n",
       "      <td>0.000000</td>\n",
       "    </tr>\n",
       "    <tr>\n",
       "      <th>25%</th>\n",
       "      <td>0.000000</td>\n",
       "      <td>0.035084</td>\n",
       "      <td>40.000000</td>\n",
       "      <td>0.000000</td>\n",
       "      <td>0.143388</td>\n",
       "      <td>3.400000e+03</td>\n",
       "      <td>5.000000</td>\n",
       "      <td>0.000000</td>\n",
       "      <td>0.000000</td>\n",
       "      <td>0.000000</td>\n",
       "      <td>0.000000</td>\n",
       "    </tr>\n",
       "    <tr>\n",
       "      <th>50%</th>\n",
       "      <td>0.000000</td>\n",
       "      <td>0.177282</td>\n",
       "      <td>51.000000</td>\n",
       "      <td>0.000000</td>\n",
       "      <td>0.296023</td>\n",
       "      <td>5.400000e+03</td>\n",
       "      <td>8.000000</td>\n",
       "      <td>0.000000</td>\n",
       "      <td>1.000000</td>\n",
       "      <td>0.000000</td>\n",
       "      <td>0.000000</td>\n",
       "    </tr>\n",
       "    <tr>\n",
       "      <th>75%</th>\n",
       "      <td>0.000000</td>\n",
       "      <td>0.579428</td>\n",
       "      <td>61.000000</td>\n",
       "      <td>0.000000</td>\n",
       "      <td>0.482559</td>\n",
       "      <td>8.249000e+03</td>\n",
       "      <td>11.000000</td>\n",
       "      <td>0.000000</td>\n",
       "      <td>2.000000</td>\n",
       "      <td>0.000000</td>\n",
       "      <td>2.000000</td>\n",
       "    </tr>\n",
       "    <tr>\n",
       "      <th>max</th>\n",
       "      <td>1.000000</td>\n",
       "      <td>50708.000000</td>\n",
       "      <td>103.000000</td>\n",
       "      <td>98.000000</td>\n",
       "      <td>61106.500000</td>\n",
       "      <td>3.008750e+06</td>\n",
       "      <td>58.000000</td>\n",
       "      <td>98.000000</td>\n",
       "      <td>54.000000</td>\n",
       "      <td>98.000000</td>\n",
       "      <td>20.000000</td>\n",
       "    </tr>\n",
       "  </tbody>\n",
       "</table>\n",
       "</div>"
      ],
      "text/plain": [
       "       SeriousDlqin2yrs  RevolvingUtilizationOfUnsecuredLines            age  \\\n",
       "count     120269.000000                         120269.000000  120269.000000   \n",
       "mean           0.069486                              5.899873      51.289792   \n",
       "std            0.254280                            257.040685      14.426684   \n",
       "min            0.000000                              0.000000       0.000000   \n",
       "25%            0.000000                              0.035084      40.000000   \n",
       "50%            0.000000                              0.177282      51.000000   \n",
       "75%            0.000000                              0.579428      61.000000   \n",
       "max            1.000000                          50708.000000     103.000000   \n",
       "\n",
       "       NumberOfTime30-59DaysPastDueNotWorse      DebtRatio  MonthlyIncome  \\\n",
       "count                         120269.000000  120269.000000   1.202690e+05   \n",
       "mean                               0.381769      26.598777   6.670221e+03   \n",
       "std                                3.499234     424.446457   1.438467e+04   \n",
       "min                                0.000000       0.000000   0.000000e+00   \n",
       "25%                                0.000000       0.143388   3.400000e+03   \n",
       "50%                                0.000000       0.296023   5.400000e+03   \n",
       "75%                                0.000000       0.482559   8.249000e+03   \n",
       "max                               98.000000   61106.500000   3.008750e+06   \n",
       "\n",
       "       NumberOfOpenCreditLinesAndLoans  NumberOfTimes90DaysLate  \\\n",
       "count                    120269.000000            120269.000000   \n",
       "mean                          8.758475                 0.211925   \n",
       "std                           5.172835                 3.465276   \n",
       "min                           0.000000                 0.000000   \n",
       "25%                           5.000000                 0.000000   \n",
       "50%                           8.000000                 0.000000   \n",
       "75%                          11.000000                 0.000000   \n",
       "max                          58.000000                98.000000   \n",
       "\n",
       "       NumberRealEstateLoansOrLines  NumberOfTime60-89DaysPastDueNotWorse  \\\n",
       "count                 120269.000000                         120269.000000   \n",
       "mean                       1.054519                              0.187829   \n",
       "std                        1.149273                              3.447901   \n",
       "min                        0.000000                              0.000000   \n",
       "25%                        0.000000                              0.000000   \n",
       "50%                        1.000000                              0.000000   \n",
       "75%                        2.000000                              0.000000   \n",
       "max                       54.000000                             98.000000   \n",
       "\n",
       "       NumberOfDependents  \n",
       "count       120269.000000  \n",
       "mean             0.851832  \n",
       "std              1.148391  \n",
       "min              0.000000  \n",
       "25%              0.000000  \n",
       "50%              0.000000  \n",
       "75%              2.000000  \n",
       "max             20.000000  "
      ]
     },
     "execution_count": 340,
     "metadata": {},
     "output_type": "execute_result"
    }
   ],
   "source": [
    "df.describe()"
   ]
  },
  {
   "cell_type": "code",
   "execution_count": 40,
   "metadata": {},
   "outputs": [],
   "source": [
    "X = df.drop([target_col], axis=1)\n",
    "y = df[[target_col]]\n",
    "\n",
    "X_train, X_test, y_train, y_test = train_test_split(X, y)"
   ]
  },
  {
   "cell_type": "code",
   "execution_count": 325,
   "metadata": {},
   "outputs": [
    {
     "name": "stderr",
     "output_type": "stream",
     "text": [
      "/Users/michal.janik/studia/XAI/.env/lib/python3.9/site-packages/xgboost/data.py:335: FutureWarning:\n",
      "\n",
      "is_sparse is deprecated and will be removed in a future version. Check `isinstance(dtype, pd.SparseDtype)` instead.\n",
      "\n",
      "/Users/michal.janik/studia/XAI/.env/lib/python3.9/site-packages/xgboost/data.py:338: FutureWarning:\n",
      "\n",
      "is_categorical_dtype is deprecated and will be removed in a future version. Use isinstance(dtype, CategoricalDtype) instead\n",
      "\n",
      "/Users/michal.janik/studia/XAI/.env/lib/python3.9/site-packages/xgboost/data.py:384: FutureWarning:\n",
      "\n",
      "is_categorical_dtype is deprecated and will be removed in a future version. Use isinstance(dtype, CategoricalDtype) instead\n",
      "\n",
      "/Users/michal.janik/studia/XAI/.env/lib/python3.9/site-packages/xgboost/data.py:359: FutureWarning:\n",
      "\n",
      "is_categorical_dtype is deprecated and will be removed in a future version. Use isinstance(dtype, CategoricalDtype) instead\n",
      "\n",
      "/Users/michal.janik/studia/XAI/.env/lib/python3.9/site-packages/xgboost/data.py:384: FutureWarning:\n",
      "\n",
      "is_categorical_dtype is deprecated and will be removed in a future version. Use isinstance(dtype, CategoricalDtype) instead\n",
      "\n",
      "/Users/michal.janik/studia/XAI/.env/lib/python3.9/site-packages/xgboost/data.py:359: FutureWarning:\n",
      "\n",
      "is_categorical_dtype is deprecated and will be removed in a future version. Use isinstance(dtype, CategoricalDtype) instead\n",
      "\n",
      "/Users/michal.janik/studia/XAI/.env/lib/python3.9/site-packages/xgboost/data.py:384: FutureWarning:\n",
      "\n",
      "is_categorical_dtype is deprecated and will be removed in a future version. Use isinstance(dtype, CategoricalDtype) instead\n",
      "\n",
      "/Users/michal.janik/studia/XAI/.env/lib/python3.9/site-packages/xgboost/data.py:359: FutureWarning:\n",
      "\n",
      "is_categorical_dtype is deprecated and will be removed in a future version. Use isinstance(dtype, CategoricalDtype) instead\n",
      "\n",
      "/Users/michal.janik/studia/XAI/.env/lib/python3.9/site-packages/xgboost/data.py:384: FutureWarning:\n",
      "\n",
      "is_categorical_dtype is deprecated and will be removed in a future version. Use isinstance(dtype, CategoricalDtype) instead\n",
      "\n",
      "/Users/michal.janik/studia/XAI/.env/lib/python3.9/site-packages/xgboost/data.py:359: FutureWarning:\n",
      "\n",
      "is_categorical_dtype is deprecated and will be removed in a future version. Use isinstance(dtype, CategoricalDtype) instead\n",
      "\n",
      "/Users/michal.janik/studia/XAI/.env/lib/python3.9/site-packages/xgboost/data.py:384: FutureWarning:\n",
      "\n",
      "is_categorical_dtype is deprecated and will be removed in a future version. Use isinstance(dtype, CategoricalDtype) instead\n",
      "\n",
      "/Users/michal.janik/studia/XAI/.env/lib/python3.9/site-packages/xgboost/data.py:359: FutureWarning:\n",
      "\n",
      "is_categorical_dtype is deprecated and will be removed in a future version. Use isinstance(dtype, CategoricalDtype) instead\n",
      "\n"
     ]
    },
    {
     "data": {
      "text/html": [
       "<style>#sk-container-id-19 {color: black;}#sk-container-id-19 pre{padding: 0;}#sk-container-id-19 div.sk-toggleable {background-color: white;}#sk-container-id-19 label.sk-toggleable__label {cursor: pointer;display: block;width: 100%;margin-bottom: 0;padding: 0.3em;box-sizing: border-box;text-align: center;}#sk-container-id-19 label.sk-toggleable__label-arrow:before {content: \"▸\";float: left;margin-right: 0.25em;color: #696969;}#sk-container-id-19 label.sk-toggleable__label-arrow:hover:before {color: black;}#sk-container-id-19 div.sk-estimator:hover label.sk-toggleable__label-arrow:before {color: black;}#sk-container-id-19 div.sk-toggleable__content {max-height: 0;max-width: 0;overflow: hidden;text-align: left;background-color: #f0f8ff;}#sk-container-id-19 div.sk-toggleable__content pre {margin: 0.2em;color: black;border-radius: 0.25em;background-color: #f0f8ff;}#sk-container-id-19 input.sk-toggleable__control:checked~div.sk-toggleable__content {max-height: 200px;max-width: 100%;overflow: auto;}#sk-container-id-19 input.sk-toggleable__control:checked~label.sk-toggleable__label-arrow:before {content: \"▾\";}#sk-container-id-19 div.sk-estimator input.sk-toggleable__control:checked~label.sk-toggleable__label {background-color: #d4ebff;}#sk-container-id-19 div.sk-label input.sk-toggleable__control:checked~label.sk-toggleable__label {background-color: #d4ebff;}#sk-container-id-19 input.sk-hidden--visually {border: 0;clip: rect(1px 1px 1px 1px);clip: rect(1px, 1px, 1px, 1px);height: 1px;margin: -1px;overflow: hidden;padding: 0;position: absolute;width: 1px;}#sk-container-id-19 div.sk-estimator {font-family: monospace;background-color: #f0f8ff;border: 1px dotted black;border-radius: 0.25em;box-sizing: border-box;margin-bottom: 0.5em;}#sk-container-id-19 div.sk-estimator:hover {background-color: #d4ebff;}#sk-container-id-19 div.sk-parallel-item::after {content: \"\";width: 100%;border-bottom: 1px solid gray;flex-grow: 1;}#sk-container-id-19 div.sk-label:hover label.sk-toggleable__label {background-color: #d4ebff;}#sk-container-id-19 div.sk-serial::before {content: \"\";position: absolute;border-left: 1px solid gray;box-sizing: border-box;top: 0;bottom: 0;left: 50%;z-index: 0;}#sk-container-id-19 div.sk-serial {display: flex;flex-direction: column;align-items: center;background-color: white;padding-right: 0.2em;padding-left: 0.2em;position: relative;}#sk-container-id-19 div.sk-item {position: relative;z-index: 1;}#sk-container-id-19 div.sk-parallel {display: flex;align-items: stretch;justify-content: center;background-color: white;position: relative;}#sk-container-id-19 div.sk-item::before, #sk-container-id-19 div.sk-parallel-item::before {content: \"\";position: absolute;border-left: 1px solid gray;box-sizing: border-box;top: 0;bottom: 0;left: 50%;z-index: -1;}#sk-container-id-19 div.sk-parallel-item {display: flex;flex-direction: column;z-index: 1;position: relative;background-color: white;}#sk-container-id-19 div.sk-parallel-item:first-child::after {align-self: flex-end;width: 50%;}#sk-container-id-19 div.sk-parallel-item:last-child::after {align-self: flex-start;width: 50%;}#sk-container-id-19 div.sk-parallel-item:only-child::after {width: 0;}#sk-container-id-19 div.sk-dashed-wrapped {border: 1px dashed gray;margin: 0 0.4em 0.5em 0.4em;box-sizing: border-box;padding-bottom: 0.4em;background-color: white;}#sk-container-id-19 div.sk-label label {font-family: monospace;font-weight: bold;display: inline-block;line-height: 1.2em;}#sk-container-id-19 div.sk-label-container {text-align: center;}#sk-container-id-19 div.sk-container {/* jupyter's `normalize.less` sets `[hidden] { display: none; }` but bootstrap.min.css set `[hidden] { display: none !important; }` so we also need the `!important` here to be able to override the default hidden behavior on the sphinx rendered scikit-learn.org. See: https://github.com/scikit-learn/scikit-learn/issues/21755 */display: inline-block !important;position: relative;}#sk-container-id-19 div.sk-text-repr-fallback {display: none;}</style><div id=\"sk-container-id-19\" class=\"sk-top-container\"><div class=\"sk-text-repr-fallback\"><pre>XGBClassifier(base_score=None, booster=None, callbacks=None,\n",
       "              colsample_bylevel=None, colsample_bynode=None,\n",
       "              colsample_bytree=None, device=None, early_stopping_rounds=None,\n",
       "              enable_categorical=False, eval_metric=None, feature_types=None,\n",
       "              gamma=None, grow_policy=None, importance_type=None,\n",
       "              interaction_constraints=None, learning_rate=None, max_bin=None,\n",
       "              max_cat_threshold=None, max_cat_to_onehot=None,\n",
       "              max_delta_step=None, max_depth=7, max_leaves=None,\n",
       "              min_child_weight=None, missing=nan, monotone_constraints=None,\n",
       "              multi_strategy=None, n_estimators=None, n_jobs=None,\n",
       "              num_parallel_tree=None, random_state=None, ...)</pre><b>In a Jupyter environment, please rerun this cell to show the HTML representation or trust the notebook. <br />On GitHub, the HTML representation is unable to render, please try loading this page with nbviewer.org.</b></div><div class=\"sk-container\" hidden><div class=\"sk-item\"><div class=\"sk-estimator sk-toggleable\"><input class=\"sk-toggleable__control sk-hidden--visually\" id=\"sk-estimator-id-19\" type=\"checkbox\" checked><label for=\"sk-estimator-id-19\" class=\"sk-toggleable__label sk-toggleable__label-arrow\">XGBClassifier</label><div class=\"sk-toggleable__content\"><pre>XGBClassifier(base_score=None, booster=None, callbacks=None,\n",
       "              colsample_bylevel=None, colsample_bynode=None,\n",
       "              colsample_bytree=None, device=None, early_stopping_rounds=None,\n",
       "              enable_categorical=False, eval_metric=None, feature_types=None,\n",
       "              gamma=None, grow_policy=None, importance_type=None,\n",
       "              interaction_constraints=None, learning_rate=None, max_bin=None,\n",
       "              max_cat_threshold=None, max_cat_to_onehot=None,\n",
       "              max_delta_step=None, max_depth=7, max_leaves=None,\n",
       "              min_child_weight=None, missing=nan, monotone_constraints=None,\n",
       "              multi_strategy=None, n_estimators=None, n_jobs=None,\n",
       "              num_parallel_tree=None, random_state=None, ...)</pre></div></div></div></div></div>"
      ],
      "text/plain": [
       "XGBClassifier(base_score=None, booster=None, callbacks=None,\n",
       "              colsample_bylevel=None, colsample_bynode=None,\n",
       "              colsample_bytree=None, device=None, early_stopping_rounds=None,\n",
       "              enable_categorical=False, eval_metric=None, feature_types=None,\n",
       "              gamma=None, grow_policy=None, importance_type=None,\n",
       "              interaction_constraints=None, learning_rate=None, max_bin=None,\n",
       "              max_cat_threshold=None, max_cat_to_onehot=None,\n",
       "              max_delta_step=None, max_depth=7, max_leaves=None,\n",
       "              min_child_weight=None, missing=nan, monotone_constraints=None,\n",
       "              multi_strategy=None, n_estimators=None, n_jobs=None,\n",
       "              num_parallel_tree=None, random_state=None, ...)"
      ]
     },
     "execution_count": 325,
     "metadata": {},
     "output_type": "execute_result"
    }
   ],
   "source": [
    "model = xgboost.XGBClassifier(max_depth=7)\n",
    "\n",
    "model.fit(X_train, y_train)"
   ]
  },
  {
   "cell_type": "markdown",
   "metadata": {},
   "source": [
    "### Fairness analysis"
   ]
  },
  {
   "cell_type": "code",
   "execution_count": 326,
   "metadata": {},
   "outputs": [
    {
     "name": "stdout",
     "output_type": "stream",
     "text": [
      "Preparation of a new explainer is initiated\n",
      "\n",
      "  -> data              : 30068 rows 10 cols\n",
      "  -> target variable   : Parameter 'y' was a pandas.DataFrame. Converted to a numpy.ndarray.\n",
      "  -> target variable   : 30068 values\n",
      "  -> model_class       : xgboost.sklearn.XGBClassifier (default)\n",
      "  -> label             : Not specified, model's class short name will be used. (default)\n",
      "  -> predict function  : <function pf_xgboost_classifier_categorical at 0x13b8dfdc0> will be used\n",
      "  -> predict function  : Accepts only pandas.DataFrame, numpy.ndarray causes problems.\n",
      "  -> predicted values  : min = 9.7e-05, mean = 0.0672, max = 0.976\n",
      "  -> model type        : classification will be used (default)\n",
      "  -> residual function : difference between y and yhat (default)\n",
      "  -> residuals         : min = -0.963, mean = 0.00326, max = 1.0\n",
      "  -> model_info        : package xgboost\n",
      "\n",
      "A new explainer has been created!\n"
     ]
    },
    {
     "name": "stderr",
     "output_type": "stream",
     "text": [
      "/Users/michal.janik/studia/XAI/.env/lib/python3.9/site-packages/xgboost/data.py:335: FutureWarning:\n",
      "\n",
      "is_sparse is deprecated and will be removed in a future version. Check `isinstance(dtype, pd.SparseDtype)` instead.\n",
      "\n",
      "/Users/michal.janik/studia/XAI/.env/lib/python3.9/site-packages/xgboost/data.py:338: FutureWarning:\n",
      "\n",
      "is_categorical_dtype is deprecated and will be removed in a future version. Use isinstance(dtype, CategoricalDtype) instead\n",
      "\n",
      "/Users/michal.janik/studia/XAI/.env/lib/python3.9/site-packages/xgboost/data.py:384: FutureWarning:\n",
      "\n",
      "is_categorical_dtype is deprecated and will be removed in a future version. Use isinstance(dtype, CategoricalDtype) instead\n",
      "\n",
      "/Users/michal.janik/studia/XAI/.env/lib/python3.9/site-packages/xgboost/data.py:359: FutureWarning:\n",
      "\n",
      "is_categorical_dtype is deprecated and will be removed in a future version. Use isinstance(dtype, CategoricalDtype) instead\n",
      "\n",
      "/Users/michal.janik/studia/XAI/.env/lib/python3.9/site-packages/xgboost/data.py:335: FutureWarning:\n",
      "\n",
      "is_sparse is deprecated and will be removed in a future version. Check `isinstance(dtype, pd.SparseDtype)` instead.\n",
      "\n",
      "/Users/michal.janik/studia/XAI/.env/lib/python3.9/site-packages/xgboost/data.py:338: FutureWarning:\n",
      "\n",
      "is_categorical_dtype is deprecated and will be removed in a future version. Use isinstance(dtype, CategoricalDtype) instead\n",
      "\n",
      "/Users/michal.janik/studia/XAI/.env/lib/python3.9/site-packages/xgboost/data.py:384: FutureWarning:\n",
      "\n",
      "is_categorical_dtype is deprecated and will be removed in a future version. Use isinstance(dtype, CategoricalDtype) instead\n",
      "\n",
      "/Users/michal.janik/studia/XAI/.env/lib/python3.9/site-packages/xgboost/data.py:359: FutureWarning:\n",
      "\n",
      "is_categorical_dtype is deprecated and will be removed in a future version. Use isinstance(dtype, CategoricalDtype) instead\n",
      "\n"
     ]
    }
   ],
   "source": [
    "def pf_xgboost_classifier_categorical(model, df):\n",
    "    df.loc[:, df.dtypes == 'object'] =\\\n",
    "        df.select_dtypes(['object'])\\\n",
    "        .apply(lambda x: x.astype('category'))\n",
    "    return model.predict_proba(df)[:, 1]\n",
    "    \n",
    "explainer = dx.Explainer(model, X_test, y_test, predict_function=pf_xgboost_classifier_categorical)"
   ]
  },
  {
   "cell_type": "code",
   "execution_count": 327,
   "metadata": {},
   "outputs": [
    {
     "data": {
      "text/html": [
       "<div>\n",
       "<style scoped>\n",
       "    .dataframe tbody tr th:only-of-type {\n",
       "        vertical-align: middle;\n",
       "    }\n",
       "\n",
       "    .dataframe tbody tr th {\n",
       "        vertical-align: top;\n",
       "    }\n",
       "\n",
       "    .dataframe thead th {\n",
       "        text-align: right;\n",
       "    }\n",
       "</style>\n",
       "<table border=\"1\" class=\"dataframe\">\n",
       "  <thead>\n",
       "    <tr style=\"text-align: right;\">\n",
       "      <th></th>\n",
       "      <th>recall</th>\n",
       "      <th>precision</th>\n",
       "      <th>f1</th>\n",
       "      <th>accuracy</th>\n",
       "      <th>auc</th>\n",
       "    </tr>\n",
       "  </thead>\n",
       "  <tbody>\n",
       "    <tr>\n",
       "      <th>XGBClassifier</th>\n",
       "      <td>0.188385</td>\n",
       "      <td>0.52988</td>\n",
       "      <td>0.277952</td>\n",
       "      <td>0.931056</td>\n",
       "      <td>0.839314</td>\n",
       "    </tr>\n",
       "  </tbody>\n",
       "</table>\n",
       "</div>"
      ],
      "text/plain": [
       "<dalex.model_explanations._model_performance.object.ModelPerformance at 0x136a11f40>"
      ]
     },
     "execution_count": 327,
     "metadata": {},
     "output_type": "execute_result"
    }
   ],
   "source": [
    "explainer.model_performance()"
   ]
  },
  {
   "cell_type": "code",
   "execution_count": 328,
   "metadata": {},
   "outputs": [
    {
     "name": "stderr",
     "output_type": "stream",
     "text": [
      "Calculating ceteris paribus:   0%|          | 0/10 [00:00<?, ?it/s]/Users/michal.janik/studia/XAI/.env/lib/python3.9/site-packages/xgboost/data.py:335: FutureWarning:\n",
      "\n",
      "is_sparse is deprecated and will be removed in a future version. Check `isinstance(dtype, pd.SparseDtype)` instead.\n",
      "\n",
      "/Users/michal.janik/studia/XAI/.env/lib/python3.9/site-packages/xgboost/data.py:338: FutureWarning:\n",
      "\n",
      "is_categorical_dtype is deprecated and will be removed in a future version. Use isinstance(dtype, CategoricalDtype) instead\n",
      "\n",
      "/Users/michal.janik/studia/XAI/.env/lib/python3.9/site-packages/xgboost/data.py:384: FutureWarning:\n",
      "\n",
      "is_categorical_dtype is deprecated and will be removed in a future version. Use isinstance(dtype, CategoricalDtype) instead\n",
      "\n",
      "/Users/michal.janik/studia/XAI/.env/lib/python3.9/site-packages/xgboost/data.py:359: FutureWarning:\n",
      "\n",
      "is_categorical_dtype is deprecated and will be removed in a future version. Use isinstance(dtype, CategoricalDtype) instead\n",
      "\n",
      "/Users/michal.janik/studia/XAI/.env/lib/python3.9/site-packages/xgboost/data.py:335: FutureWarning:\n",
      "\n",
      "is_sparse is deprecated and will be removed in a future version. Check `isinstance(dtype, pd.SparseDtype)` instead.\n",
      "\n",
      "/Users/michal.janik/studia/XAI/.env/lib/python3.9/site-packages/xgboost/data.py:338: FutureWarning:\n",
      "\n",
      "is_categorical_dtype is deprecated and will be removed in a future version. Use isinstance(dtype, CategoricalDtype) instead\n",
      "\n",
      "/Users/michal.janik/studia/XAI/.env/lib/python3.9/site-packages/xgboost/data.py:384: FutureWarning:\n",
      "\n",
      "is_categorical_dtype is deprecated and will be removed in a future version. Use isinstance(dtype, CategoricalDtype) instead\n",
      "\n",
      "/Users/michal.janik/studia/XAI/.env/lib/python3.9/site-packages/xgboost/data.py:359: FutureWarning:\n",
      "\n",
      "is_categorical_dtype is deprecated and will be removed in a future version. Use isinstance(dtype, CategoricalDtype) instead\n",
      "\n",
      "/Users/michal.janik/studia/XAI/.env/lib/python3.9/site-packages/xgboost/data.py:335: FutureWarning:\n",
      "\n",
      "is_sparse is deprecated and will be removed in a future version. Check `isinstance(dtype, pd.SparseDtype)` instead.\n",
      "\n",
      "/Users/michal.janik/studia/XAI/.env/lib/python3.9/site-packages/xgboost/data.py:338: FutureWarning:\n",
      "\n",
      "is_categorical_dtype is deprecated and will be removed in a future version. Use isinstance(dtype, CategoricalDtype) instead\n",
      "\n",
      "/Users/michal.janik/studia/XAI/.env/lib/python3.9/site-packages/xgboost/data.py:384: FutureWarning:\n",
      "\n",
      "is_categorical_dtype is deprecated and will be removed in a future version. Use isinstance(dtype, CategoricalDtype) instead\n",
      "\n",
      "/Users/michal.janik/studia/XAI/.env/lib/python3.9/site-packages/xgboost/data.py:359: FutureWarning:\n",
      "\n",
      "is_categorical_dtype is deprecated and will be removed in a future version. Use isinstance(dtype, CategoricalDtype) instead\n",
      "\n",
      "Calculating ceteris paribus:  30%|███       | 3/10 [00:00<00:00, 28.85it/s]/Users/michal.janik/studia/XAI/.env/lib/python3.9/site-packages/xgboost/data.py:335: FutureWarning:\n",
      "\n",
      "is_sparse is deprecated and will be removed in a future version. Check `isinstance(dtype, pd.SparseDtype)` instead.\n",
      "\n",
      "/Users/michal.janik/studia/XAI/.env/lib/python3.9/site-packages/xgboost/data.py:338: FutureWarning:\n",
      "\n",
      "is_categorical_dtype is deprecated and will be removed in a future version. Use isinstance(dtype, CategoricalDtype) instead\n",
      "\n",
      "/Users/michal.janik/studia/XAI/.env/lib/python3.9/site-packages/xgboost/data.py:384: FutureWarning:\n",
      "\n",
      "is_categorical_dtype is deprecated and will be removed in a future version. Use isinstance(dtype, CategoricalDtype) instead\n",
      "\n",
      "/Users/michal.janik/studia/XAI/.env/lib/python3.9/site-packages/xgboost/data.py:359: FutureWarning:\n",
      "\n",
      "is_categorical_dtype is deprecated and will be removed in a future version. Use isinstance(dtype, CategoricalDtype) instead\n",
      "\n",
      "/Users/michal.janik/studia/XAI/.env/lib/python3.9/site-packages/xgboost/data.py:335: FutureWarning:\n",
      "\n",
      "is_sparse is deprecated and will be removed in a future version. Check `isinstance(dtype, pd.SparseDtype)` instead.\n",
      "\n",
      "/Users/michal.janik/studia/XAI/.env/lib/python3.9/site-packages/xgboost/data.py:338: FutureWarning:\n",
      "\n",
      "is_categorical_dtype is deprecated and will be removed in a future version. Use isinstance(dtype, CategoricalDtype) instead\n",
      "\n",
      "/Users/michal.janik/studia/XAI/.env/lib/python3.9/site-packages/xgboost/data.py:384: FutureWarning:\n",
      "\n",
      "is_categorical_dtype is deprecated and will be removed in a future version. Use isinstance(dtype, CategoricalDtype) instead\n",
      "\n",
      "/Users/michal.janik/studia/XAI/.env/lib/python3.9/site-packages/xgboost/data.py:359: FutureWarning:\n",
      "\n",
      "is_categorical_dtype is deprecated and will be removed in a future version. Use isinstance(dtype, CategoricalDtype) instead\n",
      "\n",
      "/Users/michal.janik/studia/XAI/.env/lib/python3.9/site-packages/xgboost/data.py:335: FutureWarning:\n",
      "\n",
      "is_sparse is deprecated and will be removed in a future version. Check `isinstance(dtype, pd.SparseDtype)` instead.\n",
      "\n",
      "/Users/michal.janik/studia/XAI/.env/lib/python3.9/site-packages/xgboost/data.py:338: FutureWarning:\n",
      "\n",
      "is_categorical_dtype is deprecated and will be removed in a future version. Use isinstance(dtype, CategoricalDtype) instead\n",
      "\n",
      "/Users/michal.janik/studia/XAI/.env/lib/python3.9/site-packages/xgboost/data.py:384: FutureWarning:\n",
      "\n",
      "is_categorical_dtype is deprecated and will be removed in a future version. Use isinstance(dtype, CategoricalDtype) instead\n",
      "\n",
      "/Users/michal.janik/studia/XAI/.env/lib/python3.9/site-packages/xgboost/data.py:359: FutureWarning:\n",
      "\n",
      "is_categorical_dtype is deprecated and will be removed in a future version. Use isinstance(dtype, CategoricalDtype) instead\n",
      "\n",
      "/Users/michal.janik/studia/XAI/.env/lib/python3.9/site-packages/xgboost/data.py:335: FutureWarning:\n",
      "\n",
      "is_sparse is deprecated and will be removed in a future version. Check `isinstance(dtype, pd.SparseDtype)` instead.\n",
      "\n",
      "/Users/michal.janik/studia/XAI/.env/lib/python3.9/site-packages/xgboost/data.py:338: FutureWarning:\n",
      "\n",
      "is_categorical_dtype is deprecated and will be removed in a future version. Use isinstance(dtype, CategoricalDtype) instead\n",
      "\n",
      "/Users/michal.janik/studia/XAI/.env/lib/python3.9/site-packages/xgboost/data.py:384: FutureWarning:\n",
      "\n",
      "is_categorical_dtype is deprecated and will be removed in a future version. Use isinstance(dtype, CategoricalDtype) instead\n",
      "\n",
      "/Users/michal.janik/studia/XAI/.env/lib/python3.9/site-packages/xgboost/data.py:359: FutureWarning:\n",
      "\n",
      "is_categorical_dtype is deprecated and will be removed in a future version. Use isinstance(dtype, CategoricalDtype) instead\n",
      "\n",
      "/Users/michal.janik/studia/XAI/.env/lib/python3.9/site-packages/xgboost/data.py:335: FutureWarning:\n",
      "\n",
      "is_sparse is deprecated and will be removed in a future version. Check `isinstance(dtype, pd.SparseDtype)` instead.\n",
      "\n",
      "/Users/michal.janik/studia/XAI/.env/lib/python3.9/site-packages/xgboost/data.py:338: FutureWarning:\n",
      "\n",
      "is_categorical_dtype is deprecated and will be removed in a future version. Use isinstance(dtype, CategoricalDtype) instead\n",
      "\n",
      "/Users/michal.janik/studia/XAI/.env/lib/python3.9/site-packages/xgboost/data.py:384: FutureWarning:\n",
      "\n",
      "is_categorical_dtype is deprecated and will be removed in a future version. Use isinstance(dtype, CategoricalDtype) instead\n",
      "\n",
      "/Users/michal.janik/studia/XAI/.env/lib/python3.9/site-packages/xgboost/data.py:359: FutureWarning:\n",
      "\n",
      "is_categorical_dtype is deprecated and will be removed in a future version. Use isinstance(dtype, CategoricalDtype) instead\n",
      "\n",
      "/Users/michal.janik/studia/XAI/.env/lib/python3.9/site-packages/xgboost/data.py:335: FutureWarning:\n",
      "\n",
      "is_sparse is deprecated and will be removed in a future version. Check `isinstance(dtype, pd.SparseDtype)` instead.\n",
      "\n",
      "/Users/michal.janik/studia/XAI/.env/lib/python3.9/site-packages/xgboost/data.py:338: FutureWarning:\n",
      "\n",
      "is_categorical_dtype is deprecated and will be removed in a future version. Use isinstance(dtype, CategoricalDtype) instead\n",
      "\n",
      "/Users/michal.janik/studia/XAI/.env/lib/python3.9/site-packages/xgboost/data.py:384: FutureWarning:\n",
      "\n",
      "is_categorical_dtype is deprecated and will be removed in a future version. Use isinstance(dtype, CategoricalDtype) instead\n",
      "\n",
      "/Users/michal.janik/studia/XAI/.env/lib/python3.9/site-packages/xgboost/data.py:359: FutureWarning:\n",
      "\n",
      "is_categorical_dtype is deprecated and will be removed in a future version. Use isinstance(dtype, CategoricalDtype) instead\n",
      "\n",
      "Calculating ceteris paribus:  90%|█████████ | 9/10 [00:00<00:00, 42.79it/s]/Users/michal.janik/studia/XAI/.env/lib/python3.9/site-packages/xgboost/data.py:335: FutureWarning:\n",
      "\n",
      "is_sparse is deprecated and will be removed in a future version. Check `isinstance(dtype, pd.SparseDtype)` instead.\n",
      "\n",
      "/Users/michal.janik/studia/XAI/.env/lib/python3.9/site-packages/xgboost/data.py:338: FutureWarning:\n",
      "\n",
      "is_categorical_dtype is deprecated and will be removed in a future version. Use isinstance(dtype, CategoricalDtype) instead\n",
      "\n",
      "/Users/michal.janik/studia/XAI/.env/lib/python3.9/site-packages/xgboost/data.py:384: FutureWarning:\n",
      "\n",
      "is_categorical_dtype is deprecated and will be removed in a future version. Use isinstance(dtype, CategoricalDtype) instead\n",
      "\n",
      "/Users/michal.janik/studia/XAI/.env/lib/python3.9/site-packages/xgboost/data.py:359: FutureWarning:\n",
      "\n",
      "is_categorical_dtype is deprecated and will be removed in a future version. Use isinstance(dtype, CategoricalDtype) instead\n",
      "\n",
      "Calculating ceteris paribus: 100%|██████████| 10/10 [00:00<00:00, 41.79it/s]\n",
      "/Users/michal.janik/studia/XAI/.env/lib/python3.9/site-packages/xgboost/data.py:335: FutureWarning:\n",
      "\n",
      "is_sparse is deprecated and will be removed in a future version. Check `isinstance(dtype, pd.SparseDtype)` instead.\n",
      "\n",
      "/Users/michal.janik/studia/XAI/.env/lib/python3.9/site-packages/xgboost/data.py:338: FutureWarning:\n",
      "\n",
      "is_categorical_dtype is deprecated and will be removed in a future version. Use isinstance(dtype, CategoricalDtype) instead\n",
      "\n",
      "/Users/michal.janik/studia/XAI/.env/lib/python3.9/site-packages/xgboost/data.py:384: FutureWarning:\n",
      "\n",
      "is_categorical_dtype is deprecated and will be removed in a future version. Use isinstance(dtype, CategoricalDtype) instead\n",
      "\n",
      "/Users/michal.janik/studia/XAI/.env/lib/python3.9/site-packages/xgboost/data.py:359: FutureWarning:\n",
      "\n",
      "is_categorical_dtype is deprecated and will be removed in a future version. Use isinstance(dtype, CategoricalDtype) instead\n",
      "\n",
      "/Users/michal.janik/studia/XAI/.env/lib/python3.9/site-packages/dalex/model_explanations/_aggregated_profiles/utils.py:144: FutureWarning:\n",
      "\n",
      "Setting an item of incompatible dtype is deprecated and will raise in a future error of pandas. Value '[    0.     507.08  1014.16 ... 49693.84 50200.92 50708.  ]' has dtype incompatible with int64, please explicitly cast to a compatible dtype first.\n",
      "\n"
     ]
    },
    {
     "data": {
      "application/vnd.plotly.v1+json": {
       "config": {
        "displaylogo": false,
        "modeBarButtonsToRemove": [
         "sendDataToCloud",
         "lasso2d",
         "autoScale2d",
         "select2d",
         "zoom2d",
         "pan2d",
         "zoomIn2d",
         "zoomOut2d",
         "resetScale2d",
         "toggleSpikelines",
         "hoverCompareCartesian",
         "hoverClosestCartesian"
        ],
        "plotlyServerURL": "https://plot.ly",
        "staticPlot": false,
        "toImageButtonOptions": {
         "height": null,
         "width": null
        }
       },
       "data": [
        {
         "customdata": [
          [
           0.0683632418513298,
           "XGBClassifier",
           "age"
          ],
          [
           0.0683632418513298,
           "XGBClassifier",
           "age"
          ],
          [
           0.0683632418513298,
           "XGBClassifier",
           "age"
          ],
          [
           0.0683632418513298,
           "XGBClassifier",
           "age"
          ],
          [
           0.0683632418513298,
           "XGBClassifier",
           "age"
          ],
          [
           0.0683632418513298,
           "XGBClassifier",
           "age"
          ],
          [
           0.0683632418513298,
           "XGBClassifier",
           "age"
          ],
          [
           0.0683632418513298,
           "XGBClassifier",
           "age"
          ],
          [
           0.0683632418513298,
           "XGBClassifier",
           "age"
          ],
          [
           0.0683632418513298,
           "XGBClassifier",
           "age"
          ],
          [
           0.0683632418513298,
           "XGBClassifier",
           "age"
          ],
          [
           0.0683632418513298,
           "XGBClassifier",
           "age"
          ],
          [
           0.0683632418513298,
           "XGBClassifier",
           "age"
          ],
          [
           0.0683632418513298,
           "XGBClassifier",
           "age"
          ],
          [
           0.0683632418513298,
           "XGBClassifier",
           "age"
          ],
          [
           0.0683632418513298,
           "XGBClassifier",
           "age"
          ],
          [
           0.0683632418513298,
           "XGBClassifier",
           "age"
          ],
          [
           0.0683632418513298,
           "XGBClassifier",
           "age"
          ],
          [
           0.0683632418513298,
           "XGBClassifier",
           "age"
          ],
          [
           0.0683632418513298,
           "XGBClassifier",
           "age"
          ],
          [
           0.0683632418513298,
           "XGBClassifier",
           "age"
          ],
          [
           0.0683632418513298,
           "XGBClassifier",
           "age"
          ],
          [
           0.0683632418513298,
           "XGBClassifier",
           "age"
          ],
          [
           0.0683632418513298,
           "XGBClassifier",
           "age"
          ],
          [
           0.0683632418513298,
           "XGBClassifier",
           "age"
          ],
          [
           0.0683632418513298,
           "XGBClassifier",
           "age"
          ],
          [
           0.0683632418513298,
           "XGBClassifier",
           "age"
          ],
          [
           0.0683632418513298,
           "XGBClassifier",
           "age"
          ],
          [
           0.0683632418513298,
           "XGBClassifier",
           "age"
          ],
          [
           0.0683632418513298,
           "XGBClassifier",
           "age"
          ],
          [
           0.0683632418513298,
           "XGBClassifier",
           "age"
          ],
          [
           0.0683632418513298,
           "XGBClassifier",
           "age"
          ],
          [
           0.0683632418513298,
           "XGBClassifier",
           "age"
          ],
          [
           0.0683632418513298,
           "XGBClassifier",
           "age"
          ],
          [
           0.0683632418513298,
           "XGBClassifier",
           "age"
          ],
          [
           0.0683632418513298,
           "XGBClassifier",
           "age"
          ],
          [
           0.0683632418513298,
           "XGBClassifier",
           "age"
          ],
          [
           0.0683632418513298,
           "XGBClassifier",
           "age"
          ],
          [
           0.0683632418513298,
           "XGBClassifier",
           "age"
          ],
          [
           0.0683632418513298,
           "XGBClassifier",
           "age"
          ],
          [
           0.0683632418513298,
           "XGBClassifier",
           "age"
          ],
          [
           0.0683632418513298,
           "XGBClassifier",
           "age"
          ],
          [
           0.0683632418513298,
           "XGBClassifier",
           "age"
          ],
          [
           0.0683632418513298,
           "XGBClassifier",
           "age"
          ],
          [
           0.0683632418513298,
           "XGBClassifier",
           "age"
          ],
          [
           0.0683632418513298,
           "XGBClassifier",
           "age"
          ],
          [
           0.0683632418513298,
           "XGBClassifier",
           "age"
          ],
          [
           0.0683632418513298,
           "XGBClassifier",
           "age"
          ],
          [
           0.0683632418513298,
           "XGBClassifier",
           "age"
          ],
          [
           0.0683632418513298,
           "XGBClassifier",
           "age"
          ],
          [
           0.0683632418513298,
           "XGBClassifier",
           "age"
          ],
          [
           0.0683632418513298,
           "XGBClassifier",
           "age"
          ],
          [
           0.0683632418513298,
           "XGBClassifier",
           "age"
          ],
          [
           0.0683632418513298,
           "XGBClassifier",
           "age"
          ],
          [
           0.0683632418513298,
           "XGBClassifier",
           "age"
          ],
          [
           0.0683632418513298,
           "XGBClassifier",
           "age"
          ],
          [
           0.0683632418513298,
           "XGBClassifier",
           "age"
          ],
          [
           0.0683632418513298,
           "XGBClassifier",
           "age"
          ],
          [
           0.0683632418513298,
           "XGBClassifier",
           "age"
          ],
          [
           0.0683632418513298,
           "XGBClassifier",
           "age"
          ],
          [
           0.0683632418513298,
           "XGBClassifier",
           "age"
          ],
          [
           0.0683632418513298,
           "XGBClassifier",
           "age"
          ],
          [
           0.0683632418513298,
           "XGBClassifier",
           "age"
          ],
          [
           0.0683632418513298,
           "XGBClassifier",
           "age"
          ],
          [
           0.0683632418513298,
           "XGBClassifier",
           "age"
          ],
          [
           0.0683632418513298,
           "XGBClassifier",
           "age"
          ],
          [
           0.0683632418513298,
           "XGBClassifier",
           "age"
          ],
          [
           0.0683632418513298,
           "XGBClassifier",
           "age"
          ],
          [
           0.0683632418513298,
           "XGBClassifier",
           "age"
          ],
          [
           0.0683632418513298,
           "XGBClassifier",
           "age"
          ],
          [
           0.0683632418513298,
           "XGBClassifier",
           "age"
          ],
          [
           0.0683632418513298,
           "XGBClassifier",
           "age"
          ],
          [
           0.0683632418513298,
           "XGBClassifier",
           "age"
          ],
          [
           0.0683632418513298,
           "XGBClassifier",
           "age"
          ],
          [
           0.0683632418513298,
           "XGBClassifier",
           "age"
          ],
          [
           0.0683632418513298,
           "XGBClassifier",
           "age"
          ],
          [
           0.0683632418513298,
           "XGBClassifier",
           "age"
          ],
          [
           0.0683632418513298,
           "XGBClassifier",
           "age"
          ],
          [
           0.0683632418513298,
           "XGBClassifier",
           "age"
          ],
          [
           0.0683632418513298,
           "XGBClassifier",
           "age"
          ],
          [
           0.0683632418513298,
           "XGBClassifier",
           "age"
          ],
          [
           0.0683632418513298,
           "XGBClassifier",
           "age"
          ],
          [
           0.0683632418513298,
           "XGBClassifier",
           "age"
          ],
          [
           0.0683632418513298,
           "XGBClassifier",
           "age"
          ],
          [
           0.0683632418513298,
           "XGBClassifier",
           "age"
          ],
          [
           0.0683632418513298,
           "XGBClassifier",
           "age"
          ],
          [
           0.0683632418513298,
           "XGBClassifier",
           "age"
          ],
          [
           0.0683632418513298,
           "XGBClassifier",
           "age"
          ],
          [
           0.0683632418513298,
           "XGBClassifier",
           "age"
          ],
          [
           0.0683632418513298,
           "XGBClassifier",
           "age"
          ],
          [
           0.0683632418513298,
           "XGBClassifier",
           "age"
          ],
          [
           0.0683632418513298,
           "XGBClassifier",
           "age"
          ],
          [
           0.0683632418513298,
           "XGBClassifier",
           "age"
          ],
          [
           0.0683632418513298,
           "XGBClassifier",
           "age"
          ],
          [
           0.0683632418513298,
           "XGBClassifier",
           "age"
          ],
          [
           0.0683632418513298,
           "XGBClassifier",
           "age"
          ],
          [
           0.0683632418513298,
           "XGBClassifier",
           "age"
          ],
          [
           0.0683632418513298,
           "XGBClassifier",
           "age"
          ],
          [
           0.0683632418513298,
           "XGBClassifier",
           "age"
          ],
          [
           0.0683632418513298,
           "XGBClassifier",
           "age"
          ],
          [
           0.0683632418513298,
           "XGBClassifier",
           "age"
          ]
         ],
         "hovertemplate": "<b>%{hovertext}</b><br><br>prediction=%{y:.3f}<br>mean_prediction=%{customdata[0]:.3f}<extra></extra>",
         "hovertext": [
          "XGBClassifier",
          "XGBClassifier",
          "XGBClassifier",
          "XGBClassifier",
          "XGBClassifier",
          "XGBClassifier",
          "XGBClassifier",
          "XGBClassifier",
          "XGBClassifier",
          "XGBClassifier",
          "XGBClassifier",
          "XGBClassifier",
          "XGBClassifier",
          "XGBClassifier",
          "XGBClassifier",
          "XGBClassifier",
          "XGBClassifier",
          "XGBClassifier",
          "XGBClassifier",
          "XGBClassifier",
          "XGBClassifier",
          "XGBClassifier",
          "XGBClassifier",
          "XGBClassifier",
          "XGBClassifier",
          "XGBClassifier",
          "XGBClassifier",
          "XGBClassifier",
          "XGBClassifier",
          "XGBClassifier",
          "XGBClassifier",
          "XGBClassifier",
          "XGBClassifier",
          "XGBClassifier",
          "XGBClassifier",
          "XGBClassifier",
          "XGBClassifier",
          "XGBClassifier",
          "XGBClassifier",
          "XGBClassifier",
          "XGBClassifier",
          "XGBClassifier",
          "XGBClassifier",
          "XGBClassifier",
          "XGBClassifier",
          "XGBClassifier",
          "XGBClassifier",
          "XGBClassifier",
          "XGBClassifier",
          "XGBClassifier",
          "XGBClassifier",
          "XGBClassifier",
          "XGBClassifier",
          "XGBClassifier",
          "XGBClassifier",
          "XGBClassifier",
          "XGBClassifier",
          "XGBClassifier",
          "XGBClassifier",
          "XGBClassifier",
          "XGBClassifier",
          "XGBClassifier",
          "XGBClassifier",
          "XGBClassifier",
          "XGBClassifier",
          "XGBClassifier",
          "XGBClassifier",
          "XGBClassifier",
          "XGBClassifier",
          "XGBClassifier",
          "XGBClassifier",
          "XGBClassifier",
          "XGBClassifier",
          "XGBClassifier",
          "XGBClassifier",
          "XGBClassifier",
          "XGBClassifier",
          "XGBClassifier",
          "XGBClassifier",
          "XGBClassifier",
          "XGBClassifier",
          "XGBClassifier",
          "XGBClassifier",
          "XGBClassifier",
          "XGBClassifier",
          "XGBClassifier",
          "XGBClassifier",
          "XGBClassifier",
          "XGBClassifier",
          "XGBClassifier",
          "XGBClassifier",
          "XGBClassifier",
          "XGBClassifier",
          "XGBClassifier",
          "XGBClassifier",
          "XGBClassifier",
          "XGBClassifier",
          "XGBClassifier",
          "XGBClassifier",
          "XGBClassifier",
          "XGBClassifier"
         ],
         "legendgroup": "XGBClassifier",
         "line": {
          "color": "#46bac2",
          "dash": "solid",
          "width": 2
         },
         "marker": {
          "symbol": "circle"
         },
         "mode": "lines",
         "name": "XGBClassifier",
         "opacity": 1,
         "orientation": "v",
         "showlegend": true,
         "type": "scatter",
         "x": [
          0,
          1.02,
          2.04,
          3.06,
          4.08,
          5.1,
          6.12,
          7.140000000000001,
          8.16,
          9.18,
          10.2,
          11.22,
          12.24,
          13.26,
          14.280000000000001,
          15.3,
          16.32,
          17.34,
          18.36,
          19.38,
          20.4,
          21.42,
          22.44,
          23.46,
          24.48,
          25.5,
          26.52,
          27.54,
          28.560000000000002,
          29.580000000000002,
          30.6,
          31.62,
          32.64,
          33.660000000000004,
          34.68,
          35.7,
          36.72,
          37.74,
          38.76,
          39.78,
          40.8,
          41.82,
          42.84,
          43.86,
          44.88,
          45.9,
          46.92,
          47.94,
          48.96,
          49.980000000000004,
          51,
          52.02,
          53.04,
          54.06,
          55.08,
          56.1,
          57.120000000000005,
          58.14,
          59.160000000000004,
          60.18,
          61.2,
          62.22,
          63.24,
          64.26,
          65.28,
          66.3,
          67.32000000000001,
          68.34,
          69.36,
          70.38,
          71.4,
          72.42,
          73.44,
          74.46000000000001,
          75.48,
          76.5,
          77.52,
          78.54,
          79.56,
          80.58,
          81.6,
          82.62,
          83.64,
          84.66,
          85.68,
          86.7,
          87.72,
          88.74,
          89.76,
          90.78,
          91.8,
          92.82000000000001,
          93.84,
          94.86,
          95.88,
          96.9,
          97.92,
          98.94,
          99.96000000000001,
          100.98,
          102
         ],
         "xaxis": "x",
         "y": [
          0.13431139290332794,
          0.13431139290332794,
          0.13431139290332794,
          0.13431139290332794,
          0.13431139290332794,
          0.13431139290332794,
          0.13431139290332794,
          0.13431139290332794,
          0.13431139290332794,
          0.13431139290332794,
          0.13431139290332794,
          0.13431139290332794,
          0.13431139290332794,
          0.13431139290332794,
          0.13431139290332794,
          0.13431139290332794,
          0.13431139290332794,
          0.13431139290332794,
          0.13431139290332794,
          0.13431139290332794,
          0.13431139290332794,
          0.13431139290332794,
          0.14414049685001373,
          0.11742028594017029,
          0.13176529109477997,
          0.11542174220085144,
          0.1181369423866272,
          0.11595100164413452,
          0.10552141815423965,
          0.0812862291932106,
          0.07847749441862106,
          0.07526019215583801,
          0.06780250370502472,
          0.077907495200634,
          0.07349139451980591,
          0.07915244996547699,
          0.07134036719799042,
          0.07153864204883575,
          0.07269192487001419,
          0.072235107421875,
          0.07114706188440323,
          0.07259932160377502,
          0.07618529349565506,
          0.07442424446344376,
          0.06748643517494202,
          0.07337608933448792,
          0.0731801688671112,
          0.07442835718393326,
          0.07552476227283478,
          0.0785755068063736,
          0.07553846389055252,
          0.07484639436006546,
          0.07315096259117126,
          0.06971576809883118,
          0.06807076930999756,
          0.06758862733840942,
          0.0654071718454361,
          0.06141885742545128,
          0.06439635902643204,
          0.06189575046300888,
          0.06299317628145218,
          0.06053178757429123,
          0.06188918277621269,
          0.0562567338347435,
          0.05682135373353958,
          0.0518304705619812,
          0.05700405687093735,
          0.047275036573410034,
          0.040552835911512375,
          0.0552278533577919,
          0.05443749576807022,
          0.05172661319375038,
          0.05172661319375038,
          0.05682171508669853,
          0.052481357008218765,
          0.053495071828365326,
          0.05636658892035484,
          0.05358383059501648,
          0.04897793009877205,
          0.048539742827415466,
          0.04866248741745949,
          0.06475277990102768,
          0.04922324791550636,
          0.05139235034584999,
          0.05300116911530495,
          0.054346490651369095,
          0.07831266522407532,
          0.04549237713217735,
          0.04048025608062744,
          0.03940912336111069,
          0.03940912336111069,
          0.03940912336111069,
          0.04261999949812889,
          0.04261999949812889,
          0.04261999949812889,
          0.04261999949812889,
          0.04261999949812889,
          0.04261999949812889,
          0.04261999949812889,
          0.04261999949812889,
          0.04261999949812889
         ],
         "yaxis": "y"
        }
       ],
       "layout": {
        "annotations": [
         {
          "font": {
           "size": 13
          },
          "showarrow": false,
          "text": "age",
          "x": 0.5,
          "xanchor": "center",
          "xref": "paper",
          "y": 1,
          "yanchor": "bottom",
          "yref": "paper"
         },
         {
          "font": {
           "size": 13
          },
          "showarrow": false,
          "text": "prediction",
          "textangle": -90,
          "x": -0.07,
          "xref": "paper",
          "y": 0.5,
          "yref": "paper"
         }
        ],
        "autosize": true,
        "font": {
         "color": "#371ea3"
        },
        "hovermode": "x unified",
        "legend": {
         "font": {
          "size": 11
         },
         "itemsizing": "constant",
         "orientation": "h",
         "title": {
          "font": {
           "size": 12
          },
          "text": "label"
         },
         "tracegroupgap": 0,
         "x": 1,
         "xanchor": "right",
         "y": 1.0613496932515338,
         "yanchor": "bottom"
        },
        "margin": {
         "b": 71,
         "r": 30,
         "t": 78
        },
        "template": {
         "data": {
          "scatter": [
           {
            "type": "scatter"
           }
          ]
         }
        },
        "title": {
         "font": {
          "size": 16
         },
         "text": "Aggregated Profiles",
         "x": 0.15
        },
        "xaxis": {
         "anchor": "y",
         "automargin": true,
         "autorange": true,
         "domain": [
          0,
          1
         ],
         "fixedrange": true,
         "gridwidth": 2,
         "range": [
          0,
          102
         ],
         "showticklabels": true,
         "tickcolor": "white",
         "ticklen": 3,
         "ticks": "outside",
         "title": {
          "text": ""
         },
         "type": "linear",
         "zeroline": false
        },
        "yaxis": {
         "anchor": "x",
         "automargin": true,
         "domain": [
          0,
          1
         ],
         "fixedrange": true,
         "gridwidth": 2,
         "range": [
          0.02893598601222038,
          0.15461363419890403
         ],
         "tickcolor": "white",
         "ticklen": 3,
         "ticks": "outside",
         "title": {
          "text": ""
         },
         "type": "linear",
         "zeroline": false
        }
       }
      },
      "image/png": "[encoded data removed]",
      "text/html": [
       "<div>                            <div id=\"4454db0a-be63-4945-ab00-76261dc91ac8\" class=\"plotly-graph-div\" style=\"height:489px; width:100%;\"></div>            <script type=\"text/javascript\">                require([\"plotly\"], function(Plotly) {                    window.PLOTLYENV=window.PLOTLYENV || {};                                    if (document.getElementById(\"4454db0a-be63-4945-ab00-76261dc91ac8\")) {                    Plotly.newPlot(                        \"4454db0a-be63-4945-ab00-76261dc91ac8\",                        [{\"customdata\":[[0.0683632418513298,\"XGBClassifier\",\"age\"],[0.0683632418513298,\"XGBClassifier\",\"age\"],[0.0683632418513298,\"XGBClassifier\",\"age\"],[0.0683632418513298,\"XGBClassifier\",\"age\"],[0.0683632418513298,\"XGBClassifier\",\"age\"],[0.0683632418513298,\"XGBClassifier\",\"age\"],[0.0683632418513298,\"XGBClassifier\",\"age\"],[0.0683632418513298,\"XGBClassifier\",\"age\"],[0.0683632418513298,\"XGBClassifier\",\"age\"],[0.0683632418513298,\"XGBClassifier\",\"age\"],[0.0683632418513298,\"XGBClassifier\",\"age\"],[0.0683632418513298,\"XGBClassifier\",\"age\"],[0.0683632418513298,\"XGBClassifier\",\"age\"],[0.0683632418513298,\"XGBClassifier\",\"age\"],[0.0683632418513298,\"XGBClassifier\",\"age\"],[0.0683632418513298,\"XGBClassifier\",\"age\"],[0.0683632418513298,\"XGBClassifier\",\"age\"],[0.0683632418513298,\"XGBClassifier\",\"age\"],[0.0683632418513298,\"XGBClassifier\",\"age\"],[0.0683632418513298,\"XGBClassifier\",\"age\"],[0.0683632418513298,\"XGBClassifier\",\"age\"],[0.0683632418513298,\"XGBClassifier\",\"age\"],[0.0683632418513298,\"XGBClassifier\",\"age\"],[0.0683632418513298,\"XGBClassifier\",\"age\"],[0.0683632418513298,\"XGBClassifier\",\"age\"],[0.0683632418513298,\"XGBClassifier\",\"age\"],[0.0683632418513298,\"XGBClassifier\",\"age\"],[0.0683632418513298,\"XGBClassifier\",\"age\"],[0.0683632418513298,\"XGBClassifier\",\"age\"],[0.0683632418513298,\"XGBClassifier\",\"age\"],[0.0683632418513298,\"XGBClassifier\",\"age\"],[0.0683632418513298,\"XGBClassifier\",\"age\"],[0.0683632418513298,\"XGBClassifier\",\"age\"],[0.0683632418513298,\"XGBClassifier\",\"age\"],[0.0683632418513298,\"XGBClassifier\",\"age\"],[0.0683632418513298,\"XGBClassifier\",\"age\"],[0.0683632418513298,\"XGBClassifier\",\"age\"],[0.0683632418513298,\"XGBClassifier\",\"age\"],[0.0683632418513298,\"XGBClassifier\",\"age\"],[0.0683632418513298,\"XGBClassifier\",\"age\"],[0.0683632418513298,\"XGBClassifier\",\"age\"],[0.0683632418513298,\"XGBClassifier\",\"age\"],[0.0683632418513298,\"XGBClassifier\",\"age\"],[0.0683632418513298,\"XGBClassifier\",\"age\"],[0.0683632418513298,\"XGBClassifier\",\"age\"],[0.0683632418513298,\"XGBClassifier\",\"age\"],[0.0683632418513298,\"XGBClassifier\",\"age\"],[0.0683632418513298,\"XGBClassifier\",\"age\"],[0.0683632418513298,\"XGBClassifier\",\"age\"],[0.0683632418513298,\"XGBClassifier\",\"age\"],[0.0683632418513298,\"XGBClassifier\",\"age\"],[0.0683632418513298,\"XGBClassifier\",\"age\"],[0.0683632418513298,\"XGBClassifier\",\"age\"],[0.0683632418513298,\"XGBClassifier\",\"age\"],[0.0683632418513298,\"XGBClassifier\",\"age\"],[0.0683632418513298,\"XGBClassifier\",\"age\"],[0.0683632418513298,\"XGBClassifier\",\"age\"],[0.0683632418513298,\"XGBClassifier\",\"age\"],[0.0683632418513298,\"XGBClassifier\",\"age\"],[0.0683632418513298,\"XGBClassifier\",\"age\"],[0.0683632418513298,\"XGBClassifier\",\"age\"],[0.0683632418513298,\"XGBClassifier\",\"age\"],[0.0683632418513298,\"XGBClassifier\",\"age\"],[0.0683632418513298,\"XGBClassifier\",\"age\"],[0.0683632418513298,\"XGBClassifier\",\"age\"],[0.0683632418513298,\"XGBClassifier\",\"age\"],[0.0683632418513298,\"XGBClassifier\",\"age\"],[0.0683632418513298,\"XGBClassifier\",\"age\"],[0.0683632418513298,\"XGBClassifier\",\"age\"],[0.0683632418513298,\"XGBClassifier\",\"age\"],[0.0683632418513298,\"XGBClassifier\",\"age\"],[0.0683632418513298,\"XGBClassifier\",\"age\"],[0.0683632418513298,\"XGBClassifier\",\"age\"],[0.0683632418513298,\"XGBClassifier\",\"age\"],[0.0683632418513298,\"XGBClassifier\",\"age\"],[0.0683632418513298,\"XGBClassifier\",\"age\"],[0.0683632418513298,\"XGBClassifier\",\"age\"],[0.0683632418513298,\"XGBClassifier\",\"age\"],[0.0683632418513298,\"XGBClassifier\",\"age\"],[0.0683632418513298,\"XGBClassifier\",\"age\"],[0.0683632418513298,\"XGBClassifier\",\"age\"],[0.0683632418513298,\"XGBClassifier\",\"age\"],[0.0683632418513298,\"XGBClassifier\",\"age\"],[0.0683632418513298,\"XGBClassifier\",\"age\"],[0.0683632418513298,\"XGBClassifier\",\"age\"],[0.0683632418513298,\"XGBClassifier\",\"age\"],[0.0683632418513298,\"XGBClassifier\",\"age\"],[0.0683632418513298,\"XGBClassifier\",\"age\"],[0.0683632418513298,\"XGBClassifier\",\"age\"],[0.0683632418513298,\"XGBClassifier\",\"age\"],[0.0683632418513298,\"XGBClassifier\",\"age\"],[0.0683632418513298,\"XGBClassifier\",\"age\"],[0.0683632418513298,\"XGBClassifier\",\"age\"],[0.0683632418513298,\"XGBClassifier\",\"age\"],[0.0683632418513298,\"XGBClassifier\",\"age\"],[0.0683632418513298,\"XGBClassifier\",\"age\"],[0.0683632418513298,\"XGBClassifier\",\"age\"],[0.0683632418513298,\"XGBClassifier\",\"age\"],[0.0683632418513298,\"XGBClassifier\",\"age\"],[0.0683632418513298,\"XGBClassifier\",\"age\"],[0.0683632418513298,\"XGBClassifier\",\"age\"]],\"hovertemplate\":\"\\u003cb\\u003e%{hovertext}\\u003c\\u002fb\\u003e\\u003cbr\\u003e\\u003cbr\\u003eprediction=%{y:.3f}\\u003cbr\\u003emean_prediction=%{customdata[0]:.3f}\\u003cextra\\u003e\\u003c\\u002fextra\\u003e\",\"hovertext\":[\"XGBClassifier\",\"XGBClassifier\",\"XGBClassifier\",\"XGBClassifier\",\"XGBClassifier\",\"XGBClassifier\",\"XGBClassifier\",\"XGBClassifier\",\"XGBClassifier\",\"XGBClassifier\",\"XGBClassifier\",\"XGBClassifier\",\"XGBClassifier\",\"XGBClassifier\",\"XGBClassifier\",\"XGBClassifier\",\"XGBClassifier\",\"XGBClassifier\",\"XGBClassifier\",\"XGBClassifier\",\"XGBClassifier\",\"XGBClassifier\",\"XGBClassifier\",\"XGBClassifier\",\"XGBClassifier\",\"XGBClassifier\",\"XGBClassifier\",\"XGBClassifier\",\"XGBClassifier\",\"XGBClassifier\",\"XGBClassifier\",\"XGBClassifier\",\"XGBClassifier\",\"XGBClassifier\",\"XGBClassifier\",\"XGBClassifier\",\"XGBClassifier\",\"XGBClassifier\",\"XGBClassifier\",\"XGBClassifier\",\"XGBClassifier\",\"XGBClassifier\",\"XGBClassifier\",\"XGBClassifier\",\"XGBClassifier\",\"XGBClassifier\",\"XGBClassifier\",\"XGBClassifier\",\"XGBClassifier\",\"XGBClassifier\",\"XGBClassifier\",\"XGBClassifier\",\"XGBClassifier\",\"XGBClassifier\",\"XGBClassifier\",\"XGBClassifier\",\"XGBClassifier\",\"XGBClassifier\",\"XGBClassifier\",\"XGBClassifier\",\"XGBClassifier\",\"XGBClassifier\",\"XGBClassifier\",\"XGBClassifier\",\"XGBClassifier\",\"XGBClassifier\",\"XGBClassifier\",\"XGBClassifier\",\"XGBClassifier\",\"XGBClassifier\",\"XGBClassifier\",\"XGBClassifier\",\"XGBClassifier\",\"XGBClassifier\",\"XGBClassifier\",\"XGBClassifier\",\"XGBClassifier\",\"XGBClassifier\",\"XGBClassifier\",\"XGBClassifier\",\"XGBClassifier\",\"XGBClassifier\",\"XGBClassifier\",\"XGBClassifier\",\"XGBClassifier\",\"XGBClassifier\",\"XGBClassifier\",\"XGBClassifier\",\"XGBClassifier\",\"XGBClassifier\",\"XGBClassifier\",\"XGBClassifier\",\"XGBClassifier\",\"XGBClassifier\",\"XGBClassifier\",\"XGBClassifier\",\"XGBClassifier\",\"XGBClassifier\",\"XGBClassifier\",\"XGBClassifier\",\"XGBClassifier\"],\"legendgroup\":\"XGBClassifier\",\"line\":{\"color\":\"#46bac2\",\"dash\":\"solid\",\"width\":2},\"marker\":{\"symbol\":\"circle\"},\"mode\":\"lines\",\"name\":\"XGBClassifier\",\"orientation\":\"v\",\"showlegend\":true,\"x\":[0.0,1.02,2.04,3.06,4.08,5.1,6.12,7.140000000000001,8.16,9.18,10.2,11.22,12.24,13.26,14.280000000000001,15.3,16.32,17.34,18.36,19.38,20.4,21.42,22.44,23.46,24.48,25.5,26.52,27.54,28.560000000000002,29.580000000000002,30.6,31.62,32.64,33.660000000000004,34.68,35.7,36.72,37.74,38.76,39.78,40.8,41.82,42.84,43.86,44.88,45.9,46.92,47.94,48.96,49.980000000000004,51.0,52.02,53.04,54.06,55.08,56.1,57.120000000000005,58.14,59.160000000000004,60.18,61.2,62.22,63.24,64.26,65.28,66.3,67.32000000000001,68.34,69.36,70.38,71.4,72.42,73.44,74.46000000000001,75.48,76.5,77.52,78.54,79.56,80.58,81.6,82.62,83.64,84.66,85.68,86.7,87.72,88.74,89.76,90.78,91.8,92.82000000000001,93.84,94.86,95.88,96.9,97.92,98.94,99.96000000000001,100.98,102.0],\"xaxis\":\"x\",\"y\":[0.13431139290332794,0.13431139290332794,0.13431139290332794,0.13431139290332794,0.13431139290332794,0.13431139290332794,0.13431139290332794,0.13431139290332794,0.13431139290332794,0.13431139290332794,0.13431139290332794,0.13431139290332794,0.13431139290332794,0.13431139290332794,0.13431139290332794,0.13431139290332794,0.13431139290332794,0.13431139290332794,0.13431139290332794,0.13431139290332794,0.13431139290332794,0.13431139290332794,0.14414049685001373,0.11742028594017029,0.13176529109477997,0.11542174220085144,0.1181369423866272,0.11595100164413452,0.10552141815423965,0.0812862291932106,0.07847749441862106,0.07526019215583801,0.06780250370502472,0.077907495200634,0.07349139451980591,0.07915244996547699,0.07134036719799042,0.07153864204883575,0.07269192487001419,0.072235107421875,0.07114706188440323,0.07259932160377502,0.07618529349565506,0.07442424446344376,0.06748643517494202,0.07337608933448792,0.0731801688671112,0.07442835718393326,0.07552476227283478,0.0785755068063736,0.07553846389055252,0.07484639436006546,0.07315096259117126,0.06971576809883118,0.06807076930999756,0.06758862733840942,0.0654071718454361,0.06141885742545128,0.06439635902643204,0.06189575046300888,0.06299317628145218,0.06053178757429123,0.06188918277621269,0.0562567338347435,0.05682135373353958,0.0518304705619812,0.05700405687093735,0.047275036573410034,0.040552835911512375,0.0552278533577919,0.05443749576807022,0.05172661319375038,0.05172661319375038,0.05682171508669853,0.052481357008218765,0.053495071828365326,0.05636658892035484,0.05358383059501648,0.04897793009877205,0.048539742827415466,0.04866248741745949,0.06475277990102768,0.04922324791550636,0.05139235034584999,0.05300116911530495,0.054346490651369095,0.07831266522407532,0.04549237713217735,0.04048025608062744,0.03940912336111069,0.03940912336111069,0.03940912336111069,0.04261999949812889,0.04261999949812889,0.04261999949812889,0.04261999949812889,0.04261999949812889,0.04261999949812889,0.04261999949812889,0.04261999949812889,0.04261999949812889],\"yaxis\":\"y\",\"type\":\"scatter\",\"opacity\":1}],                        {\"template\":{\"data\":{\"scatter\":[{\"type\":\"scatter\"}]}},\"xaxis\":{\"anchor\":\"y\",\"domain\":[0.0,1.0],\"title\":{\"text\":\"\"},\"showticklabels\":true,\"type\":\"linear\",\"gridwidth\":2,\"zeroline\":false,\"automargin\":true,\"ticks\":\"outside\",\"tickcolor\":\"white\",\"ticklen\":3,\"fixedrange\":true},\"yaxis\":{\"anchor\":\"x\",\"domain\":[0.0,1.0],\"title\":{\"text\":\"\"},\"range\":[0.02893598601222038,0.15461363419890403],\"type\":\"linear\",\"gridwidth\":2,\"zeroline\":false,\"automargin\":true,\"ticks\":\"outside\",\"tickcolor\":\"white\",\"ticklen\":3,\"fixedrange\":true},\"annotations\":[{\"font\":{\"size\":13},\"showarrow\":false,\"text\":\"age\",\"x\":0.5,\"xanchor\":\"center\",\"xref\":\"paper\",\"y\":1.0,\"yanchor\":\"bottom\",\"yref\":\"paper\"},{\"font\":{\"size\":13},\"showarrow\":false,\"text\":\"prediction\",\"textangle\":-90,\"x\":-0.07,\"xref\":\"paper\",\"y\":0.5,\"yref\":\"paper\"}],\"legend\":{\"title\":{\"text\":\"label\",\"font\":{\"size\":12}},\"tracegroupgap\":0,\"font\":{\"size\":11},\"orientation\":\"h\",\"yanchor\":\"bottom\",\"y\":1.0613496932515338,\"xanchor\":\"right\",\"x\":1,\"itemsizing\":\"constant\"},\"margin\":{\"t\":78,\"b\":71,\"r\":30},\"font\":{\"color\":\"#371ea3\"},\"title\":{\"font\":{\"size\":16},\"text\":\"Aggregated Profiles\",\"x\":0.15},\"hovermode\":\"x unified\",\"height\":489},                        {\"displaylogo\": false, \"staticPlot\": false, \"toImageButtonOptions\": {\"height\": null, \"width\": null}, \"modeBarButtonsToRemove\": [\"sendDataToCloud\", \"lasso2d\", \"autoScale2d\", \"select2d\", \"zoom2d\", \"pan2d\", \"zoomIn2d\", \"zoomOut2d\", \"resetScale2d\", \"toggleSpikelines\", \"hoverCompareCartesian\", \"hoverClosestCartesian\"], \"responsive\": true}                    ).then(function(){\n",
       "                            \n",
       "var gd = document.getElementById('4454db0a-be63-4945-ab00-76261dc91ac8');\n",
       "var x = new MutationObserver(function (mutations, observer) {{\n",
       "        var display = window.getComputedStyle(gd).display;\n",
       "        if (!display || display === 'none') {{\n",
       "            console.log([gd, 'removed!']);\n",
       "            Plotly.purge(gd);\n",
       "            observer.disconnect();\n",
       "        }}\n",
       "}});\n",
       "\n",
       "// Listen for the removal of the full notebook cells\n",
       "var notebookContainer = gd.closest('#notebook-container');\n",
       "if (notebookContainer) {{\n",
       "    x.observe(notebookContainer, {childList: true});\n",
       "}}\n",
       "\n",
       "// Listen for the clearing of the current output cell\n",
       "var outputEl = gd.closest('.output');\n",
       "if (outputEl) {{\n",
       "    x.observe(outputEl, {childList: true});\n",
       "}}\n",
       "\n",
       "                        })                };                });            </script>        </div>"
      ]
     },
     "metadata": {},
     "output_type": "display_data"
    }
   ],
   "source": [
    "profiles = explainer.model_profile()\n",
    "profiles.plot(variables=[\"age\"])"
   ]
  },
  {
   "cell_type": "code",
   "execution_count": 329,
   "metadata": {},
   "outputs": [
    {
     "name": "stdout",
     "output_type": "stream",
     "text": [
      "Bias detected in 2 metrics: FPR, STP\n",
      "\n",
      "Conclusion: your model is not fair because 2 or more criteria exceeded acceptable limits set by epsilon.\n",
      "\n",
      "Ratios of metrics, based on 'old'. Parameter 'epsilon' was set to 0.8 and therefore metrics should be within (0.8, 1.25)\n",
      "            TPR       ACC       PPV  FPR       STP\n",
      "young  1.081081  0.949893  0.876138  2.6  2.142857\n"
     ]
    }
   ],
   "source": [
    "AGE_THRESHOLD = 35\n",
    "protected_variable = X_test[\"age\"].apply(lambda x: \"old\" if x > AGE_THRESHOLD else \"young\")\n",
    "privileged_group = \"old\"\n",
    "\n",
    "fobject = explainer.model_fairness(\n",
    "    protected=protected_variable,\n",
    "    privileged=privileged_group\n",
    ")\n",
    "\n",
    "fobject.fairness_check()"
   ]
  },
  {
   "cell_type": "code",
   "execution_count": 330,
   "metadata": {},
   "outputs": [
    {
     "data": {
      "application/vnd.plotly.v1+json": {
       "config": {
        "displaylogo": false,
        "modeBarButtonsToRemove": [
         "sendDataToCloud",
         "lasso2d",
         "autoScale2d",
         "select2d",
         "zoom2d",
         "pan2d",
         "zoomIn2d",
         "zoomOut2d",
         "resetScale2d",
         "toggleSpikelines",
         "hoverCompareCartesian",
         "hoverClosestCartesian"
        ],
        "plotlyServerURL": "https://plot.ly",
        "staticPlot": false,
        "toImageButtonOptions": {
         "height": null,
         "width": null
        }
       },
       "data": [
        {
         "alignmentgroup": "True",
         "customdata": [
          [
           "young",
           1.081,
           "XGBClassifier"
          ]
         ],
         "hovertemplate": "<b>%{customdata[2]}</b><br>Subgroup: %{customdata[0]}<br>Score: %{customdata[1]}<br><extra></extra>",
         "legendgroup": "XGBClassifier",
         "marker": {
          "color": "#46bac2",
          "pattern": {
           "shape": ""
          }
         },
         "name": "XGBClassifier",
         "offsetgroup": "XGBClassifier",
         "orientation": "h",
         "showlegend": true,
         "textposition": "auto",
         "type": "bar",
         "x": [
          0.08108108108108114
         ],
         "xaxis": "x5",
         "y": [
          0.5
         ],
         "yaxis": "y5"
        },
        {
         "alignmentgroup": "True",
         "customdata": [
          [
           "young",
           0.876,
           "XGBClassifier"
          ]
         ],
         "hovertemplate": "<b>%{customdata[2]}</b><br>Subgroup: %{customdata[0]}<br>Score: %{customdata[1]}<br><extra></extra>",
         "legendgroup": "XGBClassifier",
         "marker": {
          "color": "#46bac2",
          "pattern": {
           "shape": ""
          }
         },
         "name": "XGBClassifier",
         "offsetgroup": "XGBClassifier",
         "orientation": "h",
         "showlegend": false,
         "textposition": "auto",
         "type": "bar",
         "x": [
          -0.1238615664845174
         ],
         "xaxis": "x4",
         "y": [
          0.5
         ],
         "yaxis": "y4"
        },
        {
         "alignmentgroup": "True",
         "customdata": [
          [
           "young",
           2.6,
           "XGBClassifier"
          ]
         ],
         "hovertemplate": "<b>%{customdata[2]}</b><br>Subgroup: %{customdata[0]}<br>Score: %{customdata[1]}<br><extra></extra>",
         "legendgroup": "XGBClassifier",
         "marker": {
          "color": "#46bac2",
          "pattern": {
           "shape": ""
          }
         },
         "name": "XGBClassifier",
         "offsetgroup": "XGBClassifier",
         "orientation": "h",
         "showlegend": false,
         "textposition": "auto",
         "type": "bar",
         "x": [
          1.5999999999999996
         ],
         "xaxis": "x3",
         "y": [
          0.5
         ],
         "yaxis": "y3"
        },
        {
         "alignmentgroup": "True",
         "customdata": [
          [
           "young",
           0.95,
           "XGBClassifier"
          ]
         ],
         "hovertemplate": "<b>%{customdata[2]}</b><br>Subgroup: %{customdata[0]}<br>Score: %{customdata[1]}<br><extra></extra>",
         "legendgroup": "XGBClassifier",
         "marker": {
          "color": "#46bac2",
          "pattern": {
           "shape": ""
          }
         },
         "name": "XGBClassifier",
         "offsetgroup": "XGBClassifier",
         "orientation": "h",
         "showlegend": false,
         "textposition": "auto",
         "type": "bar",
         "x": [
          -0.05010660980810222
         ],
         "xaxis": "x2",
         "y": [
          0.5
         ],
         "yaxis": "y2"
        },
        {
         "alignmentgroup": "True",
         "customdata": [
          [
           "young",
           2.143,
           "XGBClassifier"
          ]
         ],
         "hovertemplate": "<b>%{customdata[2]}</b><br>Subgroup: %{customdata[0]}<br>Score: %{customdata[1]}<br><extra></extra>",
         "legendgroup": "XGBClassifier",
         "marker": {
          "color": "#46bac2",
          "pattern": {
           "shape": ""
          }
         },
         "name": "XGBClassifier",
         "offsetgroup": "XGBClassifier",
         "orientation": "h",
         "showlegend": false,
         "textposition": "auto",
         "type": "bar",
         "x": [
          1.1428571428571428
         ],
         "xaxis": "x",
         "y": [
          0.5
         ],
         "yaxis": "y"
        }
       ],
       "layout": {
        "annotations": [
         {
          "font": {
           "size": 15
          },
          "showarrow": false,
          "text": "Statistical parity ratio   (TP + FP)/(TP + FP + TN + FN)",
          "x": 0.05,
          "xanchor": "left",
          "xref": "paper",
          "y": 0.144,
          "yanchor": "bottom",
          "yref": "paper"
         },
         {
          "font": {
           "size": 15
          },
          "showarrow": false,
          "text": "Accuracy equality ratio    (TP + TN)/(TP + FP + TN + FN)",
          "x": 0.05,
          "xanchor": "left",
          "xref": "paper",
          "y": 0.358,
          "yanchor": "bottom",
          "yref": "paper"
         },
         {
          "font": {
           "size": 15
          },
          "showarrow": false,
          "text": "Predictive equality ratio   FP/(FP + TN)",
          "x": 0.05,
          "xanchor": "left",
          "xref": "paper",
          "y": 0.572,
          "yanchor": "bottom",
          "yref": "paper"
         },
         {
          "font": {
           "size": 15
          },
          "showarrow": false,
          "text": "Predictive parity ratio     TP/(TP + FP)",
          "x": 0.05,
          "xanchor": "left",
          "xref": "paper",
          "y": 0.7859999999999999,
          "yanchor": "bottom",
          "yref": "paper"
         },
         {
          "font": {
           "size": 15
          },
          "showarrow": false,
          "text": "Equal opportunity ratio     TP/(TP + FN)",
          "x": 0.05,
          "xanchor": "left",
          "xref": "paper",
          "y": 1,
          "yanchor": "bottom",
          "yref": "paper"
         }
        ],
        "autosize": true,
        "barmode": "group",
        "font": {
         "color": "#371ea3"
        },
        "legend": {
         "title": {
          "text": "label"
         },
         "tracegroupgap": 0
        },
        "margin": {
         "b": 71,
         "r": 30,
         "t": 78
        },
        "shapes": [
         {
          "fillcolor": "#f05a71",
          "layer": "below",
          "line": {
           "width": 0
          },
          "opacity": 0.1,
          "type": "rect",
          "x0": 0.25,
          "x1": 1.7,
          "xref": "x",
          "y0": 0,
          "y1": 1,
          "yref": "y"
         },
         {
          "fillcolor": "#f05a71",
          "layer": "below",
          "line": {
           "width": 0
          },
          "opacity": 0.1,
          "type": "rect",
          "x0": -0.21999999999999997,
          "x1": -0.19999999999999996,
          "xref": "x",
          "y0": 0,
          "y1": 1,
          "yref": "y"
         },
         {
          "fillcolor": "#c7f5bf",
          "layer": "below",
          "line": {
           "width": 0
          },
          "opacity": 0.1,
          "type": "rect",
          "x0": -0.19999999999999996,
          "x1": 0.25,
          "xref": "x",
          "y0": 0,
          "y1": 1,
          "yref": "y"
         },
         {
          "line": {
           "color": "#371ea3",
           "width": 1.5
          },
          "type": "line",
          "x0": 0,
          "x1": 0,
          "xref": "x",
          "y0": 0,
          "y1": 1,
          "yref": "y"
         },
         {
          "fillcolor": "#f05a71",
          "layer": "below",
          "line": {
           "width": 0
          },
          "opacity": 0.1,
          "type": "rect",
          "x0": 0.25,
          "x1": 1.7,
          "xref": "x",
          "y0": 0,
          "y1": 1,
          "yref": "y2"
         },
         {
          "fillcolor": "#f05a71",
          "layer": "below",
          "line": {
           "width": 0
          },
          "opacity": 0.1,
          "type": "rect",
          "x0": -0.21999999999999997,
          "x1": -0.19999999999999996,
          "xref": "x",
          "y0": 0,
          "y1": 1,
          "yref": "y2"
         },
         {
          "fillcolor": "#c7f5bf",
          "layer": "below",
          "line": {
           "width": 0
          },
          "opacity": 0.1,
          "type": "rect",
          "x0": -0.19999999999999996,
          "x1": 0.25,
          "xref": "x",
          "y0": 0,
          "y1": 1,
          "yref": "y2"
         },
         {
          "line": {
           "color": "#371ea3",
           "width": 1.5
          },
          "type": "line",
          "x0": 0,
          "x1": 0,
          "xref": "x",
          "y0": 0,
          "y1": 1,
          "yref": "y2"
         },
         {
          "fillcolor": "#f05a71",
          "layer": "below",
          "line": {
           "width": 0
          },
          "opacity": 0.1,
          "type": "rect",
          "x0": 0.25,
          "x1": 1.7,
          "xref": "x",
          "y0": 0,
          "y1": 1,
          "yref": "y3"
         },
         {
          "fillcolor": "#f05a71",
          "layer": "below",
          "line": {
           "width": 0
          },
          "opacity": 0.1,
          "type": "rect",
          "x0": -0.21999999999999997,
          "x1": -0.19999999999999996,
          "xref": "x",
          "y0": 0,
          "y1": 1,
          "yref": "y3"
         },
         {
          "fillcolor": "#c7f5bf",
          "layer": "below",
          "line": {
           "width": 0
          },
          "opacity": 0.1,
          "type": "rect",
          "x0": -0.19999999999999996,
          "x1": 0.25,
          "xref": "x",
          "y0": 0,
          "y1": 1,
          "yref": "y3"
         },
         {
          "line": {
           "color": "#371ea3",
           "width": 1.5
          },
          "type": "line",
          "x0": 0,
          "x1": 0,
          "xref": "x",
          "y0": 0,
          "y1": 1,
          "yref": "y3"
         },
         {
          "fillcolor": "#f05a71",
          "layer": "below",
          "line": {
           "width": 0
          },
          "opacity": 0.1,
          "type": "rect",
          "x0": 0.25,
          "x1": 1.7,
          "xref": "x",
          "y0": 0,
          "y1": 1,
          "yref": "y4"
         },
         {
          "fillcolor": "#f05a71",
          "layer": "below",
          "line": {
           "width": 0
          },
          "opacity": 0.1,
          "type": "rect",
          "x0": -0.21999999999999997,
          "x1": -0.19999999999999996,
          "xref": "x",
          "y0": 0,
          "y1": 1,
          "yref": "y4"
         },
         {
          "fillcolor": "#c7f5bf",
          "layer": "below",
          "line": {
           "width": 0
          },
          "opacity": 0.1,
          "type": "rect",
          "x0": -0.19999999999999996,
          "x1": 0.25,
          "xref": "x",
          "y0": 0,
          "y1": 1,
          "yref": "y4"
         },
         {
          "line": {
           "color": "#371ea3",
           "width": 1.5
          },
          "type": "line",
          "x0": 0,
          "x1": 0,
          "xref": "x",
          "y0": 0,
          "y1": 1,
          "yref": "y4"
         },
         {
          "fillcolor": "#f05a71",
          "layer": "below",
          "line": {
           "width": 0
          },
          "opacity": 0.1,
          "type": "rect",
          "x0": 0.25,
          "x1": 1.7,
          "xref": "x",
          "y0": 0,
          "y1": 1,
          "yref": "y5"
         },
         {
          "fillcolor": "#f05a71",
          "layer": "below",
          "line": {
           "width": 0
          },
          "opacity": 0.1,
          "type": "rect",
          "x0": -0.21999999999999997,
          "x1": -0.19999999999999996,
          "xref": "x",
          "y0": 0,
          "y1": 1,
          "yref": "y5"
         },
         {
          "fillcolor": "#c7f5bf",
          "layer": "below",
          "line": {
           "width": 0
          },
          "opacity": 0.1,
          "type": "rect",
          "x0": -0.19999999999999996,
          "x1": 0.25,
          "xref": "x",
          "y0": 0,
          "y1": 1,
          "yref": "y5"
         },
         {
          "line": {
           "color": "#371ea3",
           "width": 1.5
          },
          "type": "line",
          "x0": 0,
          "x1": 0,
          "xref": "x",
          "y0": 0,
          "y1": 1,
          "yref": "y5"
         }
        ],
        "template": {
         "data": {
          "bar": [
           {
            "error_x": {
             "color": "#2a3f5f"
            },
            "error_y": {
             "color": "#2a3f5f"
            },
            "marker": {
             "line": {
              "color": "white",
              "width": 0.5
             },
             "pattern": {
              "fillmode": "overlay",
              "size": 10,
              "solidity": 0.2
             }
            },
            "type": "bar"
           }
          ],
          "barpolar": [
           {
            "marker": {
             "line": {
              "color": "white",
              "width": 0.5
             },
             "pattern": {
              "fillmode": "overlay",
              "size": 10,
              "solidity": 0.2
             }
            },
            "type": "barpolar"
           }
          ],
          "carpet": [
           {
            "aaxis": {
             "endlinecolor": "#2a3f5f",
             "gridcolor": "#C8D4E3",
             "linecolor": "#C8D4E3",
             "minorgridcolor": "#C8D4E3",
             "startlinecolor": "#2a3f5f"
            },
            "baxis": {
             "endlinecolor": "#2a3f5f",
             "gridcolor": "#C8D4E3",
             "linecolor": "#C8D4E3",
             "minorgridcolor": "#C8D4E3",
             "startlinecolor": "#2a3f5f"
            },
            "type": "carpet"
           }
          ],
          "choropleth": [
           {
            "colorbar": {
             "outlinewidth": 0,
             "ticks": ""
            },
            "type": "choropleth"
           }
          ],
          "contour": [
           {
            "colorbar": {
             "outlinewidth": 0,
             "ticks": ""
            },
            "colorscale": [
             [
              0,
              "#0d0887"
             ],
             [
              0.1111111111111111,
              "#46039f"
             ],
             [
              0.2222222222222222,
              "#7201a8"
             ],
             [
              0.3333333333333333,
              "#9c179e"
             ],
             [
              0.4444444444444444,
              "#bd3786"
             ],
             [
              0.5555555555555556,
              "#d8576b"
             ],
             [
              0.6666666666666666,
              "#ed7953"
             ],
             [
              0.7777777777777778,
              "#fb9f3a"
             ],
             [
              0.8888888888888888,
              "#fdca26"
             ],
             [
              1,
              "#f0f921"
             ]
            ],
            "type": "contour"
           }
          ],
          "contourcarpet": [
           {
            "colorbar": {
             "outlinewidth": 0,
             "ticks": ""
            },
            "type": "contourcarpet"
           }
          ],
          "heatmap": [
           {
            "colorbar": {
             "outlinewidth": 0,
             "ticks": ""
            },
            "colorscale": [
             [
              0,
              "#0d0887"
             ],
             [
              0.1111111111111111,
              "#46039f"
             ],
             [
              0.2222222222222222,
              "#7201a8"
             ],
             [
              0.3333333333333333,
              "#9c179e"
             ],
             [
              0.4444444444444444,
              "#bd3786"
             ],
             [
              0.5555555555555556,
              "#d8576b"
             ],
             [
              0.6666666666666666,
              "#ed7953"
             ],
             [
              0.7777777777777778,
              "#fb9f3a"
             ],
             [
              0.8888888888888888,
              "#fdca26"
             ],
             [
              1,
              "#f0f921"
             ]
            ],
            "type": "heatmap"
           }
          ],
          "heatmapgl": [
           {
            "colorbar": {
             "outlinewidth": 0,
             "ticks": ""
            },
            "colorscale": [
             [
              0,
              "#0d0887"
             ],
             [
              0.1111111111111111,
              "#46039f"
             ],
             [
              0.2222222222222222,
              "#7201a8"
             ],
             [
              0.3333333333333333,
              "#9c179e"
             ],
             [
              0.4444444444444444,
              "#bd3786"
             ],
             [
              0.5555555555555556,
              "#d8576b"
             ],
             [
              0.6666666666666666,
              "#ed7953"
             ],
             [
              0.7777777777777778,
              "#fb9f3a"
             ],
             [
              0.8888888888888888,
              "#fdca26"
             ],
             [
              1,
              "#f0f921"
             ]
            ],
            "type": "heatmapgl"
           }
          ],
          "histogram": [
           {
            "marker": {
             "pattern": {
              "fillmode": "overlay",
              "size": 10,
              "solidity": 0.2
             }
            },
            "type": "histogram"
           }
          ],
          "histogram2d": [
           {
            "colorbar": {
             "outlinewidth": 0,
             "ticks": ""
            },
            "colorscale": [
             [
              0,
              "#0d0887"
             ],
             [
              0.1111111111111111,
              "#46039f"
             ],
             [
              0.2222222222222222,
              "#7201a8"
             ],
             [
              0.3333333333333333,
              "#9c179e"
             ],
             [
              0.4444444444444444,
              "#bd3786"
             ],
             [
              0.5555555555555556,
              "#d8576b"
             ],
             [
              0.6666666666666666,
              "#ed7953"
             ],
             [
              0.7777777777777778,
              "#fb9f3a"
             ],
             [
              0.8888888888888888,
              "#fdca26"
             ],
             [
              1,
              "#f0f921"
             ]
            ],
            "type": "histogram2d"
           }
          ],
          "histogram2dcontour": [
           {
            "colorbar": {
             "outlinewidth": 0,
             "ticks": ""
            },
            "colorscale": [
             [
              0,
              "#0d0887"
             ],
             [
              0.1111111111111111,
              "#46039f"
             ],
             [
              0.2222222222222222,
              "#7201a8"
             ],
             [
              0.3333333333333333,
              "#9c179e"
             ],
             [
              0.4444444444444444,
              "#bd3786"
             ],
             [
              0.5555555555555556,
              "#d8576b"
             ],
             [
              0.6666666666666666,
              "#ed7953"
             ],
             [
              0.7777777777777778,
              "#fb9f3a"
             ],
             [
              0.8888888888888888,
              "#fdca26"
             ],
             [
              1,
              "#f0f921"
             ]
            ],
            "type": "histogram2dcontour"
           }
          ],
          "mesh3d": [
           {
            "colorbar": {
             "outlinewidth": 0,
             "ticks": ""
            },
            "type": "mesh3d"
           }
          ],
          "parcoords": [
           {
            "line": {
             "colorbar": {
              "outlinewidth": 0,
              "ticks": ""
             }
            },
            "type": "parcoords"
           }
          ],
          "pie": [
           {
            "automargin": true,
            "type": "pie"
           }
          ],
          "scatter": [
           {
            "fillpattern": {
             "fillmode": "overlay",
             "size": 10,
             "solidity": 0.2
            },
            "type": "scatter"
           }
          ],
          "scatter3d": [
           {
            "line": {
             "colorbar": {
              "outlinewidth": 0,
              "ticks": ""
             }
            },
            "marker": {
             "colorbar": {
              "outlinewidth": 0,
              "ticks": ""
             }
            },
            "type": "scatter3d"
           }
          ],
          "scattercarpet": [
           {
            "marker": {
             "colorbar": {
              "outlinewidth": 0,
              "ticks": ""
             }
            },
            "type": "scattercarpet"
           }
          ],
          "scattergeo": [
           {
            "marker": {
             "colorbar": {
              "outlinewidth": 0,
              "ticks": ""
             }
            },
            "type": "scattergeo"
           }
          ],
          "scattergl": [
           {
            "marker": {
             "colorbar": {
              "outlinewidth": 0,
              "ticks": ""
             }
            },
            "type": "scattergl"
           }
          ],
          "scattermapbox": [
           {
            "marker": {
             "colorbar": {
              "outlinewidth": 0,
              "ticks": ""
             }
            },
            "type": "scattermapbox"
           }
          ],
          "scatterpolar": [
           {
            "marker": {
             "colorbar": {
              "outlinewidth": 0,
              "ticks": ""
             }
            },
            "type": "scatterpolar"
           }
          ],
          "scatterpolargl": [
           {
            "marker": {
             "colorbar": {
              "outlinewidth": 0,
              "ticks": ""
             }
            },
            "type": "scatterpolargl"
           }
          ],
          "scatterternary": [
           {
            "marker": {
             "colorbar": {
              "outlinewidth": 0,
              "ticks": ""
             }
            },
            "type": "scatterternary"
           }
          ],
          "surface": [
           {
            "colorbar": {
             "outlinewidth": 0,
             "ticks": ""
            },
            "colorscale": [
             [
              0,
              "#0d0887"
             ],
             [
              0.1111111111111111,
              "#46039f"
             ],
             [
              0.2222222222222222,
              "#7201a8"
             ],
             [
              0.3333333333333333,
              "#9c179e"
             ],
             [
              0.4444444444444444,
              "#bd3786"
             ],
             [
              0.5555555555555556,
              "#d8576b"
             ],
             [
              0.6666666666666666,
              "#ed7953"
             ],
             [
              0.7777777777777778,
              "#fb9f3a"
             ],
             [
              0.8888888888888888,
              "#fdca26"
             ],
             [
              1,
              "#f0f921"
             ]
            ],
            "type": "surface"
           }
          ],
          "table": [
           {
            "cells": {
             "fill": {
              "color": "#EBF0F8"
             },
             "line": {
              "color": "white"
             }
            },
            "header": {
             "fill": {
              "color": "#C8D4E3"
             },
             "line": {
              "color": "white"
             }
            },
            "type": "table"
           }
          ]
         },
         "layout": {
          "annotationdefaults": {
           "arrowcolor": "#2a3f5f",
           "arrowhead": 0,
           "arrowwidth": 1
          },
          "autotypenumbers": "strict",
          "coloraxis": {
           "colorbar": {
            "outlinewidth": 0,
            "ticks": ""
           }
          },
          "colorscale": {
           "diverging": [
            [
             0,
             "#8e0152"
            ],
            [
             0.1,
             "#c51b7d"
            ],
            [
             0.2,
             "#de77ae"
            ],
            [
             0.3,
             "#f1b6da"
            ],
            [
             0.4,
             "#fde0ef"
            ],
            [
             0.5,
             "#f7f7f7"
            ],
            [
             0.6,
             "#e6f5d0"
            ],
            [
             0.7,
             "#b8e186"
            ],
            [
             0.8,
             "#7fbc41"
            ],
            [
             0.9,
             "#4d9221"
            ],
            [
             1,
             "#276419"
            ]
           ],
           "sequential": [
            [
             0,
             "#0d0887"
            ],
            [
             0.1111111111111111,
             "#46039f"
            ],
            [
             0.2222222222222222,
             "#7201a8"
            ],
            [
             0.3333333333333333,
             "#9c179e"
            ],
            [
             0.4444444444444444,
             "#bd3786"
            ],
            [
             0.5555555555555556,
             "#d8576b"
            ],
            [
             0.6666666666666666,
             "#ed7953"
            ],
            [
             0.7777777777777778,
             "#fb9f3a"
            ],
            [
             0.8888888888888888,
             "#fdca26"
            ],
            [
             1,
             "#f0f921"
            ]
           ],
           "sequentialminus": [
            [
             0,
             "#0d0887"
            ],
            [
             0.1111111111111111,
             "#46039f"
            ],
            [
             0.2222222222222222,
             "#7201a8"
            ],
            [
             0.3333333333333333,
             "#9c179e"
            ],
            [
             0.4444444444444444,
             "#bd3786"
            ],
            [
             0.5555555555555556,
             "#d8576b"
            ],
            [
             0.6666666666666666,
             "#ed7953"
            ],
            [
             0.7777777777777778,
             "#fb9f3a"
            ],
            [
             0.8888888888888888,
             "#fdca26"
            ],
            [
             1,
             "#f0f921"
            ]
           ]
          },
          "colorway": [
           "#636efa",
           "#EF553B",
           "#00cc96",
           "#ab63fa",
           "#FFA15A",
           "#19d3f3",
           "#FF6692",
           "#B6E880",
           "#FF97FF",
           "#FECB52"
          ],
          "font": {
           "color": "#2a3f5f"
          },
          "geo": {
           "bgcolor": "white",
           "lakecolor": "white",
           "landcolor": "white",
           "showlakes": true,
           "showland": true,
           "subunitcolor": "#C8D4E3"
          },
          "hoverlabel": {
           "align": "left"
          },
          "hovermode": "closest",
          "mapbox": {
           "style": "light"
          },
          "paper_bgcolor": "white",
          "plot_bgcolor": "white",
          "polar": {
           "angularaxis": {
            "gridcolor": "#EBF0F8",
            "linecolor": "#EBF0F8",
            "ticks": ""
           },
           "bgcolor": "white",
           "radialaxis": {
            "gridcolor": "#EBF0F8",
            "linecolor": "#EBF0F8",
            "ticks": ""
           }
          },
          "scene": {
           "xaxis": {
            "backgroundcolor": "white",
            "gridcolor": "#DFE8F3",
            "gridwidth": 2,
            "linecolor": "#EBF0F8",
            "showbackground": true,
            "ticks": "",
            "zerolinecolor": "#EBF0F8"
           },
           "yaxis": {
            "backgroundcolor": "white",
            "gridcolor": "#DFE8F3",
            "gridwidth": 2,
            "linecolor": "#EBF0F8",
            "showbackground": true,
            "ticks": "",
            "zerolinecolor": "#EBF0F8"
           },
           "zaxis": {
            "backgroundcolor": "white",
            "gridcolor": "#DFE8F3",
            "gridwidth": 2,
            "linecolor": "#EBF0F8",
            "showbackground": true,
            "ticks": "",
            "zerolinecolor": "#EBF0F8"
           }
          },
          "shapedefaults": {
           "line": {
            "color": "#2a3f5f"
           }
          },
          "ternary": {
           "aaxis": {
            "gridcolor": "#DFE8F3",
            "linecolor": "#A2B1C6",
            "ticks": ""
           },
           "baxis": {
            "gridcolor": "#DFE8F3",
            "linecolor": "#A2B1C6",
            "ticks": ""
           },
           "bgcolor": "white",
           "caxis": {
            "gridcolor": "#DFE8F3",
            "linecolor": "#A2B1C6",
            "ticks": ""
           }
          },
          "title": {
           "x": 0.05
          },
          "xaxis": {
           "automargin": true,
           "gridcolor": "#EBF0F8",
           "linecolor": "#EBF0F8",
           "ticks": "",
           "title": {
            "standoff": 15
           },
           "zerolinecolor": "#EBF0F8",
           "zerolinewidth": 2
          },
          "yaxis": {
           "automargin": true,
           "gridcolor": "#EBF0F8",
           "linecolor": "#EBF0F8",
           "ticks": "",
           "title": {
            "standoff": 15
           },
           "zerolinecolor": "#EBF0F8",
           "zerolinewidth": 2
          }
         }
        },
        "title": {
         "font": {
          "size": 25
         },
         "text": "Fairness Check",
         "x": 0.5,
         "y": 0.99
        },
        "xaxis": {
         "anchor": "y",
         "domain": [
          0,
          1
         ],
         "range": [
          -0.21999999999999997,
          1.7
         ],
         "ticktext": [
          0.6,
          0.8,
          1,
          1.2,
          1.4,
          1.6,
          1.8,
          2,
          2.2,
          2.4,
          2.6,
          1
         ],
         "tickvals": [
          -0.4,
          -0.19999999999999996,
          0,
          0.19999999999999996,
          0.3999999999999999,
          0.6000000000000001,
          0.8,
          1,
          1.2000000000000002,
          1.4,
          1.6,
          0
         ],
         "title": {
          "text": "score"
         },
         "type": "linear"
        },
        "xaxis2": {
         "anchor": "y2",
         "domain": [
          0,
          1
         ],
         "matches": "x",
         "range": [
          -0.21999999999999997,
          1.7
         ],
         "showticklabels": false,
         "ticktext": [
          0.6,
          0.8,
          1,
          1.2,
          1.4,
          1.6,
          1.8,
          2,
          2.2,
          2.4,
          2.6,
          1
         ],
         "tickvals": [
          -0.4,
          -0.19999999999999996,
          0,
          0.19999999999999996,
          0.3999999999999999,
          0.6000000000000001,
          0.8,
          1,
          1.2000000000000002,
          1.4,
          1.6,
          0
         ],
         "type": "linear"
        },
        "xaxis3": {
         "anchor": "y3",
         "domain": [
          0,
          1
         ],
         "matches": "x",
         "range": [
          -0.21999999999999997,
          1.7
         ],
         "showticklabels": false,
         "ticktext": [
          0.6,
          0.8,
          1,
          1.2,
          1.4,
          1.6,
          1.8,
          2,
          2.2,
          2.4,
          2.6,
          1
         ],
         "tickvals": [
          -0.4,
          -0.19999999999999996,
          0,
          0.19999999999999996,
          0.3999999999999999,
          0.6000000000000001,
          0.8,
          1,
          1.2000000000000002,
          1.4,
          1.6,
          0
         ],
         "type": "linear"
        },
        "xaxis4": {
         "anchor": "y4",
         "domain": [
          0,
          1
         ],
         "matches": "x",
         "range": [
          -0.21999999999999997,
          1.7
         ],
         "showticklabels": false,
         "ticktext": [
          0.6,
          0.8,
          1,
          1.2,
          1.4,
          1.6,
          1.8,
          2,
          2.2,
          2.4,
          2.6,
          1
         ],
         "tickvals": [
          -0.4,
          -0.19999999999999996,
          0,
          0.19999999999999996,
          0.3999999999999999,
          0.6000000000000001,
          0.8,
          1,
          1.2000000000000002,
          1.4,
          1.6,
          0
         ],
         "type": "linear"
        },
        "xaxis5": {
         "anchor": "y5",
         "domain": [
          0,
          1
         ],
         "matches": "x",
         "range": [
          -0.21999999999999997,
          1.7
         ],
         "showticklabels": false,
         "ticktext": [
          0.6,
          0.8,
          1,
          1.2,
          1.4,
          1.6,
          1.8,
          2,
          2.2,
          2.4,
          2.6,
          1
         ],
         "tickvals": [
          -0.4,
          -0.19999999999999996,
          0,
          0.19999999999999996,
          0.3999999999999999,
          0.6000000000000001,
          0.8,
          1,
          1.2000000000000002,
          1.4,
          1.6,
          0
         ],
         "type": "linear"
        },
        "yaxis": {
         "anchor": "x",
         "domain": [
          0,
          0.144
         ],
         "range": [
          0,
          1
         ],
         "showgrid": false,
         "ticktext": [
          "young"
         ],
         "tickvals": [
          0.5
         ],
         "title": {
          "text": ""
         },
         "type": "linear",
         "zeroline": false
        },
        "yaxis2": {
         "anchor": "x2",
         "domain": [
          0.214,
          0.358
         ],
         "matches": "y",
         "range": [
          0,
          1
         ],
         "showgrid": false,
         "ticktext": [
          "young"
         ],
         "tickvals": [
          0.5
         ],
         "title": {
          "text": ""
         },
         "type": "linear",
         "zeroline": false
        },
        "yaxis3": {
         "anchor": "x3",
         "domain": [
          0.428,
          0.572
         ],
         "matches": "y",
         "range": [
          0,
          1
         ],
         "showgrid": false,
         "ticktext": [
          "young"
         ],
         "tickvals": [
          0.5
         ],
         "title": {
          "text": "subgroup"
         },
         "type": "linear",
         "zeroline": false
        },
        "yaxis4": {
         "anchor": "x4",
         "domain": [
          0.6419999999999999,
          0.7859999999999999
         ],
         "matches": "y",
         "range": [
          0,
          1
         ],
         "showgrid": false,
         "ticktext": [
          "young"
         ],
         "tickvals": [
          0.5
         ],
         "title": {
          "text": ""
         },
         "type": "linear",
         "zeroline": false
        },
        "yaxis5": {
         "anchor": "x5",
         "domain": [
          0.856,
          1
         ],
         "matches": "y",
         "range": [
          0,
          1
         ],
         "showgrid": false,
         "ticktext": [
          "young"
         ],
         "tickvals": [
          0.5
         ],
         "title": {
          "text": ""
         },
         "type": "linear",
         "zeroline": false
        }
       }
      },
      "image/png": "[encoded data removed]",
      "text/html": [
       "<div>                            <div id=\"40e6aa23-a81a-44fa-a924-0c8b27a83446\" class=\"plotly-graph-div\" style=\"height:525px; width:100%;\"></div>            <script type=\"text/javascript\">                require([\"plotly\"], function(Plotly) {                    window.PLOTLYENV=window.PLOTLYENV || {};                                    if (document.getElementById(\"40e6aa23-a81a-44fa-a924-0c8b27a83446\")) {                    Plotly.newPlot(                        \"40e6aa23-a81a-44fa-a924-0c8b27a83446\",                        [{\"alignmentgroup\":\"True\",\"customdata\":[[\"young\",1.081,\"XGBClassifier\"]],\"hovertemplate\":\"\\u003cb\\u003e%{customdata[2]}\\u003c\\u002fb\\u003e\\u003cbr\\u003eSubgroup: %{customdata[0]}\\u003cbr\\u003eScore: %{customdata[1]}\\u003cbr\\u003e\\u003cextra\\u003e\\u003c\\u002fextra\\u003e\",\"legendgroup\":\"XGBClassifier\",\"marker\":{\"color\":\"#46bac2\",\"pattern\":{\"shape\":\"\"}},\"name\":\"XGBClassifier\",\"offsetgroup\":\"XGBClassifier\",\"orientation\":\"h\",\"showlegend\":true,\"textposition\":\"auto\",\"x\":[0.08108108108108114],\"xaxis\":\"x5\",\"y\":[0.5],\"yaxis\":\"y5\",\"type\":\"bar\"},{\"alignmentgroup\":\"True\",\"customdata\":[[\"young\",0.876,\"XGBClassifier\"]],\"hovertemplate\":\"\\u003cb\\u003e%{customdata[2]}\\u003c\\u002fb\\u003e\\u003cbr\\u003eSubgroup: %{customdata[0]}\\u003cbr\\u003eScore: %{customdata[1]}\\u003cbr\\u003e\\u003cextra\\u003e\\u003c\\u002fextra\\u003e\",\"legendgroup\":\"XGBClassifier\",\"marker\":{\"color\":\"#46bac2\",\"pattern\":{\"shape\":\"\"}},\"name\":\"XGBClassifier\",\"offsetgroup\":\"XGBClassifier\",\"orientation\":\"h\",\"showlegend\":false,\"textposition\":\"auto\",\"x\":[-0.1238615664845174],\"xaxis\":\"x4\",\"y\":[0.5],\"yaxis\":\"y4\",\"type\":\"bar\"},{\"alignmentgroup\":\"True\",\"customdata\":[[\"young\",2.6,\"XGBClassifier\"]],\"hovertemplate\":\"\\u003cb\\u003e%{customdata[2]}\\u003c\\u002fb\\u003e\\u003cbr\\u003eSubgroup: %{customdata[0]}\\u003cbr\\u003eScore: %{customdata[1]}\\u003cbr\\u003e\\u003cextra\\u003e\\u003c\\u002fextra\\u003e\",\"legendgroup\":\"XGBClassifier\",\"marker\":{\"color\":\"#46bac2\",\"pattern\":{\"shape\":\"\"}},\"name\":\"XGBClassifier\",\"offsetgroup\":\"XGBClassifier\",\"orientation\":\"h\",\"showlegend\":false,\"textposition\":\"auto\",\"x\":[1.5999999999999996],\"xaxis\":\"x3\",\"y\":[0.5],\"yaxis\":\"y3\",\"type\":\"bar\"},{\"alignmentgroup\":\"True\",\"customdata\":[[\"young\",0.95,\"XGBClassifier\"]],\"hovertemplate\":\"\\u003cb\\u003e%{customdata[2]}\\u003c\\u002fb\\u003e\\u003cbr\\u003eSubgroup: %{customdata[0]}\\u003cbr\\u003eScore: %{customdata[1]}\\u003cbr\\u003e\\u003cextra\\u003e\\u003c\\u002fextra\\u003e\",\"legendgroup\":\"XGBClassifier\",\"marker\":{\"color\":\"#46bac2\",\"pattern\":{\"shape\":\"\"}},\"name\":\"XGBClassifier\",\"offsetgroup\":\"XGBClassifier\",\"orientation\":\"h\",\"showlegend\":false,\"textposition\":\"auto\",\"x\":[-0.05010660980810222],\"xaxis\":\"x2\",\"y\":[0.5],\"yaxis\":\"y2\",\"type\":\"bar\"},{\"alignmentgroup\":\"True\",\"customdata\":[[\"young\",2.143,\"XGBClassifier\"]],\"hovertemplate\":\"\\u003cb\\u003e%{customdata[2]}\\u003c\\u002fb\\u003e\\u003cbr\\u003eSubgroup: %{customdata[0]}\\u003cbr\\u003eScore: %{customdata[1]}\\u003cbr\\u003e\\u003cextra\\u003e\\u003c\\u002fextra\\u003e\",\"legendgroup\":\"XGBClassifier\",\"marker\":{\"color\":\"#46bac2\",\"pattern\":{\"shape\":\"\"}},\"name\":\"XGBClassifier\",\"offsetgroup\":\"XGBClassifier\",\"orientation\":\"h\",\"showlegend\":false,\"textposition\":\"auto\",\"x\":[1.1428571428571428],\"xaxis\":\"x\",\"y\":[0.5],\"yaxis\":\"y\",\"type\":\"bar\"}],                        {\"template\":{\"data\":{\"barpolar\":[{\"marker\":{\"line\":{\"color\":\"white\",\"width\":0.5},\"pattern\":{\"fillmode\":\"overlay\",\"size\":10,\"solidity\":0.2}},\"type\":\"barpolar\"}],\"bar\":[{\"error_x\":{\"color\":\"#2a3f5f\"},\"error_y\":{\"color\":\"#2a3f5f\"},\"marker\":{\"line\":{\"color\":\"white\",\"width\":0.5},\"pattern\":{\"fillmode\":\"overlay\",\"size\":10,\"solidity\":0.2}},\"type\":\"bar\"}],\"carpet\":[{\"aaxis\":{\"endlinecolor\":\"#2a3f5f\",\"gridcolor\":\"#C8D4E3\",\"linecolor\":\"#C8D4E3\",\"minorgridcolor\":\"#C8D4E3\",\"startlinecolor\":\"#2a3f5f\"},\"baxis\":{\"endlinecolor\":\"#2a3f5f\",\"gridcolor\":\"#C8D4E3\",\"linecolor\":\"#C8D4E3\",\"minorgridcolor\":\"#C8D4E3\",\"startlinecolor\":\"#2a3f5f\"},\"type\":\"carpet\"}],\"choropleth\":[{\"colorbar\":{\"outlinewidth\":0,\"ticks\":\"\"},\"type\":\"choropleth\"}],\"contourcarpet\":[{\"colorbar\":{\"outlinewidth\":0,\"ticks\":\"\"},\"type\":\"contourcarpet\"}],\"contour\":[{\"colorbar\":{\"outlinewidth\":0,\"ticks\":\"\"},\"colorscale\":[[0.0,\"#0d0887\"],[0.1111111111111111,\"#46039f\"],[0.2222222222222222,\"#7201a8\"],[0.3333333333333333,\"#9c179e\"],[0.4444444444444444,\"#bd3786\"],[0.5555555555555556,\"#d8576b\"],[0.6666666666666666,\"#ed7953\"],[0.7777777777777778,\"#fb9f3a\"],[0.8888888888888888,\"#fdca26\"],[1.0,\"#f0f921\"]],\"type\":\"contour\"}],\"heatmapgl\":[{\"colorbar\":{\"outlinewidth\":0,\"ticks\":\"\"},\"colorscale\":[[0.0,\"#0d0887\"],[0.1111111111111111,\"#46039f\"],[0.2222222222222222,\"#7201a8\"],[0.3333333333333333,\"#9c179e\"],[0.4444444444444444,\"#bd3786\"],[0.5555555555555556,\"#d8576b\"],[0.6666666666666666,\"#ed7953\"],[0.7777777777777778,\"#fb9f3a\"],[0.8888888888888888,\"#fdca26\"],[1.0,\"#f0f921\"]],\"type\":\"heatmapgl\"}],\"heatmap\":[{\"colorbar\":{\"outlinewidth\":0,\"ticks\":\"\"},\"colorscale\":[[0.0,\"#0d0887\"],[0.1111111111111111,\"#46039f\"],[0.2222222222222222,\"#7201a8\"],[0.3333333333333333,\"#9c179e\"],[0.4444444444444444,\"#bd3786\"],[0.5555555555555556,\"#d8576b\"],[0.6666666666666666,\"#ed7953\"],[0.7777777777777778,\"#fb9f3a\"],[0.8888888888888888,\"#fdca26\"],[1.0,\"#f0f921\"]],\"type\":\"heatmap\"}],\"histogram2dcontour\":[{\"colorbar\":{\"outlinewidth\":0,\"ticks\":\"\"},\"colorscale\":[[0.0,\"#0d0887\"],[0.1111111111111111,\"#46039f\"],[0.2222222222222222,\"#7201a8\"],[0.3333333333333333,\"#9c179e\"],[0.4444444444444444,\"#bd3786\"],[0.5555555555555556,\"#d8576b\"],[0.6666666666666666,\"#ed7953\"],[0.7777777777777778,\"#fb9f3a\"],[0.8888888888888888,\"#fdca26\"],[1.0,\"#f0f921\"]],\"type\":\"histogram2dcontour\"}],\"histogram2d\":[{\"colorbar\":{\"outlinewidth\":0,\"ticks\":\"\"},\"colorscale\":[[0.0,\"#0d0887\"],[0.1111111111111111,\"#46039f\"],[0.2222222222222222,\"#7201a8\"],[0.3333333333333333,\"#9c179e\"],[0.4444444444444444,\"#bd3786\"],[0.5555555555555556,\"#d8576b\"],[0.6666666666666666,\"#ed7953\"],[0.7777777777777778,\"#fb9f3a\"],[0.8888888888888888,\"#fdca26\"],[1.0,\"#f0f921\"]],\"type\":\"histogram2d\"}],\"histogram\":[{\"marker\":{\"pattern\":{\"fillmode\":\"overlay\",\"size\":10,\"solidity\":0.2}},\"type\":\"histogram\"}],\"mesh3d\":[{\"colorbar\":{\"outlinewidth\":0,\"ticks\":\"\"},\"type\":\"mesh3d\"}],\"parcoords\":[{\"line\":{\"colorbar\":{\"outlinewidth\":0,\"ticks\":\"\"}},\"type\":\"parcoords\"}],\"pie\":[{\"automargin\":true,\"type\":\"pie\"}],\"scatter3d\":[{\"line\":{\"colorbar\":{\"outlinewidth\":0,\"ticks\":\"\"}},\"marker\":{\"colorbar\":{\"outlinewidth\":0,\"ticks\":\"\"}},\"type\":\"scatter3d\"}],\"scattercarpet\":[{\"marker\":{\"colorbar\":{\"outlinewidth\":0,\"ticks\":\"\"}},\"type\":\"scattercarpet\"}],\"scattergeo\":[{\"marker\":{\"colorbar\":{\"outlinewidth\":0,\"ticks\":\"\"}},\"type\":\"scattergeo\"}],\"scattergl\":[{\"marker\":{\"colorbar\":{\"outlinewidth\":0,\"ticks\":\"\"}},\"type\":\"scattergl\"}],\"scattermapbox\":[{\"marker\":{\"colorbar\":{\"outlinewidth\":0,\"ticks\":\"\"}},\"type\":\"scattermapbox\"}],\"scatterpolargl\":[{\"marker\":{\"colorbar\":{\"outlinewidth\":0,\"ticks\":\"\"}},\"type\":\"scatterpolargl\"}],\"scatterpolar\":[{\"marker\":{\"colorbar\":{\"outlinewidth\":0,\"ticks\":\"\"}},\"type\":\"scatterpolar\"}],\"scatter\":[{\"fillpattern\":{\"fillmode\":\"overlay\",\"size\":10,\"solidity\":0.2},\"type\":\"scatter\"}],\"scatterternary\":[{\"marker\":{\"colorbar\":{\"outlinewidth\":0,\"ticks\":\"\"}},\"type\":\"scatterternary\"}],\"surface\":[{\"colorbar\":{\"outlinewidth\":0,\"ticks\":\"\"},\"colorscale\":[[0.0,\"#0d0887\"],[0.1111111111111111,\"#46039f\"],[0.2222222222222222,\"#7201a8\"],[0.3333333333333333,\"#9c179e\"],[0.4444444444444444,\"#bd3786\"],[0.5555555555555556,\"#d8576b\"],[0.6666666666666666,\"#ed7953\"],[0.7777777777777778,\"#fb9f3a\"],[0.8888888888888888,\"#fdca26\"],[1.0,\"#f0f921\"]],\"type\":\"surface\"}],\"table\":[{\"cells\":{\"fill\":{\"color\":\"#EBF0F8\"},\"line\":{\"color\":\"white\"}},\"header\":{\"fill\":{\"color\":\"#C8D4E3\"},\"line\":{\"color\":\"white\"}},\"type\":\"table\"}]},\"layout\":{\"annotationdefaults\":{\"arrowcolor\":\"#2a3f5f\",\"arrowhead\":0,\"arrowwidth\":1},\"autotypenumbers\":\"strict\",\"coloraxis\":{\"colorbar\":{\"outlinewidth\":0,\"ticks\":\"\"}},\"colorscale\":{\"diverging\":[[0,\"#8e0152\"],[0.1,\"#c51b7d\"],[0.2,\"#de77ae\"],[0.3,\"#f1b6da\"],[0.4,\"#fde0ef\"],[0.5,\"#f7f7f7\"],[0.6,\"#e6f5d0\"],[0.7,\"#b8e186\"],[0.8,\"#7fbc41\"],[0.9,\"#4d9221\"],[1,\"#276419\"]],\"sequential\":[[0.0,\"#0d0887\"],[0.1111111111111111,\"#46039f\"],[0.2222222222222222,\"#7201a8\"],[0.3333333333333333,\"#9c179e\"],[0.4444444444444444,\"#bd3786\"],[0.5555555555555556,\"#d8576b\"],[0.6666666666666666,\"#ed7953\"],[0.7777777777777778,\"#fb9f3a\"],[0.8888888888888888,\"#fdca26\"],[1.0,\"#f0f921\"]],\"sequentialminus\":[[0.0,\"#0d0887\"],[0.1111111111111111,\"#46039f\"],[0.2222222222222222,\"#7201a8\"],[0.3333333333333333,\"#9c179e\"],[0.4444444444444444,\"#bd3786\"],[0.5555555555555556,\"#d8576b\"],[0.6666666666666666,\"#ed7953\"],[0.7777777777777778,\"#fb9f3a\"],[0.8888888888888888,\"#fdca26\"],[1.0,\"#f0f921\"]]},\"colorway\":[\"#636efa\",\"#EF553B\",\"#00cc96\",\"#ab63fa\",\"#FFA15A\",\"#19d3f3\",\"#FF6692\",\"#B6E880\",\"#FF97FF\",\"#FECB52\"],\"font\":{\"color\":\"#2a3f5f\"},\"geo\":{\"bgcolor\":\"white\",\"lakecolor\":\"white\",\"landcolor\":\"white\",\"showlakes\":true,\"showland\":true,\"subunitcolor\":\"#C8D4E3\"},\"hoverlabel\":{\"align\":\"left\"},\"hovermode\":\"closest\",\"mapbox\":{\"style\":\"light\"},\"paper_bgcolor\":\"white\",\"plot_bgcolor\":\"white\",\"polar\":{\"angularaxis\":{\"gridcolor\":\"#EBF0F8\",\"linecolor\":\"#EBF0F8\",\"ticks\":\"\"},\"bgcolor\":\"white\",\"radialaxis\":{\"gridcolor\":\"#EBF0F8\",\"linecolor\":\"#EBF0F8\",\"ticks\":\"\"}},\"scene\":{\"xaxis\":{\"backgroundcolor\":\"white\",\"gridcolor\":\"#DFE8F3\",\"gridwidth\":2,\"linecolor\":\"#EBF0F8\",\"showbackground\":true,\"ticks\":\"\",\"zerolinecolor\":\"#EBF0F8\"},\"yaxis\":{\"backgroundcolor\":\"white\",\"gridcolor\":\"#DFE8F3\",\"gridwidth\":2,\"linecolor\":\"#EBF0F8\",\"showbackground\":true,\"ticks\":\"\",\"zerolinecolor\":\"#EBF0F8\"},\"zaxis\":{\"backgroundcolor\":\"white\",\"gridcolor\":\"#DFE8F3\",\"gridwidth\":2,\"linecolor\":\"#EBF0F8\",\"showbackground\":true,\"ticks\":\"\",\"zerolinecolor\":\"#EBF0F8\"}},\"shapedefaults\":{\"line\":{\"color\":\"#2a3f5f\"}},\"ternary\":{\"aaxis\":{\"gridcolor\":\"#DFE8F3\",\"linecolor\":\"#A2B1C6\",\"ticks\":\"\"},\"baxis\":{\"gridcolor\":\"#DFE8F3\",\"linecolor\":\"#A2B1C6\",\"ticks\":\"\"},\"bgcolor\":\"white\",\"caxis\":{\"gridcolor\":\"#DFE8F3\",\"linecolor\":\"#A2B1C6\",\"ticks\":\"\"}},\"title\":{\"x\":0.05},\"xaxis\":{\"automargin\":true,\"gridcolor\":\"#EBF0F8\",\"linecolor\":\"#EBF0F8\",\"ticks\":\"\",\"title\":{\"standoff\":15},\"zerolinecolor\":\"#EBF0F8\",\"zerolinewidth\":2},\"yaxis\":{\"automargin\":true,\"gridcolor\":\"#EBF0F8\",\"linecolor\":\"#EBF0F8\",\"ticks\":\"\",\"title\":{\"standoff\":15},\"zerolinecolor\":\"#EBF0F8\",\"zerolinewidth\":2}}},\"xaxis\":{\"anchor\":\"y\",\"domain\":[0.0,1.0],\"title\":{\"text\":\"score\"},\"tickvals\":[-0.4,-0.19999999999999996,0.0,0.19999999999999996,0.3999999999999999,0.6000000000000001,0.8,1.0,1.2000000000000002,1.4,1.6,0.0],\"ticktext\":[0.6,0.8,1.0,1.2,1.4,1.6,1.8,2.0,2.2,2.4,2.6,1.0],\"range\":[-0.21999999999999997,1.7]},\"yaxis\":{\"anchor\":\"x\",\"domain\":[0.0,0.144],\"title\":{\"text\":\"\"},\"tickvals\":[0.5],\"ticktext\":[\"young\"],\"range\":[0,1],\"showgrid\":false,\"zeroline\":false},\"xaxis2\":{\"anchor\":\"y2\",\"domain\":[0.0,1.0],\"matches\":\"x\",\"showticklabels\":false,\"tickvals\":[-0.4,-0.19999999999999996,0.0,0.19999999999999996,0.3999999999999999,0.6000000000000001,0.8,1.0,1.2000000000000002,1.4,1.6,0.0],\"ticktext\":[0.6,0.8,1.0,1.2,1.4,1.6,1.8,2.0,2.2,2.4,2.6,1.0],\"range\":[-0.21999999999999997,1.7]},\"yaxis2\":{\"anchor\":\"x2\",\"domain\":[0.214,0.358],\"matches\":\"y\",\"title\":{\"text\":\"\"},\"tickvals\":[0.5],\"ticktext\":[\"young\"],\"range\":[0,1],\"showgrid\":false,\"zeroline\":false},\"xaxis3\":{\"anchor\":\"y3\",\"domain\":[0.0,1.0],\"matches\":\"x\",\"showticklabels\":false,\"tickvals\":[-0.4,-0.19999999999999996,0.0,0.19999999999999996,0.3999999999999999,0.6000000000000001,0.8,1.0,1.2000000000000002,1.4,1.6,0.0],\"ticktext\":[0.6,0.8,1.0,1.2,1.4,1.6,1.8,2.0,2.2,2.4,2.6,1.0],\"range\":[-0.21999999999999997,1.7]},\"yaxis3\":{\"anchor\":\"x3\",\"domain\":[0.428,0.572],\"matches\":\"y\",\"title\":{\"text\":\"subgroup\"},\"tickvals\":[0.5],\"ticktext\":[\"young\"],\"range\":[0,1],\"showgrid\":false,\"zeroline\":false},\"xaxis4\":{\"anchor\":\"y4\",\"domain\":[0.0,1.0],\"matches\":\"x\",\"showticklabels\":false,\"tickvals\":[-0.4,-0.19999999999999996,0.0,0.19999999999999996,0.3999999999999999,0.6000000000000001,0.8,1.0,1.2000000000000002,1.4,1.6,0.0],\"ticktext\":[0.6,0.8,1.0,1.2,1.4,1.6,1.8,2.0,2.2,2.4,2.6,1.0],\"range\":[-0.21999999999999997,1.7]},\"yaxis4\":{\"anchor\":\"x4\",\"domain\":[0.6419999999999999,0.7859999999999999],\"matches\":\"y\",\"title\":{\"text\":\"\"},\"tickvals\":[0.5],\"ticktext\":[\"young\"],\"range\":[0,1],\"showgrid\":false,\"zeroline\":false},\"xaxis5\":{\"anchor\":\"y5\",\"domain\":[0.0,1.0],\"matches\":\"x\",\"showticklabels\":false,\"tickvals\":[-0.4,-0.19999999999999996,0.0,0.19999999999999996,0.3999999999999999,0.6000000000000001,0.8,1.0,1.2000000000000002,1.4,1.6,0.0],\"ticktext\":[0.6,0.8,1.0,1.2,1.4,1.6,1.8,2.0,2.2,2.4,2.6,1.0],\"range\":[-0.21999999999999997,1.7]},\"yaxis5\":{\"anchor\":\"x5\",\"domain\":[0.856,1.0],\"matches\":\"y\",\"title\":{\"text\":\"\"},\"tickvals\":[0.5],\"ticktext\":[\"young\"],\"range\":[0,1],\"showgrid\":false,\"zeroline\":false},\"annotations\":[{\"font\":{\"size\":15},\"showarrow\":false,\"text\":\"Statistical parity ratio   (TP + FP)\\u002f(TP + FP + TN + FN)\",\"x\":0.05,\"xanchor\":\"left\",\"xref\":\"paper\",\"y\":0.144,\"yanchor\":\"bottom\",\"yref\":\"paper\"},{\"font\":{\"size\":15},\"showarrow\":false,\"text\":\"Accuracy equality ratio    (TP + TN)\\u002f(TP + FP + TN + FN)\",\"x\":0.05,\"xanchor\":\"left\",\"xref\":\"paper\",\"y\":0.358,\"yanchor\":\"bottom\",\"yref\":\"paper\"},{\"font\":{\"size\":15},\"showarrow\":false,\"text\":\"Predictive equality ratio   FP\\u002f(FP + TN)\",\"x\":0.05,\"xanchor\":\"left\",\"xref\":\"paper\",\"y\":0.572,\"yanchor\":\"bottom\",\"yref\":\"paper\"},{\"font\":{\"size\":15},\"showarrow\":false,\"text\":\"Predictive parity ratio     TP\\u002f(TP + FP)\",\"x\":0.05,\"xanchor\":\"left\",\"xref\":\"paper\",\"y\":0.7859999999999999,\"yanchor\":\"bottom\",\"yref\":\"paper\"},{\"font\":{\"size\":15},\"showarrow\":false,\"text\":\"Equal opportunity ratio     TP\\u002f(TP + FN)\",\"x\":0.05,\"xanchor\":\"left\",\"xref\":\"paper\",\"y\":1.0,\"yanchor\":\"bottom\",\"yref\":\"paper\"}],\"legend\":{\"title\":{\"text\":\"label\"},\"tracegroupgap\":0},\"margin\":{\"t\":78,\"b\":71,\"r\":30},\"barmode\":\"group\",\"shapes\":[{\"fillcolor\":\"#f05a71\",\"layer\":\"below\",\"line\":{\"width\":0},\"opacity\":0.1,\"type\":\"rect\",\"x0\":0.25,\"x1\":1.7,\"xref\":\"x\",\"y0\":0,\"y1\":1,\"yref\":\"y\"},{\"fillcolor\":\"#f05a71\",\"layer\":\"below\",\"line\":{\"width\":0},\"opacity\":0.1,\"type\":\"rect\",\"x0\":-0.21999999999999997,\"x1\":-0.19999999999999996,\"xref\":\"x\",\"y0\":0,\"y1\":1,\"yref\":\"y\"},{\"fillcolor\":\"#c7f5bf\",\"layer\":\"below\",\"line\":{\"width\":0},\"opacity\":0.1,\"type\":\"rect\",\"x0\":-0.19999999999999996,\"x1\":0.25,\"xref\":\"x\",\"y0\":0,\"y1\":1,\"yref\":\"y\"},{\"line\":{\"color\":\"#371ea3\",\"width\":1.5},\"type\":\"line\",\"x0\":0,\"x1\":0,\"xref\":\"x\",\"y0\":0,\"y1\":1,\"yref\":\"y\"},{\"fillcolor\":\"#f05a71\",\"layer\":\"below\",\"line\":{\"width\":0},\"opacity\":0.1,\"type\":\"rect\",\"x0\":0.25,\"x1\":1.7,\"xref\":\"x\",\"y0\":0,\"y1\":1,\"yref\":\"y2\"},{\"fillcolor\":\"#f05a71\",\"layer\":\"below\",\"line\":{\"width\":0},\"opacity\":0.1,\"type\":\"rect\",\"x0\":-0.21999999999999997,\"x1\":-0.19999999999999996,\"xref\":\"x\",\"y0\":0,\"y1\":1,\"yref\":\"y2\"},{\"fillcolor\":\"#c7f5bf\",\"layer\":\"below\",\"line\":{\"width\":0},\"opacity\":0.1,\"type\":\"rect\",\"x0\":-0.19999999999999996,\"x1\":0.25,\"xref\":\"x\",\"y0\":0,\"y1\":1,\"yref\":\"y2\"},{\"line\":{\"color\":\"#371ea3\",\"width\":1.5},\"type\":\"line\",\"x0\":0,\"x1\":0,\"xref\":\"x\",\"y0\":0,\"y1\":1,\"yref\":\"y2\"},{\"fillcolor\":\"#f05a71\",\"layer\":\"below\",\"line\":{\"width\":0},\"opacity\":0.1,\"type\":\"rect\",\"x0\":0.25,\"x1\":1.7,\"xref\":\"x\",\"y0\":0,\"y1\":1,\"yref\":\"y3\"},{\"fillcolor\":\"#f05a71\",\"layer\":\"below\",\"line\":{\"width\":0},\"opacity\":0.1,\"type\":\"rect\",\"x0\":-0.21999999999999997,\"x1\":-0.19999999999999996,\"xref\":\"x\",\"y0\":0,\"y1\":1,\"yref\":\"y3\"},{\"fillcolor\":\"#c7f5bf\",\"layer\":\"below\",\"line\":{\"width\":0},\"opacity\":0.1,\"type\":\"rect\",\"x0\":-0.19999999999999996,\"x1\":0.25,\"xref\":\"x\",\"y0\":0,\"y1\":1,\"yref\":\"y3\"},{\"line\":{\"color\":\"#371ea3\",\"width\":1.5},\"type\":\"line\",\"x0\":0,\"x1\":0,\"xref\":\"x\",\"y0\":0,\"y1\":1,\"yref\":\"y3\"},{\"fillcolor\":\"#f05a71\",\"layer\":\"below\",\"line\":{\"width\":0},\"opacity\":0.1,\"type\":\"rect\",\"x0\":0.25,\"x1\":1.7,\"xref\":\"x\",\"y0\":0,\"y1\":1,\"yref\":\"y4\"},{\"fillcolor\":\"#f05a71\",\"layer\":\"below\",\"line\":{\"width\":0},\"opacity\":0.1,\"type\":\"rect\",\"x0\":-0.21999999999999997,\"x1\":-0.19999999999999996,\"xref\":\"x\",\"y0\":0,\"y1\":1,\"yref\":\"y4\"},{\"fillcolor\":\"#c7f5bf\",\"layer\":\"below\",\"line\":{\"width\":0},\"opacity\":0.1,\"type\":\"rect\",\"x0\":-0.19999999999999996,\"x1\":0.25,\"xref\":\"x\",\"y0\":0,\"y1\":1,\"yref\":\"y4\"},{\"line\":{\"color\":\"#371ea3\",\"width\":1.5},\"type\":\"line\",\"x0\":0,\"x1\":0,\"xref\":\"x\",\"y0\":0,\"y1\":1,\"yref\":\"y4\"},{\"fillcolor\":\"#f05a71\",\"layer\":\"below\",\"line\":{\"width\":0},\"opacity\":0.1,\"type\":\"rect\",\"x0\":0.25,\"x1\":1.7,\"y0\":0,\"y1\":1,\"yref\":\"y5\",\"xref\":\"x\"},{\"fillcolor\":\"#f05a71\",\"layer\":\"below\",\"line\":{\"width\":0},\"opacity\":0.1,\"type\":\"rect\",\"x0\":-0.21999999999999997,\"x1\":-0.19999999999999996,\"y0\":0,\"y1\":1,\"yref\":\"y5\",\"xref\":\"x\"},{\"fillcolor\":\"#c7f5bf\",\"layer\":\"below\",\"line\":{\"width\":0},\"opacity\":0.1,\"type\":\"rect\",\"x0\":-0.19999999999999996,\"x1\":0.25,\"y0\":0,\"y1\":1,\"yref\":\"y5\",\"xref\":\"x\"},{\"line\":{\"color\":\"#371ea3\",\"width\":1.5},\"type\":\"line\",\"x0\":0,\"x1\":0,\"xref\":\"x\",\"y0\":0,\"y1\":1,\"yref\":\"y5\"}],\"title\":{\"font\":{\"size\":25},\"text\":\"Fairness Check\",\"x\":0.5,\"y\":0.99},\"font\":{\"color\":\"#371ea3\"}},                        {\"displaylogo\": false, \"staticPlot\": false, \"toImageButtonOptions\": {\"height\": null, \"width\": null}, \"modeBarButtonsToRemove\": [\"sendDataToCloud\", \"lasso2d\", \"autoScale2d\", \"select2d\", \"zoom2d\", \"pan2d\", \"zoomIn2d\", \"zoomOut2d\", \"resetScale2d\", \"toggleSpikelines\", \"hoverCompareCartesian\", \"hoverClosestCartesian\"], \"responsive\": true}                    ).then(function(){\n",
       "                            \n",
       "var gd = document.getElementById('40e6aa23-a81a-44fa-a924-0c8b27a83446');\n",
       "var x = new MutationObserver(function (mutations, observer) {{\n",
       "        var display = window.getComputedStyle(gd).display;\n",
       "        if (!display || display === 'none') {{\n",
       "            console.log([gd, 'removed!']);\n",
       "            Plotly.purge(gd);\n",
       "            observer.disconnect();\n",
       "        }}\n",
       "}});\n",
       "\n",
       "// Listen for the removal of the full notebook cells\n",
       "var notebookContainer = gd.closest('#notebook-container');\n",
       "if (notebookContainer) {{\n",
       "    x.observe(notebookContainer, {childList: true});\n",
       "}}\n",
       "\n",
       "// Listen for the clearing of the current output cell\n",
       "var outputEl = gd.closest('.output');\n",
       "if (outputEl) {{\n",
       "    x.observe(outputEl, {childList: true});\n",
       "}}\n",
       "\n",
       "                        })                };                });            </script>        </div>"
      ]
     },
     "metadata": {},
     "output_type": "display_data"
    }
   ],
   "source": [
    "fobject.plot()"
   ]
  },
  {
   "cell_type": "markdown",
   "metadata": {},
   "source": [
    "### Model with different hyperparameters"
   ]
  },
  {
   "cell_type": "code",
   "execution_count": 338,
   "metadata": {
    "scrolled": true
   },
   "outputs": [
    {
     "name": "stderr",
     "output_type": "stream",
     "text": [
      "/Users/michal.janik/studia/XAI/.env/lib/python3.9/site-packages/xgboost/data.py:335: FutureWarning:\n",
      "\n",
      "is_sparse is deprecated and will be removed in a future version. Check `isinstance(dtype, pd.SparseDtype)` instead.\n",
      "\n",
      "/Users/michal.janik/studia/XAI/.env/lib/python3.9/site-packages/xgboost/data.py:338: FutureWarning:\n",
      "\n",
      "is_categorical_dtype is deprecated and will be removed in a future version. Use isinstance(dtype, CategoricalDtype) instead\n",
      "\n",
      "/Users/michal.janik/studia/XAI/.env/lib/python3.9/site-packages/xgboost/data.py:384: FutureWarning:\n",
      "\n",
      "is_categorical_dtype is deprecated and will be removed in a future version. Use isinstance(dtype, CategoricalDtype) instead\n",
      "\n",
      "/Users/michal.janik/studia/XAI/.env/lib/python3.9/site-packages/xgboost/data.py:359: FutureWarning:\n",
      "\n",
      "is_categorical_dtype is deprecated and will be removed in a future version. Use isinstance(dtype, CategoricalDtype) instead\n",
      "\n",
      "/Users/michal.janik/studia/XAI/.env/lib/python3.9/site-packages/xgboost/data.py:384: FutureWarning:\n",
      "\n",
      "is_categorical_dtype is deprecated and will be removed in a future version. Use isinstance(dtype, CategoricalDtype) instead\n",
      "\n",
      "/Users/michal.janik/studia/XAI/.env/lib/python3.9/site-packages/xgboost/data.py:359: FutureWarning:\n",
      "\n",
      "is_categorical_dtype is deprecated and will be removed in a future version. Use isinstance(dtype, CategoricalDtype) instead\n",
      "\n",
      "/Users/michal.janik/studia/XAI/.env/lib/python3.9/site-packages/xgboost/data.py:384: FutureWarning:\n",
      "\n",
      "is_categorical_dtype is deprecated and will be removed in a future version. Use isinstance(dtype, CategoricalDtype) instead\n",
      "\n",
      "/Users/michal.janik/studia/XAI/.env/lib/python3.9/site-packages/xgboost/data.py:359: FutureWarning:\n",
      "\n",
      "is_categorical_dtype is deprecated and will be removed in a future version. Use isinstance(dtype, CategoricalDtype) instead\n",
      "\n",
      "/Users/michal.janik/studia/XAI/.env/lib/python3.9/site-packages/xgboost/data.py:384: FutureWarning:\n",
      "\n",
      "is_categorical_dtype is deprecated and will be removed in a future version. Use isinstance(dtype, CategoricalDtype) instead\n",
      "\n",
      "/Users/michal.janik/studia/XAI/.env/lib/python3.9/site-packages/xgboost/data.py:359: FutureWarning:\n",
      "\n",
      "is_categorical_dtype is deprecated and will be removed in a future version. Use isinstance(dtype, CategoricalDtype) instead\n",
      "\n",
      "/Users/michal.janik/studia/XAI/.env/lib/python3.9/site-packages/xgboost/data.py:384: FutureWarning:\n",
      "\n",
      "is_categorical_dtype is deprecated and will be removed in a future version. Use isinstance(dtype, CategoricalDtype) instead\n",
      "\n",
      "/Users/michal.janik/studia/XAI/.env/lib/python3.9/site-packages/xgboost/data.py:359: FutureWarning:\n",
      "\n",
      "is_categorical_dtype is deprecated and will be removed in a future version. Use isinstance(dtype, CategoricalDtype) instead\n",
      "\n",
      "/Users/michal.janik/studia/XAI/.env/lib/python3.9/site-packages/xgboost/data.py:335: FutureWarning:\n",
      "\n",
      "is_sparse is deprecated and will be removed in a future version. Check `isinstance(dtype, pd.SparseDtype)` instead.\n",
      "\n",
      "/Users/michal.janik/studia/XAI/.env/lib/python3.9/site-packages/xgboost/data.py:338: FutureWarning:\n",
      "\n",
      "is_categorical_dtype is deprecated and will be removed in a future version. Use isinstance(dtype, CategoricalDtype) instead\n",
      "\n",
      "/Users/michal.janik/studia/XAI/.env/lib/python3.9/site-packages/xgboost/data.py:384: FutureWarning:\n",
      "\n",
      "is_categorical_dtype is deprecated and will be removed in a future version. Use isinstance(dtype, CategoricalDtype) instead\n",
      "\n",
      "/Users/michal.janik/studia/XAI/.env/lib/python3.9/site-packages/xgboost/data.py:359: FutureWarning:\n",
      "\n",
      "is_categorical_dtype is deprecated and will be removed in a future version. Use isinstance(dtype, CategoricalDtype) instead\n",
      "\n",
      "/Users/michal.janik/studia/XAI/.env/lib/python3.9/site-packages/xgboost/data.py:335: FutureWarning:\n",
      "\n",
      "is_sparse is deprecated and will be removed in a future version. Check `isinstance(dtype, pd.SparseDtype)` instead.\n",
      "\n",
      "/Users/michal.janik/studia/XAI/.env/lib/python3.9/site-packages/xgboost/data.py:338: FutureWarning:\n",
      "\n",
      "is_categorical_dtype is deprecated and will be removed in a future version. Use isinstance(dtype, CategoricalDtype) instead\n",
      "\n",
      "/Users/michal.janik/studia/XAI/.env/lib/python3.9/site-packages/xgboost/data.py:384: FutureWarning:\n",
      "\n",
      "is_categorical_dtype is deprecated and will be removed in a future version. Use isinstance(dtype, CategoricalDtype) instead\n",
      "\n",
      "/Users/michal.janik/studia/XAI/.env/lib/python3.9/site-packages/xgboost/data.py:359: FutureWarning:\n",
      "\n",
      "is_categorical_dtype is deprecated and will be removed in a future version. Use isinstance(dtype, CategoricalDtype) instead\n",
      "\n"
     ]
    },
    {
     "data": {
      "text/html": [
       "<div>\n",
       "<style scoped>\n",
       "    .dataframe tbody tr th:only-of-type {\n",
       "        vertical-align: middle;\n",
       "    }\n",
       "\n",
       "    .dataframe tbody tr th {\n",
       "        vertical-align: top;\n",
       "    }\n",
       "\n",
       "    .dataframe thead th {\n",
       "        text-align: right;\n",
       "    }\n",
       "</style>\n",
       "<table border=\"1\" class=\"dataframe\">\n",
       "  <thead>\n",
       "    <tr style=\"text-align: right;\">\n",
       "      <th></th>\n",
       "      <th>recall</th>\n",
       "      <th>precision</th>\n",
       "      <th>f1</th>\n",
       "      <th>accuracy</th>\n",
       "      <th>auc</th>\n",
       "    </tr>\n",
       "  </thead>\n",
       "  <tbody>\n",
       "    <tr>\n",
       "      <th>XGBClassifier with max_depth=2</th>\n",
       "      <td>0.18508</td>\n",
       "      <td>0.598473</td>\n",
       "      <td>0.282726</td>\n",
       "      <td>0.93385</td>\n",
       "      <td>0.853459</td>\n",
       "    </tr>\n",
       "  </tbody>\n",
       "</table>\n",
       "</div>"
      ],
      "text/plain": [
       "<dalex.model_explanations._model_performance.object.ModelPerformance at 0x136c68040>"
      ]
     },
     "execution_count": 338,
     "metadata": {},
     "output_type": "execute_result"
    }
   ],
   "source": [
    "model_different = xgboost.XGBClassifier(\n",
    "    max_depth=2\n",
    ")\n",
    "model_different.fit(X_train, y_train)\n",
    "\n",
    "explainer_different = dx.Explainer(\n",
    "    model_different, \n",
    "    X_test, \n",
    "    y_test, \n",
    "    label='XGBClassifier with max_depth=2',\n",
    "    predict_function=pf_xgboost_classifier_categorical,\n",
    "    verbose=False\n",
    ")\n",
    "\n",
    "explainer_different.model_performance()"
   ]
  },
  {
   "cell_type": "code",
   "execution_count": 339,
   "metadata": {},
   "outputs": [
    {
     "data": {
      "application/vnd.plotly.v1+json": {
       "config": {
        "plotlyServerURL": "https://plot.ly"
       },
       "data": [
        {
         "alignmentgroup": "True",
         "customdata": [
          [
           "young",
           1.081,
           "XGBClassifier"
          ]
         ],
         "hovertemplate": "<b>%{customdata[2]}</b><br>Subgroup: %{customdata[0]}<br>Score: %{customdata[1]}<br><extra></extra>",
         "legendgroup": "XGBClassifier",
         "marker": {
          "color": "#8bdcbe",
          "pattern": {
           "shape": ""
          }
         },
         "name": "XGBClassifier",
         "offsetgroup": "XGBClassifier",
         "orientation": "h",
         "showlegend": true,
         "textposition": "auto",
         "type": "bar",
         "x": [
          0.08108108108108114
         ],
         "xaxis": "x5",
         "y": [
          0.5
         ],
         "yaxis": "y5"
        },
        {
         "alignmentgroup": "True",
         "customdata": [
          [
           "young",
           0.876,
           "XGBClassifier"
          ]
         ],
         "hovertemplate": "<b>%{customdata[2]}</b><br>Subgroup: %{customdata[0]}<br>Score: %{customdata[1]}<br><extra></extra>",
         "legendgroup": "XGBClassifier",
         "marker": {
          "color": "#8bdcbe",
          "pattern": {
           "shape": ""
          }
         },
         "name": "XGBClassifier",
         "offsetgroup": "XGBClassifier",
         "orientation": "h",
         "showlegend": false,
         "textposition": "auto",
         "type": "bar",
         "x": [
          -0.1238615664845174
         ],
         "xaxis": "x4",
         "y": [
          0.5
         ],
         "yaxis": "y4"
        },
        {
         "alignmentgroup": "True",
         "customdata": [
          [
           "young",
           2.6,
           "XGBClassifier"
          ]
         ],
         "hovertemplate": "<b>%{customdata[2]}</b><br>Subgroup: %{customdata[0]}<br>Score: %{customdata[1]}<br><extra></extra>",
         "legendgroup": "XGBClassifier",
         "marker": {
          "color": "#8bdcbe",
          "pattern": {
           "shape": ""
          }
         },
         "name": "XGBClassifier",
         "offsetgroup": "XGBClassifier",
         "orientation": "h",
         "showlegend": false,
         "textposition": "auto",
         "type": "bar",
         "x": [
          1.5999999999999996
         ],
         "xaxis": "x3",
         "y": [
          0.5
         ],
         "yaxis": "y3"
        },
        {
         "alignmentgroup": "True",
         "customdata": [
          [
           "young",
           0.95,
           "XGBClassifier"
          ]
         ],
         "hovertemplate": "<b>%{customdata[2]}</b><br>Subgroup: %{customdata[0]}<br>Score: %{customdata[1]}<br><extra></extra>",
         "legendgroup": "XGBClassifier",
         "marker": {
          "color": "#8bdcbe",
          "pattern": {
           "shape": ""
          }
         },
         "name": "XGBClassifier",
         "offsetgroup": "XGBClassifier",
         "orientation": "h",
         "showlegend": false,
         "textposition": "auto",
         "type": "bar",
         "x": [
          -0.05010660980810222
         ],
         "xaxis": "x2",
         "y": [
          0.5
         ],
         "yaxis": "y2"
        },
        {
         "alignmentgroup": "True",
         "customdata": [
          [
           "young",
           2.143,
           "XGBClassifier"
          ]
         ],
         "hovertemplate": "<b>%{customdata[2]}</b><br>Subgroup: %{customdata[0]}<br>Score: %{customdata[1]}<br><extra></extra>",
         "legendgroup": "XGBClassifier",
         "marker": {
          "color": "#8bdcbe",
          "pattern": {
           "shape": ""
          }
         },
         "name": "XGBClassifier",
         "offsetgroup": "XGBClassifier",
         "orientation": "h",
         "showlegend": false,
         "textposition": "auto",
         "type": "bar",
         "x": [
          1.1428571428571428
         ],
         "xaxis": "x",
         "y": [
          0.5
         ],
         "yaxis": "y"
        },
        {
         "alignmentgroup": "True",
         "customdata": [
          [
           "young",
           1.066,
           "XGBClassifier with max_depth=2"
          ]
         ],
         "hovertemplate": "<b>%{customdata[2]}</b><br>Subgroup: %{customdata[0]}<br>Score: %{customdata[1]}<br><extra></extra>",
         "legendgroup": "XGBClassifier with max_depth=2",
         "marker": {
          "color": "#4378bf",
          "pattern": {
           "shape": ""
          }
         },
         "name": "XGBClassifier with max_depth=2",
         "offsetgroup": "XGBClassifier with max_depth=2",
         "orientation": "h",
         "showlegend": true,
         "textposition": "auto",
         "type": "bar",
         "x": [
          0.06593406593406592
         ],
         "xaxis": "x5",
         "y": [
          0.5
         ],
         "yaxis": "y5"
        },
        {
         "alignmentgroup": "True",
         "customdata": [
          [
           "young",
           0.842,
           "XGBClassifier with max_depth=2"
          ]
         ],
         "hovertemplate": "<b>%{customdata[2]}</b><br>Subgroup: %{customdata[0]}<br>Score: %{customdata[1]}<br><extra></extra>",
         "legendgroup": "XGBClassifier with max_depth=2",
         "marker": {
          "color": "#4378bf",
          "pattern": {
           "shape": ""
          }
         },
         "name": "XGBClassifier with max_depth=2",
         "offsetgroup": "XGBClassifier with max_depth=2",
         "orientation": "h",
         "showlegend": false,
         "textposition": "auto",
         "type": "bar",
         "x": [
          -0.15814696485623003
         ],
         "xaxis": "x4",
         "y": [
          0.5
         ],
         "yaxis": "y4"
        },
        {
         "alignmentgroup": "True",
         "customdata": [
          [
           "young",
           3,
           "XGBClassifier with max_depth=2"
          ]
         ],
         "hovertemplate": "<b>%{customdata[2]}</b><br>Subgroup: %{customdata[0]}<br>Score: %{customdata[1]}<br><extra></extra>",
         "legendgroup": "XGBClassifier with max_depth=2",
         "marker": {
          "color": "#4378bf",
          "pattern": {
           "shape": ""
          }
         },
         "name": "XGBClassifier with max_depth=2",
         "offsetgroup": "XGBClassifier with max_depth=2",
         "orientation": "h",
         "showlegend": false,
         "textposition": "auto",
         "type": "bar",
         "x": [
          2
         ],
         "xaxis": "x3",
         "y": [
          0.5
         ],
         "yaxis": "y3"
        },
        {
         "alignmentgroup": "True",
         "customdata": [
          [
           "young",
           0.951,
           "XGBClassifier with max_depth=2"
          ]
         ],
         "hovertemplate": "<b>%{customdata[2]}</b><br>Subgroup: %{customdata[0]}<br>Score: %{customdata[1]}<br><extra></extra>",
         "legendgroup": "XGBClassifier with max_depth=2",
         "marker": {
          "color": "#4378bf",
          "pattern": {
           "shape": ""
          }
         },
         "name": "XGBClassifier with max_depth=2",
         "offsetgroup": "XGBClassifier with max_depth=2",
         "orientation": "h",
         "showlegend": false,
         "textposition": "auto",
         "type": "bar",
         "x": [
          -0.0488841657810839
         ],
         "xaxis": "x2",
         "y": [
          0.5
         ],
         "yaxis": "y2"
        },
        {
         "alignmentgroup": "True",
         "customdata": [
          [
           "young",
           2.105,
           "XGBClassifier with max_depth=2"
          ]
         ],
         "hovertemplate": "<b>%{customdata[2]}</b><br>Subgroup: %{customdata[0]}<br>Score: %{customdata[1]}<br><extra></extra>",
         "legendgroup": "XGBClassifier with max_depth=2",
         "marker": {
          "color": "#4378bf",
          "pattern": {
           "shape": ""
          }
         },
         "name": "XGBClassifier with max_depth=2",
         "offsetgroup": "XGBClassifier with max_depth=2",
         "orientation": "h",
         "showlegend": false,
         "textposition": "auto",
         "type": "bar",
         "x": [
          1.1052631578947367
         ],
         "xaxis": "x",
         "y": [
          0.5
         ],
         "yaxis": "y"
        }
       ],
       "layout": {
        "annotations": [
         {
          "font": {
           "size": 15
          },
          "showarrow": false,
          "text": "Statistical parity ratio   (TP + FP)/(TP + FP + TN + FN)",
          "x": 0.05,
          "xanchor": "left",
          "xref": "paper",
          "y": 0.144,
          "yanchor": "bottom",
          "yref": "paper"
         },
         {
          "font": {
           "size": 15
          },
          "showarrow": false,
          "text": "Accuracy equality ratio    (TP + TN)/(TP + FP + TN + FN)",
          "x": 0.05,
          "xanchor": "left",
          "xref": "paper",
          "y": 0.358,
          "yanchor": "bottom",
          "yref": "paper"
         },
         {
          "font": {
           "size": 15
          },
          "showarrow": false,
          "text": "Predictive equality ratio   FP/(FP + TN)",
          "x": 0.05,
          "xanchor": "left",
          "xref": "paper",
          "y": 0.572,
          "yanchor": "bottom",
          "yref": "paper"
         },
         {
          "font": {
           "size": 15
          },
          "showarrow": false,
          "text": "Predictive parity ratio     TP/(TP + FP)",
          "x": 0.05,
          "xanchor": "left",
          "xref": "paper",
          "y": 0.7859999999999999,
          "yanchor": "bottom",
          "yref": "paper"
         },
         {
          "font": {
           "size": 15
          },
          "showarrow": false,
          "text": "Equal opportunity ratio     TP/(TP + FN)",
          "x": 0.05,
          "xanchor": "left",
          "xref": "paper",
          "y": 1,
          "yanchor": "bottom",
          "yref": "paper"
         }
        ],
        "autosize": false,
        "barmode": "group",
        "font": {
         "color": "#371ea3"
        },
        "height": 450,
        "legend": {
         "title": {
          "text": "label"
         },
         "tracegroupgap": 0,
         "x": 0.99,
         "xanchor": "right",
         "y": 0.99,
         "yanchor": "top"
        },
        "margin": {
         "b": 71,
         "r": 30,
         "t": 78
        },
        "shapes": [
         {
          "fillcolor": "#f05a71",
          "layer": "below",
          "line": {
           "width": 0
          },
          "opacity": 0.1,
          "type": "rect",
          "x0": 0.25,
          "x1": 2.1,
          "xref": "x",
          "y0": 0,
          "y1": 1,
          "yref": "y"
         },
         {
          "fillcolor": "#f05a71",
          "layer": "below",
          "line": {
           "width": 0
          },
          "opacity": 0.1,
          "type": "rect",
          "x0": -0.21999999999999997,
          "x1": -0.19999999999999996,
          "xref": "x",
          "y0": 0,
          "y1": 1,
          "yref": "y"
         },
         {
          "fillcolor": "#c7f5bf",
          "layer": "below",
          "line": {
           "width": 0
          },
          "opacity": 0.1,
          "type": "rect",
          "x0": -0.19999999999999996,
          "x1": 0.25,
          "xref": "x",
          "y0": 0,
          "y1": 1,
          "yref": "y"
         },
         {
          "line": {
           "color": "#371ea3",
           "width": 1.5
          },
          "type": "line",
          "x0": 0,
          "x1": 0,
          "xref": "x",
          "y0": 0,
          "y1": 1,
          "yref": "y"
         },
         {
          "fillcolor": "#f05a71",
          "layer": "below",
          "line": {
           "width": 0
          },
          "opacity": 0.1,
          "type": "rect",
          "x0": 0.25,
          "x1": 2.1,
          "xref": "x",
          "y0": 0,
          "y1": 1,
          "yref": "y2"
         },
         {
          "fillcolor": "#f05a71",
          "layer": "below",
          "line": {
           "width": 0
          },
          "opacity": 0.1,
          "type": "rect",
          "x0": -0.21999999999999997,
          "x1": -0.19999999999999996,
          "xref": "x",
          "y0": 0,
          "y1": 1,
          "yref": "y2"
         },
         {
          "fillcolor": "#c7f5bf",
          "layer": "below",
          "line": {
           "width": 0
          },
          "opacity": 0.1,
          "type": "rect",
          "x0": -0.19999999999999996,
          "x1": 0.25,
          "xref": "x",
          "y0": 0,
          "y1": 1,
          "yref": "y2"
         },
         {
          "line": {
           "color": "#371ea3",
           "width": 1.5
          },
          "type": "line",
          "x0": 0,
          "x1": 0,
          "xref": "x",
          "y0": 0,
          "y1": 1,
          "yref": "y2"
         },
         {
          "fillcolor": "#f05a71",
          "layer": "below",
          "line": {
           "width": 0
          },
          "opacity": 0.1,
          "type": "rect",
          "x0": 0.25,
          "x1": 2.1,
          "xref": "x",
          "y0": 0,
          "y1": 1,
          "yref": "y3"
         },
         {
          "fillcolor": "#f05a71",
          "layer": "below",
          "line": {
           "width": 0
          },
          "opacity": 0.1,
          "type": "rect",
          "x0": -0.21999999999999997,
          "x1": -0.19999999999999996,
          "xref": "x",
          "y0": 0,
          "y1": 1,
          "yref": "y3"
         },
         {
          "fillcolor": "#c7f5bf",
          "layer": "below",
          "line": {
           "width": 0
          },
          "opacity": 0.1,
          "type": "rect",
          "x0": -0.19999999999999996,
          "x1": 0.25,
          "xref": "x",
          "y0": 0,
          "y1": 1,
          "yref": "y3"
         },
         {
          "line": {
           "color": "#371ea3",
           "width": 1.5
          },
          "type": "line",
          "x0": 0,
          "x1": 0,
          "xref": "x",
          "y0": 0,
          "y1": 1,
          "yref": "y3"
         },
         {
          "fillcolor": "#f05a71",
          "layer": "below",
          "line": {
           "width": 0
          },
          "opacity": 0.1,
          "type": "rect",
          "x0": 0.25,
          "x1": 2.1,
          "xref": "x",
          "y0": 0,
          "y1": 1,
          "yref": "y4"
         },
         {
          "fillcolor": "#f05a71",
          "layer": "below",
          "line": {
           "width": 0
          },
          "opacity": 0.1,
          "type": "rect",
          "x0": -0.21999999999999997,
          "x1": -0.19999999999999996,
          "xref": "x",
          "y0": 0,
          "y1": 1,
          "yref": "y4"
         },
         {
          "fillcolor": "#c7f5bf",
          "layer": "below",
          "line": {
           "width": 0
          },
          "opacity": 0.1,
          "type": "rect",
          "x0": -0.19999999999999996,
          "x1": 0.25,
          "xref": "x",
          "y0": 0,
          "y1": 1,
          "yref": "y4"
         },
         {
          "line": {
           "color": "#371ea3",
           "width": 1.5
          },
          "type": "line",
          "x0": 0,
          "x1": 0,
          "xref": "x",
          "y0": 0,
          "y1": 1,
          "yref": "y4"
         },
         {
          "fillcolor": "#f05a71",
          "layer": "below",
          "line": {
           "width": 0
          },
          "opacity": 0.1,
          "type": "rect",
          "x0": 0.25,
          "x1": 2.1,
          "xref": "x",
          "y0": 0,
          "y1": 1,
          "yref": "y5"
         },
         {
          "fillcolor": "#f05a71",
          "layer": "below",
          "line": {
           "width": 0
          },
          "opacity": 0.1,
          "type": "rect",
          "x0": -0.21999999999999997,
          "x1": -0.19999999999999996,
          "xref": "x",
          "y0": 0,
          "y1": 1,
          "yref": "y5"
         },
         {
          "fillcolor": "#c7f5bf",
          "layer": "below",
          "line": {
           "width": 0
          },
          "opacity": 0.1,
          "type": "rect",
          "x0": -0.19999999999999996,
          "x1": 0.25,
          "xref": "x",
          "y0": 0,
          "y1": 1,
          "yref": "y5"
         },
         {
          "line": {
           "color": "#371ea3",
           "width": 1.5
          },
          "type": "line",
          "x0": 0,
          "x1": 0,
          "xref": "x",
          "y0": 0,
          "y1": 1,
          "yref": "y5"
         }
        ],
        "template": {
         "data": {
          "bar": [
           {
            "error_x": {
             "color": "#2a3f5f"
            },
            "error_y": {
             "color": "#2a3f5f"
            },
            "marker": {
             "line": {
              "color": "white",
              "width": 0.5
             },
             "pattern": {
              "fillmode": "overlay",
              "size": 10,
              "solidity": 0.2
             }
            },
            "type": "bar"
           }
          ],
          "barpolar": [
           {
            "marker": {
             "line": {
              "color": "white",
              "width": 0.5
             },
             "pattern": {
              "fillmode": "overlay",
              "size": 10,
              "solidity": 0.2
             }
            },
            "type": "barpolar"
           }
          ],
          "carpet": [
           {
            "aaxis": {
             "endlinecolor": "#2a3f5f",
             "gridcolor": "#C8D4E3",
             "linecolor": "#C8D4E3",
             "minorgridcolor": "#C8D4E3",
             "startlinecolor": "#2a3f5f"
            },
            "baxis": {
             "endlinecolor": "#2a3f5f",
             "gridcolor": "#C8D4E3",
             "linecolor": "#C8D4E3",
             "minorgridcolor": "#C8D4E3",
             "startlinecolor": "#2a3f5f"
            },
            "type": "carpet"
           }
          ],
          "choropleth": [
           {
            "colorbar": {
             "outlinewidth": 0,
             "ticks": ""
            },
            "type": "choropleth"
           }
          ],
          "contour": [
           {
            "colorbar": {
             "outlinewidth": 0,
             "ticks": ""
            },
            "colorscale": [
             [
              0,
              "#0d0887"
             ],
             [
              0.1111111111111111,
              "#46039f"
             ],
             [
              0.2222222222222222,
              "#7201a8"
             ],
             [
              0.3333333333333333,
              "#9c179e"
             ],
             [
              0.4444444444444444,
              "#bd3786"
             ],
             [
              0.5555555555555556,
              "#d8576b"
             ],
             [
              0.6666666666666666,
              "#ed7953"
             ],
             [
              0.7777777777777778,
              "#fb9f3a"
             ],
             [
              0.8888888888888888,
              "#fdca26"
             ],
             [
              1,
              "#f0f921"
             ]
            ],
            "type": "contour"
           }
          ],
          "contourcarpet": [
           {
            "colorbar": {
             "outlinewidth": 0,
             "ticks": ""
            },
            "type": "contourcarpet"
           }
          ],
          "heatmap": [
           {
            "colorbar": {
             "outlinewidth": 0,
             "ticks": ""
            },
            "colorscale": [
             [
              0,
              "#0d0887"
             ],
             [
              0.1111111111111111,
              "#46039f"
             ],
             [
              0.2222222222222222,
              "#7201a8"
             ],
             [
              0.3333333333333333,
              "#9c179e"
             ],
             [
              0.4444444444444444,
              "#bd3786"
             ],
             [
              0.5555555555555556,
              "#d8576b"
             ],
             [
              0.6666666666666666,
              "#ed7953"
             ],
             [
              0.7777777777777778,
              "#fb9f3a"
             ],
             [
              0.8888888888888888,
              "#fdca26"
             ],
             [
              1,
              "#f0f921"
             ]
            ],
            "type": "heatmap"
           }
          ],
          "heatmapgl": [
           {
            "colorbar": {
             "outlinewidth": 0,
             "ticks": ""
            },
            "colorscale": [
             [
              0,
              "#0d0887"
             ],
             [
              0.1111111111111111,
              "#46039f"
             ],
             [
              0.2222222222222222,
              "#7201a8"
             ],
             [
              0.3333333333333333,
              "#9c179e"
             ],
             [
              0.4444444444444444,
              "#bd3786"
             ],
             [
              0.5555555555555556,
              "#d8576b"
             ],
             [
              0.6666666666666666,
              "#ed7953"
             ],
             [
              0.7777777777777778,
              "#fb9f3a"
             ],
             [
              0.8888888888888888,
              "#fdca26"
             ],
             [
              1,
              "#f0f921"
             ]
            ],
            "type": "heatmapgl"
           }
          ],
          "histogram": [
           {
            "marker": {
             "pattern": {
              "fillmode": "overlay",
              "size": 10,
              "solidity": 0.2
             }
            },
            "type": "histogram"
           }
          ],
          "histogram2d": [
           {
            "colorbar": {
             "outlinewidth": 0,
             "ticks": ""
            },
            "colorscale": [
             [
              0,
              "#0d0887"
             ],
             [
              0.1111111111111111,
              "#46039f"
             ],
             [
              0.2222222222222222,
              "#7201a8"
             ],
             [
              0.3333333333333333,
              "#9c179e"
             ],
             [
              0.4444444444444444,
              "#bd3786"
             ],
             [
              0.5555555555555556,
              "#d8576b"
             ],
             [
              0.6666666666666666,
              "#ed7953"
             ],
             [
              0.7777777777777778,
              "#fb9f3a"
             ],
             [
              0.8888888888888888,
              "#fdca26"
             ],
             [
              1,
              "#f0f921"
             ]
            ],
            "type": "histogram2d"
           }
          ],
          "histogram2dcontour": [
           {
            "colorbar": {
             "outlinewidth": 0,
             "ticks": ""
            },
            "colorscale": [
             [
              0,
              "#0d0887"
             ],
             [
              0.1111111111111111,
              "#46039f"
             ],
             [
              0.2222222222222222,
              "#7201a8"
             ],
             [
              0.3333333333333333,
              "#9c179e"
             ],
             [
              0.4444444444444444,
              "#bd3786"
             ],
             [
              0.5555555555555556,
              "#d8576b"
             ],
             [
              0.6666666666666666,
              "#ed7953"
             ],
             [
              0.7777777777777778,
              "#fb9f3a"
             ],
             [
              0.8888888888888888,
              "#fdca26"
             ],
             [
              1,
              "#f0f921"
             ]
            ],
            "type": "histogram2dcontour"
           }
          ],
          "mesh3d": [
           {
            "colorbar": {
             "outlinewidth": 0,
             "ticks": ""
            },
            "type": "mesh3d"
           }
          ],
          "parcoords": [
           {
            "line": {
             "colorbar": {
              "outlinewidth": 0,
              "ticks": ""
             }
            },
            "type": "parcoords"
           }
          ],
          "pie": [
           {
            "automargin": true,
            "type": "pie"
           }
          ],
          "scatter": [
           {
            "fillpattern": {
             "fillmode": "overlay",
             "size": 10,
             "solidity": 0.2
            },
            "type": "scatter"
           }
          ],
          "scatter3d": [
           {
            "line": {
             "colorbar": {
              "outlinewidth": 0,
              "ticks": ""
             }
            },
            "marker": {
             "colorbar": {
              "outlinewidth": 0,
              "ticks": ""
             }
            },
            "type": "scatter3d"
           }
          ],
          "scattercarpet": [
           {
            "marker": {
             "colorbar": {
              "outlinewidth": 0,
              "ticks": ""
             }
            },
            "type": "scattercarpet"
           }
          ],
          "scattergeo": [
           {
            "marker": {
             "colorbar": {
              "outlinewidth": 0,
              "ticks": ""
             }
            },
            "type": "scattergeo"
           }
          ],
          "scattergl": [
           {
            "marker": {
             "colorbar": {
              "outlinewidth": 0,
              "ticks": ""
             }
            },
            "type": "scattergl"
           }
          ],
          "scattermapbox": [
           {
            "marker": {
             "colorbar": {
              "outlinewidth": 0,
              "ticks": ""
             }
            },
            "type": "scattermapbox"
           }
          ],
          "scatterpolar": [
           {
            "marker": {
             "colorbar": {
              "outlinewidth": 0,
              "ticks": ""
             }
            },
            "type": "scatterpolar"
           }
          ],
          "scatterpolargl": [
           {
            "marker": {
             "colorbar": {
              "outlinewidth": 0,
              "ticks": ""
             }
            },
            "type": "scatterpolargl"
           }
          ],
          "scatterternary": [
           {
            "marker": {
             "colorbar": {
              "outlinewidth": 0,
              "ticks": ""
             }
            },
            "type": "scatterternary"
           }
          ],
          "surface": [
           {
            "colorbar": {
             "outlinewidth": 0,
             "ticks": ""
            },
            "colorscale": [
             [
              0,
              "#0d0887"
             ],
             [
              0.1111111111111111,
              "#46039f"
             ],
             [
              0.2222222222222222,
              "#7201a8"
             ],
             [
              0.3333333333333333,
              "#9c179e"
             ],
             [
              0.4444444444444444,
              "#bd3786"
             ],
             [
              0.5555555555555556,
              "#d8576b"
             ],
             [
              0.6666666666666666,
              "#ed7953"
             ],
             [
              0.7777777777777778,
              "#fb9f3a"
             ],
             [
              0.8888888888888888,
              "#fdca26"
             ],
             [
              1,
              "#f0f921"
             ]
            ],
            "type": "surface"
           }
          ],
          "table": [
           {
            "cells": {
             "fill": {
              "color": "#EBF0F8"
             },
             "line": {
              "color": "white"
             }
            },
            "header": {
             "fill": {
              "color": "#C8D4E3"
             },
             "line": {
              "color": "white"
             }
            },
            "type": "table"
           }
          ]
         },
         "layout": {
          "annotationdefaults": {
           "arrowcolor": "#2a3f5f",
           "arrowhead": 0,
           "arrowwidth": 1
          },
          "autotypenumbers": "strict",
          "coloraxis": {
           "colorbar": {
            "outlinewidth": 0,
            "ticks": ""
           }
          },
          "colorscale": {
           "diverging": [
            [
             0,
             "#8e0152"
            ],
            [
             0.1,
             "#c51b7d"
            ],
            [
             0.2,
             "#de77ae"
            ],
            [
             0.3,
             "#f1b6da"
            ],
            [
             0.4,
             "#fde0ef"
            ],
            [
             0.5,
             "#f7f7f7"
            ],
            [
             0.6,
             "#e6f5d0"
            ],
            [
             0.7,
             "#b8e186"
            ],
            [
             0.8,
             "#7fbc41"
            ],
            [
             0.9,
             "#4d9221"
            ],
            [
             1,
             "#276419"
            ]
           ],
           "sequential": [
            [
             0,
             "#0d0887"
            ],
            [
             0.1111111111111111,
             "#46039f"
            ],
            [
             0.2222222222222222,
             "#7201a8"
            ],
            [
             0.3333333333333333,
             "#9c179e"
            ],
            [
             0.4444444444444444,
             "#bd3786"
            ],
            [
             0.5555555555555556,
             "#d8576b"
            ],
            [
             0.6666666666666666,
             "#ed7953"
            ],
            [
             0.7777777777777778,
             "#fb9f3a"
            ],
            [
             0.8888888888888888,
             "#fdca26"
            ],
            [
             1,
             "#f0f921"
            ]
           ],
           "sequentialminus": [
            [
             0,
             "#0d0887"
            ],
            [
             0.1111111111111111,
             "#46039f"
            ],
            [
             0.2222222222222222,
             "#7201a8"
            ],
            [
             0.3333333333333333,
             "#9c179e"
            ],
            [
             0.4444444444444444,
             "#bd3786"
            ],
            [
             0.5555555555555556,
             "#d8576b"
            ],
            [
             0.6666666666666666,
             "#ed7953"
            ],
            [
             0.7777777777777778,
             "#fb9f3a"
            ],
            [
             0.8888888888888888,
             "#fdca26"
            ],
            [
             1,
             "#f0f921"
            ]
           ]
          },
          "colorway": [
           "#636efa",
           "#EF553B",
           "#00cc96",
           "#ab63fa",
           "#FFA15A",
           "#19d3f3",
           "#FF6692",
           "#B6E880",
           "#FF97FF",
           "#FECB52"
          ],
          "font": {
           "color": "#2a3f5f"
          },
          "geo": {
           "bgcolor": "white",
           "lakecolor": "white",
           "landcolor": "white",
           "showlakes": true,
           "showland": true,
           "subunitcolor": "#C8D4E3"
          },
          "hoverlabel": {
           "align": "left"
          },
          "hovermode": "closest",
          "mapbox": {
           "style": "light"
          },
          "paper_bgcolor": "white",
          "plot_bgcolor": "white",
          "polar": {
           "angularaxis": {
            "gridcolor": "#EBF0F8",
            "linecolor": "#EBF0F8",
            "ticks": ""
           },
           "bgcolor": "white",
           "radialaxis": {
            "gridcolor": "#EBF0F8",
            "linecolor": "#EBF0F8",
            "ticks": ""
           }
          },
          "scene": {
           "xaxis": {
            "backgroundcolor": "white",
            "gridcolor": "#DFE8F3",
            "gridwidth": 2,
            "linecolor": "#EBF0F8",
            "showbackground": true,
            "ticks": "",
            "zerolinecolor": "#EBF0F8"
           },
           "yaxis": {
            "backgroundcolor": "white",
            "gridcolor": "#DFE8F3",
            "gridwidth": 2,
            "linecolor": "#EBF0F8",
            "showbackground": true,
            "ticks": "",
            "zerolinecolor": "#EBF0F8"
           },
           "zaxis": {
            "backgroundcolor": "white",
            "gridcolor": "#DFE8F3",
            "gridwidth": 2,
            "linecolor": "#EBF0F8",
            "showbackground": true,
            "ticks": "",
            "zerolinecolor": "#EBF0F8"
           }
          },
          "shapedefaults": {
           "line": {
            "color": "#2a3f5f"
           }
          },
          "ternary": {
           "aaxis": {
            "gridcolor": "#DFE8F3",
            "linecolor": "#A2B1C6",
            "ticks": ""
           },
           "baxis": {
            "gridcolor": "#DFE8F3",
            "linecolor": "#A2B1C6",
            "ticks": ""
           },
           "bgcolor": "white",
           "caxis": {
            "gridcolor": "#DFE8F3",
            "linecolor": "#A2B1C6",
            "ticks": ""
           }
          },
          "title": {
           "x": 0.05
          },
          "xaxis": {
           "automargin": true,
           "gridcolor": "#EBF0F8",
           "linecolor": "#EBF0F8",
           "ticks": "",
           "title": {
            "standoff": 15
           },
           "zerolinecolor": "#EBF0F8",
           "zerolinewidth": 2
          },
          "yaxis": {
           "automargin": true,
           "gridcolor": "#EBF0F8",
           "linecolor": "#EBF0F8",
           "ticks": "",
           "title": {
            "standoff": 15
           },
           "zerolinecolor": "#EBF0F8",
           "zerolinewidth": 2
          }
         }
        },
        "title": {
         "font": {
          "size": 25
         },
         "text": "Fairness Check",
         "x": 0.5,
         "y": 0.99
        },
        "width": 800,
        "xaxis": {
         "anchor": "y",
         "domain": [
          0,
          1
         ],
         "range": [
          -0.21999999999999997,
          2.1
         ],
         "ticktext": [
          0.5,
          1,
          1.5,
          2,
          2.5,
          3,
          1
         ],
         "tickvals": [
          -0.5,
          0,
          0.5,
          1,
          1.5,
          2,
          0
         ],
         "title": {
          "text": "score"
         },
         "type": "linear"
        },
        "xaxis2": {
         "anchor": "y2",
         "domain": [
          0,
          1
         ],
         "matches": "x",
         "range": [
          -0.21999999999999997,
          2.1
         ],
         "showticklabels": false,
         "ticktext": [
          0.5,
          1,
          1.5,
          2,
          2.5,
          3,
          1
         ],
         "tickvals": [
          -0.5,
          0,
          0.5,
          1,
          1.5,
          2,
          0
         ],
         "type": "linear"
        },
        "xaxis3": {
         "anchor": "y3",
         "domain": [
          0,
          1
         ],
         "matches": "x",
         "range": [
          -0.21999999999999997,
          2.1
         ],
         "showticklabels": false,
         "ticktext": [
          0.5,
          1,
          1.5,
          2,
          2.5,
          3,
          1
         ],
         "tickvals": [
          -0.5,
          0,
          0.5,
          1,
          1.5,
          2,
          0
         ],
         "type": "linear"
        },
        "xaxis4": {
         "anchor": "y4",
         "domain": [
          0,
          1
         ],
         "matches": "x",
         "range": [
          -0.21999999999999997,
          2.1
         ],
         "showticklabels": false,
         "ticktext": [
          0.5,
          1,
          1.5,
          2,
          2.5,
          3,
          1
         ],
         "tickvals": [
          -0.5,
          0,
          0.5,
          1,
          1.5,
          2,
          0
         ],
         "type": "linear"
        },
        "xaxis5": {
         "anchor": "y5",
         "domain": [
          0,
          1
         ],
         "matches": "x",
         "range": [
          -0.21999999999999997,
          2.1
         ],
         "showticklabels": false,
         "ticktext": [
          0.5,
          1,
          1.5,
          2,
          2.5,
          3,
          1
         ],
         "tickvals": [
          -0.5,
          0,
          0.5,
          1,
          1.5,
          2,
          0
         ],
         "type": "linear"
        },
        "yaxis": {
         "anchor": "x",
         "domain": [
          0,
          0.144
         ],
         "range": [
          0,
          1
         ],
         "showgrid": false,
         "ticktext": [
          "young"
         ],
         "tickvals": [
          0.5
         ],
         "title": {
          "text": ""
         },
         "type": "linear",
         "zeroline": false
        },
        "yaxis2": {
         "anchor": "x2",
         "domain": [
          0.214,
          0.358
         ],
         "matches": "y",
         "range": [
          0,
          1
         ],
         "showgrid": false,
         "ticktext": [
          "young"
         ],
         "tickvals": [
          0.5
         ],
         "title": {
          "text": ""
         },
         "type": "linear",
         "zeroline": false
        },
        "yaxis3": {
         "anchor": "x3",
         "domain": [
          0.428,
          0.572
         ],
         "matches": "y",
         "range": [
          0,
          1
         ],
         "showgrid": false,
         "ticktext": [
          "young"
         ],
         "tickvals": [
          0.5
         ],
         "title": {
          "text": "subgroup"
         },
         "type": "linear",
         "zeroline": false
        },
        "yaxis4": {
         "anchor": "x4",
         "domain": [
          0.6419999999999999,
          0.7859999999999999
         ],
         "matches": "y",
         "range": [
          0,
          1
         ],
         "showgrid": false,
         "ticktext": [
          "young"
         ],
         "tickvals": [
          0.5
         ],
         "title": {
          "text": ""
         },
         "type": "linear",
         "zeroline": false
        },
        "yaxis5": {
         "anchor": "x5",
         "domain": [
          0.856,
          1
         ],
         "matches": "y",
         "range": [
          0,
          1
         ],
         "showgrid": false,
         "ticktext": [
          "young"
         ],
         "tickvals": [
          0.5
         ],
         "title": {
          "text": ""
         },
         "type": "linear",
         "zeroline": false
        }
       }
      },
      "image/png": "[encoded data removed]",
      "text/html": [
       "<div>                            <div id=\"afd38c5d-aff2-447a-9b6b-a436424ff5c0\" class=\"plotly-graph-div\" style=\"height:450px; width:800px;\"></div>            <script type=\"text/javascript\">                require([\"plotly\"], function(Plotly) {                    window.PLOTLYENV=window.PLOTLYENV || {};                                    if (document.getElementById(\"afd38c5d-aff2-447a-9b6b-a436424ff5c0\")) {                    Plotly.newPlot(                        \"afd38c5d-aff2-447a-9b6b-a436424ff5c0\",                        [{\"alignmentgroup\":\"True\",\"customdata\":[[\"young\",1.081,\"XGBClassifier\"]],\"hovertemplate\":\"\\u003cb\\u003e%{customdata[2]}\\u003c\\u002fb\\u003e\\u003cbr\\u003eSubgroup: %{customdata[0]}\\u003cbr\\u003eScore: %{customdata[1]}\\u003cbr\\u003e\\u003cextra\\u003e\\u003c\\u002fextra\\u003e\",\"legendgroup\":\"XGBClassifier\",\"marker\":{\"color\":\"#8bdcbe\",\"pattern\":{\"shape\":\"\"}},\"name\":\"XGBClassifier\",\"offsetgroup\":\"XGBClassifier\",\"orientation\":\"h\",\"showlegend\":true,\"textposition\":\"auto\",\"x\":[0.08108108108108114],\"xaxis\":\"x5\",\"y\":[0.5],\"yaxis\":\"y5\",\"type\":\"bar\"},{\"alignmentgroup\":\"True\",\"customdata\":[[\"young\",0.876,\"XGBClassifier\"]],\"hovertemplate\":\"\\u003cb\\u003e%{customdata[2]}\\u003c\\u002fb\\u003e\\u003cbr\\u003eSubgroup: %{customdata[0]}\\u003cbr\\u003eScore: %{customdata[1]}\\u003cbr\\u003e\\u003cextra\\u003e\\u003c\\u002fextra\\u003e\",\"legendgroup\":\"XGBClassifier\",\"marker\":{\"color\":\"#8bdcbe\",\"pattern\":{\"shape\":\"\"}},\"name\":\"XGBClassifier\",\"offsetgroup\":\"XGBClassifier\",\"orientation\":\"h\",\"showlegend\":false,\"textposition\":\"auto\",\"x\":[-0.1238615664845174],\"xaxis\":\"x4\",\"y\":[0.5],\"yaxis\":\"y4\",\"type\":\"bar\"},{\"alignmentgroup\":\"True\",\"customdata\":[[\"young\",2.6,\"XGBClassifier\"]],\"hovertemplate\":\"\\u003cb\\u003e%{customdata[2]}\\u003c\\u002fb\\u003e\\u003cbr\\u003eSubgroup: %{customdata[0]}\\u003cbr\\u003eScore: %{customdata[1]}\\u003cbr\\u003e\\u003cextra\\u003e\\u003c\\u002fextra\\u003e\",\"legendgroup\":\"XGBClassifier\",\"marker\":{\"color\":\"#8bdcbe\",\"pattern\":{\"shape\":\"\"}},\"name\":\"XGBClassifier\",\"offsetgroup\":\"XGBClassifier\",\"orientation\":\"h\",\"showlegend\":false,\"textposition\":\"auto\",\"x\":[1.5999999999999996],\"xaxis\":\"x3\",\"y\":[0.5],\"yaxis\":\"y3\",\"type\":\"bar\"},{\"alignmentgroup\":\"True\",\"customdata\":[[\"young\",0.95,\"XGBClassifier\"]],\"hovertemplate\":\"\\u003cb\\u003e%{customdata[2]}\\u003c\\u002fb\\u003e\\u003cbr\\u003eSubgroup: %{customdata[0]}\\u003cbr\\u003eScore: %{customdata[1]}\\u003cbr\\u003e\\u003cextra\\u003e\\u003c\\u002fextra\\u003e\",\"legendgroup\":\"XGBClassifier\",\"marker\":{\"color\":\"#8bdcbe\",\"pattern\":{\"shape\":\"\"}},\"name\":\"XGBClassifier\",\"offsetgroup\":\"XGBClassifier\",\"orientation\":\"h\",\"showlegend\":false,\"textposition\":\"auto\",\"x\":[-0.05010660980810222],\"xaxis\":\"x2\",\"y\":[0.5],\"yaxis\":\"y2\",\"type\":\"bar\"},{\"alignmentgroup\":\"True\",\"customdata\":[[\"young\",2.143,\"XGBClassifier\"]],\"hovertemplate\":\"\\u003cb\\u003e%{customdata[2]}\\u003c\\u002fb\\u003e\\u003cbr\\u003eSubgroup: %{customdata[0]}\\u003cbr\\u003eScore: %{customdata[1]}\\u003cbr\\u003e\\u003cextra\\u003e\\u003c\\u002fextra\\u003e\",\"legendgroup\":\"XGBClassifier\",\"marker\":{\"color\":\"#8bdcbe\",\"pattern\":{\"shape\":\"\"}},\"name\":\"XGBClassifier\",\"offsetgroup\":\"XGBClassifier\",\"orientation\":\"h\",\"showlegend\":false,\"textposition\":\"auto\",\"x\":[1.1428571428571428],\"xaxis\":\"x\",\"y\":[0.5],\"yaxis\":\"y\",\"type\":\"bar\"},{\"alignmentgroup\":\"True\",\"customdata\":[[\"young\",1.066,\"XGBClassifier with max_depth=2\"]],\"hovertemplate\":\"\\u003cb\\u003e%{customdata[2]}\\u003c\\u002fb\\u003e\\u003cbr\\u003eSubgroup: %{customdata[0]}\\u003cbr\\u003eScore: %{customdata[1]}\\u003cbr\\u003e\\u003cextra\\u003e\\u003c\\u002fextra\\u003e\",\"legendgroup\":\"XGBClassifier with max_depth=2\",\"marker\":{\"color\":\"#4378bf\",\"pattern\":{\"shape\":\"\"}},\"name\":\"XGBClassifier with max_depth=2\",\"offsetgroup\":\"XGBClassifier with max_depth=2\",\"orientation\":\"h\",\"showlegend\":true,\"textposition\":\"auto\",\"x\":[0.06593406593406592],\"xaxis\":\"x5\",\"y\":[0.5],\"yaxis\":\"y5\",\"type\":\"bar\"},{\"alignmentgroup\":\"True\",\"customdata\":[[\"young\",0.842,\"XGBClassifier with max_depth=2\"]],\"hovertemplate\":\"\\u003cb\\u003e%{customdata[2]}\\u003c\\u002fb\\u003e\\u003cbr\\u003eSubgroup: %{customdata[0]}\\u003cbr\\u003eScore: %{customdata[1]}\\u003cbr\\u003e\\u003cextra\\u003e\\u003c\\u002fextra\\u003e\",\"legendgroup\":\"XGBClassifier with max_depth=2\",\"marker\":{\"color\":\"#4378bf\",\"pattern\":{\"shape\":\"\"}},\"name\":\"XGBClassifier with max_depth=2\",\"offsetgroup\":\"XGBClassifier with max_depth=2\",\"orientation\":\"h\",\"showlegend\":false,\"textposition\":\"auto\",\"x\":[-0.15814696485623003],\"xaxis\":\"x4\",\"y\":[0.5],\"yaxis\":\"y4\",\"type\":\"bar\"},{\"alignmentgroup\":\"True\",\"customdata\":[[\"young\",3.0,\"XGBClassifier with max_depth=2\"]],\"hovertemplate\":\"\\u003cb\\u003e%{customdata[2]}\\u003c\\u002fb\\u003e\\u003cbr\\u003eSubgroup: %{customdata[0]}\\u003cbr\\u003eScore: %{customdata[1]}\\u003cbr\\u003e\\u003cextra\\u003e\\u003c\\u002fextra\\u003e\",\"legendgroup\":\"XGBClassifier with max_depth=2\",\"marker\":{\"color\":\"#4378bf\",\"pattern\":{\"shape\":\"\"}},\"name\":\"XGBClassifier with max_depth=2\",\"offsetgroup\":\"XGBClassifier with max_depth=2\",\"orientation\":\"h\",\"showlegend\":false,\"textposition\":\"auto\",\"x\":[2.0],\"xaxis\":\"x3\",\"y\":[0.5],\"yaxis\":\"y3\",\"type\":\"bar\"},{\"alignmentgroup\":\"True\",\"customdata\":[[\"young\",0.951,\"XGBClassifier with max_depth=2\"]],\"hovertemplate\":\"\\u003cb\\u003e%{customdata[2]}\\u003c\\u002fb\\u003e\\u003cbr\\u003eSubgroup: %{customdata[0]}\\u003cbr\\u003eScore: %{customdata[1]}\\u003cbr\\u003e\\u003cextra\\u003e\\u003c\\u002fextra\\u003e\",\"legendgroup\":\"XGBClassifier with max_depth=2\",\"marker\":{\"color\":\"#4378bf\",\"pattern\":{\"shape\":\"\"}},\"name\":\"XGBClassifier with max_depth=2\",\"offsetgroup\":\"XGBClassifier with max_depth=2\",\"orientation\":\"h\",\"showlegend\":false,\"textposition\":\"auto\",\"x\":[-0.0488841657810839],\"xaxis\":\"x2\",\"y\":[0.5],\"yaxis\":\"y2\",\"type\":\"bar\"},{\"alignmentgroup\":\"True\",\"customdata\":[[\"young\",2.105,\"XGBClassifier with max_depth=2\"]],\"hovertemplate\":\"\\u003cb\\u003e%{customdata[2]}\\u003c\\u002fb\\u003e\\u003cbr\\u003eSubgroup: %{customdata[0]}\\u003cbr\\u003eScore: %{customdata[1]}\\u003cbr\\u003e\\u003cextra\\u003e\\u003c\\u002fextra\\u003e\",\"legendgroup\":\"XGBClassifier with max_depth=2\",\"marker\":{\"color\":\"#4378bf\",\"pattern\":{\"shape\":\"\"}},\"name\":\"XGBClassifier with max_depth=2\",\"offsetgroup\":\"XGBClassifier with max_depth=2\",\"orientation\":\"h\",\"showlegend\":false,\"textposition\":\"auto\",\"x\":[1.1052631578947367],\"xaxis\":\"x\",\"y\":[0.5],\"yaxis\":\"y\",\"type\":\"bar\"}],                        {\"template\":{\"data\":{\"barpolar\":[{\"marker\":{\"line\":{\"color\":\"white\",\"width\":0.5},\"pattern\":{\"fillmode\":\"overlay\",\"size\":10,\"solidity\":0.2}},\"type\":\"barpolar\"}],\"bar\":[{\"error_x\":{\"color\":\"#2a3f5f\"},\"error_y\":{\"color\":\"#2a3f5f\"},\"marker\":{\"line\":{\"color\":\"white\",\"width\":0.5},\"pattern\":{\"fillmode\":\"overlay\",\"size\":10,\"solidity\":0.2}},\"type\":\"bar\"}],\"carpet\":[{\"aaxis\":{\"endlinecolor\":\"#2a3f5f\",\"gridcolor\":\"#C8D4E3\",\"linecolor\":\"#C8D4E3\",\"minorgridcolor\":\"#C8D4E3\",\"startlinecolor\":\"#2a3f5f\"},\"baxis\":{\"endlinecolor\":\"#2a3f5f\",\"gridcolor\":\"#C8D4E3\",\"linecolor\":\"#C8D4E3\",\"minorgridcolor\":\"#C8D4E3\",\"startlinecolor\":\"#2a3f5f\"},\"type\":\"carpet\"}],\"choropleth\":[{\"colorbar\":{\"outlinewidth\":0,\"ticks\":\"\"},\"type\":\"choropleth\"}],\"contourcarpet\":[{\"colorbar\":{\"outlinewidth\":0,\"ticks\":\"\"},\"type\":\"contourcarpet\"}],\"contour\":[{\"colorbar\":{\"outlinewidth\":0,\"ticks\":\"\"},\"colorscale\":[[0.0,\"#0d0887\"],[0.1111111111111111,\"#46039f\"],[0.2222222222222222,\"#7201a8\"],[0.3333333333333333,\"#9c179e\"],[0.4444444444444444,\"#bd3786\"],[0.5555555555555556,\"#d8576b\"],[0.6666666666666666,\"#ed7953\"],[0.7777777777777778,\"#fb9f3a\"],[0.8888888888888888,\"#fdca26\"],[1.0,\"#f0f921\"]],\"type\":\"contour\"}],\"heatmapgl\":[{\"colorbar\":{\"outlinewidth\":0,\"ticks\":\"\"},\"colorscale\":[[0.0,\"#0d0887\"],[0.1111111111111111,\"#46039f\"],[0.2222222222222222,\"#7201a8\"],[0.3333333333333333,\"#9c179e\"],[0.4444444444444444,\"#bd3786\"],[0.5555555555555556,\"#d8576b\"],[0.6666666666666666,\"#ed7953\"],[0.7777777777777778,\"#fb9f3a\"],[0.8888888888888888,\"#fdca26\"],[1.0,\"#f0f921\"]],\"type\":\"heatmapgl\"}],\"heatmap\":[{\"colorbar\":{\"outlinewidth\":0,\"ticks\":\"\"},\"colorscale\":[[0.0,\"#0d0887\"],[0.1111111111111111,\"#46039f\"],[0.2222222222222222,\"#7201a8\"],[0.3333333333333333,\"#9c179e\"],[0.4444444444444444,\"#bd3786\"],[0.5555555555555556,\"#d8576b\"],[0.6666666666666666,\"#ed7953\"],[0.7777777777777778,\"#fb9f3a\"],[0.8888888888888888,\"#fdca26\"],[1.0,\"#f0f921\"]],\"type\":\"heatmap\"}],\"histogram2dcontour\":[{\"colorbar\":{\"outlinewidth\":0,\"ticks\":\"\"},\"colorscale\":[[0.0,\"#0d0887\"],[0.1111111111111111,\"#46039f\"],[0.2222222222222222,\"#7201a8\"],[0.3333333333333333,\"#9c179e\"],[0.4444444444444444,\"#bd3786\"],[0.5555555555555556,\"#d8576b\"],[0.6666666666666666,\"#ed7953\"],[0.7777777777777778,\"#fb9f3a\"],[0.8888888888888888,\"#fdca26\"],[1.0,\"#f0f921\"]],\"type\":\"histogram2dcontour\"}],\"histogram2d\":[{\"colorbar\":{\"outlinewidth\":0,\"ticks\":\"\"},\"colorscale\":[[0.0,\"#0d0887\"],[0.1111111111111111,\"#46039f\"],[0.2222222222222222,\"#7201a8\"],[0.3333333333333333,\"#9c179e\"],[0.4444444444444444,\"#bd3786\"],[0.5555555555555556,\"#d8576b\"],[0.6666666666666666,\"#ed7953\"],[0.7777777777777778,\"#fb9f3a\"],[0.8888888888888888,\"#fdca26\"],[1.0,\"#f0f921\"]],\"type\":\"histogram2d\"}],\"histogram\":[{\"marker\":{\"pattern\":{\"fillmode\":\"overlay\",\"size\":10,\"solidity\":0.2}},\"type\":\"histogram\"}],\"mesh3d\":[{\"colorbar\":{\"outlinewidth\":0,\"ticks\":\"\"},\"type\":\"mesh3d\"}],\"parcoords\":[{\"line\":{\"colorbar\":{\"outlinewidth\":0,\"ticks\":\"\"}},\"type\":\"parcoords\"}],\"pie\":[{\"automargin\":true,\"type\":\"pie\"}],\"scatter3d\":[{\"line\":{\"colorbar\":{\"outlinewidth\":0,\"ticks\":\"\"}},\"marker\":{\"colorbar\":{\"outlinewidth\":0,\"ticks\":\"\"}},\"type\":\"scatter3d\"}],\"scattercarpet\":[{\"marker\":{\"colorbar\":{\"outlinewidth\":0,\"ticks\":\"\"}},\"type\":\"scattercarpet\"}],\"scattergeo\":[{\"marker\":{\"colorbar\":{\"outlinewidth\":0,\"ticks\":\"\"}},\"type\":\"scattergeo\"}],\"scattergl\":[{\"marker\":{\"colorbar\":{\"outlinewidth\":0,\"ticks\":\"\"}},\"type\":\"scattergl\"}],\"scattermapbox\":[{\"marker\":{\"colorbar\":{\"outlinewidth\":0,\"ticks\":\"\"}},\"type\":\"scattermapbox\"}],\"scatterpolargl\":[{\"marker\":{\"colorbar\":{\"outlinewidth\":0,\"ticks\":\"\"}},\"type\":\"scatterpolargl\"}],\"scatterpolar\":[{\"marker\":{\"colorbar\":{\"outlinewidth\":0,\"ticks\":\"\"}},\"type\":\"scatterpolar\"}],\"scatter\":[{\"fillpattern\":{\"fillmode\":\"overlay\",\"size\":10,\"solidity\":0.2},\"type\":\"scatter\"}],\"scatterternary\":[{\"marker\":{\"colorbar\":{\"outlinewidth\":0,\"ticks\":\"\"}},\"type\":\"scatterternary\"}],\"surface\":[{\"colorbar\":{\"outlinewidth\":0,\"ticks\":\"\"},\"colorscale\":[[0.0,\"#0d0887\"],[0.1111111111111111,\"#46039f\"],[0.2222222222222222,\"#7201a8\"],[0.3333333333333333,\"#9c179e\"],[0.4444444444444444,\"#bd3786\"],[0.5555555555555556,\"#d8576b\"],[0.6666666666666666,\"#ed7953\"],[0.7777777777777778,\"#fb9f3a\"],[0.8888888888888888,\"#fdca26\"],[1.0,\"#f0f921\"]],\"type\":\"surface\"}],\"table\":[{\"cells\":{\"fill\":{\"color\":\"#EBF0F8\"},\"line\":{\"color\":\"white\"}},\"header\":{\"fill\":{\"color\":\"#C8D4E3\"},\"line\":{\"color\":\"white\"}},\"type\":\"table\"}]},\"layout\":{\"annotationdefaults\":{\"arrowcolor\":\"#2a3f5f\",\"arrowhead\":0,\"arrowwidth\":1},\"autotypenumbers\":\"strict\",\"coloraxis\":{\"colorbar\":{\"outlinewidth\":0,\"ticks\":\"\"}},\"colorscale\":{\"diverging\":[[0,\"#8e0152\"],[0.1,\"#c51b7d\"],[0.2,\"#de77ae\"],[0.3,\"#f1b6da\"],[0.4,\"#fde0ef\"],[0.5,\"#f7f7f7\"],[0.6,\"#e6f5d0\"],[0.7,\"#b8e186\"],[0.8,\"#7fbc41\"],[0.9,\"#4d9221\"],[1,\"#276419\"]],\"sequential\":[[0.0,\"#0d0887\"],[0.1111111111111111,\"#46039f\"],[0.2222222222222222,\"#7201a8\"],[0.3333333333333333,\"#9c179e\"],[0.4444444444444444,\"#bd3786\"],[0.5555555555555556,\"#d8576b\"],[0.6666666666666666,\"#ed7953\"],[0.7777777777777778,\"#fb9f3a\"],[0.8888888888888888,\"#fdca26\"],[1.0,\"#f0f921\"]],\"sequentialminus\":[[0.0,\"#0d0887\"],[0.1111111111111111,\"#46039f\"],[0.2222222222222222,\"#7201a8\"],[0.3333333333333333,\"#9c179e\"],[0.4444444444444444,\"#bd3786\"],[0.5555555555555556,\"#d8576b\"],[0.6666666666666666,\"#ed7953\"],[0.7777777777777778,\"#fb9f3a\"],[0.8888888888888888,\"#fdca26\"],[1.0,\"#f0f921\"]]},\"colorway\":[\"#636efa\",\"#EF553B\",\"#00cc96\",\"#ab63fa\",\"#FFA15A\",\"#19d3f3\",\"#FF6692\",\"#B6E880\",\"#FF97FF\",\"#FECB52\"],\"font\":{\"color\":\"#2a3f5f\"},\"geo\":{\"bgcolor\":\"white\",\"lakecolor\":\"white\",\"landcolor\":\"white\",\"showlakes\":true,\"showland\":true,\"subunitcolor\":\"#C8D4E3\"},\"hoverlabel\":{\"align\":\"left\"},\"hovermode\":\"closest\",\"mapbox\":{\"style\":\"light\"},\"paper_bgcolor\":\"white\",\"plot_bgcolor\":\"white\",\"polar\":{\"angularaxis\":{\"gridcolor\":\"#EBF0F8\",\"linecolor\":\"#EBF0F8\",\"ticks\":\"\"},\"bgcolor\":\"white\",\"radialaxis\":{\"gridcolor\":\"#EBF0F8\",\"linecolor\":\"#EBF0F8\",\"ticks\":\"\"}},\"scene\":{\"xaxis\":{\"backgroundcolor\":\"white\",\"gridcolor\":\"#DFE8F3\",\"gridwidth\":2,\"linecolor\":\"#EBF0F8\",\"showbackground\":true,\"ticks\":\"\",\"zerolinecolor\":\"#EBF0F8\"},\"yaxis\":{\"backgroundcolor\":\"white\",\"gridcolor\":\"#DFE8F3\",\"gridwidth\":2,\"linecolor\":\"#EBF0F8\",\"showbackground\":true,\"ticks\":\"\",\"zerolinecolor\":\"#EBF0F8\"},\"zaxis\":{\"backgroundcolor\":\"white\",\"gridcolor\":\"#DFE8F3\",\"gridwidth\":2,\"linecolor\":\"#EBF0F8\",\"showbackground\":true,\"ticks\":\"\",\"zerolinecolor\":\"#EBF0F8\"}},\"shapedefaults\":{\"line\":{\"color\":\"#2a3f5f\"}},\"ternary\":{\"aaxis\":{\"gridcolor\":\"#DFE8F3\",\"linecolor\":\"#A2B1C6\",\"ticks\":\"\"},\"baxis\":{\"gridcolor\":\"#DFE8F3\",\"linecolor\":\"#A2B1C6\",\"ticks\":\"\"},\"bgcolor\":\"white\",\"caxis\":{\"gridcolor\":\"#DFE8F3\",\"linecolor\":\"#A2B1C6\",\"ticks\":\"\"}},\"title\":{\"x\":0.05},\"xaxis\":{\"automargin\":true,\"gridcolor\":\"#EBF0F8\",\"linecolor\":\"#EBF0F8\",\"ticks\":\"\",\"title\":{\"standoff\":15},\"zerolinecolor\":\"#EBF0F8\",\"zerolinewidth\":2},\"yaxis\":{\"automargin\":true,\"gridcolor\":\"#EBF0F8\",\"linecolor\":\"#EBF0F8\",\"ticks\":\"\",\"title\":{\"standoff\":15},\"zerolinecolor\":\"#EBF0F8\",\"zerolinewidth\":2}}},\"xaxis\":{\"anchor\":\"y\",\"domain\":[0.0,1.0],\"title\":{\"text\":\"score\"},\"tickvals\":[-0.5,0.0,0.5,1.0,1.5,2.0,0.0],\"ticktext\":[0.5,1.0,1.5,2.0,2.5,3.0,1.0],\"range\":[-0.21999999999999997,2.1]},\"yaxis\":{\"anchor\":\"x\",\"domain\":[0.0,0.144],\"title\":{\"text\":\"\"},\"tickvals\":[0.5],\"ticktext\":[\"young\"],\"range\":[0,1],\"showgrid\":false,\"zeroline\":false},\"xaxis2\":{\"anchor\":\"y2\",\"domain\":[0.0,1.0],\"matches\":\"x\",\"showticklabels\":false,\"tickvals\":[-0.5,0.0,0.5,1.0,1.5,2.0,0.0],\"ticktext\":[0.5,1.0,1.5,2.0,2.5,3.0,1.0],\"range\":[-0.21999999999999997,2.1]},\"yaxis2\":{\"anchor\":\"x2\",\"domain\":[0.214,0.358],\"matches\":\"y\",\"title\":{\"text\":\"\"},\"tickvals\":[0.5],\"ticktext\":[\"young\"],\"range\":[0,1],\"showgrid\":false,\"zeroline\":false},\"xaxis3\":{\"anchor\":\"y3\",\"domain\":[0.0,1.0],\"matches\":\"x\",\"showticklabels\":false,\"tickvals\":[-0.5,0.0,0.5,1.0,1.5,2.0,0.0],\"ticktext\":[0.5,1.0,1.5,2.0,2.5,3.0,1.0],\"range\":[-0.21999999999999997,2.1]},\"yaxis3\":{\"anchor\":\"x3\",\"domain\":[0.428,0.572],\"matches\":\"y\",\"title\":{\"text\":\"subgroup\"},\"tickvals\":[0.5],\"ticktext\":[\"young\"],\"range\":[0,1],\"showgrid\":false,\"zeroline\":false},\"xaxis4\":{\"anchor\":\"y4\",\"domain\":[0.0,1.0],\"matches\":\"x\",\"showticklabels\":false,\"tickvals\":[-0.5,0.0,0.5,1.0,1.5,2.0,0.0],\"ticktext\":[0.5,1.0,1.5,2.0,2.5,3.0,1.0],\"range\":[-0.21999999999999997,2.1]},\"yaxis4\":{\"anchor\":\"x4\",\"domain\":[0.6419999999999999,0.7859999999999999],\"matches\":\"y\",\"title\":{\"text\":\"\"},\"tickvals\":[0.5],\"ticktext\":[\"young\"],\"range\":[0,1],\"showgrid\":false,\"zeroline\":false},\"xaxis5\":{\"anchor\":\"y5\",\"domain\":[0.0,1.0],\"matches\":\"x\",\"showticklabels\":false,\"tickvals\":[-0.5,0.0,0.5,1.0,1.5,2.0,0.0],\"ticktext\":[0.5,1.0,1.5,2.0,2.5,3.0,1.0],\"range\":[-0.21999999999999997,2.1]},\"yaxis5\":{\"anchor\":\"x5\",\"domain\":[0.856,1.0],\"matches\":\"y\",\"title\":{\"text\":\"\"},\"tickvals\":[0.5],\"ticktext\":[\"young\"],\"range\":[0,1],\"showgrid\":false,\"zeroline\":false},\"annotations\":[{\"font\":{\"size\":15},\"showarrow\":false,\"text\":\"Statistical parity ratio   (TP + FP)\\u002f(TP + FP + TN + FN)\",\"x\":0.05,\"xanchor\":\"left\",\"xref\":\"paper\",\"y\":0.144,\"yanchor\":\"bottom\",\"yref\":\"paper\"},{\"font\":{\"size\":15},\"showarrow\":false,\"text\":\"Accuracy equality ratio    (TP + TN)\\u002f(TP + FP + TN + FN)\",\"x\":0.05,\"xanchor\":\"left\",\"xref\":\"paper\",\"y\":0.358,\"yanchor\":\"bottom\",\"yref\":\"paper\"},{\"font\":{\"size\":15},\"showarrow\":false,\"text\":\"Predictive equality ratio   FP\\u002f(FP + TN)\",\"x\":0.05,\"xanchor\":\"left\",\"xref\":\"paper\",\"y\":0.572,\"yanchor\":\"bottom\",\"yref\":\"paper\"},{\"font\":{\"size\":15},\"showarrow\":false,\"text\":\"Predictive parity ratio     TP\\u002f(TP + FP)\",\"x\":0.05,\"xanchor\":\"left\",\"xref\":\"paper\",\"y\":0.7859999999999999,\"yanchor\":\"bottom\",\"yref\":\"paper\"},{\"font\":{\"size\":15},\"showarrow\":false,\"text\":\"Equal opportunity ratio     TP\\u002f(TP + FN)\",\"x\":0.05,\"xanchor\":\"left\",\"xref\":\"paper\",\"y\":1.0,\"yanchor\":\"bottom\",\"yref\":\"paper\"}],\"legend\":{\"title\":{\"text\":\"label\"},\"tracegroupgap\":0,\"yanchor\":\"top\",\"y\":0.99,\"xanchor\":\"right\",\"x\":0.99},\"margin\":{\"t\":78,\"b\":71,\"r\":30},\"barmode\":\"group\",\"shapes\":[{\"fillcolor\":\"#f05a71\",\"layer\":\"below\",\"line\":{\"width\":0},\"opacity\":0.1,\"type\":\"rect\",\"x0\":0.25,\"x1\":2.1,\"xref\":\"x\",\"y0\":0,\"y1\":1,\"yref\":\"y\"},{\"fillcolor\":\"#f05a71\",\"layer\":\"below\",\"line\":{\"width\":0},\"opacity\":0.1,\"type\":\"rect\",\"x0\":-0.21999999999999997,\"x1\":-0.19999999999999996,\"xref\":\"x\",\"y0\":0,\"y1\":1,\"yref\":\"y\"},{\"fillcolor\":\"#c7f5bf\",\"layer\":\"below\",\"line\":{\"width\":0},\"opacity\":0.1,\"type\":\"rect\",\"x0\":-0.19999999999999996,\"x1\":0.25,\"xref\":\"x\",\"y0\":0,\"y1\":1,\"yref\":\"y\"},{\"line\":{\"color\":\"#371ea3\",\"width\":1.5},\"type\":\"line\",\"x0\":0,\"x1\":0,\"xref\":\"x\",\"y0\":0,\"y1\":1,\"yref\":\"y\"},{\"fillcolor\":\"#f05a71\",\"layer\":\"below\",\"line\":{\"width\":0},\"opacity\":0.1,\"type\":\"rect\",\"x0\":0.25,\"x1\":2.1,\"xref\":\"x\",\"y0\":0,\"y1\":1,\"yref\":\"y2\"},{\"fillcolor\":\"#f05a71\",\"layer\":\"below\",\"line\":{\"width\":0},\"opacity\":0.1,\"type\":\"rect\",\"x0\":-0.21999999999999997,\"x1\":-0.19999999999999996,\"xref\":\"x\",\"y0\":0,\"y1\":1,\"yref\":\"y2\"},{\"fillcolor\":\"#c7f5bf\",\"layer\":\"below\",\"line\":{\"width\":0},\"opacity\":0.1,\"type\":\"rect\",\"x0\":-0.19999999999999996,\"x1\":0.25,\"xref\":\"x\",\"y0\":0,\"y1\":1,\"yref\":\"y2\"},{\"line\":{\"color\":\"#371ea3\",\"width\":1.5},\"type\":\"line\",\"x0\":0,\"x1\":0,\"xref\":\"x\",\"y0\":0,\"y1\":1,\"yref\":\"y2\"},{\"fillcolor\":\"#f05a71\",\"layer\":\"below\",\"line\":{\"width\":0},\"opacity\":0.1,\"type\":\"rect\",\"x0\":0.25,\"x1\":2.1,\"xref\":\"x\",\"y0\":0,\"y1\":1,\"yref\":\"y3\"},{\"fillcolor\":\"#f05a71\",\"layer\":\"below\",\"line\":{\"width\":0},\"opacity\":0.1,\"type\":\"rect\",\"x0\":-0.21999999999999997,\"x1\":-0.19999999999999996,\"xref\":\"x\",\"y0\":0,\"y1\":1,\"yref\":\"y3\"},{\"fillcolor\":\"#c7f5bf\",\"layer\":\"below\",\"line\":{\"width\":0},\"opacity\":0.1,\"type\":\"rect\",\"x0\":-0.19999999999999996,\"x1\":0.25,\"xref\":\"x\",\"y0\":0,\"y1\":1,\"yref\":\"y3\"},{\"line\":{\"color\":\"#371ea3\",\"width\":1.5},\"type\":\"line\",\"x0\":0,\"x1\":0,\"xref\":\"x\",\"y0\":0,\"y1\":1,\"yref\":\"y3\"},{\"fillcolor\":\"#f05a71\",\"layer\":\"below\",\"line\":{\"width\":0},\"opacity\":0.1,\"type\":\"rect\",\"x0\":0.25,\"x1\":2.1,\"xref\":\"x\",\"y0\":0,\"y1\":1,\"yref\":\"y4\"},{\"fillcolor\":\"#f05a71\",\"layer\":\"below\",\"line\":{\"width\":0},\"opacity\":0.1,\"type\":\"rect\",\"x0\":-0.21999999999999997,\"x1\":-0.19999999999999996,\"xref\":\"x\",\"y0\":0,\"y1\":1,\"yref\":\"y4\"},{\"fillcolor\":\"#c7f5bf\",\"layer\":\"below\",\"line\":{\"width\":0},\"opacity\":0.1,\"type\":\"rect\",\"x0\":-0.19999999999999996,\"x1\":0.25,\"xref\":\"x\",\"y0\":0,\"y1\":1,\"yref\":\"y4\"},{\"line\":{\"color\":\"#371ea3\",\"width\":1.5},\"type\":\"line\",\"x0\":0,\"x1\":0,\"xref\":\"x\",\"y0\":0,\"y1\":1,\"yref\":\"y4\"},{\"fillcolor\":\"#f05a71\",\"layer\":\"below\",\"line\":{\"width\":0},\"opacity\":0.1,\"type\":\"rect\",\"x0\":0.25,\"x1\":2.1,\"y0\":0,\"y1\":1,\"yref\":\"y5\",\"xref\":\"x\"},{\"fillcolor\":\"#f05a71\",\"layer\":\"below\",\"line\":{\"width\":0},\"opacity\":0.1,\"type\":\"rect\",\"x0\":-0.21999999999999997,\"x1\":-0.19999999999999996,\"y0\":0,\"y1\":1,\"yref\":\"y5\",\"xref\":\"x\"},{\"fillcolor\":\"#c7f5bf\",\"layer\":\"below\",\"line\":{\"width\":0},\"opacity\":0.1,\"type\":\"rect\",\"x0\":-0.19999999999999996,\"x1\":0.25,\"y0\":0,\"y1\":1,\"yref\":\"y5\",\"xref\":\"x\"},{\"line\":{\"color\":\"#371ea3\",\"width\":1.5},\"type\":\"line\",\"x0\":0,\"x1\":0,\"xref\":\"x\",\"y0\":0,\"y1\":1,\"yref\":\"y5\"}],\"title\":{\"font\":{\"size\":25},\"text\":\"Fairness Check\",\"x\":0.5,\"y\":0.99},\"font\":{\"color\":\"#371ea3\"},\"autosize\":false,\"width\":800,\"height\":450},                        {\"responsive\": true}                    ).then(function(){\n",
       "                            \n",
       "var gd = document.getElementById('afd38c5d-aff2-447a-9b6b-a436424ff5c0');\n",
       "var x = new MutationObserver(function (mutations, observer) {{\n",
       "        var display = window.getComputedStyle(gd).display;\n",
       "        if (!display || display === 'none') {{\n",
       "            console.log([gd, 'removed!']);\n",
       "            Plotly.purge(gd);\n",
       "            observer.disconnect();\n",
       "        }}\n",
       "}});\n",
       "\n",
       "// Listen for the removal of the full notebook cells\n",
       "var notebookContainer = gd.closest('#notebook-container');\n",
       "if (notebookContainer) {{\n",
       "    x.observe(notebookContainer, {childList: true});\n",
       "}}\n",
       "\n",
       "// Listen for the clearing of the current output cell\n",
       "var outputEl = gd.closest('.output');\n",
       "if (outputEl) {{\n",
       "    x.observe(outputEl, {childList: true});\n",
       "}}\n",
       "\n",
       "                        })                };                });            </script>        </div>"
      ]
     },
     "metadata": {},
     "output_type": "display_data"
    }
   ],
   "source": [
    "fobject_different = explainer_different.model_fairness(\n",
    "    protected_variable, \n",
    "    privileged_group\n",
    ")\n",
    "\n",
    "fobject.plot(fobject_different, show=False).\\\n",
    "    update_layout(autosize=False, width=800, height=450, legend=dict(yanchor=\"top\", y=0.99, xanchor=\"right\", x=0.99))"
   ]
  },
  {
   "cell_type": "markdown",
   "metadata": {},
   "source": [
    "### Bias mitigation technique"
   ]
  },
  {
   "cell_type": "markdown",
   "metadata": {},
   "source": [
    "#### Dropping dependent variable"
   ]
  },
  {
   "cell_type": "code",
   "execution_count": 333,
   "metadata": {},
   "outputs": [
    {
     "name": "stderr",
     "output_type": "stream",
     "text": [
      "/Users/michal.janik/studia/XAI/.env/lib/python3.9/site-packages/xgboost/data.py:335: FutureWarning:\n",
      "\n",
      "is_sparse is deprecated and will be removed in a future version. Check `isinstance(dtype, pd.SparseDtype)` instead.\n",
      "\n",
      "/Users/michal.janik/studia/XAI/.env/lib/python3.9/site-packages/xgboost/data.py:338: FutureWarning:\n",
      "\n",
      "is_categorical_dtype is deprecated and will be removed in a future version. Use isinstance(dtype, CategoricalDtype) instead\n",
      "\n",
      "/Users/michal.janik/studia/XAI/.env/lib/python3.9/site-packages/xgboost/data.py:384: FutureWarning:\n",
      "\n",
      "is_categorical_dtype is deprecated and will be removed in a future version. Use isinstance(dtype, CategoricalDtype) instead\n",
      "\n",
      "/Users/michal.janik/studia/XAI/.env/lib/python3.9/site-packages/xgboost/data.py:359: FutureWarning:\n",
      "\n",
      "is_categorical_dtype is deprecated and will be removed in a future version. Use isinstance(dtype, CategoricalDtype) instead\n",
      "\n",
      "/Users/michal.janik/studia/XAI/.env/lib/python3.9/site-packages/xgboost/data.py:384: FutureWarning:\n",
      "\n",
      "is_categorical_dtype is deprecated and will be removed in a future version. Use isinstance(dtype, CategoricalDtype) instead\n",
      "\n",
      "/Users/michal.janik/studia/XAI/.env/lib/python3.9/site-packages/xgboost/data.py:359: FutureWarning:\n",
      "\n",
      "is_categorical_dtype is deprecated and will be removed in a future version. Use isinstance(dtype, CategoricalDtype) instead\n",
      "\n",
      "/Users/michal.janik/studia/XAI/.env/lib/python3.9/site-packages/xgboost/data.py:384: FutureWarning:\n",
      "\n",
      "is_categorical_dtype is deprecated and will be removed in a future version. Use isinstance(dtype, CategoricalDtype) instead\n",
      "\n",
      "/Users/michal.janik/studia/XAI/.env/lib/python3.9/site-packages/xgboost/data.py:359: FutureWarning:\n",
      "\n",
      "is_categorical_dtype is deprecated and will be removed in a future version. Use isinstance(dtype, CategoricalDtype) instead\n",
      "\n",
      "/Users/michal.janik/studia/XAI/.env/lib/python3.9/site-packages/xgboost/data.py:384: FutureWarning:\n",
      "\n",
      "is_categorical_dtype is deprecated and will be removed in a future version. Use isinstance(dtype, CategoricalDtype) instead\n",
      "\n",
      "/Users/michal.janik/studia/XAI/.env/lib/python3.9/site-packages/xgboost/data.py:359: FutureWarning:\n",
      "\n",
      "is_categorical_dtype is deprecated and will be removed in a future version. Use isinstance(dtype, CategoricalDtype) instead\n",
      "\n",
      "/Users/michal.janik/studia/XAI/.env/lib/python3.9/site-packages/xgboost/data.py:384: FutureWarning:\n",
      "\n",
      "is_categorical_dtype is deprecated and will be removed in a future version. Use isinstance(dtype, CategoricalDtype) instead\n",
      "\n",
      "/Users/michal.janik/studia/XAI/.env/lib/python3.9/site-packages/xgboost/data.py:359: FutureWarning:\n",
      "\n",
      "is_categorical_dtype is deprecated and will be removed in a future version. Use isinstance(dtype, CategoricalDtype) instead\n",
      "\n",
      "/Users/michal.janik/studia/XAI/.env/lib/python3.9/site-packages/xgboost/data.py:335: FutureWarning:\n",
      "\n",
      "is_sparse is deprecated and will be removed in a future version. Check `isinstance(dtype, pd.SparseDtype)` instead.\n",
      "\n",
      "/Users/michal.janik/studia/XAI/.env/lib/python3.9/site-packages/xgboost/data.py:338: FutureWarning:\n",
      "\n",
      "is_categorical_dtype is deprecated and will be removed in a future version. Use isinstance(dtype, CategoricalDtype) instead\n",
      "\n",
      "/Users/michal.janik/studia/XAI/.env/lib/python3.9/site-packages/xgboost/data.py:384: FutureWarning:\n",
      "\n",
      "is_categorical_dtype is deprecated and will be removed in a future version. Use isinstance(dtype, CategoricalDtype) instead\n",
      "\n",
      "/Users/michal.janik/studia/XAI/.env/lib/python3.9/site-packages/xgboost/data.py:359: FutureWarning:\n",
      "\n",
      "is_categorical_dtype is deprecated and will be removed in a future version. Use isinstance(dtype, CategoricalDtype) instead\n",
      "\n",
      "/Users/michal.janik/studia/XAI/.env/lib/python3.9/site-packages/xgboost/data.py:335: FutureWarning:\n",
      "\n",
      "is_sparse is deprecated and will be removed in a future version. Check `isinstance(dtype, pd.SparseDtype)` instead.\n",
      "\n",
      "/Users/michal.janik/studia/XAI/.env/lib/python3.9/site-packages/xgboost/data.py:338: FutureWarning:\n",
      "\n",
      "is_categorical_dtype is deprecated and will be removed in a future version. Use isinstance(dtype, CategoricalDtype) instead\n",
      "\n",
      "/Users/michal.janik/studia/XAI/.env/lib/python3.9/site-packages/xgboost/data.py:384: FutureWarning:\n",
      "\n",
      "is_categorical_dtype is deprecated and will be removed in a future version. Use isinstance(dtype, CategoricalDtype) instead\n",
      "\n",
      "/Users/michal.janik/studia/XAI/.env/lib/python3.9/site-packages/xgboost/data.py:359: FutureWarning:\n",
      "\n",
      "is_categorical_dtype is deprecated and will be removed in a future version. Use isinstance(dtype, CategoricalDtype) instead\n",
      "\n"
     ]
    }
   ],
   "source": [
    "X_train_without_prot, X_test_without_prot = X_train.drop(\"age\", axis=1), X_test.drop(\"age\", axis=1)\n",
    "\n",
    "model_without_prot = copy(model)\n",
    "model_without_prot.fit(X_train_without_prot, y_train)\n",
    "\n",
    "explainer_without_prot = dx.Explainer(\n",
    "    model_without_prot, \n",
    "    X_test_without_prot, \n",
    "    y_test,\n",
    "    predict_function=pf_xgboost_classifier_categorical,\n",
    "    label=\"XGBClassifier without the protected attribute\",\n",
    "    verbose=False\n",
    ")\n",
    "\n",
    "fobject_without_prot = explainer_without_prot.model_fairness(protected_variable, privileged_group)"
   ]
  },
  {
   "cell_type": "markdown",
   "metadata": {},
   "source": [
    "#### Resample"
   ]
  },
  {
   "cell_type": "code",
   "execution_count": 335,
   "metadata": {},
   "outputs": [
    {
     "name": "stderr",
     "output_type": "stream",
     "text": [
      "/Users/michal.janik/studia/XAI/.env/lib/python3.9/site-packages/xgboost/data.py:335: FutureWarning:\n",
      "\n",
      "is_sparse is deprecated and will be removed in a future version. Check `isinstance(dtype, pd.SparseDtype)` instead.\n",
      "\n",
      "/Users/michal.janik/studia/XAI/.env/lib/python3.9/site-packages/xgboost/data.py:338: FutureWarning:\n",
      "\n",
      "is_categorical_dtype is deprecated and will be removed in a future version. Use isinstance(dtype, CategoricalDtype) instead\n",
      "\n",
      "/Users/michal.janik/studia/XAI/.env/lib/python3.9/site-packages/xgboost/data.py:384: FutureWarning:\n",
      "\n",
      "is_categorical_dtype is deprecated and will be removed in a future version. Use isinstance(dtype, CategoricalDtype) instead\n",
      "\n",
      "/Users/michal.janik/studia/XAI/.env/lib/python3.9/site-packages/xgboost/data.py:359: FutureWarning:\n",
      "\n",
      "is_categorical_dtype is deprecated and will be removed in a future version. Use isinstance(dtype, CategoricalDtype) instead\n",
      "\n",
      "/Users/michal.janik/studia/XAI/.env/lib/python3.9/site-packages/xgboost/data.py:384: FutureWarning:\n",
      "\n",
      "is_categorical_dtype is deprecated and will be removed in a future version. Use isinstance(dtype, CategoricalDtype) instead\n",
      "\n",
      "/Users/michal.janik/studia/XAI/.env/lib/python3.9/site-packages/xgboost/data.py:359: FutureWarning:\n",
      "\n",
      "is_categorical_dtype is deprecated and will be removed in a future version. Use isinstance(dtype, CategoricalDtype) instead\n",
      "\n",
      "/Users/michal.janik/studia/XAI/.env/lib/python3.9/site-packages/xgboost/data.py:384: FutureWarning:\n",
      "\n",
      "is_categorical_dtype is deprecated and will be removed in a future version. Use isinstance(dtype, CategoricalDtype) instead\n",
      "\n",
      "/Users/michal.janik/studia/XAI/.env/lib/python3.9/site-packages/xgboost/data.py:359: FutureWarning:\n",
      "\n",
      "is_categorical_dtype is deprecated and will be removed in a future version. Use isinstance(dtype, CategoricalDtype) instead\n",
      "\n",
      "/Users/michal.janik/studia/XAI/.env/lib/python3.9/site-packages/xgboost/data.py:384: FutureWarning:\n",
      "\n",
      "is_categorical_dtype is deprecated and will be removed in a future version. Use isinstance(dtype, CategoricalDtype) instead\n",
      "\n",
      "/Users/michal.janik/studia/XAI/.env/lib/python3.9/site-packages/xgboost/data.py:359: FutureWarning:\n",
      "\n",
      "is_categorical_dtype is deprecated and will be removed in a future version. Use isinstance(dtype, CategoricalDtype) instead\n",
      "\n",
      "/Users/michal.janik/studia/XAI/.env/lib/python3.9/site-packages/xgboost/data.py:384: FutureWarning:\n",
      "\n",
      "is_categorical_dtype is deprecated and will be removed in a future version. Use isinstance(dtype, CategoricalDtype) instead\n",
      "\n",
      "/Users/michal.janik/studia/XAI/.env/lib/python3.9/site-packages/xgboost/data.py:359: FutureWarning:\n",
      "\n",
      "is_categorical_dtype is deprecated and will be removed in a future version. Use isinstance(dtype, CategoricalDtype) instead\n",
      "\n",
      "/Users/michal.janik/studia/XAI/.env/lib/python3.9/site-packages/xgboost/data.py:335: FutureWarning:\n",
      "\n",
      "is_sparse is deprecated and will be removed in a future version. Check `isinstance(dtype, pd.SparseDtype)` instead.\n",
      "\n",
      "/Users/michal.janik/studia/XAI/.env/lib/python3.9/site-packages/xgboost/data.py:338: FutureWarning:\n",
      "\n",
      "is_categorical_dtype is deprecated and will be removed in a future version. Use isinstance(dtype, CategoricalDtype) instead\n",
      "\n",
      "/Users/michal.janik/studia/XAI/.env/lib/python3.9/site-packages/xgboost/data.py:384: FutureWarning:\n",
      "\n",
      "is_categorical_dtype is deprecated and will be removed in a future version. Use isinstance(dtype, CategoricalDtype) instead\n",
      "\n",
      "/Users/michal.janik/studia/XAI/.env/lib/python3.9/site-packages/xgboost/data.py:359: FutureWarning:\n",
      "\n",
      "is_categorical_dtype is deprecated and will be removed in a future version. Use isinstance(dtype, CategoricalDtype) instead\n",
      "\n",
      "/Users/michal.janik/studia/XAI/.env/lib/python3.9/site-packages/xgboost/data.py:335: FutureWarning:\n",
      "\n",
      "is_sparse is deprecated and will be removed in a future version. Check `isinstance(dtype, pd.SparseDtype)` instead.\n",
      "\n",
      "/Users/michal.janik/studia/XAI/.env/lib/python3.9/site-packages/xgboost/data.py:338: FutureWarning:\n",
      "\n",
      "is_categorical_dtype is deprecated and will be removed in a future version. Use isinstance(dtype, CategoricalDtype) instead\n",
      "\n",
      "/Users/michal.janik/studia/XAI/.env/lib/python3.9/site-packages/xgboost/data.py:384: FutureWarning:\n",
      "\n",
      "is_categorical_dtype is deprecated and will be removed in a future version. Use isinstance(dtype, CategoricalDtype) instead\n",
      "\n",
      "/Users/michal.janik/studia/XAI/.env/lib/python3.9/site-packages/xgboost/data.py:359: FutureWarning:\n",
      "\n",
      "is_categorical_dtype is deprecated and will be removed in a future version. Use isinstance(dtype, CategoricalDtype) instead\n",
      "\n"
     ]
    }
   ],
   "source": [
    "protected_variable_train = X_train[\"age\"].apply(lambda x: \"old\" if x > AGE_THRESHOLD else \"young\")\n",
    "\n",
    "# reweight\n",
    "sample_weight = reweight(\n",
    "    protected_variable_train, \n",
    "    y_train, \n",
    "    verbose=False\n",
    ")\n",
    "model_reweight = copy(model_without_prot)\n",
    "model_reweight.fit(X_train_without_prot, y_train, sample_weight=sample_weight)\n",
    "explainer_reweight = dx.Explainer(\n",
    "    model_reweight, \n",
    "    X_test_without_prot, \n",
    "    y_test, \n",
    "    label='XGBClassifier with Reweight mitigation',\n",
    "    verbose=False\n",
    ")\n",
    "fobject_reweight = explainer_reweight.model_fairness(\n",
    "    protected_variable, \n",
    "    privileged_group\n",
    ")"
   ]
  },
  {
   "cell_type": "code",
   "execution_count": 336,
   "metadata": {},
   "outputs": [
    {
     "data": {
      "application/vnd.plotly.v1+json": {
       "config": {
        "plotlyServerURL": "https://plot.ly"
       },
       "data": [
        {
         "alignmentgroup": "True",
         "customdata": [
          [
           "young",
           1.081,
           "XGBClassifier"
          ]
         ],
         "hovertemplate": "<b>%{customdata[2]}</b><br>Subgroup: %{customdata[0]}<br>Score: %{customdata[1]}<br><extra></extra>",
         "legendgroup": "XGBClassifier",
         "marker": {
          "color": "#8bdcbe",
          "pattern": {
           "shape": ""
          }
         },
         "name": "XGBClassifier",
         "offsetgroup": "XGBClassifier",
         "orientation": "h",
         "showlegend": true,
         "textposition": "auto",
         "type": "bar",
         "x": [
          0.08108108108108114
         ],
         "xaxis": "x5",
         "y": [
          0.5
         ],
         "yaxis": "y5"
        },
        {
         "alignmentgroup": "True",
         "customdata": [
          [
           "young",
           0.876,
           "XGBClassifier"
          ]
         ],
         "hovertemplate": "<b>%{customdata[2]}</b><br>Subgroup: %{customdata[0]}<br>Score: %{customdata[1]}<br><extra></extra>",
         "legendgroup": "XGBClassifier",
         "marker": {
          "color": "#8bdcbe",
          "pattern": {
           "shape": ""
          }
         },
         "name": "XGBClassifier",
         "offsetgroup": "XGBClassifier",
         "orientation": "h",
         "showlegend": false,
         "textposition": "auto",
         "type": "bar",
         "x": [
          -0.1238615664845174
         ],
         "xaxis": "x4",
         "y": [
          0.5
         ],
         "yaxis": "y4"
        },
        {
         "alignmentgroup": "True",
         "customdata": [
          [
           "young",
           2.6,
           "XGBClassifier"
          ]
         ],
         "hovertemplate": "<b>%{customdata[2]}</b><br>Subgroup: %{customdata[0]}<br>Score: %{customdata[1]}<br><extra></extra>",
         "legendgroup": "XGBClassifier",
         "marker": {
          "color": "#8bdcbe",
          "pattern": {
           "shape": ""
          }
         },
         "name": "XGBClassifier",
         "offsetgroup": "XGBClassifier",
         "orientation": "h",
         "showlegend": false,
         "textposition": "auto",
         "type": "bar",
         "x": [
          1.5999999999999996
         ],
         "xaxis": "x3",
         "y": [
          0.5
         ],
         "yaxis": "y3"
        },
        {
         "alignmentgroup": "True",
         "customdata": [
          [
           "young",
           0.95,
           "XGBClassifier"
          ]
         ],
         "hovertemplate": "<b>%{customdata[2]}</b><br>Subgroup: %{customdata[0]}<br>Score: %{customdata[1]}<br><extra></extra>",
         "legendgroup": "XGBClassifier",
         "marker": {
          "color": "#8bdcbe",
          "pattern": {
           "shape": ""
          }
         },
         "name": "XGBClassifier",
         "offsetgroup": "XGBClassifier",
         "orientation": "h",
         "showlegend": false,
         "textposition": "auto",
         "type": "bar",
         "x": [
          -0.05010660980810222
         ],
         "xaxis": "x2",
         "y": [
          0.5
         ],
         "yaxis": "y2"
        },
        {
         "alignmentgroup": "True",
         "customdata": [
          [
           "young",
           2.143,
           "XGBClassifier"
          ]
         ],
         "hovertemplate": "<b>%{customdata[2]}</b><br>Subgroup: %{customdata[0]}<br>Score: %{customdata[1]}<br><extra></extra>",
         "legendgroup": "XGBClassifier",
         "marker": {
          "color": "#8bdcbe",
          "pattern": {
           "shape": ""
          }
         },
         "name": "XGBClassifier",
         "offsetgroup": "XGBClassifier",
         "orientation": "h",
         "showlegend": false,
         "textposition": "auto",
         "type": "bar",
         "x": [
          1.1428571428571428
         ],
         "xaxis": "x",
         "y": [
          0.5
         ],
         "yaxis": "y"
        },
        {
         "alignmentgroup": "True",
         "customdata": [
          [
           "young",
           0.958,
           "XGBClassifier without the protected attribute"
          ]
         ],
         "hovertemplate": "<b>%{customdata[2]}</b><br>Subgroup: %{customdata[0]}<br>Score: %{customdata[1]}<br><extra></extra>",
         "legendgroup": "XGBClassifier without the protected attribute",
         "marker": {
          "color": "#f05a71",
          "pattern": {
           "shape": ""
          }
         },
         "name": "XGBClassifier without the protected attribute",
         "offsetgroup": "XGBClassifier without the protected attribute",
         "orientation": "h",
         "showlegend": true,
         "textposition": "auto",
         "type": "bar",
         "x": [
          -0.04210526315789476
         ],
         "xaxis": "x5",
         "y": [
          0.5
         ],
         "yaxis": "y5"
        },
        {
         "alignmentgroup": "True",
         "customdata": [
          [
           "young",
           0.929,
           "XGBClassifier without the protected attribute"
          ]
         ],
         "hovertemplate": "<b>%{customdata[2]}</b><br>Subgroup: %{customdata[0]}<br>Score: %{customdata[1]}<br><extra></extra>",
         "legendgroup": "XGBClassifier without the protected attribute",
         "marker": {
          "color": "#f05a71",
          "pattern": {
           "shape": ""
          }
         },
         "name": "XGBClassifier without the protected attribute",
         "offsetgroup": "XGBClassifier without the protected attribute",
         "orientation": "h",
         "showlegend": false,
         "textposition": "auto",
         "type": "bar",
         "x": [
          -0.07129798903107865
         ],
         "xaxis": "x4",
         "y": [
          0.5
         ],
         "yaxis": "y4"
        },
        {
         "alignmentgroup": "True",
         "customdata": [
          [
           "young",
           1.909,
           "XGBClassifier without the protected attribute"
          ]
         ],
         "hovertemplate": "<b>%{customdata[2]}</b><br>Subgroup: %{customdata[0]}<br>Score: %{customdata[1]}<br><extra></extra>",
         "legendgroup": "XGBClassifier without the protected attribute",
         "marker": {
          "color": "#f05a71",
          "pattern": {
           "shape": ""
          }
         },
         "name": "XGBClassifier without the protected attribute",
         "offsetgroup": "XGBClassifier without the protected attribute",
         "orientation": "h",
         "showlegend": false,
         "textposition": "auto",
         "type": "bar",
         "x": [
          0.9090909090909094
         ],
         "xaxis": "x3",
         "y": [
          0.5
         ],
         "yaxis": "y3"
        },
        {
         "alignmentgroup": "True",
         "customdata": [
          [
           "young",
           0.952,
           "XGBClassifier without the protected attribute"
          ]
         ],
         "hovertemplate": "<b>%{customdata[2]}</b><br>Subgroup: %{customdata[0]}<br>Score: %{customdata[1]}<br><extra></extra>",
         "legendgroup": "XGBClassifier without the protected attribute",
         "marker": {
          "color": "#f05a71",
          "pattern": {
           "shape": ""
          }
         },
         "name": "XGBClassifier without the protected attribute",
         "offsetgroup": "XGBClassifier without the protected attribute",
         "orientation": "h",
         "showlegend": false,
         "textposition": "auto",
         "type": "bar",
         "x": [
          -0.04797441364605537
         ],
         "xaxis": "x2",
         "y": [
          0.5
         ],
         "yaxis": "y2"
        },
        {
         "alignmentgroup": "True",
         "customdata": [
          [
           "young",
           1.727,
           "XGBClassifier without the protected attribute"
          ]
         ],
         "hovertemplate": "<b>%{customdata[2]}</b><br>Subgroup: %{customdata[0]}<br>Score: %{customdata[1]}<br><extra></extra>",
         "legendgroup": "XGBClassifier without the protected attribute",
         "marker": {
          "color": "#f05a71",
          "pattern": {
           "shape": ""
          }
         },
         "name": "XGBClassifier without the protected attribute",
         "offsetgroup": "XGBClassifier without the protected attribute",
         "orientation": "h",
         "showlegend": false,
         "textposition": "auto",
         "type": "bar",
         "x": [
          0.7272727272727273
         ],
         "xaxis": "x",
         "y": [
          0.5
         ],
         "yaxis": "y"
        },
        {
         "alignmentgroup": "True",
         "customdata": [
          [
           "young",
           0.937,
           "XGBClassifier with Reweight mitigation"
          ]
         ],
         "hovertemplate": "<b>%{customdata[2]}</b><br>Subgroup: %{customdata[0]}<br>Score: %{customdata[1]}<br><extra></extra>",
         "legendgroup": "XGBClassifier with Reweight mitigation",
         "marker": {
          "color": "#4378bf",
          "pattern": {
           "shape": ""
          }
         },
         "name": "XGBClassifier with Reweight mitigation",
         "offsetgroup": "XGBClassifier with Reweight mitigation",
         "orientation": "h",
         "showlegend": true,
         "textposition": "auto",
         "type": "bar",
         "x": [
          -0.06285714285714272
         ],
         "xaxis": "x5",
         "y": [
          0.5
         ],
         "yaxis": "y5"
        },
        {
         "alignmentgroup": "True",
         "customdata": [
          [
           "young",
           0.994,
           "XGBClassifier with Reweight mitigation"
          ]
         ],
         "hovertemplate": "<b>%{customdata[2]}</b><br>Subgroup: %{customdata[0]}<br>Score: %{customdata[1]}<br><extra></extra>",
         "legendgroup": "XGBClassifier with Reweight mitigation",
         "marker": {
          "color": "#4378bf",
          "pattern": {
           "shape": ""
          }
         },
         "name": "XGBClassifier with Reweight mitigation",
         "offsetgroup": "XGBClassifier with Reweight mitigation",
         "orientation": "h",
         "showlegend": false,
         "textposition": "auto",
         "type": "bar",
         "x": [
          -0.005714285714285672
         ],
         "xaxis": "x4",
         "y": [
          0.5
         ],
         "yaxis": "y4"
        },
        {
         "alignmentgroup": "True",
         "customdata": [
          [
           "young",
           1.636,
           "XGBClassifier with Reweight mitigation"
          ]
         ],
         "hovertemplate": "<b>%{customdata[2]}</b><br>Subgroup: %{customdata[0]}<br>Score: %{customdata[1]}<br><extra></extra>",
         "legendgroup": "XGBClassifier with Reweight mitigation",
         "marker": {
          "color": "#4378bf",
          "pattern": {
           "shape": ""
          }
         },
         "name": "XGBClassifier with Reweight mitigation",
         "offsetgroup": "XGBClassifier with Reweight mitigation",
         "orientation": "h",
         "showlegend": false,
         "textposition": "auto",
         "type": "bar",
         "x": [
          0.6363636363636362
         ],
         "xaxis": "x3",
         "y": [
          0.5
         ],
         "yaxis": "y3"
        },
        {
         "alignmentgroup": "True",
         "customdata": [
          [
           "young",
           0.954,
           "XGBClassifier with Reweight mitigation"
          ]
         ],
         "hovertemplate": "<b>%{customdata[2]}</b><br>Subgroup: %{customdata[0]}<br>Score: %{customdata[1]}<br><extra></extra>",
         "legendgroup": "XGBClassifier with Reweight mitigation",
         "marker": {
          "color": "#4378bf",
          "pattern": {
           "shape": ""
          }
         },
         "name": "XGBClassifier with Reweight mitigation",
         "offsetgroup": "XGBClassifier with Reweight mitigation",
         "orientation": "h",
         "showlegend": false,
         "textposition": "auto",
         "type": "bar",
         "x": [
          -0.04589114194236932
         ],
         "xaxis": "x2",
         "y": [
          0.5
         ],
         "yaxis": "y2"
        },
        {
         "alignmentgroup": "True",
         "customdata": [
          [
           "young",
           1.619,
           "XGBClassifier with Reweight mitigation"
          ]
         ],
         "hovertemplate": "<b>%{customdata[2]}</b><br>Subgroup: %{customdata[0]}<br>Score: %{customdata[1]}<br><extra></extra>",
         "legendgroup": "XGBClassifier with Reweight mitigation",
         "marker": {
          "color": "#4378bf",
          "pattern": {
           "shape": ""
          }
         },
         "name": "XGBClassifier with Reweight mitigation",
         "offsetgroup": "XGBClassifier with Reweight mitigation",
         "orientation": "h",
         "showlegend": false,
         "textposition": "auto",
         "type": "bar",
         "x": [
          0.6190476190476191
         ],
         "xaxis": "x",
         "y": [
          0.5
         ],
         "yaxis": "y"
        }
       ],
       "layout": {
        "annotations": [
         {
          "font": {
           "size": 15
          },
          "showarrow": false,
          "text": "Statistical parity ratio   (TP + FP)/(TP + FP + TN + FN)",
          "x": 0.05,
          "xanchor": "left",
          "xref": "paper",
          "y": 0.144,
          "yanchor": "bottom",
          "yref": "paper"
         },
         {
          "font": {
           "size": 15
          },
          "showarrow": false,
          "text": "Accuracy equality ratio    (TP + TN)/(TP + FP + TN + FN)",
          "x": 0.05,
          "xanchor": "left",
          "xref": "paper",
          "y": 0.358,
          "yanchor": "bottom",
          "yref": "paper"
         },
         {
          "font": {
           "size": 15
          },
          "showarrow": false,
          "text": "Predictive equality ratio   FP/(FP + TN)",
          "x": 0.05,
          "xanchor": "left",
          "xref": "paper",
          "y": 0.572,
          "yanchor": "bottom",
          "yref": "paper"
         },
         {
          "font": {
           "size": 15
          },
          "showarrow": false,
          "text": "Predictive parity ratio     TP/(TP + FP)",
          "x": 0.05,
          "xanchor": "left",
          "xref": "paper",
          "y": 0.7859999999999999,
          "yanchor": "bottom",
          "yref": "paper"
         },
         {
          "font": {
           "size": 15
          },
          "showarrow": false,
          "text": "Equal opportunity ratio     TP/(TP + FN)",
          "x": 0.05,
          "xanchor": "left",
          "xref": "paper",
          "y": 1,
          "yanchor": "bottom",
          "yref": "paper"
         }
        ],
        "autosize": false,
        "barmode": "group",
        "font": {
         "color": "#371ea3"
        },
        "height": 450,
        "legend": {
         "title": {
          "text": "label"
         },
         "tracegroupgap": 0,
         "x": 0.99,
         "xanchor": "right",
         "y": 0.99,
         "yanchor": "top"
        },
        "margin": {
         "b": 71,
         "r": 30,
         "t": 78
        },
        "shapes": [
         {
          "fillcolor": "#f05a71",
          "layer": "below",
          "line": {
           "width": 0
          },
          "opacity": 0.1,
          "type": "rect",
          "x0": 0.25,
          "x1": 1.7,
          "xref": "x",
          "y0": 0,
          "y1": 1,
          "yref": "y"
         },
         {
          "fillcolor": "#f05a71",
          "layer": "below",
          "line": {
           "width": 0
          },
          "opacity": 0.1,
          "type": "rect",
          "x0": -0.21999999999999997,
          "x1": -0.19999999999999996,
          "xref": "x",
          "y0": 0,
          "y1": 1,
          "yref": "y"
         },
         {
          "fillcolor": "#c7f5bf",
          "layer": "below",
          "line": {
           "width": 0
          },
          "opacity": 0.1,
          "type": "rect",
          "x0": -0.19999999999999996,
          "x1": 0.25,
          "xref": "x",
          "y0": 0,
          "y1": 1,
          "yref": "y"
         },
         {
          "line": {
           "color": "#371ea3",
           "width": 1.5
          },
          "type": "line",
          "x0": 0,
          "x1": 0,
          "xref": "x",
          "y0": 0,
          "y1": 1,
          "yref": "y"
         },
         {
          "fillcolor": "#f05a71",
          "layer": "below",
          "line": {
           "width": 0
          },
          "opacity": 0.1,
          "type": "rect",
          "x0": 0.25,
          "x1": 1.7,
          "xref": "x",
          "y0": 0,
          "y1": 1,
          "yref": "y2"
         },
         {
          "fillcolor": "#f05a71",
          "layer": "below",
          "line": {
           "width": 0
          },
          "opacity": 0.1,
          "type": "rect",
          "x0": -0.21999999999999997,
          "x1": -0.19999999999999996,
          "xref": "x",
          "y0": 0,
          "y1": 1,
          "yref": "y2"
         },
         {
          "fillcolor": "#c7f5bf",
          "layer": "below",
          "line": {
           "width": 0
          },
          "opacity": 0.1,
          "type": "rect",
          "x0": -0.19999999999999996,
          "x1": 0.25,
          "xref": "x",
          "y0": 0,
          "y1": 1,
          "yref": "y2"
         },
         {
          "line": {
           "color": "#371ea3",
           "width": 1.5
          },
          "type": "line",
          "x0": 0,
          "x1": 0,
          "xref": "x",
          "y0": 0,
          "y1": 1,
          "yref": "y2"
         },
         {
          "fillcolor": "#f05a71",
          "layer": "below",
          "line": {
           "width": 0
          },
          "opacity": 0.1,
          "type": "rect",
          "x0": 0.25,
          "x1": 1.7,
          "xref": "x",
          "y0": 0,
          "y1": 1,
          "yref": "y3"
         },
         {
          "fillcolor": "#f05a71",
          "layer": "below",
          "line": {
           "width": 0
          },
          "opacity": 0.1,
          "type": "rect",
          "x0": -0.21999999999999997,
          "x1": -0.19999999999999996,
          "xref": "x",
          "y0": 0,
          "y1": 1,
          "yref": "y3"
         },
         {
          "fillcolor": "#c7f5bf",
          "layer": "below",
          "line": {
           "width": 0
          },
          "opacity": 0.1,
          "type": "rect",
          "x0": -0.19999999999999996,
          "x1": 0.25,
          "xref": "x",
          "y0": 0,
          "y1": 1,
          "yref": "y3"
         },
         {
          "line": {
           "color": "#371ea3",
           "width": 1.5
          },
          "type": "line",
          "x0": 0,
          "x1": 0,
          "xref": "x",
          "y0": 0,
          "y1": 1,
          "yref": "y3"
         },
         {
          "fillcolor": "#f05a71",
          "layer": "below",
          "line": {
           "width": 0
          },
          "opacity": 0.1,
          "type": "rect",
          "x0": 0.25,
          "x1": 1.7,
          "xref": "x",
          "y0": 0,
          "y1": 1,
          "yref": "y4"
         },
         {
          "fillcolor": "#f05a71",
          "layer": "below",
          "line": {
           "width": 0
          },
          "opacity": 0.1,
          "type": "rect",
          "x0": -0.21999999999999997,
          "x1": -0.19999999999999996,
          "xref": "x",
          "y0": 0,
          "y1": 1,
          "yref": "y4"
         },
         {
          "fillcolor": "#c7f5bf",
          "layer": "below",
          "line": {
           "width": 0
          },
          "opacity": 0.1,
          "type": "rect",
          "x0": -0.19999999999999996,
          "x1": 0.25,
          "xref": "x",
          "y0": 0,
          "y1": 1,
          "yref": "y4"
         },
         {
          "line": {
           "color": "#371ea3",
           "width": 1.5
          },
          "type": "line",
          "x0": 0,
          "x1": 0,
          "xref": "x",
          "y0": 0,
          "y1": 1,
          "yref": "y4"
         },
         {
          "fillcolor": "#f05a71",
          "layer": "below",
          "line": {
           "width": 0
          },
          "opacity": 0.1,
          "type": "rect",
          "x0": 0.25,
          "x1": 1.7,
          "xref": "x",
          "y0": 0,
          "y1": 1,
          "yref": "y5"
         },
         {
          "fillcolor": "#f05a71",
          "layer": "below",
          "line": {
           "width": 0
          },
          "opacity": 0.1,
          "type": "rect",
          "x0": -0.21999999999999997,
          "x1": -0.19999999999999996,
          "xref": "x",
          "y0": 0,
          "y1": 1,
          "yref": "y5"
         },
         {
          "fillcolor": "#c7f5bf",
          "layer": "below",
          "line": {
           "width": 0
          },
          "opacity": 0.1,
          "type": "rect",
          "x0": -0.19999999999999996,
          "x1": 0.25,
          "xref": "x",
          "y0": 0,
          "y1": 1,
          "yref": "y5"
         },
         {
          "line": {
           "color": "#371ea3",
           "width": 1.5
          },
          "type": "line",
          "x0": 0,
          "x1": 0,
          "xref": "x",
          "y0": 0,
          "y1": 1,
          "yref": "y5"
         }
        ],
        "template": {
         "data": {
          "bar": [
           {
            "error_x": {
             "color": "#2a3f5f"
            },
            "error_y": {
             "color": "#2a3f5f"
            },
            "marker": {
             "line": {
              "color": "white",
              "width": 0.5
             },
             "pattern": {
              "fillmode": "overlay",
              "size": 10,
              "solidity": 0.2
             }
            },
            "type": "bar"
           }
          ],
          "barpolar": [
           {
            "marker": {
             "line": {
              "color": "white",
              "width": 0.5
             },
             "pattern": {
              "fillmode": "overlay",
              "size": 10,
              "solidity": 0.2
             }
            },
            "type": "barpolar"
           }
          ],
          "carpet": [
           {
            "aaxis": {
             "endlinecolor": "#2a3f5f",
             "gridcolor": "#C8D4E3",
             "linecolor": "#C8D4E3",
             "minorgridcolor": "#C8D4E3",
             "startlinecolor": "#2a3f5f"
            },
            "baxis": {
             "endlinecolor": "#2a3f5f",
             "gridcolor": "#C8D4E3",
             "linecolor": "#C8D4E3",
             "minorgridcolor": "#C8D4E3",
             "startlinecolor": "#2a3f5f"
            },
            "type": "carpet"
           }
          ],
          "choropleth": [
           {
            "colorbar": {
             "outlinewidth": 0,
             "ticks": ""
            },
            "type": "choropleth"
           }
          ],
          "contour": [
           {
            "colorbar": {
             "outlinewidth": 0,
             "ticks": ""
            },
            "colorscale": [
             [
              0,
              "#0d0887"
             ],
             [
              0.1111111111111111,
              "#46039f"
             ],
             [
              0.2222222222222222,
              "#7201a8"
             ],
             [
              0.3333333333333333,
              "#9c179e"
             ],
             [
              0.4444444444444444,
              "#bd3786"
             ],
             [
              0.5555555555555556,
              "#d8576b"
             ],
             [
              0.6666666666666666,
              "#ed7953"
             ],
             [
              0.7777777777777778,
              "#fb9f3a"
             ],
             [
              0.8888888888888888,
              "#fdca26"
             ],
             [
              1,
              "#f0f921"
             ]
            ],
            "type": "contour"
           }
          ],
          "contourcarpet": [
           {
            "colorbar": {
             "outlinewidth": 0,
             "ticks": ""
            },
            "type": "contourcarpet"
           }
          ],
          "heatmap": [
           {
            "colorbar": {
             "outlinewidth": 0,
             "ticks": ""
            },
            "colorscale": [
             [
              0,
              "#0d0887"
             ],
             [
              0.1111111111111111,
              "#46039f"
             ],
             [
              0.2222222222222222,
              "#7201a8"
             ],
             [
              0.3333333333333333,
              "#9c179e"
             ],
             [
              0.4444444444444444,
              "#bd3786"
             ],
             [
              0.5555555555555556,
              "#d8576b"
             ],
             [
              0.6666666666666666,
              "#ed7953"
             ],
             [
              0.7777777777777778,
              "#fb9f3a"
             ],
             [
              0.8888888888888888,
              "#fdca26"
             ],
             [
              1,
              "#f0f921"
             ]
            ],
            "type": "heatmap"
           }
          ],
          "heatmapgl": [
           {
            "colorbar": {
             "outlinewidth": 0,
             "ticks": ""
            },
            "colorscale": [
             [
              0,
              "#0d0887"
             ],
             [
              0.1111111111111111,
              "#46039f"
             ],
             [
              0.2222222222222222,
              "#7201a8"
             ],
             [
              0.3333333333333333,
              "#9c179e"
             ],
             [
              0.4444444444444444,
              "#bd3786"
             ],
             [
              0.5555555555555556,
              "#d8576b"
             ],
             [
              0.6666666666666666,
              "#ed7953"
             ],
             [
              0.7777777777777778,
              "#fb9f3a"
             ],
             [
              0.8888888888888888,
              "#fdca26"
             ],
             [
              1,
              "#f0f921"
             ]
            ],
            "type": "heatmapgl"
           }
          ],
          "histogram": [
           {
            "marker": {
             "pattern": {
              "fillmode": "overlay",
              "size": 10,
              "solidity": 0.2
             }
            },
            "type": "histogram"
           }
          ],
          "histogram2d": [
           {
            "colorbar": {
             "outlinewidth": 0,
             "ticks": ""
            },
            "colorscale": [
             [
              0,
              "#0d0887"
             ],
             [
              0.1111111111111111,
              "#46039f"
             ],
             [
              0.2222222222222222,
              "#7201a8"
             ],
             [
              0.3333333333333333,
              "#9c179e"
             ],
             [
              0.4444444444444444,
              "#bd3786"
             ],
             [
              0.5555555555555556,
              "#d8576b"
             ],
             [
              0.6666666666666666,
              "#ed7953"
             ],
             [
              0.7777777777777778,
              "#fb9f3a"
             ],
             [
              0.8888888888888888,
              "#fdca26"
             ],
             [
              1,
              "#f0f921"
             ]
            ],
            "type": "histogram2d"
           }
          ],
          "histogram2dcontour": [
           {
            "colorbar": {
             "outlinewidth": 0,
             "ticks": ""
            },
            "colorscale": [
             [
              0,
              "#0d0887"
             ],
             [
              0.1111111111111111,
              "#46039f"
             ],
             [
              0.2222222222222222,
              "#7201a8"
             ],
             [
              0.3333333333333333,
              "#9c179e"
             ],
             [
              0.4444444444444444,
              "#bd3786"
             ],
             [
              0.5555555555555556,
              "#d8576b"
             ],
             [
              0.6666666666666666,
              "#ed7953"
             ],
             [
              0.7777777777777778,
              "#fb9f3a"
             ],
             [
              0.8888888888888888,
              "#fdca26"
             ],
             [
              1,
              "#f0f921"
             ]
            ],
            "type": "histogram2dcontour"
           }
          ],
          "mesh3d": [
           {
            "colorbar": {
             "outlinewidth": 0,
             "ticks": ""
            },
            "type": "mesh3d"
           }
          ],
          "parcoords": [
           {
            "line": {
             "colorbar": {
              "outlinewidth": 0,
              "ticks": ""
             }
            },
            "type": "parcoords"
           }
          ],
          "pie": [
           {
            "automargin": true,
            "type": "pie"
           }
          ],
          "scatter": [
           {
            "fillpattern": {
             "fillmode": "overlay",
             "size": 10,
             "solidity": 0.2
            },
            "type": "scatter"
           }
          ],
          "scatter3d": [
           {
            "line": {
             "colorbar": {
              "outlinewidth": 0,
              "ticks": ""
             }
            },
            "marker": {
             "colorbar": {
              "outlinewidth": 0,
              "ticks": ""
             }
            },
            "type": "scatter3d"
           }
          ],
          "scattercarpet": [
           {
            "marker": {
             "colorbar": {
              "outlinewidth": 0,
              "ticks": ""
             }
            },
            "type": "scattercarpet"
           }
          ],
          "scattergeo": [
           {
            "marker": {
             "colorbar": {
              "outlinewidth": 0,
              "ticks": ""
             }
            },
            "type": "scattergeo"
           }
          ],
          "scattergl": [
           {
            "marker": {
             "colorbar": {
              "outlinewidth": 0,
              "ticks": ""
             }
            },
            "type": "scattergl"
           }
          ],
          "scattermapbox": [
           {
            "marker": {
             "colorbar": {
              "outlinewidth": 0,
              "ticks": ""
             }
            },
            "type": "scattermapbox"
           }
          ],
          "scatterpolar": [
           {
            "marker": {
             "colorbar": {
              "outlinewidth": 0,
              "ticks": ""
             }
            },
            "type": "scatterpolar"
           }
          ],
          "scatterpolargl": [
           {
            "marker": {
             "colorbar": {
              "outlinewidth": 0,
              "ticks": ""
             }
            },
            "type": "scatterpolargl"
           }
          ],
          "scatterternary": [
           {
            "marker": {
             "colorbar": {
              "outlinewidth": 0,
              "ticks": ""
             }
            },
            "type": "scatterternary"
           }
          ],
          "surface": [
           {
            "colorbar": {
             "outlinewidth": 0,
             "ticks": ""
            },
            "colorscale": [
             [
              0,
              "#0d0887"
             ],
             [
              0.1111111111111111,
              "#46039f"
             ],
             [
              0.2222222222222222,
              "#7201a8"
             ],
             [
              0.3333333333333333,
              "#9c179e"
             ],
             [
              0.4444444444444444,
              "#bd3786"
             ],
             [
              0.5555555555555556,
              "#d8576b"
             ],
             [
              0.6666666666666666,
              "#ed7953"
             ],
             [
              0.7777777777777778,
              "#fb9f3a"
             ],
             [
              0.8888888888888888,
              "#fdca26"
             ],
             [
              1,
              "#f0f921"
             ]
            ],
            "type": "surface"
           }
          ],
          "table": [
           {
            "cells": {
             "fill": {
              "color": "#EBF0F8"
             },
             "line": {
              "color": "white"
             }
            },
            "header": {
             "fill": {
              "color": "#C8D4E3"
             },
             "line": {
              "color": "white"
             }
            },
            "type": "table"
           }
          ]
         },
         "layout": {
          "annotationdefaults": {
           "arrowcolor": "#2a3f5f",
           "arrowhead": 0,
           "arrowwidth": 1
          },
          "autotypenumbers": "strict",
          "coloraxis": {
           "colorbar": {
            "outlinewidth": 0,
            "ticks": ""
           }
          },
          "colorscale": {
           "diverging": [
            [
             0,
             "#8e0152"
            ],
            [
             0.1,
             "#c51b7d"
            ],
            [
             0.2,
             "#de77ae"
            ],
            [
             0.3,
             "#f1b6da"
            ],
            [
             0.4,
             "#fde0ef"
            ],
            [
             0.5,
             "#f7f7f7"
            ],
            [
             0.6,
             "#e6f5d0"
            ],
            [
             0.7,
             "#b8e186"
            ],
            [
             0.8,
             "#7fbc41"
            ],
            [
             0.9,
             "#4d9221"
            ],
            [
             1,
             "#276419"
            ]
           ],
           "sequential": [
            [
             0,
             "#0d0887"
            ],
            [
             0.1111111111111111,
             "#46039f"
            ],
            [
             0.2222222222222222,
             "#7201a8"
            ],
            [
             0.3333333333333333,
             "#9c179e"
            ],
            [
             0.4444444444444444,
             "#bd3786"
            ],
            [
             0.5555555555555556,
             "#d8576b"
            ],
            [
             0.6666666666666666,
             "#ed7953"
            ],
            [
             0.7777777777777778,
             "#fb9f3a"
            ],
            [
             0.8888888888888888,
             "#fdca26"
            ],
            [
             1,
             "#f0f921"
            ]
           ],
           "sequentialminus": [
            [
             0,
             "#0d0887"
            ],
            [
             0.1111111111111111,
             "#46039f"
            ],
            [
             0.2222222222222222,
             "#7201a8"
            ],
            [
             0.3333333333333333,
             "#9c179e"
            ],
            [
             0.4444444444444444,
             "#bd3786"
            ],
            [
             0.5555555555555556,
             "#d8576b"
            ],
            [
             0.6666666666666666,
             "#ed7953"
            ],
            [
             0.7777777777777778,
             "#fb9f3a"
            ],
            [
             0.8888888888888888,
             "#fdca26"
            ],
            [
             1,
             "#f0f921"
            ]
           ]
          },
          "colorway": [
           "#636efa",
           "#EF553B",
           "#00cc96",
           "#ab63fa",
           "#FFA15A",
           "#19d3f3",
           "#FF6692",
           "#B6E880",
           "#FF97FF",
           "#FECB52"
          ],
          "font": {
           "color": "#2a3f5f"
          },
          "geo": {
           "bgcolor": "white",
           "lakecolor": "white",
           "landcolor": "white",
           "showlakes": true,
           "showland": true,
           "subunitcolor": "#C8D4E3"
          },
          "hoverlabel": {
           "align": "left"
          },
          "hovermode": "closest",
          "mapbox": {
           "style": "light"
          },
          "paper_bgcolor": "white",
          "plot_bgcolor": "white",
          "polar": {
           "angularaxis": {
            "gridcolor": "#EBF0F8",
            "linecolor": "#EBF0F8",
            "ticks": ""
           },
           "bgcolor": "white",
           "radialaxis": {
            "gridcolor": "#EBF0F8",
            "linecolor": "#EBF0F8",
            "ticks": ""
           }
          },
          "scene": {
           "xaxis": {
            "backgroundcolor": "white",
            "gridcolor": "#DFE8F3",
            "gridwidth": 2,
            "linecolor": "#EBF0F8",
            "showbackground": true,
            "ticks": "",
            "zerolinecolor": "#EBF0F8"
           },
           "yaxis": {
            "backgroundcolor": "white",
            "gridcolor": "#DFE8F3",
            "gridwidth": 2,
            "linecolor": "#EBF0F8",
            "showbackground": true,
            "ticks": "",
            "zerolinecolor": "#EBF0F8"
           },
           "zaxis": {
            "backgroundcolor": "white",
            "gridcolor": "#DFE8F3",
            "gridwidth": 2,
            "linecolor": "#EBF0F8",
            "showbackground": true,
            "ticks": "",
            "zerolinecolor": "#EBF0F8"
           }
          },
          "shapedefaults": {
           "line": {
            "color": "#2a3f5f"
           }
          },
          "ternary": {
           "aaxis": {
            "gridcolor": "#DFE8F3",
            "linecolor": "#A2B1C6",
            "ticks": ""
           },
           "baxis": {
            "gridcolor": "#DFE8F3",
            "linecolor": "#A2B1C6",
            "ticks": ""
           },
           "bgcolor": "white",
           "caxis": {
            "gridcolor": "#DFE8F3",
            "linecolor": "#A2B1C6",
            "ticks": ""
           }
          },
          "title": {
           "x": 0.05
          },
          "xaxis": {
           "automargin": true,
           "gridcolor": "#EBF0F8",
           "linecolor": "#EBF0F8",
           "ticks": "",
           "title": {
            "standoff": 15
           },
           "zerolinecolor": "#EBF0F8",
           "zerolinewidth": 2
          },
          "yaxis": {
           "automargin": true,
           "gridcolor": "#EBF0F8",
           "linecolor": "#EBF0F8",
           "ticks": "",
           "title": {
            "standoff": 15
           },
           "zerolinecolor": "#EBF0F8",
           "zerolinewidth": 2
          }
         }
        },
        "title": {
         "font": {
          "size": 25
         },
         "text": "Fairness Check",
         "x": 0.5,
         "y": 0.99
        },
        "width": 800,
        "xaxis": {
         "anchor": "y",
         "domain": [
          0,
          1
         ],
         "range": [
          -0.21999999999999997,
          1.7
         ],
         "ticktext": [
          0.6,
          0.8,
          1,
          1.2,
          1.4,
          1.6,
          1.8,
          2,
          2.2,
          2.4,
          2.6,
          1
         ],
         "tickvals": [
          -0.4,
          -0.19999999999999996,
          0,
          0.19999999999999996,
          0.3999999999999999,
          0.6000000000000001,
          0.8,
          1,
          1.2000000000000002,
          1.4,
          1.6,
          0
         ],
         "title": {
          "text": "score"
         },
         "type": "linear"
        },
        "xaxis2": {
         "anchor": "y2",
         "domain": [
          0,
          1
         ],
         "matches": "x",
         "range": [
          -0.21999999999999997,
          1.7
         ],
         "showticklabels": false,
         "ticktext": [
          0.6,
          0.8,
          1,
          1.2,
          1.4,
          1.6,
          1.8,
          2,
          2.2,
          2.4,
          2.6,
          1
         ],
         "tickvals": [
          -0.4,
          -0.19999999999999996,
          0,
          0.19999999999999996,
          0.3999999999999999,
          0.6000000000000001,
          0.8,
          1,
          1.2000000000000002,
          1.4,
          1.6,
          0
         ],
         "type": "linear"
        },
        "xaxis3": {
         "anchor": "y3",
         "domain": [
          0,
          1
         ],
         "matches": "x",
         "range": [
          -0.21999999999999997,
          1.7
         ],
         "showticklabels": false,
         "ticktext": [
          0.6,
          0.8,
          1,
          1.2,
          1.4,
          1.6,
          1.8,
          2,
          2.2,
          2.4,
          2.6,
          1
         ],
         "tickvals": [
          -0.4,
          -0.19999999999999996,
          0,
          0.19999999999999996,
          0.3999999999999999,
          0.6000000000000001,
          0.8,
          1,
          1.2000000000000002,
          1.4,
          1.6,
          0
         ],
         "type": "linear"
        },
        "xaxis4": {
         "anchor": "y4",
         "domain": [
          0,
          1
         ],
         "matches": "x",
         "range": [
          -0.21999999999999997,
          1.7
         ],
         "showticklabels": false,
         "ticktext": [
          0.6,
          0.8,
          1,
          1.2,
          1.4,
          1.6,
          1.8,
          2,
          2.2,
          2.4,
          2.6,
          1
         ],
         "tickvals": [
          -0.4,
          -0.19999999999999996,
          0,
          0.19999999999999996,
          0.3999999999999999,
          0.6000000000000001,
          0.8,
          1,
          1.2000000000000002,
          1.4,
          1.6,
          0
         ],
         "type": "linear"
        },
        "xaxis5": {
         "anchor": "y5",
         "domain": [
          0,
          1
         ],
         "matches": "x",
         "range": [
          -0.21999999999999997,
          1.7
         ],
         "showticklabels": false,
         "ticktext": [
          0.6,
          0.8,
          1,
          1.2,
          1.4,
          1.6,
          1.8,
          2,
          2.2,
          2.4,
          2.6,
          1
         ],
         "tickvals": [
          -0.4,
          -0.19999999999999996,
          0,
          0.19999999999999996,
          0.3999999999999999,
          0.6000000000000001,
          0.8,
          1,
          1.2000000000000002,
          1.4,
          1.6,
          0
         ],
         "type": "linear"
        },
        "yaxis": {
         "anchor": "x",
         "domain": [
          0,
          0.144
         ],
         "range": [
          0,
          1
         ],
         "showgrid": false,
         "ticktext": [
          "young"
         ],
         "tickvals": [
          0.5
         ],
         "title": {
          "text": ""
         },
         "type": "linear",
         "zeroline": false
        },
        "yaxis2": {
         "anchor": "x2",
         "domain": [
          0.214,
          0.358
         ],
         "matches": "y",
         "range": [
          0,
          1
         ],
         "showgrid": false,
         "ticktext": [
          "young"
         ],
         "tickvals": [
          0.5
         ],
         "title": {
          "text": ""
         },
         "type": "linear",
         "zeroline": false
        },
        "yaxis3": {
         "anchor": "x3",
         "domain": [
          0.428,
          0.572
         ],
         "matches": "y",
         "range": [
          0,
          1
         ],
         "showgrid": false,
         "ticktext": [
          "young"
         ],
         "tickvals": [
          0.5
         ],
         "title": {
          "text": "subgroup"
         },
         "type": "linear",
         "zeroline": false
        },
        "yaxis4": {
         "anchor": "x4",
         "domain": [
          0.6419999999999999,
          0.7859999999999999
         ],
         "matches": "y",
         "range": [
          0,
          1
         ],
         "showgrid": false,
         "ticktext": [
          "young"
         ],
         "tickvals": [
          0.5
         ],
         "title": {
          "text": ""
         },
         "type": "linear",
         "zeroline": false
        },
        "yaxis5": {
         "anchor": "x5",
         "domain": [
          0.856,
          1
         ],
         "matches": "y",
         "range": [
          0,
          1
         ],
         "showgrid": false,
         "ticktext": [
          "young"
         ],
         "tickvals": [
          0.5
         ],
         "title": {
          "text": ""
         },
         "type": "linear",
         "zeroline": false
        }
       }
      },
      "image/png": "[encoded data removed]",
      "text/html": [
       "<div>                            <div id=\"836564e1-17a3-4eee-bf92-8765f5f0c641\" class=\"plotly-graph-div\" style=\"height:450px; width:800px;\"></div>            <script type=\"text/javascript\">                require([\"plotly\"], function(Plotly) {                    window.PLOTLYENV=window.PLOTLYENV || {};                                    if (document.getElementById(\"836564e1-17a3-4eee-bf92-8765f5f0c641\")) {                    Plotly.newPlot(                        \"836564e1-17a3-4eee-bf92-8765f5f0c641\",                        [{\"alignmentgroup\":\"True\",\"customdata\":[[\"young\",1.081,\"XGBClassifier\"]],\"hovertemplate\":\"\\u003cb\\u003e%{customdata[2]}\\u003c\\u002fb\\u003e\\u003cbr\\u003eSubgroup: %{customdata[0]}\\u003cbr\\u003eScore: %{customdata[1]}\\u003cbr\\u003e\\u003cextra\\u003e\\u003c\\u002fextra\\u003e\",\"legendgroup\":\"XGBClassifier\",\"marker\":{\"color\":\"#8bdcbe\",\"pattern\":{\"shape\":\"\"}},\"name\":\"XGBClassifier\",\"offsetgroup\":\"XGBClassifier\",\"orientation\":\"h\",\"showlegend\":true,\"textposition\":\"auto\",\"x\":[0.08108108108108114],\"xaxis\":\"x5\",\"y\":[0.5],\"yaxis\":\"y5\",\"type\":\"bar\"},{\"alignmentgroup\":\"True\",\"customdata\":[[\"young\",0.876,\"XGBClassifier\"]],\"hovertemplate\":\"\\u003cb\\u003e%{customdata[2]}\\u003c\\u002fb\\u003e\\u003cbr\\u003eSubgroup: %{customdata[0]}\\u003cbr\\u003eScore: %{customdata[1]}\\u003cbr\\u003e\\u003cextra\\u003e\\u003c\\u002fextra\\u003e\",\"legendgroup\":\"XGBClassifier\",\"marker\":{\"color\":\"#8bdcbe\",\"pattern\":{\"shape\":\"\"}},\"name\":\"XGBClassifier\",\"offsetgroup\":\"XGBClassifier\",\"orientation\":\"h\",\"showlegend\":false,\"textposition\":\"auto\",\"x\":[-0.1238615664845174],\"xaxis\":\"x4\",\"y\":[0.5],\"yaxis\":\"y4\",\"type\":\"bar\"},{\"alignmentgroup\":\"True\",\"customdata\":[[\"young\",2.6,\"XGBClassifier\"]],\"hovertemplate\":\"\\u003cb\\u003e%{customdata[2]}\\u003c\\u002fb\\u003e\\u003cbr\\u003eSubgroup: %{customdata[0]}\\u003cbr\\u003eScore: %{customdata[1]}\\u003cbr\\u003e\\u003cextra\\u003e\\u003c\\u002fextra\\u003e\",\"legendgroup\":\"XGBClassifier\",\"marker\":{\"color\":\"#8bdcbe\",\"pattern\":{\"shape\":\"\"}},\"name\":\"XGBClassifier\",\"offsetgroup\":\"XGBClassifier\",\"orientation\":\"h\",\"showlegend\":false,\"textposition\":\"auto\",\"x\":[1.5999999999999996],\"xaxis\":\"x3\",\"y\":[0.5],\"yaxis\":\"y3\",\"type\":\"bar\"},{\"alignmentgroup\":\"True\",\"customdata\":[[\"young\",0.95,\"XGBClassifier\"]],\"hovertemplate\":\"\\u003cb\\u003e%{customdata[2]}\\u003c\\u002fb\\u003e\\u003cbr\\u003eSubgroup: %{customdata[0]}\\u003cbr\\u003eScore: %{customdata[1]}\\u003cbr\\u003e\\u003cextra\\u003e\\u003c\\u002fextra\\u003e\",\"legendgroup\":\"XGBClassifier\",\"marker\":{\"color\":\"#8bdcbe\",\"pattern\":{\"shape\":\"\"}},\"name\":\"XGBClassifier\",\"offsetgroup\":\"XGBClassifier\",\"orientation\":\"h\",\"showlegend\":false,\"textposition\":\"auto\",\"x\":[-0.05010660980810222],\"xaxis\":\"x2\",\"y\":[0.5],\"yaxis\":\"y2\",\"type\":\"bar\"},{\"alignmentgroup\":\"True\",\"customdata\":[[\"young\",2.143,\"XGBClassifier\"]],\"hovertemplate\":\"\\u003cb\\u003e%{customdata[2]}\\u003c\\u002fb\\u003e\\u003cbr\\u003eSubgroup: %{customdata[0]}\\u003cbr\\u003eScore: %{customdata[1]}\\u003cbr\\u003e\\u003cextra\\u003e\\u003c\\u002fextra\\u003e\",\"legendgroup\":\"XGBClassifier\",\"marker\":{\"color\":\"#8bdcbe\",\"pattern\":{\"shape\":\"\"}},\"name\":\"XGBClassifier\",\"offsetgroup\":\"XGBClassifier\",\"orientation\":\"h\",\"showlegend\":false,\"textposition\":\"auto\",\"x\":[1.1428571428571428],\"xaxis\":\"x\",\"y\":[0.5],\"yaxis\":\"y\",\"type\":\"bar\"},{\"alignmentgroup\":\"True\",\"customdata\":[[\"young\",0.958,\"XGBClassifier without the protected attribute\"]],\"hovertemplate\":\"\\u003cb\\u003e%{customdata[2]}\\u003c\\u002fb\\u003e\\u003cbr\\u003eSubgroup: %{customdata[0]}\\u003cbr\\u003eScore: %{customdata[1]}\\u003cbr\\u003e\\u003cextra\\u003e\\u003c\\u002fextra\\u003e\",\"legendgroup\":\"XGBClassifier without the protected attribute\",\"marker\":{\"color\":\"#f05a71\",\"pattern\":{\"shape\":\"\"}},\"name\":\"XGBClassifier without the protected attribute\",\"offsetgroup\":\"XGBClassifier without the protected attribute\",\"orientation\":\"h\",\"showlegend\":true,\"textposition\":\"auto\",\"x\":[-0.04210526315789476],\"xaxis\":\"x5\",\"y\":[0.5],\"yaxis\":\"y5\",\"type\":\"bar\"},{\"alignmentgroup\":\"True\",\"customdata\":[[\"young\",0.929,\"XGBClassifier without the protected attribute\"]],\"hovertemplate\":\"\\u003cb\\u003e%{customdata[2]}\\u003c\\u002fb\\u003e\\u003cbr\\u003eSubgroup: %{customdata[0]}\\u003cbr\\u003eScore: %{customdata[1]}\\u003cbr\\u003e\\u003cextra\\u003e\\u003c\\u002fextra\\u003e\",\"legendgroup\":\"XGBClassifier without the protected attribute\",\"marker\":{\"color\":\"#f05a71\",\"pattern\":{\"shape\":\"\"}},\"name\":\"XGBClassifier without the protected attribute\",\"offsetgroup\":\"XGBClassifier without the protected attribute\",\"orientation\":\"h\",\"showlegend\":false,\"textposition\":\"auto\",\"x\":[-0.07129798903107865],\"xaxis\":\"x4\",\"y\":[0.5],\"yaxis\":\"y4\",\"type\":\"bar\"},{\"alignmentgroup\":\"True\",\"customdata\":[[\"young\",1.909,\"XGBClassifier without the protected attribute\"]],\"hovertemplate\":\"\\u003cb\\u003e%{customdata[2]}\\u003c\\u002fb\\u003e\\u003cbr\\u003eSubgroup: %{customdata[0]}\\u003cbr\\u003eScore: %{customdata[1]}\\u003cbr\\u003e\\u003cextra\\u003e\\u003c\\u002fextra\\u003e\",\"legendgroup\":\"XGBClassifier without the protected attribute\",\"marker\":{\"color\":\"#f05a71\",\"pattern\":{\"shape\":\"\"}},\"name\":\"XGBClassifier without the protected attribute\",\"offsetgroup\":\"XGBClassifier without the protected attribute\",\"orientation\":\"h\",\"showlegend\":false,\"textposition\":\"auto\",\"x\":[0.9090909090909094],\"xaxis\":\"x3\",\"y\":[0.5],\"yaxis\":\"y3\",\"type\":\"bar\"},{\"alignmentgroup\":\"True\",\"customdata\":[[\"young\",0.952,\"XGBClassifier without the protected attribute\"]],\"hovertemplate\":\"\\u003cb\\u003e%{customdata[2]}\\u003c\\u002fb\\u003e\\u003cbr\\u003eSubgroup: %{customdata[0]}\\u003cbr\\u003eScore: %{customdata[1]}\\u003cbr\\u003e\\u003cextra\\u003e\\u003c\\u002fextra\\u003e\",\"legendgroup\":\"XGBClassifier without the protected attribute\",\"marker\":{\"color\":\"#f05a71\",\"pattern\":{\"shape\":\"\"}},\"name\":\"XGBClassifier without the protected attribute\",\"offsetgroup\":\"XGBClassifier without the protected attribute\",\"orientation\":\"h\",\"showlegend\":false,\"textposition\":\"auto\",\"x\":[-0.04797441364605537],\"xaxis\":\"x2\",\"y\":[0.5],\"yaxis\":\"y2\",\"type\":\"bar\"},{\"alignmentgroup\":\"True\",\"customdata\":[[\"young\",1.727,\"XGBClassifier without the protected attribute\"]],\"hovertemplate\":\"\\u003cb\\u003e%{customdata[2]}\\u003c\\u002fb\\u003e\\u003cbr\\u003eSubgroup: %{customdata[0]}\\u003cbr\\u003eScore: %{customdata[1]}\\u003cbr\\u003e\\u003cextra\\u003e\\u003c\\u002fextra\\u003e\",\"legendgroup\":\"XGBClassifier without the protected attribute\",\"marker\":{\"color\":\"#f05a71\",\"pattern\":{\"shape\":\"\"}},\"name\":\"XGBClassifier without the protected attribute\",\"offsetgroup\":\"XGBClassifier without the protected attribute\",\"orientation\":\"h\",\"showlegend\":false,\"textposition\":\"auto\",\"x\":[0.7272727272727273],\"xaxis\":\"x\",\"y\":[0.5],\"yaxis\":\"y\",\"type\":\"bar\"},{\"alignmentgroup\":\"True\",\"customdata\":[[\"young\",0.937,\"XGBClassifier with Reweight mitigation\"]],\"hovertemplate\":\"\\u003cb\\u003e%{customdata[2]}\\u003c\\u002fb\\u003e\\u003cbr\\u003eSubgroup: %{customdata[0]}\\u003cbr\\u003eScore: %{customdata[1]}\\u003cbr\\u003e\\u003cextra\\u003e\\u003c\\u002fextra\\u003e\",\"legendgroup\":\"XGBClassifier with Reweight mitigation\",\"marker\":{\"color\":\"#4378bf\",\"pattern\":{\"shape\":\"\"}},\"name\":\"XGBClassifier with Reweight mitigation\",\"offsetgroup\":\"XGBClassifier with Reweight mitigation\",\"orientation\":\"h\",\"showlegend\":true,\"textposition\":\"auto\",\"x\":[-0.06285714285714272],\"xaxis\":\"x5\",\"y\":[0.5],\"yaxis\":\"y5\",\"type\":\"bar\"},{\"alignmentgroup\":\"True\",\"customdata\":[[\"young\",0.994,\"XGBClassifier with Reweight mitigation\"]],\"hovertemplate\":\"\\u003cb\\u003e%{customdata[2]}\\u003c\\u002fb\\u003e\\u003cbr\\u003eSubgroup: %{customdata[0]}\\u003cbr\\u003eScore: %{customdata[1]}\\u003cbr\\u003e\\u003cextra\\u003e\\u003c\\u002fextra\\u003e\",\"legendgroup\":\"XGBClassifier with Reweight mitigation\",\"marker\":{\"color\":\"#4378bf\",\"pattern\":{\"shape\":\"\"}},\"name\":\"XGBClassifier with Reweight mitigation\",\"offsetgroup\":\"XGBClassifier with Reweight mitigation\",\"orientation\":\"h\",\"showlegend\":false,\"textposition\":\"auto\",\"x\":[-0.005714285714285672],\"xaxis\":\"x4\",\"y\":[0.5],\"yaxis\":\"y4\",\"type\":\"bar\"},{\"alignmentgroup\":\"True\",\"customdata\":[[\"young\",1.636,\"XGBClassifier with Reweight mitigation\"]],\"hovertemplate\":\"\\u003cb\\u003e%{customdata[2]}\\u003c\\u002fb\\u003e\\u003cbr\\u003eSubgroup: %{customdata[0]}\\u003cbr\\u003eScore: %{customdata[1]}\\u003cbr\\u003e\\u003cextra\\u003e\\u003c\\u002fextra\\u003e\",\"legendgroup\":\"XGBClassifier with Reweight mitigation\",\"marker\":{\"color\":\"#4378bf\",\"pattern\":{\"shape\":\"\"}},\"name\":\"XGBClassifier with Reweight mitigation\",\"offsetgroup\":\"XGBClassifier with Reweight mitigation\",\"orientation\":\"h\",\"showlegend\":false,\"textposition\":\"auto\",\"x\":[0.6363636363636362],\"xaxis\":\"x3\",\"y\":[0.5],\"yaxis\":\"y3\",\"type\":\"bar\"},{\"alignmentgroup\":\"True\",\"customdata\":[[\"young\",0.954,\"XGBClassifier with Reweight mitigation\"]],\"hovertemplate\":\"\\u003cb\\u003e%{customdata[2]}\\u003c\\u002fb\\u003e\\u003cbr\\u003eSubgroup: %{customdata[0]}\\u003cbr\\u003eScore: %{customdata[1]}\\u003cbr\\u003e\\u003cextra\\u003e\\u003c\\u002fextra\\u003e\",\"legendgroup\":\"XGBClassifier with Reweight mitigation\",\"marker\":{\"color\":\"#4378bf\",\"pattern\":{\"shape\":\"\"}},\"name\":\"XGBClassifier with Reweight mitigation\",\"offsetgroup\":\"XGBClassifier with Reweight mitigation\",\"orientation\":\"h\",\"showlegend\":false,\"textposition\":\"auto\",\"x\":[-0.04589114194236932],\"xaxis\":\"x2\",\"y\":[0.5],\"yaxis\":\"y2\",\"type\":\"bar\"},{\"alignmentgroup\":\"True\",\"customdata\":[[\"young\",1.619,\"XGBClassifier with Reweight mitigation\"]],\"hovertemplate\":\"\\u003cb\\u003e%{customdata[2]}\\u003c\\u002fb\\u003e\\u003cbr\\u003eSubgroup: %{customdata[0]}\\u003cbr\\u003eScore: %{customdata[1]}\\u003cbr\\u003e\\u003cextra\\u003e\\u003c\\u002fextra\\u003e\",\"legendgroup\":\"XGBClassifier with Reweight mitigation\",\"marker\":{\"color\":\"#4378bf\",\"pattern\":{\"shape\":\"\"}},\"name\":\"XGBClassifier with Reweight mitigation\",\"offsetgroup\":\"XGBClassifier with Reweight mitigation\",\"orientation\":\"h\",\"showlegend\":false,\"textposition\":\"auto\",\"x\":[0.6190476190476191],\"xaxis\":\"x\",\"y\":[0.5],\"yaxis\":\"y\",\"type\":\"bar\"}],                        {\"template\":{\"data\":{\"barpolar\":[{\"marker\":{\"line\":{\"color\":\"white\",\"width\":0.5},\"pattern\":{\"fillmode\":\"overlay\",\"size\":10,\"solidity\":0.2}},\"type\":\"barpolar\"}],\"bar\":[{\"error_x\":{\"color\":\"#2a3f5f\"},\"error_y\":{\"color\":\"#2a3f5f\"},\"marker\":{\"line\":{\"color\":\"white\",\"width\":0.5},\"pattern\":{\"fillmode\":\"overlay\",\"size\":10,\"solidity\":0.2}},\"type\":\"bar\"}],\"carpet\":[{\"aaxis\":{\"endlinecolor\":\"#2a3f5f\",\"gridcolor\":\"#C8D4E3\",\"linecolor\":\"#C8D4E3\",\"minorgridcolor\":\"#C8D4E3\",\"startlinecolor\":\"#2a3f5f\"},\"baxis\":{\"endlinecolor\":\"#2a3f5f\",\"gridcolor\":\"#C8D4E3\",\"linecolor\":\"#C8D4E3\",\"minorgridcolor\":\"#C8D4E3\",\"startlinecolor\":\"#2a3f5f\"},\"type\":\"carpet\"}],\"choropleth\":[{\"colorbar\":{\"outlinewidth\":0,\"ticks\":\"\"},\"type\":\"choropleth\"}],\"contourcarpet\":[{\"colorbar\":{\"outlinewidth\":0,\"ticks\":\"\"},\"type\":\"contourcarpet\"}],\"contour\":[{\"colorbar\":{\"outlinewidth\":0,\"ticks\":\"\"},\"colorscale\":[[0.0,\"#0d0887\"],[0.1111111111111111,\"#46039f\"],[0.2222222222222222,\"#7201a8\"],[0.3333333333333333,\"#9c179e\"],[0.4444444444444444,\"#bd3786\"],[0.5555555555555556,\"#d8576b\"],[0.6666666666666666,\"#ed7953\"],[0.7777777777777778,\"#fb9f3a\"],[0.8888888888888888,\"#fdca26\"],[1.0,\"#f0f921\"]],\"type\":\"contour\"}],\"heatmapgl\":[{\"colorbar\":{\"outlinewidth\":0,\"ticks\":\"\"},\"colorscale\":[[0.0,\"#0d0887\"],[0.1111111111111111,\"#46039f\"],[0.2222222222222222,\"#7201a8\"],[0.3333333333333333,\"#9c179e\"],[0.4444444444444444,\"#bd3786\"],[0.5555555555555556,\"#d8576b\"],[0.6666666666666666,\"#ed7953\"],[0.7777777777777778,\"#fb9f3a\"],[0.8888888888888888,\"#fdca26\"],[1.0,\"#f0f921\"]],\"type\":\"heatmapgl\"}],\"heatmap\":[{\"colorbar\":{\"outlinewidth\":0,\"ticks\":\"\"},\"colorscale\":[[0.0,\"#0d0887\"],[0.1111111111111111,\"#46039f\"],[0.2222222222222222,\"#7201a8\"],[0.3333333333333333,\"#9c179e\"],[0.4444444444444444,\"#bd3786\"],[0.5555555555555556,\"#d8576b\"],[0.6666666666666666,\"#ed7953\"],[0.7777777777777778,\"#fb9f3a\"],[0.8888888888888888,\"#fdca26\"],[1.0,\"#f0f921\"]],\"type\":\"heatmap\"}],\"histogram2dcontour\":[{\"colorbar\":{\"outlinewidth\":0,\"ticks\":\"\"},\"colorscale\":[[0.0,\"#0d0887\"],[0.1111111111111111,\"#46039f\"],[0.2222222222222222,\"#7201a8\"],[0.3333333333333333,\"#9c179e\"],[0.4444444444444444,\"#bd3786\"],[0.5555555555555556,\"#d8576b\"],[0.6666666666666666,\"#ed7953\"],[0.7777777777777778,\"#fb9f3a\"],[0.8888888888888888,\"#fdca26\"],[1.0,\"#f0f921\"]],\"type\":\"histogram2dcontour\"}],\"histogram2d\":[{\"colorbar\":{\"outlinewidth\":0,\"ticks\":\"\"},\"colorscale\":[[0.0,\"#0d0887\"],[0.1111111111111111,\"#46039f\"],[0.2222222222222222,\"#7201a8\"],[0.3333333333333333,\"#9c179e\"],[0.4444444444444444,\"#bd3786\"],[0.5555555555555556,\"#d8576b\"],[0.6666666666666666,\"#ed7953\"],[0.7777777777777778,\"#fb9f3a\"],[0.8888888888888888,\"#fdca26\"],[1.0,\"#f0f921\"]],\"type\":\"histogram2d\"}],\"histogram\":[{\"marker\":{\"pattern\":{\"fillmode\":\"overlay\",\"size\":10,\"solidity\":0.2}},\"type\":\"histogram\"}],\"mesh3d\":[{\"colorbar\":{\"outlinewidth\":0,\"ticks\":\"\"},\"type\":\"mesh3d\"}],\"parcoords\":[{\"line\":{\"colorbar\":{\"outlinewidth\":0,\"ticks\":\"\"}},\"type\":\"parcoords\"}],\"pie\":[{\"automargin\":true,\"type\":\"pie\"}],\"scatter3d\":[{\"line\":{\"colorbar\":{\"outlinewidth\":0,\"ticks\":\"\"}},\"marker\":{\"colorbar\":{\"outlinewidth\":0,\"ticks\":\"\"}},\"type\":\"scatter3d\"}],\"scattercarpet\":[{\"marker\":{\"colorbar\":{\"outlinewidth\":0,\"ticks\":\"\"}},\"type\":\"scattercarpet\"}],\"scattergeo\":[{\"marker\":{\"colorbar\":{\"outlinewidth\":0,\"ticks\":\"\"}},\"type\":\"scattergeo\"}],\"scattergl\":[{\"marker\":{\"colorbar\":{\"outlinewidth\":0,\"ticks\":\"\"}},\"type\":\"scattergl\"}],\"scattermapbox\":[{\"marker\":{\"colorbar\":{\"outlinewidth\":0,\"ticks\":\"\"}},\"type\":\"scattermapbox\"}],\"scatterpolargl\":[{\"marker\":{\"colorbar\":{\"outlinewidth\":0,\"ticks\":\"\"}},\"type\":\"scatterpolargl\"}],\"scatterpolar\":[{\"marker\":{\"colorbar\":{\"outlinewidth\":0,\"ticks\":\"\"}},\"type\":\"scatterpolar\"}],\"scatter\":[{\"fillpattern\":{\"fillmode\":\"overlay\",\"size\":10,\"solidity\":0.2},\"type\":\"scatter\"}],\"scatterternary\":[{\"marker\":{\"colorbar\":{\"outlinewidth\":0,\"ticks\":\"\"}},\"type\":\"scatterternary\"}],\"surface\":[{\"colorbar\":{\"outlinewidth\":0,\"ticks\":\"\"},\"colorscale\":[[0.0,\"#0d0887\"],[0.1111111111111111,\"#46039f\"],[0.2222222222222222,\"#7201a8\"],[0.3333333333333333,\"#9c179e\"],[0.4444444444444444,\"#bd3786\"],[0.5555555555555556,\"#d8576b\"],[0.6666666666666666,\"#ed7953\"],[0.7777777777777778,\"#fb9f3a\"],[0.8888888888888888,\"#fdca26\"],[1.0,\"#f0f921\"]],\"type\":\"surface\"}],\"table\":[{\"cells\":{\"fill\":{\"color\":\"#EBF0F8\"},\"line\":{\"color\":\"white\"}},\"header\":{\"fill\":{\"color\":\"#C8D4E3\"},\"line\":{\"color\":\"white\"}},\"type\":\"table\"}]},\"layout\":{\"annotationdefaults\":{\"arrowcolor\":\"#2a3f5f\",\"arrowhead\":0,\"arrowwidth\":1},\"autotypenumbers\":\"strict\",\"coloraxis\":{\"colorbar\":{\"outlinewidth\":0,\"ticks\":\"\"}},\"colorscale\":{\"diverging\":[[0,\"#8e0152\"],[0.1,\"#c51b7d\"],[0.2,\"#de77ae\"],[0.3,\"#f1b6da\"],[0.4,\"#fde0ef\"],[0.5,\"#f7f7f7\"],[0.6,\"#e6f5d0\"],[0.7,\"#b8e186\"],[0.8,\"#7fbc41\"],[0.9,\"#4d9221\"],[1,\"#276419\"]],\"sequential\":[[0.0,\"#0d0887\"],[0.1111111111111111,\"#46039f\"],[0.2222222222222222,\"#7201a8\"],[0.3333333333333333,\"#9c179e\"],[0.4444444444444444,\"#bd3786\"],[0.5555555555555556,\"#d8576b\"],[0.6666666666666666,\"#ed7953\"],[0.7777777777777778,\"#fb9f3a\"],[0.8888888888888888,\"#fdca26\"],[1.0,\"#f0f921\"]],\"sequentialminus\":[[0.0,\"#0d0887\"],[0.1111111111111111,\"#46039f\"],[0.2222222222222222,\"#7201a8\"],[0.3333333333333333,\"#9c179e\"],[0.4444444444444444,\"#bd3786\"],[0.5555555555555556,\"#d8576b\"],[0.6666666666666666,\"#ed7953\"],[0.7777777777777778,\"#fb9f3a\"],[0.8888888888888888,\"#fdca26\"],[1.0,\"#f0f921\"]]},\"colorway\":[\"#636efa\",\"#EF553B\",\"#00cc96\",\"#ab63fa\",\"#FFA15A\",\"#19d3f3\",\"#FF6692\",\"#B6E880\",\"#FF97FF\",\"#FECB52\"],\"font\":{\"color\":\"#2a3f5f\"},\"geo\":{\"bgcolor\":\"white\",\"lakecolor\":\"white\",\"landcolor\":\"white\",\"showlakes\":true,\"showland\":true,\"subunitcolor\":\"#C8D4E3\"},\"hoverlabel\":{\"align\":\"left\"},\"hovermode\":\"closest\",\"mapbox\":{\"style\":\"light\"},\"paper_bgcolor\":\"white\",\"plot_bgcolor\":\"white\",\"polar\":{\"angularaxis\":{\"gridcolor\":\"#EBF0F8\",\"linecolor\":\"#EBF0F8\",\"ticks\":\"\"},\"bgcolor\":\"white\",\"radialaxis\":{\"gridcolor\":\"#EBF0F8\",\"linecolor\":\"#EBF0F8\",\"ticks\":\"\"}},\"scene\":{\"xaxis\":{\"backgroundcolor\":\"white\",\"gridcolor\":\"#DFE8F3\",\"gridwidth\":2,\"linecolor\":\"#EBF0F8\",\"showbackground\":true,\"ticks\":\"\",\"zerolinecolor\":\"#EBF0F8\"},\"yaxis\":{\"backgroundcolor\":\"white\",\"gridcolor\":\"#DFE8F3\",\"gridwidth\":2,\"linecolor\":\"#EBF0F8\",\"showbackground\":true,\"ticks\":\"\",\"zerolinecolor\":\"#EBF0F8\"},\"zaxis\":{\"backgroundcolor\":\"white\",\"gridcolor\":\"#DFE8F3\",\"gridwidth\":2,\"linecolor\":\"#EBF0F8\",\"showbackground\":true,\"ticks\":\"\",\"zerolinecolor\":\"#EBF0F8\"}},\"shapedefaults\":{\"line\":{\"color\":\"#2a3f5f\"}},\"ternary\":{\"aaxis\":{\"gridcolor\":\"#DFE8F3\",\"linecolor\":\"#A2B1C6\",\"ticks\":\"\"},\"baxis\":{\"gridcolor\":\"#DFE8F3\",\"linecolor\":\"#A2B1C6\",\"ticks\":\"\"},\"bgcolor\":\"white\",\"caxis\":{\"gridcolor\":\"#DFE8F3\",\"linecolor\":\"#A2B1C6\",\"ticks\":\"\"}},\"title\":{\"x\":0.05},\"xaxis\":{\"automargin\":true,\"gridcolor\":\"#EBF0F8\",\"linecolor\":\"#EBF0F8\",\"ticks\":\"\",\"title\":{\"standoff\":15},\"zerolinecolor\":\"#EBF0F8\",\"zerolinewidth\":2},\"yaxis\":{\"automargin\":true,\"gridcolor\":\"#EBF0F8\",\"linecolor\":\"#EBF0F8\",\"ticks\":\"\",\"title\":{\"standoff\":15},\"zerolinecolor\":\"#EBF0F8\",\"zerolinewidth\":2}}},\"xaxis\":{\"anchor\":\"y\",\"domain\":[0.0,1.0],\"title\":{\"text\":\"score\"},\"tickvals\":[-0.4,-0.19999999999999996,0.0,0.19999999999999996,0.3999999999999999,0.6000000000000001,0.8,1.0,1.2000000000000002,1.4,1.6,0.0],\"ticktext\":[0.6,0.8,1.0,1.2,1.4,1.6,1.8,2.0,2.2,2.4,2.6,1.0],\"range\":[-0.21999999999999997,1.7]},\"yaxis\":{\"anchor\":\"x\",\"domain\":[0.0,0.144],\"title\":{\"text\":\"\"},\"tickvals\":[0.5],\"ticktext\":[\"young\"],\"range\":[0,1],\"showgrid\":false,\"zeroline\":false},\"xaxis2\":{\"anchor\":\"y2\",\"domain\":[0.0,1.0],\"matches\":\"x\",\"showticklabels\":false,\"tickvals\":[-0.4,-0.19999999999999996,0.0,0.19999999999999996,0.3999999999999999,0.6000000000000001,0.8,1.0,1.2000000000000002,1.4,1.6,0.0],\"ticktext\":[0.6,0.8,1.0,1.2,1.4,1.6,1.8,2.0,2.2,2.4,2.6,1.0],\"range\":[-0.21999999999999997,1.7]},\"yaxis2\":{\"anchor\":\"x2\",\"domain\":[0.214,0.358],\"matches\":\"y\",\"title\":{\"text\":\"\"},\"tickvals\":[0.5],\"ticktext\":[\"young\"],\"range\":[0,1],\"showgrid\":false,\"zeroline\":false},\"xaxis3\":{\"anchor\":\"y3\",\"domain\":[0.0,1.0],\"matches\":\"x\",\"showticklabels\":false,\"tickvals\":[-0.4,-0.19999999999999996,0.0,0.19999999999999996,0.3999999999999999,0.6000000000000001,0.8,1.0,1.2000000000000002,1.4,1.6,0.0],\"ticktext\":[0.6,0.8,1.0,1.2,1.4,1.6,1.8,2.0,2.2,2.4,2.6,1.0],\"range\":[-0.21999999999999997,1.7]},\"yaxis3\":{\"anchor\":\"x3\",\"domain\":[0.428,0.572],\"matches\":\"y\",\"title\":{\"text\":\"subgroup\"},\"tickvals\":[0.5],\"ticktext\":[\"young\"],\"range\":[0,1],\"showgrid\":false,\"zeroline\":false},\"xaxis4\":{\"anchor\":\"y4\",\"domain\":[0.0,1.0],\"matches\":\"x\",\"showticklabels\":false,\"tickvals\":[-0.4,-0.19999999999999996,0.0,0.19999999999999996,0.3999999999999999,0.6000000000000001,0.8,1.0,1.2000000000000002,1.4,1.6,0.0],\"ticktext\":[0.6,0.8,1.0,1.2,1.4,1.6,1.8,2.0,2.2,2.4,2.6,1.0],\"range\":[-0.21999999999999997,1.7]},\"yaxis4\":{\"anchor\":\"x4\",\"domain\":[0.6419999999999999,0.7859999999999999],\"matches\":\"y\",\"title\":{\"text\":\"\"},\"tickvals\":[0.5],\"ticktext\":[\"young\"],\"range\":[0,1],\"showgrid\":false,\"zeroline\":false},\"xaxis5\":{\"anchor\":\"y5\",\"domain\":[0.0,1.0],\"matches\":\"x\",\"showticklabels\":false,\"tickvals\":[-0.4,-0.19999999999999996,0.0,0.19999999999999996,0.3999999999999999,0.6000000000000001,0.8,1.0,1.2000000000000002,1.4,1.6,0.0],\"ticktext\":[0.6,0.8,1.0,1.2,1.4,1.6,1.8,2.0,2.2,2.4,2.6,1.0],\"range\":[-0.21999999999999997,1.7]},\"yaxis5\":{\"anchor\":\"x5\",\"domain\":[0.856,1.0],\"matches\":\"y\",\"title\":{\"text\":\"\"},\"tickvals\":[0.5],\"ticktext\":[\"young\"],\"range\":[0,1],\"showgrid\":false,\"zeroline\":false},\"annotations\":[{\"font\":{\"size\":15},\"showarrow\":false,\"text\":\"Statistical parity ratio   (TP + FP)\\u002f(TP + FP + TN + FN)\",\"x\":0.05,\"xanchor\":\"left\",\"xref\":\"paper\",\"y\":0.144,\"yanchor\":\"bottom\",\"yref\":\"paper\"},{\"font\":{\"size\":15},\"showarrow\":false,\"text\":\"Accuracy equality ratio    (TP + TN)\\u002f(TP + FP + TN + FN)\",\"x\":0.05,\"xanchor\":\"left\",\"xref\":\"paper\",\"y\":0.358,\"yanchor\":\"bottom\",\"yref\":\"paper\"},{\"font\":{\"size\":15},\"showarrow\":false,\"text\":\"Predictive equality ratio   FP\\u002f(FP + TN)\",\"x\":0.05,\"xanchor\":\"left\",\"xref\":\"paper\",\"y\":0.572,\"yanchor\":\"bottom\",\"yref\":\"paper\"},{\"font\":{\"size\":15},\"showarrow\":false,\"text\":\"Predictive parity ratio     TP\\u002f(TP + FP)\",\"x\":0.05,\"xanchor\":\"left\",\"xref\":\"paper\",\"y\":0.7859999999999999,\"yanchor\":\"bottom\",\"yref\":\"paper\"},{\"font\":{\"size\":15},\"showarrow\":false,\"text\":\"Equal opportunity ratio     TP\\u002f(TP + FN)\",\"x\":0.05,\"xanchor\":\"left\",\"xref\":\"paper\",\"y\":1.0,\"yanchor\":\"bottom\",\"yref\":\"paper\"}],\"legend\":{\"title\":{\"text\":\"label\"},\"tracegroupgap\":0,\"yanchor\":\"top\",\"y\":0.99,\"xanchor\":\"right\",\"x\":0.99},\"margin\":{\"t\":78,\"b\":71,\"r\":30},\"barmode\":\"group\",\"shapes\":[{\"fillcolor\":\"#f05a71\",\"layer\":\"below\",\"line\":{\"width\":0},\"opacity\":0.1,\"type\":\"rect\",\"x0\":0.25,\"x1\":1.7,\"xref\":\"x\",\"y0\":0,\"y1\":1,\"yref\":\"y\"},{\"fillcolor\":\"#f05a71\",\"layer\":\"below\",\"line\":{\"width\":0},\"opacity\":0.1,\"type\":\"rect\",\"x0\":-0.21999999999999997,\"x1\":-0.19999999999999996,\"xref\":\"x\",\"y0\":0,\"y1\":1,\"yref\":\"y\"},{\"fillcolor\":\"#c7f5bf\",\"layer\":\"below\",\"line\":{\"width\":0},\"opacity\":0.1,\"type\":\"rect\",\"x0\":-0.19999999999999996,\"x1\":0.25,\"xref\":\"x\",\"y0\":0,\"y1\":1,\"yref\":\"y\"},{\"line\":{\"color\":\"#371ea3\",\"width\":1.5},\"type\":\"line\",\"x0\":0,\"x1\":0,\"xref\":\"x\",\"y0\":0,\"y1\":1,\"yref\":\"y\"},{\"fillcolor\":\"#f05a71\",\"layer\":\"below\",\"line\":{\"width\":0},\"opacity\":0.1,\"type\":\"rect\",\"x0\":0.25,\"x1\":1.7,\"xref\":\"x\",\"y0\":0,\"y1\":1,\"yref\":\"y2\"},{\"fillcolor\":\"#f05a71\",\"layer\":\"below\",\"line\":{\"width\":0},\"opacity\":0.1,\"type\":\"rect\",\"x0\":-0.21999999999999997,\"x1\":-0.19999999999999996,\"xref\":\"x\",\"y0\":0,\"y1\":1,\"yref\":\"y2\"},{\"fillcolor\":\"#c7f5bf\",\"layer\":\"below\",\"line\":{\"width\":0},\"opacity\":0.1,\"type\":\"rect\",\"x0\":-0.19999999999999996,\"x1\":0.25,\"xref\":\"x\",\"y0\":0,\"y1\":1,\"yref\":\"y2\"},{\"line\":{\"color\":\"#371ea3\",\"width\":1.5},\"type\":\"line\",\"x0\":0,\"x1\":0,\"xref\":\"x\",\"y0\":0,\"y1\":1,\"yref\":\"y2\"},{\"fillcolor\":\"#f05a71\",\"layer\":\"below\",\"line\":{\"width\":0},\"opacity\":0.1,\"type\":\"rect\",\"x0\":0.25,\"x1\":1.7,\"xref\":\"x\",\"y0\":0,\"y1\":1,\"yref\":\"y3\"},{\"fillcolor\":\"#f05a71\",\"layer\":\"below\",\"line\":{\"width\":0},\"opacity\":0.1,\"type\":\"rect\",\"x0\":-0.21999999999999997,\"x1\":-0.19999999999999996,\"xref\":\"x\",\"y0\":0,\"y1\":1,\"yref\":\"y3\"},{\"fillcolor\":\"#c7f5bf\",\"layer\":\"below\",\"line\":{\"width\":0},\"opacity\":0.1,\"type\":\"rect\",\"x0\":-0.19999999999999996,\"x1\":0.25,\"xref\":\"x\",\"y0\":0,\"y1\":1,\"yref\":\"y3\"},{\"line\":{\"color\":\"#371ea3\",\"width\":1.5},\"type\":\"line\",\"x0\":0,\"x1\":0,\"xref\":\"x\",\"y0\":0,\"y1\":1,\"yref\":\"y3\"},{\"fillcolor\":\"#f05a71\",\"layer\":\"below\",\"line\":{\"width\":0},\"opacity\":0.1,\"type\":\"rect\",\"x0\":0.25,\"x1\":1.7,\"xref\":\"x\",\"y0\":0,\"y1\":1,\"yref\":\"y4\"},{\"fillcolor\":\"#f05a71\",\"layer\":\"below\",\"line\":{\"width\":0},\"opacity\":0.1,\"type\":\"rect\",\"x0\":-0.21999999999999997,\"x1\":-0.19999999999999996,\"xref\":\"x\",\"y0\":0,\"y1\":1,\"yref\":\"y4\"},{\"fillcolor\":\"#c7f5bf\",\"layer\":\"below\",\"line\":{\"width\":0},\"opacity\":0.1,\"type\":\"rect\",\"x0\":-0.19999999999999996,\"x1\":0.25,\"xref\":\"x\",\"y0\":0,\"y1\":1,\"yref\":\"y4\"},{\"line\":{\"color\":\"#371ea3\",\"width\":1.5},\"type\":\"line\",\"x0\":0,\"x1\":0,\"xref\":\"x\",\"y0\":0,\"y1\":1,\"yref\":\"y4\"},{\"fillcolor\":\"#f05a71\",\"layer\":\"below\",\"line\":{\"width\":0},\"opacity\":0.1,\"type\":\"rect\",\"x0\":0.25,\"x1\":1.7,\"y0\":0,\"y1\":1,\"yref\":\"y5\",\"xref\":\"x\"},{\"fillcolor\":\"#f05a71\",\"layer\":\"below\",\"line\":{\"width\":0},\"opacity\":0.1,\"type\":\"rect\",\"x0\":-0.21999999999999997,\"x1\":-0.19999999999999996,\"y0\":0,\"y1\":1,\"yref\":\"y5\",\"xref\":\"x\"},{\"fillcolor\":\"#c7f5bf\",\"layer\":\"below\",\"line\":{\"width\":0},\"opacity\":0.1,\"type\":\"rect\",\"x0\":-0.19999999999999996,\"x1\":0.25,\"y0\":0,\"y1\":1,\"yref\":\"y5\",\"xref\":\"x\"},{\"line\":{\"color\":\"#371ea3\",\"width\":1.5},\"type\":\"line\",\"x0\":0,\"x1\":0,\"xref\":\"x\",\"y0\":0,\"y1\":1,\"yref\":\"y5\"}],\"title\":{\"font\":{\"size\":25},\"text\":\"Fairness Check\",\"x\":0.5,\"y\":0.99},\"font\":{\"color\":\"#371ea3\"},\"autosize\":false,\"width\":800,\"height\":450},                        {\"responsive\": true}                    ).then(function(){\n",
       "                            \n",
       "var gd = document.getElementById('836564e1-17a3-4eee-bf92-8765f5f0c641');\n",
       "var x = new MutationObserver(function (mutations, observer) {{\n",
       "        var display = window.getComputedStyle(gd).display;\n",
       "        if (!display || display === 'none') {{\n",
       "            console.log([gd, 'removed!']);\n",
       "            Plotly.purge(gd);\n",
       "            observer.disconnect();\n",
       "        }}\n",
       "}});\n",
       "\n",
       "// Listen for the removal of the full notebook cells\n",
       "var notebookContainer = gd.closest('#notebook-container');\n",
       "if (notebookContainer) {{\n",
       "    x.observe(notebookContainer, {childList: true});\n",
       "}}\n",
       "\n",
       "// Listen for the clearing of the current output cell\n",
       "var outputEl = gd.closest('.output');\n",
       "if (outputEl) {{\n",
       "    x.observe(outputEl, {childList: true});\n",
       "}}\n",
       "\n",
       "                        })                };                });            </script>        </div>"
      ]
     },
     "metadata": {},
     "output_type": "display_data"
    }
   ],
   "source": [
    "fobject.plot([fobject_without_prot, fobject_reweight], show=False).\\\n",
    "    update_layout(autosize=False, width=800, height=450, legend=dict(yanchor=\"top\", y=0.99, xanchor=\"right\", x=0.99))\n"
   ]
  },
  {
   "cell_type": "code",
   "execution_count": 337,
   "metadata": {},
   "outputs": [
    {
     "data": {
      "text/html": [
       "<div>\n",
       "<style scoped>\n",
       "    .dataframe tbody tr th:only-of-type {\n",
       "        vertical-align: middle;\n",
       "    }\n",
       "\n",
       "    .dataframe tbody tr th {\n",
       "        vertical-align: top;\n",
       "    }\n",
       "\n",
       "    .dataframe thead th {\n",
       "        text-align: right;\n",
       "    }\n",
       "</style>\n",
       "<table border=\"1\" class=\"dataframe\">\n",
       "  <thead>\n",
       "    <tr style=\"text-align: right;\">\n",
       "      <th></th>\n",
       "      <th>recall</th>\n",
       "      <th>precision</th>\n",
       "      <th>f1</th>\n",
       "      <th>accuracy</th>\n",
       "      <th>auc</th>\n",
       "    </tr>\n",
       "  </thead>\n",
       "  <tbody>\n",
       "    <tr>\n",
       "      <th>XGBClassifier</th>\n",
       "      <td>0.188385</td>\n",
       "      <td>0.529880</td>\n",
       "      <td>0.277952</td>\n",
       "      <td>0.931056</td>\n",
       "      <td>0.839314</td>\n",
       "    </tr>\n",
       "    <tr>\n",
       "      <th>XGBClassifier with max_depth=2</th>\n",
       "      <td>0.185080</td>\n",
       "      <td>0.598473</td>\n",
       "      <td>0.282726</td>\n",
       "      <td>0.933850</td>\n",
       "      <td>0.853459</td>\n",
       "    </tr>\n",
       "    <tr>\n",
       "      <th>XGBClassifier without the protected attribute</th>\n",
       "      <td>0.188385</td>\n",
       "      <td>0.537736</td>\n",
       "      <td>0.279021</td>\n",
       "      <td>0.931422</td>\n",
       "      <td>0.835006</td>\n",
       "    </tr>\n",
       "    <tr>\n",
       "      <th>XGBClassifier with Reweight mitigation</th>\n",
       "      <td>0.172805</td>\n",
       "      <td>0.524355</td>\n",
       "      <td>0.259943</td>\n",
       "      <td>0.930690</td>\n",
       "      <td>0.833640</td>\n",
       "    </tr>\n",
       "  </tbody>\n",
       "</table>\n",
       "</div>"
      ],
      "text/plain": [
       "                                                 recall  precision        f1  \\\n",
       "XGBClassifier                                  0.188385   0.529880  0.277952   \n",
       "XGBClassifier with max_depth=2                 0.185080   0.598473  0.282726   \n",
       "XGBClassifier without the protected attribute  0.188385   0.537736  0.279021   \n",
       "XGBClassifier with Reweight mitigation         0.172805   0.524355  0.259943   \n",
       "\n",
       "                                               accuracy       auc  \n",
       "XGBClassifier                                  0.931056  0.839314  \n",
       "XGBClassifier with max_depth=2                 0.933850  0.853459  \n",
       "XGBClassifier without the protected attribute  0.931422  0.835006  \n",
       "XGBClassifier with Reweight mitigation         0.930690  0.833640  "
      ]
     },
     "execution_count": 337,
     "metadata": {},
     "output_type": "execute_result"
    }
   ],
   "source": [
    "pd.concat([\n",
    "    explainer.model_performance().result,\n",
    "    explainer_different.model_performance().result,\n",
    "    explainer_without_prot.model_performance().result, \n",
    "    explainer_reweight.model_performance().result,\n",
    "], axis=0)"
   ]
  },
  {
   "cell_type": "code",
   "execution_count": null,
   "metadata": {},
   "outputs": [],
   "source": []
  }
 ],
 "metadata": {
  "kernelspec": {
   "display_name": "Python 3 (ipykernel)",
   "language": "python",
   "name": "python3"
  },
  "language_info": {
   "codemirror_mode": {
    "name": "ipython",
    "version": 3
   },
   "file_extension": ".py",
   "mimetype": "text/x-python",
   "name": "python",
   "nbconvert_exporter": "python",
   "pygments_lexer": "ipython3",
   "version": "3.9.17"
  }
 },
 "nbformat": 4,
 "nbformat_minor": 4
}
